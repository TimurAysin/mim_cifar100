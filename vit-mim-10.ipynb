{
 "cells": [
  {
   "cell_type": "code",
   "execution_count": 1,
   "metadata": {
    "execution": {
     "iopub.execute_input": "2024-06-11T16:43:39.754736Z",
     "iopub.status.busy": "2024-06-11T16:43:39.753398Z",
     "iopub.status.idle": "2024-06-11T16:44:26.439960Z",
     "shell.execute_reply": "2024-06-11T16:44:26.439180Z",
     "shell.execute_reply.started": "2024-06-11T16:43:39.754687Z"
    },
    "tags": []
   },
   "outputs": [
    {
     "name": "stderr",
     "output_type": "stream",
     "text": [
      "/home/jupyter/.local/lib/python3.10/site-packages/transformers/utils/hub.py:127: FutureWarning: Using `TRANSFORMERS_CACHE` is deprecated and will be removed in v5 of Transformers. Use `HF_HOME` instead.\n",
      "  warnings.warn(\n",
      "2024-06-11 16:43:59.080930: I tensorflow/core/util/port.cc:110] oneDNN custom operations are on. You may see slightly different numerical results due to floating-point round-off errors from different computation orders. To turn them off, set the environment variable `TF_ENABLE_ONEDNN_OPTS=0`.\n",
      "2024-06-11 16:44:03.257673: I tensorflow/core/platform/cpu_feature_guard.cc:182] This TensorFlow binary is optimized to use available CPU instructions in performance-critical operations.\n",
      "To enable the following instructions: AVX2 AVX512F AVX512_VNNI FMA, in other operations, rebuild TensorFlow with the appropriate compiler flags.\n",
      "2024-06-11 16:44:11.449969: W tensorflow/compiler/tf2tensorrt/utils/py_utils.cc:38] TF-TRT Warning: Could not find TensorRT\n"
     ]
    }
   ],
   "source": [
    "from transformers import ViTConfig, ViTModel, ViTImageProcessor, ViTForImageClassification, ViTForMaskedImageModeling"
   ]
  },
  {
   "cell_type": "code",
   "execution_count": 2,
   "metadata": {
    "execution": {
     "iopub.execute_input": "2024-06-11T16:44:26.445395Z",
     "iopub.status.busy": "2024-06-11T16:44:26.444756Z",
     "iopub.status.idle": "2024-06-11T16:44:26.463243Z",
     "shell.execute_reply": "2024-06-11T16:44:26.462009Z",
     "shell.execute_reply.started": "2024-06-11T16:44:26.445346Z"
    },
    "tags": []
   },
   "outputs": [
    {
     "data": {
      "text/plain": [
       "ViTImageProcessor {\n",
       "  \"_valid_processor_keys\": [\n",
       "    \"images\",\n",
       "    \"do_resize\",\n",
       "    \"size\",\n",
       "    \"resample\",\n",
       "    \"do_rescale\",\n",
       "    \"rescale_factor\",\n",
       "    \"do_normalize\",\n",
       "    \"image_mean\",\n",
       "    \"image_std\",\n",
       "    \"return_tensors\",\n",
       "    \"data_format\",\n",
       "    \"input_data_format\"\n",
       "  ],\n",
       "  \"do_normalize\": true,\n",
       "  \"do_rescale\": true,\n",
       "  \"do_resize\": true,\n",
       "  \"image_mean\": [\n",
       "    0.5,\n",
       "    0.5,\n",
       "    0.5\n",
       "  ],\n",
       "  \"image_processor_type\": \"ViTImageProcessor\",\n",
       "  \"image_std\": [\n",
       "    0.5,\n",
       "    0.5,\n",
       "    0.5\n",
       "  ],\n",
       "  \"resample\": 2,\n",
       "  \"rescale_factor\": 0.00392156862745098,\n",
       "  \"size\": {\n",
       "    \"height\": 64,\n",
       "    \"width\": 64\n",
       "  }\n",
       "}"
      ]
     },
     "execution_count": 2,
     "metadata": {},
     "output_type": "execute_result"
    }
   ],
   "source": [
    "IMAGE_SIZE = 64\n",
    "\n",
    "processor = ViTImageProcessor(size=IMAGE_SIZE)\n",
    "processor"
   ]
  },
  {
   "cell_type": "code",
   "execution_count": 3,
   "metadata": {
    "execution": {
     "iopub.execute_input": "2024-06-11T16:44:26.466250Z",
     "iopub.status.busy": "2024-06-11T16:44:26.465229Z",
     "iopub.status.idle": "2024-06-11T16:44:32.830819Z",
     "shell.execute_reply": "2024-06-11T16:44:32.830038Z",
     "shell.execute_reply.started": "2024-06-11T16:44:26.466208Z"
    },
    "tags": []
   },
   "outputs": [
    {
     "data": {
      "text/plain": [
       "Dataset({\n",
       "    features: ['img', 'fine_label', 'coarse_label'],\n",
       "    num_rows: 10000\n",
       "})"
      ]
     },
     "execution_count": 3,
     "metadata": {},
     "output_type": "execute_result"
    }
   ],
   "source": [
    "from datasets import load_dataset\n",
    "\n",
    "test_dataset = load_dataset(\"uoft-cs/cifar100\", split=\"test\")\n",
    "test_dataset"
   ]
  },
  {
   "cell_type": "code",
   "execution_count": 4,
   "metadata": {
    "execution": {
     "iopub.execute_input": "2024-06-11T16:44:32.833578Z",
     "iopub.status.busy": "2024-06-11T16:44:32.831860Z",
     "iopub.status.idle": "2024-06-11T16:44:36.641875Z",
     "shell.execute_reply": "2024-06-11T16:44:36.641151Z",
     "shell.execute_reply.started": "2024-06-11T16:44:32.833521Z"
    },
    "tags": []
   },
   "outputs": [
    {
     "data": {
      "text/plain": [
       "Dataset({\n",
       "    features: ['img', 'fine_label', 'coarse_label'],\n",
       "    num_rows: 50000\n",
       "})"
      ]
     },
     "execution_count": 4,
     "metadata": {},
     "output_type": "execute_result"
    }
   ],
   "source": [
    "train_dataset = load_dataset(\"uoft-cs/cifar100\", split=\"train\")\n",
    "train_dataset"
   ]
  },
  {
   "cell_type": "code",
   "execution_count": 5,
   "metadata": {
    "execution": {
     "iopub.execute_input": "2024-06-11T16:44:36.643290Z",
     "iopub.status.busy": "2024-06-11T16:44:36.642891Z",
     "iopub.status.idle": "2024-06-11T16:44:36.815392Z",
     "shell.execute_reply": "2024-06-11T16:44:36.814479Z",
     "shell.execute_reply.started": "2024-06-11T16:44:36.643263Z"
    },
    "tags": []
   },
   "outputs": [
    {
     "data": {
      "text/plain": [
       "Dataset({\n",
       "    features: ['img', 'fine_label', 'coarse_label'],\n",
       "    num_rows: 5000\n",
       "})"
      ]
     },
     "execution_count": 5,
     "metadata": {},
     "output_type": "execute_result"
    }
   ],
   "source": [
    "train_dataset_10 = train_dataset.train_test_split(train_size=0.1, shuffle=True, stratify_by_column=\"fine_label\")[\"train\"]\n",
    "train_dataset_10"
   ]
  },
  {
   "cell_type": "code",
   "execution_count": 6,
   "metadata": {
    "execution": {
     "iopub.execute_input": "2024-06-11T16:45:06.687312Z",
     "iopub.status.busy": "2024-06-11T16:45:06.686329Z",
     "iopub.status.idle": "2024-06-11T16:45:07.278472Z",
     "shell.execute_reply": "2024-06-11T16:45:07.277330Z",
     "shell.execute_reply.started": "2024-06-11T16:45:06.687274Z"
    },
    "tags": []
   },
   "outputs": [
    {
     "ename": "NameError",
     "evalue": "name 'dataset' is not defined",
     "output_type": "error",
     "traceback": [
      "\u001b[0;31m---------------------------------------------------------------------------\u001b[0m",
      "\u001b[0;31mNameError\u001b[0m                                 Traceback (most recent call last)",
      "\u001b[0;32m/tmp/ipykernel_3227/1804590294.py\u001b[0m in \u001b[0;36m<cell line: 6>\u001b[0;34m()\u001b[0m\n\u001b[1;32m      4\u001b[0m     \u001b[0;32mreturn\u001b[0m \u001b[0minputs\u001b[0m\u001b[0;34m\u001b[0m\u001b[0;34m\u001b[0m\u001b[0m\n\u001b[1;32m      5\u001b[0m \u001b[0;34m\u001b[0m\u001b[0m\n\u001b[0;32m----> 6\u001b[0;31m \u001b[0mprocess_example\u001b[0m\u001b[0;34m(\u001b[0m\u001b[0mdataset\u001b[0m\u001b[0;34m[\u001b[0m\u001b[0;34m\"train\"\u001b[0m\u001b[0;34m]\u001b[0m\u001b[0;34m[\u001b[0m\u001b[0;36m0\u001b[0m\u001b[0;34m]\u001b[0m\u001b[0;34m)\u001b[0m\u001b[0;34m\u001b[0m\u001b[0;34m\u001b[0m\u001b[0m\n\u001b[0m",
      "\u001b[0;31mNameError\u001b[0m: name 'dataset' is not defined"
     ]
    }
   ],
   "source": [
    "def process_example(example):\n",
    "    inputs = processor(example['img'], return_tensors='pt')\n",
    "    inputs['labels'] = example['fine_label']\n",
    "    return inputs\n",
    "\n",
    "process_example(dataset[\"train\"][0])"
   ]
  },
  {
   "cell_type": "code",
   "execution_count": 7,
   "metadata": {
    "execution": {
     "iopub.execute_input": "2024-06-11T16:45:11.269283Z",
     "iopub.status.busy": "2024-06-11T16:45:11.268368Z",
     "iopub.status.idle": "2024-06-11T16:45:11.301434Z",
     "shell.execute_reply": "2024-06-11T16:45:11.300629Z",
     "shell.execute_reply.started": "2024-06-11T16:45:11.269239Z"
    },
    "tags": []
   },
   "outputs": [],
   "source": [
    "def transform(example_batch):\n",
    "    # Take a list of PIL images and turn them to pixel values\n",
    "    inputs = processor([x for x in example_batch['img']], return_tensors='pt')\n",
    "\n",
    "    # Don't forget to include the labels!\n",
    "    inputs['labels'] = example_batch['fine_label']\n",
    "    return inputs"
   ]
  },
  {
   "cell_type": "code",
   "execution_count": 13,
   "metadata": {
    "execution": {
     "iopub.execute_input": "2024-06-11T08:36:56.038686Z",
     "iopub.status.busy": "2024-06-11T08:36:56.037651Z",
     "iopub.status.idle": "2024-06-11T08:36:56.064527Z",
     "shell.execute_reply": "2024-06-11T08:36:56.063716Z",
     "shell.execute_reply.started": "2024-06-11T08:36:56.038647Z"
    },
    "tags": []
   },
   "outputs": [],
   "source": [
    "prepared_ds = dataset.with_transform(transform)"
   ]
  },
  {
   "cell_type": "code",
   "execution_count": 14,
   "metadata": {
    "execution": {
     "iopub.execute_input": "2024-06-11T08:36:56.532896Z",
     "iopub.status.busy": "2024-06-11T08:36:56.531505Z",
     "iopub.status.idle": "2024-06-11T08:36:56.555707Z",
     "shell.execute_reply": "2024-06-11T08:36:56.554826Z",
     "shell.execute_reply.started": "2024-06-11T08:36:56.532851Z"
    },
    "tags": []
   },
   "outputs": [
    {
     "data": {
      "text/plain": [
       "{'pixel_values': tensor([[[[ 1.0000,  1.0000,  1.0000,  ...,  0.6078,  0.4902,  0.4275],\n",
       "          [ 1.0000,  1.0000,  1.0000,  ...,  0.5137,  0.4118,  0.3569],\n",
       "          [ 1.0000,  1.0000,  0.9922,  ...,  0.3255,  0.2549,  0.2157],\n",
       "          ...,\n",
       "          [-0.1137, -0.1137, -0.1137,  ..., -0.1451,  0.0196,  0.0980],\n",
       "          [-0.2471, -0.2471, -0.2471,  ..., -0.1216,  0.0196,  0.0902],\n",
       "          [-0.3176, -0.3176, -0.3098,  ..., -0.1137,  0.0196,  0.0824]],\n",
       "\n",
       "         [[ 1.0000,  1.0000,  1.0000,  ...,  0.7020,  0.5843,  0.5216],\n",
       "          [ 1.0000,  1.0000,  1.0000,  ...,  0.6000,  0.4980,  0.4431],\n",
       "          [ 1.0000,  1.0000,  0.9922,  ...,  0.3961,  0.3255,  0.2863],\n",
       "          ...,\n",
       "          [ 0.1608,  0.1608,  0.1608,  ...,  0.0118,  0.2000,  0.2863],\n",
       "          [ 0.0275,  0.0275,  0.0275,  ...,  0.0824,  0.2549,  0.3333],\n",
       "          [-0.0431, -0.0431, -0.0431,  ...,  0.1216,  0.2784,  0.3569]],\n",
       "\n",
       "         [[ 1.0000,  1.0000,  1.0000,  ...,  0.5294,  0.3804,  0.3098],\n",
       "          [ 1.0000,  1.0000,  1.0000,  ...,  0.3961,  0.2627,  0.2078],\n",
       "          [ 1.0000,  1.0000,  0.9922,  ...,  0.1216,  0.0353, -0.0039],\n",
       "          ...,\n",
       "          [-0.5294, -0.5451, -0.5686,  ..., -0.4980, -0.3882, -0.3333],\n",
       "          [-0.6314, -0.6314, -0.6471,  ..., -0.4980, -0.4118, -0.3647],\n",
       "          [-0.6784, -0.6784, -0.6863,  ..., -0.4980, -0.4196, -0.3804]]],\n",
       "\n",
       "\n",
       "        [[[ 1.0000,  1.0000,  0.9922,  ...,  0.9922,  1.0000,  1.0000],\n",
       "          [ 1.0000,  1.0000,  0.9922,  ...,  0.9922,  1.0000,  1.0000],\n",
       "          [ 1.0000,  1.0000,  1.0000,  ...,  1.0000,  1.0000,  1.0000],\n",
       "          ...,\n",
       "          [ 1.0000,  1.0000,  1.0000,  ...,  1.0000,  1.0000,  1.0000],\n",
       "          [ 1.0000,  1.0000,  0.9922,  ...,  0.9922,  1.0000,  1.0000],\n",
       "          [ 1.0000,  1.0000,  0.9922,  ...,  0.9922,  1.0000,  1.0000]],\n",
       "\n",
       "         [[ 1.0000,  1.0000,  0.9922,  ...,  0.9922,  1.0000,  1.0000],\n",
       "          [ 1.0000,  1.0000,  0.9922,  ...,  0.9922,  1.0000,  1.0000],\n",
       "          [ 1.0000,  1.0000,  1.0000,  ...,  1.0000,  1.0000,  1.0000],\n",
       "          ...,\n",
       "          [ 1.0000,  1.0000,  1.0000,  ...,  1.0000,  1.0000,  1.0000],\n",
       "          [ 1.0000,  1.0000,  0.9922,  ...,  0.9922,  1.0000,  1.0000],\n",
       "          [ 1.0000,  1.0000,  0.9922,  ...,  0.9922,  1.0000,  1.0000]],\n",
       "\n",
       "         [[ 1.0000,  1.0000,  0.9922,  ...,  0.9922,  1.0000,  1.0000],\n",
       "          [ 1.0000,  1.0000,  0.9922,  ...,  0.9922,  1.0000,  1.0000],\n",
       "          [ 1.0000,  1.0000,  1.0000,  ...,  1.0000,  1.0000,  1.0000],\n",
       "          ...,\n",
       "          [ 1.0000,  1.0000,  1.0000,  ...,  1.0000,  1.0000,  1.0000],\n",
       "          [ 1.0000,  1.0000,  0.9922,  ...,  0.9922,  1.0000,  1.0000],\n",
       "          [ 1.0000,  1.0000,  0.9922,  ...,  0.9922,  1.0000,  1.0000]]]]), 'labels': [19, 29]}"
      ]
     },
     "execution_count": 14,
     "metadata": {},
     "output_type": "execute_result"
    }
   ],
   "source": [
    "prepared_ds[\"train\"][0:2]"
   ]
  },
  {
   "cell_type": "code",
   "execution_count": 8,
   "metadata": {
    "execution": {
     "iopub.execute_input": "2024-06-11T16:45:15.105054Z",
     "iopub.status.busy": "2024-06-11T16:45:15.104009Z",
     "iopub.status.idle": "2024-06-11T16:45:15.161029Z",
     "shell.execute_reply": "2024-06-11T16:45:15.160183Z",
     "shell.execute_reply.started": "2024-06-11T16:45:15.105009Z"
    },
    "tags": []
   },
   "outputs": [],
   "source": [
    "import torch\n",
    "\n",
    "def collate_fn(batch):\n",
    "    return {\n",
    "        'pixel_values': torch.stack([x['pixel_values'] for x in batch]),\n",
    "        'labels': torch.tensor([x['labels'] for x in batch])\n",
    "    }"
   ]
  },
  {
   "cell_type": "code",
   "execution_count": 9,
   "metadata": {
    "execution": {
     "iopub.execute_input": "2024-06-11T16:45:17.296143Z",
     "iopub.status.busy": "2024-06-11T16:45:17.295042Z",
     "iopub.status.idle": "2024-06-11T16:45:20.958323Z",
     "shell.execute_reply": "2024-06-11T16:45:20.957570Z",
     "shell.execute_reply.started": "2024-06-11T16:45:17.296097Z"
    },
    "tags": []
   },
   "outputs": [
    {
     "name": "stderr",
     "output_type": "stream",
     "text": [
      "/tmp/ipykernel_3227/311509507.py:4: FutureWarning: load_metric is deprecated and will be removed in the next major version of datasets. Use 'evaluate.load' instead, from the new library 🤗 Evaluate: https://huggingface.co/docs/evaluate\n",
      "  metric = load_metric(\"accuracy\")\n",
      "/home/jupyter/.local/lib/python3.10/site-packages/datasets/load.py:756: FutureWarning: The repository for accuracy contains custom code which must be executed to correctly load the metric. You can inspect the repository content at https://raw.githubusercontent.com/huggingface/datasets/2.18.0/metrics/accuracy/accuracy.py\n",
      "You can avoid this message in future by passing the argument `trust_remote_code=True`.\n",
      "Passing `trust_remote_code=True` will be mandatory to load this metric from the next major release of `datasets`.\n",
      "  warnings.warn(\n"
     ]
    }
   ],
   "source": [
    "import numpy as np\n",
    "from datasets import load_metric\n",
    "\n",
    "metric = load_metric(\"accuracy\")\n",
    "def compute_metrics(p):\n",
    "    return metric.compute(predictions=np.argmax(p.predictions, axis=1), references=p.label_ids)\n"
   ]
  },
  {
   "cell_type": "code",
   "execution_count": 17,
   "metadata": {
    "execution": {
     "iopub.execute_input": "2024-06-11T08:37:05.528878Z",
     "iopub.status.busy": "2024-06-11T08:37:05.527054Z",
     "iopub.status.idle": "2024-06-11T08:37:05.553509Z",
     "shell.execute_reply": "2024-06-11T08:37:05.552552Z",
     "shell.execute_reply.started": "2024-06-11T08:37:05.528835Z"
    },
    "tags": []
   },
   "outputs": [
    {
     "data": {
      "text/plain": [
       "{'img': Image(decode=True, id=None),\n",
       " 'fine_label': ClassLabel(names=['apple', 'aquarium_fish', 'baby', 'bear', 'beaver', 'bed', 'bee', 'beetle', 'bicycle', 'bottle', 'bowl', 'boy', 'bridge', 'bus', 'butterfly', 'camel', 'can', 'castle', 'caterpillar', 'cattle', 'chair', 'chimpanzee', 'clock', 'cloud', 'cockroach', 'couch', 'cra', 'crocodile', 'cup', 'dinosaur', 'dolphin', 'elephant', 'flatfish', 'forest', 'fox', 'girl', 'hamster', 'house', 'kangaroo', 'keyboard', 'lamp', 'lawn_mower', 'leopard', 'lion', 'lizard', 'lobster', 'man', 'maple_tree', 'motorcycle', 'mountain', 'mouse', 'mushroom', 'oak_tree', 'orange', 'orchid', 'otter', 'palm_tree', 'pear', 'pickup_truck', 'pine_tree', 'plain', 'plate', 'poppy', 'porcupine', 'possum', 'rabbit', 'raccoon', 'ray', 'road', 'rocket', 'rose', 'sea', 'seal', 'shark', 'shrew', 'skunk', 'skyscraper', 'snail', 'snake', 'spider', 'squirrel', 'streetcar', 'sunflower', 'sweet_pepper', 'table', 'tank', 'telephone', 'television', 'tiger', 'tractor', 'train', 'trout', 'tulip', 'turtle', 'wardrobe', 'whale', 'willow_tree', 'wolf', 'woman', 'worm'], id=None),\n",
       " 'coarse_label': ClassLabel(names=['aquatic_mammals', 'fish', 'flowers', 'food_containers', 'fruit_and_vegetables', 'household_electrical_devices', 'household_furniture', 'insects', 'large_carnivores', 'large_man-made_outdoor_things', 'large_natural_outdoor_scenes', 'large_omnivores_and_herbivores', 'medium_mammals', 'non-insect_invertebrates', 'people', 'reptiles', 'small_mammals', 'trees', 'vehicles_1', 'vehicles_2'], id=None)}"
      ]
     },
     "execution_count": 17,
     "metadata": {},
     "output_type": "execute_result"
    }
   ],
   "source": [
    "prepared_ds[\"train\"].features"
   ]
  },
  {
   "cell_type": "code",
   "execution_count": 33,
   "metadata": {
    "execution": {
     "iopub.execute_input": "2024-06-11T10:57:59.574666Z",
     "iopub.status.busy": "2024-06-11T10:57:59.573770Z",
     "iopub.status.idle": "2024-06-11T10:57:59.589829Z",
     "shell.execute_reply": "2024-06-11T10:57:59.589014Z",
     "shell.execute_reply.started": "2024-06-11T10:57:59.574622Z"
    },
    "tags": []
   },
   "outputs": [],
   "source": [
    "checkpoint = \"/home/jupyter/datasphere/project/vit/outputs_mim_tiny_imagenet/checkpoint-47880/\""
   ]
  },
  {
   "cell_type": "code",
   "execution_count": 62,
   "metadata": {
    "execution": {
     "iopub.execute_input": "2024-06-11T14:00:09.390601Z",
     "iopub.status.busy": "2024-06-11T14:00:09.389619Z",
     "iopub.status.idle": "2024-06-11T14:00:09.433864Z",
     "shell.execute_reply": "2024-06-11T14:00:09.432933Z",
     "shell.execute_reply.started": "2024-06-11T14:00:09.390563Z"
    },
    "tags": []
   },
   "outputs": [
    {
     "name": "stderr",
     "output_type": "stream",
     "text": [
      "Some weights of ViTForImageClassification were not initialized from the model checkpoint at /home/jupyter/datasphere/project/vit/outputs_mim_tiny_imagenet/checkpoint-47880/ and are newly initialized: ['classifier.bias', 'classifier.weight']\n",
      "You should probably TRAIN this model on a down-stream task to be able to use it for predictions and inference.\n"
     ]
    }
   ],
   "source": [
    "labels = prepared_ds['train'].features['fine_label'].names\n",
    "\n",
    "configuration = ViTConfig.from_pretrained(checkpoint)\n",
    "\n",
    "model = ViTForImageClassification.from_pretrained(checkpoint)"
   ]
  },
  {
   "cell_type": "code",
   "execution_count": 10,
   "metadata": {
    "execution": {
     "iopub.execute_input": "2024-06-11T16:45:42.315476Z",
     "iopub.status.busy": "2024-06-11T16:45:42.314521Z",
     "iopub.status.idle": "2024-06-11T16:45:42.736387Z",
     "shell.execute_reply": "2024-06-11T16:45:42.735648Z",
     "shell.execute_reply.started": "2024-06-11T16:45:42.315430Z"
    },
    "tags": []
   },
   "outputs": [],
   "source": [
    "labels = test_dataset.features['fine_label'].names\n",
    "\n",
    "configuration = ViTConfig(\n",
    "    num_hidden_layers=3,\n",
    "    num_attention_heads=16,\n",
    "    hidden_size=512,\n",
    "    patch_size=4,\n",
    "    image_size=IMAGE_SIZE,\n",
    "    num_labels=len(labels),\n",
    "    id2label={str(i): c for i, c in enumerate(labels)},\n",
    "    label2id={c: str(i) for i, c in enumerate(labels)}\n",
    ")\n",
    "\n",
    "model = ViTForImageClassification(configuration)"
   ]
  },
  {
   "cell_type": "code",
   "execution_count": 11,
   "metadata": {
    "execution": {
     "iopub.execute_input": "2024-06-11T16:45:43.786530Z",
     "iopub.status.busy": "2024-06-11T16:45:43.785520Z",
     "iopub.status.idle": "2024-06-11T16:45:43.805183Z",
     "shell.execute_reply": "2024-06-11T16:45:43.804421Z",
     "shell.execute_reply.started": "2024-06-11T16:45:43.786488Z"
    },
    "tags": []
   },
   "outputs": [
    {
     "data": {
      "text/plain": [
       "12815460"
      ]
     },
     "execution_count": 11,
     "metadata": {},
     "output_type": "execute_result"
    }
   ],
   "source": [
    "sum(p.numel() for p in model.parameters() if p.requires_grad)"
   ]
  },
  {
   "cell_type": "code",
   "execution_count": 12,
   "metadata": {
    "execution": {
     "iopub.execute_input": "2024-06-11T16:45:49.455206Z",
     "iopub.status.busy": "2024-06-11T16:45:49.454532Z",
     "iopub.status.idle": "2024-06-11T16:45:49.739217Z",
     "shell.execute_reply": "2024-06-11T16:45:49.738357Z",
     "shell.execute_reply.started": "2024-06-11T16:45:49.455167Z"
    },
    "tags": []
   },
   "outputs": [
    {
     "name": "stderr",
     "output_type": "stream",
     "text": [
      "/home/jupyter/.local/lib/python3.10/site-packages/transformers/training_args.py:1493: FutureWarning: `evaluation_strategy` is deprecated and will be removed in version 4.46 of 🤗 Transformers. Use `eval_strategy` instead\n",
      "  warnings.warn(\n"
     ]
    }
   ],
   "source": [
    "from transformers import TrainingArguments\n",
    "\n",
    "training_args = TrainingArguments(\n",
    "  output_dir=\"./vit-mim-pretrained-10\",\n",
    "  per_device_train_batch_size=128,\n",
    "  per_device_eval_batch_size=128,\n",
    "  evaluation_strategy=\"epoch\",\n",
    "  save_strategy='epoch',\n",
    "  num_train_epochs=100,\n",
    "  logging_steps=10,\n",
    "  learning_rate=2e-5,\n",
    "  save_total_limit=2,\n",
    "  remove_unused_columns=False,\n",
    "  push_to_hub=False,\n",
    "  weight_decay=1e-4,\n",
    "  report_to='tensorboard',\n",
    "  load_best_model_at_end=True,\n",
    ")"
   ]
  },
  {
   "cell_type": "code",
   "execution_count": 14,
   "metadata": {
    "execution": {
     "iopub.execute_input": "2024-06-11T16:45:56.426504Z",
     "iopub.status.busy": "2024-06-11T16:45:56.425381Z",
     "iopub.status.idle": "2024-06-11T16:45:56.985115Z",
     "shell.execute_reply": "2024-06-11T16:45:56.984377Z",
     "shell.execute_reply.started": "2024-06-11T16:45:56.426459Z"
    },
    "tags": []
   },
   "outputs": [],
   "source": [
    "from transformers import Trainer\n",
    "\n",
    "trainer = Trainer(\n",
    "    model=model,\n",
    "    args=training_args,\n",
    "    data_collator=collate_fn,\n",
    "    train_dataset=train_dataset_10.with_transform(transform),\n",
    "    eval_dataset=test_dataset.with_transform(transform),\n",
    "    compute_metrics=compute_metrics,\n",
    "    tokenizer=processor\n",
    ")\n"
   ]
  },
  {
   "cell_type": "code",
   "execution_count": null,
   "metadata": {
    "execution": {
     "iopub.execute_input": "2024-06-11T16:45:57.692968Z",
     "iopub.status.busy": "2024-06-11T16:45:57.691906Z",
     "iopub.status.idle": "2024-06-11T17:47:02.816493Z"
    },
    "tags": []
   },
   "outputs": [
    {
     "name": "stderr",
     "output_type": "stream",
     "text": [
      "  0%|          | 10/4000 [00:13<57:44,  1.15it/s] "
     ]
    },
    {
     "name": "stdout",
     "output_type": "stream",
     "text": [
      "{'loss': 4.6049, 'grad_norm': 5.1431379318237305, 'learning_rate': 1.9950000000000004e-05, 'epoch': 0.25}\n"
     ]
    },
    {
     "name": "stderr",
     "output_type": "stream",
     "text": [
      "  0%|          | 20/4000 [00:21<53:47,  1.23it/s]"
     ]
    },
    {
     "name": "stdout",
     "output_type": "stream",
     "text": [
      "{'loss': 4.4323, 'grad_norm': 5.134486675262451, 'learning_rate': 1.9900000000000003e-05, 'epoch': 0.5}\n"
     ]
    },
    {
     "name": "stderr",
     "output_type": "stream",
     "text": [
      "  1%|          | 30/4000 [00:29<53:34,  1.23it/s]"
     ]
    },
    {
     "name": "stdout",
     "output_type": "stream",
     "text": [
      "{'loss': 4.3829, 'grad_norm': 4.820504665374756, 'learning_rate': 1.985e-05, 'epoch': 0.75}\n"
     ]
    },
    {
     "name": "stderr",
     "output_type": "stream",
     "text": [
      "  1%|          | 40/4000 [00:37<43:16,  1.53it/s]"
     ]
    },
    {
     "name": "stdout",
     "output_type": "stream",
     "text": [
      "{'loss': 4.3189, 'grad_norm': 19.782148361206055, 'learning_rate': 1.98e-05, 'epoch': 1.0}\n"
     ]
    },
    {
     "name": "stderr",
     "output_type": "stream",
     "text": [
      "\n",
      "  0%|          | 0/79 [00:00<?, ?it/s]\u001b[A\n",
      "  3%|▎         | 2/79 [00:00<00:12,  6.33it/s]\u001b[A\n",
      "  4%|▍         | 3/79 [00:00<00:17,  4.46it/s]\u001b[A\n",
      "  5%|▌         | 4/79 [00:00<00:19,  3.87it/s]\u001b[A\n",
      "  6%|▋         | 5/79 [00:01<00:20,  3.58it/s]\u001b[A\n",
      "  8%|▊         | 6/79 [00:01<00:21,  3.44it/s]\u001b[A\n",
      "  9%|▉         | 7/79 [00:01<00:21,  3.35it/s]\u001b[A\n",
      " 10%|█         | 8/79 [00:02<00:21,  3.30it/s]\u001b[A\n",
      " 11%|█▏        | 9/79 [00:02<00:21,  3.26it/s]\u001b[A\n",
      " 13%|█▎        | 10/79 [00:02<00:21,  3.24it/s]\u001b[A\n",
      " 14%|█▍        | 11/79 [00:03<00:21,  3.22it/s]\u001b[A\n",
      " 15%|█▌        | 12/79 [00:03<00:20,  3.21it/s]\u001b[A\n",
      " 16%|█▋        | 13/79 [00:03<00:20,  3.19it/s]\u001b[A\n",
      " 18%|█▊        | 14/79 [00:04<00:20,  3.19it/s]\u001b[A\n",
      " 19%|█▉        | 15/79 [00:04<00:20,  3.19it/s]\u001b[A\n",
      " 20%|██        | 16/79 [00:04<00:19,  3.19it/s]\u001b[A\n",
      " 22%|██▏       | 17/79 [00:05<00:19,  3.19it/s]\u001b[A\n",
      " 23%|██▎       | 18/79 [00:05<00:19,  3.17it/s]\u001b[A\n",
      " 24%|██▍       | 19/79 [00:05<00:18,  3.18it/s]\u001b[A\n",
      " 25%|██▌       | 20/79 [00:05<00:18,  3.18it/s]\u001b[A\n",
      " 27%|██▋       | 21/79 [00:06<00:18,  3.18it/s]\u001b[A\n",
      " 28%|██▊       | 22/79 [00:06<00:17,  3.17it/s]\u001b[A\n",
      " 29%|██▉       | 23/79 [00:06<00:17,  3.17it/s]\u001b[A\n",
      " 30%|███       | 24/79 [00:07<00:17,  3.17it/s]\u001b[A\n",
      " 32%|███▏      | 25/79 [00:07<00:17,  3.16it/s]\u001b[A\n",
      " 33%|███▎      | 26/79 [00:07<00:16,  3.16it/s]\u001b[A\n",
      " 34%|███▍      | 27/79 [00:08<00:16,  3.16it/s]\u001b[A\n",
      " 35%|███▌      | 28/79 [00:08<00:16,  3.15it/s]\u001b[A\n",
      " 37%|███▋      | 29/79 [00:08<00:15,  3.15it/s]\u001b[A\n",
      " 38%|███▊      | 30/79 [00:09<00:15,  3.15it/s]\u001b[A\n",
      " 39%|███▉      | 31/79 [00:09<00:15,  3.15it/s]\u001b[A\n",
      " 41%|████      | 32/79 [00:09<00:14,  3.14it/s]\u001b[A\n",
      " 42%|████▏     | 33/79 [00:10<00:14,  3.15it/s]\u001b[A\n",
      " 43%|████▎     | 34/79 [00:10<00:14,  3.15it/s]\u001b[A\n",
      " 44%|████▍     | 35/79 [00:10<00:13,  3.15it/s]\u001b[A\n",
      " 46%|████▌     | 36/79 [00:11<00:13,  3.14it/s]\u001b[A\n",
      " 47%|████▋     | 37/79 [00:11<00:13,  3.15it/s]\u001b[A\n",
      " 48%|████▊     | 38/79 [00:11<00:13,  3.15it/s]\u001b[A\n",
      " 49%|████▉     | 39/79 [00:12<00:12,  3.14it/s]\u001b[A\n",
      " 51%|█████     | 40/79 [00:12<00:12,  3.14it/s]\u001b[A\n",
      " 52%|█████▏    | 41/79 [00:12<00:12,  3.10it/s]\u001b[A\n",
      " 53%|█████▎    | 42/79 [00:12<00:11,  3.12it/s]\u001b[A\n",
      " 54%|█████▍    | 43/79 [00:13<00:11,  3.13it/s]\u001b[A\n",
      " 56%|█████▌    | 44/79 [00:13<00:11,  3.12it/s]\u001b[A\n",
      " 57%|█████▋    | 45/79 [00:13<00:10,  3.13it/s]\u001b[A\n",
      " 58%|█████▊    | 46/79 [00:14<00:10,  3.12it/s]\u001b[A\n",
      " 59%|█████▉    | 47/79 [00:14<00:10,  3.13it/s]\u001b[A\n",
      " 61%|██████    | 48/79 [00:14<00:09,  3.14it/s]\u001b[A\n",
      " 62%|██████▏   | 49/79 [00:15<00:09,  3.14it/s]\u001b[A\n",
      " 63%|██████▎   | 50/79 [00:15<00:09,  3.13it/s]\u001b[A\n",
      " 65%|██████▍   | 51/79 [00:15<00:08,  3.13it/s]\u001b[A\n",
      " 66%|██████▌   | 52/79 [00:16<00:08,  3.14it/s]\u001b[A\n",
      " 67%|██████▋   | 53/79 [00:16<00:08,  3.15it/s]\u001b[A\n",
      " 68%|██████▊   | 54/79 [00:16<00:07,  3.15it/s]\u001b[A\n",
      " 70%|██████▉   | 55/79 [00:17<00:07,  3.16it/s]\u001b[A\n",
      " 71%|███████   | 56/79 [00:17<00:07,  3.15it/s]\u001b[A\n",
      " 72%|███████▏  | 57/79 [00:17<00:06,  3.15it/s]\u001b[A\n",
      " 73%|███████▎  | 58/79 [00:18<00:06,  3.15it/s]\u001b[A\n",
      " 75%|███████▍  | 59/79 [00:18<00:06,  3.15it/s]\u001b[A\n",
      " 76%|███████▌  | 60/79 [00:18<00:06,  3.15it/s]\u001b[A\n",
      " 77%|███████▋  | 61/79 [00:19<00:05,  3.15it/s]\u001b[A\n",
      " 78%|███████▊  | 62/79 [00:19<00:05,  3.15it/s]\u001b[A\n",
      " 80%|███████▉  | 63/79 [00:19<00:05,  3.14it/s]\u001b[A\n",
      " 81%|████████  | 64/79 [00:19<00:04,  3.14it/s]\u001b[A\n",
      " 82%|████████▏ | 65/79 [00:20<00:04,  3.15it/s]\u001b[A\n",
      " 84%|████████▎ | 66/79 [00:20<00:04,  3.14it/s]\u001b[A\n",
      " 85%|████████▍ | 67/79 [00:20<00:03,  3.15it/s]\u001b[A\n",
      " 86%|████████▌ | 68/79 [00:21<00:03,  3.15it/s]\u001b[A\n",
      " 87%|████████▋ | 69/79 [00:21<00:03,  3.15it/s]\u001b[A\n",
      " 89%|████████▊ | 70/79 [00:21<00:02,  3.14it/s]\u001b[A\n",
      " 90%|████████▉ | 71/79 [00:22<00:02,  3.13it/s]\u001b[A\n",
      " 91%|█████████ | 72/79 [00:22<00:02,  3.12it/s]\u001b[A\n",
      " 92%|█████████▏| 73/79 [00:22<00:01,  3.13it/s]\u001b[A\n",
      " 94%|█████████▎| 74/79 [00:23<00:01,  3.12it/s]\u001b[A\n",
      " 95%|█████████▍| 75/79 [00:23<00:01,  3.12it/s]\u001b[A\n",
      " 96%|█████████▌| 76/79 [00:23<00:00,  3.12it/s]\u001b[A\n",
      " 97%|█████████▋| 77/79 [00:24<00:00,  3.12it/s]\u001b[A\n",
      "                                                 A\n",
      "  1%|          | 40/4000 [01:02<43:16,  1.53it/s]\n",
      "100%|██████████| 79/79 [00:24<00:00,  3.21it/s]\u001b[A\n",
      "                                               \u001b[A"
     ]
    },
    {
     "name": "stdout",
     "output_type": "stream",
     "text": [
      "{'eval_loss': 4.304380893707275, 'eval_accuracy': 0.054, 'eval_runtime': 24.9144, 'eval_samples_per_second': 401.374, 'eval_steps_per_second': 3.171, 'epoch': 1.0}\n"
     ]
    },
    {
     "name": "stderr",
     "output_type": "stream",
     "text": [
      "  1%|▏         | 50/4000 [01:11<1:15:43,  1.15s/it]"
     ]
    },
    {
     "name": "stdout",
     "output_type": "stream",
     "text": [
      "{'loss': 4.2336, 'grad_norm': 4.5955376625061035, 'learning_rate': 1.9750000000000002e-05, 'epoch': 1.25}\n"
     ]
    },
    {
     "name": "stderr",
     "output_type": "stream",
     "text": [
      "  2%|▏         | 60/4000 [01:20<56:20,  1.17it/s]  "
     ]
    },
    {
     "name": "stdout",
     "output_type": "stream",
     "text": [
      "{'loss': 4.2269, 'grad_norm': 4.866891860961914, 'learning_rate': 1.97e-05, 'epoch': 1.5}\n"
     ]
    },
    {
     "name": "stderr",
     "output_type": "stream",
     "text": [
      "  2%|▏         | 70/4000 [01:28<56:24,  1.16it/s]"
     ]
    },
    {
     "name": "stdout",
     "output_type": "stream",
     "text": [
      "{'loss': 4.1995, 'grad_norm': 5.077606201171875, 'learning_rate': 1.9650000000000003e-05, 'epoch': 1.75}\n"
     ]
    },
    {
     "name": "stderr",
     "output_type": "stream",
     "text": [
      "  2%|▏         | 80/4000 [01:36<41:55,  1.56it/s]"
     ]
    },
    {
     "name": "stdout",
     "output_type": "stream",
     "text": [
      "{'loss': 4.2111, 'grad_norm': 22.807355880737305, 'learning_rate': 1.9600000000000002e-05, 'epoch': 2.0}\n"
     ]
    },
    {
     "name": "stderr",
     "output_type": "stream",
     "text": [
      "\n",
      "  0%|          | 0/79 [00:00<?, ?it/s]\u001b[A\n",
      "  3%|▎         | 2/79 [00:00<00:12,  6.21it/s]\u001b[A\n",
      "  4%|▍         | 3/79 [00:00<00:17,  4.25it/s]\u001b[A\n",
      "  5%|▌         | 4/79 [00:00<00:20,  3.69it/s]\u001b[A\n",
      "  6%|▋         | 5/79 [00:01<00:21,  3.39it/s]\u001b[A\n",
      "  8%|▊         | 6/79 [00:01<00:22,  3.27it/s]\u001b[A\n",
      "  9%|▉         | 7/79 [00:01<00:22,  3.18it/s]\u001b[A\n",
      " 10%|█         | 8/79 [00:02<00:22,  3.12it/s]\u001b[A\n",
      " 11%|█▏        | 9/79 [00:02<00:22,  3.08it/s]\u001b[A\n",
      " 13%|█▎        | 10/79 [00:02<00:22,  3.05it/s]\u001b[A\n",
      " 14%|█▍        | 11/79 [00:03<00:22,  3.03it/s]\u001b[A\n",
      " 15%|█▌        | 12/79 [00:03<00:22,  3.02it/s]\u001b[A\n",
      " 16%|█▋        | 13/79 [00:03<00:21,  3.02it/s]\u001b[A\n",
      " 18%|█▊        | 14/79 [00:04<00:21,  3.00it/s]\u001b[A\n",
      " 19%|█▉        | 15/79 [00:04<00:21,  3.01it/s]\u001b[A\n",
      " 20%|██        | 16/79 [00:05<00:21,  3.00it/s]\u001b[A\n",
      " 22%|██▏       | 17/79 [00:05<00:20,  2.98it/s]\u001b[A\n",
      " 23%|██▎       | 18/79 [00:05<00:20,  2.98it/s]\u001b[A\n",
      " 24%|██▍       | 19/79 [00:06<00:20,  2.98it/s]\u001b[A\n",
      " 25%|██▌       | 20/79 [00:06<00:19,  2.98it/s]\u001b[A\n",
      " 27%|██▋       | 21/79 [00:06<00:19,  2.98it/s]\u001b[A\n",
      " 28%|██▊       | 22/79 [00:07<00:19,  2.98it/s]\u001b[A\n",
      " 29%|██▉       | 23/79 [00:07<00:18,  2.98it/s]\u001b[A\n",
      " 30%|███       | 24/79 [00:07<00:18,  2.97it/s]\u001b[A\n",
      " 32%|███▏      | 25/79 [00:08<00:18,  2.97it/s]\u001b[A\n",
      " 33%|███▎      | 26/79 [00:08<00:17,  2.97it/s]\u001b[A\n",
      " 34%|███▍      | 27/79 [00:08<00:17,  2.97it/s]\u001b[A\n",
      " 35%|███▌      | 28/79 [00:09<00:17,  2.98it/s]\u001b[A\n",
      " 37%|███▋      | 29/79 [00:09<00:16,  2.97it/s]\u001b[A\n",
      " 38%|███▊      | 30/79 [00:09<00:16,  2.96it/s]\u001b[A\n",
      " 39%|███▉      | 31/79 [00:10<00:16,  2.97it/s]\u001b[A\n",
      " 41%|████      | 32/79 [00:10<00:15,  2.96it/s]\u001b[A\n",
      " 42%|████▏     | 33/79 [00:10<00:15,  2.97it/s]\u001b[A\n",
      " 43%|████▎     | 34/79 [00:11<00:15,  2.97it/s]\u001b[A\n",
      " 44%|████▍     | 35/79 [00:11<00:14,  2.97it/s]\u001b[A\n",
      " 46%|████▌     | 36/79 [00:11<00:14,  2.97it/s]\u001b[A\n",
      " 47%|████▋     | 37/79 [00:12<00:14,  2.97it/s]\u001b[A\n",
      " 48%|████▊     | 38/79 [00:12<00:13,  2.97it/s]\u001b[A\n",
      " 49%|████▉     | 39/79 [00:12<00:13,  2.97it/s]\u001b[A\n",
      " 51%|█████     | 40/79 [00:13<00:13,  2.95it/s]\u001b[A\n",
      " 52%|█████▏    | 41/79 [00:13<00:12,  2.95it/s]\u001b[A\n",
      " 53%|█████▎    | 42/79 [00:13<00:12,  2.97it/s]\u001b[A\n",
      " 54%|█████▍    | 43/79 [00:14<00:12,  2.97it/s]\u001b[A\n",
      " 56%|█████▌    | 44/79 [00:14<00:11,  2.96it/s]\u001b[A\n",
      " 57%|█████▋    | 45/79 [00:14<00:11,  2.96it/s]\u001b[A\n",
      " 58%|█████▊    | 46/79 [00:15<00:11,  2.96it/s]\u001b[A\n",
      " 59%|█████▉    | 47/79 [00:15<00:10,  2.94it/s]\u001b[A\n",
      " 61%|██████    | 48/79 [00:15<00:10,  2.93it/s]\u001b[A\n",
      " 62%|██████▏   | 49/79 [00:16<00:10,  2.94it/s]\u001b[A\n",
      " 63%|██████▎   | 50/79 [00:16<00:09,  2.94it/s]\u001b[A\n",
      " 65%|██████▍   | 51/79 [00:16<00:09,  2.95it/s]\u001b[A\n",
      " 66%|██████▌   | 52/79 [00:17<00:09,  2.94it/s]\u001b[A\n",
      " 67%|██████▋   | 53/79 [00:17<00:08,  2.92it/s]\u001b[A\n",
      " 68%|██████▊   | 54/79 [00:17<00:08,  2.92it/s]\u001b[A\n",
      " 70%|██████▉   | 55/79 [00:18<00:08,  2.91it/s]\u001b[A\n",
      " 71%|███████   | 56/79 [00:18<00:07,  2.91it/s]\u001b[A\n",
      " 72%|███████▏  | 57/79 [00:18<00:07,  2.92it/s]\u001b[A\n",
      " 73%|███████▎  | 58/79 [00:19<00:07,  2.92it/s]\u001b[A\n",
      " 75%|███████▍  | 59/79 [00:19<00:06,  2.92it/s]\u001b[A\n",
      " 76%|███████▌  | 60/79 [00:19<00:06,  2.92it/s]\u001b[A\n",
      " 77%|███████▋  | 61/79 [00:20<00:06,  2.92it/s]\u001b[A\n",
      " 78%|███████▊  | 62/79 [00:20<00:05,  2.91it/s]\u001b[A\n",
      " 80%|███████▉  | 63/79 [00:20<00:05,  2.91it/s]\u001b[A\n",
      " 81%|████████  | 64/79 [00:21<00:05,  2.91it/s]\u001b[A\n",
      " 82%|████████▏ | 65/79 [00:21<00:04,  2.90it/s]\u001b[A\n",
      " 84%|████████▎ | 66/79 [00:21<00:04,  2.90it/s]\u001b[A\n",
      " 85%|████████▍ | 67/79 [00:22<00:04,  2.91it/s]\u001b[A\n",
      " 86%|████████▌ | 68/79 [00:22<00:03,  2.89it/s]\u001b[A\n",
      " 87%|████████▋ | 69/79 [00:23<00:03,  2.91it/s]\u001b[A\n",
      " 89%|████████▊ | 70/79 [00:23<00:03,  2.90it/s]\u001b[A\n",
      " 90%|████████▉ | 71/79 [00:23<00:02,  2.90it/s]\u001b[A\n",
      " 91%|█████████ | 72/79 [00:24<00:02,  2.91it/s]\u001b[A\n",
      " 92%|█████████▏| 73/79 [00:24<00:02,  2.91it/s]\u001b[A\n",
      " 94%|█████████▎| 74/79 [00:24<00:01,  2.90it/s]\u001b[A\n",
      " 95%|█████████▍| 75/79 [00:25<00:01,  2.91it/s]\u001b[A\n",
      " 96%|█████████▌| 76/79 [00:25<00:01,  2.90it/s]\u001b[A\n",
      " 97%|█████████▋| 77/79 [00:25<00:00,  2.90it/s]\u001b[A\n",
      "                                                 A\n",
      "  2%|▏         | 80/4000 [02:03<41:55,  1.56it/s]\n",
      "100%|██████████| 79/79 [00:26<00:00,  2.96it/s]\u001b[A\n",
      "                                               \u001b[A"
     ]
    },
    {
     "name": "stdout",
     "output_type": "stream",
     "text": [
      "{'eval_loss': 4.196676731109619, 'eval_accuracy': 0.0644, 'eval_runtime': 26.5404, 'eval_samples_per_second': 376.784, 'eval_steps_per_second': 2.977, 'epoch': 2.0}\n"
     ]
    },
    {
     "name": "stderr",
     "output_type": "stream",
     "text": [
      "  2%|▏         | 90/4000 [02:13<1:19:20,  1.22s/it]"
     ]
    },
    {
     "name": "stdout",
     "output_type": "stream",
     "text": [
      "{'loss': 4.0894, 'grad_norm': 5.666325092315674, 'learning_rate': 1.955e-05, 'epoch': 2.25}\n"
     ]
    },
    {
     "name": "stderr",
     "output_type": "stream",
     "text": [
      "  2%|▎         | 100/4000 [02:22<58:34,  1.11it/s] "
     ]
    },
    {
     "name": "stdout",
     "output_type": "stream",
     "text": [
      "{'loss': 4.1328, 'grad_norm': 5.439627170562744, 'learning_rate': 1.95e-05, 'epoch': 2.5}\n"
     ]
    },
    {
     "name": "stderr",
     "output_type": "stream",
     "text": [
      "  3%|▎         | 110/4000 [02:31<57:55,  1.12it/s]"
     ]
    },
    {
     "name": "stdout",
     "output_type": "stream",
     "text": [
      "{'loss': 4.0923, 'grad_norm': 5.838522911071777, 'learning_rate': 1.9450000000000002e-05, 'epoch': 2.75}\n"
     ]
    },
    {
     "name": "stderr",
     "output_type": "stream",
     "text": [
      "  3%|▎         | 120/4000 [02:39<42:23,  1.53it/s]"
     ]
    },
    {
     "name": "stdout",
     "output_type": "stream",
     "text": [
      "{'loss': 4.0739, 'grad_norm': 26.462156295776367, 'learning_rate': 1.94e-05, 'epoch': 3.0}\n"
     ]
    },
    {
     "name": "stderr",
     "output_type": "stream",
     "text": [
      "\n",
      "  0%|          | 0/79 [00:00<?, ?it/s]\u001b[A\n",
      "  3%|▎         | 2/79 [00:00<00:13,  5.91it/s]\u001b[A\n",
      "  4%|▍         | 3/79 [00:00<00:18,  4.04it/s]\u001b[A\n",
      "  5%|▌         | 4/79 [00:01<00:21,  3.51it/s]\u001b[A\n",
      "  6%|▋         | 5/79 [00:01<00:22,  3.27it/s]\u001b[A\n",
      "  8%|▊         | 6/79 [00:01<00:23,  3.13it/s]\u001b[A\n",
      "  9%|▉         | 7/79 [00:02<00:23,  3.05it/s]\u001b[A\n",
      " 10%|█         | 8/79 [00:02<00:23,  2.97it/s]\u001b[A\n",
      " 11%|█▏        | 9/79 [00:02<00:23,  2.94it/s]\u001b[A\n",
      " 13%|█▎        | 10/79 [00:03<00:23,  2.91it/s]\u001b[A\n",
      " 14%|█▍        | 11/79 [00:03<00:23,  2.88it/s]\u001b[A\n",
      " 15%|█▌        | 12/79 [00:03<00:23,  2.89it/s]\u001b[A\n",
      " 16%|█▋        | 13/79 [00:04<00:22,  2.87it/s]\u001b[A\n",
      " 18%|█▊        | 14/79 [00:04<00:22,  2.87it/s]\u001b[A\n",
      " 19%|█▉        | 15/79 [00:04<00:22,  2.87it/s]\u001b[A\n",
      " 20%|██        | 16/79 [00:05<00:21,  2.87it/s]\u001b[A\n",
      " 22%|██▏       | 17/79 [00:05<00:21,  2.88it/s]\u001b[A\n",
      " 23%|██▎       | 18/79 [00:05<00:21,  2.89it/s]\u001b[A\n",
      " 24%|██▍       | 19/79 [00:06<00:20,  2.89it/s]\u001b[A\n",
      " 25%|██▌       | 20/79 [00:06<00:20,  2.89it/s]\u001b[A\n",
      " 27%|██▋       | 21/79 [00:06<00:19,  2.90it/s]\u001b[A\n",
      " 28%|██▊       | 22/79 [00:07<00:19,  2.90it/s]\u001b[A\n",
      " 29%|██▉       | 23/79 [00:07<00:19,  2.90it/s]\u001b[A\n",
      " 30%|███       | 24/79 [00:07<00:19,  2.89it/s]\u001b[A\n",
      " 32%|███▏      | 25/79 [00:08<00:18,  2.88it/s]\u001b[A\n",
      " 33%|███▎      | 26/79 [00:08<00:18,  2.88it/s]\u001b[A\n",
      " 34%|███▍      | 27/79 [00:09<00:17,  2.89it/s]\u001b[A\n",
      " 35%|███▌      | 28/79 [00:09<00:17,  2.88it/s]\u001b[A\n",
      " 37%|███▋      | 29/79 [00:09<00:17,  2.89it/s]\u001b[A\n",
      " 38%|███▊      | 30/79 [00:10<00:16,  2.90it/s]\u001b[A\n",
      " 39%|███▉      | 31/79 [00:10<00:16,  2.90it/s]\u001b[A\n",
      " 41%|████      | 32/79 [00:10<00:16,  2.90it/s]\u001b[A\n",
      " 42%|████▏     | 33/79 [00:11<00:15,  2.90it/s]\u001b[A\n",
      " 43%|████▎     | 34/79 [00:11<00:15,  2.90it/s]\u001b[A\n",
      " 44%|████▍     | 35/79 [00:11<00:15,  2.90it/s]\u001b[A\n",
      " 46%|████▌     | 36/79 [00:12<00:14,  2.90it/s]\u001b[A\n",
      " 47%|████▋     | 37/79 [00:12<00:14,  2.88it/s]\u001b[A\n",
      " 48%|████▊     | 38/79 [00:12<00:14,  2.88it/s]\u001b[A\n",
      " 49%|████▉     | 39/79 [00:13<00:13,  2.89it/s]\u001b[A\n",
      " 51%|█████     | 40/79 [00:13<00:13,  2.89it/s]\u001b[A\n",
      " 52%|█████▏    | 41/79 [00:13<00:13,  2.89it/s]\u001b[A\n",
      " 53%|█████▎    | 42/79 [00:14<00:12,  2.89it/s]\u001b[A\n",
      " 54%|█████▍    | 43/79 [00:14<00:12,  2.90it/s]\u001b[A\n",
      " 56%|█████▌    | 44/79 [00:14<00:12,  2.90it/s]\u001b[A\n",
      " 57%|█████▋    | 45/79 [00:15<00:11,  2.90it/s]\u001b[A\n",
      " 58%|█████▊    | 46/79 [00:15<00:11,  2.91it/s]\u001b[A\n",
      " 59%|█████▉    | 47/79 [00:15<00:11,  2.91it/s]\u001b[A\n",
      " 61%|██████    | 48/79 [00:16<00:10,  2.91it/s]\u001b[A\n",
      " 62%|██████▏   | 49/79 [00:16<00:10,  2.88it/s]\u001b[A\n",
      " 63%|██████▎   | 50/79 [00:16<00:10,  2.87it/s]\u001b[A\n",
      " 65%|██████▍   | 51/79 [00:17<00:09,  2.87it/s]\u001b[A\n",
      " 66%|██████▌   | 52/79 [00:17<00:09,  2.88it/s]\u001b[A\n",
      " 67%|██████▋   | 53/79 [00:18<00:09,  2.89it/s]\u001b[A\n",
      " 68%|██████▊   | 54/79 [00:18<00:08,  2.89it/s]\u001b[A\n",
      " 70%|██████▉   | 55/79 [00:18<00:08,  2.87it/s]\u001b[A\n",
      " 71%|███████   | 56/79 [00:19<00:07,  2.88it/s]\u001b[A\n",
      " 72%|███████▏  | 57/79 [00:19<00:07,  2.88it/s]\u001b[A\n",
      " 73%|███████▎  | 58/79 [00:19<00:07,  2.88it/s]\u001b[A\n",
      " 75%|███████▍  | 59/79 [00:20<00:06,  2.89it/s]\u001b[A\n",
      " 76%|███████▌  | 60/79 [00:20<00:06,  2.89it/s]\u001b[A\n",
      " 77%|███████▋  | 61/79 [00:20<00:06,  2.90it/s]\u001b[A\n",
      " 78%|███████▊  | 62/79 [00:21<00:05,  2.90it/s]\u001b[A\n",
      " 80%|███████▉  | 63/79 [00:21<00:05,  2.90it/s]\u001b[A\n",
      " 81%|████████  | 64/79 [00:21<00:05,  2.89it/s]\u001b[A\n",
      " 82%|████████▏ | 65/79 [00:22<00:04,  2.88it/s]\u001b[A\n",
      " 84%|████████▎ | 66/79 [00:22<00:04,  2.88it/s]\u001b[A\n",
      " 85%|████████▍ | 67/79 [00:22<00:04,  2.89it/s]\u001b[A\n",
      " 86%|████████▌ | 68/79 [00:23<00:03,  2.89it/s]\u001b[A\n",
      " 87%|████████▋ | 69/79 [00:23<00:03,  2.88it/s]\u001b[A\n",
      " 89%|████████▊ | 70/79 [00:23<00:03,  2.89it/s]\u001b[A\n",
      " 90%|████████▉ | 71/79 [00:24<00:02,  2.88it/s]\u001b[A\n",
      " 91%|█████████ | 72/79 [00:24<00:02,  2.88it/s]\u001b[A\n",
      " 92%|█████████▏| 73/79 [00:24<00:02,  2.87it/s]\u001b[A\n",
      " 94%|█████████▎| 74/79 [00:25<00:01,  2.88it/s]\u001b[A\n",
      " 95%|█████████▍| 75/79 [00:25<00:01,  2.88it/s]\u001b[A\n",
      " 96%|█████████▌| 76/79 [00:25<00:01,  2.89it/s]\u001b[A\n",
      " 97%|█████████▋| 77/79 [00:26<00:00,  2.88it/s]\u001b[A\n",
      "                                                  \n",
      "  3%|▎         | 120/4000 [03:06<42:23,  1.53it/s]\n",
      "100%|██████████| 79/79 [00:26<00:00,  2.94it/s]\u001b[A\n",
      "                                               \u001b[A"
     ]
    },
    {
     "name": "stdout",
     "output_type": "stream",
     "text": [
      "{'eval_loss': 4.124579906463623, 'eval_accuracy': 0.0723, 'eval_runtime': 27.14, 'eval_samples_per_second': 368.46, 'eval_steps_per_second': 2.911, 'epoch': 3.0}\n"
     ]
    },
    {
     "name": "stderr",
     "output_type": "stream",
     "text": [
      "  3%|▎         | 130/4000 [03:16<1:19:28,  1.23s/it]"
     ]
    },
    {
     "name": "stdout",
     "output_type": "stream",
     "text": [
      "{'loss': 4.0122, 'grad_norm': 7.068808078765869, 'learning_rate': 1.9350000000000003e-05, 'epoch': 3.25}\n"
     ]
    },
    {
     "name": "stderr",
     "output_type": "stream",
     "text": [
      "  4%|▎         | 140/4000 [03:25<58:29,  1.10it/s]  "
     ]
    },
    {
     "name": "stdout",
     "output_type": "stream",
     "text": [
      "{'loss': 3.955, 'grad_norm': 6.659971714019775, 'learning_rate': 1.93e-05, 'epoch': 3.5}\n"
     ]
    },
    {
     "name": "stderr",
     "output_type": "stream",
     "text": [
      "  4%|▍         | 150/4000 [03:34<58:01,  1.11it/s]"
     ]
    },
    {
     "name": "stdout",
     "output_type": "stream",
     "text": [
      "{'loss': 4.0172, 'grad_norm': 7.175115585327148, 'learning_rate': 1.925e-05, 'epoch': 3.75}\n"
     ]
    },
    {
     "name": "stderr",
     "output_type": "stream",
     "text": [
      "  4%|▍         | 160/4000 [03:42<42:28,  1.51it/s]"
     ]
    },
    {
     "name": "stdout",
     "output_type": "stream",
     "text": [
      "{'loss': 4.0086, 'grad_norm': 28.940095901489258, 'learning_rate': 1.9200000000000003e-05, 'epoch': 4.0}\n"
     ]
    },
    {
     "name": "stderr",
     "output_type": "stream",
     "text": [
      "\n",
      "  0%|          | 0/79 [00:00<?, ?it/s]\u001b[A\n",
      "  3%|▎         | 2/79 [00:00<00:13,  5.86it/s]\u001b[A\n",
      "  4%|▍         | 3/79 [00:00<00:19,  3.96it/s]\u001b[A\n",
      "  5%|▌         | 4/79 [00:01<00:21,  3.46it/s]\u001b[A\n",
      "  6%|▋         | 5/79 [00:01<00:22,  3.23it/s]\u001b[A\n",
      "  8%|▊         | 6/79 [00:01<00:23,  3.07it/s]\u001b[A\n",
      "  9%|▉         | 7/79 [00:02<00:24,  2.99it/s]\u001b[A\n",
      " 10%|█         | 8/79 [00:02<00:24,  2.94it/s]\u001b[A\n",
      " 11%|█▏        | 9/79 [00:02<00:24,  2.90it/s]\u001b[A\n",
      " 13%|█▎        | 10/79 [00:03<00:23,  2.88it/s]\u001b[A\n",
      " 14%|█▍        | 11/79 [00:03<00:23,  2.87it/s]\u001b[A\n",
      " 15%|█▌        | 12/79 [00:03<00:23,  2.85it/s]\u001b[A\n",
      " 16%|█▋        | 13/79 [00:04<00:23,  2.84it/s]\u001b[A\n",
      " 18%|█▊        | 14/79 [00:04<00:22,  2.83it/s]\u001b[A\n",
      " 19%|█▉        | 15/79 [00:04<00:22,  2.83it/s]\u001b[A\n",
      " 20%|██        | 16/79 [00:05<00:22,  2.82it/s]\u001b[A\n",
      " 22%|██▏       | 17/79 [00:05<00:21,  2.83it/s]\u001b[A\n",
      " 23%|██▎       | 18/79 [00:06<00:21,  2.83it/s]\u001b[A\n",
      " 24%|██▍       | 19/79 [00:06<00:21,  2.84it/s]\u001b[A\n",
      " 25%|██▌       | 20/79 [00:06<00:20,  2.83it/s]\u001b[A\n",
      " 27%|██▋       | 21/79 [00:07<00:20,  2.84it/s]\u001b[A\n",
      " 28%|██▊       | 22/79 [00:07<00:20,  2.84it/s]\u001b[A\n",
      " 29%|██▉       | 23/79 [00:07<00:19,  2.83it/s]\u001b[A\n",
      " 30%|███       | 24/79 [00:08<00:19,  2.83it/s]\u001b[A\n",
      " 32%|███▏      | 25/79 [00:08<00:19,  2.83it/s]\u001b[A\n",
      " 33%|███▎      | 26/79 [00:08<00:18,  2.83it/s]\u001b[A\n",
      " 34%|███▍      | 27/79 [00:09<00:18,  2.82it/s]\u001b[A\n",
      " 35%|███▌      | 28/79 [00:09<00:18,  2.83it/s]\u001b[A\n",
      " 37%|███▋      | 29/79 [00:09<00:17,  2.82it/s]\u001b[A\n",
      " 38%|███▊      | 30/79 [00:10<00:17,  2.81it/s]\u001b[A\n",
      " 39%|███▉      | 31/79 [00:10<00:17,  2.81it/s]\u001b[A\n",
      " 41%|████      | 32/79 [00:10<00:16,  2.81it/s]\u001b[A\n",
      " 42%|████▏     | 33/79 [00:11<00:16,  2.82it/s]\u001b[A\n",
      " 43%|████▎     | 34/79 [00:11<00:15,  2.82it/s]\u001b[A\n",
      " 44%|████▍     | 35/79 [00:12<00:15,  2.83it/s]\u001b[A\n",
      " 46%|████▌     | 36/79 [00:12<00:15,  2.82it/s]\u001b[A\n",
      " 47%|████▋     | 37/79 [00:12<00:14,  2.83it/s]\u001b[A\n",
      " 48%|████▊     | 38/79 [00:13<00:14,  2.83it/s]\u001b[A\n",
      " 49%|████▉     | 39/79 [00:13<00:14,  2.83it/s]\u001b[A\n",
      " 51%|█████     | 40/79 [00:13<00:13,  2.84it/s]\u001b[A\n",
      " 52%|█████▏    | 41/79 [00:14<00:13,  2.83it/s]\u001b[A\n",
      " 53%|█████▎    | 42/79 [00:14<00:13,  2.83it/s]\u001b[A\n",
      " 54%|█████▍    | 43/79 [00:14<00:12,  2.83it/s]\u001b[A\n",
      " 56%|█████▌    | 44/79 [00:15<00:12,  2.83it/s]\u001b[A\n",
      " 57%|█████▋    | 45/79 [00:15<00:12,  2.82it/s]\u001b[A\n",
      " 58%|█████▊    | 46/79 [00:15<00:11,  2.82it/s]\u001b[A\n",
      " 59%|█████▉    | 47/79 [00:16<00:11,  2.82it/s]\u001b[A\n",
      " 61%|██████    | 48/79 [00:16<00:10,  2.83it/s]\u001b[A\n",
      " 62%|██████▏   | 49/79 [00:16<00:10,  2.83it/s]\u001b[A\n",
      " 63%|██████▎   | 50/79 [00:17<00:10,  2.83it/s]\u001b[A\n",
      " 65%|██████▍   | 51/79 [00:17<00:09,  2.83it/s]\u001b[A\n",
      " 66%|██████▌   | 52/79 [00:18<00:09,  2.83it/s]\u001b[A\n",
      " 67%|██████▋   | 53/79 [00:18<00:09,  2.84it/s]\u001b[A\n",
      " 68%|██████▊   | 54/79 [00:18<00:08,  2.83it/s]\u001b[A\n",
      " 70%|██████▉   | 55/79 [00:19<00:08,  2.84it/s]\u001b[A\n",
      " 71%|███████   | 56/79 [00:19<00:08,  2.83it/s]\u001b[A\n",
      " 72%|███████▏  | 57/79 [00:19<00:07,  2.83it/s]\u001b[A\n",
      " 73%|███████▎  | 58/79 [00:20<00:07,  2.82it/s]\u001b[A\n",
      " 75%|███████▍  | 59/79 [00:20<00:07,  2.82it/s]\u001b[A\n",
      " 76%|███████▌  | 60/79 [00:20<00:06,  2.82it/s]\u001b[A\n",
      " 77%|███████▋  | 61/79 [00:21<00:06,  2.82it/s]\u001b[A\n",
      " 78%|███████▊  | 62/79 [00:21<00:06,  2.82it/s]\u001b[A\n",
      " 80%|███████▉  | 63/79 [00:21<00:05,  2.82it/s]\u001b[A\n",
      " 81%|████████  | 64/79 [00:22<00:05,  2.83it/s]\u001b[A\n",
      " 82%|████████▏ | 65/79 [00:22<00:04,  2.82it/s]\u001b[A\n",
      " 84%|████████▎ | 66/79 [00:22<00:04,  2.82it/s]\u001b[A\n",
      " 85%|████████▍ | 67/79 [00:23<00:04,  2.82it/s]\u001b[A\n",
      " 86%|████████▌ | 68/79 [00:23<00:03,  2.82it/s]\u001b[A\n",
      " 87%|████████▋ | 69/79 [00:24<00:03,  2.83it/s]\u001b[A\n",
      " 89%|████████▊ | 70/79 [00:24<00:03,  2.82it/s]\u001b[A\n",
      " 90%|████████▉ | 71/79 [00:24<00:02,  2.83it/s]\u001b[A\n",
      " 91%|█████████ | 72/79 [00:25<00:02,  2.83it/s]\u001b[A\n",
      " 92%|█████████▏| 73/79 [00:25<00:02,  2.82it/s]\u001b[A\n",
      " 94%|█████████▎| 74/79 [00:25<00:01,  2.83it/s]\u001b[A\n",
      " 95%|█████████▍| 75/79 [00:26<00:01,  2.83it/s]\u001b[A\n",
      " 96%|█████████▌| 76/79 [00:26<00:01,  2.83it/s]\u001b[A\n",
      " 97%|█████████▋| 77/79 [00:26<00:00,  2.83it/s]\u001b[A\n",
      "                                                  \n",
      "  4%|▍         | 160/4000 [04:10<42:28,  1.51it/s]\n",
      "100%|██████████| 79/79 [00:27<00:00,  2.89it/s]\u001b[A\n",
      "                                               \u001b[A"
     ]
    },
    {
     "name": "stdout",
     "output_type": "stream",
     "text": [
      "{'eval_loss': 4.0574049949646, 'eval_accuracy': 0.0838, 'eval_runtime': 27.692, 'eval_samples_per_second': 361.115, 'eval_steps_per_second': 2.853, 'epoch': 4.0}\n"
     ]
    },
    {
     "name": "stderr",
     "output_type": "stream",
     "text": [
      "  4%|▍         | 170/4000 [04:20<1:19:51,  1.25s/it]"
     ]
    },
    {
     "name": "stdout",
     "output_type": "stream",
     "text": [
      "{'loss': 3.8921, 'grad_norm': 7.410555839538574, 'learning_rate': 1.915e-05, 'epoch': 4.25}\n"
     ]
    },
    {
     "name": "stderr",
     "output_type": "stream",
     "text": [
      "  4%|▍         | 180/4000 [04:29<58:15,  1.09it/s]  "
     ]
    },
    {
     "name": "stdout",
     "output_type": "stream",
     "text": [
      "{'loss': 3.9185, 'grad_norm': 7.924497127532959, 'learning_rate': 1.91e-05, 'epoch': 4.5}\n"
     ]
    },
    {
     "name": "stderr",
     "output_type": "stream",
     "text": [
      "  5%|▍         | 190/4000 [04:38<57:24,  1.11it/s]"
     ]
    },
    {
     "name": "stdout",
     "output_type": "stream",
     "text": [
      "{'loss': 3.8757, 'grad_norm': 8.07070255279541, 'learning_rate': 1.9050000000000002e-05, 'epoch': 4.75}\n"
     ]
    },
    {
     "name": "stderr",
     "output_type": "stream",
     "text": [
      "  5%|▌         | 200/4000 [04:46<42:06,  1.50it/s]"
     ]
    },
    {
     "name": "stdout",
     "output_type": "stream",
     "text": [
      "{'loss': 3.8999, 'grad_norm': 27.309934616088867, 'learning_rate': 1.9e-05, 'epoch': 5.0}\n"
     ]
    },
    {
     "name": "stderr",
     "output_type": "stream",
     "text": [
      "\n",
      "  0%|          | 0/79 [00:00<?, ?it/s]\u001b[A\n",
      "  3%|▎         | 2/79 [00:00<00:13,  5.77it/s]\u001b[A\n",
      "  4%|▍         | 3/79 [00:00<00:19,  3.97it/s]\u001b[A\n",
      "  5%|▌         | 4/79 [00:01<00:21,  3.47it/s]\u001b[A\n",
      "  6%|▋         | 5/79 [00:01<00:23,  3.22it/s]\u001b[A\n",
      "  8%|▊         | 6/79 [00:01<00:23,  3.07it/s]\u001b[A\n",
      "  9%|▉         | 7/79 [00:02<00:24,  2.98it/s]\u001b[A\n",
      " 10%|█         | 8/79 [00:02<00:24,  2.94it/s]\u001b[A\n",
      " 11%|█▏        | 9/79 [00:02<00:24,  2.90it/s]\u001b[A\n",
      " 13%|█▎        | 10/79 [00:03<00:24,  2.87it/s]\u001b[A\n",
      " 14%|█▍        | 11/79 [00:03<00:23,  2.86it/s]\u001b[A\n",
      " 15%|█▌        | 12/79 [00:03<00:23,  2.84it/s]\u001b[A\n",
      " 16%|█▋        | 13/79 [00:04<00:23,  2.84it/s]\u001b[A\n",
      " 18%|█▊        | 14/79 [00:04<00:22,  2.84it/s]\u001b[A\n",
      " 19%|█▉        | 15/79 [00:04<00:22,  2.83it/s]\u001b[A\n",
      " 20%|██        | 16/79 [00:05<00:22,  2.83it/s]\u001b[A\n",
      " 22%|██▏       | 17/79 [00:05<00:21,  2.84it/s]\u001b[A\n",
      " 23%|██▎       | 18/79 [00:06<00:21,  2.83it/s]\u001b[A\n",
      " 24%|██▍       | 19/79 [00:06<00:21,  2.83it/s]\u001b[A\n",
      " 25%|██▌       | 20/79 [00:06<00:20,  2.83it/s]\u001b[A\n",
      " 27%|██▋       | 21/79 [00:07<00:20,  2.83it/s]\u001b[A\n",
      " 28%|██▊       | 22/79 [00:07<00:20,  2.84it/s]\u001b[A\n",
      " 29%|██▉       | 23/79 [00:07<00:19,  2.83it/s]\u001b[A\n",
      " 30%|███       | 24/79 [00:08<00:19,  2.84it/s]\u001b[A\n",
      " 32%|███▏      | 25/79 [00:08<00:19,  2.83it/s]\u001b[A\n",
      " 33%|███▎      | 26/79 [00:08<00:18,  2.83it/s]\u001b[A\n",
      " 34%|███▍      | 27/79 [00:09<00:18,  2.83it/s]\u001b[A\n",
      " 35%|███▌      | 28/79 [00:09<00:17,  2.84it/s]\u001b[A\n",
      " 37%|███▋      | 29/79 [00:09<00:17,  2.82it/s]\u001b[A\n",
      " 38%|███▊      | 30/79 [00:10<00:17,  2.83it/s]\u001b[A\n",
      " 39%|███▉      | 31/79 [00:10<00:16,  2.83it/s]\u001b[A\n",
      " 41%|████      | 32/79 [00:10<00:16,  2.83it/s]\u001b[A\n",
      " 42%|████▏     | 33/79 [00:11<00:16,  2.83it/s]\u001b[A\n",
      " 43%|████▎     | 34/79 [00:11<00:15,  2.83it/s]\u001b[A\n",
      " 44%|████▍     | 35/79 [00:12<00:15,  2.82it/s]\u001b[A\n",
      " 46%|████▌     | 36/79 [00:12<00:15,  2.83it/s]\u001b[A\n",
      " 47%|████▋     | 37/79 [00:12<00:14,  2.83it/s]\u001b[A\n",
      " 48%|████▊     | 38/79 [00:13<00:14,  2.83it/s]\u001b[A\n",
      " 49%|████▉     | 39/79 [00:13<00:14,  2.83it/s]\u001b[A\n",
      " 51%|█████     | 40/79 [00:13<00:13,  2.83it/s]\u001b[A\n",
      " 52%|█████▏    | 41/79 [00:14<00:13,  2.83it/s]\u001b[A\n",
      " 53%|█████▎    | 42/79 [00:14<00:13,  2.83it/s]\u001b[A\n",
      " 54%|█████▍    | 43/79 [00:14<00:12,  2.83it/s]\u001b[A\n",
      " 56%|█████▌    | 44/79 [00:15<00:12,  2.83it/s]\u001b[A\n",
      " 57%|█████▋    | 45/79 [00:15<00:11,  2.83it/s]\u001b[A\n",
      " 58%|█████▊    | 46/79 [00:15<00:11,  2.83it/s]\u001b[A\n",
      " 59%|█████▉    | 47/79 [00:16<00:11,  2.83it/s]\u001b[A\n",
      " 61%|██████    | 48/79 [00:16<00:10,  2.85it/s]\u001b[A\n",
      " 62%|██████▏   | 49/79 [00:16<00:10,  2.85it/s]\u001b[A\n",
      " 63%|██████▎   | 50/79 [00:17<00:10,  2.85it/s]\u001b[A\n",
      " 65%|██████▍   | 51/79 [00:17<00:09,  2.85it/s]\u001b[A\n",
      " 66%|██████▌   | 52/79 [00:18<00:09,  2.86it/s]\u001b[A\n",
      " 67%|██████▋   | 53/79 [00:18<00:09,  2.85it/s]\u001b[A\n",
      " 68%|██████▊   | 54/79 [00:18<00:08,  2.85it/s]\u001b[A\n",
      " 70%|██████▉   | 55/79 [00:19<00:08,  2.86it/s]\u001b[A\n",
      " 71%|███████   | 56/79 [00:19<00:08,  2.85it/s]\u001b[A\n",
      " 72%|███████▏  | 57/79 [00:19<00:07,  2.85it/s]\u001b[A\n",
      " 73%|███████▎  | 58/79 [00:20<00:07,  2.84it/s]\u001b[A\n",
      " 75%|███████▍  | 59/79 [00:20<00:07,  2.85it/s]\u001b[A\n",
      " 76%|███████▌  | 60/79 [00:20<00:06,  2.85it/s]\u001b[A\n",
      " 77%|███████▋  | 61/79 [00:21<00:06,  2.86it/s]\u001b[A\n",
      " 78%|███████▊  | 62/79 [00:21<00:05,  2.86it/s]\u001b[A\n",
      " 80%|███████▉  | 63/79 [00:21<00:05,  2.85it/s]\u001b[A\n",
      " 81%|████████  | 64/79 [00:22<00:05,  2.86it/s]\u001b[A\n",
      " 82%|████████▏ | 65/79 [00:22<00:04,  2.87it/s]\u001b[A\n",
      " 84%|████████▎ | 66/79 [00:22<00:04,  2.86it/s]\u001b[A\n",
      " 85%|████████▍ | 67/79 [00:23<00:04,  2.85it/s]\u001b[A\n",
      " 86%|████████▌ | 68/79 [00:23<00:03,  2.87it/s]\u001b[A\n",
      " 87%|████████▋ | 69/79 [00:23<00:03,  2.87it/s]\u001b[A\n",
      " 89%|████████▊ | 70/79 [00:24<00:03,  2.86it/s]\u001b[A\n",
      " 90%|████████▉ | 71/79 [00:24<00:02,  2.85it/s]\u001b[A\n",
      " 91%|█████████ | 72/79 [00:25<00:02,  2.86it/s]\u001b[A\n",
      " 92%|█████████▏| 73/79 [00:25<00:02,  2.85it/s]\u001b[A\n",
      " 94%|█████████▎| 74/79 [00:25<00:01,  2.85it/s]\u001b[A\n",
      " 95%|█████████▍| 75/79 [00:26<00:01,  2.86it/s]\u001b[A\n",
      " 96%|█████████▌| 76/79 [00:26<00:01,  2.86it/s]\u001b[A\n",
      " 97%|█████████▋| 77/79 [00:26<00:00,  2.85it/s]\u001b[A\n",
      "                                                  \n",
      "  5%|▌         | 200/4000 [05:14<42:06,  1.50it/s]\n",
      "100%|██████████| 79/79 [00:27<00:00,  2.91it/s]\u001b[A\n",
      "                                               \u001b[A"
     ]
    },
    {
     "name": "stdout",
     "output_type": "stream",
     "text": [
      "{'eval_loss': 3.9917798042297363, 'eval_accuracy': 0.0977, 'eval_runtime': 27.5704, 'eval_samples_per_second': 362.708, 'eval_steps_per_second': 2.865, 'epoch': 5.0}\n"
     ]
    },
    {
     "name": "stderr",
     "output_type": "stream",
     "text": [
      "  5%|▌         | 210/4000 [05:24<1:18:39,  1.25s/it]"
     ]
    },
    {
     "name": "stdout",
     "output_type": "stream",
     "text": [
      "{'loss': 3.8326, 'grad_norm': 8.087395668029785, 'learning_rate': 1.8950000000000003e-05, 'epoch': 5.25}\n"
     ]
    },
    {
     "name": "stderr",
     "output_type": "stream",
     "text": [
      "  6%|▌         | 220/4000 [05:33<58:01,  1.09it/s]  "
     ]
    },
    {
     "name": "stdout",
     "output_type": "stream",
     "text": [
      "{'loss': 3.8036, 'grad_norm': 7.760797500610352, 'learning_rate': 1.8900000000000002e-05, 'epoch': 5.5}\n"
     ]
    },
    {
     "name": "stderr",
     "output_type": "stream",
     "text": [
      "  6%|▌         | 230/4000 [05:42<57:15,  1.10it/s]"
     ]
    },
    {
     "name": "stdout",
     "output_type": "stream",
     "text": [
      "{'loss': 3.7932, 'grad_norm': 8.11338996887207, 'learning_rate': 1.885e-05, 'epoch': 5.75}\n"
     ]
    },
    {
     "name": "stderr",
     "output_type": "stream",
     "text": [
      "  6%|▌         | 240/4000 [05:51<41:43,  1.50it/s]"
     ]
    },
    {
     "name": "stdout",
     "output_type": "stream",
     "text": [
      "{'loss': 3.7825, 'grad_norm': 33.89193344116211, 'learning_rate': 1.88e-05, 'epoch': 6.0}\n"
     ]
    },
    {
     "name": "stderr",
     "output_type": "stream",
     "text": [
      "\n",
      "  0%|          | 0/79 [00:00<?, ?it/s]\u001b[A\n",
      "  3%|▎         | 2/79 [00:00<00:13,  5.87it/s]\u001b[A\n",
      "  4%|▍         | 3/79 [00:00<00:19,  3.99it/s]\u001b[A\n",
      "  5%|▌         | 4/79 [00:01<00:21,  3.49it/s]\u001b[A\n",
      "  6%|▋         | 5/79 [00:01<00:22,  3.26it/s]\u001b[A\n",
      "  8%|▊         | 6/79 [00:01<00:23,  3.10it/s]\u001b[A\n",
      "  9%|▉         | 7/79 [00:02<00:23,  3.01it/s]\u001b[A\n",
      " 10%|█         | 8/79 [00:02<00:23,  2.96it/s]\u001b[A\n",
      " 11%|█▏        | 9/79 [00:02<00:23,  2.94it/s]\u001b[A\n",
      " 13%|█▎        | 10/79 [00:03<00:23,  2.93it/s]\u001b[A\n",
      " 14%|█▍        | 11/79 [00:03<00:23,  2.90it/s]\u001b[A\n",
      " 15%|█▌        | 12/79 [00:03<00:23,  2.88it/s]\u001b[A\n",
      " 16%|█▋        | 13/79 [00:04<00:22,  2.88it/s]\u001b[A\n",
      " 18%|█▊        | 14/79 [00:04<00:22,  2.88it/s]\u001b[A\n",
      " 19%|█▉        | 15/79 [00:04<00:22,  2.87it/s]\u001b[A\n",
      " 20%|██        | 16/79 [00:05<00:22,  2.85it/s]\u001b[A\n",
      " 22%|██▏       | 17/79 [00:05<00:21,  2.85it/s]\u001b[A\n",
      " 23%|██▎       | 18/79 [00:05<00:21,  2.84it/s]\u001b[A\n",
      " 24%|██▍       | 19/79 [00:06<00:21,  2.85it/s]\u001b[A\n",
      " 25%|██▌       | 20/79 [00:06<00:20,  2.86it/s]\u001b[A\n",
      " 27%|██▋       | 21/79 [00:07<00:20,  2.85it/s]\u001b[A\n",
      " 28%|██▊       | 22/79 [00:07<00:19,  2.85it/s]\u001b[A\n",
      " 29%|██▉       | 23/79 [00:07<00:19,  2.86it/s]\u001b[A\n",
      " 30%|███       | 24/79 [00:08<00:19,  2.86it/s]\u001b[A\n",
      " 32%|███▏      | 25/79 [00:08<00:18,  2.86it/s]\u001b[A\n",
      " 33%|███▎      | 26/79 [00:08<00:18,  2.86it/s]\u001b[A\n",
      " 34%|███▍      | 27/79 [00:09<00:18,  2.86it/s]\u001b[A\n",
      " 35%|███▌      | 28/79 [00:09<00:17,  2.87it/s]\u001b[A\n",
      " 37%|███▋      | 29/79 [00:09<00:17,  2.84it/s]\u001b[A\n",
      " 38%|███▊      | 30/79 [00:10<00:17,  2.85it/s]\u001b[A\n",
      " 39%|███▉      | 31/79 [00:10<00:16,  2.84it/s]\u001b[A\n",
      " 41%|████      | 32/79 [00:10<00:16,  2.84it/s]\u001b[A\n",
      " 42%|████▏     | 33/79 [00:11<00:16,  2.84it/s]\u001b[A\n",
      " 43%|████▎     | 34/79 [00:11<00:15,  2.83it/s]\u001b[A\n",
      " 44%|████▍     | 35/79 [00:11<00:15,  2.83it/s]\u001b[A\n",
      " 46%|████▌     | 36/79 [00:12<00:15,  2.84it/s]\u001b[A\n",
      " 47%|████▋     | 37/79 [00:12<00:14,  2.84it/s]\u001b[A\n",
      " 48%|████▊     | 38/79 [00:12<00:14,  2.83it/s]\u001b[A\n",
      " 49%|████▉     | 39/79 [00:13<00:14,  2.84it/s]\u001b[A\n",
      " 51%|█████     | 40/79 [00:13<00:13,  2.84it/s]\u001b[A\n",
      " 52%|█████▏    | 41/79 [00:14<00:13,  2.84it/s]\u001b[A\n",
      " 53%|█████▎    | 42/79 [00:14<00:13,  2.84it/s]\u001b[A\n",
      " 54%|█████▍    | 43/79 [00:14<00:12,  2.84it/s]\u001b[A\n",
      " 56%|█████▌    | 44/79 [00:15<00:12,  2.84it/s]\u001b[A\n",
      " 57%|█████▋    | 45/79 [00:15<00:11,  2.84it/s]\u001b[A\n",
      " 58%|█████▊    | 46/79 [00:15<00:11,  2.84it/s]\u001b[A\n",
      " 59%|█████▉    | 47/79 [00:16<00:11,  2.85it/s]\u001b[A\n",
      " 61%|██████    | 48/79 [00:16<00:10,  2.84it/s]\u001b[A\n",
      " 62%|██████▏   | 49/79 [00:16<00:10,  2.84it/s]\u001b[A\n",
      " 63%|██████▎   | 50/79 [00:17<00:10,  2.83it/s]\u001b[A\n",
      " 65%|██████▍   | 51/79 [00:17<00:09,  2.84it/s]\u001b[A\n",
      " 66%|██████▌   | 52/79 [00:17<00:09,  2.84it/s]\u001b[A\n",
      " 67%|██████▋   | 53/79 [00:18<00:09,  2.83it/s]\u001b[A\n",
      " 68%|██████▊   | 54/79 [00:18<00:08,  2.84it/s]\u001b[A\n",
      " 70%|██████▉   | 55/79 [00:18<00:08,  2.83it/s]\u001b[A\n",
      " 71%|███████   | 56/79 [00:19<00:08,  2.84it/s]\u001b[A\n",
      " 72%|███████▏  | 57/79 [00:19<00:07,  2.84it/s]\u001b[A\n",
      " 73%|███████▎  | 58/79 [00:20<00:07,  2.84it/s]\u001b[A\n",
      " 75%|███████▍  | 59/79 [00:20<00:07,  2.84it/s]\u001b[A\n",
      " 76%|███████▌  | 60/79 [00:20<00:06,  2.84it/s]\u001b[A\n",
      " 77%|███████▋  | 61/79 [00:21<00:06,  2.84it/s]\u001b[A\n",
      " 78%|███████▊  | 62/79 [00:21<00:06,  2.83it/s]\u001b[A\n",
      " 80%|███████▉  | 63/79 [00:21<00:05,  2.84it/s]\u001b[A\n",
      " 81%|████████  | 64/79 [00:22<00:05,  2.83it/s]\u001b[A\n",
      " 82%|████████▏ | 65/79 [00:22<00:04,  2.84it/s]\u001b[A\n",
      " 84%|████████▎ | 66/79 [00:22<00:04,  2.84it/s]\u001b[A\n",
      " 85%|████████▍ | 67/79 [00:23<00:04,  2.83it/s]\u001b[A\n",
      " 86%|████████▌ | 68/79 [00:23<00:03,  2.84it/s]\u001b[A\n",
      " 87%|████████▋ | 69/79 [00:23<00:03,  2.83it/s]\u001b[A\n",
      " 89%|████████▊ | 70/79 [00:24<00:03,  2.83it/s]\u001b[A\n",
      " 90%|████████▉ | 71/79 [00:24<00:02,  2.83it/s]\u001b[A\n",
      " 91%|█████████ | 72/79 [00:24<00:02,  2.83it/s]\u001b[A\n",
      " 92%|█████████▏| 73/79 [00:25<00:02,  2.83it/s]\u001b[A\n",
      " 94%|█████████▎| 74/79 [00:25<00:01,  2.82it/s]\u001b[A\n",
      " 95%|█████████▍| 75/79 [00:26<00:01,  2.82it/s]\u001b[A\n",
      " 96%|█████████▌| 76/79 [00:26<00:01,  2.83it/s]\u001b[A\n",
      " 97%|█████████▋| 77/79 [00:26<00:00,  2.82it/s]\u001b[A\n",
      "                                                  \n",
      "  6%|▌         | 240/4000 [06:18<41:43,  1.50it/s]\n",
      "100%|██████████| 79/79 [00:27<00:00,  2.88it/s]\u001b[A\n",
      "                                               \u001b[A"
     ]
    },
    {
     "name": "stdout",
     "output_type": "stream",
     "text": [
      "{'eval_loss': 3.9301066398620605, 'eval_accuracy': 0.1048, 'eval_runtime': 27.5461, 'eval_samples_per_second': 363.028, 'eval_steps_per_second': 2.868, 'epoch': 6.0}\n"
     ]
    },
    {
     "name": "stderr",
     "output_type": "stream",
     "text": [
      "  6%|▋         | 250/4000 [06:28<1:18:13,  1.25s/it]"
     ]
    },
    {
     "name": "stdout",
     "output_type": "stream",
     "text": [
      "{'loss': 3.7281, 'grad_norm': 8.717610359191895, 'learning_rate': 1.8750000000000002e-05, 'epoch': 6.25}\n"
     ]
    },
    {
     "name": "stderr",
     "output_type": "stream",
     "text": [
      "  6%|▋         | 260/4000 [06:38<57:06,  1.09it/s]  "
     ]
    },
    {
     "name": "stdout",
     "output_type": "stream",
     "text": [
      "{'loss': 3.703, 'grad_norm': 8.753341674804688, 'learning_rate': 1.8700000000000004e-05, 'epoch': 6.5}\n"
     ]
    },
    {
     "name": "stderr",
     "output_type": "stream",
     "text": [
      "  7%|▋         | 270/4000 [06:47<56:42,  1.10it/s]"
     ]
    },
    {
     "name": "stdout",
     "output_type": "stream",
     "text": [
      "{'loss': 3.7224, 'grad_norm': 9.906566619873047, 'learning_rate': 1.8650000000000003e-05, 'epoch': 6.75}\n"
     ]
    },
    {
     "name": "stderr",
     "output_type": "stream",
     "text": [
      "  7%|▋         | 280/4000 [06:55<41:27,  1.50it/s]"
     ]
    },
    {
     "name": "stdout",
     "output_type": "stream",
     "text": [
      "{'loss': 3.7776, 'grad_norm': 34.93547439575195, 'learning_rate': 1.86e-05, 'epoch': 7.0}\n"
     ]
    },
    {
     "name": "stderr",
     "output_type": "stream",
     "text": [
      "\n",
      "  0%|          | 0/79 [00:00<?, ?it/s]\u001b[A\n",
      "  3%|▎         | 2/79 [00:00<00:13,  5.77it/s]\u001b[A\n",
      "  4%|▍         | 3/79 [00:00<00:19,  3.91it/s]\u001b[A\n",
      "  5%|▌         | 4/79 [00:01<00:21,  3.43it/s]\u001b[A\n",
      "  6%|▋         | 5/79 [00:01<00:23,  3.19it/s]\u001b[A\n",
      "  8%|▊         | 6/79 [00:01<00:23,  3.05it/s]\u001b[A\n",
      "  9%|▉         | 7/79 [00:02<00:24,  2.96it/s]\u001b[A\n",
      " 10%|█         | 8/79 [00:02<00:24,  2.94it/s]\u001b[A\n",
      " 11%|█▏        | 9/79 [00:02<00:24,  2.90it/s]\u001b[A\n",
      " 13%|█▎        | 10/79 [00:03<00:24,  2.87it/s]\u001b[A\n",
      " 14%|█▍        | 11/79 [00:03<00:23,  2.86it/s]\u001b[A\n",
      " 15%|█▌        | 12/79 [00:03<00:23,  2.86it/s]\u001b[A\n",
      " 16%|█▋        | 13/79 [00:04<00:23,  2.85it/s]\u001b[A\n",
      " 18%|█▊        | 14/79 [00:04<00:22,  2.84it/s]\u001b[A\n",
      " 19%|█▉        | 15/79 [00:04<00:22,  2.84it/s]\u001b[A\n",
      " 20%|██        | 16/79 [00:05<00:22,  2.84it/s]\u001b[A\n",
      " 22%|██▏       | 17/79 [00:05<00:21,  2.83it/s]\u001b[A\n",
      " 23%|██▎       | 18/79 [00:06<00:21,  2.84it/s]\u001b[A\n",
      " 24%|██▍       | 19/79 [00:06<00:21,  2.84it/s]\u001b[A\n",
      " 25%|██▌       | 20/79 [00:06<00:20,  2.84it/s]\u001b[A\n",
      " 27%|██▋       | 21/79 [00:07<00:20,  2.85it/s]\u001b[A\n",
      " 28%|██▊       | 22/79 [00:07<00:20,  2.84it/s]\u001b[A\n",
      " 29%|██▉       | 23/79 [00:07<00:19,  2.85it/s]\u001b[A\n",
      " 30%|███       | 24/79 [00:08<00:19,  2.84it/s]\u001b[A\n",
      " 32%|███▏      | 25/79 [00:08<00:18,  2.84it/s]\u001b[A\n",
      " 33%|███▎      | 26/79 [00:08<00:18,  2.85it/s]\u001b[A\n",
      " 34%|███▍      | 27/79 [00:09<00:18,  2.85it/s]\u001b[A\n",
      " 35%|███▌      | 28/79 [00:09<00:17,  2.85it/s]\u001b[A\n",
      " 37%|███▋      | 29/79 [00:09<00:17,  2.85it/s]\u001b[A\n",
      " 38%|███▊      | 30/79 [00:10<00:17,  2.85it/s]\u001b[A\n",
      " 39%|███▉      | 31/79 [00:10<00:16,  2.84it/s]\u001b[A\n",
      " 41%|████      | 32/79 [00:10<00:16,  2.82it/s]\u001b[A\n",
      " 42%|████▏     | 33/79 [00:11<00:16,  2.84it/s]\u001b[A\n",
      " 43%|████▎     | 34/79 [00:11<00:15,  2.84it/s]\u001b[A\n",
      " 44%|████▍     | 35/79 [00:11<00:15,  2.84it/s]\u001b[A\n",
      " 46%|████▌     | 36/79 [00:12<00:15,  2.84it/s]\u001b[A\n",
      " 47%|████▋     | 37/79 [00:12<00:14,  2.83it/s]\u001b[A\n",
      " 48%|████▊     | 38/79 [00:13<00:14,  2.83it/s]\u001b[A\n",
      " 49%|████▉     | 39/79 [00:13<00:14,  2.81it/s]\u001b[A\n",
      " 51%|█████     | 40/79 [00:13<00:13,  2.83it/s]\u001b[A\n",
      " 52%|█████▏    | 41/79 [00:14<00:13,  2.81it/s]\u001b[A\n",
      " 53%|█████▎    | 42/79 [00:14<00:13,  2.81it/s]\u001b[A\n",
      " 54%|█████▍    | 43/79 [00:14<00:12,  2.82it/s]\u001b[A\n",
      " 56%|█████▌    | 44/79 [00:15<00:12,  2.82it/s]\u001b[A\n",
      " 57%|█████▋    | 45/79 [00:15<00:12,  2.82it/s]\u001b[A\n",
      " 58%|█████▊    | 46/79 [00:15<00:11,  2.81it/s]\u001b[A\n",
      " 59%|█████▉    | 47/79 [00:16<00:11,  2.83it/s]\u001b[A\n",
      " 61%|██████    | 48/79 [00:16<00:10,  2.83it/s]\u001b[A\n",
      " 62%|██████▏   | 49/79 [00:16<00:10,  2.83it/s]\u001b[A\n",
      " 63%|██████▎   | 50/79 [00:17<00:10,  2.83it/s]\u001b[A\n",
      " 65%|██████▍   | 51/79 [00:17<00:09,  2.83it/s]\u001b[A\n",
      " 66%|██████▌   | 52/79 [00:18<00:09,  2.84it/s]\u001b[A\n",
      " 67%|██████▋   | 53/79 [00:18<00:09,  2.85it/s]\u001b[A\n",
      " 68%|██████▊   | 54/79 [00:18<00:08,  2.84it/s]\u001b[A\n",
      " 70%|██████▉   | 55/79 [00:19<00:08,  2.84it/s]\u001b[A\n",
      " 71%|███████   | 56/79 [00:19<00:08,  2.83it/s]\u001b[A\n",
      " 72%|███████▏  | 57/79 [00:19<00:07,  2.83it/s]\u001b[A\n",
      " 73%|███████▎  | 58/79 [00:20<00:07,  2.82it/s]\u001b[A\n",
      " 75%|███████▍  | 59/79 [00:20<00:07,  2.84it/s]\u001b[A\n",
      " 76%|███████▌  | 60/79 [00:20<00:06,  2.84it/s]\u001b[A\n",
      " 77%|███████▋  | 61/79 [00:21<00:06,  2.84it/s]\u001b[A\n",
      " 78%|███████▊  | 62/79 [00:21<00:05,  2.84it/s]\u001b[A\n",
      " 80%|███████▉  | 63/79 [00:21<00:05,  2.84it/s]\u001b[A\n",
      " 81%|████████  | 64/79 [00:22<00:05,  2.84it/s]\u001b[A\n",
      " 82%|████████▏ | 65/79 [00:22<00:04,  2.82it/s]\u001b[A\n",
      " 84%|████████▎ | 66/79 [00:22<00:04,  2.83it/s]\u001b[A\n",
      " 85%|████████▍ | 67/79 [00:23<00:04,  2.84it/s]\u001b[A\n",
      " 86%|████████▌ | 68/79 [00:23<00:03,  2.83it/s]\u001b[A\n",
      " 87%|████████▋ | 69/79 [00:24<00:03,  2.84it/s]\u001b[A\n",
      " 89%|████████▊ | 70/79 [00:24<00:03,  2.84it/s]\u001b[A\n",
      " 90%|████████▉ | 71/79 [00:24<00:02,  2.84it/s]\u001b[A\n",
      " 91%|█████████ | 72/79 [00:25<00:02,  2.84it/s]\u001b[A\n",
      " 92%|█████████▏| 73/79 [00:25<00:02,  2.84it/s]\u001b[A\n",
      " 94%|█████████▎| 74/79 [00:25<00:01,  2.84it/s]\u001b[A\n",
      " 95%|█████████▍| 75/79 [00:26<00:01,  2.83it/s]\u001b[A\n",
      " 96%|█████████▌| 76/79 [00:26<00:01,  2.83it/s]\u001b[A\n",
      " 97%|█████████▋| 77/79 [00:26<00:00,  2.82it/s]\u001b[A\n",
      "                                                  \n",
      "  7%|▋         | 280/4000 [07:23<41:27,  1.50it/s]\n",
      "100%|██████████| 79/79 [00:27<00:00,  2.88it/s]\u001b[A\n",
      "                                               \u001b[A"
     ]
    },
    {
     "name": "stdout",
     "output_type": "stream",
     "text": [
      "{'eval_loss': 3.8937554359436035, 'eval_accuracy': 0.1154, 'eval_runtime': 27.6566, 'eval_samples_per_second': 361.578, 'eval_steps_per_second': 2.856, 'epoch': 7.0}\n"
     ]
    },
    {
     "name": "stderr",
     "output_type": "stream",
     "text": [
      "  7%|▋         | 290/4000 [07:33<1:17:25,  1.25s/it]"
     ]
    },
    {
     "name": "stdout",
     "output_type": "stream",
     "text": [
      "{'loss': 3.6846, 'grad_norm': 8.963394165039062, 'learning_rate': 1.855e-05, 'epoch': 7.25}\n"
     ]
    },
    {
     "name": "stderr",
     "output_type": "stream",
     "text": [
      "  8%|▊         | 300/4000 [07:42<56:48,  1.09it/s]  "
     ]
    },
    {
     "name": "stdout",
     "output_type": "stream",
     "text": [
      "{'loss': 3.6114, 'grad_norm': 9.190397262573242, 'learning_rate': 1.8500000000000002e-05, 'epoch': 7.5}\n"
     ]
    },
    {
     "name": "stderr",
     "output_type": "stream",
     "text": [
      "  8%|▊         | 310/4000 [07:51<55:44,  1.10it/s]"
     ]
    },
    {
     "name": "stdout",
     "output_type": "stream",
     "text": [
      "{'loss': 3.6244, 'grad_norm': 9.538056373596191, 'learning_rate': 1.845e-05, 'epoch': 7.75}\n"
     ]
    },
    {
     "name": "stderr",
     "output_type": "stream",
     "text": [
      "  8%|▊         | 320/4000 [07:59<40:46,  1.50it/s]"
     ]
    },
    {
     "name": "stdout",
     "output_type": "stream",
     "text": [
      "{'loss': 3.6675, 'grad_norm': 30.273841857910156, 'learning_rate': 1.8400000000000003e-05, 'epoch': 8.0}\n"
     ]
    },
    {
     "name": "stderr",
     "output_type": "stream",
     "text": [
      "\n",
      "  0%|          | 0/79 [00:00<?, ?it/s]\u001b[A\n",
      "  3%|▎         | 2/79 [00:00<00:13,  5.75it/s]\u001b[A\n",
      "  4%|▍         | 3/79 [00:00<00:19,  3.93it/s]\u001b[A\n",
      "  5%|▌         | 4/79 [00:01<00:21,  3.45it/s]\u001b[A\n",
      "  6%|▋         | 5/79 [00:01<00:23,  3.21it/s]\u001b[A\n",
      "  8%|▊         | 6/79 [00:01<00:23,  3.06it/s]\u001b[A\n",
      "  9%|▉         | 7/79 [00:02<00:24,  2.97it/s]\u001b[A\n",
      " 10%|█         | 8/79 [00:02<00:24,  2.93it/s]\u001b[A\n",
      " 11%|█▏        | 9/79 [00:02<00:24,  2.90it/s]\u001b[A\n",
      " 13%|█▎        | 10/79 [00:03<00:24,  2.87it/s]\u001b[A\n",
      " 14%|█▍        | 11/79 [00:03<00:23,  2.85it/s]\u001b[A\n",
      " 15%|█▌        | 12/79 [00:03<00:23,  2.85it/s]\u001b[A\n",
      " 16%|█▋        | 13/79 [00:04<00:23,  2.83it/s]\u001b[A\n",
      " 18%|█▊        | 14/79 [00:04<00:22,  2.83it/s]\u001b[A\n",
      " 19%|█▉        | 15/79 [00:04<00:22,  2.83it/s]\u001b[A\n",
      " 20%|██        | 16/79 [00:05<00:22,  2.83it/s]\u001b[A\n",
      " 22%|██▏       | 17/79 [00:05<00:21,  2.82it/s]\u001b[A\n",
      " 23%|██▎       | 18/79 [00:06<00:21,  2.83it/s]\u001b[A\n",
      " 24%|██▍       | 19/79 [00:06<00:21,  2.82it/s]\u001b[A\n",
      " 25%|██▌       | 20/79 [00:06<00:20,  2.82it/s]\u001b[A\n",
      " 27%|██▋       | 21/79 [00:07<00:20,  2.83it/s]\u001b[A\n",
      " 28%|██▊       | 22/79 [00:07<00:20,  2.83it/s]\u001b[A\n",
      " 29%|██▉       | 23/79 [00:07<00:19,  2.83it/s]\u001b[A\n",
      " 30%|███       | 24/79 [00:08<00:19,  2.82it/s]\u001b[A\n",
      " 32%|███▏      | 25/79 [00:08<00:19,  2.83it/s]\u001b[A\n",
      " 33%|███▎      | 26/79 [00:08<00:18,  2.85it/s]\u001b[A\n",
      " 34%|███▍      | 27/79 [00:09<00:18,  2.83it/s]\u001b[A\n",
      " 35%|███▌      | 28/79 [00:09<00:17,  2.84it/s]\u001b[A\n",
      " 37%|███▋      | 29/79 [00:09<00:17,  2.82it/s]\u001b[A\n",
      " 38%|███▊      | 30/79 [00:10<00:17,  2.83it/s]\u001b[A\n",
      " 39%|███▉      | 31/79 [00:10<00:17,  2.82it/s]\u001b[A\n",
      " 41%|████      | 32/79 [00:10<00:16,  2.82it/s]\u001b[A\n",
      " 42%|████▏     | 33/79 [00:11<00:16,  2.82it/s]\u001b[A\n",
      " 43%|████▎     | 34/79 [00:11<00:15,  2.82it/s]\u001b[A\n",
      " 44%|████▍     | 35/79 [00:12<00:15,  2.81it/s]\u001b[A\n",
      " 46%|████▌     | 36/79 [00:12<00:15,  2.82it/s]\u001b[A\n",
      " 47%|████▋     | 37/79 [00:12<00:14,  2.82it/s]\u001b[A\n",
      " 48%|████▊     | 38/79 [00:13<00:14,  2.82it/s]\u001b[A\n",
      " 49%|████▉     | 39/79 [00:13<00:14,  2.82it/s]\u001b[A\n",
      " 51%|█████     | 40/79 [00:13<00:13,  2.82it/s]\u001b[A\n",
      " 52%|█████▏    | 41/79 [00:14<00:13,  2.82it/s]\u001b[A\n",
      " 53%|█████▎    | 42/79 [00:14<00:13,  2.82it/s]\u001b[A\n",
      " 54%|█████▍    | 43/79 [00:14<00:12,  2.82it/s]\u001b[A\n",
      " 56%|█████▌    | 44/79 [00:15<00:12,  2.82it/s]\u001b[A\n",
      " 57%|█████▋    | 45/79 [00:15<00:12,  2.82it/s]\u001b[A\n",
      " 58%|█████▊    | 46/79 [00:15<00:11,  2.82it/s]\u001b[A\n",
      " 59%|█████▉    | 47/79 [00:16<00:11,  2.82it/s]\u001b[A\n",
      " 61%|██████    | 48/79 [00:16<00:10,  2.82it/s]\u001b[A\n",
      " 62%|██████▏   | 49/79 [00:17<00:10,  2.82it/s]\u001b[A\n",
      " 63%|██████▎   | 50/79 [00:17<00:10,  2.83it/s]\u001b[A\n",
      " 65%|██████▍   | 51/79 [00:17<00:09,  2.82it/s]\u001b[A\n",
      " 66%|██████▌   | 52/79 [00:18<00:09,  2.81it/s]\u001b[A\n",
      " 67%|██████▋   | 53/79 [00:18<00:09,  2.82it/s]\u001b[A\n",
      " 68%|██████▊   | 54/79 [00:18<00:08,  2.81it/s]\u001b[A\n",
      " 70%|██████▉   | 55/79 [00:19<00:08,  2.81it/s]\u001b[A\n",
      " 71%|███████   | 56/79 [00:19<00:08,  2.81it/s]\u001b[A\n",
      " 72%|███████▏  | 57/79 [00:19<00:07,  2.81it/s]\u001b[A\n",
      " 73%|███████▎  | 58/79 [00:20<00:07,  2.81it/s]\u001b[A\n",
      " 75%|███████▍  | 59/79 [00:20<00:07,  2.81it/s]\u001b[A\n",
      " 76%|███████▌  | 60/79 [00:20<00:06,  2.81it/s]\u001b[A\n",
      " 77%|███████▋  | 61/79 [00:21<00:06,  2.81it/s]\u001b[A\n",
      " 78%|███████▊  | 62/79 [00:21<00:06,  2.82it/s]\u001b[A\n",
      " 80%|███████▉  | 63/79 [00:21<00:05,  2.83it/s]\u001b[A\n",
      " 81%|████████  | 64/79 [00:22<00:05,  2.82it/s]\u001b[A\n",
      " 82%|████████▏ | 65/79 [00:22<00:04,  2.82it/s]\u001b[A\n",
      " 84%|████████▎ | 66/79 [00:23<00:04,  2.83it/s]\u001b[A\n",
      " 85%|████████▍ | 67/79 [00:23<00:04,  2.84it/s]\u001b[A\n",
      " 86%|████████▌ | 68/79 [00:23<00:03,  2.84it/s]\u001b[A\n",
      " 87%|████████▋ | 69/79 [00:24<00:03,  2.85it/s]\u001b[A\n",
      " 89%|████████▊ | 70/79 [00:24<00:03,  2.84it/s]\u001b[A\n",
      " 90%|████████▉ | 71/79 [00:24<00:02,  2.84it/s]\u001b[A\n",
      " 91%|█████████ | 72/79 [00:25<00:02,  2.85it/s]\u001b[A\n",
      " 92%|█████████▏| 73/79 [00:25<00:02,  2.85it/s]\u001b[A\n",
      " 94%|█████████▎| 74/79 [00:25<00:01,  2.84it/s]\u001b[A\n",
      " 95%|█████████▍| 75/79 [00:26<00:01,  2.86it/s]\u001b[A\n",
      " 96%|█████████▌| 76/79 [00:26<00:01,  2.85it/s]\u001b[A\n",
      " 97%|█████████▋| 77/79 [00:26<00:00,  2.85it/s]\u001b[A\n",
      "                                                  \n",
      "  8%|▊         | 320/4000 [08:27<40:46,  1.50it/s]\n",
      "100%|██████████| 79/79 [00:27<00:00,  2.91it/s]\u001b[A\n",
      "                                               \u001b[A"
     ]
    },
    {
     "name": "stdout",
     "output_type": "stream",
     "text": [
      "{'eval_loss': 3.8471133708953857, 'eval_accuracy': 0.1172, 'eval_runtime': 27.721, 'eval_samples_per_second': 360.738, 'eval_steps_per_second': 2.85, 'epoch': 8.0}\n"
     ]
    },
    {
     "name": "stderr",
     "output_type": "stream",
     "text": [
      "  8%|▊         | 330/4000 [08:37<1:16:18,  1.25s/it]"
     ]
    },
    {
     "name": "stdout",
     "output_type": "stream",
     "text": [
      "{'loss': 3.5965, 'grad_norm': 9.766987800598145, 'learning_rate': 1.8350000000000002e-05, 'epoch': 8.25}\n"
     ]
    },
    {
     "name": "stderr",
     "output_type": "stream",
     "text": [
      "  8%|▊         | 340/4000 [08:46<56:10,  1.09it/s]  "
     ]
    },
    {
     "name": "stdout",
     "output_type": "stream",
     "text": [
      "{'loss': 3.5617, 'grad_norm': 11.6897554397583, 'learning_rate': 1.83e-05, 'epoch': 8.5}\n"
     ]
    },
    {
     "name": "stderr",
     "output_type": "stream",
     "text": [
      "  9%|▉         | 350/4000 [08:55<55:33,  1.10it/s]"
     ]
    },
    {
     "name": "stdout",
     "output_type": "stream",
     "text": [
      "{'loss': 3.5886, 'grad_norm': 9.129532814025879, 'learning_rate': 1.825e-05, 'epoch': 8.75}\n"
     ]
    },
    {
     "name": "stderr",
     "output_type": "stream",
     "text": [
      "  9%|▉         | 360/4000 [09:04<40:16,  1.51it/s]"
     ]
    },
    {
     "name": "stdout",
     "output_type": "stream",
     "text": [
      "{'loss': 3.5861, 'grad_norm': 33.54877853393555, 'learning_rate': 1.8200000000000002e-05, 'epoch': 9.0}\n"
     ]
    },
    {
     "name": "stderr",
     "output_type": "stream",
     "text": [
      "\n",
      "  0%|          | 0/79 [00:00<?, ?it/s]\u001b[A\n",
      "  3%|▎         | 2/79 [00:00<00:13,  5.83it/s]\u001b[A\n",
      "  4%|▍         | 3/79 [00:00<00:19,  3.97it/s]\u001b[A\n",
      "  5%|▌         | 4/79 [00:01<00:21,  3.47it/s]\u001b[A\n",
      "  6%|▋         | 5/79 [00:01<00:22,  3.23it/s]\u001b[A\n",
      "  8%|▊         | 6/79 [00:01<00:23,  3.08it/s]\u001b[A\n",
      "  9%|▉         | 7/79 [00:02<00:23,  3.01it/s]\u001b[A\n",
      " 10%|█         | 8/79 [00:02<00:24,  2.95it/s]\u001b[A\n",
      " 11%|█▏        | 9/79 [00:02<00:24,  2.91it/s]\u001b[A\n",
      " 13%|█▎        | 10/79 [00:03<00:23,  2.88it/s]\u001b[A\n",
      " 14%|█▍        | 11/79 [00:03<00:23,  2.87it/s]\u001b[A\n",
      " 15%|█▌        | 12/79 [00:03<00:23,  2.85it/s]\u001b[A\n",
      " 16%|█▋        | 13/79 [00:04<00:23,  2.84it/s]\u001b[A\n",
      " 18%|█▊        | 14/79 [00:04<00:22,  2.84it/s]\u001b[A\n",
      " 19%|█▉        | 15/79 [00:04<00:22,  2.84it/s]\u001b[A\n",
      " 20%|██        | 16/79 [00:05<00:22,  2.84it/s]\u001b[A\n",
      " 22%|██▏       | 17/79 [00:05<00:21,  2.84it/s]\u001b[A\n",
      " 23%|██▎       | 18/79 [00:05<00:21,  2.83it/s]\u001b[A\n",
      " 24%|██▍       | 19/79 [00:06<00:21,  2.84it/s]\u001b[A\n",
      " 25%|██▌       | 20/79 [00:06<00:20,  2.83it/s]\u001b[A\n",
      " 27%|██▋       | 21/79 [00:07<00:20,  2.83it/s]\u001b[A\n",
      " 28%|██▊       | 22/79 [00:07<00:20,  2.82it/s]\u001b[A\n",
      " 29%|██▉       | 23/79 [00:07<00:19,  2.83it/s]\u001b[A\n",
      " 30%|███       | 24/79 [00:08<00:19,  2.83it/s]\u001b[A\n",
      " 32%|███▏      | 25/79 [00:08<00:19,  2.82it/s]\u001b[A\n",
      " 33%|███▎      | 26/79 [00:08<00:18,  2.82it/s]\u001b[A\n",
      " 34%|███▍      | 27/79 [00:09<00:18,  2.83it/s]\u001b[A\n",
      " 35%|███▌      | 28/79 [00:09<00:17,  2.84it/s]\u001b[A\n",
      " 37%|███▋      | 29/79 [00:09<00:17,  2.82it/s]\u001b[A\n",
      " 38%|███▊      | 30/79 [00:10<00:17,  2.83it/s]\u001b[A\n",
      " 39%|███▉      | 31/79 [00:10<00:17,  2.82it/s]\u001b[A\n",
      " 41%|████      | 32/79 [00:10<00:16,  2.84it/s]\u001b[A\n",
      " 42%|████▏     | 33/79 [00:11<00:16,  2.82it/s]\u001b[A\n",
      " 43%|████▎     | 34/79 [00:11<00:15,  2.82it/s]\u001b[A\n",
      " 44%|████▍     | 35/79 [00:12<00:15,  2.82it/s]\u001b[A\n",
      " 46%|████▌     | 36/79 [00:12<00:15,  2.83it/s]\u001b[A\n",
      " 47%|████▋     | 37/79 [00:12<00:14,  2.82it/s]\u001b[A\n",
      " 48%|████▊     | 38/79 [00:13<00:14,  2.83it/s]\u001b[A\n",
      " 49%|████▉     | 39/79 [00:13<00:14,  2.83it/s]\u001b[A\n",
      " 51%|█████     | 40/79 [00:13<00:13,  2.83it/s]\u001b[A\n",
      " 52%|█████▏    | 41/79 [00:14<00:13,  2.83it/s]\u001b[A\n",
      " 53%|█████▎    | 42/79 [00:14<00:13,  2.83it/s]\u001b[A\n",
      " 54%|█████▍    | 43/79 [00:14<00:12,  2.83it/s]\u001b[A\n",
      " 56%|█████▌    | 44/79 [00:15<00:12,  2.83it/s]\u001b[A\n",
      " 57%|█████▋    | 45/79 [00:15<00:12,  2.83it/s]\u001b[A\n",
      " 58%|█████▊    | 46/79 [00:15<00:11,  2.82it/s]\u001b[A\n",
      " 59%|█████▉    | 47/79 [00:16<00:11,  2.83it/s]\u001b[A\n",
      " 61%|██████    | 48/79 [00:16<00:10,  2.83it/s]\u001b[A\n",
      " 62%|██████▏   | 49/79 [00:16<00:10,  2.83it/s]\u001b[A\n",
      " 63%|██████▎   | 50/79 [00:17<00:10,  2.81it/s]\u001b[A\n",
      " 65%|██████▍   | 51/79 [00:17<00:09,  2.82it/s]\u001b[A\n",
      " 66%|██████▌   | 52/79 [00:18<00:09,  2.83it/s]\u001b[A\n",
      " 67%|██████▋   | 53/79 [00:18<00:09,  2.83it/s]\u001b[A\n",
      " 68%|██████▊   | 54/79 [00:18<00:08,  2.82it/s]\u001b[A\n",
      " 70%|██████▉   | 55/79 [00:19<00:08,  2.82it/s]\u001b[A\n",
      " 71%|███████   | 56/79 [00:19<00:08,  2.82it/s]\u001b[A\n",
      " 72%|███████▏  | 57/79 [00:19<00:07,  2.82it/s]\u001b[A\n",
      " 73%|███████▎  | 58/79 [00:20<00:07,  2.82it/s]\u001b[A\n",
      " 75%|███████▍  | 59/79 [00:20<00:07,  2.83it/s]\u001b[A\n",
      " 76%|███████▌  | 60/79 [00:20<00:06,  2.82it/s]\u001b[A\n",
      " 77%|███████▋  | 61/79 [00:21<00:06,  2.83it/s]\u001b[A\n",
      " 78%|███████▊  | 62/79 [00:21<00:06,  2.81it/s]\u001b[A\n",
      " 80%|███████▉  | 63/79 [00:21<00:05,  2.82it/s]\u001b[A\n",
      " 81%|████████  | 64/79 [00:22<00:05,  2.82it/s]\u001b[A\n",
      " 82%|████████▏ | 65/79 [00:22<00:04,  2.82it/s]\u001b[A\n",
      " 84%|████████▎ | 66/79 [00:22<00:04,  2.81it/s]\u001b[A\n",
      " 85%|████████▍ | 67/79 [00:23<00:04,  2.81it/s]\u001b[A\n",
      " 86%|████████▌ | 68/79 [00:23<00:03,  2.81it/s]\u001b[A\n",
      " 87%|████████▋ | 69/79 [00:24<00:03,  2.80it/s]\u001b[A\n",
      " 89%|████████▊ | 70/79 [00:24<00:03,  2.81it/s]\u001b[A\n",
      " 90%|████████▉ | 71/79 [00:24<00:02,  2.81it/s]\u001b[A\n",
      " 91%|█████████ | 72/79 [00:25<00:02,  2.81it/s]\u001b[A\n",
      " 92%|█████████▏| 73/79 [00:25<00:02,  2.81it/s]\u001b[A\n",
      " 94%|█████████▎| 74/79 [00:25<00:01,  2.81it/s]\u001b[A\n",
      " 95%|█████████▍| 75/79 [00:26<00:01,  2.82it/s]\u001b[A\n",
      " 96%|█████████▌| 76/79 [00:26<00:01,  2.82it/s]\u001b[A\n",
      " 97%|█████████▋| 77/79 [00:26<00:00,  2.82it/s]\u001b[A\n",
      "                                                  \n",
      "  9%|▉         | 360/4000 [09:31<40:16,  1.51it/s]\n",
      "100%|██████████| 79/79 [00:27<00:00,  2.88it/s]\u001b[A\n",
      "                                               \u001b[A"
     ]
    },
    {
     "name": "stdout",
     "output_type": "stream",
     "text": [
      "{'eval_loss': 3.805697202682495, 'eval_accuracy': 0.1267, 'eval_runtime': 27.7189, 'eval_samples_per_second': 360.764, 'eval_steps_per_second': 2.85, 'epoch': 9.0}\n"
     ]
    },
    {
     "name": "stderr",
     "output_type": "stream",
     "text": [
      "  9%|▉         | 370/4000 [09:42<1:15:49,  1.25s/it]"
     ]
    },
    {
     "name": "stdout",
     "output_type": "stream",
     "text": [
      "{'loss': 3.504, 'grad_norm': 9.350475311279297, 'learning_rate': 1.815e-05, 'epoch': 9.25}\n"
     ]
    },
    {
     "name": "stderr",
     "output_type": "stream",
     "text": [
      " 10%|▉         | 380/4000 [09:51<55:30,  1.09it/s]  "
     ]
    },
    {
     "name": "stdout",
     "output_type": "stream",
     "text": [
      "{'loss': 3.5084, 'grad_norm': 10.3888578414917, 'learning_rate': 1.8100000000000003e-05, 'epoch': 9.5}\n"
     ]
    },
    {
     "name": "stderr",
     "output_type": "stream",
     "text": [
      " 10%|▉         | 390/4000 [10:00<54:27,  1.10it/s]"
     ]
    },
    {
     "name": "stdout",
     "output_type": "stream",
     "text": [
      "{'loss': 3.5089, 'grad_norm': 11.17236328125, 'learning_rate': 1.805e-05, 'epoch': 9.75}\n"
     ]
    },
    {
     "name": "stderr",
     "output_type": "stream",
     "text": [
      " 10%|█         | 400/4000 [10:08<40:01,  1.50it/s]"
     ]
    },
    {
     "name": "stdout",
     "output_type": "stream",
     "text": [
      "{'loss': 3.5584, 'grad_norm': 46.092288970947266, 'learning_rate': 1.8e-05, 'epoch': 10.0}\n"
     ]
    },
    {
     "name": "stderr",
     "output_type": "stream",
     "text": [
      "\n",
      "  0%|          | 0/79 [00:00<?, ?it/s]\u001b[A\n",
      "  3%|▎         | 2/79 [00:00<00:13,  5.82it/s]\u001b[A\n",
      "  4%|▍         | 3/79 [00:00<00:19,  3.97it/s]\u001b[A\n",
      "  5%|▌         | 4/79 [00:01<00:21,  3.41it/s]\u001b[A\n",
      "  6%|▋         | 5/79 [00:01<00:23,  3.20it/s]\u001b[A\n",
      "  8%|▊         | 6/79 [00:01<00:23,  3.06it/s]\u001b[A\n",
      "  9%|▉         | 7/79 [00:02<00:24,  2.98it/s]\u001b[A\n",
      " 10%|█         | 8/79 [00:02<00:24,  2.92it/s]\u001b[A\n",
      " 11%|█▏        | 9/79 [00:02<00:24,  2.89it/s]\u001b[A\n",
      " 13%|█▎        | 10/79 [00:03<00:24,  2.86it/s]\u001b[A\n",
      " 14%|█▍        | 11/79 [00:03<00:23,  2.84it/s]\u001b[A\n",
      " 15%|█▌        | 12/79 [00:03<00:23,  2.83it/s]\u001b[A\n",
      " 16%|█▋        | 13/79 [00:04<00:23,  2.82it/s]\u001b[A\n",
      " 18%|█▊        | 14/79 [00:04<00:23,  2.83it/s]\u001b[A\n",
      " 19%|█▉        | 15/79 [00:04<00:22,  2.82it/s]\u001b[A\n",
      " 20%|██        | 16/79 [00:05<00:22,  2.82it/s]\u001b[A\n",
      " 22%|██▏       | 17/79 [00:05<00:21,  2.82it/s]\u001b[A\n",
      " 23%|██▎       | 18/79 [00:06<00:21,  2.83it/s]\u001b[A\n",
      " 24%|██▍       | 19/79 [00:06<00:21,  2.82it/s]\u001b[A\n",
      " 25%|██▌       | 20/79 [00:06<00:20,  2.82it/s]\u001b[A\n",
      " 27%|██▋       | 21/79 [00:07<00:20,  2.82it/s]\u001b[A\n",
      " 28%|██▊       | 22/79 [00:07<00:20,  2.82it/s]\u001b[A\n",
      " 29%|██▉       | 23/79 [00:07<00:19,  2.82it/s]\u001b[A\n",
      " 30%|███       | 24/79 [00:08<00:19,  2.82it/s]\u001b[A\n",
      " 32%|███▏      | 25/79 [00:08<00:19,  2.81it/s]\u001b[A\n",
      " 33%|███▎      | 26/79 [00:08<00:18,  2.82it/s]\u001b[A\n",
      " 34%|███▍      | 27/79 [00:09<00:18,  2.81it/s]\u001b[A\n",
      " 35%|███▌      | 28/79 [00:09<00:18,  2.81it/s]\u001b[A\n",
      " 37%|███▋      | 29/79 [00:09<00:17,  2.80it/s]\u001b[A\n",
      " 38%|███▊      | 30/79 [00:10<00:17,  2.81it/s]\u001b[A\n",
      " 39%|███▉      | 31/79 [00:10<00:17,  2.81it/s]\u001b[A\n",
      " 41%|████      | 32/79 [00:11<00:16,  2.82it/s]\u001b[A\n",
      " 42%|████▏     | 33/79 [00:11<00:16,  2.82it/s]\u001b[A\n",
      " 43%|████▎     | 34/79 [00:11<00:15,  2.82it/s]\u001b[A\n",
      " 44%|████▍     | 35/79 [00:12<00:15,  2.81it/s]\u001b[A\n",
      " 46%|████▌     | 36/79 [00:12<00:15,  2.82it/s]\u001b[A\n",
      " 47%|████▋     | 37/79 [00:12<00:14,  2.82it/s]\u001b[A\n",
      " 48%|████▊     | 38/79 [00:13<00:14,  2.82it/s]\u001b[A\n",
      " 49%|████▉     | 39/79 [00:13<00:14,  2.82it/s]\u001b[A\n",
      " 51%|█████     | 40/79 [00:13<00:13,  2.82it/s]\u001b[A\n",
      " 52%|█████▏    | 41/79 [00:14<00:13,  2.82it/s]\u001b[A\n",
      " 53%|█████▎    | 42/79 [00:14<00:13,  2.82it/s]\u001b[A\n",
      " 54%|█████▍    | 43/79 [00:14<00:12,  2.81it/s]\u001b[A\n",
      " 56%|█████▌    | 44/79 [00:15<00:12,  2.81it/s]\u001b[A\n",
      " 57%|█████▋    | 45/79 [00:15<00:12,  2.82it/s]\u001b[A\n",
      " 58%|█████▊    | 46/79 [00:15<00:11,  2.82it/s]\u001b[A\n",
      " 59%|█████▉    | 47/79 [00:16<00:11,  2.82it/s]\u001b[A\n",
      " 61%|██████    | 48/79 [00:16<00:10,  2.82it/s]\u001b[A\n",
      " 62%|██████▏   | 49/79 [00:17<00:10,  2.82it/s]\u001b[A\n",
      " 63%|██████▎   | 50/79 [00:17<00:10,  2.82it/s]\u001b[A\n",
      " 65%|██████▍   | 51/79 [00:17<00:09,  2.82it/s]\u001b[A\n",
      " 66%|██████▌   | 52/79 [00:18<00:09,  2.82it/s]\u001b[A\n",
      " 67%|██████▋   | 53/79 [00:18<00:09,  2.82it/s]\u001b[A\n",
      " 68%|██████▊   | 54/79 [00:18<00:08,  2.82it/s]\u001b[A\n",
      " 70%|██████▉   | 55/79 [00:19<00:08,  2.82it/s]\u001b[A\n",
      " 71%|███████   | 56/79 [00:19<00:08,  2.82it/s]\u001b[A\n",
      " 72%|███████▏  | 57/79 [00:19<00:07,  2.82it/s]\u001b[A\n",
      " 73%|███████▎  | 58/79 [00:20<00:07,  2.83it/s]\u001b[A\n",
      " 75%|███████▍  | 59/79 [00:20<00:07,  2.82it/s]\u001b[A\n",
      " 76%|███████▌  | 60/79 [00:20<00:06,  2.84it/s]\u001b[A\n",
      " 77%|███████▋  | 61/79 [00:21<00:06,  2.84it/s]\u001b[A\n",
      " 78%|███████▊  | 62/79 [00:21<00:05,  2.84it/s]\u001b[A\n",
      " 80%|███████▉  | 63/79 [00:21<00:05,  2.84it/s]\u001b[A\n",
      " 81%|████████  | 64/79 [00:22<00:05,  2.84it/s]\u001b[A\n",
      " 82%|████████▏ | 65/79 [00:22<00:04,  2.84it/s]\u001b[A\n",
      " 84%|████████▎ | 66/79 [00:23<00:04,  2.86it/s]\u001b[A\n",
      " 85%|████████▍ | 67/79 [00:23<00:04,  2.86it/s]\u001b[A\n",
      " 86%|████████▌ | 68/79 [00:23<00:03,  2.85it/s]\u001b[A\n",
      " 87%|████████▋ | 69/79 [00:24<00:03,  2.86it/s]\u001b[A\n",
      " 89%|████████▊ | 70/79 [00:24<00:03,  2.86it/s]\u001b[A\n",
      " 90%|████████▉ | 71/79 [00:24<00:02,  2.87it/s]\u001b[A\n",
      " 91%|█████████ | 72/79 [00:25<00:02,  2.86it/s]\u001b[A\n",
      " 92%|█████████▏| 73/79 [00:25<00:02,  2.86it/s]\u001b[A\n",
      " 94%|█████████▎| 74/79 [00:25<00:01,  2.87it/s]\u001b[A\n",
      " 95%|█████████▍| 75/79 [00:26<00:01,  2.87it/s]\u001b[A\n",
      " 96%|█████████▌| 76/79 [00:26<00:01,  2.86it/s]\u001b[A\n",
      " 97%|█████████▋| 77/79 [00:26<00:00,  2.86it/s]\u001b[A\n",
      "                                                  \n",
      " 10%|█         | 400/4000 [10:36<40:01,  1.50it/s]\n",
      "100%|██████████| 79/79 [00:27<00:00,  2.92it/s]\u001b[A\n",
      "                                               \u001b[A"
     ]
    },
    {
     "name": "stdout",
     "output_type": "stream",
     "text": [
      "{'eval_loss': 3.7748703956604004, 'eval_accuracy': 0.1306, 'eval_runtime': 27.6906, 'eval_samples_per_second': 361.133, 'eval_steps_per_second': 2.853, 'epoch': 10.0}\n"
     ]
    },
    {
     "name": "stderr",
     "output_type": "stream",
     "text": [
      " 10%|█         | 410/4000 [10:46<1:14:30,  1.25s/it]"
     ]
    },
    {
     "name": "stdout",
     "output_type": "stream",
     "text": [
      "{'loss': 3.4042, 'grad_norm': 10.927593231201172, 'learning_rate': 1.795e-05, 'epoch': 10.25}\n"
     ]
    },
    {
     "name": "stderr",
     "output_type": "stream",
     "text": [
      " 10%|█         | 420/4000 [10:55<54:57,  1.09it/s]  "
     ]
    },
    {
     "name": "stdout",
     "output_type": "stream",
     "text": [
      "{'loss': 3.4417, 'grad_norm': 12.171942710876465, 'learning_rate': 1.79e-05, 'epoch': 10.5}\n"
     ]
    },
    {
     "name": "stderr",
     "output_type": "stream",
     "text": [
      " 11%|█         | 430/4000 [11:04<54:08,  1.10it/s]"
     ]
    },
    {
     "name": "stdout",
     "output_type": "stream",
     "text": [
      "{'loss': 3.4724, 'grad_norm': 12.386139869689941, 'learning_rate': 1.785e-05, 'epoch': 10.75}\n"
     ]
    },
    {
     "name": "stderr",
     "output_type": "stream",
     "text": [
      " 11%|█         | 440/4000 [11:12<39:27,  1.50it/s]"
     ]
    },
    {
     "name": "stdout",
     "output_type": "stream",
     "text": [
      "{'loss': 3.4394, 'grad_norm': 36.238643646240234, 'learning_rate': 1.7800000000000002e-05, 'epoch': 11.0}\n"
     ]
    },
    {
     "name": "stderr",
     "output_type": "stream",
     "text": [
      "\n",
      "  0%|          | 0/79 [00:00<?, ?it/s]\u001b[A\n",
      "  3%|▎         | 2/79 [00:00<00:13,  5.82it/s]\u001b[A\n",
      "  4%|▍         | 3/79 [00:00<00:19,  3.95it/s]\u001b[A\n",
      "  5%|▌         | 4/79 [00:01<00:21,  3.46it/s]\u001b[A\n",
      "  6%|▋         | 5/79 [00:01<00:22,  3.23it/s]\u001b[A\n",
      "  8%|▊         | 6/79 [00:01<00:23,  3.08it/s]\u001b[A\n",
      "  9%|▉         | 7/79 [00:02<00:24,  2.99it/s]\u001b[A\n",
      " 10%|█         | 8/79 [00:02<00:24,  2.94it/s]\u001b[A\n",
      " 11%|█▏        | 9/79 [00:02<00:24,  2.90it/s]\u001b[A\n",
      " 13%|█▎        | 10/79 [00:03<00:24,  2.87it/s]\u001b[A\n",
      " 14%|█▍        | 11/79 [00:03<00:23,  2.86it/s]\u001b[A\n",
      " 15%|█▌        | 12/79 [00:03<00:23,  2.84it/s]\u001b[A\n",
      " 16%|█▋        | 13/79 [00:04<00:23,  2.83it/s]\u001b[A\n",
      " 18%|█▊        | 14/79 [00:04<00:22,  2.84it/s]\u001b[A\n",
      " 19%|█▉        | 15/79 [00:04<00:22,  2.83it/s]\u001b[A\n",
      " 20%|██        | 16/79 [00:05<00:22,  2.82it/s]\u001b[A\n",
      " 22%|██▏       | 17/79 [00:05<00:22,  2.82it/s]\u001b[A\n",
      " 23%|██▎       | 18/79 [00:06<00:21,  2.82it/s]\u001b[A\n",
      " 24%|██▍       | 19/79 [00:06<00:21,  2.83it/s]\u001b[A\n",
      " 25%|██▌       | 20/79 [00:06<00:20,  2.83it/s]\u001b[A\n",
      " 27%|██▋       | 21/79 [00:07<00:20,  2.82it/s]\u001b[A\n",
      " 28%|██▊       | 22/79 [00:07<00:20,  2.82it/s]\u001b[A\n",
      " 29%|██▉       | 23/79 [00:07<00:19,  2.82it/s]\u001b[A\n",
      " 30%|███       | 24/79 [00:08<00:19,  2.82it/s]\u001b[A\n",
      " 32%|███▏      | 25/79 [00:08<00:19,  2.81it/s]\u001b[A\n",
      " 33%|███▎      | 26/79 [00:08<00:18,  2.82it/s]\u001b[A\n",
      " 34%|███▍      | 27/79 [00:09<00:18,  2.81it/s]\u001b[A\n",
      " 35%|███▌      | 28/79 [00:09<00:18,  2.82it/s]\u001b[A\n",
      " 37%|███▋      | 29/79 [00:09<00:17,  2.82it/s]\u001b[A\n",
      " 38%|███▊      | 30/79 [00:10<00:17,  2.82it/s]\u001b[A\n",
      " 39%|███▉      | 31/79 [00:10<00:17,  2.82it/s]\u001b[A\n",
      " 41%|████      | 32/79 [00:10<00:16,  2.82it/s]\u001b[A\n",
      " 42%|████▏     | 33/79 [00:11<00:16,  2.82it/s]\u001b[A\n",
      " 43%|████▎     | 34/79 [00:11<00:15,  2.83it/s]\u001b[A\n",
      " 44%|████▍     | 35/79 [00:12<00:15,  2.83it/s]\u001b[A\n",
      " 46%|████▌     | 36/79 [00:12<00:15,  2.83it/s]\u001b[A\n",
      " 47%|████▋     | 37/79 [00:12<00:14,  2.82it/s]\u001b[A\n",
      " 48%|████▊     | 38/79 [00:13<00:14,  2.82it/s]\u001b[A\n",
      " 49%|████▉     | 39/79 [00:13<00:14,  2.82it/s]\u001b[A\n",
      " 51%|█████     | 40/79 [00:13<00:13,  2.83it/s]\u001b[A\n",
      " 52%|█████▏    | 41/79 [00:14<00:13,  2.82it/s]\u001b[A\n",
      " 53%|█████▎    | 42/79 [00:14<00:13,  2.83it/s]\u001b[A\n",
      " 54%|█████▍    | 43/79 [00:14<00:12,  2.82it/s]\u001b[A\n",
      " 56%|█████▌    | 44/79 [00:15<00:12,  2.82it/s]\u001b[A\n",
      " 57%|█████▋    | 45/79 [00:15<00:12,  2.82it/s]\u001b[A\n",
      " 58%|█████▊    | 46/79 [00:15<00:11,  2.82it/s]\u001b[A\n",
      " 59%|█████▉    | 47/79 [00:16<00:11,  2.81it/s]\u001b[A\n",
      " 61%|██████    | 48/79 [00:16<00:10,  2.82it/s]\u001b[A\n",
      " 62%|██████▏   | 49/79 [00:17<00:10,  2.81it/s]\u001b[A\n",
      " 63%|██████▎   | 50/79 [00:17<00:10,  2.82it/s]\u001b[A\n",
      " 65%|██████▍   | 51/79 [00:17<00:09,  2.82it/s]\u001b[A\n",
      " 66%|██████▌   | 52/79 [00:18<00:09,  2.82it/s]\u001b[A\n",
      " 67%|██████▋   | 53/79 [00:18<00:09,  2.81it/s]\u001b[A\n",
      " 68%|██████▊   | 54/79 [00:18<00:08,  2.82it/s]\u001b[A\n",
      " 70%|██████▉   | 55/79 [00:19<00:08,  2.81it/s]\u001b[A\n",
      " 71%|███████   | 56/79 [00:19<00:08,  2.82it/s]\u001b[A\n",
      " 72%|███████▏  | 57/79 [00:19<00:07,  2.81it/s]\u001b[A\n",
      " 73%|███████▎  | 58/79 [00:20<00:07,  2.79it/s]\u001b[A\n",
      " 75%|███████▍  | 59/79 [00:20<00:07,  2.81it/s]\u001b[A\n",
      " 76%|███████▌  | 60/79 [00:20<00:06,  2.81it/s]\u001b[A\n",
      " 77%|███████▋  | 61/79 [00:21<00:06,  2.81it/s]\u001b[A\n",
      " 78%|███████▊  | 62/79 [00:21<00:06,  2.81it/s]\u001b[A\n",
      " 80%|███████▉  | 63/79 [00:21<00:05,  2.82it/s]\u001b[A\n",
      " 81%|████████  | 64/79 [00:22<00:05,  2.82it/s]\u001b[A\n",
      " 82%|████████▏ | 65/79 [00:22<00:04,  2.82it/s]\u001b[A\n",
      " 84%|████████▎ | 66/79 [00:23<00:04,  2.82it/s]\u001b[A\n",
      " 85%|████████▍ | 67/79 [00:23<00:04,  2.82it/s]\u001b[A\n",
      " 86%|████████▌ | 68/79 [00:23<00:03,  2.82it/s]\u001b[A\n",
      " 87%|████████▋ | 69/79 [00:24<00:03,  2.82it/s]\u001b[A\n",
      " 89%|████████▊ | 70/79 [00:24<00:03,  2.82it/s]\u001b[A\n",
      " 90%|████████▉ | 71/79 [00:24<00:02,  2.82it/s]\u001b[A\n",
      " 91%|█████████ | 72/79 [00:25<00:02,  2.84it/s]\u001b[A\n",
      " 92%|█████████▏| 73/79 [00:25<00:02,  2.83it/s]\u001b[A\n",
      " 94%|█████████▎| 74/79 [00:25<00:01,  2.83it/s]\u001b[A\n",
      " 95%|█████████▍| 75/79 [00:26<00:01,  2.82it/s]\u001b[A\n",
      " 96%|█████████▌| 76/79 [00:26<00:01,  2.84it/s]\u001b[A\n",
      " 97%|█████████▋| 77/79 [00:26<00:00,  2.84it/s]\u001b[A\n",
      "                                                  \n",
      " 11%|█         | 440/4000 [11:40<39:27,  1.50it/s]\n",
      "100%|██████████| 79/79 [00:27<00:00,  2.90it/s]\u001b[A\n",
      "                                               \u001b[A"
     ]
    },
    {
     "name": "stdout",
     "output_type": "stream",
     "text": [
      "{'eval_loss': 3.7581393718719482, 'eval_accuracy': 0.137, 'eval_runtime': 27.7558, 'eval_samples_per_second': 360.285, 'eval_steps_per_second': 2.846, 'epoch': 11.0}\n"
     ]
    },
    {
     "name": "stderr",
     "output_type": "stream",
     "text": [
      " 11%|█▏        | 450/4000 [11:50<1:13:41,  1.25s/it]"
     ]
    },
    {
     "name": "stdout",
     "output_type": "stream",
     "text": [
      "{'loss': 3.403, 'grad_norm': 12.334945678710938, 'learning_rate': 1.775e-05, 'epoch': 11.25}\n"
     ]
    },
    {
     "name": "stderr",
     "output_type": "stream",
     "text": [
      " 12%|█▏        | 460/4000 [11:59<54:20,  1.09it/s]  "
     ]
    },
    {
     "name": "stdout",
     "output_type": "stream",
     "text": [
      "{'loss': 3.3932, 'grad_norm': 11.180715560913086, 'learning_rate': 1.77e-05, 'epoch': 11.5}\n"
     ]
    },
    {
     "name": "stderr",
     "output_type": "stream",
     "text": [
      " 12%|█▏        | 470/4000 [12:08<53:36,  1.10it/s]"
     ]
    },
    {
     "name": "stdout",
     "output_type": "stream",
     "text": [
      "{'loss': 3.3683, 'grad_norm': 12.313854217529297, 'learning_rate': 1.7650000000000002e-05, 'epoch': 11.75}\n"
     ]
    },
    {
     "name": "stderr",
     "output_type": "stream",
     "text": [
      " 12%|█▏        | 480/4000 [12:17<39:10,  1.50it/s]"
     ]
    },
    {
     "name": "stdout",
     "output_type": "stream",
     "text": [
      "{'loss': 3.3888, 'grad_norm': 52.90734100341797, 'learning_rate': 1.76e-05, 'epoch': 12.0}\n"
     ]
    },
    {
     "name": "stderr",
     "output_type": "stream",
     "text": [
      "\n",
      "  0%|          | 0/79 [00:00<?, ?it/s]\u001b[A\n",
      "  3%|▎         | 2/79 [00:00<00:13,  5.76it/s]\u001b[A\n",
      "  4%|▍         | 3/79 [00:00<00:19,  3.95it/s]\u001b[A\n",
      "  5%|▌         | 4/79 [00:01<00:21,  3.44it/s]\u001b[A\n",
      "  6%|▋         | 5/79 [00:01<00:23,  3.22it/s]\u001b[A\n",
      "  8%|▊         | 6/79 [00:01<00:23,  3.08it/s]\u001b[A\n",
      "  9%|▉         | 7/79 [00:02<00:24,  3.00it/s]\u001b[A\n",
      " 10%|█         | 8/79 [00:02<00:24,  2.95it/s]\u001b[A\n",
      " 11%|█▏        | 9/79 [00:02<00:24,  2.91it/s]\u001b[A\n",
      " 13%|█▎        | 10/79 [00:03<00:23,  2.89it/s]\u001b[A\n",
      " 14%|█▍        | 11/79 [00:03<00:23,  2.88it/s]\u001b[A\n",
      " 15%|█▌        | 12/79 [00:03<00:23,  2.87it/s]\u001b[A\n",
      " 16%|█▋        | 13/79 [00:04<00:23,  2.86it/s]\u001b[A\n",
      " 18%|█▊        | 14/79 [00:04<00:22,  2.85it/s]\u001b[A\n",
      " 19%|█▉        | 15/79 [00:04<00:22,  2.85it/s]\u001b[A\n",
      " 20%|██        | 16/79 [00:05<00:22,  2.85it/s]\u001b[A\n",
      " 22%|██▏       | 17/79 [00:05<00:21,  2.85it/s]\u001b[A\n",
      " 23%|██▎       | 18/79 [00:05<00:21,  2.85it/s]\u001b[A\n",
      " 24%|██▍       | 19/79 [00:06<00:20,  2.86it/s]\u001b[A\n",
      " 25%|██▌       | 20/79 [00:06<00:20,  2.86it/s]\u001b[A\n",
      " 27%|██▋       | 21/79 [00:07<00:20,  2.85it/s]\u001b[A\n",
      " 28%|██▊       | 22/79 [00:07<00:19,  2.85it/s]\u001b[A\n",
      " 29%|██▉       | 23/79 [00:07<00:19,  2.85it/s]\u001b[A\n",
      " 30%|███       | 24/79 [00:08<00:19,  2.85it/s]\u001b[A\n",
      " 32%|███▏      | 25/79 [00:08<00:18,  2.86it/s]\u001b[A\n",
      " 33%|███▎      | 26/79 [00:08<00:18,  2.86it/s]\u001b[A\n",
      " 34%|███▍      | 27/79 [00:09<00:18,  2.85it/s]\u001b[A\n",
      " 35%|███▌      | 28/79 [00:09<00:17,  2.85it/s]\u001b[A\n",
      " 37%|███▋      | 29/79 [00:09<00:17,  2.85it/s]\u001b[A\n",
      " 38%|███▊      | 30/79 [00:10<00:17,  2.84it/s]\u001b[A\n",
      " 39%|███▉      | 31/79 [00:10<00:16,  2.85it/s]\u001b[A\n",
      " 41%|████      | 32/79 [00:10<00:16,  2.85it/s]\u001b[A\n",
      " 42%|████▏     | 33/79 [00:11<00:16,  2.84it/s]\u001b[A\n",
      " 43%|████▎     | 34/79 [00:11<00:15,  2.83it/s]\u001b[A\n",
      " 44%|████▍     | 35/79 [00:11<00:15,  2.84it/s]\u001b[A\n",
      " 46%|████▌     | 36/79 [00:12<00:15,  2.84it/s]\u001b[A\n",
      " 47%|████▋     | 37/79 [00:12<00:14,  2.83it/s]\u001b[A\n",
      " 48%|████▊     | 38/79 [00:13<00:14,  2.83it/s]\u001b[A\n",
      " 49%|████▉     | 39/79 [00:13<00:14,  2.83it/s]\u001b[A\n",
      " 51%|█████     | 40/79 [00:13<00:13,  2.83it/s]\u001b[A\n",
      " 52%|█████▏    | 41/79 [00:14<00:13,  2.83it/s]\u001b[A\n",
      " 53%|█████▎    | 42/79 [00:14<00:13,  2.83it/s]\u001b[A\n",
      " 54%|█████▍    | 43/79 [00:14<00:12,  2.82it/s]\u001b[A\n",
      " 56%|█████▌    | 44/79 [00:15<00:12,  2.82it/s]\u001b[A\n",
      " 57%|█████▋    | 45/79 [00:15<00:12,  2.82it/s]\u001b[A\n",
      " 58%|█████▊    | 46/79 [00:15<00:11,  2.82it/s]\u001b[A\n",
      " 59%|█████▉    | 47/79 [00:16<00:11,  2.82it/s]\u001b[A\n",
      " 61%|██████    | 48/79 [00:16<00:10,  2.82it/s]\u001b[A\n",
      " 62%|██████▏   | 49/79 [00:16<00:10,  2.82it/s]\u001b[A\n",
      " 63%|██████▎   | 50/79 [00:17<00:10,  2.83it/s]\u001b[A\n",
      " 65%|██████▍   | 51/79 [00:17<00:09,  2.83it/s]\u001b[A\n",
      " 66%|██████▌   | 52/79 [00:17<00:09,  2.83it/s]\u001b[A\n",
      " 67%|██████▋   | 53/79 [00:18<00:09,  2.83it/s]\u001b[A\n",
      " 68%|██████▊   | 54/79 [00:18<00:08,  2.82it/s]\u001b[A\n",
      " 70%|██████▉   | 55/79 [00:19<00:08,  2.83it/s]\u001b[A\n",
      " 71%|███████   | 56/79 [00:19<00:08,  2.82it/s]\u001b[A\n",
      " 72%|███████▏  | 57/79 [00:19<00:07,  2.83it/s]\u001b[A\n",
      " 73%|███████▎  | 58/79 [00:20<00:07,  2.83it/s]\u001b[A\n",
      " 75%|███████▍  | 59/79 [00:20<00:07,  2.82it/s]\u001b[A\n",
      " 76%|███████▌  | 60/79 [00:20<00:06,  2.82it/s]\u001b[A\n",
      " 77%|███████▋  | 61/79 [00:21<00:06,  2.83it/s]\u001b[A\n",
      " 78%|███████▊  | 62/79 [00:21<00:05,  2.83it/s]\u001b[A\n",
      " 80%|███████▉  | 63/79 [00:21<00:05,  2.83it/s]\u001b[A\n",
      " 81%|████████  | 64/79 [00:22<00:05,  2.83it/s]\u001b[A\n",
      " 82%|████████▏ | 65/79 [00:22<00:04,  2.82it/s]\u001b[A\n",
      " 84%|████████▎ | 66/79 [00:22<00:04,  2.83it/s]\u001b[A\n",
      " 85%|████████▍ | 67/79 [00:23<00:04,  2.83it/s]\u001b[A\n",
      " 86%|████████▌ | 68/79 [00:23<00:03,  2.82it/s]\u001b[A\n",
      " 87%|████████▋ | 69/79 [00:23<00:03,  2.82it/s]\u001b[A\n",
      " 89%|████████▊ | 70/79 [00:24<00:03,  2.82it/s]\u001b[A\n",
      " 90%|████████▉ | 71/79 [00:24<00:02,  2.82it/s]\u001b[A\n",
      " 91%|█████████ | 72/79 [00:25<00:02,  2.83it/s]\u001b[A\n",
      " 92%|█████████▏| 73/79 [00:25<00:02,  2.83it/s]\u001b[A\n",
      " 94%|█████████▎| 74/79 [00:25<00:01,  2.83it/s]\u001b[A\n",
      " 95%|█████████▍| 75/79 [00:26<00:01,  2.83it/s]\u001b[A\n",
      " 96%|█████████▌| 76/79 [00:26<00:01,  2.83it/s]\u001b[A\n",
      " 97%|█████████▋| 77/79 [00:26<00:00,  2.82it/s]\u001b[A\n",
      "                                                  \n",
      " 12%|█▏        | 480/4000 [12:44<39:10,  1.50it/s]\n",
      "100%|██████████| 79/79 [00:27<00:00,  2.89it/s]\u001b[A\n",
      "                                               \u001b[A"
     ]
    },
    {
     "name": "stdout",
     "output_type": "stream",
     "text": [
      "{'eval_loss': 3.7268929481506348, 'eval_accuracy': 0.1452, 'eval_runtime': 27.6305, 'eval_samples_per_second': 361.919, 'eval_steps_per_second': 2.859, 'epoch': 12.0}\n"
     ]
    },
    {
     "name": "stderr",
     "output_type": "stream",
     "text": [
      " 12%|█▏        | 490/4000 [12:54<1:13:14,  1.25s/it]"
     ]
    },
    {
     "name": "stdout",
     "output_type": "stream",
     "text": [
      "{'loss': 3.2761, 'grad_norm': 11.749669075012207, 'learning_rate': 1.755e-05, 'epoch': 12.25}\n"
     ]
    },
    {
     "name": "stderr",
     "output_type": "stream",
     "text": [
      " 12%|█▎        | 500/4000 [13:04<53:36,  1.09it/s]  "
     ]
    },
    {
     "name": "stdout",
     "output_type": "stream",
     "text": [
      "{'loss': 3.3348, 'grad_norm': 12.1618070602417, 'learning_rate': 1.7500000000000002e-05, 'epoch': 12.5}\n"
     ]
    },
    {
     "name": "stderr",
     "output_type": "stream",
     "text": [
      " 13%|█▎        | 510/4000 [13:13<52:37,  1.11it/s]"
     ]
    },
    {
     "name": "stdout",
     "output_type": "stream",
     "text": [
      "{'loss': 3.3177, 'grad_norm': 10.762290954589844, 'learning_rate': 1.7450000000000004e-05, 'epoch': 12.75}\n"
     ]
    },
    {
     "name": "stderr",
     "output_type": "stream",
     "text": [
      " 13%|█▎        | 520/4000 [13:21<38:36,  1.50it/s]"
     ]
    },
    {
     "name": "stdout",
     "output_type": "stream",
     "text": [
      "{'loss': 3.3415, 'grad_norm': 49.2198371887207, 'learning_rate': 1.7400000000000003e-05, 'epoch': 13.0}\n"
     ]
    },
    {
     "name": "stderr",
     "output_type": "stream",
     "text": [
      "\n",
      "  0%|          | 0/79 [00:00<?, ?it/s]\u001b[A\n",
      "  3%|▎         | 2/79 [00:00<00:13,  5.81it/s]\u001b[A\n",
      "  4%|▍         | 3/79 [00:00<00:19,  3.98it/s]\u001b[A\n",
      "  5%|▌         | 4/79 [00:01<00:21,  3.47it/s]\u001b[A\n",
      "  6%|▋         | 5/79 [00:01<00:22,  3.24it/s]\u001b[A\n",
      "  8%|▊         | 6/79 [00:01<00:23,  3.08it/s]\u001b[A\n",
      "  9%|▉         | 7/79 [00:02<00:23,  3.00it/s]\u001b[A\n",
      " 10%|█         | 8/79 [00:02<00:24,  2.95it/s]\u001b[A\n",
      " 11%|█▏        | 9/79 [00:02<00:24,  2.91it/s]\u001b[A\n",
      " 13%|█▎        | 10/79 [00:03<00:23,  2.88it/s]\u001b[A\n",
      " 14%|█▍        | 11/79 [00:03<00:23,  2.87it/s]\u001b[A\n",
      " 15%|█▌        | 12/79 [00:03<00:23,  2.86it/s]\u001b[A\n",
      " 16%|█▋        | 13/79 [00:04<00:23,  2.85it/s]\u001b[A\n",
      " 18%|█▊        | 14/79 [00:04<00:22,  2.83it/s]\u001b[A\n",
      " 19%|█▉        | 15/79 [00:04<00:22,  2.83it/s]\u001b[A\n",
      " 20%|██        | 16/79 [00:05<00:22,  2.83it/s]\u001b[A\n",
      " 22%|██▏       | 17/79 [00:05<00:21,  2.83it/s]\u001b[A\n",
      " 23%|██▎       | 18/79 [00:06<00:21,  2.82it/s]\u001b[A\n",
      " 24%|██▍       | 19/79 [00:06<00:21,  2.82it/s]\u001b[A\n",
      " 25%|██▌       | 20/79 [00:06<00:20,  2.83it/s]\u001b[A\n",
      " 27%|██▋       | 21/79 [00:07<00:20,  2.83it/s]\u001b[A\n",
      " 28%|██▊       | 22/79 [00:07<00:20,  2.82it/s]\u001b[A\n",
      " 29%|██▉       | 23/79 [00:07<00:19,  2.82it/s]\u001b[A\n",
      " 30%|███       | 24/79 [00:08<00:19,  2.82it/s]\u001b[A\n",
      " 32%|███▏      | 25/79 [00:08<00:19,  2.82it/s]\u001b[A\n",
      " 33%|███▎      | 26/79 [00:08<00:18,  2.82it/s]\u001b[A\n",
      " 34%|███▍      | 27/79 [00:09<00:18,  2.82it/s]\u001b[A\n",
      " 35%|███▌      | 28/79 [00:09<00:18,  2.83it/s]\u001b[A\n",
      " 37%|███▋      | 29/79 [00:09<00:17,  2.83it/s]\u001b[A\n",
      " 38%|███▊      | 30/79 [00:10<00:17,  2.82it/s]\u001b[A\n",
      " 39%|███▉      | 31/79 [00:10<00:17,  2.81it/s]\u001b[A\n",
      " 41%|████      | 32/79 [00:10<00:16,  2.81it/s]\u001b[A\n",
      " 42%|████▏     | 33/79 [00:11<00:16,  2.83it/s]\u001b[A\n",
      " 43%|████▎     | 34/79 [00:11<00:15,  2.82it/s]\u001b[A\n",
      " 44%|████▍     | 35/79 [00:12<00:15,  2.82it/s]\u001b[A\n",
      " 46%|████▌     | 36/79 [00:12<00:15,  2.82it/s]\u001b[A\n",
      " 47%|████▋     | 37/79 [00:12<00:14,  2.82it/s]\u001b[A\n",
      " 48%|████▊     | 38/79 [00:13<00:14,  2.82it/s]\u001b[A\n",
      " 49%|████▉     | 39/79 [00:13<00:14,  2.82it/s]\u001b[A\n",
      " 51%|█████     | 40/79 [00:13<00:13,  2.83it/s]\u001b[A\n",
      " 52%|█████▏    | 41/79 [00:14<00:13,  2.82it/s]\u001b[A\n",
      " 53%|█████▎    | 42/79 [00:14<00:13,  2.82it/s]\u001b[A\n",
      " 54%|█████▍    | 43/79 [00:14<00:12,  2.82it/s]\u001b[A\n",
      " 56%|█████▌    | 44/79 [00:15<00:12,  2.82it/s]\u001b[A\n",
      " 57%|█████▋    | 45/79 [00:15<00:12,  2.82it/s]\u001b[A\n",
      " 58%|█████▊    | 46/79 [00:15<00:11,  2.81it/s]\u001b[A\n",
      " 59%|█████▉    | 47/79 [00:16<00:11,  2.82it/s]\u001b[A\n",
      " 61%|██████    | 48/79 [00:16<00:10,  2.82it/s]\u001b[A\n",
      " 62%|██████▏   | 49/79 [00:16<00:10,  2.82it/s]\u001b[A\n",
      " 63%|██████▎   | 50/79 [00:17<00:10,  2.83it/s]\u001b[A\n",
      " 65%|██████▍   | 51/79 [00:17<00:09,  2.83it/s]\u001b[A\n",
      " 66%|██████▌   | 52/79 [00:18<00:09,  2.82it/s]\u001b[A\n",
      " 67%|██████▋   | 53/79 [00:18<00:09,  2.82it/s]\u001b[A\n",
      " 68%|██████▊   | 54/79 [00:18<00:08,  2.83it/s]\u001b[A\n",
      " 70%|██████▉   | 55/79 [00:19<00:08,  2.83it/s]\u001b[A\n",
      " 71%|███████   | 56/79 [00:19<00:08,  2.83it/s]\u001b[A\n",
      " 72%|███████▏  | 57/79 [00:19<00:07,  2.84it/s]\u001b[A\n",
      " 73%|███████▎  | 58/79 [00:20<00:07,  2.84it/s]\u001b[A\n",
      " 75%|███████▍  | 59/79 [00:20<00:07,  2.84it/s]\u001b[A\n",
      " 76%|███████▌  | 60/79 [00:20<00:06,  2.86it/s]\u001b[A\n",
      " 77%|███████▋  | 61/79 [00:21<00:06,  2.85it/s]\u001b[A\n",
      " 78%|███████▊  | 62/79 [00:21<00:05,  2.85it/s]\u001b[A\n",
      " 80%|███████▉  | 63/79 [00:21<00:05,  2.85it/s]\u001b[A\n",
      " 81%|████████  | 64/79 [00:22<00:05,  2.86it/s]\u001b[A\n",
      " 82%|████████▏ | 65/79 [00:22<00:04,  2.86it/s]\u001b[A\n",
      " 84%|████████▎ | 66/79 [00:22<00:04,  2.86it/s]\u001b[A\n",
      " 85%|████████▍ | 67/79 [00:23<00:04,  2.87it/s]\u001b[A\n",
      " 86%|████████▌ | 68/79 [00:23<00:03,  2.87it/s]\u001b[A\n",
      " 87%|████████▋ | 69/79 [00:24<00:03,  2.86it/s]\u001b[A\n",
      " 89%|████████▊ | 70/79 [00:24<00:03,  2.86it/s]\u001b[A\n",
      " 90%|████████▉ | 71/79 [00:24<00:02,  2.87it/s]\u001b[A\n",
      " 91%|█████████ | 72/79 [00:25<00:02,  2.86it/s]\u001b[A\n",
      " 92%|█████████▏| 73/79 [00:25<00:02,  2.85it/s]\u001b[A\n",
      " 94%|█████████▎| 74/79 [00:25<00:01,  2.85it/s]\u001b[A\n",
      " 95%|█████████▍| 75/79 [00:26<00:01,  2.86it/s]\u001b[A\n",
      " 96%|█████████▌| 76/79 [00:26<00:01,  2.87it/s]\u001b[A\n",
      " 97%|█████████▋| 77/79 [00:26<00:00,  2.86it/s]\u001b[A\n",
      "                                                  \n",
      " 13%|█▎        | 520/4000 [13:48<38:36,  1.50it/s]\n",
      "100%|██████████| 79/79 [00:27<00:00,  2.90it/s]\u001b[A\n",
      "                                               \u001b[A"
     ]
    },
    {
     "name": "stdout",
     "output_type": "stream",
     "text": [
      "{'eval_loss': 3.6995925903320312, 'eval_accuracy': 0.1482, 'eval_runtime': 27.6306, 'eval_samples_per_second': 361.917, 'eval_steps_per_second': 2.859, 'epoch': 13.0}\n"
     ]
    },
    {
     "name": "stderr",
     "output_type": "stream",
     "text": [
      " 13%|█▎        | 530/4000 [13:59<1:12:25,  1.25s/it]"
     ]
    },
    {
     "name": "stdout",
     "output_type": "stream",
     "text": [
      "{'loss': 3.267, 'grad_norm': 12.606596946716309, 'learning_rate': 1.735e-05, 'epoch': 13.25}\n"
     ]
    },
    {
     "name": "stderr",
     "output_type": "stream",
     "text": [
      " 14%|█▎        | 540/4000 [14:08<52:33,  1.10it/s]  "
     ]
    },
    {
     "name": "stdout",
     "output_type": "stream",
     "text": [
      "{'loss': 3.281, 'grad_norm': 13.661030769348145, 'learning_rate': 1.73e-05, 'epoch': 13.5}\n"
     ]
    },
    {
     "name": "stderr",
     "output_type": "stream",
     "text": [
      " 14%|█▍        | 550/4000 [14:17<51:48,  1.11it/s]"
     ]
    },
    {
     "name": "stdout",
     "output_type": "stream",
     "text": [
      "{'loss': 3.2741, 'grad_norm': 12.14927864074707, 'learning_rate': 1.7250000000000003e-05, 'epoch': 13.75}\n"
     ]
    },
    {
     "name": "stderr",
     "output_type": "stream",
     "text": [
      " 14%|█▍        | 560/4000 [14:25<38:16,  1.50it/s]"
     ]
    },
    {
     "name": "stdout",
     "output_type": "stream",
     "text": [
      "{'loss': 3.258, 'grad_norm': 48.449398040771484, 'learning_rate': 1.72e-05, 'epoch': 14.0}\n"
     ]
    },
    {
     "name": "stderr",
     "output_type": "stream",
     "text": [
      "\n",
      "  0%|          | 0/79 [00:00<?, ?it/s]\u001b[A\n",
      "  3%|▎         | 2/79 [00:00<00:13,  5.82it/s]\u001b[A\n",
      "  4%|▍         | 3/79 [00:00<00:19,  3.99it/s]\u001b[A\n",
      "  5%|▌         | 4/79 [00:01<00:21,  3.49it/s]\u001b[A\n",
      "  6%|▋         | 5/79 [00:01<00:22,  3.24it/s]\u001b[A\n",
      "  8%|▊         | 6/79 [00:01<00:23,  3.09it/s]\u001b[A\n",
      "  9%|▉         | 7/79 [00:02<00:23,  3.01it/s]\u001b[A\n",
      " 10%|█         | 8/79 [00:02<00:24,  2.96it/s]\u001b[A\n",
      " 11%|█▏        | 9/79 [00:02<00:24,  2.91it/s]\u001b[A\n",
      " 13%|█▎        | 10/79 [00:03<00:23,  2.89it/s]\u001b[A\n",
      " 14%|█▍        | 11/79 [00:03<00:23,  2.87it/s]\u001b[A\n",
      " 15%|█▌        | 12/79 [00:03<00:23,  2.86it/s]\u001b[A\n",
      " 16%|█▋        | 13/79 [00:04<00:23,  2.85it/s]\u001b[A\n",
      " 18%|█▊        | 14/79 [00:04<00:22,  2.85it/s]\u001b[A\n",
      " 19%|█▉        | 15/79 [00:04<00:22,  2.84it/s]\u001b[A\n",
      " 20%|██        | 16/79 [00:05<00:22,  2.84it/s]\u001b[A\n",
      " 22%|██▏       | 17/79 [00:05<00:21,  2.85it/s]\u001b[A\n",
      " 23%|██▎       | 18/79 [00:05<00:21,  2.84it/s]\u001b[A\n",
      " 24%|██▍       | 19/79 [00:06<00:21,  2.85it/s]\u001b[A\n",
      " 25%|██▌       | 20/79 [00:06<00:20,  2.84it/s]\u001b[A\n",
      " 27%|██▋       | 21/79 [00:07<00:20,  2.85it/s]\u001b[A\n",
      " 28%|██▊       | 22/79 [00:07<00:20,  2.84it/s]\u001b[A\n",
      " 29%|██▉       | 23/79 [00:07<00:19,  2.84it/s]\u001b[A\n",
      " 30%|███       | 24/79 [00:08<00:19,  2.84it/s]\u001b[A\n",
      " 32%|███▏      | 25/79 [00:08<00:18,  2.84it/s]\u001b[A\n",
      " 33%|███▎      | 26/79 [00:08<00:18,  2.85it/s]\u001b[A\n",
      " 34%|███▍      | 27/79 [00:09<00:18,  2.85it/s]\u001b[A\n",
      " 35%|███▌      | 28/79 [00:09<00:17,  2.84it/s]\u001b[A\n",
      " 37%|███▋      | 29/79 [00:09<00:17,  2.85it/s]\u001b[A\n",
      " 38%|███▊      | 30/79 [00:10<00:17,  2.85it/s]\u001b[A\n",
      " 39%|███▉      | 31/79 [00:10<00:16,  2.87it/s]\u001b[A\n",
      " 41%|████      | 32/79 [00:10<00:16,  2.87it/s]\u001b[A\n",
      " 42%|████▏     | 33/79 [00:11<00:16,  2.87it/s]\u001b[A\n",
      " 43%|████▎     | 34/79 [00:11<00:15,  2.86it/s]\u001b[A\n",
      " 44%|████▍     | 35/79 [00:11<00:15,  2.86it/s]\u001b[A\n",
      " 46%|████▌     | 36/79 [00:12<00:15,  2.85it/s]\u001b[A\n",
      " 47%|████▋     | 37/79 [00:12<00:14,  2.85it/s]\u001b[A\n",
      " 48%|████▊     | 38/79 [00:13<00:14,  2.84it/s]\u001b[A\n",
      " 49%|████▉     | 39/79 [00:13<00:14,  2.85it/s]\u001b[A\n",
      " 51%|█████     | 40/79 [00:13<00:13,  2.84it/s]\u001b[A\n",
      " 52%|█████▏    | 41/79 [00:14<00:13,  2.85it/s]\u001b[A\n",
      " 53%|█████▎    | 42/79 [00:14<00:13,  2.84it/s]\u001b[A\n",
      " 54%|█████▍    | 43/79 [00:14<00:12,  2.84it/s]\u001b[A\n",
      " 56%|█████▌    | 44/79 [00:15<00:12,  2.83it/s]\u001b[A\n",
      " 57%|█████▋    | 45/79 [00:15<00:12,  2.83it/s]\u001b[A\n",
      " 58%|█████▊    | 46/79 [00:15<00:11,  2.83it/s]\u001b[A\n",
      " 59%|█████▉    | 47/79 [00:16<00:11,  2.82it/s]\u001b[A\n",
      " 61%|██████    | 48/79 [00:16<00:11,  2.81it/s]\u001b[A\n",
      " 62%|██████▏   | 49/79 [00:16<00:10,  2.82it/s]\u001b[A\n",
      " 63%|██████▎   | 50/79 [00:17<00:10,  2.82it/s]\u001b[A\n",
      " 65%|██████▍   | 51/79 [00:17<00:09,  2.83it/s]\u001b[A\n",
      " 66%|██████▌   | 52/79 [00:17<00:09,  2.83it/s]\u001b[A\n",
      " 67%|██████▋   | 53/79 [00:18<00:09,  2.83it/s]\u001b[A\n",
      " 68%|██████▊   | 54/79 [00:18<00:08,  2.82it/s]\u001b[A\n",
      " 70%|██████▉   | 55/79 [00:19<00:08,  2.82it/s]\u001b[A\n",
      " 71%|███████   | 56/79 [00:19<00:08,  2.82it/s]\u001b[A\n",
      " 72%|███████▏  | 57/79 [00:19<00:07,  2.82it/s]\u001b[A\n",
      " 73%|███████▎  | 58/79 [00:20<00:07,  2.82it/s]\u001b[A\n",
      " 75%|███████▍  | 59/79 [00:20<00:07,  2.82it/s]\u001b[A\n",
      " 76%|███████▌  | 60/79 [00:20<00:06,  2.84it/s]\u001b[A\n",
      " 77%|███████▋  | 61/79 [00:21<00:06,  2.84it/s]\u001b[A\n",
      " 78%|███████▊  | 62/79 [00:21<00:06,  2.83it/s]\u001b[A\n",
      " 80%|███████▉  | 63/79 [00:21<00:05,  2.83it/s]\u001b[A\n",
      " 81%|████████  | 64/79 [00:22<00:05,  2.84it/s]\u001b[A\n",
      " 82%|████████▏ | 65/79 [00:22<00:04,  2.84it/s]\u001b[A\n",
      " 84%|████████▎ | 66/79 [00:22<00:04,  2.84it/s]\u001b[A\n",
      " 85%|████████▍ | 67/79 [00:23<00:04,  2.83it/s]\u001b[A\n",
      " 86%|████████▌ | 68/79 [00:23<00:03,  2.85it/s]\u001b[A\n",
      " 87%|████████▋ | 69/79 [00:23<00:03,  2.86it/s]\u001b[A\n",
      " 89%|████████▊ | 70/79 [00:24<00:03,  2.86it/s]\u001b[A\n",
      " 90%|████████▉ | 71/79 [00:24<00:02,  2.85it/s]\u001b[A\n",
      " 91%|█████████ | 72/79 [00:24<00:02,  2.86it/s]\u001b[A\n",
      " 92%|█████████▏| 73/79 [00:25<00:02,  2.87it/s]\u001b[A\n",
      " 94%|█████████▎| 74/79 [00:25<00:01,  2.87it/s]\u001b[A\n",
      " 95%|█████████▍| 75/79 [00:26<00:01,  2.86it/s]\u001b[A\n",
      " 96%|█████████▌| 76/79 [00:26<00:01,  2.86it/s]\u001b[A\n",
      " 97%|█████████▋| 77/79 [00:26<00:00,  2.87it/s]\u001b[A\n",
      "                                                  \n",
      " 14%|█▍        | 560/4000 [14:53<38:16,  1.50it/s]\n",
      "100%|██████████| 79/79 [00:27<00:00,  2.92it/s]\u001b[A\n",
      "                                               \u001b[A"
     ]
    },
    {
     "name": "stdout",
     "output_type": "stream",
     "text": [
      "{'eval_loss': 3.6834676265716553, 'eval_accuracy': 0.1509, 'eval_runtime': 27.5381, 'eval_samples_per_second': 363.133, 'eval_steps_per_second': 2.869, 'epoch': 14.0}\n"
     ]
    },
    {
     "name": "stderr",
     "output_type": "stream",
     "text": [
      " 14%|█▍        | 570/4000 [15:03<1:11:15,  1.25s/it]"
     ]
    },
    {
     "name": "stdout",
     "output_type": "stream",
     "text": [
      "{'loss': 3.193, 'grad_norm': 13.447639465332031, 'learning_rate': 1.7150000000000004e-05, 'epoch': 14.25}\n"
     ]
    },
    {
     "name": "stderr",
     "output_type": "stream",
     "text": [
      " 14%|█▍        | 580/4000 [15:12<52:25,  1.09it/s]  "
     ]
    },
    {
     "name": "stdout",
     "output_type": "stream",
     "text": [
      "{'loss': 3.1862, 'grad_norm': 14.432547569274902, 'learning_rate': 1.7100000000000002e-05, 'epoch': 14.5}\n"
     ]
    },
    {
     "name": "stderr",
     "output_type": "stream",
     "text": [
      " 15%|█▍        | 590/4000 [15:21<51:33,  1.10it/s]"
     ]
    },
    {
     "name": "stdout",
     "output_type": "stream",
     "text": [
      "{'loss': 3.2373, 'grad_norm': 12.582695007324219, 'learning_rate': 1.705e-05, 'epoch': 14.75}\n"
     ]
    },
    {
     "name": "stderr",
     "output_type": "stream",
     "text": [
      " 15%|█▌        | 600/4000 [15:29<37:43,  1.50it/s]"
     ]
    },
    {
     "name": "stdout",
     "output_type": "stream",
     "text": [
      "{'loss': 3.2218, 'grad_norm': 57.645389556884766, 'learning_rate': 1.7e-05, 'epoch': 15.0}\n"
     ]
    },
    {
     "name": "stderr",
     "output_type": "stream",
     "text": [
      "\n",
      "  0%|          | 0/79 [00:00<?, ?it/s]\u001b[A\n",
      "  3%|▎         | 2/79 [00:00<00:13,  5.85it/s]\u001b[A\n",
      "  4%|▍         | 3/79 [00:00<00:18,  4.01it/s]\u001b[A\n",
      "  5%|▌         | 4/79 [00:01<00:21,  3.50it/s]\u001b[A\n",
      "  6%|▋         | 5/79 [00:01<00:22,  3.25it/s]\u001b[A\n",
      "  8%|▊         | 6/79 [00:01<00:23,  3.09it/s]\u001b[A\n",
      "  9%|▉         | 7/79 [00:02<00:23,  3.00it/s]\u001b[A\n",
      " 10%|█         | 8/79 [00:02<00:24,  2.95it/s]\u001b[A\n",
      " 11%|█▏        | 9/79 [00:02<00:24,  2.91it/s]\u001b[A\n",
      " 13%|█▎        | 10/79 [00:03<00:23,  2.89it/s]\u001b[A\n",
      " 14%|█▍        | 11/79 [00:03<00:23,  2.87it/s]\u001b[A\n",
      " 15%|█▌        | 12/79 [00:03<00:23,  2.86it/s]\u001b[A\n",
      " 16%|█▋        | 13/79 [00:04<00:23,  2.85it/s]\u001b[A\n",
      " 18%|█▊        | 14/79 [00:04<00:22,  2.85it/s]\u001b[A\n",
      " 19%|█▉        | 15/79 [00:04<00:22,  2.86it/s]\u001b[A\n",
      " 20%|██        | 16/79 [00:05<00:22,  2.86it/s]\u001b[A\n",
      " 22%|██▏       | 17/79 [00:05<00:21,  2.85it/s]\u001b[A\n",
      " 23%|██▎       | 18/79 [00:05<00:21,  2.86it/s]\u001b[A\n",
      " 24%|██▍       | 19/79 [00:06<00:20,  2.87it/s]\u001b[A\n",
      " 25%|██▌       | 20/79 [00:06<00:20,  2.88it/s]\u001b[A\n",
      " 27%|██▋       | 21/79 [00:07<00:20,  2.87it/s]\u001b[A\n",
      " 28%|██▊       | 22/79 [00:07<00:19,  2.86it/s]\u001b[A\n",
      " 29%|██▉       | 23/79 [00:07<00:19,  2.86it/s]\u001b[A\n",
      " 30%|███       | 24/79 [00:08<00:19,  2.88it/s]\u001b[A\n",
      " 32%|███▏      | 25/79 [00:08<00:18,  2.88it/s]\u001b[A\n",
      " 33%|███▎      | 26/79 [00:08<00:18,  2.89it/s]\u001b[A\n",
      " 34%|███▍      | 27/79 [00:09<00:18,  2.88it/s]\u001b[A\n",
      " 35%|███▌      | 28/79 [00:09<00:17,  2.87it/s]\u001b[A\n",
      " 37%|███▋      | 29/79 [00:09<00:17,  2.87it/s]\u001b[A\n",
      " 38%|███▊      | 30/79 [00:10<00:17,  2.86it/s]\u001b[A\n",
      " 39%|███▉      | 31/79 [00:10<00:16,  2.85it/s]\u001b[A\n",
      " 41%|████      | 32/79 [00:10<00:16,  2.86it/s]\u001b[A\n",
      " 42%|████▏     | 33/79 [00:11<00:16,  2.85it/s]\u001b[A\n",
      " 43%|████▎     | 34/79 [00:11<00:15,  2.85it/s]\u001b[A\n",
      " 44%|████▍     | 35/79 [00:11<00:15,  2.84it/s]\u001b[A\n",
      " 46%|████▌     | 36/79 [00:12<00:15,  2.84it/s]\u001b[A\n",
      " 47%|████▋     | 37/79 [00:12<00:14,  2.85it/s]\u001b[A\n",
      " 48%|████▊     | 38/79 [00:12<00:14,  2.85it/s]\u001b[A\n",
      " 49%|████▉     | 39/79 [00:13<00:14,  2.84it/s]\u001b[A\n",
      " 51%|█████     | 40/79 [00:13<00:13,  2.85it/s]\u001b[A\n",
      " 52%|█████▏    | 41/79 [00:14<00:13,  2.84it/s]\u001b[A\n",
      " 53%|█████▎    | 42/79 [00:14<00:13,  2.84it/s]\u001b[A\n",
      " 54%|█████▍    | 43/79 [00:14<00:12,  2.83it/s]\u001b[A\n",
      " 56%|█████▌    | 44/79 [00:15<00:12,  2.83it/s]\u001b[A\n",
      " 57%|█████▋    | 45/79 [00:15<00:12,  2.82it/s]\u001b[A\n",
      " 58%|█████▊    | 46/79 [00:15<00:11,  2.82it/s]\u001b[A\n",
      " 59%|█████▉    | 47/79 [00:16<00:11,  2.82it/s]\u001b[A\n",
      " 61%|██████    | 48/79 [00:16<00:10,  2.82it/s]\u001b[A\n",
      " 62%|██████▏   | 49/79 [00:16<00:10,  2.82it/s]\u001b[A\n",
      " 63%|██████▎   | 50/79 [00:17<00:10,  2.82it/s]\u001b[A\n",
      " 65%|██████▍   | 51/79 [00:17<00:09,  2.82it/s]\u001b[A\n",
      " 66%|██████▌   | 52/79 [00:17<00:09,  2.82it/s]\u001b[A\n",
      " 67%|██████▋   | 53/79 [00:18<00:09,  2.81it/s]\u001b[A\n",
      " 68%|██████▊   | 54/79 [00:18<00:08,  2.82it/s]\u001b[A\n",
      " 70%|██████▉   | 55/79 [00:18<00:08,  2.82it/s]\u001b[A\n",
      " 71%|███████   | 56/79 [00:19<00:08,  2.82it/s]\u001b[A\n",
      " 72%|███████▏  | 57/79 [00:19<00:07,  2.82it/s]\u001b[A\n",
      " 73%|███████▎  | 58/79 [00:20<00:07,  2.82it/s]\u001b[A\n",
      " 75%|███████▍  | 59/79 [00:20<00:07,  2.82it/s]\u001b[A\n",
      " 76%|███████▌  | 60/79 [00:20<00:06,  2.83it/s]\u001b[A\n",
      " 77%|███████▋  | 61/79 [00:21<00:06,  2.83it/s]\u001b[A\n",
      " 78%|███████▊  | 62/79 [00:21<00:05,  2.84it/s]\u001b[A\n",
      " 80%|███████▉  | 63/79 [00:21<00:05,  2.84it/s]\u001b[A\n",
      " 81%|████████  | 64/79 [00:22<00:05,  2.83it/s]\u001b[A\n",
      " 82%|████████▏ | 65/79 [00:22<00:04,  2.84it/s]\u001b[A\n",
      " 84%|████████▎ | 66/79 [00:22<00:04,  2.85it/s]\u001b[A\n",
      " 85%|████████▍ | 67/79 [00:23<00:04,  2.87it/s]\u001b[A\n",
      " 86%|████████▌ | 68/79 [00:23<00:03,  2.87it/s]\u001b[A\n",
      " 87%|████████▋ | 69/79 [00:23<00:03,  2.86it/s]\u001b[A\n",
      " 89%|████████▊ | 70/79 [00:24<00:03,  2.86it/s]\u001b[A\n",
      " 90%|████████▉ | 71/79 [00:24<00:02,  2.86it/s]\u001b[A\n",
      " 91%|█████████ | 72/79 [00:24<00:02,  2.85it/s]\u001b[A\n",
      " 92%|█████████▏| 73/79 [00:25<00:02,  2.85it/s]\u001b[A\n",
      " 94%|█████████▎| 74/79 [00:25<00:01,  2.85it/s]\u001b[A\n",
      " 95%|█████████▍| 75/79 [00:26<00:01,  2.85it/s]\u001b[A\n",
      " 96%|█████████▌| 76/79 [00:26<00:01,  2.85it/s]\u001b[A\n",
      " 97%|█████████▋| 77/79 [00:26<00:00,  2.84it/s]\u001b[A\n",
      "                                                  \n",
      " 15%|█▌        | 600/4000 [15:57<37:43,  1.50it/s]\n",
      "100%|██████████| 79/79 [00:27<00:00,  2.91it/s]\u001b[A\n",
      "                                               \u001b[A"
     ]
    },
    {
     "name": "stdout",
     "output_type": "stream",
     "text": [
      "{'eval_loss': 3.6502432823181152, 'eval_accuracy': 0.1558, 'eval_runtime': 27.5196, 'eval_samples_per_second': 363.377, 'eval_steps_per_second': 2.871, 'epoch': 15.0}\n"
     ]
    },
    {
     "name": "stderr",
     "output_type": "stream",
     "text": [
      " 15%|█▌        | 610/4000 [16:07<1:10:34,  1.25s/it]"
     ]
    },
    {
     "name": "stdout",
     "output_type": "stream",
     "text": [
      "{'loss': 3.1312, 'grad_norm': 14.893280029296875, 'learning_rate': 1.6950000000000002e-05, 'epoch': 15.25}\n"
     ]
    },
    {
     "name": "stderr",
     "output_type": "stream",
     "text": [
      " 16%|█▌        | 620/4000 [16:16<51:23,  1.10it/s]  "
     ]
    },
    {
     "name": "stdout",
     "output_type": "stream",
     "text": [
      "{'loss': 3.1039, 'grad_norm': 13.898178100585938, 'learning_rate': 1.69e-05, 'epoch': 15.5}\n"
     ]
    },
    {
     "name": "stderr",
     "output_type": "stream",
     "text": [
      " 16%|█▌        | 630/4000 [16:25<50:41,  1.11it/s]"
     ]
    },
    {
     "name": "stdout",
     "output_type": "stream",
     "text": [
      "{'loss': 3.1264, 'grad_norm': 15.348962783813477, 'learning_rate': 1.6850000000000003e-05, 'epoch': 15.75}\n"
     ]
    },
    {
     "name": "stderr",
     "output_type": "stream",
     "text": [
      " 16%|█▌        | 640/4000 [16:33<37:25,  1.50it/s]"
     ]
    },
    {
     "name": "stdout",
     "output_type": "stream",
     "text": [
      "{'loss': 3.2051, 'grad_norm': 52.11264419555664, 'learning_rate': 1.6800000000000002e-05, 'epoch': 16.0}\n"
     ]
    },
    {
     "name": "stderr",
     "output_type": "stream",
     "text": [
      "\n",
      "  0%|          | 0/79 [00:00<?, ?it/s]\u001b[A\n",
      "  3%|▎         | 2/79 [00:00<00:13,  5.73it/s]\u001b[A\n",
      "  4%|▍         | 3/79 [00:00<00:19,  3.95it/s]\u001b[A\n",
      "  5%|▌         | 4/79 [00:01<00:21,  3.45it/s]\u001b[A\n",
      "  6%|▋         | 5/79 [00:01<00:22,  3.23it/s]\u001b[A\n",
      "  8%|▊         | 6/79 [00:01<00:23,  3.07it/s]\u001b[A\n",
      "  9%|▉         | 7/79 [00:02<00:24,  2.99it/s]\u001b[A\n",
      " 10%|█         | 8/79 [00:02<00:24,  2.94it/s]\u001b[A\n",
      " 11%|█▏        | 9/79 [00:02<00:24,  2.91it/s]\u001b[A\n",
      " 13%|█▎        | 10/79 [00:03<00:23,  2.89it/s]\u001b[A\n",
      " 14%|█▍        | 11/79 [00:03<00:23,  2.87it/s]\u001b[A\n",
      " 15%|█▌        | 12/79 [00:03<00:23,  2.87it/s]\u001b[A\n",
      " 16%|█▋        | 13/79 [00:04<00:23,  2.86it/s]\u001b[A\n",
      " 18%|█▊        | 14/79 [00:04<00:22,  2.85it/s]\u001b[A\n",
      " 19%|█▉        | 15/79 [00:04<00:22,  2.84it/s]\u001b[A\n",
      " 20%|██        | 16/79 [00:05<00:22,  2.84it/s]\u001b[A\n",
      " 22%|██▏       | 17/79 [00:05<00:21,  2.85it/s]\u001b[A\n",
      " 23%|██▎       | 18/79 [00:06<00:21,  2.83it/s]\u001b[A\n",
      " 24%|██▍       | 19/79 [00:06<00:21,  2.84it/s]\u001b[A\n",
      " 25%|██▌       | 20/79 [00:06<00:20,  2.83it/s]\u001b[A\n",
      " 27%|██▋       | 21/79 [00:07<00:20,  2.84it/s]\u001b[A\n",
      " 28%|██▊       | 22/79 [00:07<00:20,  2.85it/s]\u001b[A\n",
      " 29%|██▉       | 23/79 [00:07<00:19,  2.84it/s]\u001b[A\n",
      " 30%|███       | 24/79 [00:08<00:19,  2.85it/s]\u001b[A\n",
      " 32%|███▏      | 25/79 [00:08<00:18,  2.86it/s]\u001b[A\n",
      " 33%|███▎      | 26/79 [00:08<00:18,  2.85it/s]\u001b[A\n",
      " 34%|███▍      | 27/79 [00:09<00:18,  2.85it/s]\u001b[A\n",
      " 35%|███▌      | 28/79 [00:09<00:17,  2.85it/s]\u001b[A\n",
      " 37%|███▋      | 29/79 [00:09<00:17,  2.85it/s]\u001b[A\n",
      " 38%|███▊      | 30/79 [00:10<00:17,  2.85it/s]\u001b[A\n",
      " 39%|███▉      | 31/79 [00:10<00:16,  2.85it/s]\u001b[A\n",
      " 41%|████      | 32/79 [00:10<00:16,  2.85it/s]\u001b[A\n",
      " 42%|████▏     | 33/79 [00:11<00:16,  2.85it/s]\u001b[A\n",
      " 43%|████▎     | 34/79 [00:11<00:15,  2.86it/s]\u001b[A\n",
      " 44%|████▍     | 35/79 [00:11<00:15,  2.86it/s]\u001b[A\n",
      " 46%|████▌     | 36/79 [00:12<00:15,  2.85it/s]\u001b[A\n",
      " 47%|████▋     | 37/79 [00:12<00:14,  2.85it/s]\u001b[A\n",
      " 48%|████▊     | 38/79 [00:13<00:14,  2.84it/s]\u001b[A\n",
      " 49%|████▉     | 39/79 [00:13<00:14,  2.84it/s]\u001b[A\n",
      " 51%|█████     | 40/79 [00:13<00:13,  2.83it/s]\u001b[A\n",
      " 52%|█████▏    | 41/79 [00:14<00:13,  2.83it/s]\u001b[A\n",
      " 53%|█████▎    | 42/79 [00:14<00:13,  2.83it/s]\u001b[A\n",
      " 54%|█████▍    | 43/79 [00:14<00:12,  2.83it/s]\u001b[A\n",
      " 56%|█████▌    | 44/79 [00:15<00:12,  2.83it/s]\u001b[A\n",
      " 57%|█████▋    | 45/79 [00:15<00:12,  2.83it/s]\u001b[A\n",
      " 58%|█████▊    | 46/79 [00:15<00:11,  2.82it/s]\u001b[A\n",
      " 59%|█████▉    | 47/79 [00:16<00:11,  2.83it/s]\u001b[A\n",
      " 61%|██████    | 48/79 [00:16<00:10,  2.83it/s]\u001b[A\n",
      " 62%|██████▏   | 49/79 [00:16<00:10,  2.82it/s]\u001b[A\n",
      " 63%|██████▎   | 50/79 [00:17<00:10,  2.82it/s]\u001b[A\n",
      " 65%|██████▍   | 51/79 [00:17<00:09,  2.82it/s]\u001b[A\n",
      " 66%|██████▌   | 52/79 [00:17<00:09,  2.83it/s]\u001b[A\n",
      " 67%|██████▋   | 53/79 [00:18<00:09,  2.82it/s]\u001b[A\n",
      " 68%|██████▊   | 54/79 [00:18<00:08,  2.81it/s]\u001b[A\n",
      " 70%|██████▉   | 55/79 [00:19<00:08,  2.82it/s]\u001b[A\n",
      " 71%|███████   | 56/79 [00:19<00:08,  2.81it/s]\u001b[A\n",
      " 72%|███████▏  | 57/79 [00:19<00:07,  2.82it/s]\u001b[A\n",
      " 73%|███████▎  | 58/79 [00:20<00:07,  2.82it/s]\u001b[A\n",
      " 75%|███████▍  | 59/79 [00:20<00:07,  2.83it/s]\u001b[A\n",
      " 76%|███████▌  | 60/79 [00:20<00:06,  2.84it/s]\u001b[A\n",
      " 77%|███████▋  | 61/79 [00:21<00:06,  2.85it/s]\u001b[A\n",
      " 78%|███████▊  | 62/79 [00:21<00:05,  2.84it/s]\u001b[A\n",
      " 80%|███████▉  | 63/79 [00:21<00:05,  2.84it/s]\u001b[A\n",
      " 81%|████████  | 64/79 [00:22<00:05,  2.85it/s]\u001b[A\n",
      " 82%|████████▏ | 65/79 [00:22<00:04,  2.84it/s]\u001b[A\n",
      " 84%|████████▎ | 66/79 [00:22<00:04,  2.85it/s]\u001b[A\n",
      " 85%|████████▍ | 67/79 [00:23<00:04,  2.84it/s]\u001b[A\n",
      " 86%|████████▌ | 68/79 [00:23<00:03,  2.84it/s]\u001b[A\n",
      " 87%|████████▋ | 69/79 [00:23<00:03,  2.86it/s]\u001b[A\n",
      " 89%|████████▊ | 70/79 [00:24<00:03,  2.84it/s]\u001b[A\n",
      " 90%|████████▉ | 71/79 [00:24<00:02,  2.85it/s]\u001b[A\n",
      " 91%|█████████ | 72/79 [00:25<00:02,  2.85it/s]\u001b[A\n",
      " 92%|█████████▏| 73/79 [00:25<00:02,  2.84it/s]\u001b[A\n",
      " 94%|█████████▎| 74/79 [00:25<00:01,  2.85it/s]\u001b[A\n",
      " 95%|█████████▍| 75/79 [00:26<00:01,  2.85it/s]\u001b[A\n",
      " 96%|█████████▌| 76/79 [00:26<00:01,  2.84it/s]\u001b[A\n",
      " 97%|█████████▋| 77/79 [00:26<00:00,  2.84it/s]\u001b[A\n",
      "                                                  \n",
      " 16%|█▌        | 640/4000 [17:01<37:25,  1.50it/s]\n",
      "100%|██████████| 79/79 [00:27<00:00,  2.90it/s]\u001b[A\n",
      "                                               \u001b[A"
     ]
    },
    {
     "name": "stdout",
     "output_type": "stream",
     "text": [
      "{'eval_loss': 3.6349098682403564, 'eval_accuracy': 0.1584, 'eval_runtime': 27.5927, 'eval_samples_per_second': 362.415, 'eval_steps_per_second': 2.863, 'epoch': 16.0}\n"
     ]
    },
    {
     "name": "stderr",
     "output_type": "stream",
     "text": [
      " 16%|█▋        | 650/4000 [17:11<1:09:40,  1.25s/it]"
     ]
    },
    {
     "name": "stdout",
     "output_type": "stream",
     "text": [
      "{'loss': 3.0636, 'grad_norm': 14.024337768554688, 'learning_rate': 1.675e-05, 'epoch': 16.25}\n"
     ]
    },
    {
     "name": "stderr",
     "output_type": "stream",
     "text": [
      " 16%|█▋        | 660/4000 [17:20<51:09,  1.09it/s]  "
     ]
    },
    {
     "name": "stdout",
     "output_type": "stream",
     "text": [
      "{'loss': 3.0728, 'grad_norm': 15.024354934692383, 'learning_rate': 1.67e-05, 'epoch': 16.5}\n"
     ]
    },
    {
     "name": "stderr",
     "output_type": "stream",
     "text": [
      " 17%|█▋        | 670/4000 [17:29<49:59,  1.11it/s]"
     ]
    },
    {
     "name": "stdout",
     "output_type": "stream",
     "text": [
      "{'loss': 3.1234, 'grad_norm': 15.575719833374023, 'learning_rate': 1.665e-05, 'epoch': 16.75}\n"
     ]
    },
    {
     "name": "stderr",
     "output_type": "stream",
     "text": [
      " 17%|█▋        | 680/4000 [17:37<36:50,  1.50it/s]"
     ]
    },
    {
     "name": "stdout",
     "output_type": "stream",
     "text": [
      "{'loss': 3.0571, 'grad_norm': 54.99882507324219, 'learning_rate': 1.66e-05, 'epoch': 17.0}\n"
     ]
    },
    {
     "name": "stderr",
     "output_type": "stream",
     "text": [
      "\n",
      "  0%|          | 0/79 [00:00<?, ?it/s]\u001b[A\n",
      "  3%|▎         | 2/79 [00:00<00:13,  5.82it/s]\u001b[A\n",
      "  4%|▍         | 3/79 [00:00<00:19,  3.99it/s]\u001b[A\n",
      "  5%|▌         | 4/79 [00:01<00:21,  3.47it/s]\u001b[A\n",
      "  6%|▋         | 5/79 [00:01<00:22,  3.23it/s]\u001b[A\n",
      "  8%|▊         | 6/79 [00:01<00:23,  3.08it/s]\u001b[A\n",
      "  9%|▉         | 7/79 [00:02<00:24,  2.99it/s]\u001b[A\n",
      " 10%|█         | 8/79 [00:02<00:24,  2.95it/s]\u001b[A\n",
      " 11%|█▏        | 9/79 [00:02<00:24,  2.91it/s]\u001b[A\n",
      " 13%|█▎        | 10/79 [00:03<00:23,  2.88it/s]\u001b[A\n",
      " 14%|█▍        | 11/79 [00:03<00:23,  2.87it/s]\u001b[A\n",
      " 15%|█▌        | 12/79 [00:03<00:23,  2.85it/s]\u001b[A\n",
      " 16%|█▋        | 13/79 [00:04<00:23,  2.85it/s]\u001b[A\n",
      " 18%|█▊        | 14/79 [00:04<00:22,  2.84it/s]\u001b[A\n",
      " 19%|█▉        | 15/79 [00:04<00:22,  2.84it/s]\u001b[A\n",
      " 20%|██        | 16/79 [00:05<00:22,  2.83it/s]\u001b[A\n",
      " 22%|██▏       | 17/79 [00:05<00:21,  2.83it/s]\u001b[A\n",
      " 23%|██▎       | 18/79 [00:06<00:21,  2.83it/s]\u001b[A\n",
      " 24%|██▍       | 19/79 [00:06<00:21,  2.83it/s]\u001b[A\n",
      " 25%|██▌       | 20/79 [00:06<00:20,  2.83it/s]\u001b[A\n",
      " 27%|██▋       | 21/79 [00:07<00:20,  2.83it/s]\u001b[A\n",
      " 28%|██▊       | 22/79 [00:07<00:20,  2.83it/s]\u001b[A\n",
      " 29%|██▉       | 23/79 [00:07<00:19,  2.84it/s]\u001b[A\n",
      " 30%|███       | 24/79 [00:08<00:19,  2.85it/s]\u001b[A\n",
      " 32%|███▏      | 25/79 [00:08<00:18,  2.86it/s]\u001b[A\n",
      " 33%|███▎      | 26/79 [00:08<00:18,  2.86it/s]\u001b[A\n",
      " 34%|███▍      | 27/79 [00:09<00:18,  2.85it/s]\u001b[A\n",
      " 35%|███▌      | 28/79 [00:09<00:17,  2.85it/s]\u001b[A\n",
      " 37%|███▋      | 29/79 [00:09<00:17,  2.85it/s]\u001b[A\n",
      " 38%|███▊      | 30/79 [00:10<00:17,  2.85it/s]\u001b[A\n",
      " 39%|███▉      | 31/79 [00:10<00:16,  2.84it/s]\u001b[A\n",
      " 41%|████      | 32/79 [00:10<00:16,  2.85it/s]\u001b[A\n",
      " 42%|████▏     | 33/79 [00:11<00:16,  2.85it/s]\u001b[A\n",
      " 43%|████▎     | 34/79 [00:11<00:15,  2.85it/s]\u001b[A\n",
      " 44%|████▍     | 35/79 [00:11<00:15,  2.85it/s]\u001b[A\n",
      " 46%|████▌     | 36/79 [00:12<00:15,  2.85it/s]\u001b[A\n",
      " 47%|████▋     | 37/79 [00:12<00:14,  2.85it/s]\u001b[A\n",
      " 48%|████▊     | 38/79 [00:13<00:14,  2.85it/s]\u001b[A\n",
      " 49%|████▉     | 39/79 [00:13<00:14,  2.85it/s]\u001b[A\n",
      " 51%|█████     | 40/79 [00:13<00:13,  2.86it/s]\u001b[A\n",
      " 52%|█████▏    | 41/79 [00:14<00:13,  2.87it/s]\u001b[A\n",
      " 53%|█████▎    | 42/79 [00:14<00:12,  2.85it/s]\u001b[A\n",
      " 54%|█████▍    | 43/79 [00:14<00:12,  2.85it/s]\u001b[A\n",
      " 56%|█████▌    | 44/79 [00:15<00:12,  2.85it/s]\u001b[A\n",
      " 57%|█████▋    | 45/79 [00:15<00:11,  2.85it/s]\u001b[A\n",
      " 58%|█████▊    | 46/79 [00:15<00:11,  2.86it/s]\u001b[A\n",
      " 59%|█████▉    | 47/79 [00:16<00:11,  2.88it/s]\u001b[A\n",
      " 61%|██████    | 48/79 [00:16<00:10,  2.88it/s]\u001b[A\n",
      " 62%|██████▏   | 49/79 [00:16<00:10,  2.88it/s]\u001b[A\n",
      " 63%|██████▎   | 50/79 [00:17<00:10,  2.88it/s]\u001b[A\n",
      " 65%|██████▍   | 51/79 [00:17<00:09,  2.87it/s]\u001b[A\n",
      " 66%|██████▌   | 52/79 [00:17<00:09,  2.86it/s]\u001b[A\n",
      " 67%|██████▋   | 53/79 [00:18<00:09,  2.87it/s]\u001b[A\n",
      " 68%|██████▊   | 54/79 [00:18<00:08,  2.86it/s]\u001b[A\n",
      " 70%|██████▉   | 55/79 [00:18<00:08,  2.85it/s]\u001b[A\n",
      " 71%|███████   | 56/79 [00:19<00:08,  2.85it/s]\u001b[A\n",
      " 72%|███████▏  | 57/79 [00:19<00:07,  2.85it/s]\u001b[A\n",
      " 73%|███████▎  | 58/79 [00:20<00:07,  2.84it/s]\u001b[A\n",
      " 75%|███████▍  | 59/79 [00:20<00:07,  2.85it/s]\u001b[A\n",
      " 76%|███████▌  | 60/79 [00:20<00:06,  2.84it/s]\u001b[A\n",
      " 77%|███████▋  | 61/79 [00:21<00:06,  2.85it/s]\u001b[A\n",
      " 78%|███████▊  | 62/79 [00:21<00:05,  2.84it/s]\u001b[A\n",
      " 80%|███████▉  | 63/79 [00:21<00:05,  2.84it/s]\u001b[A\n",
      " 81%|████████  | 64/79 [00:22<00:05,  2.83it/s]\u001b[A\n",
      " 82%|████████▏ | 65/79 [00:22<00:04,  2.83it/s]\u001b[A\n",
      " 84%|████████▎ | 66/79 [00:22<00:04,  2.83it/s]\u001b[A\n",
      " 85%|████████▍ | 67/79 [00:23<00:04,  2.83it/s]\u001b[A\n",
      " 86%|████████▌ | 68/79 [00:23<00:03,  2.83it/s]\u001b[A\n",
      " 87%|████████▋ | 69/79 [00:23<00:03,  2.83it/s]\u001b[A\n",
      " 89%|████████▊ | 70/79 [00:24<00:03,  2.82it/s]\u001b[A\n",
      " 90%|████████▉ | 71/79 [00:24<00:02,  2.83it/s]\u001b[A\n",
      " 91%|█████████ | 72/79 [00:24<00:02,  2.83it/s]\u001b[A\n",
      " 92%|█████████▏| 73/79 [00:25<00:02,  2.82it/s]\u001b[A\n",
      " 94%|█████████▎| 74/79 [00:25<00:01,  2.83it/s]\u001b[A\n",
      " 95%|█████████▍| 75/79 [00:26<00:01,  2.83it/s]\u001b[A\n",
      " 96%|█████████▌| 76/79 [00:26<00:01,  2.83it/s]\u001b[A\n",
      " 97%|█████████▋| 77/79 [00:26<00:00,  2.83it/s]\u001b[A\n",
      "                                                  \n",
      " 17%|█▋        | 680/4000 [18:05<36:50,  1.50it/s]\n",
      "100%|██████████| 79/79 [00:27<00:00,  2.88it/s]\u001b[A\n",
      "                                               \u001b[A"
     ]
    },
    {
     "name": "stdout",
     "output_type": "stream",
     "text": [
      "{'eval_loss': 3.6244726181030273, 'eval_accuracy': 0.163, 'eval_runtime': 27.5484, 'eval_samples_per_second': 362.998, 'eval_steps_per_second': 2.868, 'epoch': 17.0}\n"
     ]
    },
    {
     "name": "stderr",
     "output_type": "stream",
     "text": [
      " 17%|█▋        | 690/4000 [18:15<1:08:57,  1.25s/it]"
     ]
    },
    {
     "name": "stdout",
     "output_type": "stream",
     "text": [
      "{'loss': 2.9615, 'grad_norm': 13.107681274414062, 'learning_rate': 1.6550000000000002e-05, 'epoch': 17.25}\n"
     ]
    },
    {
     "name": "stderr",
     "output_type": "stream",
     "text": [
      " 18%|█▊        | 700/4000 [18:24<50:22,  1.09it/s]  "
     ]
    },
    {
     "name": "stdout",
     "output_type": "stream",
     "text": [
      "{'loss': 2.9977, 'grad_norm': 15.332898139953613, 'learning_rate': 1.65e-05, 'epoch': 17.5}\n"
     ]
    },
    {
     "name": "stderr",
     "output_type": "stream",
     "text": [
      " 18%|█▊        | 710/4000 [18:33<49:23,  1.11it/s]"
     ]
    },
    {
     "name": "stdout",
     "output_type": "stream",
     "text": [
      "{'loss': 3.0821, 'grad_norm': 15.50446891784668, 'learning_rate': 1.645e-05, 'epoch': 17.75}\n"
     ]
    },
    {
     "name": "stderr",
     "output_type": "stream",
     "text": [
      " 18%|█▊        | 720/4000 [18:41<36:31,  1.50it/s]"
     ]
    },
    {
     "name": "stdout",
     "output_type": "stream",
     "text": [
      "{'loss': 3.054, 'grad_norm': 49.05778884887695, 'learning_rate': 1.64e-05, 'epoch': 18.0}\n"
     ]
    },
    {
     "name": "stderr",
     "output_type": "stream",
     "text": [
      "\n",
      "  0%|          | 0/79 [00:00<?, ?it/s]\u001b[A\n",
      "  3%|▎         | 2/79 [00:00<00:13,  5.83it/s]\u001b[A\n",
      "  4%|▍         | 3/79 [00:00<00:19,  3.97it/s]\u001b[A\n",
      "  5%|▌         | 4/79 [00:01<00:21,  3.44it/s]\u001b[A\n",
      "  6%|▋         | 5/79 [00:01<00:23,  3.21it/s]\u001b[A\n",
      "  8%|▊         | 6/79 [00:01<00:23,  3.07it/s]\u001b[A\n",
      "  9%|▉         | 7/79 [00:02<00:24,  2.99it/s]\u001b[A\n",
      " 10%|█         | 8/79 [00:02<00:24,  2.94it/s]\u001b[A\n",
      " 11%|█▏        | 9/79 [00:02<00:24,  2.91it/s]\u001b[A\n",
      " 13%|█▎        | 10/79 [00:03<00:23,  2.88it/s]\u001b[A\n",
      " 14%|█▍        | 11/79 [00:03<00:23,  2.86it/s]\u001b[A\n",
      " 15%|█▌        | 12/79 [00:03<00:23,  2.85it/s]\u001b[A\n",
      " 16%|█▋        | 13/79 [00:04<00:23,  2.84it/s]\u001b[A\n",
      " 18%|█▊        | 14/79 [00:04<00:22,  2.85it/s]\u001b[A\n",
      " 19%|█▉        | 15/79 [00:04<00:22,  2.84it/s]\u001b[A\n",
      " 20%|██        | 16/79 [00:05<00:22,  2.84it/s]\u001b[A\n",
      " 22%|██▏       | 17/79 [00:05<00:21,  2.84it/s]\u001b[A\n",
      " 23%|██▎       | 18/79 [00:06<00:21,  2.84it/s]\u001b[A\n",
      " 24%|██▍       | 19/79 [00:06<00:21,  2.84it/s]\u001b[A\n",
      " 25%|██▌       | 20/79 [00:06<00:20,  2.85it/s]\u001b[A\n",
      " 27%|██▋       | 21/79 [00:07<00:20,  2.85it/s]\u001b[A\n",
      " 28%|██▊       | 22/79 [00:07<00:20,  2.85it/s]\u001b[A\n",
      " 29%|██▉       | 23/79 [00:07<00:19,  2.84it/s]\u001b[A\n",
      " 30%|███       | 24/79 [00:08<00:19,  2.84it/s]\u001b[A\n",
      " 32%|███▏      | 25/79 [00:08<00:19,  2.84it/s]\u001b[A\n",
      " 33%|███▎      | 26/79 [00:08<00:18,  2.84it/s]\u001b[A\n",
      " 34%|███▍      | 27/79 [00:09<00:18,  2.85it/s]\u001b[A\n",
      " 35%|███▌      | 28/79 [00:09<00:17,  2.86it/s]\u001b[A\n",
      " 37%|███▋      | 29/79 [00:09<00:17,  2.85it/s]\u001b[A\n",
      " 38%|███▊      | 30/79 [00:10<00:17,  2.85it/s]\u001b[A\n",
      " 39%|███▉      | 31/79 [00:10<00:16,  2.86it/s]\u001b[A\n",
      " 41%|████      | 32/79 [00:10<00:16,  2.87it/s]\u001b[A\n",
      " 42%|████▏     | 33/79 [00:11<00:16,  2.87it/s]\u001b[A\n",
      " 43%|████▎     | 34/79 [00:11<00:15,  2.86it/s]\u001b[A\n",
      " 44%|████▍     | 35/79 [00:11<00:15,  2.86it/s]\u001b[A\n",
      " 46%|████▌     | 36/79 [00:12<00:14,  2.87it/s]\u001b[A\n",
      " 47%|████▋     | 37/79 [00:12<00:14,  2.88it/s]\u001b[A\n",
      " 48%|████▊     | 38/79 [00:13<00:14,  2.86it/s]\u001b[A\n",
      " 49%|████▉     | 39/79 [00:13<00:13,  2.86it/s]\u001b[A\n",
      " 51%|█████     | 40/79 [00:13<00:13,  2.87it/s]\u001b[A\n",
      " 52%|█████▏    | 41/79 [00:14<00:13,  2.87it/s]\u001b[A\n",
      " 53%|█████▎    | 42/79 [00:14<00:12,  2.86it/s]\u001b[A\n",
      " 54%|█████▍    | 43/79 [00:14<00:12,  2.86it/s]\u001b[A\n",
      " 56%|█████▌    | 44/79 [00:15<00:12,  2.86it/s]\u001b[A\n",
      " 57%|█████▋    | 45/79 [00:15<00:11,  2.86it/s]\u001b[A\n",
      " 58%|█████▊    | 46/79 [00:15<00:11,  2.85it/s]\u001b[A\n",
      " 59%|█████▉    | 47/79 [00:16<00:11,  2.87it/s]\u001b[A\n",
      " 61%|██████    | 48/79 [00:16<00:10,  2.87it/s]\u001b[A\n",
      " 62%|██████▏   | 49/79 [00:16<00:10,  2.86it/s]\u001b[A\n",
      " 63%|██████▎   | 50/79 [00:17<00:10,  2.86it/s]\u001b[A\n",
      " 65%|██████▍   | 51/79 [00:17<00:09,  2.87it/s]\u001b[A\n",
      " 66%|██████▌   | 52/79 [00:17<00:09,  2.87it/s]\u001b[A\n",
      " 67%|██████▋   | 53/79 [00:18<00:09,  2.86it/s]\u001b[A\n",
      " 68%|██████▊   | 54/79 [00:18<00:08,  2.86it/s]\u001b[A\n",
      " 70%|██████▉   | 55/79 [00:18<00:08,  2.86it/s]\u001b[A\n",
      " 71%|███████   | 56/79 [00:19<00:08,  2.85it/s]\u001b[A\n",
      " 72%|███████▏  | 57/79 [00:19<00:07,  2.85it/s]\u001b[A\n",
      " 73%|███████▎  | 58/79 [00:19<00:07,  2.84it/s]\u001b[A\n",
      " 75%|███████▍  | 59/79 [00:20<00:07,  2.84it/s]\u001b[A\n",
      " 76%|███████▌  | 60/79 [00:20<00:06,  2.85it/s]\u001b[A\n",
      " 77%|███████▋  | 61/79 [00:21<00:06,  2.83it/s]\u001b[A\n",
      " 78%|███████▊  | 62/79 [00:21<00:05,  2.84it/s]\u001b[A\n",
      " 80%|███████▉  | 63/79 [00:21<00:05,  2.83it/s]\u001b[A\n",
      " 81%|████████  | 64/79 [00:22<00:05,  2.83it/s]\u001b[A\n",
      " 82%|████████▏ | 65/79 [00:22<00:04,  2.82it/s]\u001b[A\n",
      " 84%|████████▎ | 66/79 [00:22<00:04,  2.83it/s]\u001b[A\n",
      " 85%|████████▍ | 67/79 [00:23<00:04,  2.83it/s]\u001b[A\n",
      " 86%|████████▌ | 68/79 [00:23<00:03,  2.82it/s]\u001b[A\n",
      " 87%|████████▋ | 69/79 [00:23<00:03,  2.83it/s]\u001b[A\n",
      " 89%|████████▊ | 70/79 [00:24<00:03,  2.83it/s]\u001b[A\n",
      " 90%|████████▉ | 71/79 [00:24<00:02,  2.83it/s]\u001b[A\n",
      " 91%|█████████ | 72/79 [00:24<00:02,  2.83it/s]\u001b[A\n",
      " 92%|█████████▏| 73/79 [00:25<00:02,  2.83it/s]\u001b[A\n",
      " 94%|█████████▎| 74/79 [00:25<00:01,  2.82it/s]\u001b[A\n",
      " 95%|█████████▍| 75/79 [00:26<00:01,  2.83it/s]\u001b[A\n",
      " 96%|█████████▌| 76/79 [00:26<00:01,  2.83it/s]\u001b[A\n",
      " 97%|█████████▋| 77/79 [00:26<00:00,  2.83it/s]\u001b[A\n",
      "                                                  \n",
      " 18%|█▊        | 720/4000 [19:09<36:31,  1.50it/s]\n",
      "100%|██████████| 79/79 [00:27<00:00,  2.90it/s]\u001b[A\n",
      "                                               \u001b[A"
     ]
    },
    {
     "name": "stdout",
     "output_type": "stream",
     "text": [
      "{'eval_loss': 3.599731922149658, 'eval_accuracy': 0.1682, 'eval_runtime': 27.5211, 'eval_samples_per_second': 363.357, 'eval_steps_per_second': 2.871, 'epoch': 18.0}\n"
     ]
    },
    {
     "name": "stderr",
     "output_type": "stream",
     "text": [
      " 18%|█▊        | 730/4000 [19:19<1:07:58,  1.25s/it]"
     ]
    },
    {
     "name": "stdout",
     "output_type": "stream",
     "text": [
      "{'loss': 2.8935, 'grad_norm': 14.602903366088867, 'learning_rate': 1.635e-05, 'epoch': 18.25}\n"
     ]
    },
    {
     "name": "stderr",
     "output_type": "stream",
     "text": [
      " 18%|█▊        | 740/4000 [19:28<49:54,  1.09it/s]  "
     ]
    },
    {
     "name": "stdout",
     "output_type": "stream",
     "text": [
      "{'loss': 2.9679, 'grad_norm': 14.80912971496582, 'learning_rate': 1.63e-05, 'epoch': 18.5}\n"
     ]
    },
    {
     "name": "stderr",
     "output_type": "stream",
     "text": [
      " 19%|█▉        | 750/4000 [19:37<48:42,  1.11it/s]"
     ]
    },
    {
     "name": "stdout",
     "output_type": "stream",
     "text": [
      "{'loss': 3.0023, 'grad_norm': 15.576702117919922, 'learning_rate': 1.6250000000000002e-05, 'epoch': 18.75}\n"
     ]
    },
    {
     "name": "stderr",
     "output_type": "stream",
     "text": [
      " 19%|█▉        | 760/4000 [19:46<35:38,  1.51it/s]"
     ]
    },
    {
     "name": "stdout",
     "output_type": "stream",
     "text": [
      "{'loss': 2.9456, 'grad_norm': 60.789249420166016, 'learning_rate': 1.62e-05, 'epoch': 19.0}\n"
     ]
    },
    {
     "name": "stderr",
     "output_type": "stream",
     "text": [
      "\n",
      "  0%|          | 0/79 [00:00<?, ?it/s]\u001b[A\n",
      "  3%|▎         | 2/79 [00:00<00:13,  5.78it/s]\u001b[A\n",
      "  4%|▍         | 3/79 [00:00<00:19,  3.94it/s]\u001b[A\n",
      "  5%|▌         | 4/79 [00:01<00:21,  3.45it/s]\u001b[A\n",
      "  6%|▋         | 5/79 [00:01<00:23,  3.20it/s]\u001b[A\n",
      "  8%|▊         | 6/79 [00:01<00:23,  3.06it/s]\u001b[A\n",
      "  9%|▉         | 7/79 [00:02<00:24,  2.98it/s]\u001b[A\n",
      " 10%|█         | 8/79 [00:02<00:24,  2.93it/s]\u001b[A\n",
      " 11%|█▏        | 9/79 [00:02<00:24,  2.91it/s]\u001b[A\n",
      " 13%|█▎        | 10/79 [00:03<00:23,  2.88it/s]\u001b[A\n",
      " 14%|█▍        | 11/79 [00:03<00:23,  2.87it/s]\u001b[A\n",
      " 15%|█▌        | 12/79 [00:03<00:23,  2.85it/s]\u001b[A\n",
      " 16%|█▋        | 13/79 [00:04<00:23,  2.85it/s]\u001b[A\n",
      " 18%|█▊        | 14/79 [00:04<00:22,  2.85it/s]\u001b[A\n",
      " 19%|█▉        | 15/79 [00:04<00:22,  2.85it/s]\u001b[A\n",
      " 20%|██        | 16/79 [00:05<00:22,  2.85it/s]\u001b[A\n",
      " 22%|██▏       | 17/79 [00:05<00:21,  2.84it/s]\u001b[A\n",
      " 23%|██▎       | 18/79 [00:06<00:21,  2.84it/s]\u001b[A\n",
      " 24%|██▍       | 19/79 [00:06<00:21,  2.84it/s]\u001b[A\n",
      " 25%|██▌       | 20/79 [00:06<00:20,  2.84it/s]\u001b[A\n",
      " 27%|██▋       | 21/79 [00:07<00:20,  2.84it/s]\u001b[A\n",
      " 28%|██▊       | 22/79 [00:07<00:20,  2.84it/s]\u001b[A\n",
      " 29%|██▉       | 23/79 [00:07<00:19,  2.84it/s]\u001b[A\n",
      " 30%|███       | 24/79 [00:08<00:19,  2.84it/s]\u001b[A\n",
      " 32%|███▏      | 25/79 [00:08<00:19,  2.84it/s]\u001b[A\n",
      " 33%|███▎      | 26/79 [00:08<00:18,  2.85it/s]\u001b[A\n",
      " 34%|███▍      | 27/79 [00:09<00:18,  2.86it/s]\u001b[A\n",
      " 35%|███▌      | 28/79 [00:09<00:17,  2.85it/s]\u001b[A\n",
      " 37%|███▋      | 29/79 [00:09<00:17,  2.85it/s]\u001b[A\n",
      " 38%|███▊      | 30/79 [00:10<00:17,  2.85it/s]\u001b[A\n",
      " 39%|███▉      | 31/79 [00:10<00:16,  2.85it/s]\u001b[A\n",
      " 41%|████      | 32/79 [00:10<00:16,  2.85it/s]\u001b[A\n",
      " 42%|████▏     | 33/79 [00:11<00:16,  2.86it/s]\u001b[A\n",
      " 43%|████▎     | 34/79 [00:11<00:15,  2.85it/s]\u001b[A\n",
      " 44%|████▍     | 35/79 [00:11<00:15,  2.85it/s]\u001b[A\n",
      " 46%|████▌     | 36/79 [00:12<00:15,  2.86it/s]\u001b[A\n",
      " 47%|████▋     | 37/79 [00:12<00:14,  2.88it/s]\u001b[A\n",
      " 48%|████▊     | 38/79 [00:13<00:14,  2.88it/s]\u001b[A\n",
      " 49%|████▉     | 39/79 [00:13<00:13,  2.89it/s]\u001b[A\n",
      " 51%|█████     | 40/79 [00:13<00:13,  2.88it/s]\u001b[A\n",
      " 52%|█████▏    | 41/79 [00:14<00:13,  2.87it/s]\u001b[A\n",
      " 53%|█████▎    | 42/79 [00:14<00:12,  2.87it/s]\u001b[A\n",
      " 54%|█████▍    | 43/79 [00:14<00:12,  2.88it/s]\u001b[A\n",
      " 56%|█████▌    | 44/79 [00:15<00:12,  2.89it/s]\u001b[A\n",
      " 57%|█████▋    | 45/79 [00:15<00:11,  2.89it/s]\u001b[A\n",
      " 58%|█████▊    | 46/79 [00:15<00:11,  2.89it/s]\u001b[A\n",
      " 59%|█████▉    | 47/79 [00:16<00:11,  2.88it/s]\u001b[A\n",
      " 61%|██████    | 48/79 [00:16<00:10,  2.87it/s]\u001b[A\n",
      " 62%|██████▏   | 49/79 [00:16<00:10,  2.87it/s]\u001b[A\n",
      " 63%|██████▎   | 50/79 [00:17<00:10,  2.88it/s]\u001b[A\n",
      " 65%|██████▍   | 51/79 [00:17<00:09,  2.88it/s]\u001b[A\n",
      " 66%|██████▌   | 52/79 [00:17<00:09,  2.87it/s]\u001b[A\n",
      " 67%|██████▋   | 53/79 [00:18<00:09,  2.86it/s]\u001b[A\n",
      " 68%|██████▊   | 54/79 [00:18<00:08,  2.87it/s]\u001b[A\n",
      " 70%|██████▉   | 55/79 [00:18<00:08,  2.88it/s]\u001b[A\n",
      " 71%|███████   | 56/79 [00:19<00:08,  2.87it/s]\u001b[A\n",
      " 72%|███████▏  | 57/79 [00:19<00:07,  2.86it/s]\u001b[A\n",
      " 73%|███████▎  | 58/79 [00:19<00:07,  2.87it/s]\u001b[A\n",
      " 75%|███████▍  | 59/79 [00:20<00:06,  2.87it/s]\u001b[A\n",
      " 76%|███████▌  | 60/79 [00:20<00:06,  2.88it/s]\u001b[A\n",
      " 77%|███████▋  | 61/79 [00:21<00:06,  2.86it/s]\u001b[A\n",
      " 78%|███████▊  | 62/79 [00:21<00:05,  2.86it/s]\u001b[A\n",
      " 80%|███████▉  | 63/79 [00:21<00:05,  2.86it/s]\u001b[A\n",
      " 81%|████████  | 64/79 [00:22<00:05,  2.86it/s]\u001b[A\n",
      " 82%|████████▏ | 65/79 [00:22<00:04,  2.85it/s]\u001b[A\n",
      " 84%|████████▎ | 66/79 [00:22<00:04,  2.85it/s]\u001b[A\n",
      " 85%|████████▍ | 67/79 [00:23<00:04,  2.84it/s]\u001b[A\n",
      " 86%|████████▌ | 68/79 [00:23<00:03,  2.84it/s]\u001b[A\n",
      " 87%|████████▋ | 69/79 [00:23<00:03,  2.83it/s]\u001b[A\n",
      " 89%|████████▊ | 70/79 [00:24<00:03,  2.82it/s]\u001b[A\n",
      " 90%|████████▉ | 71/79 [00:24<00:02,  2.83it/s]\u001b[A\n",
      " 91%|█████████ | 72/79 [00:24<00:02,  2.81it/s]\u001b[A\n",
      " 92%|█████████▏| 73/79 [00:25<00:02,  2.83it/s]\u001b[A\n",
      " 94%|█████████▎| 74/79 [00:25<00:01,  2.82it/s]\u001b[A\n",
      " 95%|█████████▍| 75/79 [00:25<00:01,  2.82it/s]\u001b[A\n",
      " 96%|█████████▌| 76/79 [00:26<00:01,  2.83it/s]\u001b[A\n",
      " 97%|█████████▋| 77/79 [00:26<00:00,  2.83it/s]\u001b[A\n",
      "                                                  \n",
      " 19%|█▉        | 760/4000 [20:13<35:38,  1.51it/s]\n",
      "100%|██████████| 79/79 [00:27<00:00,  2.88it/s]\u001b[A\n",
      "                                               \u001b[A"
     ]
    },
    {
     "name": "stdout",
     "output_type": "stream",
     "text": [
      "{'eval_loss': 3.5811550617218018, 'eval_accuracy': 0.1706, 'eval_runtime': 27.4783, 'eval_samples_per_second': 363.923, 'eval_steps_per_second': 2.875, 'epoch': 19.0}\n"
     ]
    },
    {
     "name": "stderr",
     "output_type": "stream",
     "text": [
      " 19%|█▉        | 770/4000 [20:23<1:07:18,  1.25s/it]"
     ]
    },
    {
     "name": "stdout",
     "output_type": "stream",
     "text": [
      "{'loss': 2.9001, 'grad_norm': 16.93745994567871, 'learning_rate': 1.6150000000000003e-05, 'epoch': 19.25}\n"
     ]
    },
    {
     "name": "stderr",
     "output_type": "stream",
     "text": [
      " 20%|█▉        | 780/4000 [20:32<49:01,  1.09it/s]  "
     ]
    },
    {
     "name": "stdout",
     "output_type": "stream",
     "text": [
      "{'loss': 2.8797, 'grad_norm': 17.508554458618164, 'learning_rate': 1.6100000000000002e-05, 'epoch': 19.5}\n"
     ]
    },
    {
     "name": "stderr",
     "output_type": "stream",
     "text": [
      " 20%|█▉        | 790/4000 [20:41<48:29,  1.10it/s]"
     ]
    },
    {
     "name": "stdout",
     "output_type": "stream",
     "text": [
      "{'loss': 2.9019, 'grad_norm': 16.975353240966797, 'learning_rate': 1.605e-05, 'epoch': 19.75}\n"
     ]
    },
    {
     "name": "stderr",
     "output_type": "stream",
     "text": [
      " 20%|██        | 800/4000 [20:50<35:25,  1.51it/s]"
     ]
    },
    {
     "name": "stdout",
     "output_type": "stream",
     "text": [
      "{'loss': 2.9795, 'grad_norm': 60.87623596191406, 'learning_rate': 1.6000000000000003e-05, 'epoch': 20.0}\n"
     ]
    },
    {
     "name": "stderr",
     "output_type": "stream",
     "text": [
      "\n",
      "  0%|          | 0/79 [00:00<?, ?it/s]\u001b[A\n",
      "  3%|▎         | 2/79 [00:00<00:13,  5.83it/s]\u001b[A\n",
      "  4%|▍         | 3/79 [00:00<00:19,  3.98it/s]\u001b[A\n",
      "  5%|▌         | 4/79 [00:01<00:21,  3.47it/s]\u001b[A\n",
      "  6%|▋         | 5/79 [00:01<00:22,  3.24it/s]\u001b[A\n",
      "  8%|▊         | 6/79 [00:01<00:23,  3.09it/s]\u001b[A\n",
      "  9%|▉         | 7/79 [00:02<00:23,  3.01it/s]\u001b[A\n",
      " 10%|█         | 8/79 [00:02<00:23,  2.97it/s]\u001b[A\n",
      " 11%|█▏        | 9/79 [00:02<00:23,  2.93it/s]\u001b[A\n",
      " 13%|█▎        | 10/79 [00:03<00:23,  2.90it/s]\u001b[A\n",
      " 14%|█▍        | 11/79 [00:03<00:23,  2.88it/s]\u001b[A\n",
      " 15%|█▌        | 12/79 [00:03<00:23,  2.88it/s]\u001b[A\n",
      " 16%|█▋        | 13/79 [00:04<00:23,  2.87it/s]\u001b[A\n",
      " 18%|█▊        | 14/79 [00:04<00:22,  2.87it/s]\u001b[A\n",
      " 19%|█▉        | 15/79 [00:04<00:22,  2.87it/s]\u001b[A\n",
      " 20%|██        | 16/79 [00:05<00:21,  2.87it/s]\u001b[A\n",
      " 22%|██▏       | 17/79 [00:05<00:21,  2.86it/s]\u001b[A\n",
      " 23%|██▎       | 18/79 [00:05<00:21,  2.87it/s]\u001b[A\n",
      " 24%|██▍       | 19/79 [00:06<00:20,  2.87it/s]\u001b[A\n",
      " 25%|██▌       | 20/79 [00:06<00:20,  2.87it/s]\u001b[A\n",
      " 27%|██▋       | 21/79 [00:07<00:20,  2.86it/s]\u001b[A\n",
      " 28%|██▊       | 22/79 [00:07<00:19,  2.87it/s]\u001b[A\n",
      " 29%|██▉       | 23/79 [00:07<00:19,  2.88it/s]\u001b[A\n",
      " 30%|███       | 24/79 [00:08<00:19,  2.89it/s]\u001b[A\n",
      " 32%|███▏      | 25/79 [00:08<00:18,  2.89it/s]\u001b[A\n",
      " 33%|███▎      | 26/79 [00:08<00:18,  2.89it/s]\u001b[A\n",
      " 34%|███▍      | 27/79 [00:09<00:17,  2.89it/s]\u001b[A\n",
      " 35%|███▌      | 28/79 [00:09<00:17,  2.88it/s]\u001b[A\n",
      " 37%|███▋      | 29/79 [00:09<00:17,  2.87it/s]\u001b[A\n",
      " 38%|███▊      | 30/79 [00:10<00:17,  2.88it/s]\u001b[A\n",
      " 39%|███▉      | 31/79 [00:10<00:16,  2.89it/s]\u001b[A\n",
      " 41%|████      | 32/79 [00:10<00:16,  2.88it/s]\u001b[A\n",
      " 42%|████▏     | 33/79 [00:11<00:16,  2.87it/s]\u001b[A\n",
      " 43%|████▎     | 34/79 [00:11<00:15,  2.87it/s]\u001b[A\n",
      " 44%|████▍     | 35/79 [00:11<00:15,  2.86it/s]\u001b[A\n",
      " 46%|████▌     | 36/79 [00:12<00:15,  2.85it/s]\u001b[A\n",
      " 47%|████▋     | 37/79 [00:12<00:14,  2.85it/s]\u001b[A\n",
      " 48%|████▊     | 38/79 [00:12<00:14,  2.86it/s]\u001b[A\n",
      " 49%|████▉     | 39/79 [00:13<00:14,  2.85it/s]\u001b[A\n",
      " 51%|█████     | 40/79 [00:13<00:13,  2.84it/s]\u001b[A\n",
      " 52%|█████▏    | 41/79 [00:13<00:13,  2.84it/s]\u001b[A\n",
      " 53%|█████▎    | 42/79 [00:14<00:13,  2.84it/s]\u001b[A\n",
      " 54%|█████▍    | 43/79 [00:14<00:12,  2.84it/s]\u001b[A\n",
      " 56%|█████▌    | 44/79 [00:15<00:12,  2.84it/s]\u001b[A\n",
      " 57%|█████▋    | 45/79 [00:15<00:11,  2.84it/s]\u001b[A\n",
      " 58%|█████▊    | 46/79 [00:15<00:11,  2.83it/s]\u001b[A\n",
      " 59%|█████▉    | 47/79 [00:16<00:11,  2.83it/s]\u001b[A\n",
      " 61%|██████    | 48/79 [00:16<00:10,  2.82it/s]\u001b[A\n",
      " 62%|██████▏   | 49/79 [00:16<00:10,  2.83it/s]\u001b[A\n",
      " 63%|██████▎   | 50/79 [00:17<00:10,  2.83it/s]\u001b[A\n",
      " 65%|██████▍   | 51/79 [00:17<00:09,  2.82it/s]\u001b[A\n",
      " 66%|██████▌   | 52/79 [00:17<00:09,  2.82it/s]\u001b[A\n",
      " 67%|██████▋   | 53/79 [00:18<00:09,  2.82it/s]\u001b[A\n",
      " 68%|██████▊   | 54/79 [00:18<00:08,  2.82it/s]\u001b[A\n",
      " 70%|██████▉   | 55/79 [00:18<00:08,  2.82it/s]\u001b[A\n",
      " 71%|███████   | 56/79 [00:19<00:08,  2.82it/s]\u001b[A\n",
      " 72%|███████▏  | 57/79 [00:19<00:07,  2.83it/s]\u001b[A\n",
      " 73%|███████▎  | 58/79 [00:19<00:07,  2.82it/s]\u001b[A\n",
      " 75%|███████▍  | 59/79 [00:20<00:07,  2.84it/s]\u001b[A\n",
      " 76%|███████▌  | 60/79 [00:20<00:06,  2.84it/s]\u001b[A\n",
      " 77%|███████▋  | 61/79 [00:21<00:06,  2.84it/s]\u001b[A\n",
      " 78%|███████▊  | 62/79 [00:21<00:05,  2.85it/s]\u001b[A\n",
      " 80%|███████▉  | 63/79 [00:21<00:05,  2.84it/s]\u001b[A\n",
      " 81%|████████  | 64/79 [00:22<00:05,  2.84it/s]\u001b[A\n",
      " 82%|████████▏ | 65/79 [00:22<00:04,  2.83it/s]\u001b[A\n",
      " 84%|████████▎ | 66/79 [00:22<00:04,  2.84it/s]\u001b[A\n",
      " 85%|████████▍ | 67/79 [00:23<00:04,  2.84it/s]\u001b[A\n",
      " 86%|████████▌ | 68/79 [00:23<00:03,  2.84it/s]\u001b[A\n",
      " 87%|████████▋ | 69/79 [00:23<00:03,  2.84it/s]\u001b[A\n",
      " 89%|████████▊ | 70/79 [00:24<00:03,  2.83it/s]\u001b[A\n",
      " 90%|████████▉ | 71/79 [00:24<00:02,  2.84it/s]\u001b[A\n",
      " 91%|█████████ | 72/79 [00:24<00:02,  2.83it/s]\u001b[A\n",
      " 92%|█████████▏| 73/79 [00:25<00:02,  2.84it/s]\u001b[A\n",
      " 94%|█████████▎| 74/79 [00:25<00:01,  2.85it/s]\u001b[A\n",
      " 95%|█████████▍| 75/79 [00:25<00:01,  2.85it/s]\u001b[A\n",
      " 96%|█████████▌| 76/79 [00:26<00:01,  2.85it/s]\u001b[A\n",
      " 97%|█████████▋| 77/79 [00:26<00:00,  2.85it/s]\u001b[A\n",
      "                                                  \n",
      " 20%|██        | 800/4000 [21:17<35:25,  1.51it/s]\n",
      "100%|██████████| 79/79 [00:27<00:00,  2.91it/s]\u001b[A\n",
      "                                               \u001b[A"
     ]
    },
    {
     "name": "stdout",
     "output_type": "stream",
     "text": [
      "{'eval_loss': 3.569239854812622, 'eval_accuracy': 0.1755, 'eval_runtime': 27.4845, 'eval_samples_per_second': 363.841, 'eval_steps_per_second': 2.874, 'epoch': 20.0}\n"
     ]
    },
    {
     "name": "stderr",
     "output_type": "stream",
     "text": [
      " 20%|██        | 810/4000 [21:27<1:06:07,  1.24s/it]"
     ]
    },
    {
     "name": "stdout",
     "output_type": "stream",
     "text": [
      "{'loss': 2.7968, 'grad_norm': 17.138263702392578, 'learning_rate': 1.595e-05, 'epoch': 20.25}\n"
     ]
    },
    {
     "name": "stderr",
     "output_type": "stream",
     "text": [
      " 20%|██        | 820/4000 [21:36<48:36,  1.09it/s]  "
     ]
    },
    {
     "name": "stdout",
     "output_type": "stream",
     "text": [
      "{'loss': 2.8271, 'grad_norm': 18.302534103393555, 'learning_rate': 1.5900000000000004e-05, 'epoch': 20.5}\n"
     ]
    },
    {
     "name": "stderr",
     "output_type": "stream",
     "text": [
      " 21%|██        | 830/4000 [21:45<48:07,  1.10it/s]"
     ]
    },
    {
     "name": "stdout",
     "output_type": "stream",
     "text": [
      "{'loss': 2.8493, 'grad_norm': 16.94780731201172, 'learning_rate': 1.5850000000000002e-05, 'epoch': 20.75}\n"
     ]
    },
    {
     "name": "stderr",
     "output_type": "stream",
     "text": [
      " 21%|██        | 840/4000 [21:54<35:10,  1.50it/s]"
     ]
    },
    {
     "name": "stdout",
     "output_type": "stream",
     "text": [
      "{'loss': 2.9175, 'grad_norm': 74.4766616821289, 'learning_rate': 1.58e-05, 'epoch': 21.0}\n"
     ]
    },
    {
     "name": "stderr",
     "output_type": "stream",
     "text": [
      "\n",
      "  0%|          | 0/79 [00:00<?, ?it/s]\u001b[A\n",
      "  3%|▎         | 2/79 [00:00<00:13,  5.83it/s]\u001b[A\n",
      "  4%|▍         | 3/79 [00:00<00:19,  3.99it/s]\u001b[A\n",
      "  5%|▌         | 4/79 [00:01<00:21,  3.48it/s]\u001b[A\n",
      "  6%|▋         | 5/79 [00:01<00:22,  3.24it/s]\u001b[A\n",
      "  8%|▊         | 6/79 [00:01<00:23,  3.08it/s]\u001b[A\n",
      "  9%|▉         | 7/79 [00:02<00:23,  3.01it/s]\u001b[A\n",
      " 10%|█         | 8/79 [00:02<00:24,  2.95it/s]\u001b[A\n",
      " 11%|█▏        | 9/79 [00:02<00:24,  2.91it/s]\u001b[A\n",
      " 13%|█▎        | 10/79 [00:03<00:23,  2.90it/s]\u001b[A\n",
      " 14%|█▍        | 11/79 [00:03<00:23,  2.89it/s]\u001b[A\n",
      " 15%|█▌        | 12/79 [00:03<00:23,  2.87it/s]\u001b[A\n",
      " 16%|█▋        | 13/79 [00:04<00:23,  2.87it/s]\u001b[A\n",
      " 18%|█▊        | 14/79 [00:04<00:22,  2.86it/s]\u001b[A\n",
      " 19%|█▉        | 15/79 [00:04<00:22,  2.86it/s]\u001b[A\n",
      " 20%|██        | 16/79 [00:05<00:21,  2.87it/s]\u001b[A\n",
      " 22%|██▏       | 17/79 [00:05<00:21,  2.88it/s]\u001b[A\n",
      " 23%|██▎       | 18/79 [00:05<00:21,  2.87it/s]\u001b[A\n",
      " 24%|██▍       | 19/79 [00:06<00:20,  2.86it/s]\u001b[A\n",
      " 25%|██▌       | 20/79 [00:06<00:20,  2.86it/s]\u001b[A\n",
      " 27%|██▋       | 21/79 [00:07<00:20,  2.87it/s]\u001b[A\n",
      " 28%|██▊       | 22/79 [00:07<00:19,  2.86it/s]\u001b[A\n",
      " 29%|██▉       | 23/79 [00:07<00:19,  2.86it/s]\u001b[A\n",
      " 30%|███       | 24/79 [00:08<00:19,  2.87it/s]\u001b[A\n",
      " 32%|███▏      | 25/79 [00:08<00:18,  2.87it/s]\u001b[A\n",
      " 33%|███▎      | 26/79 [00:08<00:18,  2.87it/s]\u001b[A\n",
      " 34%|███▍      | 27/79 [00:09<00:18,  2.86it/s]\u001b[A\n",
      " 35%|███▌      | 28/79 [00:09<00:17,  2.86it/s]\u001b[A\n",
      " 37%|███▋      | 29/79 [00:09<00:17,  2.84it/s]\u001b[A\n",
      " 38%|███▊      | 30/79 [00:10<00:17,  2.85it/s]\u001b[A\n",
      " 39%|███▉      | 31/79 [00:10<00:16,  2.86it/s]\u001b[A\n",
      " 41%|████      | 32/79 [00:10<00:16,  2.87it/s]\u001b[A\n",
      " 42%|████▏     | 33/79 [00:11<00:16,  2.87it/s]\u001b[A\n",
      " 43%|████▎     | 34/79 [00:11<00:15,  2.86it/s]\u001b[A\n",
      " 44%|████▍     | 35/79 [00:11<00:15,  2.86it/s]\u001b[A\n",
      " 46%|████▌     | 36/79 [00:12<00:15,  2.87it/s]\u001b[A\n",
      " 47%|████▋     | 37/79 [00:12<00:14,  2.86it/s]\u001b[A\n",
      " 48%|████▊     | 38/79 [00:12<00:14,  2.86it/s]\u001b[A\n",
      " 49%|████▉     | 39/79 [00:13<00:13,  2.86it/s]\u001b[A\n",
      " 51%|█████     | 40/79 [00:13<00:13,  2.86it/s]\u001b[A\n",
      " 52%|█████▏    | 41/79 [00:13<00:13,  2.85it/s]\u001b[A\n",
      " 53%|█████▎    | 42/79 [00:14<00:12,  2.86it/s]\u001b[A\n",
      " 54%|█████▍    | 43/79 [00:14<00:12,  2.85it/s]\u001b[A\n",
      " 56%|█████▌    | 44/79 [00:15<00:12,  2.84it/s]\u001b[A\n",
      " 57%|█████▋    | 45/79 [00:15<00:11,  2.85it/s]\u001b[A\n",
      " 58%|█████▊    | 46/79 [00:15<00:11,  2.85it/s]\u001b[A\n",
      " 59%|█████▉    | 47/79 [00:16<00:11,  2.85it/s]\u001b[A\n",
      " 61%|██████    | 48/79 [00:16<00:10,  2.85it/s]\u001b[A\n",
      " 62%|██████▏   | 49/79 [00:16<00:10,  2.84it/s]\u001b[A\n",
      " 63%|██████▎   | 50/79 [00:17<00:10,  2.85it/s]\u001b[A\n",
      " 65%|██████▍   | 51/79 [00:17<00:09,  2.84it/s]\u001b[A\n",
      " 66%|██████▌   | 52/79 [00:17<00:09,  2.84it/s]\u001b[A\n",
      " 67%|██████▋   | 53/79 [00:18<00:09,  2.83it/s]\u001b[A\n",
      " 68%|██████▊   | 54/79 [00:18<00:08,  2.83it/s]\u001b[A\n",
      " 70%|██████▉   | 55/79 [00:18<00:08,  2.82it/s]\u001b[A\n",
      " 71%|███████   | 56/79 [00:19<00:08,  2.83it/s]\u001b[A\n",
      " 72%|███████▏  | 57/79 [00:19<00:07,  2.84it/s]\u001b[A\n",
      " 73%|███████▎  | 58/79 [00:19<00:07,  2.85it/s]\u001b[A\n",
      " 75%|███████▍  | 59/79 [00:20<00:07,  2.84it/s]\u001b[A\n",
      " 76%|███████▌  | 60/79 [00:20<00:06,  2.84it/s]\u001b[A\n",
      " 77%|███████▋  | 61/79 [00:21<00:06,  2.85it/s]\u001b[A\n",
      " 78%|███████▊  | 62/79 [00:21<00:05,  2.85it/s]\u001b[A\n",
      " 80%|███████▉  | 63/79 [00:21<00:05,  2.85it/s]\u001b[A\n",
      " 81%|████████  | 64/79 [00:22<00:05,  2.85it/s]\u001b[A\n",
      " 82%|████████▏ | 65/79 [00:22<00:04,  2.84it/s]\u001b[A\n",
      " 84%|████████▎ | 66/79 [00:22<00:04,  2.84it/s]\u001b[A\n",
      " 85%|████████▍ | 67/79 [00:23<00:04,  2.84it/s]\u001b[A\n",
      " 86%|████████▌ | 68/79 [00:23<00:03,  2.84it/s]\u001b[A\n",
      " 87%|████████▋ | 69/79 [00:23<00:03,  2.84it/s]\u001b[A\n",
      " 89%|████████▊ | 70/79 [00:24<00:03,  2.84it/s]\u001b[A\n",
      " 90%|████████▉ | 71/79 [00:24<00:02,  2.85it/s]\u001b[A\n",
      " 91%|█████████ | 72/79 [00:24<00:02,  2.84it/s]\u001b[A\n",
      " 92%|█████████▏| 73/79 [00:25<00:02,  2.84it/s]\u001b[A\n",
      " 94%|█████████▎| 74/79 [00:25<00:01,  2.83it/s]\u001b[A\n",
      " 95%|█████████▍| 75/79 [00:25<00:01,  2.84it/s]\u001b[A\n",
      " 96%|█████████▌| 76/79 [00:26<00:01,  2.84it/s]\u001b[A\n",
      " 97%|█████████▋| 77/79 [00:26<00:00,  2.84it/s]\u001b[A\n",
      "                                                  \n",
      " 21%|██        | 840/4000 [22:21<35:10,  1.50it/s]\n",
      "100%|██████████| 79/79 [00:27<00:00,  2.88it/s]\u001b[A\n",
      "                                               \u001b[A"
     ]
    },
    {
     "name": "stdout",
     "output_type": "stream",
     "text": [
      "{'eval_loss': 3.5600786209106445, 'eval_accuracy': 0.1771, 'eval_runtime': 27.4771, 'eval_samples_per_second': 363.939, 'eval_steps_per_second': 2.875, 'epoch': 21.0}\n"
     ]
    },
    {
     "name": "stderr",
     "output_type": "stream",
     "text": [
      " 21%|██▏       | 850/4000 [22:31<1:05:38,  1.25s/it]"
     ]
    },
    {
     "name": "stdout",
     "output_type": "stream",
     "text": [
      "{'loss': 2.7823, 'grad_norm': 17.533050537109375, 'learning_rate': 1.575e-05, 'epoch': 21.25}\n"
     ]
    },
    {
     "name": "stderr",
     "output_type": "stream",
     "text": [
      " 22%|██▏       | 860/4000 [22:41<48:15,  1.08it/s]  "
     ]
    },
    {
     "name": "stdout",
     "output_type": "stream",
     "text": [
      "{'loss': 2.7798, 'grad_norm': 19.399208068847656, 'learning_rate': 1.5700000000000002e-05, 'epoch': 21.5}\n"
     ]
    },
    {
     "name": "stderr",
     "output_type": "stream",
     "text": [
      " 22%|██▏       | 870/4000 [22:50<47:19,  1.10it/s]"
     ]
    },
    {
     "name": "stdout",
     "output_type": "stream",
     "text": [
      "{'loss': 2.7767, 'grad_norm': 19.238943099975586, 'learning_rate': 1.565e-05, 'epoch': 21.75}\n"
     ]
    },
    {
     "name": "stderr",
     "output_type": "stream",
     "text": [
      " 22%|██▏       | 880/4000 [22:58<34:32,  1.51it/s]"
     ]
    },
    {
     "name": "stdout",
     "output_type": "stream",
     "text": [
      "{'loss': 2.888, 'grad_norm': 66.15829467773438, 'learning_rate': 1.5600000000000003e-05, 'epoch': 22.0}\n"
     ]
    },
    {
     "name": "stderr",
     "output_type": "stream",
     "text": [
      "\n",
      "  0%|          | 0/79 [00:00<?, ?it/s]\u001b[A\n",
      "  3%|▎         | 2/79 [00:00<00:13,  5.83it/s]\u001b[A\n",
      "  4%|▍         | 3/79 [00:00<00:19,  3.99it/s]\u001b[A\n",
      "  5%|▌         | 4/79 [00:01<00:21,  3.49it/s]\u001b[A\n",
      "  6%|▋         | 5/79 [00:01<00:22,  3.26it/s]\u001b[A\n",
      "  8%|▊         | 6/79 [00:01<00:23,  3.10it/s]\u001b[A\n",
      "  9%|▉         | 7/79 [00:02<00:23,  3.01it/s]\u001b[A\n",
      " 10%|█         | 8/79 [00:02<00:24,  2.95it/s]\u001b[A\n",
      " 11%|█▏        | 9/79 [00:02<00:24,  2.92it/s]\u001b[A\n",
      " 13%|█▎        | 10/79 [00:03<00:23,  2.89it/s]\u001b[A\n",
      " 14%|█▍        | 11/79 [00:03<00:23,  2.87it/s]\u001b[A\n",
      " 15%|█▌        | 12/79 [00:03<00:23,  2.85it/s]\u001b[A\n",
      " 16%|█▋        | 13/79 [00:04<00:23,  2.84it/s]\u001b[A\n",
      " 18%|█▊        | 14/79 [00:04<00:22,  2.84it/s]\u001b[A\n",
      " 19%|█▉        | 15/79 [00:04<00:22,  2.84it/s]\u001b[A\n",
      " 20%|██        | 16/79 [00:05<00:22,  2.83it/s]\u001b[A\n",
      " 22%|██▏       | 17/79 [00:05<00:21,  2.82it/s]\u001b[A\n",
      " 23%|██▎       | 18/79 [00:05<00:21,  2.83it/s]\u001b[A\n",
      " 24%|██▍       | 19/79 [00:06<00:21,  2.83it/s]\u001b[A\n",
      " 25%|██▌       | 20/79 [00:06<00:20,  2.83it/s]\u001b[A\n",
      " 27%|██▋       | 21/79 [00:07<00:20,  2.83it/s]\u001b[A\n",
      " 28%|██▊       | 22/79 [00:07<00:20,  2.83it/s]\u001b[A\n",
      " 29%|██▉       | 23/79 [00:07<00:19,  2.83it/s]\u001b[A\n",
      " 30%|███       | 24/79 [00:08<00:19,  2.84it/s]\u001b[A\n",
      " 32%|███▏      | 25/79 [00:08<00:19,  2.83it/s]\u001b[A\n",
      " 33%|███▎      | 26/79 [00:08<00:18,  2.83it/s]\u001b[A\n",
      " 34%|███▍      | 27/79 [00:09<00:18,  2.84it/s]\u001b[A\n",
      " 35%|███▌      | 28/79 [00:09<00:18,  2.83it/s]\u001b[A\n",
      " 37%|███▋      | 29/79 [00:09<00:17,  2.84it/s]\u001b[A\n",
      " 38%|███▊      | 30/79 [00:10<00:17,  2.82it/s]\u001b[A\n",
      " 39%|███▉      | 31/79 [00:10<00:16,  2.83it/s]\u001b[A\n",
      " 41%|████      | 32/79 [00:10<00:16,  2.82it/s]\u001b[A\n",
      " 42%|████▏     | 33/79 [00:11<00:16,  2.82it/s]\u001b[A\n",
      " 43%|████▎     | 34/79 [00:11<00:15,  2.82it/s]\u001b[A\n",
      " 44%|████▍     | 35/79 [00:12<00:15,  2.81it/s]\u001b[A\n",
      " 46%|████▌     | 36/79 [00:12<00:15,  2.81it/s]\u001b[A\n",
      " 47%|████▋     | 37/79 [00:12<00:14,  2.83it/s]\u001b[A\n",
      " 48%|████▊     | 38/79 [00:13<00:14,  2.83it/s]\u001b[A\n",
      " 49%|████▉     | 39/79 [00:13<00:14,  2.82it/s]\u001b[A\n",
      " 51%|█████     | 40/79 [00:13<00:13,  2.82it/s]\u001b[A\n",
      " 52%|█████▏    | 41/79 [00:14<00:13,  2.82it/s]\u001b[A\n",
      " 53%|█████▎    | 42/79 [00:14<00:13,  2.83it/s]\u001b[A\n",
      " 54%|█████▍    | 43/79 [00:14<00:12,  2.82it/s]\u001b[A\n",
      " 56%|█████▌    | 44/79 [00:15<00:12,  2.82it/s]\u001b[A\n",
      " 57%|█████▋    | 45/79 [00:15<00:12,  2.82it/s]\u001b[A\n",
      " 58%|█████▊    | 46/79 [00:15<00:11,  2.83it/s]\u001b[A\n",
      " 59%|█████▉    | 47/79 [00:16<00:11,  2.82it/s]\u001b[A\n",
      " 61%|██████    | 48/79 [00:16<00:10,  2.82it/s]\u001b[A\n",
      " 62%|██████▏   | 49/79 [00:16<00:10,  2.82it/s]\u001b[A\n",
      " 63%|██████▎   | 50/79 [00:17<00:10,  2.83it/s]\u001b[A\n",
      " 65%|██████▍   | 51/79 [00:17<00:09,  2.82it/s]\u001b[A\n",
      " 66%|██████▌   | 52/79 [00:18<00:09,  2.83it/s]\u001b[A\n",
      " 67%|██████▋   | 53/79 [00:18<00:09,  2.83it/s]\u001b[A\n",
      " 68%|██████▊   | 54/79 [00:18<00:08,  2.82it/s]\u001b[A\n",
      " 70%|██████▉   | 55/79 [00:19<00:08,  2.82it/s]\u001b[A\n",
      " 71%|███████   | 56/79 [00:19<00:08,  2.82it/s]\u001b[A\n",
      " 72%|███████▏  | 57/79 [00:19<00:07,  2.83it/s]\u001b[A\n",
      " 73%|███████▎  | 58/79 [00:20<00:07,  2.82it/s]\u001b[A\n",
      " 75%|███████▍  | 59/79 [00:20<00:07,  2.82it/s]\u001b[A\n",
      " 76%|███████▌  | 60/79 [00:20<00:06,  2.83it/s]\u001b[A\n",
      " 77%|███████▋  | 61/79 [00:21<00:06,  2.83it/s]\u001b[A\n",
      " 78%|███████▊  | 62/79 [00:21<00:06,  2.82it/s]\u001b[A\n",
      " 80%|███████▉  | 63/79 [00:21<00:05,  2.83it/s]\u001b[A\n",
      " 81%|████████  | 64/79 [00:22<00:05,  2.83it/s]\u001b[A\n",
      " 82%|████████▏ | 65/79 [00:22<00:04,  2.82it/s]\u001b[A\n",
      " 84%|████████▎ | 66/79 [00:22<00:04,  2.82it/s]\u001b[A\n",
      " 85%|████████▍ | 67/79 [00:23<00:04,  2.82it/s]\u001b[A\n",
      " 86%|████████▌ | 68/79 [00:23<00:03,  2.83it/s]\u001b[A\n",
      " 87%|████████▋ | 69/79 [00:24<00:03,  2.82it/s]\u001b[A\n",
      " 89%|████████▊ | 70/79 [00:24<00:03,  2.82it/s]\u001b[A\n",
      " 90%|████████▉ | 71/79 [00:24<00:02,  2.82it/s]\u001b[A\n",
      " 91%|█████████ | 72/79 [00:25<00:02,  2.82it/s]\u001b[A\n",
      " 92%|█████████▏| 73/79 [00:25<00:02,  2.83it/s]\u001b[A\n",
      " 94%|█████████▎| 74/79 [00:25<00:01,  2.83it/s]\u001b[A\n",
      " 95%|█████████▍| 75/79 [00:26<00:01,  2.83it/s]\u001b[A\n",
      " 96%|█████████▌| 76/79 [00:26<00:01,  2.83it/s]\u001b[A\n",
      " 97%|█████████▋| 77/79 [00:26<00:00,  2.84it/s]\u001b[A\n",
      "                                                  \n",
      " 22%|██▏       | 880/4000 [23:26<34:32,  1.51it/s]\n",
      "100%|██████████| 79/79 [00:27<00:00,  2.90it/s]\u001b[A\n",
      "                                               \u001b[A"
     ]
    },
    {
     "name": "stdout",
     "output_type": "stream",
     "text": [
      "{'eval_loss': 3.5485117435455322, 'eval_accuracy': 0.1767, 'eval_runtime': 27.6857, 'eval_samples_per_second': 361.197, 'eval_steps_per_second': 2.853, 'epoch': 22.0}\n"
     ]
    },
    {
     "name": "stderr",
     "output_type": "stream",
     "text": [
      " 22%|██▏       | 890/4000 [23:36<1:04:37,  1.25s/it]"
     ]
    },
    {
     "name": "stdout",
     "output_type": "stream",
     "text": [
      "{'loss': 2.7027, 'grad_norm': 18.332172393798828, 'learning_rate': 1.5550000000000002e-05, 'epoch': 22.25}\n"
     ]
    },
    {
     "name": "stderr",
     "output_type": "stream",
     "text": [
      " 22%|██▎       | 900/4000 [23:45<47:34,  1.09it/s]  "
     ]
    },
    {
     "name": "stdout",
     "output_type": "stream",
     "text": [
      "{'loss': 2.7019, 'grad_norm': 17.634784698486328, 'learning_rate': 1.55e-05, 'epoch': 22.5}\n"
     ]
    },
    {
     "name": "stderr",
     "output_type": "stream",
     "text": [
      " 23%|██▎       | 910/4000 [23:54<46:57,  1.10it/s]"
     ]
    },
    {
     "name": "stdout",
     "output_type": "stream",
     "text": [
      "{'loss': 2.7564, 'grad_norm': 17.6267032623291, 'learning_rate': 1.545e-05, 'epoch': 22.75}\n"
     ]
    },
    {
     "name": "stderr",
     "output_type": "stream",
     "text": [
      " 23%|██▎       | 920/4000 [24:02<34:09,  1.50it/s]"
     ]
    },
    {
     "name": "stdout",
     "output_type": "stream",
     "text": [
      "{'loss': 2.7455, 'grad_norm': 73.1102066040039, 'learning_rate': 1.54e-05, 'epoch': 23.0}\n"
     ]
    },
    {
     "name": "stderr",
     "output_type": "stream",
     "text": [
      "\n",
      "  0%|          | 0/79 [00:00<?, ?it/s]\u001b[A\n",
      "  3%|▎         | 2/79 [00:00<00:13,  5.84it/s]\u001b[A\n",
      "  4%|▍         | 3/79 [00:00<00:19,  3.99it/s]\u001b[A\n",
      "  5%|▌         | 4/79 [00:01<00:21,  3.48it/s]\u001b[A\n",
      "  6%|▋         | 5/79 [00:01<00:22,  3.25it/s]\u001b[A\n",
      "  8%|▊         | 6/79 [00:01<00:23,  3.11it/s]\u001b[A\n",
      "  9%|▉         | 7/79 [00:02<00:23,  3.03it/s]\u001b[A\n",
      " 10%|█         | 8/79 [00:02<00:23,  2.97it/s]\u001b[A\n",
      " 11%|█▏        | 9/79 [00:02<00:23,  2.94it/s]\u001b[A\n",
      " 13%|█▎        | 10/79 [00:03<00:23,  2.92it/s]\u001b[A\n",
      " 14%|█▍        | 11/79 [00:03<00:23,  2.90it/s]\u001b[A\n",
      " 15%|█▌        | 12/79 [00:03<00:23,  2.88it/s]\u001b[A\n",
      " 16%|█▋        | 13/79 [00:04<00:22,  2.87it/s]\u001b[A\n",
      " 18%|█▊        | 14/79 [00:04<00:22,  2.87it/s]\u001b[A\n",
      " 19%|█▉        | 15/79 [00:04<00:22,  2.86it/s]\u001b[A\n",
      " 20%|██        | 16/79 [00:05<00:22,  2.86it/s]\u001b[A\n",
      " 22%|██▏       | 17/79 [00:05<00:21,  2.86it/s]\u001b[A\n",
      " 23%|██▎       | 18/79 [00:05<00:21,  2.87it/s]\u001b[A\n",
      " 24%|██▍       | 19/79 [00:06<00:20,  2.86it/s]\u001b[A\n",
      " 25%|██▌       | 20/79 [00:06<00:20,  2.86it/s]\u001b[A\n",
      " 27%|██▋       | 21/79 [00:06<00:20,  2.86it/s]\u001b[A\n",
      " 28%|██▊       | 22/79 [00:07<00:19,  2.86it/s]\u001b[A\n",
      " 29%|██▉       | 23/79 [00:07<00:19,  2.85it/s]\u001b[A\n",
      " 30%|███       | 24/79 [00:08<00:19,  2.86it/s]\u001b[A\n",
      " 32%|███▏      | 25/79 [00:08<00:18,  2.86it/s]\u001b[A\n",
      " 33%|███▎      | 26/79 [00:08<00:18,  2.85it/s]\u001b[A\n",
      " 34%|███▍      | 27/79 [00:09<00:18,  2.86it/s]\u001b[A\n",
      " 35%|███▌      | 28/79 [00:09<00:17,  2.86it/s]\u001b[A\n",
      " 37%|███▋      | 29/79 [00:09<00:17,  2.84it/s]\u001b[A\n",
      " 38%|███▊      | 30/79 [00:10<00:17,  2.84it/s]\u001b[A\n",
      " 39%|███▉      | 31/79 [00:10<00:16,  2.84it/s]\u001b[A\n",
      " 41%|████      | 32/79 [00:10<00:16,  2.85it/s]\u001b[A\n",
      " 42%|████▏     | 33/79 [00:11<00:16,  2.85it/s]\u001b[A\n",
      " 43%|████▎     | 34/79 [00:11<00:15,  2.85it/s]\u001b[A\n",
      " 44%|████▍     | 35/79 [00:11<00:15,  2.85it/s]\u001b[A\n",
      " 46%|████▌     | 36/79 [00:12<00:15,  2.85it/s]\u001b[A\n",
      " 47%|████▋     | 37/79 [00:12<00:14,  2.84it/s]\u001b[A\n",
      " 48%|████▊     | 38/79 [00:12<00:14,  2.84it/s]\u001b[A\n",
      " 49%|████▉     | 39/79 [00:13<00:14,  2.84it/s]\u001b[A\n",
      " 51%|█████     | 40/79 [00:13<00:13,  2.84it/s]\u001b[A\n",
      " 52%|█████▏    | 41/79 [00:14<00:13,  2.84it/s]\u001b[A\n",
      " 53%|█████▎    | 42/79 [00:14<00:13,  2.84it/s]\u001b[A\n",
      " 54%|█████▍    | 43/79 [00:14<00:12,  2.84it/s]\u001b[A\n",
      " 56%|█████▌    | 44/79 [00:15<00:12,  2.85it/s]\u001b[A\n",
      " 57%|█████▋    | 45/79 [00:15<00:11,  2.84it/s]\u001b[A\n",
      " 58%|█████▊    | 46/79 [00:15<00:11,  2.85it/s]\u001b[A\n",
      " 59%|█████▉    | 47/79 [00:16<00:11,  2.85it/s]\u001b[A\n",
      " 61%|██████    | 48/79 [00:16<00:10,  2.84it/s]\u001b[A\n",
      " 62%|██████▏   | 49/79 [00:16<00:10,  2.85it/s]\u001b[A\n",
      " 63%|██████▎   | 50/79 [00:17<00:10,  2.84it/s]\u001b[A\n",
      " 65%|██████▍   | 51/79 [00:17<00:09,  2.85it/s]\u001b[A\n",
      " 66%|██████▌   | 52/79 [00:17<00:09,  2.84it/s]\u001b[A\n",
      " 67%|██████▋   | 53/79 [00:18<00:09,  2.84it/s]\u001b[A\n",
      " 68%|██████▊   | 54/79 [00:18<00:08,  2.84it/s]\u001b[A\n",
      " 70%|██████▉   | 55/79 [00:18<00:08,  2.84it/s]\u001b[A\n",
      " 71%|███████   | 56/79 [00:19<00:08,  2.83it/s]\u001b[A\n",
      " 72%|███████▏  | 57/79 [00:19<00:07,  2.82it/s]\u001b[A\n",
      " 73%|███████▎  | 58/79 [00:20<00:07,  2.83it/s]\u001b[A\n",
      " 75%|███████▍  | 59/79 [00:20<00:07,  2.83it/s]\u001b[A\n",
      " 76%|███████▌  | 60/79 [00:20<00:06,  2.83it/s]\u001b[A\n",
      " 77%|███████▋  | 61/79 [00:21<00:06,  2.84it/s]\u001b[A\n",
      " 78%|███████▊  | 62/79 [00:21<00:06,  2.83it/s]\u001b[A\n",
      " 80%|███████▉  | 63/79 [00:21<00:05,  2.83it/s]\u001b[A\n",
      " 81%|████████  | 64/79 [00:22<00:05,  2.84it/s]\u001b[A\n",
      " 82%|████████▏ | 65/79 [00:22<00:04,  2.84it/s]\u001b[A\n",
      " 84%|████████▎ | 66/79 [00:22<00:04,  2.83it/s]\u001b[A\n",
      " 85%|████████▍ | 67/79 [00:23<00:04,  2.84it/s]\u001b[A\n",
      " 86%|████████▌ | 68/79 [00:23<00:03,  2.84it/s]\u001b[A\n",
      " 87%|████████▋ | 69/79 [00:23<00:03,  2.84it/s]\u001b[A\n",
      " 89%|████████▊ | 70/79 [00:24<00:03,  2.85it/s]\u001b[A\n",
      " 90%|████████▉ | 71/79 [00:24<00:02,  2.85it/s]\u001b[A\n",
      " 91%|█████████ | 72/79 [00:24<00:02,  2.84it/s]\u001b[A\n",
      " 92%|█████████▏| 73/79 [00:25<00:02,  2.84it/s]\u001b[A\n",
      " 94%|█████████▎| 74/79 [00:25<00:01,  2.83it/s]\u001b[A\n",
      " 95%|█████████▍| 75/79 [00:26<00:01,  2.83it/s]\u001b[A\n",
      " 96%|█████████▌| 76/79 [00:26<00:01,  2.83it/s]\u001b[A\n",
      " 97%|█████████▋| 77/79 [00:26<00:00,  2.83it/s]\u001b[A\n",
      "                                                  \n",
      " 23%|██▎       | 920/4000 [24:30<34:09,  1.50it/s]\n",
      "100%|██████████| 79/79 [00:27<00:00,  2.88it/s]\u001b[A\n",
      "                                               \u001b[A"
     ]
    },
    {
     "name": "stdout",
     "output_type": "stream",
     "text": [
      "{'eval_loss': 3.5456769466400146, 'eval_accuracy': 0.1795, 'eval_runtime': 27.5309, 'eval_samples_per_second': 363.228, 'eval_steps_per_second': 2.87, 'epoch': 23.0}\n"
     ]
    },
    {
     "name": "stderr",
     "output_type": "stream",
     "text": [
      " 23%|██▎       | 930/4000 [24:40<1:03:57,  1.25s/it]"
     ]
    },
    {
     "name": "stdout",
     "output_type": "stream",
     "text": [
      "{'loss': 2.6482, 'grad_norm': 20.873050689697266, 'learning_rate': 1.535e-05, 'epoch': 23.25}\n"
     ]
    },
    {
     "name": "stderr",
     "output_type": "stream",
     "text": [
      " 24%|██▎       | 940/4000 [24:49<46:53,  1.09it/s]  "
     ]
    },
    {
     "name": "stdout",
     "output_type": "stream",
     "text": [
      "{'loss': 2.6437, 'grad_norm': 18.551218032836914, 'learning_rate': 1.5300000000000003e-05, 'epoch': 23.5}\n"
     ]
    },
    {
     "name": "stderr",
     "output_type": "stream",
     "text": [
      " 24%|██▍       | 950/4000 [24:58<46:14,  1.10it/s]"
     ]
    },
    {
     "name": "stdout",
     "output_type": "stream",
     "text": [
      "{'loss': 2.6499, 'grad_norm': 17.778263092041016, 'learning_rate': 1.525e-05, 'epoch': 23.75}\n"
     ]
    },
    {
     "name": "stderr",
     "output_type": "stream",
     "text": [
      " 24%|██▍       | 960/4000 [25:06<33:51,  1.50it/s]"
     ]
    },
    {
     "name": "stdout",
     "output_type": "stream",
     "text": [
      "{'loss': 2.7484, 'grad_norm': 63.60084915161133, 'learning_rate': 1.5200000000000002e-05, 'epoch': 24.0}\n"
     ]
    },
    {
     "name": "stderr",
     "output_type": "stream",
     "text": [
      "\n",
      "  0%|          | 0/79 [00:00<?, ?it/s]\u001b[A\n",
      "  3%|▎         | 2/79 [00:00<00:13,  5.79it/s]\u001b[A\n",
      "  4%|▍         | 3/79 [00:00<00:19,  3.97it/s]\u001b[A\n",
      "  5%|▌         | 4/79 [00:01<00:21,  3.48it/s]\u001b[A\n",
      "  6%|▋         | 5/79 [00:01<00:22,  3.23it/s]\u001b[A\n",
      "  8%|▊         | 6/79 [00:01<00:23,  3.07it/s]\u001b[A\n",
      "  9%|▉         | 7/79 [00:02<00:24,  2.99it/s]\u001b[A\n",
      " 10%|█         | 8/79 [00:02<00:24,  2.94it/s]\u001b[A\n",
      " 11%|█▏        | 9/79 [00:02<00:24,  2.90it/s]\u001b[A\n",
      " 13%|█▎        | 10/79 [00:03<00:24,  2.87it/s]\u001b[A\n",
      " 14%|█▍        | 11/79 [00:03<00:23,  2.85it/s]\u001b[A\n",
      " 15%|█▌        | 12/79 [00:03<00:23,  2.86it/s]\u001b[A\n",
      " 16%|█▋        | 13/79 [00:04<00:23,  2.84it/s]\u001b[A\n",
      " 18%|█▊        | 14/79 [00:04<00:22,  2.84it/s]\u001b[A\n",
      " 19%|█▉        | 15/79 [00:04<00:22,  2.83it/s]\u001b[A\n",
      " 20%|██        | 16/79 [00:05<00:22,  2.83it/s]\u001b[A\n",
      " 22%|██▏       | 17/79 [00:05<00:21,  2.83it/s]\u001b[A\n",
      " 23%|██▎       | 18/79 [00:06<00:21,  2.83it/s]\u001b[A\n",
      " 24%|██▍       | 19/79 [00:06<00:21,  2.82it/s]\u001b[A\n",
      " 25%|██▌       | 20/79 [00:06<00:20,  2.83it/s]\u001b[A\n",
      " 27%|██▋       | 21/79 [00:07<00:20,  2.84it/s]\u001b[A\n",
      " 28%|██▊       | 22/79 [00:07<00:20,  2.84it/s]\u001b[A\n",
      " 29%|██▉       | 23/79 [00:07<00:19,  2.84it/s]\u001b[A\n",
      " 30%|███       | 24/79 [00:08<00:19,  2.84it/s]\u001b[A\n",
      " 32%|███▏      | 25/79 [00:08<00:19,  2.84it/s]\u001b[A\n",
      " 33%|███▎      | 26/79 [00:08<00:18,  2.85it/s]\u001b[A\n",
      " 34%|███▍      | 27/79 [00:09<00:18,  2.85it/s]\u001b[A\n",
      " 35%|███▌      | 28/79 [00:09<00:17,  2.85it/s]\u001b[A\n",
      " 37%|███▋      | 29/79 [00:09<00:17,  2.85it/s]\u001b[A\n",
      " 38%|███▊      | 30/79 [00:10<00:17,  2.86it/s]\u001b[A\n",
      " 39%|███▉      | 31/79 [00:10<00:16,  2.87it/s]\u001b[A\n",
      " 41%|████      | 32/79 [00:10<00:16,  2.86it/s]\u001b[A\n",
      " 42%|████▏     | 33/79 [00:11<00:16,  2.86it/s]\u001b[A\n",
      " 43%|████▎     | 34/79 [00:11<00:15,  2.87it/s]\u001b[A\n",
      " 44%|████▍     | 35/79 [00:11<00:15,  2.88it/s]\u001b[A\n",
      " 46%|████▌     | 36/79 [00:12<00:14,  2.87it/s]\u001b[A\n",
      " 47%|████▋     | 37/79 [00:12<00:14,  2.87it/s]\u001b[A\n",
      " 48%|████▊     | 38/79 [00:13<00:14,  2.87it/s]\u001b[A\n",
      " 49%|████▉     | 39/79 [00:13<00:13,  2.87it/s]\u001b[A\n",
      " 51%|█████     | 40/79 [00:13<00:13,  2.88it/s]\u001b[A\n",
      " 52%|█████▏    | 41/79 [00:14<00:13,  2.89it/s]\u001b[A\n",
      " 53%|█████▎    | 42/79 [00:14<00:12,  2.89it/s]\u001b[A\n",
      " 54%|█████▍    | 43/79 [00:14<00:12,  2.89it/s]\u001b[A\n",
      " 56%|█████▌    | 44/79 [00:15<00:12,  2.87it/s]\u001b[A\n",
      " 57%|█████▋    | 45/79 [00:15<00:11,  2.87it/s]\u001b[A\n",
      " 58%|█████▊    | 46/79 [00:15<00:11,  2.87it/s]\u001b[A\n",
      " 59%|█████▉    | 47/79 [00:16<00:11,  2.88it/s]\u001b[A\n",
      " 61%|██████    | 48/79 [00:16<00:10,  2.87it/s]\u001b[A\n",
      " 62%|██████▏   | 49/79 [00:16<00:10,  2.86it/s]\u001b[A\n",
      " 63%|██████▎   | 50/79 [00:17<00:10,  2.86it/s]\u001b[A\n",
      " 65%|██████▍   | 51/79 [00:17<00:09,  2.88it/s]\u001b[A\n",
      " 66%|██████▌   | 52/79 [00:17<00:09,  2.87it/s]\u001b[A\n",
      " 67%|██████▋   | 53/79 [00:18<00:09,  2.86it/s]\u001b[A\n",
      " 68%|██████▊   | 54/79 [00:18<00:08,  2.85it/s]\u001b[A\n",
      " 70%|██████▉   | 55/79 [00:18<00:08,  2.85it/s]\u001b[A\n",
      " 71%|███████   | 56/79 [00:19<00:08,  2.85it/s]\u001b[A\n",
      " 72%|███████▏  | 57/79 [00:19<00:07,  2.85it/s]\u001b[A\n",
      " 73%|███████▎  | 58/79 [00:19<00:07,  2.86it/s]\u001b[A\n",
      " 75%|███████▍  | 59/79 [00:20<00:06,  2.86it/s]\u001b[A\n",
      " 76%|███████▌  | 60/79 [00:20<00:06,  2.85it/s]\u001b[A\n",
      " 77%|███████▋  | 61/79 [00:21<00:06,  2.86it/s]\u001b[A\n",
      " 78%|███████▊  | 62/79 [00:21<00:05,  2.85it/s]\u001b[A\n",
      " 80%|███████▉  | 63/79 [00:21<00:05,  2.85it/s]\u001b[A\n",
      " 81%|████████  | 64/79 [00:22<00:05,  2.83it/s]\u001b[A\n",
      " 82%|████████▏ | 65/79 [00:22<00:04,  2.85it/s]\u001b[A\n",
      " 84%|████████▎ | 66/79 [00:22<00:04,  2.85it/s]\u001b[A\n",
      " 85%|████████▍ | 67/79 [00:23<00:04,  2.84it/s]\u001b[A\n",
      " 86%|████████▌ | 68/79 [00:23<00:03,  2.85it/s]\u001b[A\n",
      " 87%|████████▋ | 69/79 [00:23<00:03,  2.86it/s]\u001b[A\n",
      " 89%|████████▊ | 70/79 [00:24<00:03,  2.87it/s]\u001b[A\n",
      " 90%|████████▉ | 71/79 [00:24<00:02,  2.86it/s]\u001b[A\n",
      " 91%|█████████ | 72/79 [00:24<00:02,  2.85it/s]\u001b[A\n",
      " 92%|█████████▏| 73/79 [00:25<00:02,  2.86it/s]\u001b[A\n",
      " 94%|█████████▎| 74/79 [00:25<00:01,  2.86it/s]\u001b[A\n",
      " 95%|█████████▍| 75/79 [00:25<00:01,  2.85it/s]\u001b[A\n",
      " 96%|█████████▌| 76/79 [00:26<00:01,  2.85it/s]\u001b[A\n",
      " 97%|█████████▋| 77/79 [00:26<00:00,  2.85it/s]\u001b[A\n",
      "                                                  \n",
      " 24%|██▍       | 960/4000 [25:34<33:51,  1.50it/s]\n",
      "100%|██████████| 79/79 [00:27<00:00,  2.90it/s]\u001b[A\n",
      "                                               \u001b[A"
     ]
    },
    {
     "name": "stdout",
     "output_type": "stream",
     "text": [
      "{'eval_loss': 3.531059741973877, 'eval_accuracy': 0.1812, 'eval_runtime': 27.4605, 'eval_samples_per_second': 364.16, 'eval_steps_per_second': 2.877, 'epoch': 24.0}\n"
     ]
    },
    {
     "name": "stderr",
     "output_type": "stream",
     "text": [
      " 24%|██▍       | 970/4000 [25:44<1:02:52,  1.25s/it]"
     ]
    },
    {
     "name": "stdout",
     "output_type": "stream",
     "text": [
      "{'loss': 2.5552, 'grad_norm': 22.04984474182129, 'learning_rate': 1.515e-05, 'epoch': 24.25}\n"
     ]
    },
    {
     "name": "stderr",
     "output_type": "stream",
     "text": [
      " 24%|██▍       | 980/4000 [25:53<46:21,  1.09it/s]  "
     ]
    },
    {
     "name": "stdout",
     "output_type": "stream",
     "text": [
      "{'loss': 2.6433, 'grad_norm': 21.411285400390625, 'learning_rate': 1.5100000000000001e-05, 'epoch': 24.5}\n"
     ]
    },
    {
     "name": "stderr",
     "output_type": "stream",
     "text": [
      " 25%|██▍       | 990/4000 [26:02<45:28,  1.10it/s]"
     ]
    },
    {
     "name": "stdout",
     "output_type": "stream",
     "text": [
      "{'loss': 2.6288, 'grad_norm': 20.780954360961914, 'learning_rate': 1.505e-05, 'epoch': 24.75}\n"
     ]
    },
    {
     "name": "stderr",
     "output_type": "stream",
     "text": [
      " 25%|██▌       | 1000/4000 [26:10<33:05,  1.51it/s]"
     ]
    },
    {
     "name": "stdout",
     "output_type": "stream",
     "text": [
      "{'loss': 2.5983, 'grad_norm': 65.99437713623047, 'learning_rate': 1.5000000000000002e-05, 'epoch': 25.0}\n"
     ]
    },
    {
     "name": "stderr",
     "output_type": "stream",
     "text": [
      "\n",
      "  0%|          | 0/79 [00:00<?, ?it/s]\u001b[A\n",
      "  3%|▎         | 2/79 [00:00<00:13,  5.83it/s]\u001b[A\n",
      "  4%|▍         | 3/79 [00:00<00:19,  4.00it/s]\u001b[A\n",
      "  5%|▌         | 4/79 [00:01<00:21,  3.48it/s]\u001b[A\n",
      "  6%|▋         | 5/79 [00:01<00:22,  3.25it/s]\u001b[A\n",
      "  8%|▊         | 6/79 [00:01<00:23,  3.10it/s]\u001b[A\n",
      "  9%|▉         | 7/79 [00:02<00:23,  3.01it/s]\u001b[A\n",
      " 10%|█         | 8/79 [00:02<00:23,  2.96it/s]\u001b[A\n",
      " 11%|█▏        | 9/79 [00:02<00:23,  2.93it/s]\u001b[A\n",
      " 13%|█▎        | 10/79 [00:03<00:23,  2.91it/s]\u001b[A\n",
      " 14%|█▍        | 11/79 [00:03<00:23,  2.89it/s]\u001b[A\n",
      " 15%|█▌        | 12/79 [00:03<00:23,  2.88it/s]\u001b[A\n",
      " 16%|█▋        | 13/79 [00:04<00:22,  2.87it/s]\u001b[A\n",
      " 18%|█▊        | 14/79 [00:04<00:22,  2.86it/s]\u001b[A\n",
      " 19%|█▉        | 15/79 [00:04<00:22,  2.86it/s]\u001b[A\n",
      " 20%|██        | 16/79 [00:05<00:22,  2.86it/s]\u001b[A\n",
      " 22%|██▏       | 17/79 [00:05<00:21,  2.85it/s]\u001b[A\n",
      " 23%|██▎       | 18/79 [00:05<00:21,  2.85it/s]\u001b[A\n",
      " 24%|██▍       | 19/79 [00:06<00:21,  2.84it/s]\u001b[A\n",
      " 25%|██▌       | 20/79 [00:06<00:20,  2.85it/s]\u001b[A\n",
      " 28%|██▊       | 22/79 [00:07<00:20,  2.84it/s]\u001b[A\n",
      " 29%|██▉       | 23/79 [00:07<00:19,  2.84it/s]\u001b[A\n",
      " 30%|███       | 24/79 [00:08<00:19,  2.84it/s]\u001b[A\n",
      " 32%|███▏      | 25/79 [00:08<00:19,  2.83it/s]\u001b[A\n",
      " 33%|███▎      | 26/79 [00:08<00:18,  2.83it/s]\u001b[A\n",
      " 34%|███▍      | 27/79 [00:09<00:18,  2.83it/s]\u001b[A\n",
      " 35%|███▌      | 28/79 [00:09<00:17,  2.83it/s]\u001b[A\n",
      " 37%|███▋      | 29/79 [00:09<00:17,  2.84it/s]\u001b[A\n",
      " 38%|███▊      | 30/79 [00:10<00:17,  2.84it/s]\u001b[A\n",
      " 39%|███▉      | 31/79 [00:10<00:16,  2.84it/s]\u001b[A\n",
      " 41%|████      | 32/79 [00:10<00:16,  2.85it/s]\u001b[A\n",
      " 42%|████▏     | 33/79 [00:11<00:16,  2.85it/s]\u001b[A\n",
      " 43%|████▎     | 34/79 [00:11<00:15,  2.85it/s]\u001b[A\n",
      " 44%|████▍     | 35/79 [00:11<00:15,  2.85it/s]\u001b[A\n",
      " 46%|████▌     | 36/79 [00:12<00:15,  2.85it/s]\u001b[A\n",
      " 47%|████▋     | 37/79 [00:12<00:14,  2.85it/s]\u001b[A\n",
      " 48%|████▊     | 38/79 [00:13<00:14,  2.85it/s]\u001b[A\n",
      " 49%|████▉     | 39/79 [00:13<00:14,  2.84it/s]\u001b[A\n",
      " 51%|█████     | 40/79 [00:13<00:13,  2.85it/s]\u001b[A\n",
      " 52%|█████▏    | 41/79 [00:14<00:13,  2.84it/s]\u001b[A\n",
      " 53%|█████▎    | 42/79 [00:14<00:13,  2.84it/s]\u001b[A\n",
      " 54%|█████▍    | 43/79 [00:14<00:12,  2.84it/s]\u001b[A\n",
      " 56%|█████▌    | 44/79 [00:15<00:12,  2.83it/s]\u001b[A\n",
      " 57%|█████▋    | 45/79 [00:15<00:11,  2.83it/s]\u001b[A\n",
      " 58%|█████▊    | 46/79 [00:15<00:11,  2.83it/s]\u001b[A\n",
      " 59%|█████▉    | 47/79 [00:16<00:11,  2.84it/s]\u001b[A\n",
      " 61%|██████    | 48/79 [00:16<00:10,  2.83it/s]\u001b[A\n",
      " 62%|██████▏   | 49/79 [00:16<00:10,  2.84it/s]\u001b[A\n",
      " 63%|██████▎   | 50/79 [00:17<00:10,  2.84it/s]\u001b[A\n",
      " 65%|██████▍   | 51/79 [00:17<00:09,  2.83it/s]\u001b[A\n",
      " 66%|██████▌   | 52/79 [00:17<00:09,  2.83it/s]\u001b[A\n",
      " 67%|██████▋   | 53/79 [00:18<00:09,  2.83it/s]\u001b[A\n",
      " 68%|██████▊   | 54/79 [00:18<00:08,  2.82it/s]\u001b[A\n",
      " 70%|██████▉   | 55/79 [00:19<00:08,  2.82it/s]\u001b[A\n",
      " 71%|███████   | 56/79 [00:19<00:08,  2.82it/s]\u001b[A\n",
      " 72%|███████▏  | 57/79 [00:19<00:07,  2.82it/s]\u001b[A\n",
      " 73%|███████▎  | 58/79 [00:20<00:07,  2.83it/s]\u001b[A\n",
      " 75%|███████▍  | 59/79 [00:20<00:07,  2.83it/s]\u001b[A\n",
      " 76%|███████▌  | 60/79 [00:20<00:06,  2.84it/s]\u001b[A\n",
      " 77%|███████▋  | 61/79 [00:21<00:06,  2.84it/s]\u001b[A\n",
      " 78%|███████▊  | 62/79 [00:21<00:05,  2.83it/s]\u001b[A\n",
      " 80%|███████▉  | 63/79 [00:21<00:05,  2.83it/s]\u001b[A\n",
      " 81%|████████  | 64/79 [00:22<00:05,  2.83it/s]\u001b[A\n",
      " 82%|████████▏ | 65/79 [00:22<00:04,  2.83it/s]\u001b[A\n",
      " 84%|████████▎ | 66/79 [00:22<00:04,  2.83it/s]\u001b[A\n",
      " 85%|████████▍ | 67/79 [00:23<00:04,  2.83it/s]\u001b[A\n",
      " 86%|████████▌ | 68/79 [00:23<00:03,  2.83it/s]\u001b[A\n",
      " 87%|████████▋ | 69/79 [00:23<00:03,  2.83it/s]\u001b[A\n",
      " 89%|████████▊ | 70/79 [00:24<00:03,  2.82it/s]\u001b[A\n",
      " 90%|████████▉ | 71/79 [00:24<00:02,  2.83it/s]\u001b[A\n",
      " 91%|█████████ | 72/79 [00:25<00:02,  2.83it/s]\u001b[A\n",
      " 92%|█████████▏| 73/79 [00:25<00:02,  2.82it/s]\u001b[A\n",
      " 94%|█████████▎| 74/79 [00:25<00:01,  2.82it/s]\u001b[A\n",
      " 95%|█████████▍| 75/79 [00:26<00:01,  2.82it/s]\u001b[A\n",
      " 96%|█████████▌| 76/79 [00:26<00:01,  2.82it/s]\u001b[A\n",
      " 97%|█████████▋| 77/79 [00:26<00:00,  2.82it/s]\u001b[A\n",
      "                                                   \n",
      " 25%|██▌       | 1000/4000 [26:38<33:05,  1.51it/s]\n",
      "100%|██████████| 79/79 [00:27<00:00,  2.89it/s]"
     ]
    },
    {
     "name": "stdout",
     "output_type": "stream",
     "text": [
      "{'eval_loss': 3.519009828567505, 'eval_accuracy': 0.1873, 'eval_runtime': 27.5982, 'eval_samples_per_second': 362.342, 'eval_steps_per_second': 2.863, 'epoch': 25.0}\n"
     ]
    },
    {
     "name": "stderr",
     "output_type": "stream",
     "text": [
      "\u001b[A\n",
      " 25%|██▌       | 1010/4000 [26:48<1:02:21,  1.25s/it]"
     ]
    },
    {
     "name": "stdout",
     "output_type": "stream",
     "text": [
      "{'loss': 2.5205, 'grad_norm': 23.34146499633789, 'learning_rate': 1.4950000000000003e-05, 'epoch': 25.25}\n"
     ]
    },
    {
     "name": "stderr",
     "output_type": "stream",
     "text": [
      " 26%|██▌       | 1020/4000 [26:57<45:25,  1.09it/s]  "
     ]
    },
    {
     "name": "stdout",
     "output_type": "stream",
     "text": [
      "{'loss': 2.519, 'grad_norm': 23.087976455688477, 'learning_rate': 1.4900000000000001e-05, 'epoch': 25.5}\n"
     ]
    },
    {
     "name": "stderr",
     "output_type": "stream",
     "text": [
      " 26%|██▌       | 1030/4000 [27:06<45:01,  1.10it/s]"
     ]
    },
    {
     "name": "stdout",
     "output_type": "stream",
     "text": [
      "{'loss': 2.5884, 'grad_norm': 19.784992218017578, 'learning_rate': 1.4850000000000002e-05, 'epoch': 25.75}\n"
     ]
    },
    {
     "name": "stderr",
     "output_type": "stream",
     "text": [
      " 26%|██▌       | 1040/4000 [27:15<32:57,  1.50it/s]"
     ]
    },
    {
     "name": "stdout",
     "output_type": "stream",
     "text": [
      "{'loss': 2.583, 'grad_norm': 86.54735565185547, 'learning_rate': 1.48e-05, 'epoch': 26.0}\n"
     ]
    },
    {
     "name": "stderr",
     "output_type": "stream",
     "text": [
      "\n",
      "  0%|          | 0/79 [00:00<?, ?it/s]\u001b[A\n",
      "  3%|▎         | 2/79 [00:00<00:13,  5.82it/s]\u001b[A\n",
      "  4%|▍         | 3/79 [00:00<00:19,  3.97it/s]\u001b[A\n",
      "  5%|▌         | 4/79 [00:01<00:21,  3.46it/s]\u001b[A\n",
      "  6%|▋         | 5/79 [00:01<00:22,  3.22it/s]\u001b[A\n",
      "  8%|▊         | 6/79 [00:01<00:23,  3.07it/s]\u001b[A\n",
      "  9%|▉         | 7/79 [00:02<00:24,  2.98it/s]\u001b[A\n",
      " 10%|█         | 8/79 [00:02<00:24,  2.94it/s]\u001b[A\n",
      " 11%|█▏        | 9/79 [00:02<00:24,  2.90it/s]\u001b[A\n",
      " 13%|█▎        | 10/79 [00:03<00:24,  2.87it/s]\u001b[A\n",
      " 14%|█▍        | 11/79 [00:03<00:23,  2.86it/s]\u001b[A\n",
      " 15%|█▌        | 12/79 [00:03<00:23,  2.85it/s]\u001b[A\n",
      " 16%|█▋        | 13/79 [00:04<00:23,  2.84it/s]\u001b[A\n",
      " 18%|█▊        | 14/79 [00:04<00:22,  2.83it/s]\u001b[A\n",
      " 19%|█▉        | 15/79 [00:04<00:22,  2.84it/s]\u001b[A\n",
      " 20%|██        | 16/79 [00:05<00:22,  2.83it/s]\u001b[A\n",
      " 22%|██▏       | 17/79 [00:05<00:21,  2.82it/s]\u001b[A\n",
      " 23%|██▎       | 18/79 [00:06<00:21,  2.83it/s]\u001b[A\n",
      " 24%|██▍       | 19/79 [00:06<00:21,  2.81it/s]\u001b[A\n",
      " 25%|██▌       | 20/79 [00:06<00:20,  2.82it/s]\u001b[A\n",
      " 27%|██▋       | 21/79 [00:07<00:20,  2.83it/s]\u001b[A\n",
      " 28%|██▊       | 22/79 [00:07<00:20,  2.83it/s]\u001b[A\n",
      " 29%|██▉       | 23/79 [00:07<00:19,  2.83it/s]\u001b[A\n",
      " 30%|███       | 24/79 [00:08<00:19,  2.83it/s]\u001b[A\n",
      " 32%|███▏      | 25/79 [00:08<00:19,  2.82it/s]\u001b[A\n",
      " 33%|███▎      | 26/79 [00:08<00:18,  2.83it/s]\u001b[A\n",
      " 34%|███▍      | 27/79 [00:09<00:18,  2.83it/s]\u001b[A\n",
      " 35%|███▌      | 28/79 [00:09<00:18,  2.83it/s]\u001b[A\n",
      " 37%|███▋      | 29/79 [00:09<00:17,  2.83it/s]\u001b[A\n",
      " 38%|███▊      | 30/79 [00:10<00:17,  2.83it/s]\u001b[A\n",
      " 39%|███▉      | 31/79 [00:10<00:16,  2.83it/s]\u001b[A\n",
      " 41%|████      | 32/79 [00:10<00:16,  2.83it/s]\u001b[A\n",
      " 42%|████▏     | 33/79 [00:11<00:16,  2.83it/s]\u001b[A\n",
      " 43%|████▎     | 34/79 [00:11<00:15,  2.84it/s]\u001b[A\n",
      " 44%|████▍     | 35/79 [00:12<00:15,  2.84it/s]\u001b[A\n",
      " 46%|████▌     | 36/79 [00:12<00:15,  2.84it/s]\u001b[A\n",
      " 47%|████▋     | 37/79 [00:12<00:14,  2.85it/s]\u001b[A\n",
      " 48%|████▊     | 38/79 [00:13<00:14,  2.85it/s]\u001b[A\n",
      " 49%|████▉     | 39/79 [00:13<00:14,  2.85it/s]\u001b[A\n",
      " 51%|█████     | 40/79 [00:13<00:13,  2.86it/s]\u001b[A\n",
      " 52%|█████▏    | 41/79 [00:14<00:13,  2.87it/s]\u001b[A\n",
      " 53%|█████▎    | 42/79 [00:14<00:12,  2.86it/s]\u001b[A\n",
      " 54%|█████▍    | 43/79 [00:14<00:12,  2.86it/s]\u001b[A\n",
      " 56%|█████▌    | 44/79 [00:15<00:12,  2.86it/s]\u001b[A\n",
      " 57%|█████▋    | 45/79 [00:15<00:11,  2.87it/s]\u001b[A\n",
      " 58%|█████▊    | 46/79 [00:15<00:11,  2.86it/s]\u001b[A\n",
      " 59%|█████▉    | 47/79 [00:16<00:11,  2.85it/s]\u001b[A\n",
      " 61%|██████    | 48/79 [00:16<00:10,  2.86it/s]\u001b[A\n",
      " 62%|██████▏   | 49/79 [00:16<00:10,  2.86it/s]\u001b[A\n",
      " 63%|██████▎   | 50/79 [00:17<00:10,  2.86it/s]\u001b[A\n",
      " 65%|██████▍   | 51/79 [00:17<00:09,  2.85it/s]\u001b[A\n",
      " 66%|██████▌   | 52/79 [00:17<00:09,  2.85it/s]\u001b[A\n",
      " 67%|██████▋   | 53/79 [00:18<00:09,  2.85it/s]\u001b[A\n",
      " 68%|██████▊   | 54/79 [00:18<00:08,  2.86it/s]\u001b[A\n",
      " 70%|██████▉   | 55/79 [00:19<00:08,  2.87it/s]\u001b[A\n",
      " 71%|███████   | 56/79 [00:19<00:08,  2.86it/s]\u001b[A\n",
      " 72%|███████▏  | 57/79 [00:19<00:07,  2.85it/s]\u001b[A\n",
      " 73%|███████▎  | 58/79 [00:20<00:07,  2.86it/s]\u001b[A\n",
      " 75%|███████▍  | 59/79 [00:20<00:06,  2.87it/s]\u001b[A\n",
      " 76%|███████▌  | 60/79 [00:20<00:06,  2.87it/s]\u001b[A\n",
      " 77%|███████▋  | 61/79 [00:21<00:06,  2.86it/s]\u001b[A\n",
      " 78%|███████▊  | 62/79 [00:21<00:05,  2.86it/s]\u001b[A\n",
      " 80%|███████▉  | 63/79 [00:21<00:05,  2.85it/s]\u001b[A\n",
      " 81%|████████  | 64/79 [00:22<00:05,  2.85it/s]\u001b[A\n",
      " 82%|████████▏ | 65/79 [00:22<00:04,  2.85it/s]\u001b[A\n",
      " 84%|████████▎ | 66/79 [00:22<00:04,  2.86it/s]\u001b[A\n",
      " 85%|████████▍ | 67/79 [00:23<00:04,  2.85it/s]\u001b[A\n",
      " 86%|████████▌ | 68/79 [00:23<00:03,  2.85it/s]\u001b[A\n",
      " 87%|████████▋ | 69/79 [00:23<00:03,  2.84it/s]\u001b[A\n",
      " 89%|████████▊ | 70/79 [00:24<00:03,  2.85it/s]\u001b[A\n",
      " 90%|████████▉ | 71/79 [00:24<00:02,  2.86it/s]\u001b[A\n",
      " 91%|█████████ | 72/79 [00:24<00:02,  2.84it/s]\u001b[A\n",
      " 92%|█████████▏| 73/79 [00:25<00:02,  2.84it/s]\u001b[A\n",
      " 94%|█████████▎| 74/79 [00:25<00:01,  2.84it/s]\u001b[A\n",
      " 95%|█████████▍| 75/79 [00:26<00:01,  2.85it/s]\u001b[A\n",
      " 96%|█████████▌| 76/79 [00:26<00:01,  2.85it/s]\u001b[A\n",
      " 97%|█████████▋| 77/79 [00:26<00:00,  2.84it/s]\u001b[A\n",
      "                                                   \n",
      " 26%|██▌       | 1040/4000 [27:42<32:57,  1.50it/s]\n",
      "100%|██████████| 79/79 [00:27<00:00,  2.89it/s]\u001b[A\n",
      "                                               \u001b[A"
     ]
    },
    {
     "name": "stdout",
     "output_type": "stream",
     "text": [
      "{'eval_loss': 3.520632743835449, 'eval_accuracy': 0.1845, 'eval_runtime': 27.5454, 'eval_samples_per_second': 363.037, 'eval_steps_per_second': 2.868, 'epoch': 26.0}\n"
     ]
    },
    {
     "name": "stderr",
     "output_type": "stream",
     "text": [
      " 26%|██▋       | 1050/4000 [27:52<1:01:28,  1.25s/it]"
     ]
    },
    {
     "name": "stdout",
     "output_type": "stream",
     "text": [
      "{'loss': 2.4736, 'grad_norm': 20.61598014831543, 'learning_rate': 1.4750000000000003e-05, 'epoch': 26.25}\n"
     ]
    },
    {
     "name": "stderr",
     "output_type": "stream",
     "text": [
      " 26%|██▋       | 1060/4000 [28:01<45:06,  1.09it/s]  "
     ]
    },
    {
     "name": "stdout",
     "output_type": "stream",
     "text": [
      "{'loss': 2.4996, 'grad_norm': 25.155912399291992, 'learning_rate': 1.4700000000000002e-05, 'epoch': 26.5}\n"
     ]
    },
    {
     "name": "stderr",
     "output_type": "stream",
     "text": [
      " 27%|██▋       | 1070/4000 [28:11<44:20,  1.10it/s]"
     ]
    },
    {
     "name": "stdout",
     "output_type": "stream",
     "text": [
      "{'loss': 2.5192, 'grad_norm': 22.6268253326416, 'learning_rate': 1.4650000000000002e-05, 'epoch': 26.75}\n"
     ]
    },
    {
     "name": "stderr",
     "output_type": "stream",
     "text": [
      " 27%|██▋       | 1080/4000 [28:19<32:16,  1.51it/s]"
     ]
    },
    {
     "name": "stdout",
     "output_type": "stream",
     "text": [
      "{'loss': 2.4808, 'grad_norm': 74.53020477294922, 'learning_rate': 1.46e-05, 'epoch': 27.0}\n"
     ]
    },
    {
     "name": "stderr",
     "output_type": "stream",
     "text": [
      "\n",
      "  0%|          | 0/79 [00:00<?, ?it/s]\u001b[A\n",
      "  3%|▎         | 2/79 [00:00<00:13,  5.85it/s]\u001b[A\n",
      "  4%|▍         | 3/79 [00:00<00:19,  3.96it/s]\u001b[A\n",
      "  5%|▌         | 4/79 [00:01<00:21,  3.46it/s]\u001b[A\n",
      "  6%|▋         | 5/79 [00:01<00:22,  3.23it/s]\u001b[A\n",
      "  8%|▊         | 6/79 [00:01<00:23,  3.07it/s]\u001b[A\n",
      "  9%|▉         | 7/79 [00:02<00:23,  3.00it/s]\u001b[A\n",
      " 10%|█         | 8/79 [00:02<00:24,  2.95it/s]\u001b[A\n",
      " 11%|█▏        | 9/79 [00:02<00:24,  2.90it/s]\u001b[A\n",
      " 13%|█▎        | 10/79 [00:03<00:23,  2.88it/s]\u001b[A\n",
      " 14%|█▍        | 11/79 [00:03<00:23,  2.87it/s]\u001b[A\n",
      " 15%|█▌        | 12/79 [00:03<00:23,  2.85it/s]\u001b[A\n",
      " 16%|█▋        | 13/79 [00:04<00:23,  2.85it/s]\u001b[A\n",
      " 18%|█▊        | 14/79 [00:04<00:22,  2.84it/s]\u001b[A\n",
      " 19%|█▉        | 15/79 [00:04<00:22,  2.84it/s]\u001b[A\n",
      " 20%|██        | 16/79 [00:05<00:22,  2.82it/s]\u001b[A\n",
      " 22%|██▏       | 17/79 [00:05<00:21,  2.83it/s]\u001b[A\n",
      " 23%|██▎       | 18/79 [00:06<00:21,  2.82it/s]\u001b[A\n",
      " 24%|██▍       | 19/79 [00:06<00:21,  2.83it/s]\u001b[A\n",
      " 25%|██▌       | 20/79 [00:06<00:20,  2.83it/s]\u001b[A\n",
      " 27%|██▋       | 21/79 [00:07<00:20,  2.83it/s]\u001b[A\n",
      " 28%|██▊       | 22/79 [00:07<00:20,  2.83it/s]\u001b[A\n",
      " 29%|██▉       | 23/79 [00:07<00:19,  2.82it/s]\u001b[A\n",
      " 30%|███       | 24/79 [00:08<00:19,  2.82it/s]\u001b[A\n",
      " 32%|███▏      | 25/79 [00:08<00:19,  2.81it/s]\u001b[A\n",
      " 33%|███▎      | 26/79 [00:08<00:18,  2.81it/s]\u001b[A\n",
      " 34%|███▍      | 27/79 [00:09<00:18,  2.82it/s]\u001b[A\n",
      " 35%|███▌      | 28/79 [00:09<00:18,  2.81it/s]\u001b[A\n",
      " 37%|███▋      | 29/79 [00:09<00:17,  2.82it/s]\u001b[A\n",
      " 38%|███▊      | 30/79 [00:10<00:17,  2.82it/s]\u001b[A\n",
      " 39%|███▉      | 31/79 [00:10<00:16,  2.82it/s]\u001b[A\n",
      " 41%|████      | 32/79 [00:10<00:16,  2.82it/s]\u001b[A\n",
      " 42%|████▏     | 33/79 [00:11<00:16,  2.82it/s]\u001b[A\n",
      " 43%|████▎     | 34/79 [00:11<00:15,  2.81it/s]\u001b[A\n",
      " 44%|████▍     | 35/79 [00:12<00:15,  2.82it/s]\u001b[A\n",
      " 46%|████▌     | 36/79 [00:12<00:15,  2.82it/s]\u001b[A\n",
      " 47%|████▋     | 37/79 [00:12<00:14,  2.82it/s]\u001b[A\n",
      " 48%|████▊     | 38/79 [00:13<00:14,  2.82it/s]\u001b[A\n",
      " 49%|████▉     | 39/79 [00:13<00:14,  2.83it/s]\u001b[A\n",
      " 51%|█████     | 40/79 [00:13<00:13,  2.84it/s]\u001b[A\n",
      " 52%|█████▏    | 41/79 [00:14<00:13,  2.82it/s]\u001b[A\n",
      " 53%|█████▎    | 42/79 [00:14<00:13,  2.83it/s]\u001b[A\n",
      " 54%|█████▍    | 43/79 [00:14<00:12,  2.83it/s]\u001b[A\n",
      " 56%|█████▌    | 44/79 [00:15<00:12,  2.82it/s]\u001b[A\n",
      " 57%|█████▋    | 45/79 [00:15<00:12,  2.81it/s]\u001b[A\n",
      " 58%|█████▊    | 46/79 [00:15<00:11,  2.82it/s]\u001b[A\n",
      " 59%|█████▉    | 47/79 [00:16<00:11,  2.82it/s]\u001b[A\n",
      " 61%|██████    | 48/79 [00:16<00:10,  2.82it/s]\u001b[A\n",
      " 62%|██████▏   | 49/79 [00:16<00:10,  2.82it/s]\u001b[A\n",
      " 63%|██████▎   | 50/79 [00:17<00:10,  2.82it/s]\u001b[A\n",
      " 65%|██████▍   | 51/79 [00:17<00:09,  2.82it/s]\u001b[A\n",
      " 66%|██████▌   | 52/79 [00:18<00:09,  2.82it/s]\u001b[A\n",
      " 67%|██████▋   | 53/79 [00:18<00:09,  2.82it/s]\u001b[A\n",
      " 68%|██████▊   | 54/79 [00:18<00:08,  2.82it/s]\u001b[A\n",
      " 70%|██████▉   | 55/79 [00:19<00:08,  2.83it/s]\u001b[A\n",
      " 71%|███████   | 56/79 [00:19<00:08,  2.82it/s]\u001b[A\n",
      " 72%|███████▏  | 57/79 [00:19<00:07,  2.82it/s]\u001b[A\n",
      " 73%|███████▎  | 58/79 [00:20<00:07,  2.81it/s]\u001b[A\n",
      " 75%|███████▍  | 59/79 [00:20<00:07,  2.82it/s]\u001b[A\n",
      " 76%|███████▌  | 60/79 [00:20<00:06,  2.81it/s]\u001b[A\n",
      " 77%|███████▋  | 61/79 [00:21<00:06,  2.82it/s]\u001b[A\n",
      " 78%|███████▊  | 62/79 [00:21<00:06,  2.83it/s]\u001b[A\n",
      " 80%|███████▉  | 63/79 [00:21<00:05,  2.83it/s]\u001b[A\n",
      " 81%|████████  | 64/79 [00:22<00:05,  2.84it/s]\u001b[A\n",
      " 82%|████████▏ | 65/79 [00:22<00:04,  2.83it/s]\u001b[A\n",
      " 84%|████████▎ | 66/79 [00:23<00:04,  2.82it/s]\u001b[A\n",
      " 85%|████████▍ | 67/79 [00:23<00:04,  2.82it/s]\u001b[A\n",
      " 86%|████████▌ | 68/79 [00:23<00:03,  2.84it/s]\u001b[A\n",
      " 87%|████████▋ | 69/79 [00:24<00:03,  2.84it/s]\u001b[A\n",
      " 89%|████████▊ | 70/79 [00:24<00:03,  2.84it/s]\u001b[A\n",
      " 90%|████████▉ | 71/79 [00:24<00:02,  2.85it/s]\u001b[A\n",
      " 91%|█████████ | 72/79 [00:25<00:02,  2.84it/s]\u001b[A\n",
      " 92%|█████████▏| 73/79 [00:25<00:02,  2.84it/s]\u001b[A\n",
      " 94%|█████████▎| 74/79 [00:25<00:01,  2.85it/s]\u001b[A\n",
      " 95%|█████████▍| 75/79 [00:26<00:01,  2.85it/s]\u001b[A\n",
      " 96%|█████████▌| 76/79 [00:26<00:01,  2.85it/s]\u001b[A\n",
      " 97%|█████████▋| 77/79 [00:26<00:00,  2.86it/s]\u001b[A\n",
      "                                                   \n",
      " 27%|██▋       | 1080/4000 [28:46<32:16,  1.51it/s]\n",
      "100%|██████████| 79/79 [00:27<00:00,  2.92it/s]\u001b[A\n",
      "                                               \u001b[A"
     ]
    },
    {
     "name": "stdout",
     "output_type": "stream",
     "text": [
      "{'eval_loss': 3.4955756664276123, 'eval_accuracy': 0.1914, 'eval_runtime': 27.6829, 'eval_samples_per_second': 361.234, 'eval_steps_per_second': 2.854, 'epoch': 27.0}\n"
     ]
    },
    {
     "name": "stderr",
     "output_type": "stream",
     "text": [
      " 27%|██▋       | 1090/4000 [28:57<1:00:24,  1.25s/it]"
     ]
    },
    {
     "name": "stdout",
     "output_type": "stream",
     "text": [
      "{'loss': 2.3989, 'grad_norm': 22.211772918701172, 'learning_rate': 1.4550000000000001e-05, 'epoch': 27.25}\n"
     ]
    },
    {
     "name": "stderr",
     "output_type": "stream",
     "text": [
      " 28%|██▊       | 1100/4000 [29:06<44:31,  1.09it/s]  "
     ]
    },
    {
     "name": "stdout",
     "output_type": "stream",
     "text": [
      "{'loss': 2.4422, 'grad_norm': 22.007436752319336, 'learning_rate': 1.45e-05, 'epoch': 27.5}\n"
     ]
    },
    {
     "name": "stderr",
     "output_type": "stream",
     "text": [
      " 28%|██▊       | 1110/4000 [29:15<43:55,  1.10it/s]"
     ]
    },
    {
     "name": "stdout",
     "output_type": "stream",
     "text": [
      "{'loss': 2.5019, 'grad_norm': 22.5742244720459, 'learning_rate': 1.4450000000000002e-05, 'epoch': 27.75}\n"
     ]
    },
    {
     "name": "stderr",
     "output_type": "stream",
     "text": [
      " 28%|██▊       | 1120/4000 [29:23<31:53,  1.50it/s]"
     ]
    },
    {
     "name": "stdout",
     "output_type": "stream",
     "text": [
      "{'loss': 2.4085, 'grad_norm': 73.51314544677734, 'learning_rate': 1.4400000000000001e-05, 'epoch': 28.0}\n"
     ]
    },
    {
     "name": "stderr",
     "output_type": "stream",
     "text": [
      "\n",
      "  0%|          | 0/79 [00:00<?, ?it/s]\u001b[A\n",
      "  3%|▎         | 2/79 [00:00<00:13,  5.79it/s]\u001b[A\n",
      "  4%|▍         | 3/79 [00:00<00:19,  3.95it/s]\u001b[A\n",
      "  5%|▌         | 4/79 [00:01<00:21,  3.46it/s]\u001b[A\n",
      "  6%|▋         | 5/79 [00:01<00:22,  3.24it/s]\u001b[A\n",
      "  8%|▊         | 6/79 [00:01<00:23,  3.09it/s]\u001b[A\n",
      "  9%|▉         | 7/79 [00:02<00:24,  3.00it/s]\u001b[A\n",
      " 10%|█         | 8/79 [00:02<00:23,  2.96it/s]\u001b[A\n",
      " 11%|█▏        | 9/79 [00:02<00:23,  2.94it/s]\u001b[A\n",
      " 13%|█▎        | 10/79 [00:03<00:23,  2.92it/s]\u001b[A\n",
      " 14%|█▍        | 11/79 [00:03<00:23,  2.90it/s]\u001b[A\n",
      " 15%|█▌        | 12/79 [00:03<00:23,  2.89it/s]\u001b[A\n",
      " 16%|█▋        | 13/79 [00:04<00:22,  2.87it/s]\u001b[A\n",
      " 18%|█▊        | 14/79 [00:04<00:22,  2.87it/s]\u001b[A\n",
      " 19%|█▉        | 15/79 [00:04<00:22,  2.86it/s]\u001b[A\n",
      " 20%|██        | 16/79 [00:05<00:22,  2.86it/s]\u001b[A\n",
      " 22%|██▏       | 17/79 [00:05<00:21,  2.87it/s]\u001b[A\n",
      " 23%|██▎       | 18/79 [00:05<00:21,  2.86it/s]\u001b[A\n",
      " 24%|██▍       | 19/79 [00:06<00:21,  2.85it/s]\u001b[A\n",
      " 25%|██▌       | 20/79 [00:06<00:20,  2.86it/s]\u001b[A\n",
      " 27%|██▋       | 21/79 [00:07<00:20,  2.86it/s]\u001b[A\n",
      " 28%|██▊       | 22/79 [00:07<00:20,  2.85it/s]\u001b[A\n",
      " 29%|██▉       | 23/79 [00:07<00:19,  2.85it/s]\u001b[A\n",
      " 30%|███       | 24/79 [00:08<00:19,  2.86it/s]\u001b[A\n",
      " 32%|███▏      | 25/79 [00:08<00:18,  2.84it/s]\u001b[A\n",
      " 33%|███▎      | 26/79 [00:08<00:18,  2.85it/s]\u001b[A\n",
      " 34%|███▍      | 27/79 [00:09<00:18,  2.84it/s]\u001b[A\n",
      " 35%|███▌      | 28/79 [00:09<00:17,  2.84it/s]\u001b[A\n",
      " 37%|███▋      | 29/79 [00:09<00:17,  2.84it/s]\u001b[A\n",
      " 38%|███▊      | 30/79 [00:10<00:17,  2.84it/s]\u001b[A\n",
      " 39%|███▉      | 31/79 [00:10<00:16,  2.85it/s]\u001b[A\n",
      " 41%|████      | 32/79 [00:10<00:16,  2.86it/s]\u001b[A\n",
      " 42%|████▏     | 33/79 [00:11<00:16,  2.85it/s]\u001b[A\n",
      " 43%|████▎     | 34/79 [00:11<00:15,  2.84it/s]\u001b[A\n",
      " 44%|████▍     | 35/79 [00:11<00:15,  2.84it/s]\u001b[A\n",
      " 46%|████▌     | 36/79 [00:12<00:15,  2.84it/s]\u001b[A\n",
      " 47%|████▋     | 37/79 [00:12<00:14,  2.83it/s]\u001b[A\n",
      " 48%|████▊     | 38/79 [00:12<00:14,  2.83it/s]\u001b[A\n",
      " 49%|████▉     | 39/79 [00:13<00:14,  2.83it/s]\u001b[A\n",
      " 51%|█████     | 40/79 [00:13<00:13,  2.84it/s]\u001b[A\n",
      " 52%|█████▏    | 41/79 [00:14<00:13,  2.84it/s]\u001b[A\n",
      " 53%|█████▎    | 42/79 [00:14<00:13,  2.84it/s]\u001b[A\n",
      " 54%|█████▍    | 43/79 [00:14<00:12,  2.84it/s]\u001b[A\n",
      " 56%|█████▌    | 44/79 [00:15<00:12,  2.84it/s]\u001b[A\n",
      " 57%|█████▋    | 45/79 [00:15<00:12,  2.83it/s]\u001b[A\n",
      " 58%|█████▊    | 46/79 [00:15<00:11,  2.84it/s]\u001b[A\n",
      " 59%|█████▉    | 47/79 [00:16<00:11,  2.83it/s]\u001b[A\n",
      " 61%|██████    | 48/79 [00:16<00:10,  2.83it/s]\u001b[A\n",
      " 62%|██████▏   | 49/79 [00:16<00:10,  2.83it/s]\u001b[A\n",
      " 63%|██████▎   | 50/79 [00:17<00:10,  2.84it/s]\u001b[A\n",
      " 65%|██████▍   | 51/79 [00:17<00:09,  2.84it/s]\u001b[A\n",
      " 66%|██████▌   | 52/79 [00:17<00:09,  2.83it/s]\u001b[A\n",
      " 67%|██████▋   | 53/79 [00:18<00:09,  2.84it/s]\u001b[A\n",
      " 68%|██████▊   | 54/79 [00:18<00:08,  2.81it/s]\u001b[A\n",
      " 70%|██████▉   | 55/79 [00:18<00:08,  2.83it/s]\u001b[A\n",
      " 71%|███████   | 56/79 [00:19<00:08,  2.82it/s]\u001b[A\n",
      " 72%|███████▏  | 57/79 [00:19<00:07,  2.84it/s]\u001b[A\n",
      " 73%|███████▎  | 58/79 [00:20<00:07,  2.83it/s]\u001b[A\n",
      " 75%|███████▍  | 59/79 [00:20<00:07,  2.84it/s]\u001b[A\n",
      " 76%|███████▌  | 60/79 [00:20<00:06,  2.84it/s]\u001b[A\n",
      " 77%|███████▋  | 61/79 [00:21<00:06,  2.84it/s]\u001b[A\n",
      " 78%|███████▊  | 62/79 [00:21<00:05,  2.84it/s]\u001b[A\n",
      " 80%|███████▉  | 63/79 [00:21<00:05,  2.83it/s]\u001b[A\n",
      " 81%|████████  | 64/79 [00:22<00:05,  2.83it/s]\u001b[A\n",
      " 82%|████████▏ | 65/79 [00:22<00:04,  2.83it/s]\u001b[A\n",
      " 84%|████████▎ | 66/79 [00:22<00:04,  2.82it/s]\u001b[A\n",
      " 85%|████████▍ | 67/79 [00:23<00:04,  2.83it/s]\u001b[A\n",
      " 86%|████████▌ | 68/79 [00:23<00:03,  2.82it/s]\u001b[A\n",
      " 87%|████████▋ | 69/79 [00:23<00:03,  2.82it/s]\u001b[A\n",
      " 89%|████████▊ | 70/79 [00:24<00:03,  2.83it/s]\u001b[A\n",
      " 90%|████████▉ | 71/79 [00:24<00:02,  2.83it/s]\u001b[A\n",
      " 91%|█████████ | 72/79 [00:25<00:02,  2.83it/s]\u001b[A\n",
      " 92%|█████████▏| 73/79 [00:25<00:02,  2.82it/s]\u001b[A\n",
      " 94%|█████████▎| 74/79 [00:25<00:01,  2.83it/s]\u001b[A\n",
      " 95%|█████████▍| 75/79 [00:26<00:01,  2.82it/s]\u001b[A\n",
      " 96%|█████████▌| 76/79 [00:26<00:01,  2.83it/s]\u001b[A\n",
      " 97%|█████████▋| 77/79 [00:26<00:00,  2.82it/s]\u001b[A\n",
      "                                                   \n",
      " 28%|██▊       | 1120/4000 [29:51<31:53,  1.50it/s]\n",
      "100%|██████████| 79/79 [00:27<00:00,  2.88it/s]\u001b[A\n",
      "                                               \u001b[A"
     ]
    },
    {
     "name": "stdout",
     "output_type": "stream",
     "text": [
      "{'eval_loss': 3.4927566051483154, 'eval_accuracy': 0.1888, 'eval_runtime': 28.2893, 'eval_samples_per_second': 353.49, 'eval_steps_per_second': 2.793, 'epoch': 28.0}\n"
     ]
    },
    {
     "name": "stderr",
     "output_type": "stream",
     "text": [
      " 28%|██▊       | 1130/4000 [30:02<1:00:14,  1.26s/it]"
     ]
    },
    {
     "name": "stdout",
     "output_type": "stream",
     "text": [
      "{'loss': 2.3844, 'grad_norm': 20.760028839111328, 'learning_rate': 1.4350000000000002e-05, 'epoch': 28.25}\n"
     ]
    },
    {
     "name": "stderr",
     "output_type": "stream",
     "text": [
      " 28%|██▊       | 1140/4000 [30:11<43:47,  1.09it/s]  "
     ]
    },
    {
     "name": "stdout",
     "output_type": "stream",
     "text": [
      "{'loss': 2.349, 'grad_norm': 21.138328552246094, 'learning_rate': 1.43e-05, 'epoch': 28.5}\n"
     ]
    },
    {
     "name": "stderr",
     "output_type": "stream",
     "text": [
      " 29%|██▉       | 1150/4000 [30:20<43:00,  1.10it/s]"
     ]
    },
    {
     "name": "stdout",
     "output_type": "stream",
     "text": [
      "{'loss': 2.3903, 'grad_norm': 22.105209350585938, 'learning_rate': 1.425e-05, 'epoch': 28.75}\n"
     ]
    },
    {
     "name": "stderr",
     "output_type": "stream",
     "text": [
      " 29%|██▉       | 1160/4000 [30:28<31:28,  1.50it/s]"
     ]
    },
    {
     "name": "stdout",
     "output_type": "stream",
     "text": [
      "{'loss': 2.4591, 'grad_norm': 85.56696319580078, 'learning_rate': 1.4200000000000001e-05, 'epoch': 29.0}\n"
     ]
    },
    {
     "name": "stderr",
     "output_type": "stream",
     "text": [
      "\n",
      "  0%|          | 0/79 [00:00<?, ?it/s]\u001b[A\n",
      "  3%|▎         | 2/79 [00:00<00:13,  5.85it/s]\u001b[A\n",
      "  4%|▍         | 3/79 [00:00<00:19,  3.96it/s]\u001b[A\n",
      "  5%|▌         | 4/79 [00:01<00:21,  3.47it/s]\u001b[A\n",
      "  6%|▋         | 5/79 [00:01<00:22,  3.25it/s]\u001b[A\n",
      "  8%|▊         | 6/79 [00:01<00:23,  3.10it/s]\u001b[A\n",
      "  9%|▉         | 7/79 [00:02<00:23,  3.00it/s]\u001b[A\n",
      " 10%|█         | 8/79 [00:02<00:24,  2.96it/s]\u001b[A\n",
      " 11%|█▏        | 9/79 [00:02<00:23,  2.93it/s]\u001b[A\n",
      " 13%|█▎        | 10/79 [00:03<00:23,  2.89it/s]\u001b[A\n",
      " 14%|█▍        | 11/79 [00:03<00:23,  2.87it/s]\u001b[A\n",
      " 15%|█▌        | 12/79 [00:03<00:23,  2.86it/s]\u001b[A\n",
      " 16%|█▋        | 13/79 [00:04<00:23,  2.85it/s]\u001b[A\n",
      " 18%|█▊        | 14/79 [00:04<00:22,  2.84it/s]\u001b[A\n",
      " 19%|█▉        | 15/79 [00:04<00:22,  2.84it/s]\u001b[A\n",
      " 20%|██        | 16/79 [00:05<00:22,  2.83it/s]\u001b[A\n",
      " 22%|██▏       | 17/79 [00:05<00:21,  2.83it/s]\u001b[A\n",
      " 23%|██▎       | 18/79 [00:06<00:21,  2.82it/s]\u001b[A\n",
      " 24%|██▍       | 19/79 [00:06<00:21,  2.83it/s]\u001b[A\n",
      " 25%|██▌       | 20/79 [00:06<00:20,  2.84it/s]\u001b[A\n",
      " 27%|██▋       | 21/79 [00:07<00:20,  2.83it/s]\u001b[A\n",
      " 28%|██▊       | 22/79 [00:07<00:20,  2.83it/s]\u001b[A\n",
      " 29%|██▉       | 23/79 [00:07<00:19,  2.83it/s]\u001b[A\n",
      " 30%|███       | 24/79 [00:08<00:19,  2.82it/s]\u001b[A\n",
      " 32%|███▏      | 25/79 [00:08<00:19,  2.82it/s]\u001b[A\n",
      " 33%|███▎      | 26/79 [00:08<00:18,  2.83it/s]\u001b[A\n",
      " 34%|███▍      | 27/79 [00:09<00:18,  2.83it/s]\u001b[A\n",
      " 35%|███▌      | 28/79 [00:09<00:18,  2.83it/s]\u001b[A\n",
      " 37%|███▋      | 29/79 [00:09<00:17,  2.83it/s]\u001b[A\n",
      " 38%|███▊      | 30/79 [00:10<00:17,  2.84it/s]\u001b[A\n",
      " 39%|███▉      | 31/79 [00:10<00:16,  2.83it/s]\u001b[A\n",
      " 41%|████      | 32/79 [00:10<00:16,  2.83it/s]\u001b[A\n",
      " 42%|████▏     | 33/79 [00:11<00:16,  2.82it/s]\u001b[A\n",
      " 43%|████▎     | 34/79 [00:11<00:15,  2.83it/s]\u001b[A\n",
      " 44%|████▍     | 35/79 [00:12<00:15,  2.82it/s]\u001b[A\n",
      " 46%|████▌     | 36/79 [00:12<00:15,  2.82it/s]\u001b[A\n",
      " 47%|████▋     | 37/79 [00:12<00:14,  2.82it/s]\u001b[A\n",
      " 48%|████▊     | 38/79 [00:13<00:14,  2.82it/s]\u001b[A\n",
      " 49%|████▉     | 39/79 [00:13<00:14,  2.83it/s]\u001b[A\n",
      " 51%|█████     | 40/79 [00:13<00:13,  2.82it/s]\u001b[A\n",
      " 52%|█████▏    | 41/79 [00:14<00:13,  2.82it/s]\u001b[A\n",
      " 53%|█████▎    | 42/79 [00:14<00:13,  2.82it/s]\u001b[A\n",
      " 54%|█████▍    | 43/79 [00:14<00:12,  2.82it/s]\u001b[A\n",
      " 56%|█████▌    | 44/79 [00:15<00:12,  2.83it/s]\u001b[A\n",
      " 57%|█████▋    | 45/79 [00:15<00:11,  2.83it/s]\u001b[A\n",
      " 58%|█████▊    | 46/79 [00:15<00:11,  2.84it/s]\u001b[A\n",
      " 59%|█████▉    | 47/79 [00:16<00:11,  2.83it/s]\u001b[A\n",
      " 61%|██████    | 48/79 [00:16<00:10,  2.83it/s]\u001b[A\n",
      " 62%|██████▏   | 49/79 [00:16<00:10,  2.84it/s]\u001b[A\n",
      " 63%|██████▎   | 50/79 [00:17<00:10,  2.85it/s]\u001b[A\n",
      " 65%|██████▍   | 51/79 [00:17<00:09,  2.86it/s]\u001b[A\n",
      " 66%|██████▌   | 52/79 [00:17<00:09,  2.87it/s]\u001b[A\n",
      " 67%|██████▋   | 53/79 [00:18<00:09,  2.87it/s]\u001b[A\n",
      " 68%|██████▊   | 54/79 [00:18<00:08,  2.86it/s]\u001b[A\n",
      " 70%|██████▉   | 55/79 [00:19<00:08,  2.86it/s]\u001b[A\n",
      " 71%|███████   | 56/79 [00:19<00:08,  2.86it/s]\u001b[A\n",
      " 72%|███████▏  | 57/79 [00:19<00:07,  2.85it/s]\u001b[A\n",
      " 73%|███████▎  | 58/79 [00:20<00:07,  2.85it/s]\u001b[A\n",
      " 75%|███████▍  | 59/79 [00:20<00:06,  2.86it/s]\u001b[A\n",
      " 76%|███████▌  | 60/79 [00:20<00:06,  2.85it/s]\u001b[A\n",
      " 77%|███████▋  | 61/79 [00:21<00:06,  2.85it/s]\u001b[A\n",
      " 78%|███████▊  | 62/79 [00:21<00:05,  2.87it/s]\u001b[A\n",
      " 80%|███████▉  | 63/79 [00:21<00:05,  2.87it/s]\u001b[A\n",
      " 81%|████████  | 64/79 [00:22<00:05,  2.86it/s]\u001b[A\n",
      " 82%|████████▏ | 65/79 [00:22<00:04,  2.85it/s]\u001b[A\n",
      " 84%|████████▎ | 66/79 [00:22<00:04,  2.85it/s]\u001b[A\n",
      " 85%|████████▍ | 67/79 [00:23<00:04,  2.85it/s]\u001b[A\n",
      " 86%|████████▌ | 68/79 [00:23<00:03,  2.85it/s]\u001b[A\n",
      " 87%|████████▋ | 69/79 [00:23<00:03,  2.84it/s]\u001b[A\n",
      " 89%|████████▊ | 70/79 [00:24<00:03,  2.85it/s]\u001b[A\n",
      " 90%|████████▉ | 71/79 [00:24<00:02,  2.85it/s]\u001b[A\n",
      " 91%|█████████ | 72/79 [00:25<00:02,  2.85it/s]\u001b[A\n",
      " 92%|█████████▏| 73/79 [00:25<00:02,  2.85it/s]\u001b[A\n",
      " 94%|█████████▎| 74/79 [00:25<00:01,  2.85it/s]\u001b[A\n",
      " 95%|█████████▍| 75/79 [00:26<00:01,  2.85it/s]\u001b[A\n",
      " 96%|█████████▌| 76/79 [00:26<00:01,  2.85it/s]\u001b[A\n",
      " 97%|█████████▋| 77/79 [00:26<00:00,  2.85it/s]\u001b[A\n",
      "                                                   \n",
      " 29%|██▉       | 1160/4000 [30:56<31:28,  1.50it/s]\n",
      "100%|██████████| 79/79 [00:27<00:00,  2.90it/s]\u001b[A\n",
      "                                               \u001b[A"
     ]
    },
    {
     "name": "stdout",
     "output_type": "stream",
     "text": [
      "{'eval_loss': 3.5013725757598877, 'eval_accuracy': 0.1896, 'eval_runtime': 27.5734, 'eval_samples_per_second': 362.668, 'eval_steps_per_second': 2.865, 'epoch': 29.0}\n"
     ]
    },
    {
     "name": "stderr",
     "output_type": "stream",
     "text": [
      " 29%|██▉       | 1170/4000 [31:06<58:56,  1.25s/it]  "
     ]
    },
    {
     "name": "stdout",
     "output_type": "stream",
     "text": [
      "{'loss': 2.2764, 'grad_norm': 23.13389778137207, 'learning_rate': 1.4150000000000002e-05, 'epoch': 29.25}\n"
     ]
    },
    {
     "name": "stderr",
     "output_type": "stream",
     "text": [
      " 30%|██▉       | 1180/4000 [31:15<43:16,  1.09it/s]"
     ]
    },
    {
     "name": "stdout",
     "output_type": "stream",
     "text": [
      "{'loss': 2.3493, 'grad_norm': 21.024721145629883, 'learning_rate': 1.41e-05, 'epoch': 29.5}\n"
     ]
    },
    {
     "name": "stderr",
     "output_type": "stream",
     "text": [
      " 30%|██▉       | 1190/4000 [31:24<42:43,  1.10it/s]"
     ]
    },
    {
     "name": "stdout",
     "output_type": "stream",
     "text": [
      "{'loss': 2.393, 'grad_norm': 22.12820053100586, 'learning_rate': 1.4050000000000001e-05, 'epoch': 29.75}\n"
     ]
    },
    {
     "name": "stderr",
     "output_type": "stream",
     "text": [
      " 30%|███       | 1200/4000 [31:32<30:58,  1.51it/s]"
     ]
    },
    {
     "name": "stdout",
     "output_type": "stream",
     "text": [
      "{'loss': 2.2852, 'grad_norm': 87.45643615722656, 'learning_rate': 1.4e-05, 'epoch': 30.0}\n"
     ]
    },
    {
     "name": "stderr",
     "output_type": "stream",
     "text": [
      "\n",
      "  0%|          | 0/79 [00:00<?, ?it/s]\u001b[A\n",
      "  3%|▎         | 2/79 [00:00<00:13,  5.85it/s]\u001b[A\n",
      "  4%|▍         | 3/79 [00:00<00:19,  3.98it/s]\u001b[A\n",
      "  5%|▌         | 4/79 [00:01<00:21,  3.47it/s]\u001b[A\n",
      "  6%|▋         | 5/79 [00:01<00:22,  3.25it/s]\u001b[A\n",
      "  8%|▊         | 6/79 [00:01<00:23,  3.09it/s]\u001b[A\n",
      "  9%|▉         | 7/79 [00:02<00:23,  3.00it/s]\u001b[A\n",
      " 10%|█         | 8/79 [00:02<00:24,  2.94it/s]\u001b[A\n",
      " 11%|█▏        | 9/79 [00:02<00:24,  2.90it/s]\u001b[A\n",
      " 13%|█▎        | 10/79 [00:03<00:23,  2.89it/s]\u001b[A\n",
      " 14%|█▍        | 11/79 [00:03<00:23,  2.87it/s]\u001b[A\n",
      " 15%|█▌        | 12/79 [00:03<00:23,  2.86it/s]\u001b[A\n",
      " 16%|█▋        | 13/79 [00:04<00:23,  2.86it/s]\u001b[A\n",
      " 18%|█▊        | 14/79 [00:04<00:22,  2.85it/s]\u001b[A\n",
      " 19%|█▉        | 15/79 [00:04<00:22,  2.85it/s]\u001b[A\n",
      " 20%|██        | 16/79 [00:05<00:22,  2.86it/s]\u001b[A\n",
      " 22%|██▏       | 17/79 [00:05<00:21,  2.86it/s]\u001b[A\n",
      " 23%|██▎       | 18/79 [00:05<00:21,  2.85it/s]\u001b[A\n",
      " 24%|██▍       | 19/79 [00:06<00:21,  2.85it/s]\u001b[A\n",
      " 25%|██▌       | 20/79 [00:06<00:20,  2.86it/s]\u001b[A\n",
      " 27%|██▋       | 21/79 [00:07<00:20,  2.85it/s]\u001b[A\n",
      " 28%|██▊       | 22/79 [00:07<00:20,  2.85it/s]\u001b[A\n",
      " 29%|██▉       | 23/79 [00:07<00:19,  2.85it/s]\u001b[A\n",
      " 30%|███       | 24/79 [00:08<00:19,  2.85it/s]\u001b[A\n",
      " 32%|███▏      | 25/79 [00:08<00:18,  2.85it/s]\u001b[A\n",
      " 33%|███▎      | 26/79 [00:08<00:18,  2.85it/s]\u001b[A\n",
      " 34%|███▍      | 27/79 [00:09<00:18,  2.85it/s]\u001b[A\n",
      " 35%|███▌      | 28/79 [00:09<00:17,  2.85it/s]\u001b[A\n",
      " 37%|███▋      | 29/79 [00:09<00:17,  2.83it/s]\u001b[A\n",
      " 38%|███▊      | 30/79 [00:10<00:17,  2.84it/s]\u001b[A\n",
      " 39%|███▉      | 31/79 [00:10<00:16,  2.84it/s]\u001b[A\n",
      " 41%|████      | 32/79 [00:10<00:16,  2.83it/s]\u001b[A\n",
      " 42%|████▏     | 33/79 [00:11<00:16,  2.84it/s]\u001b[A\n",
      " 43%|████▎     | 34/79 [00:11<00:15,  2.84it/s]\u001b[A\n",
      " 44%|████▍     | 35/79 [00:11<00:15,  2.84it/s]\u001b[A\n",
      " 46%|████▌     | 36/79 [00:12<00:15,  2.85it/s]\u001b[A\n",
      " 47%|████▋     | 37/79 [00:12<00:14,  2.85it/s]\u001b[A\n",
      " 48%|████▊     | 38/79 [00:13<00:14,  2.84it/s]\u001b[A\n",
      " 49%|████▉     | 39/79 [00:13<00:14,  2.85it/s]\u001b[A\n",
      " 51%|█████     | 40/79 [00:13<00:13,  2.84it/s]\u001b[A\n",
      " 52%|█████▏    | 41/79 [00:14<00:13,  2.84it/s]\u001b[A\n",
      " 53%|█████▎    | 42/79 [00:14<00:13,  2.83it/s]\u001b[A\n",
      " 54%|█████▍    | 43/79 [00:14<00:12,  2.83it/s]\u001b[A\n",
      " 56%|█████▌    | 44/79 [00:15<00:12,  2.83it/s]\u001b[A\n",
      " 57%|█████▋    | 45/79 [00:15<00:12,  2.83it/s]\u001b[A\n",
      " 58%|█████▊    | 46/79 [00:15<00:11,  2.83it/s]\u001b[A\n",
      " 59%|█████▉    | 47/79 [00:16<00:11,  2.83it/s]\u001b[A\n",
      " 61%|██████    | 48/79 [00:16<00:10,  2.83it/s]\u001b[A\n",
      " 62%|██████▏   | 49/79 [00:16<00:10,  2.83it/s]\u001b[A\n",
      " 63%|██████▎   | 50/79 [00:17<00:10,  2.83it/s]\u001b[A\n",
      " 65%|██████▍   | 51/79 [00:17<00:09,  2.83it/s]\u001b[A\n",
      " 66%|██████▌   | 52/79 [00:17<00:09,  2.83it/s]\u001b[A\n",
      " 67%|██████▋   | 53/79 [00:18<00:09,  2.83it/s]\u001b[A\n",
      " 68%|██████▊   | 54/79 [00:18<00:08,  2.83it/s]\u001b[A\n",
      " 70%|██████▉   | 55/79 [00:19<00:08,  2.83it/s]\u001b[A\n",
      " 71%|███████   | 56/79 [00:19<00:08,  2.83it/s]\u001b[A\n",
      " 72%|███████▏  | 57/79 [00:19<00:07,  2.83it/s]\u001b[A\n",
      " 73%|███████▎  | 58/79 [00:20<00:07,  2.83it/s]\u001b[A\n",
      " 75%|███████▍  | 59/79 [00:20<00:07,  2.84it/s]\u001b[A\n",
      " 76%|███████▌  | 60/79 [00:20<00:06,  2.85it/s]\u001b[A\n",
      " 77%|███████▋  | 61/79 [00:21<00:06,  2.84it/s]\u001b[A\n",
      " 78%|███████▊  | 62/79 [00:21<00:07,  2.41it/s]\u001b[A\n",
      " 80%|███████▉  | 63/79 [00:22<00:06,  2.53it/s]\u001b[A\n",
      " 81%|████████  | 64/79 [00:22<00:05,  2.59it/s]\u001b[A\n",
      " 82%|████████▏ | 65/79 [00:22<00:05,  2.67it/s]\u001b[A\n",
      " 84%|████████▎ | 66/79 [00:23<00:04,  2.74it/s]\u001b[A\n",
      " 85%|████████▍ | 67/79 [00:23<00:04,  2.76it/s]\u001b[A\n",
      " 86%|████████▌ | 68/79 [00:23<00:03,  2.78it/s]\u001b[A\n",
      " 87%|████████▋ | 69/79 [00:24<00:03,  2.79it/s]\u001b[A\n",
      " 89%|████████▊ | 70/79 [00:24<00:03,  2.80it/s]\u001b[A\n",
      " 90%|████████▉ | 71/79 [00:24<00:02,  2.80it/s]\u001b[A\n",
      " 91%|█████████ | 72/79 [00:25<00:02,  2.82it/s]\u001b[A\n",
      " 92%|█████████▏| 73/79 [00:25<00:02,  2.82it/s]\u001b[A\n",
      " 94%|█████████▎| 74/79 [00:25<00:01,  2.82it/s]\u001b[A\n",
      " 95%|█████████▍| 75/79 [00:26<00:01,  2.83it/s]\u001b[A\n",
      " 96%|█████████▌| 76/79 [00:26<00:01,  2.83it/s]\u001b[A\n",
      " 97%|█████████▋| 77/79 [00:26<00:00,  2.83it/s]\u001b[A\n",
      "                                                   \n",
      " 30%|███       | 1200/4000 [32:00<30:58,  1.51it/s]\n",
      "100%|██████████| 79/79 [00:27<00:00,  2.90it/s]\u001b[A\n",
      "                                               \u001b[A"
     ]
    },
    {
     "name": "stdout",
     "output_type": "stream",
     "text": [
      "{'eval_loss': 3.4913382530212402, 'eval_accuracy': 0.193, 'eval_runtime': 27.7907, 'eval_samples_per_second': 359.832, 'eval_steps_per_second': 2.843, 'epoch': 30.0}\n"
     ]
    },
    {
     "name": "stderr",
     "output_type": "stream",
     "text": [
      " 30%|███       | 1210/4000 [32:10<58:16,  1.25s/it]  "
     ]
    },
    {
     "name": "stdout",
     "output_type": "stream",
     "text": [
      "{'loss': 2.2822, 'grad_norm': 26.003469467163086, 'learning_rate': 1.3950000000000002e-05, 'epoch': 30.25}\n"
     ]
    },
    {
     "name": "stderr",
     "output_type": "stream",
     "text": [
      " 30%|███       | 1220/4000 [32:19<42:39,  1.09it/s]"
     ]
    },
    {
     "name": "stdout",
     "output_type": "stream",
     "text": [
      "{'loss': 2.2539, 'grad_norm': 25.629871368408203, 'learning_rate': 1.39e-05, 'epoch': 30.5}\n"
     ]
    },
    {
     "name": "stderr",
     "output_type": "stream",
     "text": [
      " 31%|███       | 1230/4000 [32:28<41:41,  1.11it/s]"
     ]
    },
    {
     "name": "stdout",
     "output_type": "stream",
     "text": [
      "{'loss': 2.2977, 'grad_norm': 24.023115158081055, 'learning_rate': 1.3850000000000001e-05, 'epoch': 30.75}\n"
     ]
    },
    {
     "name": "stderr",
     "output_type": "stream",
     "text": [
      " 31%|███       | 1240/4000 [32:37<30:32,  1.51it/s]"
     ]
    },
    {
     "name": "stdout",
     "output_type": "stream",
     "text": [
      "{'loss': 2.2265, 'grad_norm': 73.59505462646484, 'learning_rate': 1.38e-05, 'epoch': 31.0}\n"
     ]
    },
    {
     "name": "stderr",
     "output_type": "stream",
     "text": [
      "\n",
      "  0%|          | 0/79 [00:00<?, ?it/s]\u001b[A\n",
      "  3%|▎         | 2/79 [00:00<00:13,  5.88it/s]\u001b[A\n",
      "  4%|▍         | 3/79 [00:00<00:19,  4.00it/s]\u001b[A\n",
      "  5%|▌         | 4/79 [00:01<00:21,  3.49it/s]\u001b[A\n",
      "  6%|▋         | 5/79 [00:01<00:22,  3.24it/s]\u001b[A\n",
      "  8%|▊         | 6/79 [00:01<00:23,  3.09it/s]\u001b[A\n",
      "  9%|▉         | 7/79 [00:02<00:23,  3.00it/s]\u001b[A\n",
      " 10%|█         | 8/79 [00:02<00:23,  2.96it/s]\u001b[A\n",
      " 11%|█▏        | 9/79 [00:02<00:24,  2.92it/s]\u001b[A\n",
      " 13%|█▎        | 10/79 [00:03<00:23,  2.89it/s]\u001b[A\n",
      " 14%|█▍        | 11/79 [00:03<00:23,  2.87it/s]\u001b[A\n",
      " 15%|█▌        | 12/79 [00:03<00:23,  2.86it/s]\u001b[A\n",
      " 16%|█▋        | 13/79 [00:04<00:23,  2.86it/s]\u001b[A\n",
      " 18%|█▊        | 14/79 [00:04<00:22,  2.85it/s]\u001b[A\n",
      " 19%|█▉        | 15/79 [00:04<00:22,  2.83it/s]\u001b[A\n",
      " 20%|██        | 16/79 [00:05<00:22,  2.83it/s]\u001b[A\n",
      " 22%|██▏       | 17/79 [00:05<00:21,  2.84it/s]\u001b[A\n",
      " 23%|██▎       | 18/79 [00:05<00:21,  2.85it/s]\u001b[A\n",
      " 24%|██▍       | 19/79 [00:06<00:21,  2.84it/s]\u001b[A\n",
      " 25%|██▌       | 20/79 [00:06<00:20,  2.84it/s]\u001b[A\n",
      " 27%|██▋       | 21/79 [00:07<00:20,  2.84it/s]\u001b[A\n",
      " 28%|██▊       | 22/79 [00:07<00:20,  2.83it/s]\u001b[A\n",
      " 29%|██▉       | 23/79 [00:07<00:19,  2.83it/s]\u001b[A\n",
      " 30%|███       | 24/79 [00:08<00:19,  2.83it/s]\u001b[A\n",
      " 32%|███▏      | 25/79 [00:08<00:19,  2.83it/s]\u001b[A\n",
      " 33%|███▎      | 26/79 [00:08<00:18,  2.83it/s]\u001b[A\n",
      " 34%|███▍      | 27/79 [00:09<00:18,  2.84it/s]\u001b[A\n",
      " 35%|███▌      | 28/79 [00:09<00:17,  2.84it/s]\u001b[A\n",
      " 37%|███▋      | 29/79 [00:09<00:17,  2.83it/s]\u001b[A\n",
      " 38%|███▊      | 30/79 [00:10<00:17,  2.83it/s]\u001b[A\n",
      " 39%|███▉      | 31/79 [00:10<00:16,  2.84it/s]\u001b[A\n",
      " 41%|████      | 32/79 [00:10<00:16,  2.84it/s]\u001b[A\n",
      " 42%|████▏     | 33/79 [00:11<00:16,  2.84it/s]\u001b[A\n",
      " 43%|████▎     | 34/79 [00:11<00:15,  2.83it/s]\u001b[A\n",
      " 44%|████▍     | 35/79 [00:11<00:15,  2.83it/s]\u001b[A\n",
      " 46%|████▌     | 36/79 [00:12<00:15,  2.83it/s]\u001b[A\n",
      " 47%|████▋     | 37/79 [00:12<00:14,  2.83it/s]\u001b[A\n",
      " 48%|████▊     | 38/79 [00:13<00:14,  2.83it/s]\u001b[A\n",
      " 49%|████▉     | 39/79 [00:13<00:14,  2.83it/s]\u001b[A\n",
      " 51%|█████     | 40/79 [00:13<00:13,  2.83it/s]\u001b[A\n",
      " 52%|█████▏    | 41/79 [00:14<00:13,  2.84it/s]\u001b[A\n",
      " 53%|█████▎    | 42/79 [00:14<00:13,  2.84it/s]\u001b[A\n",
      " 54%|█████▍    | 43/79 [00:14<00:12,  2.83it/s]\u001b[A\n",
      " 56%|█████▌    | 44/79 [00:15<00:12,  2.83it/s]\u001b[A\n",
      " 57%|█████▋    | 45/79 [00:15<00:12,  2.83it/s]\u001b[A\n",
      " 58%|█████▊    | 46/79 [00:15<00:11,  2.82it/s]\u001b[A\n",
      " 59%|█████▉    | 47/79 [00:16<00:11,  2.82it/s]\u001b[A\n",
      " 61%|██████    | 48/79 [00:16<00:11,  2.82it/s]\u001b[A\n",
      " 62%|██████▏   | 49/79 [00:16<00:10,  2.82it/s]\u001b[A\n",
      " 63%|██████▎   | 50/79 [00:17<00:10,  2.82it/s]\u001b[A\n",
      " 65%|██████▍   | 51/79 [00:17<00:09,  2.82it/s]\u001b[A\n",
      " 66%|██████▌   | 52/79 [00:17<00:09,  2.82it/s]\u001b[A\n",
      " 67%|██████▋   | 53/79 [00:18<00:09,  2.83it/s]\u001b[A\n",
      " 68%|██████▊   | 54/79 [00:18<00:08,  2.83it/s]\u001b[A\n",
      " 70%|██████▉   | 55/79 [00:19<00:08,  2.82it/s]\u001b[A\n",
      " 71%|███████   | 56/79 [00:19<00:08,  2.83it/s]\u001b[A\n",
      " 72%|███████▏  | 57/79 [00:19<00:07,  2.82it/s]\u001b[A\n",
      " 73%|███████▎  | 58/79 [00:20<00:07,  2.82it/s]\u001b[A\n",
      " 75%|███████▍  | 59/79 [00:20<00:07,  2.82it/s]\u001b[A\n",
      " 76%|███████▌  | 60/79 [00:20<00:06,  2.80it/s]\u001b[A\n",
      " 77%|███████▋  | 61/79 [00:21<00:06,  2.82it/s]\u001b[A\n",
      " 78%|███████▊  | 62/79 [00:21<00:06,  2.81it/s]\u001b[A\n",
      " 80%|███████▉  | 63/79 [00:21<00:05,  2.82it/s]\u001b[A\n",
      " 81%|████████  | 64/79 [00:22<00:05,  2.82it/s]\u001b[A\n",
      " 82%|████████▏ | 65/79 [00:22<00:04,  2.83it/s]\u001b[A\n",
      " 84%|████████▎ | 66/79 [00:22<00:04,  2.83it/s]\u001b[A\n",
      " 85%|████████▍ | 67/79 [00:23<00:04,  2.82it/s]\u001b[A\n",
      " 86%|████████▌ | 68/79 [00:23<00:03,  2.82it/s]\u001b[A\n",
      " 87%|████████▋ | 69/79 [00:24<00:03,  2.83it/s]\u001b[A\n",
      " 89%|████████▊ | 70/79 [00:24<00:03,  2.82it/s]\u001b[A\n",
      " 90%|████████▉ | 71/79 [00:24<00:02,  2.82it/s]\u001b[A\n",
      " 91%|█████████ | 72/79 [00:25<00:02,  2.82it/s]\u001b[A\n",
      " 92%|█████████▏| 73/79 [00:25<00:02,  2.82it/s]\u001b[A\n",
      " 94%|█████████▎| 74/79 [00:25<00:01,  2.82it/s]\u001b[A\n",
      " 95%|█████████▍| 75/79 [00:26<00:01,  2.82it/s]\u001b[A\n",
      " 96%|█████████▌| 76/79 [00:26<00:01,  2.82it/s]\u001b[A\n",
      " 97%|█████████▋| 77/79 [00:26<00:00,  2.83it/s]\u001b[A\n",
      "                                                   \n",
      " 31%|███       | 1240/4000 [33:04<30:32,  1.51it/s]\n",
      "100%|██████████| 79/79 [00:27<00:00,  2.88it/s]\u001b[A\n",
      "                                               \u001b[A"
     ]
    },
    {
     "name": "stdout",
     "output_type": "stream",
     "text": [
      "{'eval_loss': 3.4869956970214844, 'eval_accuracy': 0.1928, 'eval_runtime': 27.6711, 'eval_samples_per_second': 361.387, 'eval_steps_per_second': 2.855, 'epoch': 31.0}\n"
     ]
    },
    {
     "name": "stderr",
     "output_type": "stream",
     "text": [
      " 31%|███▏      | 1250/4000 [33:15<57:20,  1.25s/it]  "
     ]
    },
    {
     "name": "stdout",
     "output_type": "stream",
     "text": [
      "{'loss': 2.25, 'grad_norm': 24.765535354614258, 'learning_rate': 1.375e-05, 'epoch': 31.25}\n"
     ]
    },
    {
     "name": "stderr",
     "output_type": "stream",
     "text": [
      " 32%|███▏      | 1260/4000 [33:24<41:39,  1.10it/s]"
     ]
    },
    {
     "name": "stdout",
     "output_type": "stream",
     "text": [
      "{'loss': 2.2187, 'grad_norm': 22.72572898864746, 'learning_rate': 1.3700000000000003e-05, 'epoch': 31.5}\n"
     ]
    },
    {
     "name": "stderr",
     "output_type": "stream",
     "text": [
      " 32%|███▏      | 1270/4000 [33:33<41:13,  1.10it/s]"
     ]
    },
    {
     "name": "stdout",
     "output_type": "stream",
     "text": [
      "{'loss': 2.2415, 'grad_norm': 26.8564395904541, 'learning_rate': 1.3650000000000001e-05, 'epoch': 31.75}\n"
     ]
    },
    {
     "name": "stderr",
     "output_type": "stream",
     "text": [
      " 32%|███▏      | 1280/4000 [33:41<30:11,  1.50it/s]"
     ]
    },
    {
     "name": "stdout",
     "output_type": "stream",
     "text": [
      "{'loss': 2.1718, 'grad_norm': 75.02355194091797, 'learning_rate': 1.3600000000000002e-05, 'epoch': 32.0}\n"
     ]
    },
    {
     "name": "stderr",
     "output_type": "stream",
     "text": [
      "\n",
      "  0%|          | 0/79 [00:00<?, ?it/s]\u001b[A\n",
      "  3%|▎         | 2/79 [00:00<00:13,  5.83it/s]\u001b[A\n",
      "  4%|▍         | 3/79 [00:00<00:19,  3.96it/s]\u001b[A\n",
      "  5%|▌         | 4/79 [00:01<00:21,  3.47it/s]\u001b[A\n",
      "  6%|▋         | 5/79 [00:01<00:22,  3.25it/s]\u001b[A\n",
      "  8%|▊         | 6/79 [00:01<00:23,  3.12it/s]\u001b[A\n",
      "  9%|▉         | 7/79 [00:02<00:23,  3.02it/s]\u001b[A\n",
      " 10%|█         | 8/79 [00:02<00:23,  2.97it/s]\u001b[A\n",
      " 11%|█▏        | 9/79 [00:02<00:23,  2.94it/s]\u001b[A\n",
      " 13%|█▎        | 10/79 [00:03<00:23,  2.93it/s]\u001b[A\n",
      " 14%|█▍        | 11/79 [00:03<00:23,  2.92it/s]\u001b[A\n",
      " 15%|█▌        | 12/79 [00:03<00:23,  2.90it/s]\u001b[A\n",
      " 16%|█▋        | 13/79 [00:04<00:22,  2.89it/s]\u001b[A\n",
      " 18%|█▊        | 14/79 [00:04<00:22,  2.88it/s]\u001b[A\n",
      " 19%|█▉        | 15/79 [00:04<00:22,  2.88it/s]\u001b[A\n",
      " 20%|██        | 16/79 [00:05<00:21,  2.89it/s]\u001b[A\n",
      " 22%|██▏       | 17/79 [00:05<00:21,  2.89it/s]\u001b[A\n",
      " 23%|██▎       | 18/79 [00:05<00:21,  2.89it/s]\u001b[A\n",
      " 24%|██▍       | 19/79 [00:06<00:20,  2.87it/s]\u001b[A\n",
      " 25%|██▌       | 20/79 [00:06<00:20,  2.87it/s]\u001b[A\n",
      " 27%|██▋       | 21/79 [00:06<00:20,  2.87it/s]\u001b[A\n",
      " 28%|██▊       | 22/79 [00:07<00:19,  2.88it/s]\u001b[A\n",
      " 29%|██▉       | 23/79 [00:07<00:19,  2.89it/s]\u001b[A\n",
      " 30%|███       | 24/79 [00:08<00:19,  2.88it/s]\u001b[A\n",
      " 32%|███▏      | 25/79 [00:08<00:18,  2.89it/s]\u001b[A\n",
      " 33%|███▎      | 26/79 [00:08<00:18,  2.88it/s]\u001b[A\n",
      " 34%|███▍      | 27/79 [00:09<00:18,  2.87it/s]\u001b[A\n",
      " 35%|███▌      | 28/79 [00:09<00:17,  2.87it/s]\u001b[A\n",
      " 37%|███▋      | 29/79 [00:09<00:17,  2.88it/s]\u001b[A\n",
      " 38%|███▊      | 30/79 [00:10<00:17,  2.87it/s]\u001b[A\n",
      " 39%|███▉      | 31/79 [00:10<00:16,  2.87it/s]\u001b[A\n",
      " 41%|████      | 32/79 [00:10<00:16,  2.86it/s]\u001b[A\n",
      " 42%|████▏     | 33/79 [00:11<00:16,  2.87it/s]\u001b[A\n",
      " 43%|████▎     | 34/79 [00:11<00:15,  2.88it/s]\u001b[A\n",
      " 44%|████▍     | 35/79 [00:11<00:15,  2.89it/s]\u001b[A\n",
      " 46%|████▌     | 36/79 [00:12<00:14,  2.89it/s]\u001b[A\n",
      " 47%|████▋     | 37/79 [00:12<00:14,  2.90it/s]\u001b[A\n",
      " 48%|████▊     | 38/79 [00:12<00:14,  2.89it/s]\u001b[A\n",
      " 49%|████▉     | 39/79 [00:13<00:13,  2.89it/s]\u001b[A\n",
      " 51%|█████     | 40/79 [00:13<00:13,  2.87it/s]\u001b[A\n",
      " 52%|█████▏    | 41/79 [00:13<00:13,  2.87it/s]\u001b[A\n",
      " 53%|█████▎    | 42/79 [00:14<00:12,  2.89it/s]\u001b[A\n",
      " 54%|█████▍    | 43/79 [00:14<00:12,  2.88it/s]\u001b[A\n",
      " 56%|█████▌    | 44/79 [00:14<00:12,  2.87it/s]\u001b[A\n",
      " 57%|█████▋    | 45/79 [00:15<00:11,  2.86it/s]\u001b[A\n",
      " 58%|█████▊    | 46/79 [00:15<00:11,  2.87it/s]\u001b[A\n",
      " 59%|█████▉    | 47/79 [00:16<00:11,  2.86it/s]\u001b[A\n",
      " 61%|██████    | 48/79 [00:16<00:10,  2.85it/s]\u001b[A\n",
      " 62%|██████▏   | 49/79 [00:16<00:10,  2.85it/s]\u001b[A\n",
      " 63%|██████▎   | 50/79 [00:17<00:10,  2.84it/s]\u001b[A\n",
      " 65%|██████▍   | 51/79 [00:17<00:09,  2.84it/s]\u001b[A\n",
      " 66%|██████▌   | 52/79 [00:17<00:09,  2.84it/s]\u001b[A\n",
      " 67%|██████▋   | 53/79 [00:18<00:09,  2.84it/s]\u001b[A\n",
      " 68%|██████▊   | 54/79 [00:18<00:08,  2.84it/s]\u001b[A\n",
      " 70%|██████▉   | 55/79 [00:18<00:08,  2.84it/s]\u001b[A\n",
      " 71%|███████   | 56/79 [00:19<00:08,  2.84it/s]\u001b[A\n",
      " 72%|███████▏  | 57/79 [00:19<00:07,  2.84it/s]\u001b[A\n",
      " 73%|███████▎  | 58/79 [00:19<00:07,  2.84it/s]\u001b[A\n",
      " 75%|███████▍  | 59/79 [00:20<00:07,  2.84it/s]\u001b[A\n",
      " 76%|███████▌  | 60/79 [00:20<00:06,  2.85it/s]\u001b[A\n",
      " 77%|███████▋  | 61/79 [00:20<00:06,  2.85it/s]\u001b[A\n",
      " 78%|███████▊  | 62/79 [00:21<00:05,  2.84it/s]\u001b[A\n",
      " 80%|███████▉  | 63/79 [00:21<00:05,  2.84it/s]\u001b[A\n",
      " 81%|████████  | 64/79 [00:21<00:05,  2.85it/s]\u001b[A\n",
      " 82%|████████▏ | 65/79 [00:22<00:04,  2.84it/s]\u001b[A\n",
      " 84%|████████▎ | 66/79 [00:22<00:04,  2.84it/s]\u001b[A\n",
      " 85%|████████▍ | 67/79 [00:23<00:04,  2.84it/s]\u001b[A\n",
      " 86%|████████▌ | 68/79 [00:23<00:03,  2.84it/s]\u001b[A\n",
      " 87%|████████▋ | 69/79 [00:23<00:03,  2.84it/s]\u001b[A\n",
      " 89%|████████▊ | 70/79 [00:24<00:03,  2.84it/s]\u001b[A\n",
      " 90%|████████▉ | 71/79 [00:24<00:02,  2.83it/s]\u001b[A\n",
      " 91%|█████████ | 72/79 [00:24<00:02,  2.83it/s]\u001b[A\n",
      " 92%|█████████▏| 73/79 [00:25<00:02,  2.83it/s]\u001b[A\n",
      " 94%|█████████▎| 74/79 [00:25<00:01,  2.84it/s]\u001b[A\n",
      " 95%|█████████▍| 75/79 [00:25<00:01,  2.85it/s]\u001b[A\n",
      " 96%|█████████▌| 76/79 [00:26<00:01,  2.86it/s]\u001b[A\n",
      " 97%|█████████▋| 77/79 [00:26<00:00,  2.86it/s]\u001b[A\n",
      "                                                   \n",
      " 32%|███▏      | 1280/4000 [34:08<30:11,  1.50it/s]\n",
      "100%|██████████| 79/79 [00:26<00:00,  2.92it/s]\u001b[A\n",
      "                                               \u001b[A"
     ]
    },
    {
     "name": "stdout",
     "output_type": "stream",
     "text": [
      "{'eval_loss': 3.475102424621582, 'eval_accuracy': 0.1955, 'eval_runtime': 27.3817, 'eval_samples_per_second': 365.207, 'eval_steps_per_second': 2.885, 'epoch': 32.0}\n"
     ]
    },
    {
     "name": "stderr",
     "output_type": "stream",
     "text": [
      " 32%|███▏      | 1290/4000 [34:19<56:25,  1.25s/it]  "
     ]
    },
    {
     "name": "stdout",
     "output_type": "stream",
     "text": [
      "{'loss': 2.1327, 'grad_norm': 28.132129669189453, 'learning_rate': 1.355e-05, 'epoch': 32.25}\n"
     ]
    },
    {
     "name": "stderr",
     "output_type": "stream",
     "text": [
      " 32%|███▎      | 1300/4000 [34:28<41:25,  1.09it/s]"
     ]
    },
    {
     "name": "stdout",
     "output_type": "stream",
     "text": [
      "{'loss': 2.1357, 'grad_norm': 25.23381233215332, 'learning_rate': 1.3500000000000001e-05, 'epoch': 32.5}\n"
     ]
    },
    {
     "name": "stderr",
     "output_type": "stream",
     "text": [
      " 33%|███▎      | 1301/4000 [34:29<41:17,  1.09it/s]\n",
      " 71%|███████   | 56/79 [00:19<00:08,  2.82it/s]\u001b[A\n",
      " 72%|███████▏  | 57/79 [00:19<00:07,  2.82it/s]\u001b[A\n",
      " 73%|███████▎  | 58/79 [00:20<00:07,  2.82it/s]\u001b[A\n",
      " 75%|███████▍  | 59/79 [00:20<00:07,  2.83it/s]\u001b[A\n",
      " 76%|███████▌  | 60/79 [00:20<00:06,  2.82it/s]\u001b[A\n",
      " 77%|███████▋  | 61/79 [00:21<00:06,  2.83it/s]\u001b[A\n",
      " 78%|███████▊  | 62/79 [00:21<00:06,  2.82it/s]\u001b[A\n",
      " 80%|███████▉  | 63/79 [00:21<00:05,  2.83it/s]\u001b[A\n",
      " 81%|████████  | 64/79 [00:22<00:05,  2.83it/s]\u001b[A\n",
      " 82%|████████▏ | 65/79 [00:22<00:04,  2.83it/s]\u001b[A\n",
      " 84%|████████▎ | 66/79 [00:23<00:04,  2.83it/s]\u001b[A\n",
      " 85%|████████▍ | 67/79 [00:23<00:04,  2.84it/s]\u001b[A\n",
      " 86%|████████▌ | 68/79 [00:23<00:03,  2.84it/s]\u001b[A\n",
      " 87%|████████▋ | 69/79 [00:24<00:03,  2.85it/s]\u001b[A\n",
      " 89%|████████▊ | 70/79 [00:24<00:03,  2.85it/s]\u001b[A\n",
      " 90%|████████▉ | 71/79 [00:24<00:02,  2.85it/s]\u001b[A\n",
      " 91%|█████████ | 72/79 [00:25<00:02,  2.85it/s]\u001b[A\n",
      " 92%|█████████▏| 73/79 [00:25<00:02,  2.87it/s]\u001b[A\n",
      " 94%|█████████▎| 74/79 [00:25<00:01,  2.86it/s]\u001b[A\n",
      " 95%|█████████▍| 75/79 [00:26<00:01,  2.86it/s]\u001b[A\n",
      " 96%|█████████▌| 76/79 [00:26<00:01,  2.86it/s]\u001b[A\n",
      " 97%|█████████▋| 77/79 [00:26<00:00,  2.86it/s]\u001b[A\n",
      "                                                   \n",
      " 38%|███▊      | 1520/4000 [40:34<27:34,  1.50it/s]\n",
      "100%|██████████| 79/79 [00:27<00:00,  2.92it/s]\u001b[A\n",
      "                                               \u001b[A"
     ]
    },
    {
     "name": "stdout",
     "output_type": "stream",
     "text": [
      "{'eval_loss': 3.461761713027954, 'eval_accuracy': 0.1996, 'eval_runtime': 27.6832, 'eval_samples_per_second': 361.23, 'eval_steps_per_second': 2.854, 'epoch': 38.0}\n"
     ]
    },
    {
     "name": "stderr",
     "output_type": "stream",
     "text": [
      " 38%|███▊      | 1530/4000 [40:45<51:17,  1.25s/it]  "
     ]
    },
    {
     "name": "stdout",
     "output_type": "stream",
     "text": [
      "{'loss': 1.8404, 'grad_norm': 28.878326416015625, 'learning_rate': 1.2350000000000002e-05, 'epoch': 38.25}\n"
     ]
    },
    {
     "name": "stderr",
     "output_type": "stream",
     "text": [
      " 38%|███▊      | 1540/4000 [40:54<37:33,  1.09it/s]"
     ]
    },
    {
     "name": "stdout",
     "output_type": "stream",
     "text": [
      "{'loss': 1.8633, 'grad_norm': 27.927915573120117, 'learning_rate': 1.23e-05, 'epoch': 38.5}\n"
     ]
    },
    {
     "name": "stderr",
     "output_type": "stream",
     "text": [
      " 39%|███▉      | 1550/4000 [41:03<37:14,  1.10it/s]"
     ]
    },
    {
     "name": "stdout",
     "output_type": "stream",
     "text": [
      "{'loss': 1.8923, 'grad_norm': 26.427783966064453, 'learning_rate': 1.2250000000000001e-05, 'epoch': 38.75}\n"
     ]
    },
    {
     "name": "stderr",
     "output_type": "stream",
     "text": [
      " 39%|███▉      | 1560/4000 [41:11<27:10,  1.50it/s]"
     ]
    },
    {
     "name": "stdout",
     "output_type": "stream",
     "text": [
      "{'loss': 1.8789, 'grad_norm': 82.24520111083984, 'learning_rate': 1.22e-05, 'epoch': 39.0}\n"
     ]
    },
    {
     "name": "stderr",
     "output_type": "stream",
     "text": [
      "\n",
      "  0%|          | 0/79 [00:00<?, ?it/s]\u001b[A\n",
      "  3%|▎         | 2/79 [00:00<00:13,  5.78it/s]\u001b[A\n",
      "  4%|▍         | 3/79 [00:00<00:19,  3.93it/s]\u001b[A\n",
      "  5%|▌         | 4/79 [00:01<00:21,  3.43it/s]\u001b[A\n",
      "  6%|▋         | 5/79 [00:01<00:23,  3.21it/s]\u001b[A\n",
      "  8%|▊         | 6/79 [00:01<00:23,  3.06it/s]\u001b[A\n",
      "  9%|▉         | 7/79 [00:02<00:24,  2.97it/s]\u001b[A\n",
      " 10%|█         | 8/79 [00:02<00:24,  2.92it/s]\u001b[A\n",
      " 11%|█▏        | 9/79 [00:02<00:24,  2.90it/s]\u001b[A\n",
      " 13%|█▎        | 10/79 [00:03<00:24,  2.87it/s]\u001b[A\n",
      " 14%|█▍        | 11/79 [00:03<00:23,  2.86it/s]\u001b[A\n",
      " 15%|█▌        | 12/79 [00:03<00:23,  2.85it/s]\u001b[A\n",
      " 16%|█▋        | 13/79 [00:04<00:23,  2.84it/s]\u001b[A\n",
      " 18%|█▊        | 14/79 [00:04<00:22,  2.83it/s]\u001b[A\n",
      " 19%|█▉        | 15/79 [00:04<00:22,  2.83it/s]\u001b[A\n",
      " 20%|██        | 16/79 [00:05<00:22,  2.83it/s]\u001b[A\n",
      " 22%|██▏       | 17/79 [00:05<00:21,  2.83it/s]\u001b[A\n",
      " 23%|██▎       | 18/79 [00:06<00:21,  2.83it/s]\u001b[A\n",
      " 24%|██▍       | 19/79 [00:06<00:21,  2.83it/s]\u001b[A\n",
      " 25%|██▌       | 20/79 [00:06<00:20,  2.83it/s]\u001b[A\n",
      " 27%|██▋       | 21/79 [00:07<00:20,  2.84it/s]\u001b[A\n",
      " 28%|██▊       | 22/79 [00:07<00:19,  2.85it/s]\u001b[A\n",
      " 29%|██▉       | 23/79 [00:07<00:19,  2.85it/s]\u001b[A\n",
      " 30%|███       | 24/79 [00:08<00:19,  2.85it/s]\u001b[A\n",
      " 32%|███▏      | 25/79 [00:08<00:18,  2.86it/s]\u001b[A\n",
      " 33%|███▎      | 26/79 [00:08<00:18,  2.87it/s]\u001b[A\n",
      " 34%|███▍      | 27/79 [00:09<00:18,  2.86it/s]\u001b[A\n",
      " 35%|███▌      | 28/79 [00:09<00:17,  2.86it/s]\u001b[A\n",
      " 37%|███▋      | 29/79 [00:09<00:17,  2.86it/s]\u001b[A\n",
      " 38%|███▊      | 30/79 [00:10<00:17,  2.86it/s]\u001b[A\n",
      " 39%|███▉      | 31/79 [00:10<00:16,  2.86it/s]\u001b[A\n",
      " 41%|████      | 32/79 [00:10<00:16,  2.86it/s]\u001b[A\n",
      " 42%|████▏     | 33/79 [00:11<00:15,  2.88it/s]\u001b[A\n",
      " 43%|████▎     | 34/79 [00:11<00:15,  2.88it/s]\u001b[A\n",
      " 44%|████▍     | 35/79 [00:11<00:15,  2.88it/s]\u001b[A\n",
      " 46%|████▌     | 36/79 [00:12<00:14,  2.87it/s]\u001b[A\n",
      " 47%|████▋     | 37/79 [00:12<00:14,  2.86it/s]\u001b[A\n",
      " 48%|████▊     | 38/79 [00:13<00:14,  2.87it/s]\u001b[A\n",
      " 49%|████▉     | 39/79 [00:13<00:13,  2.88it/s]\u001b[A\n",
      " 51%|█████     | 40/79 [00:13<00:13,  2.86it/s]\u001b[A\n",
      " 52%|█████▏    | 41/79 [00:14<00:13,  2.86it/s]\u001b[A\n",
      " 53%|█████▎    | 42/79 [00:14<00:12,  2.87it/s]\u001b[A\n",
      " 54%|█████▍    | 43/79 [00:14<00:12,  2.86it/s]\u001b[A\n",
      " 56%|█████▌    | 44/79 [00:15<00:12,  2.85it/s]\u001b[A\n",
      " 57%|█████▋    | 45/79 [00:15<00:11,  2.86it/s]\u001b[A\n",
      " 58%|█████▊    | 46/79 [00:15<00:11,  2.85it/s]\u001b[A\n",
      " 59%|█████▉    | 47/79 [00:16<00:11,  2.85it/s]\u001b[A\n",
      " 61%|██████    | 48/79 [00:16<00:10,  2.86it/s]\u001b[A\n",
      " 62%|██████▏   | 49/79 [00:16<00:10,  2.87it/s]\u001b[A\n",
      " 63%|██████▎   | 50/79 [00:17<00:10,  2.85it/s]\u001b[A\n",
      " 65%|██████▍   | 51/79 [00:17<00:09,  2.86it/s]\u001b[A\n",
      " 66%|██████▌   | 52/79 [00:17<00:09,  2.86it/s]\u001b[A\n",
      " 67%|██████▋   | 53/79 [00:18<00:09,  2.85it/s]\u001b[A\n",
      " 68%|██████▊   | 54/79 [00:18<00:08,  2.85it/s]\u001b[A\n",
      " 70%|██████▉   | 55/79 [00:18<00:08,  2.85it/s]\u001b[A\n",
      " 71%|███████   | 56/79 [00:19<00:08,  2.85it/s]\u001b[A\n",
      " 72%|███████▏  | 57/79 [00:19<00:07,  2.85it/s]\u001b[A\n",
      " 73%|███████▎  | 58/79 [00:20<00:07,  2.86it/s]\u001b[A\n",
      " 75%|███████▍  | 59/79 [00:20<00:07,  2.85it/s]\u001b[A\n",
      " 76%|███████▌  | 60/79 [00:20<00:06,  2.84it/s]\u001b[A\n",
      " 77%|███████▋  | 61/79 [00:21<00:06,  2.84it/s]\u001b[A\n",
      " 78%|███████▊  | 62/79 [00:21<00:05,  2.84it/s]\u001b[A\n",
      " 80%|███████▉  | 63/79 [00:21<00:05,  2.83it/s]\u001b[A\n",
      " 81%|████████  | 64/79 [00:22<00:05,  2.83it/s]\u001b[A\n",
      " 82%|████████▏ | 65/79 [00:22<00:04,  2.83it/s]\u001b[A\n",
      " 84%|████████▎ | 66/79 [00:22<00:04,  2.83it/s]\u001b[A\n",
      " 85%|████████▍ | 67/79 [00:23<00:04,  2.84it/s]\u001b[A\n",
      " 86%|████████▌ | 68/79 [00:23<00:03,  2.84it/s]\u001b[A\n",
      " 87%|████████▋ | 69/79 [00:23<00:03,  2.84it/s]\u001b[A\n",
      " 89%|████████▊ | 70/79 [00:24<00:03,  2.85it/s]\u001b[A\n",
      " 90%|████████▉ | 71/79 [00:24<00:02,  2.84it/s]\u001b[A\n",
      " 91%|█████████ | 72/79 [00:24<00:02,  2.84it/s]\u001b[A\n",
      " 92%|█████████▏| 73/79 [00:25<00:02,  2.84it/s]\u001b[A\n",
      " 94%|█████████▎| 74/79 [00:25<00:01,  2.83it/s]\u001b[A\n",
      " 95%|█████████▍| 75/79 [00:26<00:01,  2.83it/s]\u001b[A\n",
      " 96%|█████████▌| 76/79 [00:26<00:01,  2.83it/s]\u001b[A\n",
      " 97%|█████████▋| 77/79 [00:26<00:00,  2.83it/s]\u001b[A\n",
      "                                                   \n",
      " 39%|███▉      | 1560/4000 [41:39<27:10,  1.50it/s]\n",
      "100%|██████████| 79/79 [00:27<00:00,  2.88it/s]\u001b[A\n",
      "                                               \u001b[A"
     ]
    },
    {
     "name": "stdout",
     "output_type": "stream",
     "text": [
      "{'eval_loss': 3.461604356765747, 'eval_accuracy': 0.2048, 'eval_runtime': 27.5326, 'eval_samples_per_second': 363.206, 'eval_steps_per_second': 2.869, 'epoch': 39.0}\n"
     ]
    },
    {
     "name": "stderr",
     "output_type": "stream",
     "text": [
      " 39%|███▉      | 1570/4000 [41:49<50:36,  1.25s/it]  "
     ]
    },
    {
     "name": "stdout",
     "output_type": "stream",
     "text": [
      "{'loss': 1.7705, 'grad_norm': 30.35426139831543, 'learning_rate': 1.2150000000000002e-05, 'epoch': 39.25}\n"
     ]
    },
    {
     "name": "stderr",
     "output_type": "stream",
     "text": [
      " 40%|███▉      | 1580/4000 [41:58<37:12,  1.08it/s]"
     ]
    },
    {
     "name": "stdout",
     "output_type": "stream",
     "text": [
      "{'loss': 1.824, 'grad_norm': 29.006614685058594, 'learning_rate': 1.2100000000000001e-05, 'epoch': 39.5}\n"
     ]
    },
    {
     "name": "stderr",
     "output_type": "stream",
     "text": [
      " 40%|███▉      | 1590/4000 [42:07<36:28,  1.10it/s]"
     ]
    },
    {
     "name": "stdout",
     "output_type": "stream",
     "text": [
      "{'loss': 1.8552, 'grad_norm': 26.47679901123047, 'learning_rate': 1.2050000000000002e-05, 'epoch': 39.75}\n"
     ]
    },
    {
     "name": "stderr",
     "output_type": "stream",
     "text": [
      " 40%|████      | 1600/4000 [42:15<26:41,  1.50it/s]"
     ]
    },
    {
     "name": "stdout",
     "output_type": "stream",
     "text": [
      "{'loss': 1.818, 'grad_norm': 104.86583709716797, 'learning_rate': 1.2e-05, 'epoch': 40.0}\n"
     ]
    },
    {
     "name": "stderr",
     "output_type": "stream",
     "text": [
      "\n",
      "  0%|          | 0/79 [00:00<?, ?it/s]\u001b[A\n",
      "  3%|▎         | 2/79 [00:00<00:13,  5.80it/s]\u001b[A\n",
      "  4%|▍         | 3/79 [00:00<00:19,  3.98it/s]\u001b[A\n",
      "  5%|▌         | 4/79 [00:01<00:21,  3.47it/s]\u001b[A\n",
      "  6%|▋         | 5/79 [00:01<00:23,  3.22it/s]\u001b[A\n",
      "  8%|▊         | 6/79 [00:01<00:23,  3.07it/s]\u001b[A\n",
      "  9%|▉         | 7/79 [00:02<00:24,  2.97it/s]\u001b[A\n",
      " 10%|█         | 8/79 [00:02<00:24,  2.93it/s]\u001b[A\n",
      " 11%|█▏        | 9/79 [00:02<00:24,  2.90it/s]\u001b[A\n",
      " 13%|█▎        | 10/79 [00:03<00:24,  2.86it/s]\u001b[A\n",
      " 14%|█▍        | 11/79 [00:03<00:23,  2.85it/s]\u001b[A\n",
      " 15%|█▌        | 12/79 [00:03<00:23,  2.84it/s]\u001b[A\n",
      " 16%|█▋        | 13/79 [00:04<00:23,  2.84it/s]\u001b[A\n",
      " 18%|█▊        | 14/79 [00:04<00:22,  2.83it/s]\u001b[A\n",
      " 19%|█▉        | 15/79 [00:04<00:22,  2.83it/s]\u001b[A\n",
      " 20%|██        | 16/79 [00:05<00:22,  2.83it/s]\u001b[A\n",
      " 22%|██▏       | 17/79 [00:05<00:21,  2.83it/s]\u001b[A\n",
      " 23%|██▎       | 18/79 [00:06<00:21,  2.82it/s]\u001b[A\n",
      " 24%|██▍       | 19/79 [00:06<00:21,  2.83it/s]\u001b[A\n",
      " 25%|██▌       | 20/79 [00:06<00:20,  2.83it/s]\u001b[A\n",
      " 27%|██▋       | 21/79 [00:07<00:20,  2.83it/s]\u001b[A\n",
      " 28%|██▊       | 22/79 [00:07<00:20,  2.82it/s]\u001b[A\n",
      " 29%|██▉       | 23/79 [00:07<00:19,  2.82it/s]\u001b[A\n",
      " 30%|███       | 24/79 [00:08<00:19,  2.82it/s]\u001b[A\n",
      " 32%|███▏      | 25/79 [00:08<00:19,  2.82it/s]\u001b[A\n",
      " 33%|███▎      | 26/79 [00:08<00:18,  2.82it/s]\u001b[A\n",
      " 34%|███▍      | 27/79 [00:09<00:18,  2.82it/s]\u001b[A\n",
      " 35%|███▌      | 28/79 [00:09<00:18,  2.83it/s]\u001b[A\n",
      " 37%|███▋      | 29/79 [00:09<00:17,  2.82it/s]\u001b[A\n",
      " 38%|███▊      | 30/79 [00:10<00:17,  2.82it/s]\u001b[A\n",
      " 39%|███▉      | 31/79 [00:10<00:16,  2.82it/s]\u001b[A\n",
      " 41%|████      | 32/79 [00:10<00:16,  2.82it/s]\u001b[A\n",
      " 42%|████▏     | 33/79 [00:11<00:16,  2.82it/s]\u001b[A\n",
      " 43%|████▎     | 34/79 [00:11<00:15,  2.82it/s]\u001b[A\n",
      " 44%|████▍     | 35/79 [00:12<00:15,  2.83it/s]\u001b[A\n",
      " 46%|████▌     | 36/79 [00:12<00:15,  2.82it/s]\u001b[A\n",
      " 47%|████▋     | 37/79 [00:12<00:14,  2.82it/s]\u001b[A\n",
      " 48%|████▊     | 38/79 [00:13<00:14,  2.82it/s]\u001b[A\n",
      " 49%|████▉     | 39/79 [00:13<00:14,  2.82it/s]\u001b[A\n",
      " 51%|█████     | 40/79 [00:13<00:13,  2.82it/s]\u001b[A\n",
      " 52%|█████▏    | 41/79 [00:14<00:13,  2.82it/s]\u001b[A\n",
      " 53%|█████▎    | 42/79 [00:14<00:13,  2.82it/s]\u001b[A\n",
      " 54%|█████▍    | 43/79 [00:14<00:12,  2.82it/s]\u001b[A\n",
      " 56%|█████▌    | 44/79 [00:15<00:12,  2.82it/s]\u001b[A\n",
      " 57%|█████▋    | 45/79 [00:15<00:12,  2.82it/s]\u001b[A\n",
      " 58%|█████▊    | 46/79 [00:15<00:11,  2.82it/s]\u001b[A\n",
      " 59%|█████▉    | 47/79 [00:16<00:11,  2.82it/s]\u001b[A\n",
      " 61%|██████    | 48/79 [00:16<00:10,  2.83it/s]\u001b[A\n",
      " 62%|██████▏   | 49/79 [00:17<00:10,  2.83it/s]\u001b[A\n",
      " 63%|██████▎   | 50/79 [00:17<00:10,  2.82it/s]\u001b[A\n",
      " 65%|██████▍   | 51/79 [00:17<00:09,  2.82it/s]\u001b[A\n",
      " 66%|██████▌   | 52/79 [00:18<00:09,  2.82it/s]\u001b[A\n",
      " 67%|██████▋   | 53/79 [00:18<00:09,  2.82it/s]\u001b[A\n",
      " 68%|██████▊   | 54/79 [00:18<00:08,  2.82it/s]\u001b[A\n",
      " 70%|██████▉   | 55/79 [00:19<00:08,  2.83it/s]\u001b[A\n",
      " 71%|███████   | 56/79 [00:19<00:08,  2.82it/s]\u001b[A\n",
      " 72%|███████▏  | 57/79 [00:19<00:07,  2.82it/s]\u001b[A\n",
      " 73%|███████▎  | 58/79 [00:20<00:07,  2.83it/s]\u001b[A\n",
      " 75%|███████▍  | 59/79 [00:20<00:07,  2.83it/s]\u001b[A\n",
      " 76%|███████▌  | 60/79 [00:20<00:06,  2.83it/s]\u001b[A\n",
      " 77%|███████▋  | 61/79 [00:21<00:06,  2.83it/s]\u001b[A\n",
      " 78%|███████▊  | 62/79 [00:21<00:06,  2.83it/s]\u001b[A\n",
      " 80%|███████▉  | 63/79 [00:21<00:05,  2.83it/s]\u001b[A\n",
      " 81%|████████  | 64/79 [00:22<00:05,  2.83it/s]\u001b[A\n",
      " 82%|████████▏ | 65/79 [00:22<00:04,  2.84it/s]\u001b[A\n",
      " 84%|████████▎ | 66/79 [00:23<00:04,  2.83it/s]\u001b[A\n",
      " 85%|████████▍ | 67/79 [00:23<00:04,  2.85it/s]\u001b[A\n",
      " 86%|████████▌ | 68/79 [00:23<00:03,  2.84it/s]\u001b[A\n",
      " 87%|████████▋ | 69/79 [00:24<00:03,  2.84it/s]\u001b[A\n",
      " 89%|████████▊ | 70/79 [00:24<00:03,  2.85it/s]\u001b[A\n",
      " 90%|████████▉ | 71/79 [00:24<00:02,  2.84it/s]\u001b[A\n",
      " 91%|█████████ | 72/79 [00:25<00:02,  2.84it/s]\u001b[A\n",
      " 92%|█████████▏| 73/79 [00:25<00:02,  2.84it/s]\u001b[A\n",
      " 94%|█████████▎| 74/79 [00:25<00:01,  2.84it/s]\u001b[A\n",
      " 95%|█████████▍| 75/79 [00:26<00:01,  2.85it/s]\u001b[A\n",
      " 96%|█████████▌| 76/79 [00:26<00:01,  2.85it/s]\u001b[A\n",
      " 97%|█████████▋| 77/79 [00:26<00:00,  2.84it/s]\u001b[A\n",
      "                                                   \n",
      " 40%|████      | 1600/4000 [42:43<26:41,  1.50it/s]\n",
      "100%|██████████| 79/79 [00:27<00:00,  2.90it/s]\u001b[A\n",
      "                                               \u001b[A"
     ]
    },
    {
     "name": "stdout",
     "output_type": "stream",
     "text": [
      "{'eval_loss': 3.459857702255249, 'eval_accuracy': 0.2009, 'eval_runtime': 27.6929, 'eval_samples_per_second': 361.103, 'eval_steps_per_second': 2.853, 'epoch': 40.0}\n"
     ]
    },
    {
     "name": "stderr",
     "output_type": "stream",
     "text": [
      " 40%|████      | 1610/4000 [42:53<49:42,  1.25s/it]  "
     ]
    },
    {
     "name": "stdout",
     "output_type": "stream",
     "text": [
      "{'loss': 1.7908, 'grad_norm': 26.434476852416992, 'learning_rate': 1.195e-05, 'epoch': 40.25}\n"
     ]
    },
    {
     "name": "stderr",
     "output_type": "stream",
     "text": [
      " 40%|████      | 1620/4000 [43:02<36:33,  1.09it/s]"
     ]
    },
    {
     "name": "stdout",
     "output_type": "stream",
     "text": [
      "{'loss': 1.7308, 'grad_norm': 29.212989807128906, 'learning_rate': 1.1900000000000001e-05, 'epoch': 40.5}\n"
     ]
    },
    {
     "name": "stderr",
     "output_type": "stream",
     "text": [
      " 41%|████      | 1630/4000 [43:11<36:00,  1.10it/s]"
     ]
    },
    {
     "name": "stdout",
     "output_type": "stream",
     "text": [
      "{'loss': 1.7704, 'grad_norm': 28.710351943969727, 'learning_rate': 1.1850000000000002e-05, 'epoch': 40.75}\n"
     ]
    },
    {
     "name": "stderr",
     "output_type": "stream",
     "text": [
      " 41%|████      | 1640/4000 [43:20<26:08,  1.50it/s]"
     ]
    },
    {
     "name": "stdout",
     "output_type": "stream",
     "text": [
      "{'loss': 1.822, 'grad_norm': 96.08377838134766, 'learning_rate': 1.18e-05, 'epoch': 41.0}\n"
     ]
    },
    {
     "name": "stderr",
     "output_type": "stream",
     "text": [
      "\n",
      "  0%|          | 0/79 [00:00<?, ?it/s]\u001b[A\n",
      "  3%|▎         | 2/79 [00:00<00:13,  5.84it/s]\u001b[A\n",
      "  4%|▍         | 3/79 [00:00<00:18,  4.01it/s]\u001b[A\n",
      "  5%|▌         | 4/79 [00:01<00:21,  3.49it/s]\u001b[A\n",
      "  6%|▋         | 5/79 [00:01<00:22,  3.25it/s]\u001b[A\n",
      "  8%|▊         | 6/79 [00:01<00:23,  3.10it/s]\u001b[A\n",
      "  9%|▉         | 7/79 [00:02<00:23,  3.01it/s]\u001b[A\n",
      " 10%|█         | 8/79 [00:02<00:23,  2.97it/s]\u001b[A\n",
      " 11%|█▏        | 9/79 [00:02<00:23,  2.94it/s]\u001b[A\n",
      " 13%|█▎        | 10/79 [00:03<00:23,  2.90it/s]\u001b[A\n",
      " 14%|█▍        | 11/79 [00:03<00:23,  2.89it/s]\u001b[A\n",
      " 15%|█▌        | 12/79 [00:03<00:23,  2.88it/s]\u001b[A\n",
      " 16%|█▋        | 13/79 [00:04<00:23,  2.86it/s]\u001b[A\n",
      " 18%|█▊        | 14/79 [00:04<00:22,  2.86it/s]\u001b[A\n",
      " 19%|█▉        | 15/79 [00:04<00:22,  2.86it/s]\u001b[A\n",
      " 20%|██        | 16/79 [00:05<00:22,  2.85it/s]\u001b[A\n",
      " 22%|██▏       | 17/79 [00:05<00:21,  2.85it/s]\u001b[A\n",
      " 23%|██▎       | 18/79 [00:05<00:21,  2.85it/s]\u001b[A\n",
      " 24%|██▍       | 19/79 [00:06<00:21,  2.85it/s]\u001b[A\n",
      " 25%|██▌       | 20/79 [00:06<00:20,  2.85it/s]\u001b[A\n",
      " 27%|██▋       | 21/79 [00:07<00:20,  2.85it/s]\u001b[A\n",
      " 28%|██▊       | 22/79 [00:07<00:20,  2.85it/s]\u001b[A\n",
      " 29%|██▉       | 23/79 [00:07<00:19,  2.85it/s]\u001b[A\n",
      " 30%|███       | 24/79 [00:08<00:19,  2.85it/s]\u001b[A\n",
      " 32%|███▏      | 25/79 [00:08<00:19,  2.84it/s]\u001b[A\n",
      " 33%|███▎      | 26/79 [00:08<00:18,  2.83it/s]\u001b[A\n",
      " 34%|███▍      | 27/79 [00:09<00:18,  2.84it/s]\u001b[A\n",
      " 35%|███▌      | 28/79 [00:09<00:17,  2.84it/s]\u001b[A\n",
      " 37%|███▋      | 29/79 [00:09<00:17,  2.84it/s]\u001b[A\n",
      " 38%|███▊      | 30/79 [00:10<00:17,  2.84it/s]\u001b[A\n",
      " 39%|███▉      | 31/79 [00:10<00:16,  2.84it/s]\u001b[A\n",
      " 41%|████      | 32/79 [00:10<00:16,  2.84it/s]\u001b[A\n",
      " 42%|████▏     | 33/79 [00:11<00:16,  2.84it/s]\u001b[A\n",
      " 43%|████▎     | 34/79 [00:11<00:15,  2.83it/s]\u001b[A\n",
      " 44%|████▍     | 35/79 [00:11<00:15,  2.83it/s]\u001b[A\n",
      " 46%|████▌     | 36/79 [00:12<00:15,  2.84it/s]\u001b[A\n",
      " 47%|████▋     | 37/79 [00:12<00:14,  2.83it/s]\u001b[A\n",
      " 48%|████▊     | 38/79 [00:13<00:14,  2.83it/s]\u001b[A\n",
      " 49%|████▉     | 39/79 [00:13<00:14,  2.83it/s]\u001b[A\n",
      " 51%|█████     | 40/79 [00:13<00:13,  2.82it/s]\u001b[A\n",
      " 52%|█████▏    | 41/79 [00:14<00:13,  2.83it/s]\u001b[A\n",
      " 53%|█████▎    | 42/79 [00:14<00:13,  2.84it/s]\u001b[A\n",
      " 54%|█████▍    | 43/79 [00:14<00:12,  2.83it/s]\u001b[A\n",
      " 56%|█████▌    | 44/79 [00:15<00:12,  2.84it/s]\u001b[A\n",
      " 57%|█████▋    | 45/79 [00:15<00:11,  2.84it/s]\u001b[A\n",
      " 58%|█████▊    | 46/79 [00:15<00:11,  2.84it/s]\u001b[A\n",
      " 59%|█████▉    | 47/79 [00:16<00:11,  2.82it/s]\u001b[A\n",
      " 61%|██████    | 48/79 [00:16<00:10,  2.83it/s]\u001b[A\n",
      " 62%|██████▏   | 49/79 [00:16<00:10,  2.83it/s]\u001b[A\n",
      " 63%|██████▎   | 50/79 [00:17<00:10,  2.84it/s]\u001b[A\n",
      " 65%|██████▍   | 51/79 [00:17<00:09,  2.84it/s]\u001b[A\n",
      " 66%|██████▌   | 52/79 [00:17<00:09,  2.83it/s]\u001b[A\n",
      " 67%|██████▋   | 53/79 [00:18<00:09,  2.84it/s]\u001b[A\n",
      " 68%|██████▊   | 54/79 [00:18<00:08,  2.84it/s]\u001b[A\n",
      " 70%|██████▉   | 55/79 [00:19<00:08,  2.84it/s]\u001b[A\n",
      " 71%|███████   | 56/79 [00:19<00:08,  2.84it/s]\u001b[A\n",
      " 72%|███████▏  | 57/79 [00:19<00:07,  2.84it/s]\u001b[A\n",
      " 73%|███████▎  | 58/79 [00:20<00:07,  2.84it/s]\u001b[A\n",
      " 75%|███████▍  | 59/79 [00:20<00:07,  2.83it/s]\u001b[A\n",
      " 76%|███████▌  | 60/79 [00:20<00:06,  2.84it/s]\u001b[A\n",
      " 77%|███████▋  | 61/79 [00:21<00:06,  2.83it/s]\u001b[A\n",
      " 78%|███████▊  | 62/79 [00:21<00:05,  2.83it/s]\u001b[A\n",
      " 80%|███████▉  | 63/79 [00:21<00:05,  2.83it/s]\u001b[A\n",
      " 81%|████████  | 64/79 [00:22<00:05,  2.83it/s]\u001b[A\n",
      " 82%|████████▏ | 65/79 [00:22<00:04,  2.83it/s]\u001b[A\n",
      " 84%|████████▎ | 66/79 [00:22<00:04,  2.83it/s]\u001b[A\n",
      " 85%|████████▍ | 67/79 [00:23<00:04,  2.84it/s]\u001b[A\n",
      " 86%|████████▌ | 68/79 [00:23<00:03,  2.83it/s]\u001b[A\n",
      " 87%|████████▋ | 69/79 [00:23<00:03,  2.83it/s]\u001b[A\n",
      " 89%|████████▊ | 70/79 [00:24<00:03,  2.83it/s]\u001b[A\n",
      " 90%|████████▉ | 71/79 [00:24<00:02,  2.82it/s]\u001b[A\n",
      " 91%|█████████ | 72/79 [00:25<00:02,  2.83it/s]\u001b[A\n",
      " 92%|█████████▏| 73/79 [00:25<00:02,  2.83it/s]\u001b[A\n",
      " 94%|█████████▎| 74/79 [00:25<00:01,  2.83it/s]\u001b[A\n",
      " 95%|█████████▍| 75/79 [00:26<00:01,  2.82it/s]\u001b[A\n",
      " 96%|█████████▌| 76/79 [00:26<00:01,  2.82it/s]\u001b[A\n",
      " 97%|█████████▋| 77/79 [00:26<00:00,  2.82it/s]\u001b[A\n",
      "                                                   \n",
      " 41%|████      | 1640/4000 [43:47<26:08,  1.50it/s]\n",
      "100%|██████████| 79/79 [00:27<00:00,  2.88it/s]\u001b[A\n",
      "                                               \u001b[A"
     ]
    },
    {
     "name": "stdout",
     "output_type": "stream",
     "text": [
      "{'eval_loss': 3.4561049938201904, 'eval_accuracy': 0.2046, 'eval_runtime': 27.5887, 'eval_samples_per_second': 362.468, 'eval_steps_per_second': 2.863, 'epoch': 41.0}\n"
     ]
    },
    {
     "name": "stderr",
     "output_type": "stream",
     "text": [
      " 41%|████▏     | 1650/4000 [43:58<49:04,  1.25s/it]  "
     ]
    },
    {
     "name": "stdout",
     "output_type": "stream",
     "text": [
      "{'loss': 1.666, 'grad_norm': 26.618776321411133, 'learning_rate': 1.1750000000000001e-05, 'epoch': 41.25}\n"
     ]
    },
    {
     "name": "stderr",
     "output_type": "stream",
     "text": [
      " 42%|████▏     | 1660/4000 [44:07<35:50,  1.09it/s]"
     ]
    },
    {
     "name": "stdout",
     "output_type": "stream",
     "text": [
      "{'loss': 1.7323, 'grad_norm': 27.45176887512207, 'learning_rate': 1.17e-05, 'epoch': 41.5}\n"
     ]
    },
    {
     "name": "stderr",
     "output_type": "stream",
     "text": [
      " 42%|████▏     | 1670/4000 [44:16<35:07,  1.11it/s]"
     ]
    },
    {
     "name": "stdout",
     "output_type": "stream",
     "text": [
      "{'loss': 1.7797, 'grad_norm': 32.74032974243164, 'learning_rate': 1.1650000000000002e-05, 'epoch': 41.75}\n"
     ]
    },
    {
     "name": "stderr",
     "output_type": "stream",
     "text": [
      " 42%|████▏     | 1680/4000 [44:24<25:42,  1.50it/s]"
     ]
    },
    {
     "name": "stdout",
     "output_type": "stream",
     "text": [
      "{'loss': 1.7285, 'grad_norm': 105.92463684082031, 'learning_rate': 1.16e-05, 'epoch': 42.0}\n"
     ]
    },
    {
     "name": "stderr",
     "output_type": "stream",
     "text": [
      "\n",
      "  0%|          | 0/79 [00:00<?, ?it/s]\u001b[A\n",
      "  3%|▎         | 2/79 [00:00<00:13,  5.83it/s]\u001b[A\n",
      "  4%|▍         | 3/79 [00:00<00:19,  3.97it/s]\u001b[A\n",
      "  5%|▌         | 4/79 [00:01<00:21,  3.47it/s]\u001b[A\n",
      "  6%|▋         | 5/79 [00:01<00:22,  3.25it/s]\u001b[A\n",
      "  8%|▊         | 6/79 [00:01<00:23,  3.10it/s]\u001b[A\n",
      "  9%|▉         | 7/79 [00:02<00:24,  3.00it/s]\u001b[A\n",
      " 10%|█         | 8/79 [00:02<00:24,  2.94it/s]\u001b[A\n",
      " 11%|█▏        | 9/79 [00:02<00:24,  2.92it/s]\u001b[A\n",
      " 13%|█▎        | 10/79 [00:03<00:23,  2.88it/s]\u001b[A\n",
      " 14%|█▍        | 11/79 [00:03<00:23,  2.86it/s]\u001b[A\n",
      " 15%|█▌        | 12/79 [00:03<00:23,  2.86it/s]\u001b[A\n",
      " 16%|█▋        | 13/79 [00:04<00:23,  2.85it/s]\u001b[A\n",
      " 18%|█▊        | 14/79 [00:04<00:22,  2.84it/s]\u001b[A\n",
      " 19%|█▉        | 15/79 [00:04<00:22,  2.83it/s]\u001b[A\n",
      " 20%|██        | 16/79 [00:05<00:22,  2.83it/s]\u001b[A\n",
      " 22%|██▏       | 17/79 [00:05<00:21,  2.82it/s]\u001b[A\n",
      " 23%|██▎       | 18/79 [00:06<00:21,  2.83it/s]\u001b[A\n",
      " 24%|██▍       | 19/79 [00:06<00:21,  2.82it/s]\u001b[A\n",
      " 25%|██▌       | 20/79 [00:06<00:20,  2.82it/s]\u001b[A\n",
      " 27%|██▋       | 21/79 [00:07<00:20,  2.83it/s]\u001b[A\n",
      " 28%|██▊       | 22/79 [00:07<00:20,  2.82it/s]\u001b[A\n",
      " 29%|██▉       | 23/79 [00:07<00:19,  2.82it/s]\u001b[A\n",
      " 30%|███       | 24/79 [00:08<00:19,  2.82it/s]\u001b[A\n",
      " 32%|███▏      | 25/79 [00:08<00:19,  2.83it/s]\u001b[A\n",
      " 33%|███▎      | 26/79 [00:08<00:18,  2.82it/s]\u001b[A\n",
      " 34%|███▍      | 27/79 [00:09<00:18,  2.82it/s]\u001b[A\n",
      " 35%|███▌      | 28/79 [00:09<00:18,  2.82it/s]\u001b[A\n",
      " 37%|███▋      | 29/79 [00:09<00:17,  2.82it/s]\u001b[A\n",
      " 38%|███▊      | 30/79 [00:10<00:17,  2.82it/s]\u001b[A\n",
      " 39%|███▉      | 31/79 [00:10<00:16,  2.83it/s]\u001b[A\n",
      " 41%|████      | 32/79 [00:10<00:16,  2.82it/s]\u001b[A\n",
      " 42%|████▏     | 33/79 [00:11<00:16,  2.82it/s]\u001b[A\n",
      " 43%|████▎     | 34/79 [00:11<00:15,  2.83it/s]\u001b[A\n",
      " 44%|████▍     | 35/79 [00:12<00:15,  2.83it/s]\u001b[A\n",
      " 46%|████▌     | 36/79 [00:12<00:15,  2.82it/s]\u001b[A\n",
      " 47%|████▋     | 37/79 [00:12<00:14,  2.83it/s]\u001b[A\n",
      " 48%|████▊     | 38/79 [00:13<00:14,  2.83it/s]\u001b[A\n",
      " 49%|████▉     | 39/79 [00:13<00:14,  2.83it/s]\u001b[A\n",
      " 51%|█████     | 40/79 [00:13<00:13,  2.82it/s]\u001b[A\n",
      " 52%|█████▏    | 41/79 [00:14<00:13,  2.82it/s]\u001b[A\n",
      " 53%|█████▎    | 42/79 [00:14<00:13,  2.82it/s]\u001b[A\n",
      " 54%|█████▍    | 43/79 [00:14<00:12,  2.83it/s]\u001b[A\n",
      " 56%|█████▌    | 44/79 [00:15<00:12,  2.82it/s]\u001b[A\n",
      " 57%|█████▋    | 45/79 [00:15<00:12,  2.82it/s]\u001b[A\n",
      " 58%|█████▊    | 46/79 [00:15<00:11,  2.83it/s]\u001b[A\n",
      " 59%|█████▉    | 47/79 [00:16<00:11,  2.82it/s]\u001b[A\n",
      " 61%|██████    | 48/79 [00:16<00:10,  2.82it/s]\u001b[A\n",
      " 62%|██████▏   | 49/79 [00:16<00:10,  2.82it/s]\u001b[A\n",
      " 63%|██████▎   | 50/79 [00:17<00:10,  2.82it/s]\u001b[A\n",
      " 65%|██████▍   | 51/79 [00:17<00:09,  2.82it/s]\u001b[A\n",
      " 66%|██████▌   | 52/79 [00:18<00:09,  2.82it/s]\u001b[A\n",
      " 67%|██████▋   | 53/79 [00:18<00:09,  2.82it/s]\u001b[A\n",
      " 68%|██████▊   | 54/79 [00:18<00:08,  2.82it/s]\u001b[A\n",
      " 70%|██████▉   | 55/79 [00:19<00:08,  2.82it/s]\u001b[A\n",
      " 71%|███████   | 56/79 [00:19<00:08,  2.81it/s]\u001b[A\n",
      " 72%|███████▏  | 57/79 [00:19<00:07,  2.82it/s]\u001b[A\n",
      " 73%|███████▎  | 58/79 [00:20<00:07,  2.82it/s]\u001b[A\n",
      " 75%|███████▍  | 59/79 [00:20<00:07,  2.82it/s]\u001b[A\n",
      " 76%|███████▌  | 60/79 [00:20<00:06,  2.82it/s]\u001b[A\n",
      " 77%|███████▋  | 61/79 [00:21<00:06,  2.82it/s]\u001b[A\n",
      " 78%|███████▊  | 62/79 [00:21<00:06,  2.82it/s]\u001b[A\n",
      " 80%|███████▉  | 63/79 [00:21<00:05,  2.82it/s]\u001b[A\n",
      " 81%|████████  | 64/79 [00:22<00:05,  2.82it/s]\u001b[A\n",
      " 82%|████████▏ | 65/79 [00:22<00:04,  2.82it/s]\u001b[A\n",
      " 84%|████████▎ | 66/79 [00:23<00:04,  2.81it/s]\u001b[A\n",
      " 85%|████████▍ | 67/79 [00:23<00:04,  2.81it/s]\u001b[A\n",
      " 86%|████████▌ | 68/79 [00:23<00:03,  2.81it/s]\u001b[A\n",
      " 87%|████████▋ | 69/79 [00:24<00:03,  2.81it/s]\u001b[A\n",
      " 89%|████████▊ | 70/79 [00:24<00:03,  2.82it/s]\u001b[A\n",
      " 90%|████████▉ | 71/79 [00:24<00:02,  2.82it/s]\u001b[A\n",
      " 91%|█████████ | 72/79 [00:25<00:02,  2.82it/s]\u001b[A\n",
      " 92%|█████████▏| 73/79 [00:25<00:02,  2.82it/s]\u001b[A\n",
      " 94%|█████████▎| 74/79 [00:25<00:01,  2.82it/s]\u001b[A\n",
      " 95%|█████████▍| 75/79 [00:26<00:01,  2.82it/s]\u001b[A\n",
      " 96%|█████████▌| 76/79 [00:26<00:01,  2.82it/s]\u001b[A\n",
      " 97%|█████████▋| 77/79 [00:26<00:00,  2.83it/s]\u001b[A\n",
      "                                                   \n",
      " 42%|████▏     | 1680/4000 [44:52<25:42,  1.50it/s]\n",
      "100%|██████████| 79/79 [00:27<00:00,  2.90it/s]\u001b[A\n",
      "                                               \u001b[A"
     ]
    },
    {
     "name": "stdout",
     "output_type": "stream",
     "text": [
      "{'eval_loss': 3.454341411590576, 'eval_accuracy': 0.204, 'eval_runtime': 27.7207, 'eval_samples_per_second': 360.741, 'eval_steps_per_second': 2.85, 'epoch': 42.0}\n"
     ]
    },
    {
     "name": "stderr",
     "output_type": "stream",
     "text": [
      " 42%|████▏     | 1690/4000 [45:02<47:59,  1.25s/it]  "
     ]
    },
    {
     "name": "stdout",
     "output_type": "stream",
     "text": [
      "{'loss': 1.673, 'grad_norm': 28.922571182250977, 'learning_rate': 1.1550000000000001e-05, 'epoch': 42.25}\n"
     ]
    },
    {
     "name": "stderr",
     "output_type": "stream",
     "text": [
      " 42%|████▎     | 1700/4000 [45:11<35:08,  1.09it/s]"
     ]
    },
    {
     "name": "stdout",
     "output_type": "stream",
     "text": [
      "{'loss': 1.6707, 'grad_norm': 29.04073143005371, 'learning_rate': 1.15e-05, 'epoch': 42.5}\n"
     ]
    },
    {
     "name": "stderr",
     "output_type": "stream",
     "text": [
      " 43%|████▎     | 1710/4000 [45:20<34:49,  1.10it/s]"
     ]
    },
    {
     "name": "stdout",
     "output_type": "stream",
     "text": [
      "{'loss': 1.692, 'grad_norm': 30.74752426147461, 'learning_rate': 1.145e-05, 'epoch': 42.75}\n"
     ]
    },
    {
     "name": "stderr",
     "output_type": "stream",
     "text": [
      " 43%|████▎     | 1720/4000 [45:28<25:25,  1.49it/s]"
     ]
    },
    {
     "name": "stdout",
     "output_type": "stream",
     "text": [
      "{'loss': 1.7566, 'grad_norm': 109.22838592529297, 'learning_rate': 1.14e-05, 'epoch': 43.0}\n"
     ]
    },
    {
     "name": "stderr",
     "output_type": "stream",
     "text": [
      "\n",
      "  0%|          | 0/79 [00:00<?, ?it/s]\u001b[A\n",
      "  3%|▎         | 2/79 [00:00<00:13,  5.73it/s]\u001b[A\n",
      "  4%|▍         | 3/79 [00:00<00:19,  3.91it/s]\u001b[A\n",
      "  5%|▌         | 4/79 [00:01<00:21,  3.42it/s]\u001b[A\n",
      "  6%|▋         | 5/79 [00:01<00:23,  3.19it/s]\u001b[A\n",
      "  8%|▊         | 6/79 [00:01<00:23,  3.05it/s]\u001b[A\n",
      "  9%|▉         | 7/79 [00:02<00:24,  2.96it/s]\u001b[A\n",
      " 10%|█         | 8/79 [00:02<00:24,  2.92it/s]\u001b[A\n",
      " 11%|█▏        | 9/79 [00:02<00:24,  2.88it/s]\u001b[A\n",
      " 13%|█▎        | 10/79 [00:03<00:24,  2.87it/s]\u001b[A\n",
      " 14%|█▍        | 11/79 [00:03<00:23,  2.85it/s]\u001b[A\n",
      " 15%|█▌        | 12/79 [00:03<00:23,  2.84it/s]\u001b[A\n",
      " 16%|█▋        | 13/79 [00:04<00:23,  2.84it/s]\u001b[A\n",
      " 18%|█▊        | 14/79 [00:04<00:22,  2.83it/s]\u001b[A\n",
      " 19%|█▉        | 15/79 [00:04<00:22,  2.83it/s]\u001b[A\n",
      " 20%|██        | 16/79 [00:05<00:22,  2.83it/s]\u001b[A\n",
      " 22%|██▏       | 17/79 [00:05<00:21,  2.83it/s]\u001b[A\n",
      " 23%|██▎       | 18/79 [00:06<00:21,  2.83it/s]\u001b[A\n",
      " 24%|██▍       | 19/79 [00:06<00:21,  2.84it/s]\u001b[A\n",
      " 25%|██▌       | 20/79 [00:06<00:20,  2.84it/s]\u001b[A\n",
      " 27%|██▋       | 21/79 [00:07<00:20,  2.85it/s]\u001b[A\n",
      " 28%|██▊       | 22/79 [00:07<00:19,  2.86it/s]\u001b[A\n",
      " 29%|██▉       | 23/79 [00:07<00:19,  2.84it/s]\u001b[A\n",
      " 30%|███       | 24/79 [00:08<00:19,  2.85it/s]\u001b[A\n",
      " 32%|███▏      | 25/79 [00:08<00:18,  2.85it/s]\u001b[A\n",
      " 33%|███▎      | 26/79 [00:08<00:18,  2.85it/s]\u001b[A\n",
      " 34%|███▍      | 27/79 [00:09<00:18,  2.85it/s]\u001b[A\n",
      " 35%|███▌      | 28/79 [00:09<00:17,  2.86it/s]\u001b[A\n",
      " 37%|███▋      | 29/79 [00:09<00:17,  2.87it/s]\u001b[A\n",
      " 38%|███▊      | 30/79 [00:10<00:17,  2.86it/s]\u001b[A\n",
      " 39%|███▉      | 31/79 [00:10<00:16,  2.86it/s]\u001b[A\n",
      " 41%|████      | 32/79 [00:10<00:16,  2.86it/s]\u001b[A\n",
      " 42%|████▏     | 33/79 [00:11<00:16,  2.87it/s]\u001b[A\n",
      " 43%|████▎     | 34/79 [00:11<00:15,  2.86it/s]\u001b[A\n",
      " 44%|████▍     | 35/79 [00:11<00:15,  2.85it/s]\u001b[A\n",
      " 46%|████▌     | 36/79 [00:12<00:15,  2.85it/s]\u001b[A\n",
      " 47%|████▋     | 37/79 [00:12<00:14,  2.85it/s]\u001b[A\n",
      " 48%|████▊     | 38/79 [00:13<00:14,  2.85it/s]\u001b[A\n",
      " 49%|████▉     | 39/79 [00:13<00:13,  2.86it/s]\u001b[A\n",
      " 51%|█████     | 40/79 [00:13<00:13,  2.85it/s]\u001b[A\n",
      " 52%|█████▏    | 41/79 [00:14<00:13,  2.85it/s]\u001b[A\n",
      " 53%|█████▎    | 42/79 [00:14<00:13,  2.84it/s]\u001b[A\n",
      " 54%|█████▍    | 43/79 [00:14<00:12,  2.84it/s]\u001b[A\n",
      " 56%|█████▌    | 44/79 [00:15<00:12,  2.85it/s]\u001b[A\n",
      " 57%|█████▋    | 45/79 [00:15<00:11,  2.85it/s]\u001b[A\n",
      " 58%|█████▊    | 46/79 [00:15<00:11,  2.85it/s]\u001b[A\n",
      " 59%|█████▉    | 47/79 [00:16<00:11,  2.85it/s]\u001b[A\n",
      " 61%|██████    | 48/79 [00:16<00:10,  2.84it/s]\u001b[A\n",
      " 62%|██████▏   | 49/79 [00:16<00:10,  2.84it/s]\u001b[A\n",
      " 63%|██████▎   | 50/79 [00:17<00:10,  2.84it/s]\u001b[A\n",
      " 65%|██████▍   | 51/79 [00:17<00:09,  2.84it/s]\u001b[A\n",
      " 66%|██████▌   | 52/79 [00:17<00:09,  2.84it/s]\u001b[A\n",
      " 67%|██████▋   | 53/79 [00:18<00:09,  2.83it/s]\u001b[A\n",
      " 68%|██████▊   | 54/79 [00:18<00:08,  2.83it/s]\u001b[A\n",
      " 70%|██████▉   | 55/79 [00:19<00:08,  2.83it/s]\u001b[A\n",
      " 71%|███████   | 56/79 [00:19<00:08,  2.83it/s]\u001b[A\n",
      " 72%|███████▏  | 57/79 [00:19<00:07,  2.82it/s]\u001b[A\n",
      " 73%|███████▎  | 58/79 [00:20<00:07,  2.83it/s]\u001b[A\n",
      " 75%|███████▍  | 59/79 [00:20<00:07,  2.84it/s]\u001b[A\n",
      " 76%|███████▌  | 60/79 [00:20<00:06,  2.84it/s]\u001b[A\n",
      " 77%|███████▋  | 61/79 [00:21<00:06,  2.84it/s]\u001b[A\n",
      " 78%|███████▊  | 62/79 [00:21<00:06,  2.83it/s]\u001b[A\n",
      " 80%|███████▉  | 63/79 [00:21<00:05,  2.83it/s]\u001b[A\n",
      " 81%|████████  | 64/79 [00:22<00:05,  2.83it/s]\u001b[A\n",
      " 82%|████████▏ | 65/79 [00:22<00:04,  2.83it/s]\u001b[A\n",
      " 84%|████████▎ | 66/79 [00:22<00:04,  2.83it/s]\u001b[A\n",
      " 85%|████████▍ | 67/79 [00:23<00:04,  2.84it/s]\u001b[A\n",
      " 86%|████████▌ | 68/79 [00:23<00:03,  2.83it/s]\u001b[A\n",
      " 87%|████████▋ | 69/79 [00:23<00:03,  2.83it/s]\u001b[A\n",
      " 89%|████████▊ | 70/79 [00:24<00:03,  2.83it/s]\u001b[A\n",
      " 90%|████████▉ | 71/79 [00:24<00:02,  2.83it/s]\u001b[A\n",
      " 91%|█████████ | 72/79 [00:25<00:02,  2.83it/s]\u001b[A\n",
      " 92%|█████████▏| 73/79 [00:25<00:02,  2.83it/s]\u001b[A\n",
      " 94%|█████████▎| 74/79 [00:25<00:01,  2.83it/s]\u001b[A\n",
      " 95%|█████████▍| 75/79 [00:26<00:01,  2.83it/s]\u001b[A\n",
      " 96%|█████████▌| 76/79 [00:26<00:01,  2.83it/s]\u001b[A\n",
      " 97%|█████████▋| 77/79 [00:26<00:00,  2.83it/s]\u001b[A\n",
      "                                                   \n",
      " 43%|████▎     | 1720/4000 [45:56<25:25,  1.49it/s]\n",
      "100%|██████████| 79/79 [00:27<00:00,  2.88it/s]\u001b[A\n",
      "                                               \u001b[A"
     ]
    },
    {
     "name": "stdout",
     "output_type": "stream",
     "text": [
      "{'eval_loss': 3.454641342163086, 'eval_accuracy': 0.2026, 'eval_runtime': 27.604, 'eval_samples_per_second': 362.266, 'eval_steps_per_second': 2.862, 'epoch': 43.0}\n"
     ]
    },
    {
     "name": "stderr",
     "output_type": "stream",
     "text": [
      " 43%|████▎     | 1730/4000 [46:06<47:20,  1.25s/it]  "
     ]
    },
    {
     "name": "stdout",
     "output_type": "stream",
     "text": [
      "{'loss': 1.6385, 'grad_norm': 29.373151779174805, 'learning_rate': 1.1350000000000001e-05, 'epoch': 43.25}\n"
     ]
    },
    {
     "name": "stderr",
     "output_type": "stream",
     "text": [
      " 44%|████▎     | 1740/4000 [46:15<34:42,  1.09it/s]"
     ]
    },
    {
     "name": "stdout",
     "output_type": "stream",
     "text": [
      "{'loss': 1.6324, 'grad_norm': 29.38024139404297, 'learning_rate': 1.13e-05, 'epoch': 43.5}\n"
     ]
    },
    {
     "name": "stderr",
     "output_type": "stream",
     "text": [
      " 44%|████▍     | 1750/4000 [46:24<33:46,  1.11it/s]"
     ]
    },
    {
     "name": "stdout",
     "output_type": "stream",
     "text": [
      "{'loss': 1.6636, 'grad_norm': 26.28498077392578, 'learning_rate': 1.125e-05, 'epoch': 43.75}\n"
     ]
    },
    {
     "name": "stderr",
     "output_type": "stream",
     "text": [
      " 44%|████▍     | 1760/4000 [46:33<24:44,  1.51it/s]"
     ]
    },
    {
     "name": "stdout",
     "output_type": "stream",
     "text": [
      "{'loss': 1.642, 'grad_norm': 111.3763656616211, 'learning_rate': 1.1200000000000001e-05, 'epoch': 44.0}\n"
     ]
    },
    {
     "name": "stderr",
     "output_type": "stream",
     "text": [
      "\n",
      "  0%|          | 0/79 [00:00<?, ?it/s]\u001b[A\n",
      "  3%|▎         | 2/79 [00:00<00:13,  5.89it/s]\u001b[A\n",
      "  4%|▍         | 3/79 [00:00<00:19,  4.00it/s]\u001b[A\n",
      "  5%|▌         | 4/79 [00:01<00:21,  3.49it/s]\u001b[A\n",
      "  6%|▋         | 5/79 [00:01<00:22,  3.25it/s]\u001b[A\n",
      "  8%|▊         | 6/79 [00:01<00:23,  3.09it/s]\u001b[A\n",
      "  9%|▉         | 7/79 [00:02<00:23,  3.01it/s]\u001b[A\n",
      " 10%|█         | 8/79 [00:02<00:23,  2.97it/s]\u001b[A\n",
      " 11%|█▏        | 9/79 [00:02<00:23,  2.93it/s]\u001b[A\n",
      " 13%|█▎        | 10/79 [00:03<00:23,  2.90it/s]\u001b[A\n",
      " 14%|█▍        | 11/79 [00:03<00:23,  2.88it/s]\u001b[A\n",
      " 15%|█▌        | 12/79 [00:03<00:23,  2.87it/s]\u001b[A\n",
      " 16%|█▋        | 13/79 [00:04<00:23,  2.85it/s]\u001b[A\n",
      " 18%|█▊        | 14/79 [00:04<00:22,  2.84it/s]\u001b[A\n",
      " 19%|█▉        | 15/79 [00:04<00:22,  2.84it/s]\u001b[A\n",
      " 20%|██        | 16/79 [00:05<00:22,  2.85it/s]\u001b[A\n",
      " 22%|██▏       | 17/79 [00:05<00:21,  2.84it/s]\u001b[A\n",
      " 23%|██▎       | 18/79 [00:05<00:21,  2.84it/s]\u001b[A\n",
      " 24%|██▍       | 19/79 [00:06<00:21,  2.84it/s]\u001b[A\n",
      " 25%|██▌       | 20/79 [00:06<00:20,  2.84it/s]\u001b[A\n",
      " 27%|██▋       | 21/79 [00:07<00:20,  2.83it/s]\u001b[A\n",
      " 28%|██▊       | 22/79 [00:07<00:20,  2.84it/s]\u001b[A\n",
      " 29%|██▉       | 23/79 [00:07<00:19,  2.84it/s]\u001b[A\n",
      " 30%|███       | 24/79 [00:08<00:19,  2.84it/s]\u001b[A\n",
      " 32%|███▏      | 25/79 [00:08<00:19,  2.84it/s]\u001b[A\n",
      " 33%|███▎      | 26/79 [00:08<00:18,  2.83it/s]\u001b[A\n",
      " 34%|███▍      | 27/79 [00:09<00:18,  2.84it/s]\u001b[A\n",
      " 35%|███▌      | 28/79 [00:09<00:17,  2.84it/s]\u001b[A\n",
      " 37%|███▋      | 29/79 [00:09<00:17,  2.83it/s]\u001b[A\n",
      " 38%|███▊      | 30/79 [00:10<00:17,  2.83it/s]\u001b[A\n",
      " 39%|███▉      | 31/79 [00:10<00:16,  2.84it/s]\u001b[A\n",
      " 41%|████      | 32/79 [00:10<00:16,  2.83it/s]\u001b[A\n",
      " 42%|████▏     | 33/79 [00:11<00:16,  2.83it/s]\u001b[A\n",
      " 43%|████▎     | 34/79 [00:11<00:15,  2.83it/s]\u001b[A\n",
      " 44%|████▍     | 35/79 [00:11<00:15,  2.83it/s]\u001b[A\n",
      " 46%|████▌     | 36/79 [00:12<00:15,  2.83it/s]\u001b[A\n",
      " 47%|████▋     | 37/79 [00:12<00:14,  2.83it/s]\u001b[A\n",
      " 48%|████▊     | 38/79 [00:13<00:14,  2.83it/s]\u001b[A\n",
      " 49%|████▉     | 39/79 [00:13<00:14,  2.82it/s]\u001b[A\n",
      " 51%|█████     | 40/79 [00:13<00:13,  2.83it/s]\u001b[A\n",
      " 52%|█████▏    | 41/79 [00:14<00:13,  2.83it/s]\u001b[A\n",
      " 53%|█████▎    | 42/79 [00:14<00:13,  2.83it/s]\u001b[A\n",
      " 54%|█████▍    | 43/79 [00:14<00:12,  2.83it/s]\u001b[A\n",
      " 56%|█████▌    | 44/79 [00:15<00:12,  2.83it/s]\u001b[A\n",
      " 57%|█████▋    | 45/79 [00:15<00:12,  2.83it/s]\u001b[A\n",
      " 58%|█████▊    | 46/79 [00:15<00:11,  2.83it/s]\u001b[A\n",
      " 59%|█████▉    | 47/79 [00:16<00:11,  2.84it/s]\u001b[A\n",
      " 61%|██████    | 48/79 [00:16<00:10,  2.83it/s]\u001b[A\n",
      " 62%|██████▏   | 49/79 [00:16<00:10,  2.83it/s]\u001b[A\n",
      " 63%|██████▎   | 50/79 [00:17<00:10,  2.83it/s]\u001b[A\n",
      " 65%|██████▍   | 51/79 [00:17<00:09,  2.82it/s]\u001b[A\n",
      " 66%|██████▌   | 52/79 [00:17<00:09,  2.82it/s]\u001b[A\n",
      " 67%|██████▋   | 53/79 [00:18<00:09,  2.82it/s]\u001b[A\n",
      " 68%|██████▊   | 54/79 [00:18<00:08,  2.83it/s]\u001b[A\n",
      " 70%|██████▉   | 55/79 [00:19<00:08,  2.82it/s]\u001b[A\n",
      " 71%|███████   | 56/79 [00:19<00:08,  2.82it/s]\u001b[A\n",
      " 72%|███████▏  | 57/79 [00:19<00:07,  2.83it/s]\u001b[A\n",
      " 73%|███████▎  | 58/79 [00:20<00:07,  2.83it/s]\u001b[A\n",
      " 75%|███████▍  | 59/79 [00:20<00:07,  2.83it/s]\u001b[A\n",
      " 76%|███████▌  | 60/79 [00:20<00:06,  2.83it/s]\u001b[A\n",
      " 77%|███████▋  | 61/79 [00:21<00:06,  2.83it/s]\u001b[A\n",
      " 78%|███████▊  | 62/79 [00:21<00:06,  2.82it/s]\u001b[A\n",
      " 80%|███████▉  | 63/79 [00:21<00:05,  2.82it/s]\u001b[A\n",
      " 81%|████████  | 64/79 [00:22<00:05,  2.82it/s]\u001b[A\n",
      " 82%|████████▏ | 65/79 [00:22<00:04,  2.82it/s]\u001b[A\n",
      " 84%|████████▎ | 66/79 [00:22<00:04,  2.82it/s]\u001b[A\n",
      " 85%|████████▍ | 67/79 [00:23<00:04,  2.82it/s]\u001b[A\n",
      " 86%|████████▌ | 68/79 [00:23<00:03,  2.83it/s]\u001b[A\n",
      " 87%|████████▋ | 69/79 [00:24<00:03,  2.83it/s]\u001b[A\n",
      " 89%|████████▊ | 70/79 [00:24<00:03,  2.82it/s]\u001b[A\n",
      " 90%|████████▉ | 71/79 [00:24<00:02,  2.82it/s]\u001b[A\n",
      " 91%|█████████ | 72/79 [00:25<00:02,  2.82it/s]\u001b[A\n",
      " 92%|█████████▏| 73/79 [00:25<00:02,  2.82it/s]\u001b[A\n",
      " 94%|█████████▎| 74/79 [00:25<00:01,  2.82it/s]\u001b[A\n",
      " 95%|█████████▍| 75/79 [00:26<00:01,  2.81it/s]\u001b[A\n",
      " 96%|█████████▌| 76/79 [00:26<00:01,  2.83it/s]\u001b[A\n",
      " 97%|█████████▋| 77/79 [00:26<00:00,  2.82it/s]\u001b[A\n",
      "                                                   \n",
      " 44%|████▍     | 1760/4000 [47:00<24:44,  1.51it/s]\n",
      "100%|██████████| 79/79 [00:27<00:00,  2.88it/s]\u001b[A\n",
      "                                               \u001b[A"
     ]
    },
    {
     "name": "stdout",
     "output_type": "stream",
     "text": [
      "{'eval_loss': 3.469916343688965, 'eval_accuracy': 0.201, 'eval_runtime': 27.6632, 'eval_samples_per_second': 361.491, 'eval_steps_per_second': 2.856, 'epoch': 44.0}\n"
     ]
    },
    {
     "name": "stderr",
     "output_type": "stream",
     "text": [
      " 44%|████▍     | 1770/4000 [47:10<46:35,  1.25s/it]  "
     ]
    },
    {
     "name": "stdout",
     "output_type": "stream",
     "text": [
      "{'loss': 1.5533, 'grad_norm': 31.514774322509766, 'learning_rate': 1.1150000000000002e-05, 'epoch': 44.25}\n"
     ]
    },
    {
     "name": "stderr",
     "output_type": "stream",
     "text": [
      " 44%|████▍     | 1780/4000 [47:20<33:51,  1.09it/s]"
     ]
    },
    {
     "name": "stdout",
     "output_type": "stream",
     "text": [
      "{'loss': 1.6439, 'grad_norm': 29.439828872680664, 'learning_rate': 1.1100000000000002e-05, 'epoch': 44.5}\n"
     ]
    },
    {
     "name": "stderr",
     "output_type": "stream",
     "text": [
      " 45%|████▍     | 1790/4000 [47:29<33:19,  1.11it/s]"
     ]
    },
    {
     "name": "stdout",
     "output_type": "stream",
     "text": [
      "{'loss': 1.5719, 'grad_norm': 31.331340789794922, 'learning_rate': 1.1050000000000001e-05, 'epoch': 44.75}\n"
     ]
    },
    {
     "name": "stderr",
     "output_type": "stream",
     "text": [
      " 45%|████▌     | 1800/4000 [47:37<24:28,  1.50it/s]"
     ]
    },
    {
     "name": "stdout",
     "output_type": "stream",
     "text": [
      "{'loss': 1.7049, 'grad_norm': 137.30152893066406, 'learning_rate': 1.1000000000000001e-05, 'epoch': 45.0}\n"
     ]
    },
    {
     "name": "stderr",
     "output_type": "stream",
     "text": [
      "\n",
      "  0%|          | 0/79 [00:00<?, ?it/s]\u001b[A\n",
      "  3%|▎         | 2/79 [00:00<00:13,  5.83it/s]\u001b[A\n",
      "  4%|▍         | 3/79 [00:00<00:19,  3.97it/s]\u001b[A\n",
      "  5%|▌         | 4/79 [00:01<00:21,  3.47it/s]\u001b[A\n",
      "  6%|▋         | 5/79 [00:01<00:22,  3.24it/s]\u001b[A\n",
      "  8%|▊         | 6/79 [00:01<00:23,  3.08it/s]\u001b[A\n",
      "  9%|▉         | 7/79 [00:02<00:24,  2.99it/s]\u001b[A\n",
      " 10%|█         | 8/79 [00:02<00:24,  2.95it/s]\u001b[A\n",
      " 11%|█▏        | 9/79 [00:02<00:24,  2.91it/s]\u001b[A\n",
      " 13%|█▎        | 10/79 [00:03<00:24,  2.87it/s]\u001b[A\n",
      " 14%|█▍        | 11/79 [00:03<00:23,  2.87it/s]\u001b[A\n",
      " 15%|█▌        | 12/79 [00:03<00:23,  2.85it/s]\u001b[A\n",
      " 16%|█▋        | 13/79 [00:04<00:23,  2.84it/s]\u001b[A\n",
      " 18%|█▊        | 14/79 [00:04<00:22,  2.83it/s]\u001b[A\n",
      " 19%|█▉        | 15/79 [00:04<00:22,  2.83it/s]\u001b[A\n",
      " 20%|██        | 16/79 [00:05<00:22,  2.83it/s]\u001b[A\n",
      " 22%|██▏       | 17/79 [00:05<00:21,  2.83it/s]\u001b[A\n",
      " 23%|██▎       | 18/79 [00:06<00:21,  2.82it/s]\u001b[A\n",
      " 24%|██▍       | 19/79 [00:06<00:21,  2.82it/s]\u001b[A\n",
      " 25%|██▌       | 20/79 [00:06<00:20,  2.83it/s]\u001b[A\n",
      " 27%|██▋       | 21/79 [00:07<00:20,  2.82it/s]\u001b[A\n",
      " 28%|██▊       | 22/79 [00:07<00:20,  2.82it/s]\u001b[A\n",
      " 29%|██▉       | 23/79 [00:07<00:19,  2.83it/s]\u001b[A\n",
      " 30%|███       | 24/79 [00:08<00:19,  2.82it/s]\u001b[A\n",
      " 32%|███▏      | 25/79 [00:08<00:19,  2.82it/s]\u001b[A\n",
      " 33%|███▎      | 26/79 [00:08<00:18,  2.82it/s]\u001b[A\n",
      " 34%|███▍      | 27/79 [00:09<00:18,  2.83it/s]\u001b[A\n",
      " 35%|███▌      | 28/79 [00:09<00:18,  2.83it/s]\u001b[A\n",
      " 37%|███▋      | 29/79 [00:09<00:17,  2.82it/s]\u001b[A\n",
      " 38%|███▊      | 30/79 [00:10<00:17,  2.82it/s]\u001b[A\n",
      " 39%|███▉      | 31/79 [00:10<00:17,  2.82it/s]\u001b[A\n",
      " 41%|████      | 32/79 [00:10<00:16,  2.83it/s]\u001b[A\n",
      " 42%|████▏     | 33/79 [00:11<00:16,  2.82it/s]\u001b[A\n",
      " 43%|████▎     | 34/79 [00:11<00:15,  2.82it/s]\u001b[A\n",
      " 44%|████▍     | 35/79 [00:12<00:15,  2.82it/s]\u001b[A\n",
      " 46%|████▌     | 36/79 [00:12<00:15,  2.82it/s]\u001b[A\n",
      " 47%|████▋     | 37/79 [00:12<00:14,  2.82it/s]\u001b[A\n",
      " 48%|████▊     | 38/79 [00:13<00:14,  2.82it/s]\u001b[A\n",
      " 49%|████▉     | 39/79 [00:13<00:14,  2.82it/s]\u001b[A\n",
      " 51%|█████     | 40/79 [00:13<00:13,  2.82it/s]\u001b[A\n",
      " 52%|█████▏    | 41/79 [00:14<00:13,  2.82it/s]\u001b[A\n",
      " 53%|█████▎    | 42/79 [00:14<00:13,  2.82it/s]\u001b[A\n",
      " 54%|█████▍    | 43/79 [00:14<00:12,  2.82it/s]\u001b[A\n",
      " 56%|█████▌    | 44/79 [00:15<00:12,  2.82it/s]\u001b[A\n",
      " 57%|█████▋    | 45/79 [00:15<00:12,  2.82it/s]\u001b[A\n",
      " 58%|█████▊    | 46/79 [00:15<00:11,  2.82it/s]\u001b[A\n",
      " 59%|█████▉    | 47/79 [00:16<00:11,  2.81it/s]\u001b[A\n",
      " 61%|██████    | 48/79 [00:16<00:11,  2.81it/s]\u001b[A\n",
      " 62%|██████▏   | 49/79 [00:17<00:10,  2.82it/s]\u001b[A\n",
      " 63%|██████▎   | 50/79 [00:17<00:10,  2.82it/s]\u001b[A\n",
      " 65%|██████▍   | 51/79 [00:17<00:09,  2.82it/s]\u001b[A\n",
      " 66%|██████▌   | 52/79 [00:18<00:09,  2.81it/s]\u001b[A\n",
      " 67%|██████▋   | 53/79 [00:18<00:09,  2.82it/s]\u001b[A\n",
      " 68%|██████▊   | 54/79 [00:18<00:08,  2.82it/s]\u001b[A\n",
      " 70%|██████▉   | 55/79 [00:19<00:08,  2.82it/s]\u001b[A\n",
      " 71%|███████   | 56/79 [00:19<00:08,  2.82it/s]\u001b[A\n",
      " 72%|███████▏  | 57/79 [00:19<00:07,  2.82it/s]\u001b[A\n",
      " 73%|███████▎  | 58/79 [00:20<00:07,  2.82it/s]\u001b[A\n",
      " 75%|███████▍  | 59/79 [00:20<00:07,  2.82it/s]\u001b[A\n",
      " 76%|███████▌  | 60/79 [00:20<00:06,  2.82it/s]\u001b[A\n",
      " 77%|███████▋  | 61/79 [00:21<00:06,  2.81it/s]\u001b[A\n",
      " 78%|███████▊  | 62/79 [00:21<00:06,  2.81it/s]\u001b[A\n",
      " 80%|███████▉  | 63/79 [00:21<00:05,  2.81it/s]\u001b[A\n",
      " 81%|████████  | 64/79 [00:22<00:05,  2.81it/s]\u001b[A\n",
      " 82%|████████▏ | 65/79 [00:22<00:04,  2.82it/s]\u001b[A\n",
      " 84%|████████▎ | 66/79 [00:23<00:04,  2.82it/s]\u001b[A\n",
      " 85%|████████▍ | 67/79 [00:23<00:04,  2.82it/s]\u001b[A\n",
      " 86%|████████▌ | 68/79 [00:23<00:03,  2.82it/s]\u001b[A\n",
      " 87%|████████▋ | 69/79 [00:24<00:03,  2.83it/s]\u001b[A\n",
      " 89%|████████▊ | 70/79 [00:24<00:03,  2.83it/s]\u001b[A\n",
      " 90%|████████▉ | 71/79 [00:24<00:02,  2.84it/s]\u001b[A\n",
      " 91%|█████████ | 72/79 [00:25<00:02,  2.83it/s]\u001b[A\n",
      " 92%|█████████▏| 73/79 [00:25<00:02,  2.84it/s]\u001b[A\n",
      " 94%|█████████▎| 74/79 [00:25<00:01,  2.83it/s]\u001b[A\n",
      " 95%|█████████▍| 75/79 [00:26<00:01,  2.84it/s]\u001b[A\n",
      " 96%|█████████▌| 76/79 [00:26<00:01,  2.85it/s]\u001b[A\n",
      " 97%|█████████▋| 77/79 [00:26<00:00,  2.85it/s]\u001b[A\n",
      "                                                   \n",
      " 45%|████▌     | 1800/4000 [48:05<24:28,  1.50it/s]\n",
      "100%|██████████| 79/79 [00:27<00:00,  2.91it/s]\u001b[A\n",
      "                                               \u001b[A"
     ]
    },
    {
     "name": "stdout",
     "output_type": "stream",
     "text": [
      "{'eval_loss': 3.4554827213287354, 'eval_accuracy': 0.2065, 'eval_runtime': 27.7224, 'eval_samples_per_second': 360.719, 'eval_steps_per_second': 2.85, 'epoch': 45.0}\n"
     ]
    },
    {
     "name": "stderr",
     "output_type": "stream",
     "text": [
      " 45%|████▌     | 1810/4000 [48:15<45:34,  1.25s/it]  "
     ]
    },
    {
     "name": "stdout",
     "output_type": "stream",
     "text": [
      "{'loss': 1.5, 'grad_norm': 28.345937728881836, 'learning_rate': 1.095e-05, 'epoch': 45.25}\n"
     ]
    },
    {
     "name": "stderr",
     "output_type": "stream",
     "text": [
      " 46%|████▌     | 1820/4000 [48:24<33:23,  1.09it/s]"
     ]
    },
    {
     "name": "stdout",
     "output_type": "stream",
     "text": [
      "{'loss': 1.5405, 'grad_norm': 26.386274337768555, 'learning_rate': 1.0900000000000002e-05, 'epoch': 45.5}\n"
     ]
    },
    {
     "name": "stderr",
     "output_type": "stream",
     "text": [
      " 46%|████▌     | 1830/4000 [48:33<33:00,  1.10it/s]"
     ]
    },
    {
     "name": "stdout",
     "output_type": "stream",
     "text": [
      "{'loss': 1.598, 'grad_norm': 33.873985290527344, 'learning_rate': 1.0850000000000001e-05, 'epoch': 45.75}\n"
     ]
    },
    {
     "name": "stderr",
     "output_type": "stream",
     "text": [
      " 46%|████▌     | 1840/4000 [48:41<24:03,  1.50it/s]"
     ]
    },
    {
     "name": "stdout",
     "output_type": "stream",
     "text": [
      "{'loss': 1.6355, 'grad_norm': 118.88925170898438, 'learning_rate': 1.0800000000000002e-05, 'epoch': 46.0}\n"
     ]
    },
    {
     "name": "stderr",
     "output_type": "stream",
     "text": [
      "\n",
      "  0%|          | 0/79 [00:00<?, ?it/s]\u001b[A\n",
      "  3%|▎         | 2/79 [00:00<00:13,  5.80it/s]\u001b[A\n",
      "  4%|▍         | 3/79 [00:00<00:19,  3.96it/s]\u001b[A\n",
      "  5%|▌         | 4/79 [00:01<00:21,  3.46it/s]\u001b[A\n",
      "  6%|▋         | 5/79 [00:01<00:23,  3.21it/s]\u001b[A\n",
      "  8%|▊         | 6/79 [00:01<00:23,  3.05it/s]\u001b[A\n",
      "  9%|▉         | 7/79 [00:02<00:24,  2.97it/s]\u001b[A\n",
      " 10%|█         | 8/79 [00:02<00:24,  2.92it/s]\u001b[A\n",
      " 11%|█▏        | 9/79 [00:02<00:24,  2.90it/s]\u001b[A\n",
      " 13%|█▎        | 10/79 [00:03<00:24,  2.87it/s]\u001b[A\n",
      " 14%|█▍        | 11/79 [00:03<00:23,  2.85it/s]\u001b[A\n",
      " 15%|█▌        | 12/79 [00:03<00:23,  2.85it/s]\u001b[A\n",
      " 16%|█▋        | 13/79 [00:04<00:23,  2.84it/s]\u001b[A\n",
      " 18%|█▊        | 14/79 [00:04<00:22,  2.83it/s]\u001b[A\n",
      " 19%|█▉        | 15/79 [00:04<00:22,  2.84it/s]\u001b[A\n",
      " 20%|██        | 16/79 [00:05<00:22,  2.83it/s]\u001b[A\n",
      " 22%|██▏       | 17/79 [00:05<00:21,  2.83it/s]\u001b[A\n",
      " 23%|██▎       | 18/79 [00:06<00:21,  2.83it/s]\u001b[A\n",
      " 24%|██▍       | 19/79 [00:06<00:21,  2.83it/s]\u001b[A\n",
      " 25%|██▌       | 20/79 [00:06<00:20,  2.84it/s]\u001b[A\n",
      " 27%|██▋       | 21/79 [00:07<00:20,  2.84it/s]\u001b[A\n",
      " 28%|██▊       | 22/79 [00:07<00:20,  2.84it/s]\u001b[A\n",
      " 29%|██▉       | 23/79 [00:07<00:19,  2.84it/s]\u001b[A\n",
      " 30%|███       | 24/79 [00:08<00:19,  2.86it/s]\u001b[A\n",
      " 32%|███▏      | 25/79 [00:08<00:18,  2.85it/s]\u001b[A\n",
      " 33%|███▎      | 26/79 [00:08<00:18,  2.85it/s]\u001b[A\n",
      " 34%|███▍      | 27/79 [00:09<00:18,  2.86it/s]\u001b[A\n",
      " 35%|███▌      | 28/79 [00:09<00:17,  2.86it/s]\u001b[A\n",
      " 37%|███▋      | 29/79 [00:09<00:17,  2.85it/s]\u001b[A\n",
      " 38%|███▊      | 30/79 [00:10<00:17,  2.86it/s]\u001b[A\n",
      " 39%|███▉      | 31/79 [00:10<00:16,  2.86it/s]\u001b[A\n",
      " 41%|████      | 32/79 [00:10<00:16,  2.85it/s]\u001b[A\n",
      " 42%|████▏     | 33/79 [00:11<00:16,  2.85it/s]\u001b[A\n",
      " 43%|████▎     | 34/79 [00:11<00:15,  2.87it/s]\u001b[A\n",
      " 44%|████▍     | 35/79 [00:11<00:15,  2.86it/s]\u001b[A\n",
      " 46%|████▌     | 36/79 [00:12<00:15,  2.85it/s]\u001b[A\n",
      " 47%|████▋     | 37/79 [00:12<00:14,  2.86it/s]\u001b[A\n",
      " 48%|████▊     | 38/79 [00:13<00:14,  2.86it/s]\u001b[A\n",
      " 49%|████▉     | 39/79 [00:13<00:13,  2.86it/s]\u001b[A\n",
      " 51%|█████     | 40/79 [00:13<00:13,  2.85it/s]\u001b[A\n",
      " 52%|█████▏    | 41/79 [00:14<00:13,  2.86it/s]\u001b[A\n",
      " 53%|█████▎    | 42/79 [00:14<00:12,  2.86it/s]\u001b[A\n",
      " 54%|█████▍    | 43/79 [00:14<00:12,  2.85it/s]\u001b[A\n",
      " 56%|█████▌    | 44/79 [00:15<00:12,  2.86it/s]\u001b[A\n",
      " 57%|█████▋    | 45/79 [00:15<00:11,  2.85it/s]\u001b[A\n",
      " 58%|█████▊    | 46/79 [00:15<00:11,  2.85it/s]\u001b[A\n",
      " 59%|█████▉    | 47/79 [00:16<00:11,  2.85it/s]\u001b[A\n",
      " 61%|██████    | 48/79 [00:16<00:10,  2.85it/s]\u001b[A\n",
      " 62%|██████▏   | 49/79 [00:16<00:10,  2.84it/s]\u001b[A\n",
      " 63%|██████▎   | 50/79 [00:17<00:10,  2.85it/s]\u001b[A\n",
      " 65%|██████▍   | 51/79 [00:17<00:09,  2.84it/s]\u001b[A\n",
      " 66%|██████▌   | 52/79 [00:17<00:09,  2.85it/s]\u001b[A\n",
      " 67%|██████▋   | 53/79 [00:18<00:09,  2.84it/s]\u001b[A\n",
      " 68%|██████▊   | 54/79 [00:18<00:08,  2.84it/s]\u001b[A\n",
      " 70%|██████▉   | 55/79 [00:18<00:08,  2.84it/s]\u001b[A\n",
      " 71%|███████   | 56/79 [00:19<00:08,  2.84it/s]\u001b[A\n",
      " 72%|███████▏  | 57/79 [00:19<00:07,  2.84it/s]\u001b[A\n",
      " 73%|███████▎  | 58/79 [00:20<00:07,  2.84it/s]\u001b[A\n",
      " 75%|███████▍  | 59/79 [00:20<00:07,  2.84it/s]\u001b[A\n",
      " 76%|███████▌  | 60/79 [00:20<00:06,  2.83it/s]\u001b[A\n",
      " 77%|███████▋  | 61/79 [00:21<00:06,  2.84it/s]\u001b[A\n",
      " 78%|███████▊  | 62/79 [00:21<00:05,  2.84it/s]\u001b[A\n",
      " 80%|███████▉  | 63/79 [00:21<00:05,  2.84it/s]\u001b[A\n",
      " 81%|████████  | 64/79 [00:22<00:05,  2.84it/s]\u001b[A\n",
      " 82%|████████▏ | 65/79 [00:22<00:04,  2.84it/s]\u001b[A\n",
      " 84%|████████▎ | 66/79 [00:22<00:04,  2.84it/s]\u001b[A\n",
      " 85%|████████▍ | 67/79 [00:23<00:04,  2.84it/s]\u001b[A\n",
      " 86%|████████▌ | 68/79 [00:23<00:03,  2.84it/s]\u001b[A\n",
      " 87%|████████▋ | 69/79 [00:23<00:03,  2.84it/s]\u001b[A\n",
      " 89%|████████▊ | 70/79 [00:24<00:03,  2.84it/s]\u001b[A\n",
      " 90%|████████▉ | 71/79 [00:24<00:02,  2.84it/s]\u001b[A\n",
      " 91%|█████████ | 72/79 [00:24<00:02,  2.84it/s]\u001b[A\n",
      " 92%|█████████▏| 73/79 [00:25<00:02,  2.83it/s]\u001b[A\n",
      " 94%|█████████▎| 74/79 [00:25<00:01,  2.83it/s]\u001b[A\n",
      " 95%|█████████▍| 75/79 [00:26<00:01,  2.83it/s]\u001b[A\n",
      " 96%|█████████▌| 76/79 [00:26<00:01,  2.84it/s]\u001b[A\n",
      " 97%|█████████▋| 77/79 [00:26<00:00,  2.83it/s]\u001b[A\n",
      "                                                   \n",
      " 46%|████▌     | 1840/4000 [49:09<24:03,  1.50it/s]\n",
      "100%|██████████| 79/79 [00:27<00:00,  2.90it/s]\u001b[A\n",
      "                                               \u001b[A"
     ]
    },
    {
     "name": "stdout",
     "output_type": "stream",
     "text": [
      "{'eval_loss': 3.4569058418273926, 'eval_accuracy': 0.2059, 'eval_runtime': 27.5599, 'eval_samples_per_second': 362.846, 'eval_steps_per_second': 2.866, 'epoch': 46.0}\n"
     ]
    },
    {
     "name": "stderr",
     "output_type": "stream",
     "text": [
      " 46%|████▋     | 1850/4000 [49:19<44:48,  1.25s/it]  "
     ]
    },
    {
     "name": "stdout",
     "output_type": "stream",
     "text": [
      "{'loss': 1.5384, 'grad_norm': 28.321767807006836, 'learning_rate': 1.075e-05, 'epoch': 46.25}\n"
     ]
    },
    {
     "name": "stderr",
     "output_type": "stream",
     "text": [
      " 46%|████▋     | 1860/4000 [49:28<32:51,  1.09it/s]"
     ]
    },
    {
     "name": "stdout",
     "output_type": "stream",
     "text": [
      "{'loss': 1.4603, 'grad_norm': 32.46744155883789, 'learning_rate': 1.0700000000000001e-05, 'epoch': 46.5}\n"
     ]
    },
    {
     "name": "stderr",
     "output_type": "stream",
     "text": [
      " 47%|████▋     | 1870/4000 [49:37<32:19,  1.10it/s]"
     ]
    },
    {
     "name": "stdout",
     "output_type": "stream",
     "text": [
      "{'loss': 1.5207, 'grad_norm': 31.424413681030273, 'learning_rate': 1.065e-05, 'epoch': 46.75}\n"
     ]
    },
    {
     "name": "stderr",
     "output_type": "stream",
     "text": [
      " 47%|████▋     | 1880/4000 [49:46<23:28,  1.51it/s]"
     ]
    },
    {
     "name": "stdout",
     "output_type": "stream",
     "text": [
      "{'loss': 1.5277, 'grad_norm': 111.38395690917969, 'learning_rate': 1.0600000000000002e-05, 'epoch': 47.0}\n"
     ]
    },
    {
     "name": "stderr",
     "output_type": "stream",
     "text": [
      "\n",
      "  0%|          | 0/79 [00:00<?, ?it/s]\u001b[A\n",
      "  3%|▎         | 2/79 [00:00<00:13,  5.80it/s]\u001b[A\n",
      "  4%|▍         | 3/79 [00:00<00:19,  3.99it/s]\u001b[A\n",
      "  5%|▌         | 4/79 [00:01<00:21,  3.47it/s]\u001b[A\n",
      "  6%|▋         | 5/79 [00:01<00:22,  3.25it/s]\u001b[A\n",
      "  8%|▊         | 6/79 [00:01<00:23,  3.11it/s]\u001b[A\n",
      "  9%|▉         | 7/79 [00:02<00:23,  3.01it/s]\u001b[A\n",
      " 10%|█         | 8/79 [00:02<00:23,  2.96it/s]\u001b[A\n",
      " 11%|█▏        | 9/79 [00:02<00:23,  2.92it/s]\u001b[A\n",
      " 13%|█▎        | 10/79 [00:03<00:23,  2.90it/s]\u001b[A\n",
      " 14%|█▍        | 11/79 [00:03<00:23,  2.88it/s]\u001b[A\n",
      " 15%|█▌        | 12/79 [00:03<00:23,  2.88it/s]\u001b[A\n",
      " 16%|█▋        | 13/79 [00:04<00:23,  2.86it/s]\u001b[A\n",
      " 18%|█▊        | 14/79 [00:04<00:22,  2.86it/s]\u001b[A\n",
      " 19%|█▉        | 15/79 [00:04<00:22,  2.86it/s]\u001b[A\n",
      " 20%|██        | 16/79 [00:05<00:22,  2.86it/s]\u001b[A\n",
      " 22%|██▏       | 17/79 [00:05<00:21,  2.85it/s]\u001b[A\n",
      " 23%|██▎       | 18/79 [00:05<00:21,  2.86it/s]\u001b[A\n",
      " 24%|██▍       | 19/79 [00:06<00:20,  2.86it/s]\u001b[A\n",
      " 25%|██▌       | 20/79 [00:06<00:20,  2.85it/s]\u001b[A\n",
      " 27%|██▋       | 21/79 [00:07<00:20,  2.85it/s]\u001b[A\n",
      " 28%|██▊       | 22/79 [00:07<00:20,  2.85it/s]\u001b[A\n",
      " 29%|██▉       | 23/79 [00:07<00:19,  2.84it/s]\u001b[A\n",
      " 30%|███       | 24/79 [00:08<00:19,  2.83it/s]\u001b[A\n",
      " 32%|███▏      | 25/79 [00:08<00:19,  2.84it/s]\u001b[A\n",
      " 33%|███▎      | 26/79 [00:08<00:18,  2.83it/s]\u001b[A\n",
      " 34%|███▍      | 27/79 [00:09<00:18,  2.83it/s]\u001b[A\n",
      " 35%|███▌      | 28/79 [00:09<00:17,  2.84it/s]\u001b[A\n",
      " 37%|███▋      | 29/79 [00:09<00:17,  2.83it/s]\u001b[A\n",
      " 38%|███▊      | 30/79 [00:10<00:17,  2.83it/s]\u001b[A\n",
      " 39%|███▉      | 31/79 [00:10<00:16,  2.82it/s]\u001b[A\n",
      " 41%|████      | 32/79 [00:10<00:16,  2.83it/s]\u001b[A\n",
      " 42%|████▏     | 33/79 [00:11<00:16,  2.84it/s]\u001b[A\n",
      " 43%|████▎     | 34/79 [00:11<00:15,  2.84it/s]\u001b[A\n",
      " 44%|████▍     | 35/79 [00:11<00:15,  2.84it/s]\u001b[A\n",
      " 46%|████▌     | 36/79 [00:12<00:15,  2.84it/s]\u001b[A\n",
      " 47%|████▋     | 37/79 [00:12<00:14,  2.84it/s]\u001b[A\n",
      " 48%|████▊     | 38/79 [00:13<00:14,  2.83it/s]\u001b[A\n",
      " 49%|████▉     | 39/79 [00:13<00:14,  2.84it/s]\u001b[A\n",
      " 51%|█████     | 40/79 [00:13<00:13,  2.84it/s]\u001b[A\n",
      " 52%|█████▏    | 41/79 [00:14<00:13,  2.83it/s]\u001b[A\n",
      " 53%|█████▎    | 42/79 [00:14<00:13,  2.84it/s]\u001b[A\n",
      " 54%|█████▍    | 43/79 [00:14<00:12,  2.84it/s]\u001b[A\n",
      " 56%|█████▌    | 44/79 [00:15<00:12,  2.84it/s]\u001b[A\n",
      " 57%|█████▋    | 45/79 [00:15<00:11,  2.84it/s]\u001b[A\n",
      " 58%|█████▊    | 46/79 [00:15<00:11,  2.84it/s]\u001b[A\n",
      " 59%|█████▉    | 47/79 [00:16<00:11,  2.84it/s]\u001b[A\n",
      " 61%|██████    | 48/79 [00:16<00:10,  2.83it/s]\u001b[A\n",
      " 62%|██████▏   | 49/79 [00:16<00:10,  2.84it/s]\u001b[A\n",
      " 63%|██████▎   | 50/79 [00:17<00:10,  2.84it/s]\u001b[A\n",
      " 65%|██████▍   | 51/79 [00:17<00:09,  2.84it/s]\u001b[A\n",
      " 66%|██████▌   | 52/79 [00:17<00:09,  2.83it/s]\u001b[A\n",
      " 67%|██████▋   | 53/79 [00:18<00:09,  2.83it/s]\u001b[A\n",
      " 68%|██████▊   | 54/79 [00:18<00:08,  2.84it/s]\u001b[A\n",
      " 70%|██████▉   | 55/79 [00:19<00:08,  2.83it/s]\u001b[A\n",
      " 71%|███████   | 56/79 [00:19<00:08,  2.83it/s]\u001b[A\n",
      " 72%|███████▏  | 57/79 [00:19<00:07,  2.82it/s]\u001b[A\n",
      " 73%|███████▎  | 58/79 [00:20<00:07,  2.83it/s]\u001b[A\n",
      " 75%|███████▍  | 59/79 [00:20<00:07,  2.83it/s]\u001b[A\n",
      " 76%|███████▌  | 60/79 [00:20<00:06,  2.83it/s]\u001b[A\n",
      " 77%|███████▋  | 61/79 [00:21<00:06,  2.82it/s]\u001b[A\n",
      " 78%|███████▊  | 62/79 [00:21<00:06,  2.83it/s]\u001b[A\n",
      " 80%|███████▉  | 63/79 [00:21<00:05,  2.83it/s]\u001b[A\n",
      " 81%|████████  | 64/79 [00:22<00:05,  2.83it/s]\u001b[A\n",
      " 82%|████████▏ | 65/79 [00:22<00:04,  2.82it/s]\u001b[A\n",
      " 84%|████████▎ | 66/79 [00:22<00:04,  2.82it/s]\u001b[A\n",
      " 85%|████████▍ | 67/79 [00:23<00:04,  2.82it/s]\u001b[A\n",
      " 86%|████████▌ | 68/79 [00:23<00:03,  2.82it/s]\u001b[A\n",
      " 87%|████████▋ | 69/79 [00:23<00:03,  2.82it/s]\u001b[A\n",
      " 89%|████████▊ | 70/79 [00:24<00:03,  2.82it/s]\u001b[A\n",
      " 90%|████████▉ | 71/79 [00:24<00:02,  2.82it/s]\u001b[A\n",
      " 91%|█████████ | 72/79 [00:25<00:02,  2.82it/s]\u001b[A\n",
      " 92%|█████████▏| 73/79 [00:25<00:02,  2.82it/s]\u001b[A\n",
      " 94%|█████████▎| 74/79 [00:25<00:01,  2.82it/s]\u001b[A\n",
      " 95%|█████████▍| 75/79 [00:26<00:01,  2.83it/s]\u001b[A\n",
      " 96%|█████████▌| 76/79 [00:26<00:01,  2.82it/s]\u001b[A\n",
      " 97%|█████████▋| 77/79 [00:26<00:00,  2.82it/s]\u001b[A\n",
      "                                                   \n",
      " 47%|████▋     | 1880/4000 [50:13<23:28,  1.51it/s]\n",
      "100%|██████████| 79/79 [00:27<00:00,  2.88it/s]\u001b[A\n",
      "                                               \u001b[A"
     ]
    },
    {
     "name": "stdout",
     "output_type": "stream",
     "text": [
      "{'eval_loss': 3.4494035243988037, 'eval_accuracy': 0.2061, 'eval_runtime': 27.6202, 'eval_samples_per_second': 362.054, 'eval_steps_per_second': 2.86, 'epoch': 47.0}\n"
     ]
    },
    {
     "name": "stderr",
     "output_type": "stream",
     "text": [
      " 47%|████▋     | 1890/4000 [50:23<43:59,  1.25s/it]  "
     ]
    },
    {
     "name": "stdout",
     "output_type": "stream",
     "text": [
      "{'loss': 1.4838, 'grad_norm': 31.407773971557617, 'learning_rate': 1.055e-05, 'epoch': 47.25}\n"
     ]
    },
    {
     "name": "stderr",
     "output_type": "stream",
     "text": [
      " 48%|████▊     | 1900/4000 [50:32<32:12,  1.09it/s]"
     ]
    },
    {
     "name": "stdout",
     "output_type": "stream",
     "text": [
      "{'loss': 1.47, 'grad_norm': 29.414432525634766, 'learning_rate': 1.0500000000000001e-05, 'epoch': 47.5}\n"
     ]
    },
    {
     "name": "stderr",
     "output_type": "stream",
     "text": [
      " 48%|████▊     | 1910/4000 [50:42<31:27,  1.11it/s]"
     ]
    },
    {
     "name": "stdout",
     "output_type": "stream",
     "text": [
      "{'loss': 1.4846, 'grad_norm': 32.01239776611328, 'learning_rate': 1.045e-05, 'epoch': 47.75}\n"
     ]
    },
    {
     "name": "stderr",
     "output_type": "stream",
     "text": [
      " 48%|████▊     | 1920/4000 [50:50<23:00,  1.51it/s]"
     ]
    },
    {
     "name": "stdout",
     "output_type": "stream",
     "text": [
      "{'loss': 1.4547, 'grad_norm': 108.0006332397461, 'learning_rate': 1.04e-05, 'epoch': 48.0}\n"
     ]
    },
    {
     "name": "stderr",
     "output_type": "stream",
     "text": [
      "\n",
      "  0%|          | 0/79 [00:00<?, ?it/s]\u001b[A\n",
      "  3%|▎         | 2/79 [00:00<00:13,  5.81it/s]\u001b[A\n",
      "  4%|▍         | 3/79 [00:00<00:19,  3.97it/s]\u001b[A\n",
      "  5%|▌         | 4/79 [00:01<00:21,  3.46it/s]\u001b[A\n",
      "  6%|▋         | 5/79 [00:01<00:22,  3.24it/s]\u001b[A\n",
      "  8%|▊         | 6/79 [00:01<00:23,  3.10it/s]\u001b[A\n",
      "  9%|▉         | 7/79 [00:02<00:23,  3.01it/s]\u001b[A\n",
      " 10%|█         | 8/79 [00:02<00:23,  2.97it/s]\u001b[A\n",
      " 11%|█▏        | 9/79 [00:02<00:23,  2.92it/s]\u001b[A\n",
      " 13%|█▎        | 10/79 [00:03<00:23,  2.89it/s]\u001b[A\n",
      " 14%|█▍        | 11/79 [00:03<00:23,  2.87it/s]\u001b[A\n",
      " 15%|█▌        | 12/79 [00:03<00:23,  2.86it/s]\u001b[A\n",
      " 16%|█▋        | 13/79 [00:04<00:23,  2.86it/s]\u001b[A\n",
      " 18%|█▊        | 14/79 [00:04<00:22,  2.85it/s]\u001b[A\n",
      " 19%|█▉        | 15/79 [00:04<00:22,  2.85it/s]\u001b[A\n",
      " 20%|██        | 16/79 [00:05<00:22,  2.85it/s]\u001b[A\n",
      " 22%|██▏       | 17/79 [00:05<00:21,  2.83it/s]\u001b[A\n",
      " 23%|██▎       | 18/79 [00:05<00:21,  2.84it/s]\u001b[A\n",
      " 24%|██▍       | 19/79 [00:06<00:21,  2.84it/s]\u001b[A\n",
      " 25%|██▌       | 20/79 [00:06<00:20,  2.83it/s]\u001b[A\n",
      " 27%|██▋       | 21/79 [00:07<00:20,  2.84it/s]\u001b[A\n",
      " 28%|██▊       | 22/79 [00:07<00:20,  2.84it/s]\u001b[A\n",
      " 29%|██▉       | 23/79 [00:07<00:19,  2.85it/s]\u001b[A\n",
      " 30%|███       | 24/79 [00:08<00:19,  2.83it/s]\u001b[A\n",
      " 32%|███▏      | 25/79 [00:08<00:19,  2.84it/s]\u001b[A\n",
      " 33%|███▎      | 26/79 [00:08<00:18,  2.83it/s]\u001b[A\n",
      " 34%|███▍      | 27/79 [00:09<00:18,  2.84it/s]\u001b[A\n",
      " 35%|███▌      | 28/79 [00:09<00:18,  2.83it/s]\u001b[A\n",
      " 37%|███▋      | 29/79 [00:09<00:17,  2.83it/s]\u001b[A\n",
      " 38%|███▊      | 30/79 [00:10<00:17,  2.83it/s]\u001b[A\n",
      " 39%|███▉      | 31/79 [00:10<00:16,  2.83it/s]\u001b[A\n",
      " 41%|████      | 32/79 [00:10<00:16,  2.84it/s]\u001b[A\n",
      " 42%|████▏     | 33/79 [00:11<00:16,  2.84it/s]\u001b[A\n",
      " 43%|████▎     | 34/79 [00:11<00:15,  2.84it/s]\u001b[A\n",
      " 44%|████▍     | 35/79 [00:11<00:15,  2.83it/s]\u001b[A\n",
      " 46%|████▌     | 36/79 [00:12<00:15,  2.83it/s]\u001b[A\n",
      " 47%|████▋     | 37/79 [00:12<00:14,  2.83it/s]\u001b[A\n",
      " 48%|████▊     | 38/79 [00:13<00:14,  2.82it/s]\u001b[A\n",
      " 49%|████▉     | 39/79 [00:13<00:14,  2.82it/s]\u001b[A\n",
      " 51%|█████     | 40/79 [00:13<00:13,  2.83it/s]\u001b[A\n",
      " 52%|█████▏    | 41/79 [00:14<00:13,  2.84it/s]\u001b[A\n",
      " 53%|█████▎    | 42/79 [00:14<00:13,  2.83it/s]\u001b[A\n",
      " 54%|█████▍    | 43/79 [00:14<00:12,  2.83it/s]\u001b[A\n",
      " 56%|█████▌    | 44/79 [00:15<00:12,  2.82it/s]\u001b[A\n",
      " 57%|█████▋    | 45/79 [00:15<00:12,  2.82it/s]\u001b[A\n",
      " 58%|█████▊    | 46/79 [00:15<00:11,  2.82it/s]\u001b[A\n",
      " 59%|█████▉    | 47/79 [00:16<00:11,  2.81it/s]\u001b[A\n",
      " 61%|██████    | 48/79 [00:16<00:11,  2.82it/s]\u001b[A\n",
      " 62%|██████▏   | 49/79 [00:16<00:10,  2.82it/s]\u001b[A\n",
      " 63%|██████▎   | 50/79 [00:17<00:10,  2.83it/s]\u001b[A\n",
      " 65%|██████▍   | 51/79 [00:17<00:09,  2.82it/s]\u001b[A\n",
      " 66%|██████▌   | 52/79 [00:18<00:09,  2.82it/s]\u001b[A\n",
      " 67%|██████▋   | 53/79 [00:18<00:09,  2.82it/s]\u001b[A\n",
      " 68%|██████▊   | 54/79 [00:18<00:08,  2.82it/s]\u001b[A\n",
      " 70%|██████▉   | 55/79 [00:19<00:08,  2.82it/s]\u001b[A\n",
      " 71%|███████   | 56/79 [00:19<00:08,  2.82it/s]\u001b[A\n",
      " 72%|███████▏  | 57/79 [00:19<00:07,  2.82it/s]\u001b[A\n",
      " 73%|███████▎  | 58/79 [00:20<00:07,  2.83it/s]\u001b[A\n",
      " 75%|███████▍  | 59/79 [00:20<00:07,  2.82it/s]\u001b[A\n",
      " 76%|███████▌  | 60/79 [00:20<00:06,  2.82it/s]\u001b[A\n",
      " 77%|███████▋  | 61/79 [00:21<00:06,  2.82it/s]\u001b[A\n",
      " 78%|███████▊  | 62/79 [00:21<00:06,  2.82it/s]\u001b[A\n",
      " 80%|███████▉  | 63/79 [00:21<00:05,  2.83it/s]\u001b[A\n",
      " 81%|████████  | 64/79 [00:22<00:05,  2.83it/s]\u001b[A\n",
      " 82%|████████▏ | 65/79 [00:22<00:04,  2.82it/s]\u001b[A\n",
      " 84%|████████▎ | 66/79 [00:22<00:04,  2.82it/s]\u001b[A\n",
      " 85%|████████▍ | 67/79 [00:23<00:04,  2.82it/s]\u001b[A\n",
      " 86%|████████▌ | 68/79 [00:23<00:03,  2.82it/s]\u001b[A\n",
      " 87%|████████▋ | 69/79 [00:24<00:03,  2.82it/s]\u001b[A\n",
      " 89%|████████▊ | 70/79 [00:24<00:03,  2.82it/s]\u001b[A\n",
      " 90%|████████▉ | 71/79 [00:24<00:02,  2.82it/s]\u001b[A\n",
      " 91%|█████████ | 72/79 [00:25<00:02,  2.82it/s]\u001b[A\n",
      " 92%|█████████▏| 73/79 [00:25<00:02,  2.82it/s]\u001b[A\n",
      " 94%|█████████▎| 74/79 [00:25<00:01,  2.83it/s]\u001b[A\n",
      " 95%|█████████▍| 75/79 [00:26<00:01,  2.82it/s]\u001b[A\n",
      " 96%|█████████▌| 76/79 [00:26<00:01,  2.82it/s]\u001b[A\n",
      " 97%|█████████▋| 77/79 [00:26<00:00,  2.83it/s]\u001b[A\n",
      "                                                   \n",
      " 48%|████▊     | 1920/4000 [51:17<23:00,  1.51it/s]\n",
      "100%|██████████| 79/79 [00:27<00:00,  2.88it/s]\u001b[A\n",
      "                                               \u001b[A"
     ]
    },
    {
     "name": "stdout",
     "output_type": "stream",
     "text": [
      "{'eval_loss': 3.4640023708343506, 'eval_accuracy': 0.2047, 'eval_runtime': 27.6887, 'eval_samples_per_second': 361.158, 'eval_steps_per_second': 2.853, 'epoch': 48.0}\n"
     ]
    },
    {
     "name": "stderr",
     "output_type": "stream",
     "text": [
      " 48%|████▊     | 1930/4000 [51:28<43:20,  1.26s/it]  "
     ]
    },
    {
     "name": "stdout",
     "output_type": "stream",
     "text": [
      "{'loss': 1.4168, 'grad_norm': 31.793947219848633, 'learning_rate': 1.0350000000000001e-05, 'epoch': 48.25}\n"
     ]
    },
    {
     "name": "stderr",
     "output_type": "stream",
     "text": [
      " 48%|████▊     | 1940/4000 [51:37<31:24,  1.09it/s]"
     ]
    },
    {
     "name": "stdout",
     "output_type": "stream",
     "text": [
      "{'loss': 1.404, 'grad_norm': 30.11558723449707, 'learning_rate': 1.0300000000000001e-05, 'epoch': 48.5}\n"
     ]
    },
    {
     "name": "stderr",
     "output_type": "stream",
     "text": [
      " 49%|████▉     | 1950/4000 [51:46<30:58,  1.10it/s]"
     ]
    },
    {
     "name": "stdout",
     "output_type": "stream",
     "text": [
      "{'loss': 1.4544, 'grad_norm': 29.23419761657715, 'learning_rate': 1.025e-05, 'epoch': 48.75}\n"
     ]
    },
    {
     "name": "stderr",
     "output_type": "stream",
     "text": [
      " 49%|████▉     | 1960/4000 [51:54<22:37,  1.50it/s]"
     ]
    },
    {
     "name": "stdout",
     "output_type": "stream",
     "text": [
      "{'loss': 1.4512, 'grad_norm': 103.6443862915039, 'learning_rate': 1.02e-05, 'epoch': 49.0}\n"
     ]
    },
    {
     "name": "stderr",
     "output_type": "stream",
     "text": [
      "\n",
      "  0%|          | 0/79 [00:00<?, ?it/s]\u001b[A\n",
      "  3%|▎         | 2/79 [00:00<00:13,  5.84it/s]\u001b[A\n",
      "  4%|▍         | 3/79 [00:00<00:19,  3.96it/s]\u001b[A\n",
      "  5%|▌         | 4/79 [00:01<00:21,  3.47it/s]\u001b[A\n",
      "  6%|▋         | 5/79 [00:01<00:22,  3.25it/s]\u001b[A\n",
      "  8%|▊         | 6/79 [00:01<00:23,  3.09it/s]\u001b[A\n",
      "  9%|▉         | 7/79 [00:02<00:23,  3.00it/s]\u001b[A\n",
      " 10%|█         | 8/79 [00:02<00:24,  2.94it/s]\u001b[A\n",
      " 11%|█▏        | 9/79 [00:02<00:24,  2.91it/s]\u001b[A\n",
      " 13%|█▎        | 10/79 [00:03<00:23,  2.88it/s]\u001b[A\n",
      " 14%|█▍        | 11/79 [00:03<00:23,  2.87it/s]\u001b[A\n",
      " 15%|█▌        | 12/79 [00:03<00:23,  2.85it/s]\u001b[A\n",
      " 16%|█▋        | 13/79 [00:04<00:23,  2.84it/s]\u001b[A\n",
      " 18%|█▊        | 14/79 [00:04<00:22,  2.84it/s]\u001b[A\n",
      " 19%|█▉        | 15/79 [00:04<00:22,  2.84it/s]\u001b[A\n",
      " 20%|██        | 16/79 [00:05<00:22,  2.84it/s]\u001b[A\n",
      " 22%|██▏       | 17/79 [00:05<00:21,  2.84it/s]\u001b[A\n",
      " 23%|██▎       | 18/79 [00:06<00:21,  2.83it/s]\u001b[A\n",
      " 24%|██▍       | 19/79 [00:06<00:21,  2.84it/s]\u001b[A\n",
      " 25%|██▌       | 20/79 [00:06<00:20,  2.83it/s]\u001b[A\n",
      " 27%|██▋       | 21/79 [00:07<00:20,  2.84it/s]\u001b[A\n",
      " 28%|██▊       | 22/79 [00:07<00:20,  2.83it/s]\u001b[A\n",
      " 29%|██▉       | 23/79 [00:07<00:19,  2.83it/s]\u001b[A\n",
      " 30%|███       | 24/79 [00:08<00:19,  2.82it/s]\u001b[A\n",
      " 32%|███▏      | 25/79 [00:08<00:19,  2.82it/s]\u001b[A\n",
      " 33%|███▎      | 26/79 [00:08<00:18,  2.83it/s]\u001b[A\n",
      " 34%|███▍      | 27/79 [00:09<00:18,  2.83it/s]\u001b[A\n",
      " 35%|███▌      | 28/79 [00:09<00:18,  2.82it/s]\u001b[A\n",
      " 37%|███▋      | 29/79 [00:09<00:17,  2.82it/s]\u001b[A\n",
      " 38%|███▊      | 30/79 [00:10<00:17,  2.82it/s]\u001b[A\n",
      " 39%|███▉      | 31/79 [00:10<00:17,  2.82it/s]\u001b[A\n",
      " 41%|████      | 32/79 [00:10<00:16,  2.82it/s]\u001b[A\n",
      " 42%|████▏     | 33/79 [00:11<00:16,  2.82it/s]\u001b[A\n",
      " 43%|████▎     | 34/79 [00:11<00:15,  2.82it/s]\u001b[A\n",
      " 44%|████▍     | 35/79 [00:12<00:15,  2.82it/s]\u001b[A\n",
      " 46%|████▌     | 36/79 [00:12<00:15,  2.83it/s]\u001b[A\n",
      " 47%|████▋     | 37/79 [00:12<00:14,  2.83it/s]\u001b[A\n",
      " 48%|████▊     | 38/79 [00:13<00:14,  2.82it/s]\u001b[A\n",
      " 49%|████▉     | 39/79 [00:13<00:14,  2.82it/s]\u001b[A\n",
      " 51%|█████     | 40/79 [00:13<00:13,  2.82it/s]\u001b[A\n",
      " 52%|█████▏    | 41/79 [00:14<00:13,  2.82it/s]\u001b[A\n",
      " 53%|█████▎    | 42/79 [00:14<00:13,  2.82it/s]\u001b[A\n",
      " 54%|█████▍    | 43/79 [00:14<00:12,  2.83it/s]\u001b[A\n",
      " 56%|█████▌    | 44/79 [00:15<00:12,  2.83it/s]\u001b[A\n",
      " 57%|█████▋    | 45/79 [00:15<00:12,  2.82it/s]\u001b[A\n",
      " 58%|█████▊    | 46/79 [00:15<00:11,  2.82it/s]\u001b[A\n",
      " 59%|█████▉    | 47/79 [00:16<00:11,  2.82it/s]\u001b[A\n",
      " 61%|██████    | 48/79 [00:16<00:11,  2.82it/s]\u001b[A\n",
      " 62%|██████▏   | 49/79 [00:16<00:10,  2.82it/s]\u001b[A\n",
      " 63%|██████▎   | 50/79 [00:17<00:10,  2.82it/s]\u001b[A\n",
      " 65%|██████▍   | 51/79 [00:17<00:09,  2.82it/s]\u001b[A\n",
      " 66%|██████▌   | 52/79 [00:18<00:09,  2.82it/s]\u001b[A\n",
      " 67%|██████▋   | 53/79 [00:18<00:09,  2.82it/s]\u001b[A\n",
      " 68%|██████▊   | 54/79 [00:18<00:08,  2.82it/s]\u001b[A\n",
      " 70%|██████▉   | 55/79 [00:19<00:08,  2.82it/s]\u001b[A\n",
      " 71%|███████   | 56/79 [00:19<00:08,  2.82it/s]\u001b[A\n",
      " 72%|███████▏  | 57/79 [00:19<00:07,  2.83it/s]\u001b[A\n",
      " 73%|███████▎  | 58/79 [00:20<00:07,  2.82it/s]\u001b[A\n",
      " 75%|███████▍  | 59/79 [00:20<00:07,  2.82it/s]\u001b[A\n",
      " 76%|███████▌  | 60/79 [00:20<00:06,  2.82it/s]\u001b[A\n",
      " 77%|███████▋  | 61/79 [00:21<00:06,  2.83it/s]\u001b[A\n",
      " 78%|███████▊  | 62/79 [00:21<00:06,  2.82it/s]\u001b[A\n",
      " 80%|███████▉  | 63/79 [00:21<00:05,  2.82it/s]\u001b[A\n",
      " 81%|████████  | 64/79 [00:22<00:05,  2.83it/s]\u001b[A\n",
      " 82%|████████▏ | 65/79 [00:22<00:04,  2.82it/s]\u001b[A\n",
      " 84%|████████▎ | 66/79 [00:23<00:04,  2.82it/s]\u001b[A\n",
      " 85%|████████▍ | 67/79 [00:23<00:04,  2.82it/s]\u001b[A\n",
      " 86%|████████▌ | 68/79 [00:23<00:03,  2.81it/s]\u001b[A\n",
      " 87%|████████▋ | 69/79 [00:24<00:03,  2.82it/s]\u001b[A\n",
      " 89%|████████▊ | 70/79 [00:24<00:03,  2.82it/s]\u001b[A\n",
      " 90%|████████▉ | 71/79 [00:24<00:02,  2.82it/s]\u001b[A\n",
      " 91%|█████████ | 72/79 [00:25<00:02,  2.82it/s]\u001b[A\n",
      " 92%|█████████▏| 73/79 [00:25<00:02,  2.83it/s]\u001b[A\n",
      " 94%|█████████▎| 74/79 [00:25<00:01,  2.82it/s]\u001b[A\n",
      " 95%|█████████▍| 75/79 [00:26<00:01,  2.82it/s]\u001b[A\n",
      " 96%|█████████▌| 76/79 [00:26<00:01,  2.82it/s]\u001b[A\n",
      " 97%|█████████▋| 77/79 [00:26<00:00,  2.82it/s]\u001b[A\n",
      "                                                   \n",
      " 49%|████▉     | 1960/4000 [52:22<22:37,  1.50it/s]\n",
      "100%|██████████| 79/79 [00:27<00:00,  2.88it/s]\u001b[A\n",
      "                                               \u001b[A"
     ]
    },
    {
     "name": "stdout",
     "output_type": "stream",
     "text": [
      "{'eval_loss': 3.4554624557495117, 'eval_accuracy': 0.2051, 'eval_runtime': 27.7188, 'eval_samples_per_second': 360.766, 'eval_steps_per_second': 2.85, 'epoch': 49.0}\n"
     ]
    },
    {
     "name": "stderr",
     "output_type": "stream",
     "text": [
      " 49%|████▉     | 1970/4000 [52:32<42:15,  1.25s/it]  "
     ]
    },
    {
     "name": "stdout",
     "output_type": "stream",
     "text": [
      "{'loss': 1.3713, 'grad_norm': 28.529672622680664, 'learning_rate': 1.015e-05, 'epoch': 49.25}\n"
     ]
    },
    {
     "name": "stderr",
     "output_type": "stream",
     "text": [
      " 50%|████▉     | 1980/4000 [52:41<31:00,  1.09it/s]"
     ]
    },
    {
     "name": "stdout",
     "output_type": "stream",
     "text": [
      "{'loss': 1.371, 'grad_norm': 31.59132194519043, 'learning_rate': 1.0100000000000002e-05, 'epoch': 49.5}\n"
     ]
    },
    {
     "name": "stderr",
     "output_type": "stream",
     "text": [
      " 50%|████▉     | 1990/4000 [52:50<30:30,  1.10it/s]"
     ]
    },
    {
     "name": "stdout",
     "output_type": "stream",
     "text": [
      "{'loss': 1.3787, 'grad_norm': 29.51711082458496, 'learning_rate': 1.005e-05, 'epoch': 49.75}\n"
     ]
    },
    {
     "name": "stderr",
     "output_type": "stream",
     "text": [
      " 50%|█████     | 2000/4000 [52:58<22:15,  1.50it/s]"
     ]
    },
    {
     "name": "stdout",
     "output_type": "stream",
     "text": [
      "{'loss': 1.4515, 'grad_norm': 105.17449951171875, 'learning_rate': 1e-05, 'epoch': 50.0}\n"
     ]
    },
    {
     "name": "stderr",
     "output_type": "stream",
     "text": [
      "\n",
      "  0%|          | 0/79 [00:00<?, ?it/s]\u001b[A\n",
      "  3%|▎         | 2/79 [00:00<00:13,  5.82it/s]\u001b[A\n",
      "  4%|▍         | 3/79 [00:00<00:19,  3.96it/s]\u001b[A\n",
      "  5%|▌         | 4/79 [00:01<00:21,  3.48it/s]\u001b[A\n",
      "  6%|▋         | 5/79 [00:01<00:22,  3.23it/s]\u001b[A\n",
      "  8%|▊         | 6/79 [00:01<00:23,  3.08it/s]\u001b[A\n",
      "  9%|▉         | 7/79 [00:02<00:24,  3.00it/s]\u001b[A\n",
      " 10%|█         | 8/79 [00:02<00:24,  2.95it/s]\u001b[A\n",
      " 11%|█▏        | 9/79 [00:02<00:24,  2.91it/s]\u001b[A\n",
      " 13%|█▎        | 10/79 [00:03<00:23,  2.90it/s]\u001b[A\n",
      " 14%|█▍        | 11/79 [00:03<00:23,  2.89it/s]\u001b[A\n",
      " 15%|█▌        | 12/79 [00:03<00:23,  2.87it/s]\u001b[A\n",
      " 16%|█▋        | 13/79 [00:04<00:23,  2.86it/s]\u001b[A\n",
      " 18%|█▊        | 14/79 [00:04<00:22,  2.86it/s]\u001b[A\n",
      " 19%|█▉        | 15/79 [00:04<00:22,  2.85it/s]\u001b[A\n",
      " 20%|██        | 16/79 [00:05<00:22,  2.86it/s]\u001b[A\n",
      " 22%|██▏       | 17/79 [00:05<00:21,  2.87it/s]\u001b[A\n",
      " 23%|██▎       | 18/79 [00:05<00:21,  2.87it/s]\u001b[A\n",
      " 24%|██▍       | 19/79 [00:06<00:20,  2.86it/s]\u001b[A\n",
      " 25%|██▌       | 20/79 [00:06<00:20,  2.85it/s]\u001b[A\n",
      " 27%|██▋       | 21/79 [00:07<00:20,  2.87it/s]\u001b[A\n",
      " 28%|██▊       | 22/79 [00:07<00:19,  2.87it/s]\u001b[A\n",
      " 29%|██▉       | 23/79 [00:07<00:19,  2.86it/s]\u001b[A\n",
      " 30%|███       | 24/79 [00:08<00:19,  2.86it/s]\u001b[A\n",
      " 32%|███▏      | 25/79 [00:08<00:18,  2.85it/s]\u001b[A\n",
      " 33%|███▎      | 26/79 [00:08<00:18,  2.85it/s]\u001b[A\n",
      " 34%|███▍      | 27/79 [00:09<00:18,  2.84it/s]\u001b[A\n",
      " 35%|███▌      | 28/79 [00:09<00:17,  2.84it/s]\u001b[A\n",
      " 37%|███▋      | 29/79 [00:09<00:17,  2.84it/s]\u001b[A\n",
      " 38%|███▊      | 30/79 [00:10<00:17,  2.85it/s]\u001b[A\n",
      " 39%|███▉      | 31/79 [00:10<00:16,  2.86it/s]\u001b[A\n",
      " 41%|████      | 32/79 [00:10<00:16,  2.85it/s]\u001b[A\n",
      " 42%|████▏     | 33/79 [00:11<00:16,  2.85it/s]\u001b[A\n",
      " 43%|████▎     | 34/79 [00:11<00:15,  2.86it/s]\u001b[A\n",
      " 44%|████▍     | 35/79 [00:11<00:15,  2.86it/s]\u001b[A\n",
      " 46%|████▌     | 36/79 [00:12<00:15,  2.85it/s]\u001b[A\n",
      " 47%|████▋     | 37/79 [00:12<00:14,  2.84it/s]\u001b[A\n",
      " 48%|████▊     | 38/79 [00:12<00:14,  2.83it/s]\u001b[A\n",
      " 49%|████▉     | 39/79 [00:13<00:14,  2.83it/s]\u001b[A\n",
      " 51%|█████     | 40/79 [00:13<00:13,  2.83it/s]\u001b[A\n",
      " 52%|█████▏    | 41/79 [00:14<00:13,  2.83it/s]\u001b[A\n",
      " 53%|█████▎    | 42/79 [00:14<00:13,  2.83it/s]\u001b[A\n",
      " 54%|█████▍    | 43/79 [00:14<00:12,  2.84it/s]\u001b[A\n",
      " 56%|█████▌    | 44/79 [00:15<00:12,  2.84it/s]\u001b[A\n",
      " 57%|█████▋    | 45/79 [00:15<00:11,  2.84it/s]\u001b[A\n",
      " 58%|█████▊    | 46/79 [00:15<00:11,  2.84it/s]\u001b[A\n",
      " 59%|█████▉    | 47/79 [00:16<00:11,  2.85it/s]\u001b[A\n",
      " 61%|██████    | 48/79 [00:16<00:10,  2.84it/s]\u001b[A\n",
      " 62%|██████▏   | 49/79 [00:16<00:10,  2.84it/s]\u001b[A\n",
      " 63%|██████▎   | 50/79 [00:17<00:10,  2.85it/s]\u001b[A\n",
      " 65%|██████▍   | 51/79 [00:17<00:09,  2.84it/s]\u001b[A\n",
      " 66%|██████▌   | 52/79 [00:17<00:09,  2.84it/s]\u001b[A\n",
      " 67%|██████▋   | 53/79 [00:18<00:09,  2.85it/s]\u001b[A\n",
      " 68%|██████▊   | 54/79 [00:18<00:08,  2.84it/s]\u001b[A\n",
      " 70%|██████▉   | 55/79 [00:18<00:08,  2.84it/s]\u001b[A\n",
      " 71%|███████   | 56/79 [00:19<00:08,  2.84it/s]\u001b[A\n",
      " 72%|███████▏  | 57/79 [00:19<00:07,  2.84it/s]\u001b[A\n",
      " 73%|███████▎  | 58/79 [00:20<00:07,  2.83it/s]\u001b[A\n",
      " 75%|███████▍  | 59/79 [00:20<00:07,  2.84it/s]\u001b[A\n",
      " 76%|███████▌  | 60/79 [00:20<00:06,  2.83it/s]\u001b[A\n",
      " 77%|███████▋  | 61/79 [00:21<00:06,  2.84it/s]\u001b[A\n",
      " 78%|███████▊  | 62/79 [00:21<00:05,  2.84it/s]\u001b[A\n",
      " 80%|███████▉  | 63/79 [00:21<00:05,  2.83it/s]\u001b[A\n",
      " 81%|████████  | 64/79 [00:22<00:05,  2.84it/s]\u001b[A\n",
      " 82%|████████▏ | 65/79 [00:22<00:04,  2.84it/s]\u001b[A\n",
      " 84%|████████▎ | 66/79 [00:22<00:04,  2.84it/s]\u001b[A\n",
      " 85%|████████▍ | 67/79 [00:23<00:04,  2.84it/s]\u001b[A\n",
      " 86%|████████▌ | 68/79 [00:23<00:03,  2.84it/s]\u001b[A\n",
      " 87%|████████▋ | 69/79 [00:23<00:03,  2.83it/s]\u001b[A\n",
      " 89%|████████▊ | 70/79 [00:24<00:03,  2.83it/s]\u001b[A\n",
      " 90%|████████▉ | 71/79 [00:24<00:02,  2.83it/s]\u001b[A\n",
      " 91%|█████████ | 72/79 [00:24<00:02,  2.83it/s]\u001b[A\n",
      " 92%|█████████▏| 73/79 [00:25<00:02,  2.83it/s]\u001b[A\n",
      " 94%|█████████▎| 74/79 [00:25<00:01,  2.83it/s]\u001b[A\n",
      " 95%|█████████▍| 75/79 [00:26<00:01,  2.83it/s]\u001b[A\n",
      " 96%|█████████▌| 76/79 [00:26<00:01,  2.82it/s]\u001b[A\n",
      " 97%|█████████▋| 77/79 [00:26<00:00,  2.83it/s]\u001b[A\n",
      "                                                   \n",
      " 50%|█████     | 2000/4000 [53:26<22:15,  1.50it/s]\n",
      "100%|██████████| 79/79 [00:27<00:00,  2.90it/s]\u001b[A\n",
      "                                               \u001b[A"
     ]
    },
    {
     "name": "stdout",
     "output_type": "stream",
     "text": [
      "{'eval_loss': 3.471357822418213, 'eval_accuracy': 0.2071, 'eval_runtime': 27.5446, 'eval_samples_per_second': 363.048, 'eval_steps_per_second': 2.868, 'epoch': 50.0}\n"
     ]
    },
    {
     "name": "stderr",
     "output_type": "stream",
     "text": [
      " 50%|█████     | 2010/4000 [53:36<41:28,  1.25s/it]  "
     ]
    },
    {
     "name": "stdout",
     "output_type": "stream",
     "text": [
      "{'loss': 1.3249, 'grad_norm': 28.239761352539062, 'learning_rate': 9.950000000000001e-06, 'epoch': 50.25}\n"
     ]
    },
    {
     "name": "stderr",
     "output_type": "stream",
     "text": [
      " 50%|█████     | 2020/4000 [53:45<30:23,  1.09it/s]"
     ]
    },
    {
     "name": "stdout",
     "output_type": "stream",
     "text": [
      "{'loss': 1.3482, 'grad_norm': 31.691234588623047, 'learning_rate': 9.9e-06, 'epoch': 50.5}\n"
     ]
    },
    {
     "name": "stderr",
     "output_type": "stream",
     "text": [
      " 51%|█████     | 2030/4000 [53:54<29:50,  1.10it/s]"
     ]
    },
    {
     "name": "stdout",
     "output_type": "stream",
     "text": [
      "{'loss': 1.3839, 'grad_norm': 32.7871208190918, 'learning_rate': 9.85e-06, 'epoch': 50.75}\n"
     ]
    },
    {
     "name": "stderr",
     "output_type": "stream",
     "text": [
      " 51%|█████     | 2040/4000 [54:03<21:42,  1.50it/s]"
     ]
    },
    {
     "name": "stdout",
     "output_type": "stream",
     "text": [
      "{'loss': 1.3438, 'grad_norm': 78.37100982666016, 'learning_rate': 9.800000000000001e-06, 'epoch': 51.0}\n"
     ]
    },
    {
     "name": "stderr",
     "output_type": "stream",
     "text": [
      "\n",
      "  0%|          | 0/79 [00:00<?, ?it/s]\u001b[A\n",
      "  3%|▎         | 2/79 [00:00<00:13,  5.87it/s]\u001b[A\n",
      "  4%|▍         | 3/79 [00:00<00:19,  3.98it/s]\u001b[A\n",
      "  5%|▌         | 4/79 [00:01<00:21,  3.46it/s]\u001b[A\n",
      "  6%|▋         | 5/79 [00:01<00:23,  3.22it/s]\u001b[A\n",
      "  8%|▊         | 6/79 [00:01<00:23,  3.07it/s]\u001b[A\n",
      "  9%|▉         | 7/79 [00:02<00:24,  2.99it/s]\u001b[A\n",
      " 10%|█         | 8/79 [00:02<00:24,  2.94it/s]\u001b[A\n",
      " 11%|█▏        | 9/79 [00:02<00:24,  2.92it/s]\u001b[A\n",
      " 13%|█▎        | 10/79 [00:03<00:23,  2.90it/s]\u001b[A\n",
      " 14%|█▍        | 11/79 [00:03<00:23,  2.87it/s]\u001b[A\n",
      " 15%|█▌        | 12/79 [00:03<00:23,  2.86it/s]\u001b[A\n",
      " 16%|█▋        | 13/79 [00:04<00:23,  2.85it/s]\u001b[A\n",
      " 18%|█▊        | 14/79 [00:04<00:22,  2.84it/s]\u001b[A\n",
      " 19%|█▉        | 15/79 [00:04<00:22,  2.83it/s]\u001b[A\n",
      " 20%|██        | 16/79 [00:05<00:22,  2.83it/s]\u001b[A\n",
      " 22%|██▏       | 17/79 [00:05<00:21,  2.83it/s]\u001b[A\n",
      " 23%|██▎       | 18/79 [00:06<00:21,  2.83it/s]\u001b[A\n",
      " 24%|██▍       | 19/79 [00:06<00:21,  2.85it/s]\u001b[A\n",
      " 25%|██▌       | 20/79 [00:06<00:20,  2.84it/s]\u001b[A\n",
      " 27%|██▋       | 21/79 [00:07<00:20,  2.84it/s]\u001b[A\n",
      " 28%|██▊       | 22/79 [00:07<00:20,  2.84it/s]\u001b[A\n",
      " 29%|██▉       | 23/79 [00:07<00:19,  2.84it/s]\u001b[A\n",
      " 30%|███       | 24/79 [00:08<00:19,  2.84it/s]\u001b[A\n",
      " 32%|███▏      | 25/79 [00:08<00:19,  2.84it/s]\u001b[A\n",
      " 33%|███▎      | 26/79 [00:08<00:18,  2.83it/s]\u001b[A\n",
      " 34%|███▍      | 27/79 [00:09<00:18,  2.82it/s]\u001b[A\n",
      " 35%|███▌      | 28/79 [00:09<00:17,  2.84it/s]\u001b[A\n",
      " 37%|███▋      | 29/79 [00:09<00:17,  2.83it/s]\u001b[A\n",
      " 38%|███▊      | 30/79 [00:10<00:17,  2.82it/s]\u001b[A\n",
      " 39%|███▉      | 31/79 [00:10<00:17,  2.82it/s]\u001b[A\n",
      " 41%|████      | 32/79 [00:10<00:16,  2.83it/s]\u001b[A\n",
      " 42%|████▏     | 33/79 [00:11<00:16,  2.83it/s]\u001b[A\n",
      " 43%|████▎     | 34/79 [00:11<00:15,  2.83it/s]\u001b[A\n",
      " 44%|████▍     | 35/79 [00:12<00:15,  2.82it/s]\u001b[A\n",
      " 46%|████▌     | 36/79 [00:12<00:15,  2.83it/s]\u001b[A\n",
      " 47%|████▋     | 37/79 [00:12<00:14,  2.82it/s]\u001b[A\n",
      " 48%|████▊     | 38/79 [00:13<00:14,  2.83it/s]\u001b[A\n",
      " 49%|████▉     | 39/79 [00:13<00:14,  2.83it/s]\u001b[A\n",
      " 51%|█████     | 40/79 [00:13<00:13,  2.83it/s]\u001b[A\n",
      " 52%|█████▏    | 41/79 [00:14<00:13,  2.82it/s]\u001b[A\n",
      " 53%|█████▎    | 42/79 [00:14<00:13,  2.83it/s]\u001b[A\n",
      " 54%|█████▍    | 43/79 [00:14<00:12,  2.82it/s]\u001b[A\n",
      " 56%|█████▌    | 44/79 [00:15<00:12,  2.83it/s]\u001b[A\n",
      " 57%|█████▋    | 45/79 [00:15<00:12,  2.82it/s]\u001b[A\n",
      " 58%|█████▊    | 46/79 [00:15<00:11,  2.83it/s]\u001b[A\n",
      " 59%|█████▉    | 47/79 [00:16<00:11,  2.82it/s]\u001b[A\n",
      " 61%|██████    | 48/79 [00:16<00:10,  2.83it/s]\u001b[A\n",
      " 62%|██████▏   | 49/79 [00:16<00:10,  2.82it/s]\u001b[A\n",
      " 63%|██████▎   | 50/79 [00:17<00:10,  2.83it/s]\u001b[A\n",
      " 65%|██████▍   | 51/79 [00:17<00:09,  2.82it/s]\u001b[A\n",
      " 66%|██████▌   | 52/79 [00:18<00:09,  2.82it/s]\u001b[A\n",
      " 67%|██████▋   | 53/79 [00:18<00:09,  2.82it/s]\u001b[A\n",
      " 68%|██████▊   | 54/79 [00:18<00:08,  2.82it/s]\u001b[A\n",
      " 70%|██████▉   | 55/79 [00:19<00:08,  2.82it/s]\u001b[A\n",
      " 71%|███████   | 56/79 [00:19<00:08,  2.82it/s]\u001b[A\n",
      " 72%|███████▏  | 57/79 [00:19<00:07,  2.82it/s]\u001b[A\n",
      " 73%|███████▎  | 58/79 [00:20<00:07,  2.82it/s]\u001b[A\n",
      " 75%|███████▍  | 59/79 [00:20<00:07,  2.82it/s]\u001b[A\n",
      " 76%|███████▌  | 60/79 [00:20<00:06,  2.82it/s]\u001b[A\n",
      " 77%|███████▋  | 61/79 [00:21<00:06,  2.82it/s]\u001b[A\n",
      " 78%|███████▊  | 62/79 [00:21<00:06,  2.83it/s]\u001b[A\n",
      " 80%|███████▉  | 63/79 [00:21<00:05,  2.81it/s]\u001b[A\n",
      " 81%|████████  | 64/79 [00:22<00:05,  2.82it/s]\u001b[A\n",
      " 82%|████████▏ | 65/79 [00:22<00:04,  2.82it/s]\u001b[A\n",
      " 84%|████████▎ | 66/79 [00:22<00:04,  2.82it/s]\u001b[A\n",
      " 85%|████████▍ | 67/79 [00:23<00:04,  2.82it/s]\u001b[A\n",
      " 86%|████████▌ | 68/79 [00:23<00:03,  2.83it/s]\u001b[A\n",
      " 87%|████████▋ | 69/79 [00:24<00:03,  2.82it/s]\u001b[A\n",
      " 89%|████████▊ | 70/79 [00:24<00:03,  2.83it/s]\u001b[A\n",
      " 90%|████████▉ | 71/79 [00:24<00:02,  2.83it/s]\u001b[A\n",
      " 91%|█████████ | 72/79 [00:25<00:02,  2.82it/s]\u001b[A\n",
      " 92%|█████████▏| 73/79 [00:25<00:02,  2.82it/s]\u001b[A\n",
      " 94%|█████████▎| 74/79 [00:25<00:01,  2.82it/s]\u001b[A\n",
      " 95%|█████████▍| 75/79 [00:26<00:01,  2.82it/s]\u001b[A\n",
      " 96%|█████████▌| 76/79 [00:26<00:01,  2.82it/s]\u001b[A\n",
      " 97%|█████████▋| 77/79 [00:26<00:00,  2.82it/s]\u001b[A\n",
      "                                                   \n",
      " 51%|█████     | 2040/4000 [54:30<21:42,  1.50it/s]\n",
      "100%|██████████| 79/79 [00:27<00:00,  2.87it/s]\u001b[A\n",
      "                                               \u001b[A"
     ]
    },
    {
     "name": "stdout",
     "output_type": "stream",
     "text": [
      "{'eval_loss': 3.4577906131744385, 'eval_accuracy': 0.2079, 'eval_runtime': 27.7029, 'eval_samples_per_second': 360.972, 'eval_steps_per_second': 2.852, 'epoch': 51.0}\n"
     ]
    },
    {
     "name": "stderr",
     "output_type": "stream",
     "text": [
      " 51%|█████▏    | 2050/4000 [54:41<40:35,  1.25s/it]  "
     ]
    },
    {
     "name": "stdout",
     "output_type": "stream",
     "text": [
      "{'loss': 1.3055, 'grad_norm': 29.223159790039062, 'learning_rate': 9.75e-06, 'epoch': 51.25}\n"
     ]
    },
    {
     "name": "stderr",
     "output_type": "stream",
     "text": [
      " 52%|█████▏    | 2060/4000 [54:50<29:46,  1.09it/s]"
     ]
    },
    {
     "name": "stdout",
     "output_type": "stream",
     "text": [
      "{'loss': 1.3157, 'grad_norm': 31.413158416748047, 'learning_rate': 9.7e-06, 'epoch': 51.5}\n"
     ]
    },
    {
     "name": "stderr",
     "output_type": "stream",
     "text": [
      " 52%|█████▏    | 2070/4000 [54:59<29:18,  1.10it/s]"
     ]
    },
    {
     "name": "stdout",
     "output_type": "stream",
     "text": [
      "{'loss': 1.3237, 'grad_norm': 34.293861389160156, 'learning_rate': 9.65e-06, 'epoch': 51.75}\n"
     ]
    },
    {
     "name": "stderr",
     "output_type": "stream",
     "text": [
      " 52%|█████▏    | 2080/4000 [55:07<21:11,  1.51it/s]"
     ]
    },
    {
     "name": "stdout",
     "output_type": "stream",
     "text": [
      "{'loss': 1.3523, 'grad_norm': 100.68891906738281, 'learning_rate': 9.600000000000001e-06, 'epoch': 52.0}\n"
     ]
    },
    {
     "name": "stderr",
     "output_type": "stream",
     "text": [
      "\n",
      "  0%|          | 0/79 [00:00<?, ?it/s]\u001b[A\n",
      "  3%|▎         | 2/79 [00:00<00:13,  5.84it/s]\u001b[A\n",
      "  4%|▍         | 3/79 [00:00<00:19,  3.98it/s]\u001b[A\n",
      "  5%|▌         | 4/79 [00:01<00:21,  3.47it/s]\u001b[A\n",
      "  6%|▋         | 5/79 [00:01<00:22,  3.26it/s]\u001b[A\n",
      "  8%|▊         | 6/79 [00:01<00:23,  3.11it/s]\u001b[A\n",
      "  9%|▉         | 7/79 [00:02<00:23,  3.01it/s]\u001b[A\n",
      " 10%|█         | 8/79 [00:02<00:23,  2.96it/s]\u001b[A\n",
      " 11%|█▏        | 9/79 [00:02<00:23,  2.94it/s]\u001b[A\n",
      " 13%|█▎        | 10/79 [00:03<00:23,  2.90it/s]\u001b[A\n",
      " 14%|█▍        | 11/79 [00:03<00:23,  2.89it/s]\u001b[A\n",
      " 15%|█▌        | 12/79 [00:03<00:23,  2.88it/s]\u001b[A\n",
      " 16%|█▋        | 13/79 [00:04<00:23,  2.86it/s]\u001b[A\n",
      " 18%|█▊        | 14/79 [00:04<00:22,  2.86it/s]\u001b[A\n",
      " 19%|█▉        | 15/79 [00:04<00:22,  2.85it/s]\u001b[A\n",
      " 20%|██        | 16/79 [00:05<00:22,  2.85it/s]\u001b[A\n",
      " 22%|██▏       | 17/79 [00:05<00:21,  2.85it/s]\u001b[A\n",
      " 23%|██▎       | 18/79 [00:05<00:21,  2.86it/s]\u001b[A\n",
      " 24%|██▍       | 19/79 [00:06<00:21,  2.85it/s]\u001b[A\n",
      " 25%|██▌       | 20/79 [00:06<00:20,  2.85it/s]\u001b[A\n",
      " 27%|██▋       | 21/79 [00:07<00:20,  2.85it/s]\u001b[A\n",
      " 28%|██▊       | 22/79 [00:07<00:20,  2.84it/s]\u001b[A\n",
      " 29%|██▉       | 23/79 [00:07<00:19,  2.84it/s]\u001b[A\n",
      " 30%|███       | 24/79 [00:08<00:19,  2.84it/s]\u001b[A\n",
      " 32%|███▏      | 25/79 [00:08<00:19,  2.84it/s]\u001b[A\n",
      " 33%|███▎      | 26/79 [00:08<00:18,  2.84it/s]\u001b[A\n",
      " 34%|███▍      | 27/79 [00:09<00:18,  2.84it/s]\u001b[A\n",
      " 35%|███▌      | 28/79 [00:09<00:17,  2.84it/s]\u001b[A\n",
      " 37%|███▋      | 29/79 [00:09<00:17,  2.83it/s]\u001b[A\n",
      " 38%|███▊      | 30/79 [00:10<00:17,  2.84it/s]\u001b[A\n",
      " 39%|███▉      | 31/79 [00:10<00:16,  2.84it/s]\u001b[A\n",
      " 41%|████      | 32/79 [00:10<00:16,  2.84it/s]\u001b[A\n",
      " 42%|████▏     | 33/79 [00:11<00:16,  2.84it/s]\u001b[A\n",
      " 43%|████▎     | 34/79 [00:11<00:15,  2.84it/s]\u001b[A\n",
      " 44%|████▍     | 35/79 [00:11<00:15,  2.84it/s]\u001b[A\n",
      " 46%|████▌     | 36/79 [00:12<00:15,  2.83it/s]\u001b[A\n",
      " 47%|████▋     | 37/79 [00:12<00:14,  2.83it/s]\u001b[A\n",
      " 48%|████▊     | 38/79 [00:13<00:14,  2.84it/s]\u001b[A\n",
      " 49%|████▉     | 39/79 [00:13<00:14,  2.84it/s]\u001b[A\n",
      " 51%|█████     | 40/79 [00:13<00:13,  2.84it/s]\u001b[A\n",
      " 52%|█████▏    | 41/79 [00:14<00:13,  2.84it/s]\u001b[A\n",
      " 53%|█████▎    | 42/79 [00:14<00:12,  2.85it/s]\u001b[A\n",
      " 54%|█████▍    | 43/79 [00:14<00:12,  2.84it/s]\u001b[A\n",
      " 56%|█████▌    | 44/79 [00:15<00:12,  2.85it/s]\u001b[A\n",
      " 57%|█████▋    | 45/79 [00:15<00:11,  2.85it/s]\u001b[A\n",
      " 58%|█████▊    | 46/79 [00:15<00:11,  2.84it/s]\u001b[A\n",
      " 59%|█████▉    | 47/79 [00:16<00:11,  2.85it/s]\u001b[A\n",
      " 61%|██████    | 48/79 [00:16<00:10,  2.84it/s]\u001b[A\n",
      " 62%|██████▏   | 49/79 [00:16<00:10,  2.84it/s]\u001b[A\n",
      " 63%|██████▎   | 50/79 [00:17<00:10,  2.85it/s]\u001b[A\n",
      " 65%|██████▍   | 51/79 [00:17<00:09,  2.84it/s]\u001b[A\n",
      " 66%|██████▌   | 52/79 [00:17<00:09,  2.83it/s]\u001b[A\n",
      " 67%|██████▋   | 53/79 [00:18<00:09,  2.83it/s]\u001b[A\n",
      " 68%|██████▊   | 54/79 [00:18<00:08,  2.83it/s]\u001b[A\n",
      " 70%|██████▉   | 55/79 [00:19<00:08,  2.82it/s]\u001b[A\n",
      " 71%|███████   | 56/79 [00:19<00:08,  2.83it/s]\u001b[A\n",
      " 72%|███████▏  | 57/79 [00:19<00:07,  2.83it/s]\u001b[A\n",
      " 73%|███████▎  | 58/79 [00:20<00:07,  2.83it/s]\u001b[A\n",
      " 75%|███████▍  | 59/79 [00:20<00:07,  2.83it/s]\u001b[A\n",
      " 76%|███████▌  | 60/79 [00:20<00:06,  2.83it/s]\u001b[A\n",
      " 77%|███████▋  | 61/79 [00:21<00:06,  2.83it/s]\u001b[A\n",
      " 78%|███████▊  | 62/79 [00:21<00:05,  2.83it/s]\u001b[A\n",
      " 80%|███████▉  | 63/79 [00:21<00:05,  2.84it/s]\u001b[A\n",
      " 81%|████████  | 64/79 [00:22<00:05,  2.84it/s]\u001b[A\n",
      " 82%|████████▏ | 65/79 [00:22<00:04,  2.84it/s]\u001b[A\n",
      " 84%|████████▎ | 66/79 [00:22<00:04,  2.84it/s]\u001b[A\n",
      " 85%|████████▍ | 67/79 [00:23<00:04,  2.83it/s]\u001b[A\n",
      " 86%|████████▌ | 68/79 [00:23<00:03,  2.83it/s]\u001b[A\n",
      " 87%|████████▋ | 69/79 [00:23<00:03,  2.83it/s]\u001b[A\n",
      " 89%|████████▊ | 70/79 [00:24<00:03,  2.83it/s]\u001b[A\n",
      " 90%|████████▉ | 71/79 [00:24<00:02,  2.83it/s]\u001b[A\n",
      " 91%|█████████ | 72/79 [00:25<00:02,  2.82it/s]\u001b[A\n",
      " 92%|█████████▏| 73/79 [00:25<00:02,  2.83it/s]\u001b[A\n",
      " 94%|█████████▎| 74/79 [00:25<00:01,  2.82it/s]\u001b[A\n",
      " 95%|█████████▍| 75/79 [00:26<00:01,  2.83it/s]\u001b[A\n",
      " 96%|█████████▌| 76/79 [00:26<00:01,  2.83it/s]\u001b[A\n",
      " 97%|█████████▋| 77/79 [00:26<00:00,  2.82it/s]\u001b[A\n",
      "                                                   \n",
      " 52%|█████▏    | 2080/4000 [55:35<21:11,  1.51it/s]\n",
      "100%|██████████| 79/79 [00:27<00:00,  2.88it/s]\u001b[A"
     ]
    },
    {
     "name": "stdout",
     "output_type": "stream",
     "text": [
      "{'eval_loss': 3.4655656814575195, 'eval_accuracy': 0.207, 'eval_runtime': 27.5955, 'eval_samples_per_second': 362.378, 'eval_steps_per_second': 2.863, 'epoch': 52.0}\n"
     ]
    },
    {
     "name": "stderr",
     "output_type": "stream",
     "text": [
      "\n",
      " 52%|█████▏    | 2090/4000 [55:45<39:49,  1.25s/it]  "
     ]
    },
    {
     "name": "stdout",
     "output_type": "stream",
     "text": [
      "{'loss': 1.2598, 'grad_norm': 35.48891067504883, 'learning_rate': 9.55e-06, 'epoch': 52.25}\n"
     ]
    },
    {
     "name": "stderr",
     "output_type": "stream",
     "text": [
      " 52%|█████▎    | 2100/4000 [55:54<29:08,  1.09it/s]"
     ]
    },
    {
     "name": "stdout",
     "output_type": "stream",
     "text": [
      "{'loss': 1.2823, 'grad_norm': 27.581974029541016, 'learning_rate': 9.5e-06, 'epoch': 52.5}\n"
     ]
    },
    {
     "name": "stderr",
     "output_type": "stream",
     "text": [
      " 53%|█████▎    | 2110/4000 [56:03<28:40,  1.10it/s]"
     ]
    },
    {
     "name": "stdout",
     "output_type": "stream",
     "text": [
      "{'loss': 1.2624, 'grad_norm': 28.40622901916504, 'learning_rate': 9.450000000000001e-06, 'epoch': 52.75}\n"
     ]
    },
    {
     "name": "stderr",
     "output_type": "stream",
     "text": [
      " 53%|█████▎    | 2120/4000 [56:11<20:55,  1.50it/s]"
     ]
    },
    {
     "name": "stdout",
     "output_type": "stream",
     "text": [
      "{'loss': 1.3187, 'grad_norm': 98.1351089477539, 'learning_rate': 9.4e-06, 'epoch': 53.0}\n"
     ]
    },
    {
     "name": "stderr",
     "output_type": "stream",
     "text": [
      "\n",
      "  0%|          | 0/79 [00:00<?, ?it/s]\u001b[A\n",
      "  3%|▎         | 2/79 [00:00<00:13,  5.84it/s]\u001b[A\n",
      "  4%|▍         | 3/79 [00:00<00:19,  3.99it/s]\u001b[A\n",
      "  5%|▌         | 4/79 [00:01<00:21,  3.47it/s]\u001b[A\n",
      "  6%|▋         | 5/79 [00:01<00:22,  3.23it/s]\u001b[A\n",
      "  8%|▊         | 6/79 [00:01<00:23,  3.08it/s]\u001b[A\n",
      "  9%|▉         | 7/79 [00:02<00:24,  2.99it/s]\u001b[A\n",
      " 10%|█         | 8/79 [00:02<00:24,  2.94it/s]\u001b[A\n",
      " 11%|█▏        | 9/79 [00:02<00:24,  2.90it/s]\u001b[A\n",
      " 13%|█▎        | 10/79 [00:03<00:24,  2.87it/s]\u001b[A\n",
      " 14%|█▍        | 11/79 [00:03<00:23,  2.85it/s]\u001b[A\n",
      " 15%|█▌        | 12/79 [00:03<00:23,  2.85it/s]\u001b[A\n",
      " 16%|█▋        | 13/79 [00:04<00:23,  2.84it/s]\u001b[A\n",
      " 18%|█▊        | 14/79 [00:04<00:22,  2.84it/s]\u001b[A\n",
      " 19%|█▉        | 15/79 [00:04<00:22,  2.84it/s]\u001b[A\n",
      " 20%|██        | 16/79 [00:05<00:22,  2.83it/s]\u001b[A\n",
      " 22%|██▏       | 17/79 [00:05<00:21,  2.82it/s]\u001b[A\n",
      " 23%|██▎       | 18/79 [00:06<00:21,  2.83it/s]\u001b[A\n",
      " 24%|██▍       | 19/79 [00:06<00:21,  2.83it/s]\u001b[A\n",
      " 25%|██▌       | 20/79 [00:06<00:20,  2.82it/s]\u001b[A\n",
      " 27%|██▋       | 21/79 [00:07<00:20,  2.82it/s]\u001b[A\n",
      " 28%|██▊       | 22/79 [00:07<00:20,  2.82it/s]\u001b[A\n",
      " 29%|██▉       | 23/79 [00:07<00:19,  2.82it/s]\u001b[A\n",
      " 30%|███       | 24/79 [00:08<00:19,  2.82it/s]\u001b[A\n",
      " 32%|███▏      | 25/79 [00:08<00:19,  2.82it/s]\u001b[A\n",
      " 33%|███▎      | 26/79 [00:08<00:18,  2.82it/s]\u001b[A\n",
      " 34%|███▍      | 27/79 [00:09<00:18,  2.82it/s]\u001b[A\n",
      " 35%|███▌      | 28/79 [00:09<00:18,  2.82it/s]\u001b[A\n",
      " 37%|███▋      | 29/79 [00:09<00:17,  2.82it/s]\u001b[A\n",
      " 38%|███▊      | 30/79 [00:10<00:17,  2.82it/s]\u001b[A\n",
      " 39%|███▉      | 31/79 [00:10<00:17,  2.82it/s]\u001b[A\n",
      " 41%|████      | 32/79 [00:10<00:16,  2.82it/s]\u001b[A\n",
      " 42%|████▏     | 33/79 [00:11<00:16,  2.82it/s]\u001b[A\n",
      " 43%|████▎     | 34/79 [00:11<00:15,  2.82it/s]\u001b[A\n",
      " 44%|████▍     | 35/79 [00:12<00:15,  2.82it/s]\u001b[A\n",
      " 46%|████▌     | 36/79 [00:12<00:15,  2.82it/s]\u001b[A\n",
      " 47%|████▋     | 37/79 [00:12<00:14,  2.82it/s]\u001b[A\n",
      " 48%|████▊     | 38/79 [00:13<00:14,  2.82it/s]\u001b[A\n",
      " 49%|████▉     | 39/79 [00:13<00:14,  2.82it/s]\u001b[A\n",
      " 51%|█████     | 40/79 [00:13<00:13,  2.82it/s]\u001b[A\n",
      " 52%|█████▏    | 41/79 [00:14<00:13,  2.83it/s]\u001b[A\n",
      " 53%|█████▎    | 42/79 [00:14<00:13,  2.83it/s]\u001b[A\n",
      " 54%|█████▍    | 43/79 [00:14<00:12,  2.83it/s]\u001b[A\n",
      " 56%|█████▌    | 44/79 [00:15<00:12,  2.83it/s]\u001b[A\n",
      " 57%|█████▋    | 45/79 [00:15<00:11,  2.84it/s]\u001b[A\n",
      " 58%|█████▊    | 46/79 [00:15<00:11,  2.83it/s]\u001b[A\n",
      " 59%|█████▉    | 47/79 [00:16<00:11,  2.83it/s]\u001b[A\n",
      " 61%|██████    | 48/79 [00:16<00:10,  2.83it/s]\u001b[A\n",
      " 62%|██████▏   | 49/79 [00:16<00:10,  2.83it/s]\u001b[A\n",
      " 63%|██████▎   | 50/79 [00:17<00:10,  2.83it/s]\u001b[A\n",
      " 65%|██████▍   | 51/79 [00:17<00:09,  2.85it/s]\u001b[A\n",
      " 66%|██████▌   | 52/79 [00:18<00:09,  2.85it/s]\u001b[A\n",
      " 67%|██████▋   | 53/79 [00:18<00:09,  2.85it/s]\u001b[A\n",
      " 68%|██████▊   | 54/79 [00:18<00:08,  2.86it/s]\u001b[A\n",
      " 70%|██████▉   | 55/79 [00:19<00:08,  2.87it/s]\u001b[A\n",
      " 71%|███████   | 56/79 [00:19<00:08,  2.87it/s]\u001b[A\n",
      " 72%|███████▏  | 57/79 [00:19<00:07,  2.86it/s]\u001b[A\n",
      " 73%|███████▎  | 58/79 [00:20<00:07,  2.86it/s]\u001b[A\n",
      " 75%|███████▍  | 59/79 [00:20<00:06,  2.86it/s]\u001b[A\n",
      " 76%|███████▌  | 60/79 [00:20<00:06,  2.86it/s]\u001b[A\n",
      " 77%|███████▋  | 61/79 [00:21<00:06,  2.85it/s]\u001b[A\n",
      " 78%|███████▊  | 62/79 [00:21<00:05,  2.85it/s]\u001b[A\n",
      " 80%|███████▉  | 63/79 [00:21<00:05,  2.86it/s]\u001b[A\n",
      " 81%|████████  | 64/79 [00:22<00:05,  2.85it/s]\u001b[A\n",
      " 82%|████████▏ | 65/79 [00:22<00:04,  2.85it/s]\u001b[A\n",
      " 84%|████████▎ | 66/79 [00:22<00:04,  2.86it/s]\u001b[A\n",
      " 85%|████████▍ | 67/79 [00:23<00:04,  2.85it/s]\u001b[A\n",
      " 86%|████████▌ | 68/79 [00:23<00:03,  2.85it/s]\u001b[A\n",
      " 87%|████████▋ | 69/79 [00:23<00:03,  2.86it/s]\u001b[A\n",
      " 89%|████████▊ | 70/79 [00:24<00:03,  2.86it/s]\u001b[A\n",
      " 90%|████████▉ | 71/79 [00:24<00:02,  2.85it/s]\u001b[A\n",
      " 91%|█████████ | 72/79 [00:25<00:02,  2.84it/s]\u001b[A\n",
      " 92%|█████████▏| 73/79 [00:25<00:02,  2.84it/s]\u001b[A\n",
      " 94%|█████████▎| 74/79 [00:25<00:01,  2.83it/s]\u001b[A\n",
      " 95%|█████████▍| 75/79 [00:26<00:01,  2.82it/s]\u001b[A\n",
      " 96%|█████████▌| 76/79 [00:26<00:01,  2.83it/s]\u001b[A\n",
      " 97%|█████████▋| 77/79 [00:26<00:00,  2.82it/s]\u001b[A\n",
      "                                                   \n",
      " 53%|█████▎    | 2120/4000 [56:39<20:55,  1.50it/s]\n",
      "100%|██████████| 79/79 [00:27<00:00,  2.88it/s]\u001b[A\n",
      "                                               \u001b[A"
     ]
    },
    {
     "name": "stdout",
     "output_type": "stream",
     "text": [
      "{'eval_loss': 3.473173141479492, 'eval_accuracy': 0.2053, 'eval_runtime': 27.6332, 'eval_samples_per_second': 361.884, 'eval_steps_per_second': 2.859, 'epoch': 53.0}\n"
     ]
    },
    {
     "name": "stderr",
     "output_type": "stream",
     "text": [
      " 53%|█████▎    | 2130/4000 [56:49<38:44,  1.24s/it]  "
     ]
    },
    {
     "name": "stdout",
     "output_type": "stream",
     "text": [
      "{'loss': 1.2488, 'grad_norm': 31.842121124267578, 'learning_rate': 9.350000000000002e-06, 'epoch': 53.25}\n"
     ]
    },
    {
     "name": "stderr",
     "output_type": "stream",
     "text": [
      " 54%|█████▎    | 2140/4000 [56:58<28:15,  1.10it/s]"
     ]
    },
    {
     "name": "stdout",
     "output_type": "stream",
     "text": [
      "{'loss': 1.2248, 'grad_norm': 30.547088623046875, 'learning_rate': 9.3e-06, 'epoch': 53.5}\n"
     ]
    },
    {
     "name": "stderr",
     "output_type": "stream",
     "text": [
      " 54%|█████▍    | 2150/4000 [57:07<28:04,  1.10it/s]"
     ]
    },
    {
     "name": "stdout",
     "output_type": "stream",
     "text": [
      "{'loss': 1.2706, 'grad_norm': 31.07733154296875, 'learning_rate': 9.250000000000001e-06, 'epoch': 53.75}\n"
     ]
    },
    {
     "name": "stderr",
     "output_type": "stream",
     "text": [
      " 54%|█████▍    | 2160/4000 [57:15<20:13,  1.52it/s]"
     ]
    },
    {
     "name": "stdout",
     "output_type": "stream",
     "text": [
      "{'loss': 1.2551, 'grad_norm': 92.56877899169922, 'learning_rate': 9.200000000000002e-06, 'epoch': 54.0}\n"
     ]
    },
    {
     "name": "stderr",
     "output_type": "stream",
     "text": [
      "\n",
      "  0%|          | 0/79 [00:00<?, ?it/s]\u001b[A\n",
      "  3%|▎         | 2/79 [00:00<00:13,  5.86it/s]\u001b[A\n",
      "  4%|▍         | 3/79 [00:00<00:19,  3.98it/s]\u001b[A\n",
      "  5%|▌         | 4/79 [00:01<00:21,  3.48it/s]\u001b[A\n",
      "  6%|▋         | 5/79 [00:01<00:22,  3.26it/s]\u001b[A\n",
      "  8%|▊         | 6/79 [00:01<00:23,  3.11it/s]\u001b[A\n",
      "  9%|▉         | 7/79 [00:02<00:23,  3.02it/s]\u001b[A\n",
      " 10%|█         | 8/79 [00:02<00:23,  2.97it/s]\u001b[A\n",
      " 11%|█▏        | 9/79 [00:02<00:23,  2.94it/s]\u001b[A\n",
      " 13%|█▎        | 10/79 [00:03<00:23,  2.92it/s]\u001b[A\n",
      " 14%|█▍        | 11/79 [00:03<00:23,  2.91it/s]\u001b[A\n",
      " 15%|█▌        | 12/79 [00:03<00:23,  2.89it/s]\u001b[A\n",
      " 16%|█▋        | 13/79 [00:04<00:22,  2.88it/s]\u001b[A\n",
      " 18%|█▊        | 14/79 [00:04<00:22,  2.88it/s]\u001b[A\n",
      " 19%|█▉        | 15/79 [00:04<00:22,  2.89it/s]\u001b[A\n",
      " 20%|██        | 16/79 [00:05<00:21,  2.89it/s]\u001b[A\n",
      " 22%|██▏       | 17/79 [00:05<00:21,  2.87it/s]\u001b[A\n",
      " 23%|██▎       | 18/79 [00:05<00:21,  2.87it/s]\u001b[A\n",
      " 24%|██▍       | 19/79 [00:06<00:20,  2.87it/s]\u001b[A\n",
      " 25%|██▌       | 20/79 [00:06<00:20,  2.87it/s]\u001b[A\n",
      " 27%|██▋       | 21/79 [00:06<00:20,  2.86it/s]\u001b[A\n",
      " 28%|██▊       | 22/79 [00:07<00:19,  2.85it/s]\u001b[A\n",
      " 29%|██▉       | 23/79 [00:07<00:19,  2.86it/s]\u001b[A\n",
      " 30%|███       | 24/79 [00:08<00:19,  2.86it/s]\u001b[A\n",
      " 32%|███▏      | 25/79 [00:08<00:18,  2.85it/s]\u001b[A\n",
      " 33%|███▎      | 26/79 [00:08<00:18,  2.85it/s]\u001b[A\n",
      " 34%|███▍      | 27/79 [00:09<00:18,  2.86it/s]\u001b[A\n",
      " 35%|███▌      | 28/79 [00:09<00:17,  2.84it/s]\u001b[A\n",
      " 37%|███▋      | 29/79 [00:09<00:17,  2.85it/s]\u001b[A\n",
      " 38%|███▊      | 30/79 [00:10<00:17,  2.85it/s]\u001b[A\n",
      " 39%|███▉      | 31/79 [00:10<00:16,  2.84it/s]\u001b[A\n",
      " 41%|████      | 32/79 [00:10<00:16,  2.85it/s]\u001b[A\n",
      " 42%|████▏     | 33/79 [00:11<00:16,  2.84it/s]\u001b[A\n",
      " 43%|████▎     | 34/79 [00:11<00:15,  2.83it/s]\u001b[A\n",
      " 44%|████▍     | 35/79 [00:11<00:15,  2.83it/s]\u001b[A\n",
      " 46%|████▌     | 36/79 [00:12<00:15,  2.83it/s]\u001b[A\n",
      " 47%|████▋     | 37/79 [00:12<00:14,  2.82it/s]\u001b[A\n",
      " 48%|████▊     | 38/79 [00:12<00:14,  2.83it/s]\u001b[A\n",
      " 49%|████▉     | 39/79 [00:13<00:14,  2.82it/s]\u001b[A\n",
      " 51%|█████     | 40/79 [00:13<00:13,  2.83it/s]\u001b[A\n",
      " 52%|█████▏    | 41/79 [00:14<00:13,  2.83it/s]\u001b[A\n",
      " 53%|█████▎    | 42/79 [00:14<00:13,  2.83it/s]\u001b[A\n",
      " 54%|█████▍    | 43/79 [00:14<00:12,  2.82it/s]\u001b[A\n",
      " 56%|█████▌    | 44/79 [00:15<00:12,  2.83it/s]\u001b[A\n",
      " 57%|█████▋    | 45/79 [00:15<00:12,  2.82it/s]\u001b[A\n",
      " 58%|█████▊    | 46/79 [00:15<00:11,  2.83it/s]\u001b[A\n",
      " 59%|█████▉    | 47/79 [00:16<00:11,  2.84it/s]\u001b[A\n",
      " 61%|██████    | 48/79 [00:16<00:10,  2.83it/s]\u001b[A\n",
      " 62%|██████▏   | 49/79 [00:16<00:10,  2.83it/s]\u001b[A\n",
      " 63%|██████▎   | 50/79 [00:17<00:10,  2.84it/s]\u001b[A\n",
      " 65%|██████▍   | 51/79 [00:17<00:09,  2.84it/s]\u001b[A\n",
      " 66%|██████▌   | 52/79 [00:17<00:09,  2.84it/s]\u001b[A\n",
      " 67%|██████▋   | 53/79 [00:18<00:09,  2.83it/s]\u001b[A\n",
      " 68%|██████▊   | 54/79 [00:18<00:08,  2.84it/s]\u001b[A\n",
      " 70%|██████▉   | 55/79 [00:18<00:08,  2.83it/s]\u001b[A\n",
      " 71%|███████   | 56/79 [00:19<00:08,  2.84it/s]\u001b[A\n",
      " 72%|███████▏  | 57/79 [00:19<00:07,  2.84it/s]\u001b[A\n",
      " 73%|███████▎  | 58/79 [00:20<00:07,  2.85it/s]\u001b[A\n",
      " 75%|███████▍  | 59/79 [00:20<00:07,  2.86it/s]\u001b[A\n",
      " 76%|███████▌  | 60/79 [00:20<00:06,  2.85it/s]\u001b[A\n",
      " 77%|███████▋  | 61/79 [00:21<00:06,  2.85it/s]\u001b[A\n",
      " 78%|███████▊  | 62/79 [00:21<00:05,  2.86it/s]\u001b[A\n",
      " 80%|███████▉  | 63/79 [00:21<00:05,  2.85it/s]\u001b[A\n",
      " 81%|████████  | 64/79 [00:22<00:05,  2.85it/s]\u001b[A\n",
      " 82%|████████▏ | 65/79 [00:22<00:04,  2.86it/s]\u001b[A\n",
      " 84%|████████▎ | 66/79 [00:22<00:04,  2.86it/s]\u001b[A\n",
      " 85%|████████▍ | 67/79 [00:23<00:04,  2.85it/s]\u001b[A\n",
      " 86%|████████▌ | 68/79 [00:23<00:03,  2.84it/s]\u001b[A\n",
      " 87%|████████▋ | 69/79 [00:23<00:03,  2.84it/s]\u001b[A\n",
      " 89%|████████▊ | 70/79 [00:24<00:03,  2.84it/s]\u001b[A\n",
      " 90%|████████▉ | 71/79 [00:24<00:02,  2.84it/s]\u001b[A\n",
      " 91%|█████████ | 72/79 [00:24<00:02,  2.84it/s]\u001b[A\n",
      " 92%|█████████▏| 73/79 [00:25<00:02,  2.84it/s]\u001b[A\n",
      " 94%|█████████▎| 74/79 [00:25<00:01,  2.83it/s]\u001b[A\n",
      " 95%|█████████▍| 75/79 [00:25<00:01,  2.83it/s]\u001b[A\n",
      " 96%|█████████▌| 76/79 [00:26<00:01,  2.83it/s]\u001b[A\n",
      " 97%|█████████▋| 77/79 [00:26<00:00,  2.84it/s]\u001b[A\n",
      "                                                   \n",
      " 54%|█████▍    | 2160/4000 [57:43<20:13,  1.52it/s]\n",
      "100%|██████████| 79/79 [00:27<00:00,  2.89it/s]\u001b[A\n",
      "                                               \u001b[A"
     ]
    },
    {
     "name": "stdout",
     "output_type": "stream",
     "text": [
      "{'eval_loss': 3.468989849090576, 'eval_accuracy': 0.2092, 'eval_runtime': 27.5112, 'eval_samples_per_second': 363.489, 'eval_steps_per_second': 2.872, 'epoch': 54.0}\n"
     ]
    },
    {
     "name": "stderr",
     "output_type": "stream",
     "text": [
      " 54%|█████▍    | 2170/4000 [57:53<37:59,  1.25s/it]  "
     ]
    },
    {
     "name": "stdout",
     "output_type": "stream",
     "text": [
      "{'loss': 1.2155, 'grad_norm': 31.220197677612305, 'learning_rate': 9.15e-06, 'epoch': 54.25}\n"
     ]
    },
    {
     "name": "stderr",
     "output_type": "stream",
     "text": [
      " 55%|█████▍    | 2180/4000 [58:02<27:30,  1.10it/s]"
     ]
    },
    {
     "name": "stdout",
     "output_type": "stream",
     "text": [
      "{'loss': 1.2462, 'grad_norm': 32.51154327392578, 'learning_rate': 9.100000000000001e-06, 'epoch': 54.5}\n"
     ]
    },
    {
     "name": "stderr",
     "output_type": "stream",
     "text": [
      " 55%|█████▍    | 2190/4000 [58:11<27:27,  1.10it/s]"
     ]
    },
    {
     "name": "stdout",
     "output_type": "stream",
     "text": [
      "{'loss': 1.1856, 'grad_norm': 32.975303649902344, 'learning_rate': 9.050000000000001e-06, 'epoch': 54.75}\n"
     ]
    },
    {
     "name": "stderr",
     "output_type": "stream",
     "text": [
      " 55%|█████▌    | 2200/4000 [58:19<19:49,  1.51it/s]"
     ]
    },
    {
     "name": "stdout",
     "output_type": "stream",
     "text": [
      "{'loss': 1.2339, 'grad_norm': 124.75411224365234, 'learning_rate': 9e-06, 'epoch': 55.0}\n"
     ]
    },
    {
     "name": "stderr",
     "output_type": "stream",
     "text": [
      "\n",
      "  0%|          | 0/79 [00:00<?, ?it/s]\u001b[A\n",
      "  3%|▎         | 2/79 [00:00<00:13,  5.84it/s]\u001b[A\n",
      "  4%|▍         | 3/79 [00:00<00:19,  3.98it/s]\u001b[A\n",
      "  5%|▌         | 4/79 [00:01<00:21,  3.48it/s]\u001b[A\n",
      "  6%|▋         | 5/79 [00:01<00:22,  3.26it/s]\u001b[A\n",
      "  8%|▊         | 6/79 [00:01<00:23,  3.11it/s]\u001b[A\n",
      "  9%|▉         | 7/79 [00:02<00:23,  3.02it/s]\u001b[A\n",
      " 10%|█         | 8/79 [00:02<00:23,  2.96it/s]\u001b[A\n",
      " 11%|█▏        | 9/79 [00:02<00:23,  2.93it/s]\u001b[A\n",
      " 13%|█▎        | 10/79 [00:03<00:23,  2.91it/s]\u001b[A\n",
      " 14%|█▍        | 11/79 [00:03<00:23,  2.89it/s]\u001b[A\n",
      " 15%|█▌        | 12/79 [00:03<00:23,  2.87it/s]\u001b[A\n",
      " 16%|█▋        | 13/79 [00:04<00:22,  2.87it/s]\u001b[A\n",
      " 18%|█▊        | 14/79 [00:04<00:22,  2.86it/s]\u001b[A\n",
      " 19%|█▉        | 15/79 [00:04<00:22,  2.86it/s]\u001b[A\n",
      " 20%|██        | 16/79 [00:05<00:21,  2.86it/s]\u001b[A\n",
      " 22%|██▏       | 17/79 [00:05<00:21,  2.86it/s]\u001b[A\n",
      " 23%|██▎       | 18/79 [00:05<00:21,  2.85it/s]\u001b[A\n",
      " 24%|██▍       | 19/79 [00:06<00:21,  2.85it/s]\u001b[A\n",
      " 25%|██▌       | 20/79 [00:06<00:20,  2.85it/s]\u001b[A\n",
      " 27%|██▋       | 21/79 [00:07<00:20,  2.85it/s]\u001b[A\n",
      " 28%|██▊       | 22/79 [00:07<00:20,  2.84it/s]\u001b[A\n",
      " 29%|██▉       | 23/79 [00:07<00:19,  2.84it/s]\u001b[A\n",
      " 30%|███       | 24/79 [00:08<00:19,  2.83it/s]\u001b[A\n",
      " 32%|███▏      | 25/79 [00:08<00:19,  2.83it/s]\u001b[A\n",
      " 33%|███▎      | 26/79 [00:08<00:18,  2.83it/s]\u001b[A\n",
      " 34%|███▍      | 27/79 [00:09<00:18,  2.83it/s]\u001b[A\n",
      " 35%|███▌      | 28/79 [00:09<00:18,  2.83it/s]\u001b[A\n",
      " 37%|███▋      | 29/79 [00:09<00:17,  2.83it/s]\u001b[A\n",
      " 38%|███▊      | 30/79 [00:10<00:17,  2.83it/s]\u001b[A\n",
      " 39%|███▉      | 31/79 [00:10<00:16,  2.83it/s]\u001b[A\n",
      " 41%|████      | 32/79 [00:10<00:16,  2.83it/s]\u001b[A\n",
      " 42%|████▏     | 33/79 [00:11<00:16,  2.83it/s]\u001b[A\n",
      " 43%|████▎     | 34/79 [00:11<00:15,  2.83it/s]\u001b[A\n",
      " 44%|████▍     | 35/79 [00:11<00:15,  2.82it/s]\u001b[A\n",
      " 46%|████▌     | 36/79 [00:12<00:15,  2.83it/s]\u001b[A\n",
      " 47%|████▋     | 37/79 [00:12<00:14,  2.83it/s]\u001b[A\n",
      " 48%|████▊     | 38/79 [00:13<00:14,  2.83it/s]\u001b[A\n",
      " 49%|████▉     | 39/79 [00:13<00:14,  2.84it/s]\u001b[A\n",
      " 51%|█████     | 40/79 [00:13<00:13,  2.84it/s]\u001b[A\n",
      " 52%|█████▏    | 41/79 [00:14<00:13,  2.84it/s]\u001b[A\n",
      " 53%|█████▎    | 42/79 [00:14<00:12,  2.85it/s]\u001b[A\n",
      " 54%|█████▍    | 43/79 [00:14<00:12,  2.87it/s]\u001b[A\n",
      " 56%|█████▌    | 44/79 [00:15<00:12,  2.86it/s]\u001b[A\n",
      " 57%|█████▋    | 45/79 [00:15<00:11,  2.85it/s]\u001b[A\n",
      " 58%|█████▊    | 46/79 [00:15<00:11,  2.85it/s]\u001b[A\n",
      " 59%|█████▉    | 47/79 [00:16<00:11,  2.86it/s]\u001b[A\n",
      " 61%|██████    | 48/79 [00:16<00:10,  2.86it/s]\u001b[A\n",
      " 62%|██████▏   | 49/79 [00:16<00:10,  2.85it/s]\u001b[A\n",
      " 63%|██████▎   | 50/79 [00:17<00:10,  2.86it/s]\u001b[A\n",
      " 65%|██████▍   | 51/79 [00:17<00:09,  2.86it/s]\u001b[A\n",
      " 66%|██████▌   | 52/79 [00:17<00:09,  2.85it/s]\u001b[A\n",
      " 67%|██████▋   | 53/79 [00:18<00:09,  2.85it/s]\u001b[A\n",
      " 68%|██████▊   | 54/79 [00:18<00:08,  2.86it/s]\u001b[A\n",
      " 70%|██████▉   | 55/79 [00:18<00:08,  2.86it/s]\u001b[A\n",
      " 71%|███████   | 56/79 [00:19<00:08,  2.85it/s]\u001b[A\n",
      " 72%|███████▏  | 57/79 [00:19<00:07,  2.86it/s]\u001b[A\n",
      " 73%|███████▎  | 58/79 [00:20<00:07,  2.87it/s]\u001b[A\n",
      " 75%|███████▍  | 59/79 [00:20<00:06,  2.88it/s]\u001b[A\n",
      " 76%|███████▌  | 60/79 [00:20<00:06,  2.87it/s]\u001b[A\n",
      " 77%|███████▋  | 61/79 [00:21<00:06,  2.86it/s]\u001b[A\n",
      " 78%|███████▊  | 62/79 [00:21<00:05,  2.87it/s]\u001b[A\n",
      " 80%|███████▉  | 63/79 [00:21<00:05,  2.88it/s]\u001b[A\n",
      " 81%|████████  | 64/79 [00:22<00:05,  2.89it/s]\u001b[A\n",
      " 82%|████████▏ | 65/79 [00:22<00:04,  2.89it/s]\u001b[A\n",
      " 84%|████████▎ | 66/79 [00:22<00:04,  2.89it/s]\u001b[A\n",
      " 85%|████████▍ | 67/79 [00:23<00:04,  2.89it/s]\u001b[A\n",
      " 86%|████████▌ | 68/79 [00:23<00:03,  2.88it/s]\u001b[A\n",
      " 87%|████████▋ | 69/79 [00:23<00:03,  2.88it/s]\u001b[A\n",
      " 89%|████████▊ | 70/79 [00:24<00:03,  2.88it/s]\u001b[A\n",
      " 90%|████████▉ | 71/79 [00:24<00:02,  2.89it/s]\u001b[A\n",
      " 91%|█████████ | 72/79 [00:24<00:02,  2.89it/s]\u001b[A\n",
      " 92%|█████████▏| 73/79 [00:25<00:02,  2.89it/s]\u001b[A\n",
      " 94%|█████████▎| 74/79 [00:25<00:01,  2.90it/s]\u001b[A\n",
      " 95%|█████████▍| 75/79 [00:25<00:01,  2.90it/s]\u001b[A\n",
      " 96%|█████████▌| 76/79 [00:26<00:01,  2.87it/s]\u001b[A\n",
      " 97%|█████████▋| 77/79 [00:26<00:00,  2.86it/s]\u001b[A\n",
      "                                                   \n",
      " 55%|█████▌    | 2200/4000 [58:47<19:49,  1.51it/s]\n",
      "100%|██████████| 79/79 [00:27<00:00,  2.91it/s]\u001b[A\n",
      "                                               \u001b[A"
     ]
    },
    {
     "name": "stdout",
     "output_type": "stream",
     "text": [
      "{'eval_loss': 3.4647624492645264, 'eval_accuracy': 0.2082, 'eval_runtime': 27.4238, 'eval_samples_per_second': 364.647, 'eval_steps_per_second': 2.881, 'epoch': 55.0}\n"
     ]
    },
    {
     "name": "stderr",
     "output_type": "stream",
     "text": [
      " 55%|█████▌    | 2210/4000 [58:57<37:12,  1.25s/it]  "
     ]
    },
    {
     "name": "stdout",
     "output_type": "stream",
     "text": [
      "{'loss': 1.1585, 'grad_norm': 33.04209899902344, 'learning_rate': 8.95e-06, 'epoch': 55.25}\n"
     ]
    },
    {
     "name": "stderr",
     "output_type": "stream",
     "text": [
      " 56%|█████▌    | 2220/4000 [59:06<27:08,  1.09it/s]"
     ]
    },
    {
     "name": "stdout",
     "output_type": "stream",
     "text": [
      "{'loss': 1.1751, 'grad_norm': 26.576946258544922, 'learning_rate': 8.900000000000001e-06, 'epoch': 55.5}\n"
     ]
    },
    {
     "name": "stderr",
     "output_type": "stream",
     "text": [
      " 56%|█████▌    | 2230/4000 [59:15<26:42,  1.10it/s]"
     ]
    },
    {
     "name": "stdout",
     "output_type": "stream",
     "text": [
      "{'loss': 1.1831, 'grad_norm': 34.086612701416016, 'learning_rate': 8.85e-06, 'epoch': 55.75}\n"
     ]
    },
    {
     "name": "stderr",
     "output_type": "stream",
     "text": [
      " 56%|█████▌    | 2240/4000 [59:23<19:28,  1.51it/s]"
     ]
    },
    {
     "name": "stdout",
     "output_type": "stream",
     "text": [
      "{'loss': 1.2076, 'grad_norm': 100.39276885986328, 'learning_rate': 8.8e-06, 'epoch': 56.0}\n"
     ]
    },
    {
     "name": "stderr",
     "output_type": "stream",
     "text": [
      "\n",
      "  0%|          | 0/79 [00:00<?, ?it/s]\u001b[A\n",
      "  3%|▎         | 2/79 [00:00<00:13,  5.84it/s]\u001b[A\n",
      "  4%|▍         | 3/79 [00:00<00:19,  3.98it/s]\u001b[A\n",
      "  5%|▌         | 4/79 [00:01<00:21,  3.47it/s]\u001b[A\n",
      "  6%|▋         | 5/79 [00:01<00:22,  3.26it/s]\u001b[A\n",
      "  8%|▊         | 6/79 [00:01<00:23,  3.11it/s]\u001b[A\n",
      "  9%|▉         | 7/79 [00:02<00:23,  3.02it/s]\u001b[A\n",
      " 10%|█         | 8/79 [00:02<00:23,  2.98it/s]\u001b[A\n",
      " 11%|█▏        | 9/79 [00:02<00:23,  2.94it/s]\u001b[A\n",
      " 13%|█▎        | 10/79 [00:03<00:23,  2.93it/s]\u001b[A\n",
      " 14%|█▍        | 11/79 [00:03<00:23,  2.92it/s]\u001b[A\n",
      " 15%|█▌        | 12/79 [00:03<00:23,  2.91it/s]\u001b[A\n",
      " 16%|█▋        | 13/79 [00:04<00:22,  2.89it/s]\u001b[A\n",
      " 18%|█▊        | 14/79 [00:04<00:22,  2.88it/s]\u001b[A\n",
      " 19%|█▉        | 15/79 [00:04<00:22,  2.88it/s]\u001b[A\n",
      " 20%|██        | 16/79 [00:05<00:21,  2.89it/s]\u001b[A\n",
      " 22%|██▏       | 17/79 [00:05<00:21,  2.89it/s]\u001b[A\n",
      " 23%|██▎       | 18/79 [00:05<00:21,  2.88it/s]\u001b[A\n",
      " 24%|██▍       | 19/79 [00:06<00:20,  2.88it/s]\u001b[A\n",
      " 25%|██▌       | 20/79 [00:06<00:20,  2.87it/s]\u001b[A\n",
      " 27%|██▋       | 21/79 [00:06<00:20,  2.87it/s]\u001b[A\n",
      " 28%|██▊       | 22/79 [00:07<00:19,  2.88it/s]\u001b[A\n",
      " 29%|██▉       | 23/79 [00:07<00:19,  2.88it/s]\u001b[A\n",
      " 30%|███       | 24/79 [00:08<00:19,  2.87it/s]\u001b[A\n",
      " 32%|███▏      | 25/79 [00:08<00:18,  2.86it/s]\u001b[A\n",
      " 33%|███▎      | 26/79 [00:08<00:18,  2.86it/s]\u001b[A\n",
      " 34%|███▍      | 27/79 [00:09<00:18,  2.86it/s]\u001b[A\n",
      " 35%|███▌      | 28/79 [00:09<00:17,  2.85it/s]\u001b[A\n",
      " 37%|███▋      | 29/79 [00:09<00:17,  2.86it/s]\u001b[A\n",
      " 38%|███▊      | 30/79 [00:10<00:17,  2.85it/s]\u001b[A\n",
      " 39%|███▉      | 31/79 [00:10<00:16,  2.85it/s]\u001b[A\n",
      " 41%|████      | 32/79 [00:10<00:16,  2.85it/s]\u001b[A\n",
      " 42%|████▏     | 33/79 [00:11<00:16,  2.85it/s]\u001b[A\n",
      " 43%|████▎     | 34/79 [00:11<00:15,  2.84it/s]\u001b[A\n",
      " 44%|████▍     | 35/79 [00:11<00:15,  2.83it/s]\u001b[A\n",
      " 46%|████▌     | 36/79 [00:12<00:15,  2.83it/s]\u001b[A\n",
      " 47%|████▋     | 37/79 [00:12<00:14,  2.82it/s]\u001b[A\n",
      " 48%|████▊     | 38/79 [00:12<00:14,  2.82it/s]\u001b[A\n",
      " 49%|████▉     | 39/79 [00:13<00:14,  2.83it/s]\u001b[A\n",
      " 51%|█████     | 40/79 [00:13<00:13,  2.83it/s]\u001b[A\n",
      " 52%|█████▏    | 41/79 [00:14<00:13,  2.83it/s]\u001b[A\n",
      " 53%|█████▎    | 42/79 [00:14<00:13,  2.83it/s]\u001b[A\n",
      " 54%|█████▍    | 43/79 [00:14<00:12,  2.83it/s]\u001b[A\n",
      " 56%|█████▌    | 44/79 [00:15<00:12,  2.84it/s]\u001b[A\n",
      " 57%|█████▋    | 45/79 [00:15<00:11,  2.85it/s]\u001b[A\n",
      " 58%|█████▊    | 46/79 [00:15<00:11,  2.84it/s]\u001b[A\n",
      " 59%|█████▉    | 47/79 [00:16<00:11,  2.84it/s]\u001b[A\n",
      " 61%|██████    | 48/79 [00:16<00:10,  2.85it/s]\u001b[A\n",
      " 62%|██████▏   | 49/79 [00:16<00:10,  2.84it/s]\u001b[A\n",
      " 63%|██████▎   | 50/79 [00:17<00:10,  2.84it/s]\u001b[A\n",
      " 65%|██████▍   | 51/79 [00:17<00:09,  2.84it/s]\u001b[A\n",
      " 66%|██████▌   | 52/79 [00:17<00:09,  2.84it/s]\u001b[A\n",
      " 67%|██████▋   | 53/79 [00:18<00:09,  2.84it/s]\u001b[A\n",
      " 68%|██████▊   | 54/79 [00:18<00:08,  2.84it/s]\u001b[A\n",
      " 70%|██████▉   | 55/79 [00:18<00:08,  2.84it/s]\u001b[A\n",
      " 71%|███████   | 56/79 [00:19<00:08,  2.85it/s]\u001b[A\n",
      " 72%|███████▏  | 57/79 [00:19<00:07,  2.87it/s]\u001b[A\n",
      " 73%|███████▎  | 58/79 [00:19<00:07,  2.87it/s]\u001b[A\n",
      " 75%|███████▍  | 59/79 [00:20<00:06,  2.86it/s]\u001b[A\n",
      " 76%|███████▌  | 60/79 [00:20<00:06,  2.86it/s]\u001b[A\n",
      " 77%|███████▋  | 61/79 [00:21<00:06,  2.86it/s]\u001b[A\n",
      " 78%|███████▊  | 62/79 [00:21<00:05,  2.87it/s]\u001b[A\n",
      " 80%|███████▉  | 63/79 [00:21<00:05,  2.87it/s]\u001b[A\n",
      " 81%|████████  | 64/79 [00:22<00:05,  2.86it/s]\u001b[A\n",
      " 82%|████████▏ | 65/79 [00:22<00:04,  2.87it/s]\u001b[A\n",
      " 84%|████████▎ | 66/79 [00:22<00:04,  2.88it/s]\u001b[A\n",
      " 85%|████████▍ | 67/79 [00:23<00:04,  2.88it/s]\u001b[A\n",
      " 86%|████████▌ | 68/79 [00:23<00:03,  2.87it/s]\u001b[A\n",
      " 87%|████████▋ | 69/79 [00:23<00:03,  2.86it/s]\u001b[A\n",
      " 89%|████████▊ | 70/79 [00:24<00:03,  2.86it/s]\u001b[A\n",
      " 90%|████████▉ | 71/79 [00:24<00:02,  2.87it/s]\u001b[A\n",
      " 91%|█████████ | 72/79 [00:24<00:02,  2.87it/s]\u001b[A\n",
      " 92%|█████████▏| 73/79 [00:25<00:02,  2.86it/s]\u001b[A\n",
      " 94%|█████████▎| 74/79 [00:25<00:01,  2.86it/s]\u001b[A\n",
      " 95%|█████████▍| 75/79 [00:25<00:01,  2.87it/s]\u001b[A\n",
      " 96%|█████████▌| 76/79 [00:26<00:01,  2.88it/s]\u001b[A\n",
      " 97%|█████████▋| 77/79 [00:26<00:00,  2.88it/s]\u001b[A\n",
      "                                                   \n",
      " 56%|█████▌    | 2240/4000 [59:51<19:28,  1.51it/s]\n",
      "100%|██████████| 79/79 [00:27<00:00,  2.93it/s]\u001b[A\n",
      "                                               \u001b[A"
     ]
    },
    {
     "name": "stdout",
     "output_type": "stream",
     "text": [
      "{'eval_loss': 3.469531536102295, 'eval_accuracy': 0.2051, 'eval_runtime': 27.4033, 'eval_samples_per_second': 364.919, 'eval_steps_per_second': 2.883, 'epoch': 56.0}\n"
     ]
    },
    {
     "name": "stderr",
     "output_type": "stream",
     "text": [
      " 56%|█████▋    | 2250/4000 [1:00:01<36:15,  1.24s/it]"
     ]
    },
    {
     "name": "stdout",
     "output_type": "stream",
     "text": [
      "{'loss': 1.1081, 'grad_norm': 28.365514755249023, 'learning_rate': 8.750000000000001e-06, 'epoch': 56.25}\n"
     ]
    },
    {
     "name": "stderr",
     "output_type": "stream",
     "text": [
      " 56%|█████▋    | 2260/4000 [1:00:10<26:41,  1.09it/s]"
     ]
    },
    {
     "name": "stdout",
     "output_type": "stream",
     "text": [
      "{'loss': 1.147, 'grad_norm': 27.947023391723633, 'learning_rate': 8.700000000000001e-06, 'epoch': 56.5}\n"
     ]
    },
    {
     "name": "stderr",
     "output_type": "stream",
     "text": [
      " 57%|█████▋    | 2270/4000 [1:00:19<26:17,  1.10it/s]"
     ]
    },
    {
     "name": "stdout",
     "output_type": "stream",
     "text": [
      "{'loss': 1.1718, 'grad_norm': 31.480878829956055, 'learning_rate': 8.65e-06, 'epoch': 56.75}\n"
     ]
    },
    {
     "name": "stderr",
     "output_type": "stream",
     "text": [
      " 57%|█████▋    | 2280/4000 [1:00:27<19:05,  1.50it/s]"
     ]
    },
    {
     "name": "stdout",
     "output_type": "stream",
     "text": [
      "{'loss': 1.1684, 'grad_norm': 108.92047882080078, 'learning_rate': 8.6e-06, 'epoch': 57.0}\n"
     ]
    },
    {
     "name": "stderr",
     "output_type": "stream",
     "text": [
      "\n",
      "  0%|          | 0/79 [00:00<?, ?it/s]\u001b[A\n",
      "  3%|▎         | 2/79 [00:00<00:13,  5.85it/s]\u001b[A\n",
      "  4%|▍         | 3/79 [00:00<00:19,  3.97it/s]\u001b[A\n",
      "  5%|▌         | 4/79 [00:01<00:21,  3.47it/s]\u001b[A\n",
      "  6%|▋         | 5/79 [00:01<00:22,  3.25it/s]\u001b[A\n",
      "  8%|▊         | 6/79 [00:01<00:23,  3.11it/s]\u001b[A\n",
      "  9%|▉         | 7/79 [00:02<00:23,  3.00it/s]\u001b[A\n",
      " 10%|█         | 8/79 [00:02<00:23,  2.96it/s]\u001b[A\n",
      " 11%|█▏        | 9/79 [00:02<00:23,  2.93it/s]\u001b[A\n",
      " 13%|█▎        | 10/79 [00:03<00:23,  2.90it/s]\u001b[A\n",
      " 14%|█▍        | 11/79 [00:03<00:23,  2.88it/s]\u001b[A\n",
      " 15%|█▌        | 12/79 [00:03<00:23,  2.86it/s]\u001b[A\n",
      " 16%|█▋        | 13/79 [00:04<00:23,  2.85it/s]\u001b[A\n",
      " 18%|█▊        | 14/79 [00:04<00:22,  2.85it/s]\u001b[A\n",
      " 19%|█▉        | 15/79 [00:04<00:22,  2.85it/s]\u001b[A\n",
      " 20%|██        | 16/79 [00:05<00:22,  2.85it/s]\u001b[A\n",
      " 22%|██▏       | 17/79 [00:05<00:21,  2.86it/s]\u001b[A\n",
      " 23%|██▎       | 18/79 [00:05<00:21,  2.85it/s]\u001b[A\n",
      " 24%|██▍       | 19/79 [00:06<00:21,  2.85it/s]\u001b[A\n",
      " 25%|██▌       | 20/79 [00:06<00:20,  2.86it/s]\u001b[A\n",
      " 27%|██▋       | 21/79 [00:07<00:20,  2.86it/s]\u001b[A\n",
      " 28%|██▊       | 22/79 [00:07<00:19,  2.86it/s]\u001b[A\n",
      " 29%|██▉       | 23/79 [00:07<00:19,  2.86it/s]\u001b[A\n",
      " 30%|███       | 24/79 [00:08<00:19,  2.86it/s]\u001b[A\n",
      " 32%|███▏      | 25/79 [00:08<00:18,  2.85it/s]\u001b[A\n",
      " 33%|███▎      | 26/79 [00:08<00:18,  2.85it/s]\u001b[A\n",
      " 34%|███▍      | 27/79 [00:09<00:18,  2.84it/s]\u001b[A\n",
      " 35%|███▌      | 28/79 [00:09<00:17,  2.84it/s]\u001b[A\n",
      " 37%|███▋      | 29/79 [00:09<00:17,  2.83it/s]\u001b[A\n",
      " 38%|███▊      | 30/79 [00:10<00:17,  2.84it/s]\u001b[A\n",
      " 39%|███▉      | 31/79 [00:10<00:16,  2.84it/s]\u001b[A\n",
      " 41%|████      | 32/79 [00:10<00:16,  2.84it/s]\u001b[A\n",
      " 42%|████▏     | 33/79 [00:11<00:16,  2.84it/s]\u001b[A\n",
      " 43%|████▎     | 34/79 [00:11<00:15,  2.85it/s]\u001b[A\n",
      " 44%|████▍     | 35/79 [00:11<00:15,  2.84it/s]\u001b[A\n",
      " 46%|████▌     | 36/79 [00:12<00:15,  2.84it/s]\u001b[A\n",
      " 47%|████▋     | 37/79 [00:12<00:14,  2.84it/s]\u001b[A\n",
      " 48%|████▊     | 38/79 [00:13<00:14,  2.84it/s]\u001b[A\n",
      " 49%|████▉     | 39/79 [00:13<00:14,  2.84it/s]\u001b[A\n",
      " 51%|█████     | 40/79 [00:13<00:13,  2.84it/s]\u001b[A\n",
      " 52%|█████▏    | 41/79 [00:14<00:13,  2.85it/s]\u001b[A\n",
      " 53%|█████▎    | 42/79 [00:14<00:12,  2.85it/s]\u001b[A\n",
      " 54%|█████▍    | 43/79 [00:14<00:12,  2.84it/s]\u001b[A\n",
      " 56%|█████▌    | 44/79 [00:15<00:12,  2.84it/s]\u001b[A\n",
      " 57%|█████▋    | 45/79 [00:15<00:11,  2.83it/s]\u001b[A\n",
      " 58%|█████▊    | 46/79 [00:15<00:11,  2.83it/s]\u001b[A\n",
      " 59%|█████▉    | 47/79 [00:16<00:11,  2.83it/s]\u001b[A\n",
      " 61%|██████    | 48/79 [00:16<00:10,  2.83it/s]\u001b[A\n",
      " 62%|██████▏   | 49/79 [00:16<00:10,  2.83it/s]\u001b[A\n",
      " 63%|██████▎   | 50/79 [00:17<00:10,  2.83it/s]\u001b[A\n",
      " 65%|██████▍   | 51/79 [00:17<00:09,  2.84it/s]\u001b[A\n",
      " 66%|██████▌   | 52/79 [00:17<00:09,  2.83it/s]\u001b[A\n",
      " 67%|██████▋   | 53/79 [00:18<00:09,  2.84it/s]\u001b[A\n",
      " 68%|██████▊   | 54/79 [00:18<00:08,  2.83it/s]\u001b[A\n",
      " 70%|██████▉   | 55/79 [00:18<00:08,  2.84it/s]\u001b[A\n",
      " 71%|███████   | 56/79 [00:19<00:08,  2.83it/s]\u001b[A\n",
      " 72%|███████▏  | 57/79 [00:19<00:07,  2.83it/s]\u001b[A\n",
      " 73%|███████▎  | 58/79 [00:20<00:07,  2.83it/s]\u001b[A\n",
      " 75%|███████▍  | 59/79 [00:20<00:07,  2.84it/s]\u001b[A\n",
      " 76%|███████▌  | 60/79 [00:20<00:06,  2.84it/s]\u001b[A\n",
      " 77%|███████▋  | 61/79 [00:21<00:06,  2.84it/s]\u001b[A\n",
      " 78%|███████▊  | 62/79 [00:21<00:05,  2.84it/s]\u001b[A\n",
      " 80%|███████▉  | 63/79 [00:21<00:05,  2.83it/s]\u001b[A\n",
      " 81%|████████  | 64/79 [00:22<00:05,  2.84it/s]\u001b[A\n",
      " 82%|████████▏ | 65/79 [00:22<00:04,  2.83it/s]\u001b[A\n",
      " 84%|████████▎ | 66/79 [00:22<00:04,  2.83it/s]\u001b[A\n",
      " 85%|████████▍ | 67/79 [00:23<00:04,  2.83it/s]\u001b[A\n",
      " 86%|████████▌ | 68/79 [00:23<00:03,  2.83it/s]\u001b[A\n",
      " 87%|████████▋ | 69/79 [00:23<00:03,  2.82it/s]\u001b[A\n",
      " 89%|████████▊ | 70/79 [00:24<00:03,  2.82it/s]\u001b[A\n",
      " 90%|████████▉ | 71/79 [00:24<00:02,  2.82it/s]\u001b[A\n",
      " 91%|█████████ | 72/79 [00:25<00:02,  2.82it/s]\u001b[A\n",
      " 92%|█████████▏| 73/79 [00:25<00:02,  2.83it/s]\u001b[A\n",
      " 94%|█████████▎| 74/79 [00:25<00:01,  2.82it/s]\u001b[A\n",
      " 95%|█████████▍| 75/79 [00:26<00:01,  2.83it/s]\u001b[A\n",
      " 96%|█████████▌| 76/79 [00:26<00:01,  2.83it/s]\u001b[A\n",
      " 97%|█████████▋| 77/79 [00:26<00:00,  2.83it/s]\u001b[A\n",
      "                                                     \n",
      " 57%|█████▋    | 2280/4000 [1:00:55<19:05,  1.50it/s]\n",
      "100%|██████████| 79/79 [00:27<00:00,  2.89it/s]\u001b[A\n",
      "                                               \u001b[A"
     ]
    },
    {
     "name": "stdout",
     "output_type": "stream",
     "text": [
      "{'eval_loss': 3.4715256690979004, 'eval_accuracy': 0.2076, 'eval_runtime': 27.5841, 'eval_samples_per_second': 362.528, 'eval_steps_per_second': 2.864, 'epoch': 57.0}\n"
     ]
    },
    {
     "name": "stderr",
     "output_type": "stream",
     "text": [
      " 57%|█████▋    | 2288/4000 [1:01:03<45:51,  1.61s/it]  "
     ]
    },
    {
     "ename": "KeyboardInterrupt",
     "evalue": "",
     "output_type": "error",
     "traceback": [
      "\u001b[0;31m---------------------------------------------------------------------------\u001b[0m",
      "\u001b[0;31mKeyboardInterrupt\u001b[0m                         Traceback (most recent call last)",
      "\u001b[0;32m/tmp/ipykernel_3227/883871373.py\u001b[0m in \u001b[0;36m<cell line: 1>\u001b[0;34m()\u001b[0m\n\u001b[0;32m----> 1\u001b[0;31m \u001b[0mtrain_results\u001b[0m \u001b[0;34m=\u001b[0m \u001b[0mtrainer\u001b[0m\u001b[0;34m.\u001b[0m\u001b[0mtrain\u001b[0m\u001b[0;34m(\u001b[0m\u001b[0;34m)\u001b[0m\u001b[0;34m\u001b[0m\u001b[0;34m\u001b[0m\u001b[0m\n\u001b[0m\u001b[1;32m      2\u001b[0m \u001b[0mtrainer\u001b[0m\u001b[0;34m.\u001b[0m\u001b[0msave_model\u001b[0m\u001b[0;34m(\u001b[0m\u001b[0;34m)\u001b[0m\u001b[0;34m\u001b[0m\u001b[0;34m\u001b[0m\u001b[0m\n\u001b[1;32m      3\u001b[0m \u001b[0mtrainer\u001b[0m\u001b[0;34m.\u001b[0m\u001b[0mlog_metrics\u001b[0m\u001b[0;34m(\u001b[0m\u001b[0;34m\"train\"\u001b[0m\u001b[0;34m,\u001b[0m \u001b[0mtrain_results\u001b[0m\u001b[0;34m.\u001b[0m\u001b[0mmetrics\u001b[0m\u001b[0;34m)\u001b[0m\u001b[0;34m\u001b[0m\u001b[0;34m\u001b[0m\u001b[0m\n\u001b[1;32m      4\u001b[0m \u001b[0mtrainer\u001b[0m\u001b[0;34m.\u001b[0m\u001b[0msave_metrics\u001b[0m\u001b[0;34m(\u001b[0m\u001b[0;34m\"train\"\u001b[0m\u001b[0;34m,\u001b[0m \u001b[0mtrain_results\u001b[0m\u001b[0;34m.\u001b[0m\u001b[0mmetrics\u001b[0m\u001b[0;34m)\u001b[0m\u001b[0;34m\u001b[0m\u001b[0;34m\u001b[0m\u001b[0m\n\u001b[1;32m      5\u001b[0m \u001b[0mtrainer\u001b[0m\u001b[0;34m.\u001b[0m\u001b[0msave_state\u001b[0m\u001b[0;34m(\u001b[0m\u001b[0;34m)\u001b[0m\u001b[0;34m\u001b[0m\u001b[0;34m\u001b[0m\u001b[0m\n",
      "\u001b[0;32m~/.local/lib/python3.10/site-packages/transformers/trainer.py\u001b[0m in \u001b[0;36mtrain\u001b[0;34m(self, resume_from_checkpoint, trial, ignore_keys_for_eval, **kwargs)\u001b[0m\n\u001b[1;32m   1910\u001b[0m                 \u001b[0mhf_hub_utils\u001b[0m\u001b[0;34m.\u001b[0m\u001b[0menable_progress_bars\u001b[0m\u001b[0;34m(\u001b[0m\u001b[0;34m)\u001b[0m\u001b[0;34m\u001b[0m\u001b[0;34m\u001b[0m\u001b[0m\n\u001b[1;32m   1911\u001b[0m         \u001b[0;32melse\u001b[0m\u001b[0;34m:\u001b[0m\u001b[0;34m\u001b[0m\u001b[0;34m\u001b[0m\u001b[0m\n\u001b[0;32m-> 1912\u001b[0;31m             return inner_training_loop(\n\u001b[0m\u001b[1;32m   1913\u001b[0m                 \u001b[0margs\u001b[0m\u001b[0;34m=\u001b[0m\u001b[0margs\u001b[0m\u001b[0;34m,\u001b[0m\u001b[0;34m\u001b[0m\u001b[0;34m\u001b[0m\u001b[0m\n\u001b[1;32m   1914\u001b[0m                 \u001b[0mresume_from_checkpoint\u001b[0m\u001b[0;34m=\u001b[0m\u001b[0mresume_from_checkpoint\u001b[0m\u001b[0;34m,\u001b[0m\u001b[0;34m\u001b[0m\u001b[0;34m\u001b[0m\u001b[0m\n",
      "\u001b[0;32m~/.local/lib/python3.10/site-packages/transformers/trainer.py\u001b[0m in \u001b[0;36m_inner_training_loop\u001b[0;34m(self, batch_size, args, resume_from_checkpoint, trial, ignore_keys_for_eval)\u001b[0m\n\u001b[1;32m   2251\u001b[0m                     \u001b[0margs\u001b[0m\u001b[0;34m.\u001b[0m\u001b[0mlogging_nan_inf_filter\u001b[0m\u001b[0;34m\u001b[0m\u001b[0;34m\u001b[0m\u001b[0m\n\u001b[1;32m   2252\u001b[0m                     \u001b[0;32mand\u001b[0m \u001b[0;32mnot\u001b[0m \u001b[0mis_torch_xla_available\u001b[0m\u001b[0;34m(\u001b[0m\u001b[0;34m)\u001b[0m\u001b[0;34m\u001b[0m\u001b[0;34m\u001b[0m\u001b[0m\n\u001b[0;32m-> 2253\u001b[0;31m                     \u001b[0;32mand\u001b[0m \u001b[0;34m(\u001b[0m\u001b[0mtorch\u001b[0m\u001b[0;34m.\u001b[0m\u001b[0misnan\u001b[0m\u001b[0;34m(\u001b[0m\u001b[0mtr_loss_step\u001b[0m\u001b[0;34m)\u001b[0m \u001b[0;32mor\u001b[0m \u001b[0mtorch\u001b[0m\u001b[0;34m.\u001b[0m\u001b[0misinf\u001b[0m\u001b[0;34m(\u001b[0m\u001b[0mtr_loss_step\u001b[0m\u001b[0;34m)\u001b[0m\u001b[0;34m)\u001b[0m\u001b[0;34m\u001b[0m\u001b[0;34m\u001b[0m\u001b[0m\n\u001b[0m\u001b[1;32m   2254\u001b[0m                 ):\n\u001b[1;32m   2255\u001b[0m                     \u001b[0;31m# if loss is nan or inf simply add the average of previous logged losses\u001b[0m\u001b[0;34m\u001b[0m\u001b[0;34m\u001b[0m\u001b[0m\n",
      "\u001b[0;31mKeyboardInterrupt\u001b[0m: "
     ]
    }
   ],
   "source": [
    "train_results = trainer.train()\n",
    "trainer.save_model()\n",
    "trainer.log_metrics(\"train\", train_results.metrics)\n",
    "trainer.save_metrics(\"train\", train_results.metrics)\n",
    "trainer.save_state()"
   ]
  },
  {
   "cell_type": "code",
   "execution_count": null,
   "metadata": {},
   "outputs": [],
   "source": []
  }
 ],
 "metadata": {
  "kernelspec": {
   "display_name": "DataSphere Kernel",
   "language": "python",
   "name": "python3"
  },
  "language_info": {
   "codemirror_mode": {
    "name": "ipython",
    "version": 3
   },
   "file_extension": ".py",
   "mimetype": "text/x-python",
   "name": "python",
   "nbconvert_exporter": "python",
   "pygments_lexer": "ipython3",
   "version": "3.10.12"
  },
  "widgets": {
   "application/vnd.jupyter.widget-state+json": {
    "state": {},
    "version_major": 2,
    "version_minor": 0
   }
  }
 },
 "nbformat": 4,
 "nbformat_minor": 4
}

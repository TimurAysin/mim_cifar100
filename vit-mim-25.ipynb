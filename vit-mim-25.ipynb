{
 "cells": [
  {
   "cell_type": "code",
   "execution_count": 1,
   "metadata": {
    "execution": {
     "iopub.execute_input": "2024-06-11T16:46:44.552715Z",
     "iopub.status.busy": "2024-06-11T16:46:44.551362Z",
     "iopub.status.idle": "2024-06-11T16:47:12.671971Z",
     "shell.execute_reply": "2024-06-11T16:47:12.671089Z",
     "shell.execute_reply.started": "2024-06-11T16:46:44.552669Z"
    },
    "tags": []
   },
   "outputs": [
    {
     "name": "stderr",
     "output_type": "stream",
     "text": [
      "/home/jupyter/.local/lib/python3.10/site-packages/transformers/utils/hub.py:127: FutureWarning: Using `TRANSFORMERS_CACHE` is deprecated and will be removed in v5 of Transformers. Use `HF_HOME` instead.\n",
      "  warnings.warn(\n",
      "2024-06-11 16:46:56.442684: I tensorflow/core/util/port.cc:110] oneDNN custom operations are on. You may see slightly different numerical results due to floating-point round-off errors from different computation orders. To turn them off, set the environment variable `TF_ENABLE_ONEDNN_OPTS=0`.\n",
      "2024-06-11 16:46:57.888440: I tensorflow/core/platform/cpu_feature_guard.cc:182] This TensorFlow binary is optimized to use available CPU instructions in performance-critical operations.\n",
      "To enable the following instructions: AVX2 AVX512F AVX512_VNNI FMA, in other operations, rebuild TensorFlow with the appropriate compiler flags.\n",
      "2024-06-11 16:47:04.096910: W tensorflow/compiler/tf2tensorrt/utils/py_utils.cc:38] TF-TRT Warning: Could not find TensorRT\n"
     ]
    }
   ],
   "source": [
    "from transformers import ViTConfig, ViTModel, ViTImageProcessor, ViTForImageClassification, ViTForMaskedImageModeling"
   ]
  },
  {
   "cell_type": "code",
   "execution_count": 2,
   "metadata": {
    "execution": {
     "iopub.execute_input": "2024-06-11T16:47:12.676120Z",
     "iopub.status.busy": "2024-06-11T16:47:12.673414Z",
     "iopub.status.idle": "2024-06-11T16:47:12.699797Z",
     "shell.execute_reply": "2024-06-11T16:47:12.698604Z",
     "shell.execute_reply.started": "2024-06-11T16:47:12.676076Z"
    },
    "tags": []
   },
   "outputs": [
    {
     "data": {
      "text/plain": [
       "ViTImageProcessor {\n",
       "  \"_valid_processor_keys\": [\n",
       "    \"images\",\n",
       "    \"do_resize\",\n",
       "    \"size\",\n",
       "    \"resample\",\n",
       "    \"do_rescale\",\n",
       "    \"rescale_factor\",\n",
       "    \"do_normalize\",\n",
       "    \"image_mean\",\n",
       "    \"image_std\",\n",
       "    \"return_tensors\",\n",
       "    \"data_format\",\n",
       "    \"input_data_format\"\n",
       "  ],\n",
       "  \"do_normalize\": true,\n",
       "  \"do_rescale\": true,\n",
       "  \"do_resize\": true,\n",
       "  \"image_mean\": [\n",
       "    0.5,\n",
       "    0.5,\n",
       "    0.5\n",
       "  ],\n",
       "  \"image_processor_type\": \"ViTImageProcessor\",\n",
       "  \"image_std\": [\n",
       "    0.5,\n",
       "    0.5,\n",
       "    0.5\n",
       "  ],\n",
       "  \"resample\": 2,\n",
       "  \"rescale_factor\": 0.00392156862745098,\n",
       "  \"size\": {\n",
       "    \"height\": 64,\n",
       "    \"width\": 64\n",
       "  }\n",
       "}"
      ]
     },
     "execution_count": 2,
     "metadata": {},
     "output_type": "execute_result"
    }
   ],
   "source": [
    "IMAGE_SIZE = 64\n",
    "\n",
    "processor = ViTImageProcessor(size=IMAGE_SIZE)\n",
    "processor"
   ]
  },
  {
   "cell_type": "code",
   "execution_count": 3,
   "metadata": {
    "execution": {
     "iopub.execute_input": "2024-06-11T16:47:12.706134Z",
     "iopub.status.busy": "2024-06-11T16:47:12.705618Z",
     "iopub.status.idle": "2024-06-11T16:47:18.740582Z",
     "shell.execute_reply": "2024-06-11T16:47:18.739781Z",
     "shell.execute_reply.started": "2024-06-11T16:47:12.706096Z"
    },
    "tags": []
   },
   "outputs": [
    {
     "data": {
      "text/plain": [
       "Dataset({\n",
       "    features: ['img', 'fine_label', 'coarse_label'],\n",
       "    num_rows: 10000\n",
       "})"
      ]
     },
     "execution_count": 3,
     "metadata": {},
     "output_type": "execute_result"
    }
   ],
   "source": [
    "from datasets import load_dataset\n",
    "\n",
    "test_dataset = load_dataset(\"uoft-cs/cifar100\", split=\"test\")\n",
    "test_dataset"
   ]
  },
  {
   "cell_type": "code",
   "execution_count": 4,
   "metadata": {
    "execution": {
     "iopub.execute_input": "2024-06-11T16:47:18.742405Z",
     "iopub.status.busy": "2024-06-11T16:47:18.741574Z",
     "iopub.status.idle": "2024-06-11T16:47:22.653195Z",
     "shell.execute_reply": "2024-06-11T16:47:22.652402Z",
     "shell.execute_reply.started": "2024-06-11T16:47:18.742367Z"
    },
    "tags": []
   },
   "outputs": [
    {
     "data": {
      "text/plain": [
       "Dataset({\n",
       "    features: ['img', 'fine_label', 'coarse_label'],\n",
       "    num_rows: 50000\n",
       "})"
      ]
     },
     "execution_count": 4,
     "metadata": {},
     "output_type": "execute_result"
    }
   ],
   "source": [
    "train_dataset = load_dataset(\"uoft-cs/cifar100\", split=\"train\")\n",
    "train_dataset"
   ]
  },
  {
   "cell_type": "code",
   "execution_count": 5,
   "metadata": {
    "execution": {
     "iopub.execute_input": "2024-06-11T16:47:22.654615Z",
     "iopub.status.busy": "2024-06-11T16:47:22.654113Z",
     "iopub.status.idle": "2024-06-11T16:47:22.886750Z",
     "shell.execute_reply": "2024-06-11T16:47:22.885848Z",
     "shell.execute_reply.started": "2024-06-11T16:47:22.654579Z"
    },
    "tags": []
   },
   "outputs": [
    {
     "data": {
      "text/plain": [
       "Dataset({\n",
       "    features: ['img', 'fine_label', 'coarse_label'],\n",
       "    num_rows: 12500\n",
       "})"
      ]
     },
     "execution_count": 5,
     "metadata": {},
     "output_type": "execute_result"
    }
   ],
   "source": [
    "train_dataset_25 = train_dataset.train_test_split(train_size=0.25, shuffle=True, stratify_by_column=\"fine_label\")[\"train\"]\n",
    "train_dataset_25"
   ]
  },
  {
   "cell_type": "code",
   "execution_count": 6,
   "metadata": {
    "execution": {
     "iopub.execute_input": "2024-06-11T16:47:22.888967Z",
     "iopub.status.busy": "2024-06-11T16:47:22.887905Z",
     "iopub.status.idle": "2024-06-11T16:47:23.614015Z",
     "shell.execute_reply": "2024-06-11T16:47:23.612336Z",
     "shell.execute_reply.started": "2024-06-11T16:47:22.888929Z"
    },
    "tags": []
   },
   "outputs": [
    {
     "ename": "NameError",
     "evalue": "name 'dataset' is not defined",
     "output_type": "error",
     "traceback": [
      "\u001b[0;31m---------------------------------------------------------------------------\u001b[0m",
      "\u001b[0;31mNameError\u001b[0m                                 Traceback (most recent call last)",
      "\u001b[0;32m/tmp/ipykernel_2364/1804590294.py\u001b[0m in \u001b[0;36m<cell line: 6>\u001b[0;34m()\u001b[0m\n\u001b[1;32m      4\u001b[0m     \u001b[0;32mreturn\u001b[0m \u001b[0minputs\u001b[0m\u001b[0;34m\u001b[0m\u001b[0;34m\u001b[0m\u001b[0m\n\u001b[1;32m      5\u001b[0m \u001b[0;34m\u001b[0m\u001b[0m\n\u001b[0;32m----> 6\u001b[0;31m \u001b[0mprocess_example\u001b[0m\u001b[0;34m(\u001b[0m\u001b[0mdataset\u001b[0m\u001b[0;34m[\u001b[0m\u001b[0;34m\"train\"\u001b[0m\u001b[0;34m]\u001b[0m\u001b[0;34m[\u001b[0m\u001b[0;36m0\u001b[0m\u001b[0;34m]\u001b[0m\u001b[0;34m)\u001b[0m\u001b[0;34m\u001b[0m\u001b[0;34m\u001b[0m\u001b[0m\n\u001b[0m",
      "\u001b[0;31mNameError\u001b[0m: name 'dataset' is not defined"
     ]
    }
   ],
   "source": [
    "def process_example(example):\n",
    "    inputs = processor(example['img'], return_tensors='pt')\n",
    "    inputs['labels'] = example['fine_label']\n",
    "    return inputs\n",
    "\n",
    "process_example(dataset[\"train\"][0])"
   ]
  },
  {
   "cell_type": "code",
   "execution_count": 7,
   "metadata": {
    "execution": {
     "iopub.execute_input": "2024-06-11T16:54:08.969290Z",
     "iopub.status.busy": "2024-06-11T16:54:08.968275Z",
     "iopub.status.idle": "2024-06-11T16:54:08.983835Z",
     "shell.execute_reply": "2024-06-11T16:54:08.982994Z",
     "shell.execute_reply.started": "2024-06-11T16:54:08.969242Z"
    },
    "tags": []
   },
   "outputs": [],
   "source": [
    "def transform(example_batch):\n",
    "    # Take a list of PIL images and turn them to pixel values\n",
    "    inputs = processor([x for x in example_batch['img']], return_tensors='pt')\n",
    "\n",
    "    # Don't forget to include the labels!\n",
    "    inputs['labels'] = example_batch['fine_label']\n",
    "    return inputs"
   ]
  },
  {
   "cell_type": "code",
   "execution_count": 13,
   "metadata": {
    "execution": {
     "iopub.execute_input": "2024-06-11T08:36:56.038686Z",
     "iopub.status.busy": "2024-06-11T08:36:56.037651Z",
     "iopub.status.idle": "2024-06-11T08:36:56.064527Z",
     "shell.execute_reply": "2024-06-11T08:36:56.063716Z",
     "shell.execute_reply.started": "2024-06-11T08:36:56.038647Z"
    },
    "tags": []
   },
   "outputs": [],
   "source": [
    "prepared_ds = dataset.with_transform(transform)"
   ]
  },
  {
   "cell_type": "code",
   "execution_count": 14,
   "metadata": {
    "execution": {
     "iopub.execute_input": "2024-06-11T08:36:56.532896Z",
     "iopub.status.busy": "2024-06-11T08:36:56.531505Z",
     "iopub.status.idle": "2024-06-11T08:36:56.555707Z",
     "shell.execute_reply": "2024-06-11T08:36:56.554826Z",
     "shell.execute_reply.started": "2024-06-11T08:36:56.532851Z"
    },
    "tags": []
   },
   "outputs": [
    {
     "data": {
      "text/plain": [
       "{'pixel_values': tensor([[[[ 1.0000,  1.0000,  1.0000,  ...,  0.6078,  0.4902,  0.4275],\n",
       "          [ 1.0000,  1.0000,  1.0000,  ...,  0.5137,  0.4118,  0.3569],\n",
       "          [ 1.0000,  1.0000,  0.9922,  ...,  0.3255,  0.2549,  0.2157],\n",
       "          ...,\n",
       "          [-0.1137, -0.1137, -0.1137,  ..., -0.1451,  0.0196,  0.0980],\n",
       "          [-0.2471, -0.2471, -0.2471,  ..., -0.1216,  0.0196,  0.0902],\n",
       "          [-0.3176, -0.3176, -0.3098,  ..., -0.1137,  0.0196,  0.0824]],\n",
       "\n",
       "         [[ 1.0000,  1.0000,  1.0000,  ...,  0.7020,  0.5843,  0.5216],\n",
       "          [ 1.0000,  1.0000,  1.0000,  ...,  0.6000,  0.4980,  0.4431],\n",
       "          [ 1.0000,  1.0000,  0.9922,  ...,  0.3961,  0.3255,  0.2863],\n",
       "          ...,\n",
       "          [ 0.1608,  0.1608,  0.1608,  ...,  0.0118,  0.2000,  0.2863],\n",
       "          [ 0.0275,  0.0275,  0.0275,  ...,  0.0824,  0.2549,  0.3333],\n",
       "          [-0.0431, -0.0431, -0.0431,  ...,  0.1216,  0.2784,  0.3569]],\n",
       "\n",
       "         [[ 1.0000,  1.0000,  1.0000,  ...,  0.5294,  0.3804,  0.3098],\n",
       "          [ 1.0000,  1.0000,  1.0000,  ...,  0.3961,  0.2627,  0.2078],\n",
       "          [ 1.0000,  1.0000,  0.9922,  ...,  0.1216,  0.0353, -0.0039],\n",
       "          ...,\n",
       "          [-0.5294, -0.5451, -0.5686,  ..., -0.4980, -0.3882, -0.3333],\n",
       "          [-0.6314, -0.6314, -0.6471,  ..., -0.4980, -0.4118, -0.3647],\n",
       "          [-0.6784, -0.6784, -0.6863,  ..., -0.4980, -0.4196, -0.3804]]],\n",
       "\n",
       "\n",
       "        [[[ 1.0000,  1.0000,  0.9922,  ...,  0.9922,  1.0000,  1.0000],\n",
       "          [ 1.0000,  1.0000,  0.9922,  ...,  0.9922,  1.0000,  1.0000],\n",
       "          [ 1.0000,  1.0000,  1.0000,  ...,  1.0000,  1.0000,  1.0000],\n",
       "          ...,\n",
       "          [ 1.0000,  1.0000,  1.0000,  ...,  1.0000,  1.0000,  1.0000],\n",
       "          [ 1.0000,  1.0000,  0.9922,  ...,  0.9922,  1.0000,  1.0000],\n",
       "          [ 1.0000,  1.0000,  0.9922,  ...,  0.9922,  1.0000,  1.0000]],\n",
       "\n",
       "         [[ 1.0000,  1.0000,  0.9922,  ...,  0.9922,  1.0000,  1.0000],\n",
       "          [ 1.0000,  1.0000,  0.9922,  ...,  0.9922,  1.0000,  1.0000],\n",
       "          [ 1.0000,  1.0000,  1.0000,  ...,  1.0000,  1.0000,  1.0000],\n",
       "          ...,\n",
       "          [ 1.0000,  1.0000,  1.0000,  ...,  1.0000,  1.0000,  1.0000],\n",
       "          [ 1.0000,  1.0000,  0.9922,  ...,  0.9922,  1.0000,  1.0000],\n",
       "          [ 1.0000,  1.0000,  0.9922,  ...,  0.9922,  1.0000,  1.0000]],\n",
       "\n",
       "         [[ 1.0000,  1.0000,  0.9922,  ...,  0.9922,  1.0000,  1.0000],\n",
       "          [ 1.0000,  1.0000,  0.9922,  ...,  0.9922,  1.0000,  1.0000],\n",
       "          [ 1.0000,  1.0000,  1.0000,  ...,  1.0000,  1.0000,  1.0000],\n",
       "          ...,\n",
       "          [ 1.0000,  1.0000,  1.0000,  ...,  1.0000,  1.0000,  1.0000],\n",
       "          [ 1.0000,  1.0000,  0.9922,  ...,  0.9922,  1.0000,  1.0000],\n",
       "          [ 1.0000,  1.0000,  0.9922,  ...,  0.9922,  1.0000,  1.0000]]]]), 'labels': [19, 29]}"
      ]
     },
     "execution_count": 14,
     "metadata": {},
     "output_type": "execute_result"
    }
   ],
   "source": [
    "prepared_ds[\"train\"][0:2]"
   ]
  },
  {
   "cell_type": "code",
   "execution_count": 8,
   "metadata": {
    "execution": {
     "iopub.execute_input": "2024-06-11T16:54:12.647516Z",
     "iopub.status.busy": "2024-06-11T16:54:12.646212Z",
     "iopub.status.idle": "2024-06-11T16:54:12.666174Z",
     "shell.execute_reply": "2024-06-11T16:54:12.665392Z",
     "shell.execute_reply.started": "2024-06-11T16:54:12.647470Z"
    },
    "tags": []
   },
   "outputs": [],
   "source": [
    "import torch\n",
    "\n",
    "def collate_fn(batch):\n",
    "    return {\n",
    "        'pixel_values': torch.stack([x['pixel_values'] for x in batch]),\n",
    "        'labels': torch.tensor([x['labels'] for x in batch])\n",
    "    }"
   ]
  },
  {
   "cell_type": "code",
   "execution_count": 9,
   "metadata": {
    "execution": {
     "iopub.execute_input": "2024-06-11T16:54:14.056359Z",
     "iopub.status.busy": "2024-06-11T16:54:14.055467Z",
     "iopub.status.idle": "2024-06-11T16:54:16.501664Z",
     "shell.execute_reply": "2024-06-11T16:54:16.500750Z",
     "shell.execute_reply.started": "2024-06-11T16:54:14.056313Z"
    },
    "tags": []
   },
   "outputs": [
    {
     "name": "stderr",
     "output_type": "stream",
     "text": [
      "/tmp/ipykernel_2364/311509507.py:4: FutureWarning: load_metric is deprecated and will be removed in the next major version of datasets. Use 'evaluate.load' instead, from the new library 🤗 Evaluate: https://huggingface.co/docs/evaluate\n",
      "  metric = load_metric(\"accuracy\")\n",
      "/home/jupyter/.local/lib/python3.10/site-packages/datasets/load.py:756: FutureWarning: The repository for accuracy contains custom code which must be executed to correctly load the metric. You can inspect the repository content at https://raw.githubusercontent.com/huggingface/datasets/2.18.0/metrics/accuracy/accuracy.py\n",
      "You can avoid this message in future by passing the argument `trust_remote_code=True`.\n",
      "Passing `trust_remote_code=True` will be mandatory to load this metric from the next major release of `datasets`.\n",
      "  warnings.warn(\n"
     ]
    }
   ],
   "source": [
    "import numpy as np\n",
    "from datasets import load_metric\n",
    "\n",
    "metric = load_metric(\"accuracy\")\n",
    "def compute_metrics(p):\n",
    "    return metric.compute(predictions=np.argmax(p.predictions, axis=1), references=p.label_ids)\n"
   ]
  },
  {
   "cell_type": "code",
   "execution_count": 17,
   "metadata": {
    "execution": {
     "iopub.execute_input": "2024-06-11T08:37:05.528878Z",
     "iopub.status.busy": "2024-06-11T08:37:05.527054Z",
     "iopub.status.idle": "2024-06-11T08:37:05.553509Z",
     "shell.execute_reply": "2024-06-11T08:37:05.552552Z",
     "shell.execute_reply.started": "2024-06-11T08:37:05.528835Z"
    },
    "tags": []
   },
   "outputs": [
    {
     "data": {
      "text/plain": [
       "{'img': Image(decode=True, id=None),\n",
       " 'fine_label': ClassLabel(names=['apple', 'aquarium_fish', 'baby', 'bear', 'beaver', 'bed', 'bee', 'beetle', 'bicycle', 'bottle', 'bowl', 'boy', 'bridge', 'bus', 'butterfly', 'camel', 'can', 'castle', 'caterpillar', 'cattle', 'chair', 'chimpanzee', 'clock', 'cloud', 'cockroach', 'couch', 'cra', 'crocodile', 'cup', 'dinosaur', 'dolphin', 'elephant', 'flatfish', 'forest', 'fox', 'girl', 'hamster', 'house', 'kangaroo', 'keyboard', 'lamp', 'lawn_mower', 'leopard', 'lion', 'lizard', 'lobster', 'man', 'maple_tree', 'motorcycle', 'mountain', 'mouse', 'mushroom', 'oak_tree', 'orange', 'orchid', 'otter', 'palm_tree', 'pear', 'pickup_truck', 'pine_tree', 'plain', 'plate', 'poppy', 'porcupine', 'possum', 'rabbit', 'raccoon', 'ray', 'road', 'rocket', 'rose', 'sea', 'seal', 'shark', 'shrew', 'skunk', 'skyscraper', 'snail', 'snake', 'spider', 'squirrel', 'streetcar', 'sunflower', 'sweet_pepper', 'table', 'tank', 'telephone', 'television', 'tiger', 'tractor', 'train', 'trout', 'tulip', 'turtle', 'wardrobe', 'whale', 'willow_tree', 'wolf', 'woman', 'worm'], id=None),\n",
       " 'coarse_label': ClassLabel(names=['aquatic_mammals', 'fish', 'flowers', 'food_containers', 'fruit_and_vegetables', 'household_electrical_devices', 'household_furniture', 'insects', 'large_carnivores', 'large_man-made_outdoor_things', 'large_natural_outdoor_scenes', 'large_omnivores_and_herbivores', 'medium_mammals', 'non-insect_invertebrates', 'people', 'reptiles', 'small_mammals', 'trees', 'vehicles_1', 'vehicles_2'], id=None)}"
      ]
     },
     "execution_count": 17,
     "metadata": {},
     "output_type": "execute_result"
    }
   ],
   "source": [
    "prepared_ds[\"train\"].features"
   ]
  },
  {
   "cell_type": "code",
   "execution_count": 33,
   "metadata": {
    "execution": {
     "iopub.execute_input": "2024-06-11T10:57:59.574666Z",
     "iopub.status.busy": "2024-06-11T10:57:59.573770Z",
     "iopub.status.idle": "2024-06-11T10:57:59.589829Z",
     "shell.execute_reply": "2024-06-11T10:57:59.589014Z",
     "shell.execute_reply.started": "2024-06-11T10:57:59.574622Z"
    },
    "tags": []
   },
   "outputs": [],
   "source": [
    "checkpoint = \"/home/jupyter/datasphere/project/vit/outputs_mim_tiny_imagenet/checkpoint-47880/\""
   ]
  },
  {
   "cell_type": "code",
   "execution_count": 62,
   "metadata": {
    "execution": {
     "iopub.execute_input": "2024-06-11T14:00:09.390601Z",
     "iopub.status.busy": "2024-06-11T14:00:09.389619Z",
     "iopub.status.idle": "2024-06-11T14:00:09.433864Z",
     "shell.execute_reply": "2024-06-11T14:00:09.432933Z",
     "shell.execute_reply.started": "2024-06-11T14:00:09.390563Z"
    },
    "tags": []
   },
   "outputs": [
    {
     "name": "stderr",
     "output_type": "stream",
     "text": [
      "Some weights of ViTForImageClassification were not initialized from the model checkpoint at /home/jupyter/datasphere/project/vit/outputs_mim_tiny_imagenet/checkpoint-47880/ and are newly initialized: ['classifier.bias', 'classifier.weight']\n",
      "You should probably TRAIN this model on a down-stream task to be able to use it for predictions and inference.\n"
     ]
    }
   ],
   "source": [
    "labels = prepared_ds['train'].features['fine_label'].names\n",
    "\n",
    "configuration = ViTConfig.from_pretrained(checkpoint)\n",
    "\n",
    "model = ViTForImageClassification.from_pretrained(checkpoint)"
   ]
  },
  {
   "cell_type": "code",
   "execution_count": 10,
   "metadata": {
    "execution": {
     "iopub.execute_input": "2024-06-11T16:54:19.120869Z",
     "iopub.status.busy": "2024-06-11T16:54:19.119837Z",
     "iopub.status.idle": "2024-06-11T16:54:19.509916Z",
     "shell.execute_reply": "2024-06-11T16:54:19.509109Z",
     "shell.execute_reply.started": "2024-06-11T16:54:19.120825Z"
    },
    "tags": []
   },
   "outputs": [],
   "source": [
    "labels = test_dataset.features[\"fine_label\"].names\n",
    "\n",
    "configuration = ViTConfig(\n",
    "    num_hidden_layers=3,\n",
    "    num_attention_heads=16,\n",
    "    hidden_size=512,\n",
    "    patch_size=4,\n",
    "    image_size=IMAGE_SIZE,\n",
    "    num_labels=len(labels),\n",
    "    id2label={str(i): c for i, c in enumerate(labels)},\n",
    "    label2id={c: str(i) for i, c in enumerate(labels)}\n",
    ")\n",
    "\n",
    "model = ViTForImageClassification(configuration)"
   ]
  },
  {
   "cell_type": "code",
   "execution_count": 11,
   "metadata": {
    "execution": {
     "iopub.execute_input": "2024-06-11T16:54:20.580629Z",
     "iopub.status.busy": "2024-06-11T16:54:20.579438Z",
     "iopub.status.idle": "2024-06-11T16:54:20.608296Z",
     "shell.execute_reply": "2024-06-11T16:54:20.607413Z",
     "shell.execute_reply.started": "2024-06-11T16:54:20.580583Z"
    },
    "tags": []
   },
   "outputs": [
    {
     "data": {
      "text/plain": [
       "12815460"
      ]
     },
     "execution_count": 11,
     "metadata": {},
     "output_type": "execute_result"
    }
   ],
   "source": [
    "sum(p.numel() for p in model.parameters() if p.requires_grad)"
   ]
  },
  {
   "cell_type": "code",
   "execution_count": 12,
   "metadata": {
    "execution": {
     "iopub.execute_input": "2024-06-11T16:54:21.678569Z",
     "iopub.status.busy": "2024-06-11T16:54:21.677538Z",
     "iopub.status.idle": "2024-06-11T16:54:21.876930Z",
     "shell.execute_reply": "2024-06-11T16:54:21.876132Z",
     "shell.execute_reply.started": "2024-06-11T16:54:21.678525Z"
    },
    "tags": []
   },
   "outputs": [
    {
     "name": "stderr",
     "output_type": "stream",
     "text": [
      "/home/jupyter/.local/lib/python3.10/site-packages/transformers/training_args.py:1493: FutureWarning: `evaluation_strategy` is deprecated and will be removed in version 4.46 of 🤗 Transformers. Use `eval_strategy` instead\n",
      "  warnings.warn(\n"
     ]
    }
   ],
   "source": [
    "from transformers import TrainingArguments\n",
    "\n",
    "training_args = TrainingArguments(\n",
    "  output_dir=\"./vit-mim-pretrained-25\",\n",
    "  per_device_train_batch_size=128,\n",
    "  per_device_eval_batch_size=128,\n",
    "  evaluation_strategy=\"epoch\",\n",
    "  save_strategy='epoch',\n",
    "  num_train_epochs=100,\n",
    "  logging_steps=10,\n",
    "  learning_rate=2e-5,\n",
    "  save_total_limit=2,\n",
    "  remove_unused_columns=False,\n",
    "  push_to_hub=False,\n",
    "  weight_decay=1e-4,\n",
    "  report_to='tensorboard',\n",
    "  load_best_model_at_end=True,\n",
    ")"
   ]
  },
  {
   "cell_type": "code",
   "execution_count": 13,
   "metadata": {
    "execution": {
     "iopub.execute_input": "2024-06-11T16:54:23.248848Z",
     "iopub.status.busy": "2024-06-11T16:54:23.248061Z",
     "iopub.status.idle": "2024-06-11T16:54:23.816286Z",
     "shell.execute_reply": "2024-06-11T16:54:23.815404Z",
     "shell.execute_reply.started": "2024-06-11T16:54:23.248804Z"
    },
    "tags": []
   },
   "outputs": [],
   "source": [
    "from transformers import Trainer\n",
    "\n",
    "trainer = Trainer(\n",
    "    model=model,\n",
    "    args=training_args,\n",
    "    data_collator=collate_fn,\n",
    "    train_dataset=train_dataset_25.with_transform(transform),\n",
    "    eval_dataset=test_dataset.with_transform(transform),\n",
    "    compute_metrics=compute_metrics,\n",
    "    tokenizer=processor\n",
    ")\n"
   ]
  },
  {
   "cell_type": "code",
   "execution_count": null,
   "metadata": {
    "execution": {
     "iopub.execute_input": "2024-06-11T16:54:23.818679Z",
     "iopub.status.busy": "2024-06-11T16:54:23.817622Z",
     "iopub.status.idle": "2024-06-11T17:57:06.816566Z"
    },
    "tags": []
   },
   "outputs": [
    {
     "name": "stderr",
     "output_type": "stream",
     "text": [
      "  0%|          | 10/9800 [00:10<2:13:35,  1.22it/s]"
     ]
    },
    {
     "name": "stdout",
     "output_type": "stream",
     "text": [
      "{'loss': 4.6018, 'grad_norm': 5.4783525466918945, 'learning_rate': 1.9979591836734697e-05, 'epoch': 0.1}\n"
     ]
    },
    {
     "name": "stderr",
     "output_type": "stream",
     "text": [
      "  0%|          | 20/9800 [00:18<2:10:02,  1.25it/s]"
     ]
    },
    {
     "name": "stdout",
     "output_type": "stream",
     "text": [
      "{'loss': 4.4517, 'grad_norm': 5.466153621673584, 'learning_rate': 1.9959183673469388e-05, 'epoch': 0.2}\n"
     ]
    },
    {
     "name": "stderr",
     "output_type": "stream",
     "text": [
      "  0%|          | 30/9800 [00:26<2:10:17,  1.25it/s]"
     ]
    },
    {
     "name": "stdout",
     "output_type": "stream",
     "text": [
      "{'loss': 4.3536, 'grad_norm': 4.936859607696533, 'learning_rate': 1.9938775510204083e-05, 'epoch': 0.31}\n"
     ]
    },
    {
     "name": "stderr",
     "output_type": "stream",
     "text": [
      "  0%|          | 40/9800 [00:34<2:11:17,  1.24it/s]"
     ]
    },
    {
     "name": "stdout",
     "output_type": "stream",
     "text": [
      "{'loss': 4.3122, 'grad_norm': 5.024069309234619, 'learning_rate': 1.9918367346938775e-05, 'epoch': 0.41}\n"
     ]
    },
    {
     "name": "stderr",
     "output_type": "stream",
     "text": [
      "  1%|          | 50/9800 [00:42<2:12:11,  1.23it/s]"
     ]
    },
    {
     "name": "stdout",
     "output_type": "stream",
     "text": [
      "{'loss': 4.2885, 'grad_norm': 5.094730377197266, 'learning_rate': 1.9897959183673473e-05, 'epoch': 0.51}\n"
     ]
    },
    {
     "name": "stderr",
     "output_type": "stream",
     "text": [
      "  1%|          | 60/9800 [00:50<2:13:04,  1.22it/s]"
     ]
    },
    {
     "name": "stdout",
     "output_type": "stream",
     "text": [
      "{'loss': 4.2507, 'grad_norm': 4.890781879425049, 'learning_rate': 1.9877551020408165e-05, 'epoch': 0.61}\n"
     ]
    },
    {
     "name": "stderr",
     "output_type": "stream",
     "text": [
      "  1%|          | 70/9800 [00:58<2:13:55,  1.21it/s]"
     ]
    },
    {
     "name": "stdout",
     "output_type": "stream",
     "text": [
      "{'loss': 4.2606, 'grad_norm': 4.8386054039001465, 'learning_rate': 1.985714285714286e-05, 'epoch': 0.71}\n"
     ]
    },
    {
     "name": "stderr",
     "output_type": "stream",
     "text": [
      "  1%|          | 80/9800 [01:07<2:14:50,  1.20it/s]"
     ]
    },
    {
     "name": "stdout",
     "output_type": "stream",
     "text": [
      "{'loss': 4.247, 'grad_norm': 5.130340576171875, 'learning_rate': 1.983673469387755e-05, 'epoch': 0.82}\n"
     ]
    },
    {
     "name": "stderr",
     "output_type": "stream",
     "text": [
      "  1%|          | 90/9800 [01:15<2:14:56,  1.20it/s]"
     ]
    },
    {
     "name": "stdout",
     "output_type": "stream",
     "text": [
      "{'loss': 4.248, 'grad_norm': 4.729248523712158, 'learning_rate': 1.9816326530612246e-05, 'epoch': 0.92}\n"
     ]
    },
    {
     "name": "stderr",
     "output_type": "stream",
     "text": [
      "  1%|          | 98/9800 [01:21<2:02:00,  1.33it/s]\n",
      "  0%|          | 0/79 [00:00<?, ?it/s]\u001b[A\n",
      "  3%|▎         | 2/79 [00:00<00:12,  6.25it/s]\u001b[A\n",
      "  4%|▍         | 3/79 [00:00<00:17,  4.39it/s]\u001b[A\n",
      "  5%|▌         | 4/79 [00:00<00:19,  3.82it/s]\u001b[A\n",
      "  6%|▋         | 5/79 [00:01<00:20,  3.54it/s]\u001b[A\n",
      "  8%|▊         | 6/79 [00:01<00:21,  3.37it/s]\u001b[A\n",
      "  9%|▉         | 7/79 [00:01<00:21,  3.29it/s]\u001b[A\n",
      " 10%|█         | 8/79 [00:02<00:21,  3.23it/s]\u001b[A\n",
      " 11%|█▏        | 9/79 [00:02<00:21,  3.19it/s]\u001b[A\n",
      " 13%|█▎        | 10/79 [00:02<00:21,  3.16it/s]\u001b[A\n",
      " 14%|█▍        | 11/79 [00:03<00:21,  3.14it/s]\u001b[A\n",
      " 15%|█▌        | 12/79 [00:03<00:21,  3.13it/s]\u001b[A\n",
      " 16%|█▋        | 13/79 [00:03<00:21,  3.12it/s]\u001b[A\n",
      " 18%|█▊        | 14/79 [00:04<00:21,  3.09it/s]\u001b[A\n",
      " 19%|█▉        | 15/79 [00:04<00:20,  3.10it/s]\u001b[A\n",
      " 20%|██        | 16/79 [00:04<00:20,  3.09it/s]\u001b[A\n",
      " 22%|██▏       | 17/79 [00:05<00:20,  3.09it/s]\u001b[A\n",
      " 23%|██▎       | 18/79 [00:05<00:19,  3.09it/s]\u001b[A\n",
      " 24%|██▍       | 19/79 [00:05<00:19,  3.08it/s]\u001b[A\n",
      " 25%|██▌       | 20/79 [00:06<00:19,  3.08it/s]\u001b[A\n",
      " 27%|██▋       | 21/79 [00:06<00:18,  3.08it/s]\u001b[A\n",
      " 28%|██▊       | 22/79 [00:06<00:18,  3.08it/s]\u001b[A\n",
      " 29%|██▉       | 23/79 [00:07<00:18,  3.08it/s]\u001b[A\n",
      " 30%|███       | 24/79 [00:07<00:17,  3.08it/s]\u001b[A\n",
      " 32%|███▏      | 25/79 [00:07<00:17,  3.09it/s]\u001b[A\n",
      " 33%|███▎      | 26/79 [00:08<00:17,  3.09it/s]\u001b[A\n",
      " 34%|███▍      | 27/79 [00:08<00:16,  3.08it/s]\u001b[A\n",
      " 35%|███▌      | 28/79 [00:08<00:16,  3.06it/s]\u001b[A\n",
      " 37%|███▋      | 29/79 [00:09<00:16,  3.07it/s]\u001b[A\n",
      " 38%|███▊      | 30/79 [00:09<00:15,  3.07it/s]\u001b[A\n",
      " 39%|███▉      | 31/79 [00:09<00:15,  3.07it/s]\u001b[A\n",
      " 41%|████      | 32/79 [00:10<00:15,  3.07it/s]\u001b[A\n",
      " 42%|████▏     | 33/79 [00:10<00:14,  3.07it/s]\u001b[A\n",
      " 43%|████▎     | 34/79 [00:10<00:14,  3.06it/s]\u001b[A\n",
      " 44%|████▍     | 35/79 [00:11<00:14,  3.06it/s]\u001b[A\n",
      " 46%|████▌     | 36/79 [00:11<00:14,  3.07it/s]\u001b[A\n",
      " 47%|████▋     | 37/79 [00:11<00:13,  3.06it/s]\u001b[A\n",
      " 48%|████▊     | 38/79 [00:12<00:13,  3.06it/s]\u001b[A\n",
      " 49%|████▉     | 39/79 [00:12<00:13,  3.07it/s]\u001b[A\n",
      " 51%|█████     | 40/79 [00:12<00:12,  3.07it/s]\u001b[A\n",
      " 52%|█████▏    | 41/79 [00:12<00:12,  3.07it/s]\u001b[A\n",
      " 53%|█████▎    | 42/79 [00:13<00:12,  3.07it/s]\u001b[A\n",
      " 54%|█████▍    | 43/79 [00:13<00:11,  3.06it/s]\u001b[A\n",
      " 56%|█████▌    | 44/79 [00:13<00:11,  3.06it/s]\u001b[A\n",
      " 57%|█████▋    | 45/79 [00:14<00:11,  3.06it/s]\u001b[A\n",
      " 58%|█████▊    | 46/79 [00:14<00:10,  3.05it/s]\u001b[A\n",
      " 59%|█████▉    | 47/79 [00:14<00:10,  3.04it/s]\u001b[A\n",
      " 61%|██████    | 48/79 [00:15<00:10,  3.00it/s]\u001b[A\n",
      " 62%|██████▏   | 49/79 [00:15<00:09,  3.02it/s]\u001b[A\n",
      " 63%|██████▎   | 50/79 [00:15<00:09,  3.04it/s]\u001b[A\n",
      " 65%|██████▍   | 51/79 [00:16<00:09,  3.03it/s]\u001b[A\n",
      " 66%|██████▌   | 52/79 [00:16<00:08,  3.02it/s]\u001b[A\n",
      " 67%|██████▋   | 53/79 [00:16<00:08,  3.03it/s]\u001b[A\n",
      " 68%|██████▊   | 54/79 [00:17<00:08,  3.03it/s]\u001b[A\n",
      " 70%|██████▉   | 55/79 [00:17<00:07,  3.02it/s]\u001b[A\n",
      " 71%|███████   | 56/79 [00:17<00:07,  3.03it/s]\u001b[A\n",
      " 72%|███████▏  | 57/79 [00:18<00:07,  3.03it/s]\u001b[A\n",
      " 73%|███████▎  | 58/79 [00:18<00:06,  3.04it/s]\u001b[A\n",
      " 75%|███████▍  | 59/79 [00:18<00:06,  3.03it/s]\u001b[A\n",
      " 76%|███████▌  | 60/79 [00:19<00:06,  3.04it/s]\u001b[A\n",
      " 77%|███████▋  | 61/79 [00:19<00:05,  3.05it/s]\u001b[A\n",
      " 78%|███████▊  | 62/79 [00:19<00:05,  3.03it/s]\u001b[A\n",
      " 80%|███████▉  | 63/79 [00:20<00:05,  3.03it/s]\u001b[A\n",
      " 81%|████████  | 64/79 [00:20<00:04,  3.04it/s]\u001b[A\n",
      " 82%|████████▏ | 65/79 [00:20<00:04,  3.03it/s]\u001b[A\n",
      " 84%|████████▎ | 66/79 [00:21<00:04,  3.03it/s]\u001b[A\n",
      " 85%|████████▍ | 67/79 [00:21<00:03,  3.03it/s]\u001b[A\n",
      " 86%|████████▌ | 68/79 [00:21<00:03,  3.00it/s]\u001b[A\n",
      " 87%|████████▋ | 69/79 [00:22<00:03,  3.00it/s]\u001b[A\n",
      " 89%|████████▊ | 70/79 [00:22<00:02,  3.00it/s]\u001b[A\n",
      " 90%|████████▉ | 71/79 [00:22<00:02,  3.00it/s]\u001b[A\n",
      " 91%|█████████ | 72/79 [00:23<00:02,  3.00it/s]\u001b[A\n",
      " 92%|█████████▏| 73/79 [00:23<00:01,  3.01it/s]\u001b[A\n",
      " 94%|█████████▎| 74/79 [00:23<00:01,  3.00it/s]\u001b[A\n",
      " 95%|█████████▍| 75/79 [00:24<00:01,  3.00it/s]\u001b[A\n",
      " 96%|█████████▌| 76/79 [00:24<00:01,  2.99it/s]\u001b[A\n",
      " 97%|█████████▋| 77/79 [00:24<00:00,  3.00it/s]\u001b[A\n",
      "                                                   \n",
      "  1%|          | 98/9800 [01:47<2:02:00,  1.33it/s]\n",
      "100%|██████████| 79/79 [00:25<00:00,  3.08it/s]\u001b[A\n",
      "                                               \u001b[A"
     ]
    },
    {
     "name": "stdout",
     "output_type": "stream",
     "text": [
      "{'eval_loss': 4.1832122802734375, 'eval_accuracy': 0.0685, 'eval_runtime': 25.6791, 'eval_samples_per_second': 389.422, 'eval_steps_per_second': 3.076, 'epoch': 1.0}\n"
     ]
    },
    {
     "name": "stderr",
     "output_type": "stream",
     "text": [
      "  1%|          | 100/9800 [01:50<17:18:16,  6.42s/it]"
     ]
    },
    {
     "name": "stdout",
     "output_type": "stream",
     "text": [
      "{'loss': 4.2052, 'grad_norm': 4.860398292541504, 'learning_rate': 1.979591836734694e-05, 'epoch': 1.02}\n"
     ]
    },
    {
     "name": "stderr",
     "output_type": "stream",
     "text": [
      "  1%|          | 110/9800 [01:59<2:46:03,  1.03s/it] "
     ]
    },
    {
     "name": "stdout",
     "output_type": "stream",
     "text": [
      "{'loss': 4.1704, 'grad_norm': 4.780788898468018, 'learning_rate': 1.9775510204081633e-05, 'epoch': 1.12}\n"
     ]
    },
    {
     "name": "stderr",
     "output_type": "stream",
     "text": [
      "  1%|          | 120/9800 [02:07<2:23:01,  1.13it/s]"
     ]
    },
    {
     "name": "stdout",
     "output_type": "stream",
     "text": [
      "{'loss': 4.1359, 'grad_norm': 4.959290504455566, 'learning_rate': 1.9755102040816328e-05, 'epoch': 1.22}\n"
     ]
    },
    {
     "name": "stderr",
     "output_type": "stream",
     "text": [
      "  1%|▏         | 130/9800 [02:16<2:21:48,  1.14it/s]"
     ]
    },
    {
     "name": "stdout",
     "output_type": "stream",
     "text": [
      "{'loss': 4.1717, 'grad_norm': 5.190154552459717, 'learning_rate': 1.9734693877551023e-05, 'epoch': 1.33}\n"
     ]
    },
    {
     "name": "stderr",
     "output_type": "stream",
     "text": [
      "  1%|▏         | 140/9800 [02:25<2:20:41,  1.14it/s]"
     ]
    },
    {
     "name": "stdout",
     "output_type": "stream",
     "text": [
      "{'loss': 4.0706, 'grad_norm': 5.406819820404053, 'learning_rate': 1.9714285714285718e-05, 'epoch': 1.43}\n"
     ]
    },
    {
     "name": "stderr",
     "output_type": "stream",
     "text": [
      "  2%|▏         | 150/9800 [02:34<2:20:11,  1.15it/s]"
     ]
    },
    {
     "name": "stdout",
     "output_type": "stream",
     "text": [
      "{'loss': 4.1086, 'grad_norm': 5.019105434417725, 'learning_rate': 1.969387755102041e-05, 'epoch': 1.53}\n"
     ]
    },
    {
     "name": "stderr",
     "output_type": "stream",
     "text": [
      "  2%|▏         | 160/9800 [02:43<2:21:54,  1.13it/s]"
     ]
    },
    {
     "name": "stdout",
     "output_type": "stream",
     "text": [
      "{'loss': 4.0525, 'grad_norm': 5.46380090713501, 'learning_rate': 1.9673469387755104e-05, 'epoch': 1.63}\n"
     ]
    },
    {
     "name": "stderr",
     "output_type": "stream",
     "text": [
      "  2%|▏         | 170/9800 [02:51<2:20:44,  1.14it/s]"
     ]
    },
    {
     "name": "stdout",
     "output_type": "stream",
     "text": [
      "{'loss': 4.0412, 'grad_norm': 5.908806324005127, 'learning_rate': 1.96530612244898e-05, 'epoch': 1.73}\n"
     ]
    },
    {
     "name": "stderr",
     "output_type": "stream",
     "text": [
      "  2%|▏         | 180/9800 [03:00<2:20:57,  1.14it/s]"
     ]
    },
    {
     "name": "stdout",
     "output_type": "stream",
     "text": [
      "{'loss': 4.069, 'grad_norm': 5.513385772705078, 'learning_rate': 1.963265306122449e-05, 'epoch': 1.84}\n"
     ]
    },
    {
     "name": "stderr",
     "output_type": "stream",
     "text": [
      "  2%|▏         | 190/9800 [03:09<2:21:15,  1.13it/s]"
     ]
    },
    {
     "name": "stdout",
     "output_type": "stream",
     "text": [
      "{'loss': 4.0535, 'grad_norm': 6.178101062774658, 'learning_rate': 1.9612244897959186e-05, 'epoch': 1.94}\n"
     ]
    },
    {
     "name": "stderr",
     "output_type": "stream",
     "text": [
      "  2%|▏         | 196/9800 [03:14<2:06:26,  1.27it/s]\n",
      "  0%|          | 0/79 [00:00<?, ?it/s]\u001b[A\n",
      "  3%|▎         | 2/79 [00:00<00:12,  5.95it/s]\u001b[A\n",
      "  4%|▍         | 3/79 [00:00<00:18,  4.14it/s]\u001b[A\n",
      "  5%|▌         | 4/79 [00:01<00:20,  3.60it/s]\u001b[A\n",
      "  6%|▋         | 5/79 [00:01<00:22,  3.34it/s]\u001b[A\n",
      "  8%|▊         | 6/79 [00:01<00:23,  3.17it/s]\u001b[A\n",
      "  9%|▉         | 7/79 [00:02<00:23,  3.08it/s]\u001b[A\n",
      " 10%|█         | 8/79 [00:02<00:23,  3.02it/s]\u001b[A\n",
      " 11%|█▏        | 9/79 [00:02<00:23,  2.99it/s]\u001b[A\n",
      " 13%|█▎        | 10/79 [00:03<00:23,  2.96it/s]\u001b[A\n",
      " 14%|█▍        | 11/79 [00:03<00:23,  2.93it/s]\u001b[A\n",
      " 15%|█▌        | 12/79 [00:03<00:22,  2.94it/s]\u001b[A\n",
      " 16%|█▋        | 13/79 [00:04<00:22,  2.92it/s]\u001b[A\n",
      " 18%|█▊        | 14/79 [00:04<00:22,  2.91it/s]\u001b[A\n",
      " 19%|█▉        | 15/79 [00:04<00:21,  2.92it/s]\u001b[A\n",
      " 20%|██        | 16/79 [00:05<00:21,  2.92it/s]\u001b[A\n",
      " 22%|██▏       | 17/79 [00:05<00:21,  2.91it/s]\u001b[A\n",
      " 23%|██▎       | 18/79 [00:05<00:20,  2.92it/s]\u001b[A\n",
      " 24%|██▍       | 19/79 [00:06<00:20,  2.92it/s]\u001b[A\n",
      " 25%|██▌       | 20/79 [00:06<00:20,  2.91it/s]\u001b[A\n",
      " 27%|██▋       | 21/79 [00:06<00:19,  2.91it/s]\u001b[A\n",
      " 28%|██▊       | 22/79 [00:07<00:19,  2.91it/s]\u001b[A\n",
      " 29%|██▉       | 23/79 [00:07<00:19,  2.91it/s]\u001b[A\n",
      " 30%|███       | 24/79 [00:07<00:18,  2.91it/s]\u001b[A\n",
      " 32%|███▏      | 25/79 [00:08<00:18,  2.91it/s]\u001b[A\n",
      " 33%|███▎      | 26/79 [00:08<00:18,  2.91it/s]\u001b[A\n",
      " 34%|███▍      | 27/79 [00:08<00:17,  2.91it/s]\u001b[A\n",
      " 35%|███▌      | 28/79 [00:09<00:17,  2.90it/s]\u001b[A\n",
      " 37%|███▋      | 29/79 [00:09<00:17,  2.92it/s]\u001b[A\n",
      " 38%|███▊      | 30/79 [00:09<00:16,  2.91it/s]\u001b[A\n",
      " 39%|███▉      | 31/79 [00:10<00:16,  2.92it/s]\u001b[A\n",
      " 41%|████      | 32/79 [00:10<00:16,  2.93it/s]\u001b[A\n",
      " 42%|████▏     | 33/79 [00:10<00:15,  2.94it/s]\u001b[A\n",
      " 43%|████▎     | 34/79 [00:11<00:15,  2.93it/s]\u001b[A\n",
      " 44%|████▍     | 35/79 [00:11<00:15,  2.92it/s]\u001b[A\n",
      " 46%|████▌     | 36/79 [00:12<00:14,  2.92it/s]\u001b[A\n",
      " 47%|████▋     | 37/79 [00:12<00:14,  2.92it/s]\u001b[A\n",
      " 48%|████▊     | 38/79 [00:12<00:14,  2.92it/s]\u001b[A\n",
      " 49%|████▉     | 39/79 [00:13<00:13,  2.91it/s]\u001b[A\n",
      " 51%|█████     | 40/79 [00:13<00:13,  2.92it/s]\u001b[A\n",
      " 52%|█████▏    | 41/79 [00:13<00:12,  2.93it/s]\u001b[A\n",
      " 53%|█████▎    | 42/79 [00:14<00:12,  2.95it/s]\u001b[A\n",
      " 54%|█████▍    | 43/79 [00:14<00:12,  2.95it/s]\u001b[A\n",
      " 56%|█████▌    | 44/79 [00:14<00:11,  2.94it/s]\u001b[A\n",
      " 57%|█████▋    | 45/79 [00:15<00:11,  2.95it/s]\u001b[A\n",
      " 58%|█████▊    | 46/79 [00:15<00:11,  2.95it/s]\u001b[A\n",
      " 59%|█████▉    | 47/79 [00:15<00:10,  2.93it/s]\u001b[A\n",
      " 61%|██████    | 48/79 [00:16<00:10,  2.94it/s]\u001b[A\n",
      " 62%|██████▏   | 49/79 [00:16<00:10,  2.94it/s]\u001b[A\n",
      " 63%|██████▎   | 50/79 [00:16<00:09,  2.96it/s]\u001b[A\n",
      " 65%|██████▍   | 51/79 [00:17<00:09,  2.96it/s]\u001b[A\n",
      " 66%|██████▌   | 52/79 [00:17<00:09,  2.95it/s]\u001b[A\n",
      " 67%|██████▋   | 53/79 [00:17<00:08,  2.96it/s]\u001b[A\n",
      " 68%|██████▊   | 54/79 [00:18<00:08,  2.96it/s]\u001b[A\n",
      " 70%|██████▉   | 55/79 [00:18<00:08,  2.96it/s]\u001b[A\n",
      " 71%|███████   | 56/79 [00:18<00:07,  2.97it/s]\u001b[A\n",
      " 72%|███████▏  | 57/79 [00:19<00:07,  2.96it/s]\u001b[A\n",
      " 73%|███████▎  | 58/79 [00:19<00:07,  2.96it/s]\u001b[A\n",
      " 75%|███████▍  | 59/79 [00:19<00:06,  2.97it/s]\u001b[A\n",
      " 76%|███████▌  | 60/79 [00:20<00:06,  2.97it/s]\u001b[A\n",
      " 77%|███████▋  | 61/79 [00:20<00:06,  2.96it/s]\u001b[A\n",
      " 78%|███████▊  | 62/79 [00:20<00:05,  2.97it/s]\u001b[A\n",
      " 80%|███████▉  | 63/79 [00:21<00:05,  2.96it/s]\u001b[A\n",
      " 81%|████████  | 64/79 [00:21<00:05,  2.93it/s]\u001b[A\n",
      " 82%|████████▏ | 65/79 [00:21<00:04,  2.92it/s]\u001b[A\n",
      " 84%|████████▎ | 66/79 [00:22<00:04,  2.93it/s]\u001b[A\n",
      " 85%|████████▍ | 67/79 [00:22<00:04,  2.91it/s]\u001b[A\n",
      " 86%|████████▌ | 68/79 [00:22<00:03,  2.91it/s]\u001b[A\n",
      " 87%|████████▋ | 69/79 [00:23<00:03,  2.92it/s]\u001b[A\n",
      " 89%|████████▊ | 70/79 [00:23<00:03,  2.91it/s]\u001b[A\n",
      " 90%|████████▉ | 71/79 [00:23<00:02,  2.91it/s]\u001b[A\n",
      " 91%|█████████ | 72/79 [00:24<00:02,  2.91it/s]\u001b[A\n",
      " 92%|█████████▏| 73/79 [00:24<00:02,  2.92it/s]\u001b[A\n",
      " 94%|█████████▎| 74/79 [00:24<00:01,  2.92it/s]\u001b[A\n",
      " 95%|█████████▍| 75/79 [00:25<00:01,  2.93it/s]\u001b[A\n",
      " 96%|█████████▌| 76/79 [00:25<00:01,  2.93it/s]\u001b[A\n",
      " 97%|█████████▋| 77/79 [00:25<00:00,  2.94it/s]\u001b[A\n",
      "                                                    \n",
      "  2%|▏         | 196/9800 [03:41<2:06:26,  1.27it/s]\n",
      "100%|██████████| 79/79 [00:26<00:00,  2.99it/s]\u001b[A\n",
      "                                               \u001b[A"
     ]
    },
    {
     "name": "stdout",
     "output_type": "stream",
     "text": [
      "{'eval_loss': 4.027559280395508, 'eval_accuracy': 0.0871, 'eval_runtime': 26.7459, 'eval_samples_per_second': 373.888, 'eval_steps_per_second': 2.954, 'epoch': 2.0}\n"
     ]
    },
    {
     "name": "stderr",
     "output_type": "stream",
     "text": [
      "  2%|▏         | 200/9800 [03:45<9:55:59,  3.72s/it] "
     ]
    },
    {
     "name": "stdout",
     "output_type": "stream",
     "text": [
      "{'loss': 4.0124, 'grad_norm': 5.7364397048950195, 'learning_rate': 1.9591836734693877e-05, 'epoch': 2.04}\n"
     ]
    },
    {
     "name": "stderr",
     "output_type": "stream",
     "text": [
      "  2%|▏         | 210/9800 [03:54<2:33:13,  1.04it/s]"
     ]
    },
    {
     "name": "stdout",
     "output_type": "stream",
     "text": [
      "{'loss': 3.94, 'grad_norm': 6.34097957611084, 'learning_rate': 1.9571428571428572e-05, 'epoch': 2.14}\n"
     ]
    },
    {
     "name": "stderr",
     "output_type": "stream",
     "text": [
      "  2%|▏         | 220/9800 [04:03<2:21:19,  1.13it/s]"
     ]
    },
    {
     "name": "stdout",
     "output_type": "stream",
     "text": [
      "{'loss': 3.9482, 'grad_norm': 6.8434014320373535, 'learning_rate': 1.9551020408163267e-05, 'epoch': 2.24}\n"
     ]
    },
    {
     "name": "stderr",
     "output_type": "stream",
     "text": [
      "  2%|▏         | 230/9800 [04:12<2:19:15,  1.15it/s]"
     ]
    },
    {
     "name": "stdout",
     "output_type": "stream",
     "text": [
      "{'loss': 3.987, 'grad_norm': 5.811147212982178, 'learning_rate': 1.9530612244897962e-05, 'epoch': 2.35}\n"
     ]
    },
    {
     "name": "stderr",
     "output_type": "stream",
     "text": [
      "  2%|▏         | 240/9800 [04:20<2:21:11,  1.13it/s]"
     ]
    },
    {
     "name": "stdout",
     "output_type": "stream",
     "text": [
      "{'loss': 3.9358, 'grad_norm': 7.187766075134277, 'learning_rate': 1.9510204081632654e-05, 'epoch': 2.45}\n"
     ]
    },
    {
     "name": "stderr",
     "output_type": "stream",
     "text": [
      "  3%|▎         | 250/9800 [04:29<2:20:32,  1.13it/s]"
     ]
    },
    {
     "name": "stdout",
     "output_type": "stream",
     "text": [
      "{'loss': 3.9049, 'grad_norm': 6.4554572105407715, 'learning_rate': 1.948979591836735e-05, 'epoch': 2.55}\n"
     ]
    },
    {
     "name": "stderr",
     "output_type": "stream",
     "text": [
      "  3%|▎         | 260/9800 [04:38<2:19:30,  1.14it/s]"
     ]
    },
    {
     "name": "stdout",
     "output_type": "stream",
     "text": [
      "{'loss': 3.9039, 'grad_norm': 6.905451774597168, 'learning_rate': 1.9469387755102044e-05, 'epoch': 2.65}\n"
     ]
    },
    {
     "name": "stderr",
     "output_type": "stream",
     "text": [
      "  3%|▎         | 270/9800 [04:47<2:21:15,  1.12it/s]"
     ]
    },
    {
     "name": "stdout",
     "output_type": "stream",
     "text": [
      "{'loss': 3.8734, 'grad_norm': 8.060084342956543, 'learning_rate': 1.9448979591836735e-05, 'epoch': 2.76}\n"
     ]
    },
    {
     "name": "stderr",
     "output_type": "stream",
     "text": [
      "  3%|▎         | 280/9800 [04:56<2:19:56,  1.13it/s]"
     ]
    },
    {
     "name": "stdout",
     "output_type": "stream",
     "text": [
      "{'loss': 3.8234, 'grad_norm': 7.238657474517822, 'learning_rate': 1.942857142857143e-05, 'epoch': 2.86}\n"
     ]
    },
    {
     "name": "stderr",
     "output_type": "stream",
     "text": [
      "  3%|▎         | 290/9800 [05:05<2:19:15,  1.14it/s]"
     ]
    },
    {
     "name": "stdout",
     "output_type": "stream",
     "text": [
      "{'loss': 3.8803, 'grad_norm': 7.120865345001221, 'learning_rate': 1.9408163265306122e-05, 'epoch': 2.96}\n"
     ]
    },
    {
     "name": "stderr",
     "output_type": "stream",
     "text": [
      "  3%|▎         | 294/9800 [05:08<2:05:37,  1.26it/s]\n",
      "  0%|          | 0/79 [00:00<?, ?it/s]\u001b[A\n",
      "  3%|▎         | 2/79 [00:00<00:12,  5.93it/s]\u001b[A\n",
      "  4%|▍         | 3/79 [00:00<00:18,  4.08it/s]\u001b[A\n",
      "  5%|▌         | 4/79 [00:01<00:21,  3.56it/s]\u001b[A\n",
      "  6%|▋         | 5/79 [00:01<00:22,  3.30it/s]\u001b[A\n",
      "  8%|▊         | 6/79 [00:01<00:23,  3.15it/s]\u001b[A\n",
      "  9%|▉         | 7/79 [00:02<00:23,  3.07it/s]\u001b[A\n",
      " 10%|█         | 8/79 [00:02<00:23,  3.03it/s]\u001b[A\n",
      " 11%|█▏        | 9/79 [00:02<00:23,  2.98it/s]\u001b[A\n",
      " 13%|█▎        | 10/79 [00:03<00:23,  2.92it/s]\u001b[A\n",
      " 14%|█▍        | 11/79 [00:03<00:23,  2.92it/s]\u001b[A\n",
      " 15%|█▌        | 12/79 [00:03<00:23,  2.90it/s]\u001b[A\n",
      " 16%|█▋        | 13/79 [00:04<00:22,  2.89it/s]\u001b[A\n",
      " 18%|█▊        | 14/79 [00:04<00:22,  2.92it/s]\u001b[A\n",
      " 19%|█▉        | 15/79 [00:04<00:22,  2.90it/s]\u001b[A\n",
      " 20%|██        | 16/79 [00:05<00:21,  2.89it/s]\u001b[A\n",
      " 22%|██▏       | 17/79 [00:05<00:21,  2.91it/s]\u001b[A\n",
      " 23%|██▎       | 18/79 [00:05<00:20,  2.91it/s]\u001b[A\n",
      " 24%|██▍       | 19/79 [00:06<00:20,  2.90it/s]\u001b[A\n",
      " 25%|██▌       | 20/79 [00:06<00:20,  2.91it/s]\u001b[A\n",
      " 27%|██▋       | 21/79 [00:06<00:19,  2.91it/s]\u001b[A\n",
      " 28%|██▊       | 22/79 [00:07<00:19,  2.90it/s]\u001b[A\n",
      " 29%|██▉       | 23/79 [00:07<00:19,  2.91it/s]\u001b[A\n",
      " 30%|███       | 24/79 [00:07<00:18,  2.91it/s]\u001b[A\n",
      " 32%|███▏      | 25/79 [00:08<00:18,  2.91it/s]\u001b[A\n",
      " 33%|███▎      | 26/79 [00:08<00:18,  2.90it/s]\u001b[A\n",
      " 34%|███▍      | 27/79 [00:08<00:17,  2.91it/s]\u001b[A\n",
      " 35%|███▌      | 28/79 [00:09<00:17,  2.91it/s]\u001b[A\n",
      " 37%|███▋      | 29/79 [00:09<00:17,  2.91it/s]\u001b[A\n",
      " 38%|███▊      | 30/79 [00:09<00:16,  2.91it/s]\u001b[A\n",
      " 39%|███▉      | 31/79 [00:10<00:16,  2.91it/s]\u001b[A\n",
      " 41%|████      | 32/79 [00:10<00:16,  2.93it/s]\u001b[A\n",
      " 42%|████▏     | 33/79 [00:11<00:15,  2.93it/s]\u001b[A\n",
      " 43%|████▎     | 34/79 [00:11<00:15,  2.93it/s]\u001b[A\n",
      " 44%|████▍     | 35/79 [00:11<00:15,  2.93it/s]\u001b[A\n",
      " 46%|████▌     | 36/79 [00:12<00:14,  2.92it/s]\u001b[A\n",
      " 47%|████▋     | 37/79 [00:12<00:14,  2.92it/s]\u001b[A\n",
      " 48%|████▊     | 38/79 [00:12<00:14,  2.92it/s]\u001b[A\n",
      " 49%|████▉     | 39/79 [00:13<00:13,  2.90it/s]\u001b[A\n",
      " 51%|█████     | 40/79 [00:13<00:13,  2.91it/s]\u001b[A\n",
      " 52%|█████▏    | 41/79 [00:13<00:13,  2.92it/s]\u001b[A\n",
      " 53%|█████▎    | 42/79 [00:14<00:12,  2.93it/s]\u001b[A\n",
      " 54%|█████▍    | 43/79 [00:14<00:12,  2.94it/s]\u001b[A\n",
      " 56%|█████▌    | 44/79 [00:14<00:11,  2.93it/s]\u001b[A\n",
      " 57%|█████▋    | 45/79 [00:15<00:11,  2.93it/s]\u001b[A\n",
      " 58%|█████▊    | 46/79 [00:15<00:11,  2.92it/s]\u001b[A\n",
      " 59%|█████▉    | 47/79 [00:15<00:10,  2.93it/s]\u001b[A\n",
      " 61%|██████    | 48/79 [00:16<00:10,  2.94it/s]\u001b[A\n",
      " 62%|██████▏   | 49/79 [00:16<00:10,  2.95it/s]\u001b[A\n",
      " 63%|██████▎   | 50/79 [00:16<00:09,  2.95it/s]\u001b[A\n",
      " 65%|██████▍   | 51/79 [00:17<00:09,  2.95it/s]\u001b[A\n",
      " 66%|██████▌   | 52/79 [00:17<00:09,  2.96it/s]\u001b[A\n",
      " 67%|██████▋   | 53/79 [00:17<00:08,  2.95it/s]\u001b[A\n",
      " 68%|██████▊   | 54/79 [00:18<00:08,  2.95it/s]\u001b[A\n",
      " 70%|██████▉   | 55/79 [00:18<00:08,  2.95it/s]\u001b[A\n",
      " 71%|███████   | 56/79 [00:18<00:07,  2.95it/s]\u001b[A\n",
      " 72%|███████▏  | 57/79 [00:19<00:07,  2.96it/s]\u001b[A\n",
      " 73%|███████▎  | 58/79 [00:19<00:07,  2.93it/s]\u001b[A\n",
      " 75%|███████▍  | 59/79 [00:19<00:06,  2.93it/s]\u001b[A\n",
      " 76%|███████▌  | 60/79 [00:20<00:06,  2.93it/s]\u001b[A\n",
      " 77%|███████▋  | 61/79 [00:20<00:06,  2.93it/s]\u001b[A\n",
      " 78%|███████▊  | 62/79 [00:20<00:05,  2.94it/s]\u001b[A\n",
      " 80%|███████▉  | 63/79 [00:21<00:05,  2.94it/s]\u001b[A\n",
      " 81%|████████  | 64/79 [00:21<00:05,  2.93it/s]\u001b[A\n",
      " 82%|████████▏ | 65/79 [00:21<00:04,  2.92it/s]\u001b[A\n",
      " 84%|████████▎ | 66/79 [00:22<00:04,  2.92it/s]\u001b[A\n",
      " 85%|████████▍ | 67/79 [00:22<00:04,  2.92it/s]\u001b[A\n",
      " 86%|████████▌ | 68/79 [00:22<00:03,  2.91it/s]\u001b[A\n",
      " 87%|████████▋ | 69/79 [00:23<00:03,  2.91it/s]\u001b[A\n",
      " 89%|████████▊ | 70/79 [00:23<00:03,  2.91it/s]\u001b[A\n",
      " 90%|████████▉ | 71/79 [00:23<00:02,  2.91it/s]\u001b[A\n",
      " 91%|█████████ | 72/79 [00:24<00:02,  2.91it/s]\u001b[A\n",
      " 92%|█████████▏| 73/79 [00:24<00:02,  2.90it/s]\u001b[A\n",
      " 94%|█████████▎| 74/79 [00:25<00:01,  2.90it/s]\u001b[A\n",
      " 95%|█████████▍| 75/79 [00:25<00:01,  2.91it/s]\u001b[A\n",
      " 96%|█████████▌| 76/79 [00:25<00:01,  2.90it/s]\u001b[A\n",
      " 97%|█████████▋| 77/79 [00:26<00:00,  2.90it/s]\u001b[A\n",
      "                                                    \n",
      "  3%|▎         | 294/9800 [05:35<2:05:37,  1.26it/s]\n",
      "100%|██████████| 79/79 [00:26<00:00,  2.97it/s]\u001b[A\n",
      "                                               \u001b[A"
     ]
    },
    {
     "name": "stdout",
     "output_type": "stream",
     "text": [
      "{'eval_loss': 3.8750414848327637, 'eval_accuracy': 0.1154, 'eval_runtime': 26.8492, 'eval_samples_per_second': 372.45, 'eval_steps_per_second': 2.942, 'epoch': 3.0}\n"
     ]
    },
    {
     "name": "stderr",
     "output_type": "stream",
     "text": [
      "  3%|▎         | 300/9800 [05:41<6:01:21,  2.28s/it] "
     ]
    },
    {
     "name": "stdout",
     "output_type": "stream",
     "text": [
      "{'loss': 3.7735, 'grad_norm': 6.93239688873291, 'learning_rate': 1.9387755102040817e-05, 'epoch': 3.06}\n"
     ]
    },
    {
     "name": "stderr",
     "output_type": "stream",
     "text": [
      "  3%|▎         | 310/9800 [05:50<2:25:07,  1.09it/s]"
     ]
    },
    {
     "name": "stdout",
     "output_type": "stream",
     "text": [
      "{'loss': 3.8091, 'grad_norm': 7.245424270629883, 'learning_rate': 1.9367346938775512e-05, 'epoch': 3.16}\n"
     ]
    },
    {
     "name": "stderr",
     "output_type": "stream",
     "text": [
      "  3%|▎         | 320/9800 [05:59<2:20:29,  1.12it/s]"
     ]
    },
    {
     "name": "stdout",
     "output_type": "stream",
     "text": [
      "{'loss': 3.7488, 'grad_norm': 7.419700622558594, 'learning_rate': 1.9346938775510207e-05, 'epoch': 3.27}\n"
     ]
    },
    {
     "name": "stderr",
     "output_type": "stream",
     "text": [
      "  3%|▎         | 330/9800 [06:08<2:19:11,  1.13it/s]"
     ]
    },
    {
     "name": "stdout",
     "output_type": "stream",
     "text": [
      "{'loss': 3.7754, 'grad_norm': 7.917738914489746, 'learning_rate': 1.9326530612244902e-05, 'epoch': 3.37}\n"
     ]
    },
    {
     "name": "stderr",
     "output_type": "stream",
     "text": [
      "  3%|▎         | 340/9800 [06:16<2:18:36,  1.14it/s]"
     ]
    },
    {
     "name": "stdout",
     "output_type": "stream",
     "text": [
      "{'loss': 3.7813, 'grad_norm': 7.358182907104492, 'learning_rate': 1.9306122448979593e-05, 'epoch': 3.47}\n"
     ]
    },
    {
     "name": "stderr",
     "output_type": "stream",
     "text": [
      "  4%|▎         | 350/9800 [06:25<2:19:17,  1.13it/s]"
     ]
    },
    {
     "name": "stdout",
     "output_type": "stream",
     "text": [
      "{'loss': 3.7553, 'grad_norm': 7.3105316162109375, 'learning_rate': 1.928571428571429e-05, 'epoch': 3.57}\n"
     ]
    },
    {
     "name": "stderr",
     "output_type": "stream",
     "text": [
      "  4%|▎         | 360/9800 [06:34<2:18:25,  1.14it/s]"
     ]
    },
    {
     "name": "stdout",
     "output_type": "stream",
     "text": [
      "{'loss': 3.7269, 'grad_norm': 8.318655014038086, 'learning_rate': 1.926530612244898e-05, 'epoch': 3.67}\n"
     ]
    },
    {
     "name": "stderr",
     "output_type": "stream",
     "text": [
      "  4%|▍         | 370/9800 [06:43<2:19:05,  1.13it/s]"
     ]
    },
    {
     "name": "stdout",
     "output_type": "stream",
     "text": [
      "{'loss': 3.7554, 'grad_norm': 8.569662094116211, 'learning_rate': 1.9244897959183675e-05, 'epoch': 3.78}\n"
     ]
    },
    {
     "name": "stderr",
     "output_type": "stream",
     "text": [
      "  4%|▍         | 380/9800 [06:52<2:18:41,  1.13it/s]"
     ]
    },
    {
     "name": "stdout",
     "output_type": "stream",
     "text": [
      "{'loss': 3.7157, 'grad_norm': 7.921391010284424, 'learning_rate': 1.922448979591837e-05, 'epoch': 3.88}\n"
     ]
    },
    {
     "name": "stderr",
     "output_type": "stream",
     "text": [
      "  4%|▍         | 390/9800 [07:01<2:18:42,  1.13it/s]"
     ]
    },
    {
     "name": "stdout",
     "output_type": "stream",
     "text": [
      "{'loss': 3.7053, 'grad_norm': 8.418715476989746, 'learning_rate': 1.920408163265306e-05, 'epoch': 3.98}\n"
     ]
    },
    {
     "name": "stderr",
     "output_type": "stream",
     "text": [
      "  4%|▍         | 392/9800 [07:02<2:04:48,  1.26it/s]\n",
      "  0%|          | 0/79 [00:00<?, ?it/s]\u001b[A\n",
      "  3%|▎         | 2/79 [00:00<00:13,  5.90it/s]\u001b[A\n",
      "  4%|▍         | 3/79 [00:00<00:18,  4.05it/s]\u001b[A\n",
      "  5%|▌         | 4/79 [00:01<00:21,  3.56it/s]\u001b[A\n",
      "  6%|▋         | 5/79 [00:01<00:22,  3.31it/s]\u001b[A\n",
      "  8%|▊         | 6/79 [00:01<00:23,  3.14it/s]\u001b[A\n",
      "  9%|▉         | 7/79 [00:02<00:23,  3.06it/s]\u001b[A\n",
      " 10%|█         | 8/79 [00:02<00:23,  3.03it/s]\u001b[A\n",
      " 11%|█▏        | 9/79 [00:02<00:23,  2.98it/s]\u001b[A\n",
      " 13%|█▎        | 10/79 [00:03<00:23,  2.96it/s]\u001b[A\n",
      " 14%|█▍        | 11/79 [00:03<00:23,  2.95it/s]\u001b[A\n",
      " 15%|█▌        | 12/79 [00:03<00:22,  2.93it/s]\u001b[A\n",
      " 16%|█▋        | 13/79 [00:04<00:22,  2.92it/s]\u001b[A\n",
      " 18%|█▊        | 14/79 [00:04<00:22,  2.92it/s]\u001b[A\n",
      " 19%|█▉        | 15/79 [00:04<00:21,  2.92it/s]\u001b[A\n",
      " 20%|██        | 16/79 [00:05<00:21,  2.91it/s]\u001b[A\n",
      " 22%|██▏       | 17/79 [00:05<00:21,  2.91it/s]\u001b[A\n",
      " 23%|██▎       | 18/79 [00:05<00:20,  2.91it/s]\u001b[A\n",
      " 24%|██▍       | 19/79 [00:06<00:20,  2.91it/s]\u001b[A\n",
      " 25%|██▌       | 20/79 [00:06<00:20,  2.91it/s]\u001b[A\n",
      " 27%|██▋       | 21/79 [00:06<00:19,  2.91it/s]\u001b[A\n",
      " 28%|██▊       | 22/79 [00:07<00:19,  2.91it/s]\u001b[A\n",
      " 29%|██▉       | 23/79 [00:07<00:19,  2.90it/s]\u001b[A\n",
      " 30%|███       | 24/79 [00:07<00:18,  2.91it/s]\u001b[A\n",
      " 32%|███▏      | 25/79 [00:08<00:18,  2.91it/s]\u001b[A\n",
      " 33%|███▎      | 26/79 [00:08<00:18,  2.90it/s]\u001b[A\n",
      " 34%|███▍      | 27/79 [00:08<00:17,  2.90it/s]\u001b[A\n",
      " 35%|███▌      | 28/79 [00:09<00:17,  2.91it/s]\u001b[A\n",
      " 37%|███▋      | 29/79 [00:09<00:17,  2.91it/s]\u001b[A\n",
      " 38%|███▊      | 30/79 [00:09<00:16,  2.91it/s]\u001b[A\n",
      " 39%|███▉      | 31/79 [00:10<00:16,  2.90it/s]\u001b[A\n",
      " 41%|████      | 32/79 [00:10<00:16,  2.91it/s]\u001b[A\n",
      " 42%|████▏     | 33/79 [00:11<00:15,  2.91it/s]\u001b[A\n",
      " 43%|████▎     | 34/79 [00:11<00:15,  2.90it/s]\u001b[A\n",
      " 44%|████▍     | 35/79 [00:11<00:15,  2.90it/s]\u001b[A\n",
      " 46%|████▌     | 36/79 [00:12<00:14,  2.91it/s]\u001b[A\n",
      " 47%|████▋     | 37/79 [00:12<00:14,  2.91it/s]\u001b[A\n",
      " 48%|████▊     | 38/79 [00:12<00:14,  2.91it/s]\u001b[A\n",
      " 49%|████▉     | 39/79 [00:13<00:13,  2.92it/s]\u001b[A\n",
      " 51%|█████     | 40/79 [00:13<00:13,  2.91it/s]\u001b[A\n",
      " 52%|█████▏    | 41/79 [00:13<00:13,  2.91it/s]\u001b[A\n",
      " 53%|█████▎    | 42/79 [00:14<00:12,  2.92it/s]\u001b[A\n",
      " 54%|█████▍    | 43/79 [00:14<00:12,  2.92it/s]\u001b[A\n",
      " 56%|█████▌    | 44/79 [00:14<00:11,  2.94it/s]\u001b[A\n",
      " 57%|█████▋    | 45/79 [00:15<00:11,  2.93it/s]\u001b[A\n",
      " 58%|█████▊    | 46/79 [00:15<00:11,  2.92it/s]\u001b[A\n",
      " 59%|█████▉    | 47/79 [00:15<00:10,  2.92it/s]\u001b[A\n",
      " 61%|██████    | 48/79 [00:16<00:10,  2.94it/s]\u001b[A\n",
      " 62%|██████▏   | 49/79 [00:16<00:10,  2.95it/s]\u001b[A\n",
      " 63%|██████▎   | 50/79 [00:16<00:09,  2.94it/s]\u001b[A\n",
      " 65%|██████▍   | 51/79 [00:17<00:09,  2.93it/s]\u001b[A\n",
      " 66%|██████▌   | 52/79 [00:17<00:09,  2.92it/s]\u001b[A\n",
      " 67%|██████▋   | 53/79 [00:17<00:08,  2.93it/s]\u001b[A\n",
      " 68%|██████▊   | 54/79 [00:18<00:08,  2.94it/s]\u001b[A\n",
      " 70%|██████▉   | 55/79 [00:18<00:08,  2.94it/s]\u001b[A\n",
      " 71%|███████   | 56/79 [00:18<00:07,  2.94it/s]\u001b[A\n",
      " 72%|███████▏  | 57/79 [00:19<00:07,  2.93it/s]\u001b[A\n",
      " 73%|███████▎  | 58/79 [00:19<00:07,  2.92it/s]\u001b[A\n",
      " 75%|███████▍  | 59/79 [00:19<00:06,  2.93it/s]\u001b[A\n",
      " 76%|███████▌  | 60/79 [00:20<00:06,  2.94it/s]\u001b[A\n",
      " 77%|███████▋  | 61/79 [00:20<00:06,  2.95it/s]\u001b[A\n",
      " 78%|███████▊  | 62/79 [00:20<00:05,  2.96it/s]\u001b[A\n",
      " 80%|███████▉  | 63/79 [00:21<00:05,  2.95it/s]\u001b[A\n",
      " 81%|████████  | 64/79 [00:21<00:05,  2.96it/s]\u001b[A\n",
      " 82%|████████▏ | 65/79 [00:21<00:04,  2.96it/s]\u001b[A\n",
      " 84%|████████▎ | 66/79 [00:22<00:04,  2.95it/s]\u001b[A\n",
      " 85%|████████▍ | 67/79 [00:22<00:04,  2.95it/s]\u001b[A\n",
      " 86%|████████▌ | 68/79 [00:22<00:03,  2.96it/s]\u001b[A\n",
      " 87%|████████▋ | 69/79 [00:23<00:03,  2.94it/s]\u001b[A\n",
      " 89%|████████▊ | 70/79 [00:23<00:03,  2.93it/s]\u001b[A\n",
      " 90%|████████▉ | 71/79 [00:23<00:02,  2.92it/s]\u001b[A\n",
      " 91%|█████████ | 72/79 [00:24<00:02,  2.91it/s]\u001b[A\n",
      " 92%|█████████▏| 73/79 [00:24<00:02,  2.91it/s]\u001b[A\n",
      " 94%|█████████▎| 74/79 [00:24<00:01,  2.92it/s]\u001b[A\n",
      " 95%|█████████▍| 75/79 [00:25<00:01,  2.91it/s]\u001b[A\n",
      " 96%|█████████▌| 76/79 [00:25<00:01,  2.92it/s]\u001b[A\n",
      " 97%|█████████▋| 77/79 [00:26<00:00,  2.92it/s]\u001b[A\n",
      "                                                    \n",
      "  4%|▍         | 392/9800 [07:29<2:04:48,  1.26it/s]\n",
      "100%|██████████| 79/79 [00:26<00:00,  2.98it/s]\u001b[A\n",
      "                                               \u001b[A"
     ]
    },
    {
     "name": "stdout",
     "output_type": "stream",
     "text": [
      "{'eval_loss': 3.755432367324829, 'eval_accuracy': 0.1393, 'eval_runtime': 26.8205, 'eval_samples_per_second': 372.849, 'eval_steps_per_second': 2.946, 'epoch': 4.0}\n"
     ]
    },
    {
     "name": "stderr",
     "output_type": "stream",
     "text": [
      "  4%|▍         | 400/9800 [07:37<4:06:31,  1.57s/it] "
     ]
    },
    {
     "name": "stdout",
     "output_type": "stream",
     "text": [
      "{'loss': 3.6413, 'grad_norm': 8.506413459777832, 'learning_rate': 1.9183673469387756e-05, 'epoch': 4.08}\n"
     ]
    },
    {
     "name": "stderr",
     "output_type": "stream",
     "text": [
      "  4%|▍         | 410/9800 [07:46<2:20:51,  1.11it/s]"
     ]
    },
    {
     "name": "stdout",
     "output_type": "stream",
     "text": [
      "{'loss': 3.6435, 'grad_norm': 8.60326099395752, 'learning_rate': 1.916326530612245e-05, 'epoch': 4.18}\n"
     ]
    },
    {
     "name": "stderr",
     "output_type": "stream",
     "text": [
      "  4%|▍         | 420/9800 [07:55<2:17:13,  1.14it/s]"
     ]
    },
    {
     "name": "stdout",
     "output_type": "stream",
     "text": [
      "{'loss': 3.6239, 'grad_norm': 8.682921409606934, 'learning_rate': 1.9142857142857146e-05, 'epoch': 4.29}\n"
     ]
    },
    {
     "name": "stderr",
     "output_type": "stream",
     "text": [
      "  4%|▍         | 430/9800 [08:04<2:18:51,  1.12it/s]"
     ]
    },
    {
     "name": "stdout",
     "output_type": "stream",
     "text": [
      "{'loss': 3.6524, 'grad_norm': 10.271004676818848, 'learning_rate': 1.9122448979591838e-05, 'epoch': 4.39}\n"
     ]
    },
    {
     "name": "stderr",
     "output_type": "stream",
     "text": [
      "  4%|▍         | 440/9800 [08:12<2:17:49,  1.13it/s]"
     ]
    },
    {
     "name": "stdout",
     "output_type": "stream",
     "text": [
      "{'loss': 3.6214, 'grad_norm': 7.641578674316406, 'learning_rate': 1.9102040816326533e-05, 'epoch': 4.49}\n"
     ]
    },
    {
     "name": "stderr",
     "output_type": "stream",
     "text": [
      "  5%|▍         | 450/9800 [08:21<2:16:38,  1.14it/s]"
     ]
    },
    {
     "name": "stdout",
     "output_type": "stream",
     "text": [
      "{'loss': 3.6001, 'grad_norm': 9.484888076782227, 'learning_rate': 1.9081632653061225e-05, 'epoch': 4.59}\n"
     ]
    },
    {
     "name": "stderr",
     "output_type": "stream",
     "text": [
      "  5%|▍         | 460/9800 [08:30<2:18:30,  1.12it/s]"
     ]
    },
    {
     "name": "stdout",
     "output_type": "stream",
     "text": [
      "{'loss': 3.618, 'grad_norm': 8.918490409851074, 'learning_rate': 1.906122448979592e-05, 'epoch': 4.69}\n"
     ]
    },
    {
     "name": "stderr",
     "output_type": "stream",
     "text": [
      "  5%|▍         | 470/9800 [08:39<2:17:39,  1.13it/s]"
     ]
    },
    {
     "name": "stdout",
     "output_type": "stream",
     "text": [
      "{'loss': 3.5984, 'grad_norm': 8.492514610290527, 'learning_rate': 1.9040816326530614e-05, 'epoch': 4.8}\n"
     ]
    },
    {
     "name": "stderr",
     "output_type": "stream",
     "text": [
      "  5%|▍         | 480/9800 [08:48<2:17:16,  1.13it/s]"
     ]
    },
    {
     "name": "stdout",
     "output_type": "stream",
     "text": [
      "{'loss': 3.5689, 'grad_norm': 8.717728614807129, 'learning_rate': 1.9020408163265306e-05, 'epoch': 4.9}\n"
     ]
    },
    {
     "name": "stderr",
     "output_type": "stream",
     "text": [
      "  5%|▌         | 490/9800 [08:56<2:02:54,  1.26it/s]"
     ]
    },
    {
     "name": "stdout",
     "output_type": "stream",
     "text": [
      "{'loss': 3.6013, 'grad_norm': 10.075806617736816, 'learning_rate': 1.9e-05, 'epoch': 5.0}\n"
     ]
    },
    {
     "name": "stderr",
     "output_type": "stream",
     "text": [
      "\n",
      "  0%|          | 0/79 [00:00<?, ?it/s]\u001b[A\n",
      "  3%|▎         | 2/79 [00:00<00:12,  5.92it/s]\u001b[A\n",
      "  4%|▍         | 3/79 [00:00<00:18,  4.11it/s]\u001b[A\n",
      "  5%|▌         | 4/79 [00:01<00:21,  3.57it/s]\u001b[A\n",
      "  6%|▋         | 5/79 [00:01<00:22,  3.32it/s]\u001b[A\n",
      "  8%|▊         | 6/79 [00:01<00:23,  3.17it/s]\u001b[A\n",
      "  9%|▉         | 7/79 [00:02<00:23,  3.07it/s]\u001b[A\n",
      " 10%|█         | 8/79 [00:02<00:23,  3.02it/s]\u001b[A\n",
      " 11%|█▏        | 9/79 [00:02<00:23,  2.99it/s]\u001b[A\n",
      " 13%|█▎        | 10/79 [00:03<00:23,  2.96it/s]\u001b[A\n",
      " 14%|█▍        | 11/79 [00:03<00:23,  2.96it/s]\u001b[A\n",
      " 15%|█▌        | 12/79 [00:03<00:22,  2.96it/s]\u001b[A\n",
      " 16%|█▋        | 13/79 [00:04<00:22,  2.96it/s]\u001b[A\n",
      " 18%|█▊        | 14/79 [00:04<00:22,  2.95it/s]\u001b[A\n",
      " 19%|█▉        | 15/79 [00:04<00:21,  2.94it/s]\u001b[A\n",
      " 20%|██        | 16/79 [00:05<00:21,  2.94it/s]\u001b[A\n",
      " 22%|██▏       | 17/79 [00:05<00:21,  2.95it/s]\u001b[A\n",
      " 23%|██▎       | 18/79 [00:05<00:20,  2.95it/s]\u001b[A\n",
      " 24%|██▍       | 19/79 [00:06<00:20,  2.94it/s]\u001b[A\n",
      " 25%|██▌       | 20/79 [00:06<00:20,  2.94it/s]\u001b[A\n",
      " 27%|██▋       | 21/79 [00:06<00:19,  2.93it/s]\u001b[A\n",
      " 28%|██▊       | 22/79 [00:07<00:19,  2.94it/s]\u001b[A\n",
      " 29%|██▉       | 23/79 [00:07<00:18,  2.95it/s]\u001b[A\n",
      " 30%|███       | 24/79 [00:07<00:18,  2.95it/s]\u001b[A\n",
      " 32%|███▏      | 25/79 [00:08<00:18,  2.94it/s]\u001b[A\n",
      " 33%|███▎      | 26/79 [00:08<00:18,  2.93it/s]\u001b[A\n",
      " 34%|███▍      | 27/79 [00:08<00:17,  2.93it/s]\u001b[A\n",
      " 35%|███▌      | 28/79 [00:09<00:17,  2.92it/s]\u001b[A\n",
      " 37%|███▋      | 29/79 [00:09<00:17,  2.91it/s]\u001b[A\n",
      " 38%|███▊      | 30/79 [00:09<00:16,  2.91it/s]\u001b[A\n",
      " 39%|███▉      | 31/79 [00:10<00:16,  2.91it/s]\u001b[A\n",
      " 41%|████      | 32/79 [00:10<00:16,  2.91it/s]\u001b[A\n",
      " 42%|████▏     | 33/79 [00:10<00:15,  2.91it/s]\u001b[A\n",
      " 43%|████▎     | 34/79 [00:11<00:15,  2.90it/s]\u001b[A\n",
      " 44%|████▍     | 35/79 [00:11<00:15,  2.90it/s]\u001b[A\n",
      " 46%|████▌     | 36/79 [00:11<00:14,  2.91it/s]\u001b[A\n",
      " 47%|████▋     | 37/79 [00:12<00:14,  2.90it/s]\u001b[A\n",
      " 48%|████▊     | 38/79 [00:12<00:14,  2.90it/s]\u001b[A\n",
      " 49%|████▉     | 39/79 [00:13<00:13,  2.91it/s]\u001b[A\n",
      " 51%|█████     | 40/79 [00:13<00:13,  2.90it/s]\u001b[A\n",
      " 52%|█████▏    | 41/79 [00:13<00:13,  2.90it/s]\u001b[A\n",
      " 53%|█████▎    | 42/79 [00:14<00:12,  2.90it/s]\u001b[A\n",
      " 54%|█████▍    | 43/79 [00:14<00:12,  2.90it/s]\u001b[A\n",
      " 56%|█████▌    | 44/79 [00:14<00:12,  2.91it/s]\u001b[A\n",
      " 57%|█████▋    | 45/79 [00:15<00:11,  2.91it/s]\u001b[A\n",
      " 58%|█████▊    | 46/79 [00:15<00:11,  2.91it/s]\u001b[A\n",
      " 59%|█████▉    | 47/79 [00:15<00:11,  2.90it/s]\u001b[A\n",
      " 61%|██████    | 48/79 [00:16<00:10,  2.91it/s]\u001b[A\n",
      " 62%|██████▏   | 49/79 [00:16<00:10,  2.91it/s]\u001b[A\n",
      " 63%|██████▎   | 50/79 [00:16<00:09,  2.91it/s]\u001b[A\n",
      " 65%|██████▍   | 51/79 [00:17<00:09,  2.91it/s]\u001b[A\n",
      " 66%|██████▌   | 52/79 [00:17<00:09,  2.91it/s]\u001b[A\n",
      " 67%|██████▋   | 53/79 [00:17<00:08,  2.91it/s]\u001b[A\n",
      " 68%|██████▊   | 54/79 [00:18<00:08,  2.91it/s]\u001b[A\n",
      " 70%|██████▉   | 55/79 [00:18<00:08,  2.91it/s]\u001b[A\n",
      " 71%|███████   | 56/79 [00:18<00:07,  2.91it/s]\u001b[A\n",
      " 72%|███████▏  | 57/79 [00:19<00:07,  2.91it/s]\u001b[A\n",
      " 73%|███████▎  | 58/79 [00:19<00:07,  2.91it/s]\u001b[A\n",
      " 75%|███████▍  | 59/79 [00:19<00:06,  2.92it/s]\u001b[A\n",
      " 76%|███████▌  | 60/79 [00:20<00:06,  2.92it/s]\u001b[A\n",
      " 77%|███████▋  | 61/79 [00:20<00:06,  2.92it/s]\u001b[A\n",
      " 78%|███████▊  | 62/79 [00:20<00:05,  2.92it/s]\u001b[A\n",
      " 80%|███████▉  | 63/79 [00:21<00:05,  2.93it/s]\u001b[A\n",
      " 81%|████████  | 64/79 [00:21<00:05,  2.94it/s]\u001b[A\n",
      " 82%|████████▏ | 65/79 [00:21<00:04,  2.94it/s]\u001b[A\n",
      " 84%|████████▎ | 66/79 [00:22<00:04,  2.93it/s]\u001b[A\n",
      " 85%|████████▍ | 67/79 [00:22<00:04,  2.93it/s]\u001b[A\n",
      " 86%|████████▌ | 68/79 [00:22<00:03,  2.93it/s]\u001b[A\n",
      " 87%|████████▋ | 69/79 [00:23<00:03,  2.93it/s]\u001b[A\n",
      " 89%|████████▊ | 70/79 [00:23<00:03,  2.94it/s]\u001b[A\n",
      " 90%|████████▉ | 71/79 [00:23<00:02,  2.94it/s]\u001b[A\n",
      " 91%|█████████ | 72/79 [00:24<00:02,  2.93it/s]\u001b[A\n",
      " 92%|█████████▏| 73/79 [00:24<00:02,  2.93it/s]\u001b[A\n",
      " 94%|█████████▎| 74/79 [00:24<00:01,  2.94it/s]\u001b[A\n",
      " 95%|█████████▍| 75/79 [00:25<00:01,  2.95it/s]\u001b[A\n",
      " 96%|█████████▌| 76/79 [00:25<00:01,  2.96it/s]\u001b[A\n",
      " 97%|█████████▋| 77/79 [00:26<00:00,  2.95it/s]\u001b[A\n",
      "                                                    \n",
      "  5%|▌         | 490/9800 [09:23<2:02:54,  1.26it/s]\n",
      "100%|██████████| 79/79 [00:26<00:00,  3.02it/s]\u001b[A\n",
      "                                               \u001b[A"
     ]
    },
    {
     "name": "stdout",
     "output_type": "stream",
     "text": [
      "{'eval_loss': 3.659776210784912, 'eval_accuracy': 0.1558, 'eval_runtime': 26.7859, 'eval_samples_per_second': 373.33, 'eval_steps_per_second': 2.949, 'epoch': 5.0}\n"
     ]
    },
    {
     "name": "stderr",
     "output_type": "stream",
     "text": [
      "  5%|▌         | 500/9800 [09:33<3:09:10,  1.22s/it] "
     ]
    },
    {
     "name": "stdout",
     "output_type": "stream",
     "text": [
      "{'loss': 3.5283, 'grad_norm': 10.496517181396484, 'learning_rate': 1.8979591836734696e-05, 'epoch': 5.1}\n"
     ]
    },
    {
     "name": "stderr",
     "output_type": "stream",
     "text": [
      "  5%|▌         | 510/9800 [09:42<2:18:18,  1.12it/s]"
     ]
    },
    {
     "name": "stdout",
     "output_type": "stream",
     "text": [
      "{'loss': 3.4689, 'grad_norm': 9.193257331848145, 'learning_rate': 1.895918367346939e-05, 'epoch': 5.2}\n"
     ]
    },
    {
     "name": "stderr",
     "output_type": "stream",
     "text": [
      "  5%|▌         | 520/9800 [09:51<2:17:40,  1.12it/s]"
     ]
    },
    {
     "name": "stdout",
     "output_type": "stream",
     "text": [
      "{'loss': 3.4938, 'grad_norm': 8.522891998291016, 'learning_rate': 1.8938775510204083e-05, 'epoch': 5.31}\n"
     ]
    },
    {
     "name": "stderr",
     "output_type": "stream",
     "text": [
      "  5%|▌         | 530/9800 [09:59<2:16:19,  1.13it/s]"
     ]
    },
    {
     "name": "stdout",
     "output_type": "stream",
     "text": [
      "{'loss': 3.4499, 'grad_norm': 9.764520645141602, 'learning_rate': 1.8918367346938778e-05, 'epoch': 5.41}\n"
     ]
    },
    {
     "name": "stderr",
     "output_type": "stream",
     "text": [
      "  6%|▌         | 540/9800 [10:08<2:15:30,  1.14it/s]"
     ]
    },
    {
     "name": "stdout",
     "output_type": "stream",
     "text": [
      "{'loss': 3.54, 'grad_norm': 9.435563087463379, 'learning_rate': 1.8897959183673473e-05, 'epoch': 5.51}\n"
     ]
    },
    {
     "name": "stderr",
     "output_type": "stream",
     "text": [
      "  6%|▌         | 550/9800 [10:17<2:16:43,  1.13it/s]"
     ]
    },
    {
     "name": "stdout",
     "output_type": "stream",
     "text": [
      "{'loss': 3.4857, 'grad_norm': 9.857891082763672, 'learning_rate': 1.8877551020408164e-05, 'epoch': 5.61}\n"
     ]
    },
    {
     "name": "stderr",
     "output_type": "stream",
     "text": [
      "  6%|▌         | 560/9800 [10:26<2:15:49,  1.13it/s]"
     ]
    },
    {
     "name": "stdout",
     "output_type": "stream",
     "text": [
      "{'loss': 3.5119, 'grad_norm': 10.969381332397461, 'learning_rate': 1.885714285714286e-05, 'epoch': 5.71}\n"
     ]
    },
    {
     "name": "stderr",
     "output_type": "stream",
     "text": [
      "  6%|▌         | 570/9800 [10:35<2:14:51,  1.14it/s]"
     ]
    },
    {
     "name": "stdout",
     "output_type": "stream",
     "text": [
      "{'loss': 3.4524, 'grad_norm': 10.474547386169434, 'learning_rate': 1.883673469387755e-05, 'epoch': 5.82}\n"
     ]
    },
    {
     "name": "stderr",
     "output_type": "stream",
     "text": [
      "  6%|▌         | 580/9800 [10:44<2:16:07,  1.13it/s]"
     ]
    },
    {
     "name": "stdout",
     "output_type": "stream",
     "text": [
      "{'loss': 3.5181, 'grad_norm': 9.30446720123291, 'learning_rate': 1.8816326530612246e-05, 'epoch': 5.92}\n"
     ]
    },
    {
     "name": "stderr",
     "output_type": "stream",
     "text": [
      "  6%|▌         | 588/9800 [10:50<2:01:56,  1.26it/s]\n",
      "  0%|          | 0/79 [00:00<?, ?it/s]\u001b[A\n",
      "  3%|▎         | 2/79 [00:00<00:13,  5.92it/s]\u001b[A\n",
      "  4%|▍         | 3/79 [00:00<00:18,  4.08it/s]\u001b[A\n",
      "  5%|▌         | 4/79 [00:01<00:21,  3.56it/s]\u001b[A\n",
      "  6%|▋         | 5/79 [00:01<00:22,  3.31it/s]\u001b[A\n",
      "  8%|▊         | 6/79 [00:01<00:23,  3.16it/s]\u001b[A\n",
      "  9%|▉         | 7/79 [00:02<00:23,  3.08it/s]\u001b[A\n",
      " 10%|█         | 8/79 [00:02<00:23,  3.05it/s]\u001b[A\n",
      " 11%|█▏        | 9/79 [00:02<00:23,  3.02it/s]\u001b[A\n",
      " 13%|█▎        | 10/79 [00:03<00:23,  2.99it/s]\u001b[A\n",
      " 14%|█▍        | 11/79 [00:03<00:22,  2.96it/s]\u001b[A\n",
      " 15%|█▌        | 12/79 [00:03<00:22,  2.95it/s]\u001b[A\n",
      " 16%|█▋        | 13/79 [00:04<00:22,  2.96it/s]\u001b[A\n",
      " 18%|█▊        | 14/79 [00:04<00:21,  2.96it/s]\u001b[A\n",
      " 19%|█▉        | 15/79 [00:04<00:21,  2.96it/s]\u001b[A\n",
      " 20%|██        | 16/79 [00:05<00:21,  2.95it/s]\u001b[A\n",
      " 22%|██▏       | 17/79 [00:05<00:20,  2.95it/s]\u001b[A\n",
      " 23%|██▎       | 18/79 [00:05<00:20,  2.95it/s]\u001b[A\n",
      " 24%|██▍       | 19/79 [00:06<00:20,  2.94it/s]\u001b[A\n",
      " 25%|██▌       | 20/79 [00:06<00:20,  2.94it/s]\u001b[A\n",
      " 27%|██▋       | 21/79 [00:06<00:19,  2.96it/s]\u001b[A\n",
      " 28%|██▊       | 22/79 [00:07<00:19,  2.95it/s]\u001b[A\n",
      " 29%|██▉       | 23/79 [00:07<00:18,  2.95it/s]\u001b[A\n",
      " 30%|███       | 24/79 [00:07<00:18,  2.96it/s]\u001b[A\n",
      " 32%|███▏      | 25/79 [00:08<00:18,  2.95it/s]\u001b[A\n",
      " 33%|███▎      | 26/79 [00:08<00:18,  2.94it/s]\u001b[A\n",
      " 34%|███▍      | 27/79 [00:08<00:17,  2.93it/s]\u001b[A\n",
      " 35%|███▌      | 28/79 [00:09<00:17,  2.93it/s]\u001b[A\n",
      " 37%|███▋      | 29/79 [00:09<00:17,  2.93it/s]\u001b[A\n",
      " 38%|███▊      | 30/79 [00:09<00:16,  2.94it/s]\u001b[A\n",
      " 39%|███▉      | 31/79 [00:10<00:16,  2.94it/s]\u001b[A\n",
      " 41%|████      | 32/79 [00:10<00:16,  2.93it/s]\u001b[A\n",
      " 42%|████▏     | 33/79 [00:10<00:15,  2.93it/s]\u001b[A\n",
      " 43%|████▎     | 34/79 [00:11<00:15,  2.93it/s]\u001b[A\n",
      " 44%|████▍     | 35/79 [00:11<00:15,  2.92it/s]\u001b[A\n",
      " 46%|████▌     | 36/79 [00:11<00:14,  2.91it/s]\u001b[A\n",
      " 47%|████▋     | 37/79 [00:12<00:14,  2.90it/s]\u001b[A\n",
      " 48%|████▊     | 38/79 [00:12<00:14,  2.91it/s]\u001b[A\n",
      " 49%|████▉     | 39/79 [00:12<00:13,  2.90it/s]\u001b[A\n",
      " 51%|█████     | 40/79 [00:13<00:13,  2.91it/s]\u001b[A\n",
      " 52%|█████▏    | 41/79 [00:13<00:13,  2.89it/s]\u001b[A\n",
      " 53%|█████▎    | 42/79 [00:14<00:12,  2.90it/s]\u001b[A\n",
      " 54%|█████▍    | 43/79 [00:14<00:12,  2.90it/s]\u001b[A\n",
      " 56%|█████▌    | 44/79 [00:14<00:12,  2.89it/s]\u001b[A\n",
      " 57%|█████▋    | 45/79 [00:15<00:11,  2.90it/s]\u001b[A\n",
      " 58%|█████▊    | 46/79 [00:15<00:11,  2.90it/s]\u001b[A\n",
      " 59%|█████▉    | 47/79 [00:15<00:11,  2.90it/s]\u001b[A\n",
      " 61%|██████    | 48/79 [00:16<00:10,  2.90it/s]\u001b[A\n",
      " 62%|██████▏   | 49/79 [00:16<00:10,  2.91it/s]\u001b[A\n",
      " 63%|██████▎   | 50/79 [00:16<00:09,  2.90it/s]\u001b[A\n",
      " 65%|██████▍   | 51/79 [00:17<00:09,  2.90it/s]\u001b[A\n",
      " 66%|██████▌   | 52/79 [00:17<00:09,  2.91it/s]\u001b[A\n",
      " 67%|██████▋   | 53/79 [00:17<00:08,  2.92it/s]\u001b[A\n",
      " 68%|██████▊   | 54/79 [00:18<00:08,  2.92it/s]\u001b[A\n",
      " 70%|██████▉   | 55/79 [00:18<00:08,  2.91it/s]\u001b[A\n",
      " 71%|███████   | 56/79 [00:18<00:07,  2.91it/s]\u001b[A\n",
      " 72%|███████▏  | 57/79 [00:19<00:07,  2.92it/s]\u001b[A\n",
      " 73%|███████▎  | 58/79 [00:19<00:07,  2.93it/s]\u001b[A\n",
      " 75%|███████▍  | 59/79 [00:19<00:06,  2.93it/s]\u001b[A\n",
      " 76%|███████▌  | 60/79 [00:20<00:06,  2.93it/s]\u001b[A\n",
      " 77%|███████▋  | 61/79 [00:20<00:06,  2.92it/s]\u001b[A\n",
      " 78%|███████▊  | 62/79 [00:20<00:05,  2.92it/s]\u001b[A\n",
      " 80%|███████▉  | 63/79 [00:21<00:05,  2.91it/s]\u001b[A\n",
      " 81%|████████  | 64/79 [00:21<00:05,  2.91it/s]\u001b[A\n",
      " 82%|████████▏ | 65/79 [00:21<00:04,  2.91it/s]\u001b[A\n",
      " 84%|████████▎ | 66/79 [00:22<00:04,  2.91it/s]\u001b[A\n",
      " 85%|████████▍ | 67/79 [00:22<00:04,  2.91it/s]\u001b[A\n",
      " 86%|████████▌ | 68/79 [00:22<00:03,  2.91it/s]\u001b[A\n",
      " 87%|████████▋ | 69/79 [00:23<00:03,  2.91it/s]\u001b[A\n",
      " 89%|████████▊ | 70/79 [00:23<00:03,  2.91it/s]\u001b[A\n",
      " 90%|████████▉ | 71/79 [00:23<00:02,  2.92it/s]\u001b[A\n",
      " 91%|█████████ | 72/79 [00:24<00:02,  2.91it/s]\u001b[A\n",
      " 92%|█████████▏| 73/79 [00:24<00:02,  2.92it/s]\u001b[A\n",
      " 94%|█████████▎| 74/79 [00:24<00:01,  2.92it/s]\u001b[A\n",
      " 95%|█████████▍| 75/79 [00:25<00:01,  2.93it/s]\u001b[A\n",
      " 96%|█████████▌| 76/79 [00:25<00:01,  2.94it/s]\u001b[A\n",
      " 97%|█████████▋| 77/79 [00:26<00:00,  2.93it/s]\u001b[A\n",
      "                                                    \n",
      "  6%|▌         | 588/9800 [11:17<2:01:56,  1.26it/s]\n",
      "100%|██████████| 79/79 [00:26<00:00,  2.99it/s]\u001b[A\n",
      "                                               \u001b[A"
     ]
    },
    {
     "name": "stdout",
     "output_type": "stream",
     "text": [
      "{'eval_loss': 3.573068857192993, 'eval_accuracy': 0.1666, 'eval_runtime': 26.7942, 'eval_samples_per_second': 373.215, 'eval_steps_per_second': 2.948, 'epoch': 6.0}\n"
     ]
    },
    {
     "name": "stderr",
     "output_type": "stream",
     "text": [
      "  6%|▌         | 590/9800 [11:20<17:08:45,  6.70s/it]"
     ]
    },
    {
     "name": "stdout",
     "output_type": "stream",
     "text": [
      "{'loss': 3.4397, 'grad_norm': 9.109006881713867, 'learning_rate': 1.879591836734694e-05, 'epoch': 6.02}\n"
     ]
    },
    {
     "name": "stderr",
     "output_type": "stream",
     "text": [
      "  6%|▌         | 600/9800 [11:29<2:40:06,  1.04s/it] "
     ]
    },
    {
     "name": "stdout",
     "output_type": "stream",
     "text": [
      "{'loss': 3.3955, 'grad_norm': 10.514167785644531, 'learning_rate': 1.8775510204081636e-05, 'epoch': 6.12}\n"
     ]
    },
    {
     "name": "stderr",
     "output_type": "stream",
     "text": [
      "  6%|▌         | 610/9800 [11:38<2:16:16,  1.12it/s]"
     ]
    },
    {
     "name": "stdout",
     "output_type": "stream",
     "text": [
      "{'loss': 3.429, 'grad_norm': 9.710760116577148, 'learning_rate': 1.8755102040816327e-05, 'epoch': 6.22}\n"
     ]
    },
    {
     "name": "stderr",
     "output_type": "stream",
     "text": [
      "  6%|▋         | 620/9800 [11:47<2:16:04,  1.12it/s]"
     ]
    },
    {
     "name": "stdout",
     "output_type": "stream",
     "text": [
      "{'loss': 3.3971, 'grad_norm': 9.993268013000488, 'learning_rate': 1.8734693877551022e-05, 'epoch': 6.33}\n"
     ]
    },
    {
     "name": "stderr",
     "output_type": "stream",
     "text": [
      "  6%|▋         | 630/9800 [11:55<2:16:05,  1.12it/s]"
     ]
    },
    {
     "name": "stdout",
     "output_type": "stream",
     "text": [
      "{'loss': 3.3762, 'grad_norm': 10.604864120483398, 'learning_rate': 1.8714285714285717e-05, 'epoch': 6.43}\n"
     ]
    },
    {
     "name": "stderr",
     "output_type": "stream",
     "text": [
      "  7%|▋         | 640/9800 [12:04<2:15:28,  1.13it/s]"
     ]
    },
    {
     "name": "stdout",
     "output_type": "stream",
     "text": [
      "{'loss': 3.3864, 'grad_norm': 11.711310386657715, 'learning_rate': 1.869387755102041e-05, 'epoch': 6.53}\n"
     ]
    },
    {
     "name": "stderr",
     "output_type": "stream",
     "text": [
      "  7%|▋         | 650/9800 [12:13<2:15:04,  1.13it/s]"
     ]
    },
    {
     "name": "stdout",
     "output_type": "stream",
     "text": [
      "{'loss': 3.4277, 'grad_norm': 11.362950325012207, 'learning_rate': 1.8673469387755104e-05, 'epoch': 6.63}\n"
     ]
    },
    {
     "name": "stderr",
     "output_type": "stream",
     "text": [
      "  7%|▋         | 660/9800 [12:22<2:14:50,  1.13it/s]"
     ]
    },
    {
     "name": "stdout",
     "output_type": "stream",
     "text": [
      "{'loss': 3.3231, 'grad_norm': 9.686928749084473, 'learning_rate': 1.8653061224489795e-05, 'epoch': 6.73}\n"
     ]
    },
    {
     "name": "stderr",
     "output_type": "stream",
     "text": [
      "  7%|▋         | 670/9800 [12:31<2:15:18,  1.12it/s]"
     ]
    },
    {
     "name": "stdout",
     "output_type": "stream",
     "text": [
      "{'loss': 3.378, 'grad_norm': 10.019306182861328, 'learning_rate': 1.863265306122449e-05, 'epoch': 6.84}\n"
     ]
    },
    {
     "name": "stderr",
     "output_type": "stream",
     "text": [
      "  7%|▋         | 680/9800 [12:40<2:15:02,  1.13it/s]"
     ]
    },
    {
     "name": "stdout",
     "output_type": "stream",
     "text": [
      "{'loss': 3.3601, 'grad_norm': 10.411360740661621, 'learning_rate': 1.8612244897959185e-05, 'epoch': 6.94}\n"
     ]
    },
    {
     "name": "stderr",
     "output_type": "stream",
     "text": [
      "  7%|▋         | 686/9800 [12:45<2:01:18,  1.25it/s]\n",
      "  0%|          | 0/79 [00:00<?, ?it/s]\u001b[A\n",
      "  3%|▎         | 2/79 [00:00<00:13,  5.86it/s]\u001b[A\n",
      "  4%|▍         | 3/79 [00:00<00:18,  4.05it/s]\u001b[A\n",
      "  5%|▌         | 4/79 [00:01<00:21,  3.55it/s]\u001b[A\n",
      "  6%|▋         | 5/79 [00:01<00:22,  3.30it/s]\u001b[A\n",
      "  8%|▊         | 6/79 [00:01<00:23,  3.15it/s]\u001b[A\n",
      "  9%|▉         | 7/79 [00:02<00:23,  3.07it/s]\u001b[A\n",
      " 10%|█         | 8/79 [00:02<00:23,  3.01it/s]\u001b[A\n",
      " 11%|█▏        | 9/79 [00:02<00:23,  2.99it/s]\u001b[A\n",
      " 13%|█▎        | 10/79 [00:03<00:23,  2.95it/s]\u001b[A\n",
      " 14%|█▍        | 11/79 [00:03<00:23,  2.94it/s]\u001b[A\n",
      " 15%|█▌        | 12/79 [00:03<00:22,  2.94it/s]\u001b[A\n",
      " 16%|█▋        | 13/79 [00:04<00:22,  2.93it/s]\u001b[A\n",
      " 18%|█▊        | 14/79 [00:04<00:22,  2.93it/s]\u001b[A\n",
      " 19%|█▉        | 15/79 [00:04<00:21,  2.93it/s]\u001b[A\n",
      " 20%|██        | 16/79 [00:05<00:21,  2.94it/s]\u001b[A\n",
      " 22%|██▏       | 17/79 [00:05<00:21,  2.94it/s]\u001b[A\n",
      " 23%|██▎       | 18/79 [00:05<00:20,  2.94it/s]\u001b[A\n",
      " 24%|██▍       | 19/79 [00:06<00:20,  2.93it/s]\u001b[A\n",
      " 25%|██▌       | 20/79 [00:06<00:20,  2.93it/s]\u001b[A\n",
      " 27%|██▋       | 21/79 [00:06<00:19,  2.94it/s]\u001b[A\n",
      " 28%|██▊       | 22/79 [00:07<00:19,  2.94it/s]\u001b[A\n",
      " 29%|██▉       | 23/79 [00:07<00:18,  2.95it/s]\u001b[A\n",
      " 30%|███       | 24/79 [00:07<00:18,  2.95it/s]\u001b[A\n",
      " 32%|███▏      | 25/79 [00:08<00:18,  2.94it/s]\u001b[A\n",
      " 33%|███▎      | 26/79 [00:08<00:18,  2.93it/s]\u001b[A\n",
      " 34%|███▍      | 27/79 [00:08<00:17,  2.94it/s]\u001b[A\n",
      " 35%|███▌      | 28/79 [00:09<00:17,  2.95it/s]\u001b[A\n",
      " 37%|███▋      | 29/79 [00:09<00:16,  2.95it/s]\u001b[A\n",
      " 38%|███▊      | 30/79 [00:09<00:16,  2.94it/s]\u001b[A\n",
      " 39%|███▉      | 31/79 [00:10<00:16,  2.94it/s]\u001b[A\n",
      " 41%|████      | 32/79 [00:10<00:16,  2.91it/s]\u001b[A\n",
      " 42%|████▏     | 33/79 [00:10<00:15,  2.92it/s]\u001b[A\n",
      " 43%|████▎     | 34/79 [00:11<00:15,  2.90it/s]\u001b[A\n",
      " 44%|████▍     | 35/79 [00:11<00:15,  2.90it/s]\u001b[A\n",
      " 46%|████▌     | 36/79 [00:11<00:14,  2.91it/s]\u001b[A\n",
      " 47%|████▋     | 37/79 [00:12<00:14,  2.91it/s]\u001b[A\n",
      " 48%|████▊     | 38/79 [00:12<00:14,  2.91it/s]\u001b[A\n",
      " 49%|████▉     | 39/79 [00:13<00:13,  2.91it/s]\u001b[A\n",
      " 51%|█████     | 40/79 [00:13<00:13,  2.91it/s]\u001b[A\n",
      " 52%|█████▏    | 41/79 [00:13<00:13,  2.91it/s]\u001b[A\n",
      " 53%|█████▎    | 42/79 [00:14<00:12,  2.91it/s]\u001b[A\n",
      " 54%|█████▍    | 43/79 [00:14<00:12,  2.91it/s]\u001b[A\n",
      " 56%|█████▌    | 44/79 [00:14<00:12,  2.91it/s]\u001b[A\n",
      " 57%|█████▋    | 45/79 [00:15<00:11,  2.91it/s]\u001b[A\n",
      " 58%|█████▊    | 46/79 [00:15<00:11,  2.92it/s]\u001b[A\n",
      " 59%|█████▉    | 47/79 [00:15<00:10,  2.92it/s]\u001b[A\n",
      " 61%|██████    | 48/79 [00:16<00:10,  2.92it/s]\u001b[A\n",
      " 62%|██████▏   | 49/79 [00:16<00:10,  2.93it/s]\u001b[A\n",
      " 63%|██████▎   | 50/79 [00:16<00:09,  2.94it/s]\u001b[A\n",
      " 65%|██████▍   | 51/79 [00:17<00:09,  2.93it/s]\u001b[A\n",
      " 66%|██████▌   | 52/79 [00:17<00:09,  2.92it/s]\u001b[A\n",
      " 67%|██████▋   | 53/79 [00:17<00:08,  2.92it/s]\u001b[A\n",
      " 68%|██████▊   | 54/79 [00:18<00:08,  2.92it/s]\u001b[A\n",
      " 70%|██████▉   | 55/79 [00:18<00:08,  2.92it/s]\u001b[A\n",
      " 71%|███████   | 56/79 [00:18<00:07,  2.91it/s]\u001b[A\n",
      " 72%|███████▏  | 57/79 [00:19<00:07,  2.91it/s]\u001b[A\n",
      " 73%|███████▎  | 58/79 [00:19<00:07,  2.91it/s]\u001b[A\n",
      " 75%|███████▍  | 59/79 [00:19<00:06,  2.91it/s]\u001b[A\n",
      " 76%|███████▌  | 60/79 [00:20<00:06,  2.91it/s]\u001b[A\n",
      " 77%|███████▋  | 61/79 [00:20<00:06,  2.91it/s]\u001b[A\n",
      " 78%|███████▊  | 62/79 [00:20<00:05,  2.91it/s]\u001b[A\n",
      " 80%|███████▉  | 63/79 [00:21<00:05,  2.91it/s]\u001b[A\n",
      " 81%|████████  | 64/79 [00:21<00:05,  2.91it/s]\u001b[A\n",
      " 82%|████████▏ | 65/79 [00:21<00:04,  2.90it/s]\u001b[A\n",
      " 84%|████████▎ | 66/79 [00:22<00:04,  2.91it/s]\u001b[A\n",
      " 85%|████████▍ | 67/79 [00:22<00:04,  2.91it/s]\u001b[A\n",
      " 86%|████████▌ | 68/79 [00:22<00:03,  2.90it/s]\u001b[A\n",
      " 87%|████████▋ | 69/79 [00:23<00:03,  2.91it/s]\u001b[A\n",
      " 89%|████████▊ | 70/79 [00:23<00:03,  2.91it/s]\u001b[A\n",
      " 90%|████████▉ | 71/79 [00:23<00:02,  2.91it/s]\u001b[A\n",
      " 91%|█████████ | 72/79 [00:24<00:02,  2.91it/s]\u001b[A\n",
      " 92%|█████████▏| 73/79 [00:24<00:02,  2.91it/s]\u001b[A\n",
      " 94%|█████████▎| 74/79 [00:25<00:01,  2.91it/s]\u001b[A\n",
      " 95%|█████████▍| 75/79 [00:25<00:01,  2.91it/s]\u001b[A\n",
      " 96%|█████████▌| 76/79 [00:25<00:01,  2.91it/s]\u001b[A\n",
      " 97%|█████████▋| 77/79 [00:26<00:00,  2.90it/s]\u001b[A\n",
      "                                                    \n",
      "  7%|▋         | 686/9800 [13:12<2:01:18,  1.25it/s]\n",
      "100%|██████████| 79/79 [00:26<00:00,  2.97it/s]\u001b[A\n",
      "                                               \u001b[A"
     ]
    },
    {
     "name": "stdout",
     "output_type": "stream",
     "text": [
      "{'eval_loss': 3.4969570636749268, 'eval_accuracy': 0.1812, 'eval_runtime': 26.848, 'eval_samples_per_second': 372.468, 'eval_steps_per_second': 2.942, 'epoch': 7.0}\n"
     ]
    },
    {
     "name": "stderr",
     "output_type": "stream",
     "text": [
      "  7%|▋         | 690/9800 [13:16<9:27:45,  3.74s/it] "
     ]
    },
    {
     "name": "stdout",
     "output_type": "stream",
     "text": [
      "{'loss': 3.2908, 'grad_norm': 12.518242835998535, 'learning_rate': 1.859183673469388e-05, 'epoch': 7.04}\n"
     ]
    },
    {
     "name": "stderr",
     "output_type": "stream",
     "text": [
      "  7%|▋         | 700/9800 [13:25<2:26:40,  1.03it/s]"
     ]
    },
    {
     "name": "stdout",
     "output_type": "stream",
     "text": [
      "{'loss': 3.2719, 'grad_norm': 11.677038192749023, 'learning_rate': 1.8571428571428575e-05, 'epoch': 7.14}\n"
     ]
    },
    {
     "name": "stderr",
     "output_type": "stream",
     "text": [
      "  7%|▋         | 710/9800 [13:34<2:15:06,  1.12it/s]"
     ]
    },
    {
     "name": "stdout",
     "output_type": "stream",
     "text": [
      "{'loss': 3.311, 'grad_norm': 12.148778915405273, 'learning_rate': 1.8551020408163267e-05, 'epoch': 7.24}\n"
     ]
    },
    {
     "name": "stderr",
     "output_type": "stream",
     "text": [
      "  7%|▋         | 720/9800 [13:43<2:14:06,  1.13it/s]"
     ]
    },
    {
     "name": "stdout",
     "output_type": "stream",
     "text": [
      "{'loss': 3.2632, 'grad_norm': 12.784793853759766, 'learning_rate': 1.853061224489796e-05, 'epoch': 7.35}\n"
     ]
    },
    {
     "name": "stderr",
     "output_type": "stream",
     "text": [
      "  7%|▋         | 730/9800 [13:52<2:13:21,  1.13it/s]"
     ]
    },
    {
     "name": "stdout",
     "output_type": "stream",
     "text": [
      "{'loss': 3.272, 'grad_norm': 11.167202949523926, 'learning_rate': 1.8510204081632653e-05, 'epoch': 7.45}\n"
     ]
    },
    {
     "name": "stderr",
     "output_type": "stream",
     "text": [
      "  8%|▊         | 740/9800 [14:01<2:13:52,  1.13it/s]"
     ]
    },
    {
     "name": "stdout",
     "output_type": "stream",
     "text": [
      "{'loss': 3.2847, 'grad_norm': 13.069717407226562, 'learning_rate': 1.8489795918367348e-05, 'epoch': 7.55}\n"
     ]
    },
    {
     "name": "stderr",
     "output_type": "stream",
     "text": [
      "  8%|▊         | 750/9800 [14:10<2:14:15,  1.12it/s]"
     ]
    },
    {
     "name": "stdout",
     "output_type": "stream",
     "text": [
      "{'loss': 3.2673, 'grad_norm': 12.281922340393066, 'learning_rate': 1.8469387755102043e-05, 'epoch': 7.65}\n"
     ]
    },
    {
     "name": "stderr",
     "output_type": "stream",
     "text": [
      "  8%|▊         | 760/9800 [14:18<2:14:13,  1.12it/s]"
     ]
    },
    {
     "name": "stdout",
     "output_type": "stream",
     "text": [
      "{'loss': 3.3333, 'grad_norm': 10.367698669433594, 'learning_rate': 1.8448979591836735e-05, 'epoch': 7.76}\n"
     ]
    },
    {
     "name": "stderr",
     "output_type": "stream",
     "text": [
      "  8%|▊         | 770/9800 [14:27<2:12:42,  1.13it/s]"
     ]
    },
    {
     "name": "stdout",
     "output_type": "stream",
     "text": [
      "{'loss': 3.2492, 'grad_norm': 12.932074546813965, 'learning_rate': 1.842857142857143e-05, 'epoch': 7.86}\n"
     ]
    },
    {
     "name": "stderr",
     "output_type": "stream",
     "text": [
      "  8%|▊         | 780/9800 [14:36<2:13:04,  1.13it/s]"
     ]
    },
    {
     "name": "stdout",
     "output_type": "stream",
     "text": [
      "{'loss': 3.2724, 'grad_norm': 11.401625633239746, 'learning_rate': 1.8408163265306125e-05, 'epoch': 7.96}\n"
     ]
    },
    {
     "name": "stderr",
     "output_type": "stream",
     "text": [
      "  8%|▊         | 784/9800 [14:39<1:59:45,  1.25it/s]\n",
      "  0%|          | 0/79 [00:00<?, ?it/s]\u001b[A\n",
      "  3%|▎         | 2/79 [00:00<00:12,  5.97it/s]\u001b[A\n",
      "  4%|▍         | 3/79 [00:00<00:18,  4.12it/s]\u001b[A\n",
      "  5%|▌         | 4/79 [00:01<00:20,  3.59it/s]\u001b[A\n",
      "  6%|▋         | 5/79 [00:01<00:22,  3.33it/s]\u001b[A\n",
      "  8%|▊         | 6/79 [00:01<00:22,  3.18it/s]\u001b[A\n",
      "  9%|▉         | 7/79 [00:02<00:23,  3.08it/s]\u001b[A\n",
      " 10%|█         | 8/79 [00:02<00:23,  3.03it/s]\u001b[A\n",
      " 11%|█▏        | 9/79 [00:02<00:23,  2.99it/s]\u001b[A\n",
      " 13%|█▎        | 10/79 [00:03<00:23,  2.96it/s]\u001b[A\n",
      " 14%|█▍        | 11/79 [00:03<00:23,  2.94it/s]\u001b[A\n",
      " 15%|█▌        | 12/79 [00:03<00:22,  2.93it/s]\u001b[A\n",
      " 16%|█▋        | 13/79 [00:04<00:22,  2.93it/s]\u001b[A\n",
      " 18%|█▊        | 14/79 [00:04<00:22,  2.92it/s]\u001b[A\n",
      " 19%|█▉        | 15/79 [00:04<00:21,  2.91it/s]\u001b[A\n",
      " 20%|██        | 16/79 [00:05<00:21,  2.92it/s]\u001b[A\n",
      " 22%|██▏       | 17/79 [00:05<00:21,  2.91it/s]\u001b[A\n",
      " 23%|██▎       | 18/79 [00:05<00:20,  2.91it/s]\u001b[A\n",
      " 24%|██▍       | 19/79 [00:06<00:20,  2.91it/s]\u001b[A\n",
      " 25%|██▌       | 20/79 [00:06<00:20,  2.91it/s]\u001b[A\n",
      " 27%|██▋       | 21/79 [00:06<00:19,  2.90it/s]\u001b[A\n",
      " 28%|██▊       | 22/79 [00:07<00:19,  2.91it/s]\u001b[A\n",
      " 29%|██▉       | 23/79 [00:07<00:19,  2.91it/s]\u001b[A\n",
      " 30%|███       | 24/79 [00:07<00:18,  2.90it/s]\u001b[A\n",
      " 32%|███▏      | 25/79 [00:08<00:18,  2.90it/s]\u001b[A\n",
      " 33%|███▎      | 26/79 [00:08<00:18,  2.91it/s]\u001b[A\n",
      " 34%|███▍      | 27/79 [00:08<00:17,  2.91it/s]\u001b[A\n",
      " 35%|███▌      | 28/79 [00:09<00:17,  2.90it/s]\u001b[A\n",
      " 37%|███▋      | 29/79 [00:09<00:17,  2.88it/s]\u001b[A\n",
      " 38%|███▊      | 30/79 [00:09<00:16,  2.89it/s]\u001b[A\n",
      " 39%|███▉      | 31/79 [00:10<00:16,  2.88it/s]\u001b[A\n",
      " 41%|████      | 32/79 [00:10<00:16,  2.89it/s]\u001b[A\n",
      " 42%|████▏     | 33/79 [00:11<00:15,  2.89it/s]\u001b[A\n",
      " 43%|████▎     | 34/79 [00:11<00:15,  2.89it/s]\u001b[A\n",
      " 44%|████▍     | 35/79 [00:11<00:15,  2.90it/s]\u001b[A\n",
      " 46%|████▌     | 36/79 [00:12<00:14,  2.90it/s]\u001b[A\n",
      " 47%|████▋     | 37/79 [00:12<00:14,  2.90it/s]\u001b[A\n",
      " 48%|████▊     | 38/79 [00:12<00:14,  2.90it/s]\u001b[A\n",
      " 49%|████▉     | 39/79 [00:13<00:13,  2.90it/s]\u001b[A\n",
      " 51%|█████     | 40/79 [00:13<00:13,  2.91it/s]\u001b[A\n",
      " 52%|█████▏    | 41/79 [00:13<00:13,  2.90it/s]\u001b[A\n",
      " 53%|█████▎    | 42/79 [00:14<00:12,  2.91it/s]\u001b[A\n",
      " 54%|█████▍    | 43/79 [00:14<00:12,  2.91it/s]\u001b[A\n",
      " 56%|█████▌    | 44/79 [00:14<00:12,  2.90it/s]\u001b[A\n",
      " 57%|█████▋    | 45/79 [00:15<00:11,  2.91it/s]\u001b[A\n",
      " 58%|█████▊    | 46/79 [00:15<00:11,  2.92it/s]\u001b[A\n",
      " 59%|█████▉    | 47/79 [00:15<00:11,  2.90it/s]\u001b[A\n",
      " 61%|██████    | 48/79 [00:16<00:10,  2.91it/s]\u001b[A\n",
      " 62%|██████▏   | 49/79 [00:16<00:10,  2.91it/s]\u001b[A\n",
      " 63%|██████▎   | 50/79 [00:16<00:09,  2.91it/s]\u001b[A\n",
      " 65%|██████▍   | 51/79 [00:17<00:09,  2.90it/s]\u001b[A\n",
      " 66%|██████▌   | 52/79 [00:17<00:09,  2.91it/s]\u001b[A\n",
      " 67%|██████▋   | 53/79 [00:17<00:08,  2.91it/s]\u001b[A\n",
      " 68%|██████▊   | 54/79 [00:18<00:08,  2.91it/s]\u001b[A\n",
      " 70%|██████▉   | 55/79 [00:18<00:08,  2.91it/s]\u001b[A\n",
      " 71%|███████   | 56/79 [00:18<00:07,  2.90it/s]\u001b[A\n",
      " 72%|███████▏  | 57/79 [00:19<00:07,  2.90it/s]\u001b[A\n",
      " 73%|███████▎  | 58/79 [00:19<00:07,  2.91it/s]\u001b[A\n",
      " 75%|███████▍  | 59/79 [00:19<00:06,  2.91it/s]\u001b[A\n",
      " 76%|███████▌  | 60/79 [00:20<00:06,  2.90it/s]\u001b[A\n",
      " 77%|███████▋  | 61/79 [00:20<00:06,  2.91it/s]\u001b[A\n",
      " 78%|███████▊  | 62/79 [00:20<00:05,  2.91it/s]\u001b[A\n",
      " 80%|███████▉  | 63/79 [00:21<00:05,  2.91it/s]\u001b[A\n",
      " 81%|████████  | 64/79 [00:21<00:05,  2.92it/s]\u001b[A\n",
      " 82%|████████▏ | 65/79 [00:22<00:04,  2.91it/s]\u001b[A\n",
      " 84%|████████▎ | 66/79 [00:22<00:04,  2.90it/s]\u001b[A\n",
      " 85%|████████▍ | 67/79 [00:22<00:04,  2.91it/s]\u001b[A\n",
      " 86%|████████▌ | 68/79 [00:23<00:03,  2.91it/s]\u001b[A\n",
      " 87%|████████▋ | 69/79 [00:23<00:03,  2.90it/s]\u001b[A\n",
      " 89%|████████▊ | 70/79 [00:23<00:03,  2.91it/s]\u001b[A\n",
      " 90%|████████▉ | 71/79 [00:24<00:02,  2.91it/s]\u001b[A\n",
      " 91%|█████████ | 72/79 [00:24<00:02,  2.91it/s]\u001b[A\n",
      " 92%|█████████▏| 73/79 [00:24<00:02,  2.91it/s]\u001b[A\n",
      " 94%|█████████▎| 74/79 [00:25<00:01,  2.88it/s]\u001b[A\n",
      " 95%|█████████▍| 75/79 [00:25<00:01,  2.88it/s]\u001b[A\n",
      " 96%|█████████▌| 76/79 [00:25<00:01,  2.88it/s]\u001b[A\n",
      " 97%|█████████▋| 77/79 [00:26<00:00,  2.88it/s]\u001b[A\n",
      "                                                    \n",
      "  8%|▊         | 784/9800 [15:06<1:59:45,  1.25it/s]\n",
      "100%|██████████| 79/79 [00:26<00:00,  2.97it/s]\u001b[A\n",
      "                                               \u001b[A"
     ]
    },
    {
     "name": "stdout",
     "output_type": "stream",
     "text": [
      "{'eval_loss': 3.444812536239624, 'eval_accuracy': 0.1913, 'eval_runtime': 26.9594, 'eval_samples_per_second': 370.928, 'eval_steps_per_second': 2.93, 'epoch': 8.0}\n"
     ]
    },
    {
     "name": "stderr",
     "output_type": "stream",
     "text": [
      "  8%|▊         | 790/9800 [15:13<5:44:11,  2.29s/it] "
     ]
    },
    {
     "name": "stdout",
     "output_type": "stream",
     "text": [
      "{'loss': 3.2356, 'grad_norm': 13.136945724487305, 'learning_rate': 1.838775510204082e-05, 'epoch': 8.06}\n"
     ]
    },
    {
     "name": "stderr",
     "output_type": "stream",
     "text": [
      "  8%|▊         | 800/9800 [15:22<2:19:08,  1.08it/s]"
     ]
    },
    {
     "name": "stdout",
     "output_type": "stream",
     "text": [
      "{'loss': 3.1342, 'grad_norm': 10.461319923400879, 'learning_rate': 1.836734693877551e-05, 'epoch': 8.16}\n"
     ]
    },
    {
     "name": "stderr",
     "output_type": "stream",
     "text": [
      "  8%|▊         | 810/9800 [15:31<2:13:29,  1.12it/s]"
     ]
    },
    {
     "name": "stdout",
     "output_type": "stream",
     "text": [
      "{'loss': 3.1758, 'grad_norm': 13.815652847290039, 'learning_rate': 1.8346938775510206e-05, 'epoch': 8.27}\n"
     ]
    },
    {
     "name": "stderr",
     "output_type": "stream",
     "text": [
      "  8%|▊         | 820/9800 [15:40<2:12:52,  1.13it/s]"
     ]
    },
    {
     "name": "stdout",
     "output_type": "stream",
     "text": [
      "{'loss': 3.1596, 'grad_norm': 13.750873565673828, 'learning_rate': 1.8326530612244898e-05, 'epoch': 8.37}\n"
     ]
    },
    {
     "name": "stderr",
     "output_type": "stream",
     "text": [
      "  8%|▊         | 830/9800 [15:48<2:11:52,  1.13it/s]"
     ]
    },
    {
     "name": "stdout",
     "output_type": "stream",
     "text": [
      "{'loss': 3.2153, 'grad_norm': 11.072768211364746, 'learning_rate': 1.8306122448979593e-05, 'epoch': 8.47}\n"
     ]
    },
    {
     "name": "stderr",
     "output_type": "stream",
     "text": [
      "  9%|▊         | 840/9800 [15:57<2:12:20,  1.13it/s]"
     ]
    },
    {
     "name": "stdout",
     "output_type": "stream",
     "text": [
      "{'loss': 3.1945, 'grad_norm': 13.799525260925293, 'learning_rate': 1.8285714285714288e-05, 'epoch': 8.57}\n"
     ]
    },
    {
     "name": "stderr",
     "output_type": "stream",
     "text": [
      "  9%|▊         | 850/9800 [16:06<2:12:40,  1.12it/s]"
     ]
    },
    {
     "name": "stdout",
     "output_type": "stream",
     "text": [
      "{'loss': 3.2081, 'grad_norm': 13.970304489135742, 'learning_rate': 1.826530612244898e-05, 'epoch': 8.67}\n"
     ]
    },
    {
     "name": "stderr",
     "output_type": "stream",
     "text": [
      "  9%|▉         | 860/9800 [16:15<2:12:50,  1.12it/s]"
     ]
    },
    {
     "name": "stdout",
     "output_type": "stream",
     "text": [
      "{'loss': 3.1632, 'grad_norm': 11.999298095703125, 'learning_rate': 1.8244897959183674e-05, 'epoch': 8.78}\n"
     ]
    },
    {
     "name": "stderr",
     "output_type": "stream",
     "text": [
      "  9%|▉         | 870/9800 [16:24<2:11:47,  1.13it/s]"
     ]
    },
    {
     "name": "stdout",
     "output_type": "stream",
     "text": [
      "{'loss': 3.1897, 'grad_norm': 13.501089096069336, 'learning_rate': 1.822448979591837e-05, 'epoch': 8.88}\n"
     ]
    },
    {
     "name": "stderr",
     "output_type": "stream",
     "text": [
      "  9%|▉         | 880/9800 [16:33<2:11:10,  1.13it/s]"
     ]
    },
    {
     "name": "stdout",
     "output_type": "stream",
     "text": [
      "{'loss': 3.1558, 'grad_norm': 14.603476524353027, 'learning_rate': 1.8204081632653064e-05, 'epoch': 8.98}\n"
     ]
    },
    {
     "name": "stderr",
     "output_type": "stream",
     "text": [
      "  9%|▉         | 882/9800 [16:34<1:57:55,  1.26it/s]\n",
      "  0%|          | 0/79 [00:00<?, ?it/s]\u001b[A\n",
      "  3%|▎         | 2/79 [00:00<00:13,  5.91it/s]\u001b[A\n",
      "  4%|▍         | 3/79 [00:00<00:18,  4.12it/s]\u001b[A\n",
      "  5%|▌         | 4/79 [00:01<00:20,  3.60it/s]\u001b[A\n",
      "  6%|▋         | 5/79 [00:01<00:22,  3.34it/s]\u001b[A\n",
      "  8%|▊         | 6/79 [00:01<00:22,  3.17it/s]\u001b[A\n",
      "  9%|▉         | 7/79 [00:02<00:23,  3.08it/s]\u001b[A\n",
      " 10%|█         | 8/79 [00:02<00:23,  3.02it/s]\u001b[A\n",
      " 11%|█▏        | 9/79 [00:02<00:23,  2.99it/s]\u001b[A\n",
      " 13%|█▎        | 10/79 [00:03<00:23,  2.96it/s]\u001b[A\n",
      " 14%|█▍        | 11/79 [00:03<00:23,  2.95it/s]\u001b[A\n",
      " 15%|█▌        | 12/79 [00:03<00:22,  2.94it/s]\u001b[A\n",
      " 16%|█▋        | 13/79 [00:04<00:22,  2.93it/s]\u001b[A\n",
      " 18%|█▊        | 14/79 [00:04<00:22,  2.92it/s]\u001b[A\n",
      " 19%|█▉        | 15/79 [00:04<00:21,  2.92it/s]\u001b[A\n",
      " 20%|██        | 16/79 [00:05<00:21,  2.92it/s]\u001b[A\n",
      " 22%|██▏       | 17/79 [00:05<00:21,  2.91it/s]\u001b[A\n",
      " 23%|██▎       | 18/79 [00:05<00:20,  2.91it/s]\u001b[A\n",
      " 24%|██▍       | 19/79 [00:06<00:20,  2.92it/s]\u001b[A\n",
      " 25%|██▌       | 20/79 [00:06<00:20,  2.92it/s]\u001b[A\n",
      " 27%|██▋       | 21/79 [00:06<00:19,  2.93it/s]\u001b[A\n",
      " 28%|██▊       | 22/79 [00:07<00:19,  2.93it/s]\u001b[A\n",
      " 29%|██▉       | 23/79 [00:07<00:19,  2.92it/s]\u001b[A\n",
      " 30%|███       | 24/79 [00:07<00:18,  2.92it/s]\u001b[A\n",
      " 32%|███▏      | 25/79 [00:08<00:18,  2.92it/s]\u001b[A\n",
      " 33%|███▎      | 26/79 [00:08<00:18,  2.92it/s]\u001b[A\n",
      " 34%|███▍      | 27/79 [00:08<00:17,  2.91it/s]\u001b[A\n",
      " 35%|███▌      | 28/79 [00:09<00:17,  2.91it/s]\u001b[A\n",
      " 37%|███▋      | 29/79 [00:09<00:17,  2.91it/s]\u001b[A\n",
      " 38%|███▊      | 30/79 [00:09<00:16,  2.90it/s]\u001b[A\n",
      " 39%|███▉      | 31/79 [00:10<00:16,  2.90it/s]\u001b[A\n",
      " 41%|████      | 32/79 [00:10<00:16,  2.91it/s]\u001b[A\n",
      " 42%|████▏     | 33/79 [00:10<00:15,  2.91it/s]\u001b[A\n",
      " 43%|████▎     | 34/79 [00:11<00:15,  2.90it/s]\u001b[A\n",
      " 44%|████▍     | 35/79 [00:11<00:15,  2.91it/s]\u001b[A\n",
      " 46%|████▌     | 36/79 [00:12<00:14,  2.90it/s]\u001b[A\n",
      " 47%|████▋     | 37/79 [00:12<00:14,  2.90it/s]\u001b[A\n",
      " 48%|████▊     | 38/79 [00:12<00:14,  2.90it/s]\u001b[A\n",
      " 49%|████▉     | 39/79 [00:13<00:13,  2.91it/s]\u001b[A\n",
      " 51%|█████     | 40/79 [00:13<00:13,  2.90it/s]\u001b[A\n",
      " 52%|█████▏    | 41/79 [00:13<00:13,  2.90it/s]\u001b[A\n",
      " 53%|█████▎    | 42/79 [00:14<00:12,  2.90it/s]\u001b[A\n",
      " 54%|█████▍    | 43/79 [00:14<00:12,  2.90it/s]\u001b[A\n",
      " 56%|█████▌    | 44/79 [00:14<00:12,  2.90it/s]\u001b[A\n",
      " 57%|█████▋    | 45/79 [00:15<00:11,  2.91it/s]\u001b[A\n",
      " 58%|█████▊    | 46/79 [00:15<00:11,  2.91it/s]\u001b[A\n",
      " 59%|█████▉    | 47/79 [00:15<00:10,  2.91it/s]\u001b[A\n",
      " 61%|██████    | 48/79 [00:16<00:10,  2.90it/s]\u001b[A\n",
      " 62%|██████▏   | 49/79 [00:16<00:10,  2.91it/s]\u001b[A\n",
      " 63%|██████▎   | 50/79 [00:16<00:09,  2.91it/s]\u001b[A\n",
      " 65%|██████▍   | 51/79 [00:17<00:09,  2.91it/s]\u001b[A\n",
      " 66%|██████▌   | 52/79 [00:17<00:09,  2.91it/s]\u001b[A\n",
      " 67%|██████▋   | 53/79 [00:17<00:08,  2.91it/s]\u001b[A\n",
      " 68%|██████▊   | 54/79 [00:18<00:08,  2.91it/s]\u001b[A\n",
      " 70%|██████▉   | 55/79 [00:18<00:08,  2.91it/s]\u001b[A\n",
      " 71%|███████   | 56/79 [00:18<00:07,  2.90it/s]\u001b[A\n",
      " 72%|███████▏  | 57/79 [00:19<00:07,  2.90it/s]\u001b[A\n",
      " 73%|███████▎  | 58/79 [00:19<00:07,  2.90it/s]\u001b[A\n",
      " 75%|███████▍  | 59/79 [00:19<00:06,  2.91it/s]\u001b[A\n",
      " 76%|███████▌  | 60/79 [00:20<00:06,  2.91it/s]\u001b[A\n",
      " 77%|███████▋  | 61/79 [00:20<00:06,  2.91it/s]\u001b[A\n",
      " 78%|███████▊  | 62/79 [00:20<00:05,  2.91it/s]\u001b[A\n",
      " 80%|███████▉  | 63/79 [00:21<00:05,  2.90it/s]\u001b[A\n",
      " 81%|████████  | 64/79 [00:21<00:05,  2.91it/s]\u001b[A\n",
      " 82%|████████▏ | 65/79 [00:21<00:04,  2.92it/s]\u001b[A\n",
      " 84%|████████▎ | 66/79 [00:22<00:04,  2.91it/s]\u001b[A\n",
      " 85%|████████▍ | 67/79 [00:22<00:04,  2.90it/s]\u001b[A\n",
      " 86%|████████▌ | 68/79 [00:23<00:03,  2.91it/s]\u001b[A\n",
      " 87%|████████▋ | 69/79 [00:23<00:03,  2.90it/s]\u001b[A\n",
      " 89%|████████▊ | 70/79 [00:23<00:03,  2.90it/s]\u001b[A\n",
      " 90%|████████▉ | 71/79 [00:24<00:02,  2.91it/s]\u001b[A\n",
      " 91%|█████████ | 72/79 [00:24<00:02,  2.90it/s]\u001b[A\n",
      " 92%|█████████▏| 73/79 [00:24<00:02,  2.91it/s]\u001b[A\n",
      " 94%|█████████▎| 74/79 [00:25<00:01,  2.91it/s]\u001b[A\n",
      " 95%|█████████▍| 75/79 [00:25<00:01,  2.91it/s]\u001b[A\n",
      " 96%|█████████▌| 76/79 [00:25<00:01,  2.90it/s]\u001b[A\n",
      " 97%|█████████▋| 77/79 [00:26<00:00,  2.90it/s]\u001b[A\n",
      "                                                    \n",
      "  9%|▉         | 882/9800 [17:01<1:57:55,  1.26it/s]\n",
      "100%|██████████| 79/79 [00:26<00:00,  2.96it/s]\u001b[A\n",
      "                                               \u001b[A"
     ]
    },
    {
     "name": "stdout",
     "output_type": "stream",
     "text": [
      "{'eval_loss': 3.393794059753418, 'eval_accuracy': 0.2011, 'eval_runtime': 26.9178, 'eval_samples_per_second': 371.502, 'eval_steps_per_second': 2.935, 'epoch': 9.0}\n"
     ]
    },
    {
     "name": "stderr",
     "output_type": "stream",
     "text": [
      "  9%|▉         | 890/9800 [17:09<3:53:33,  1.57s/it] "
     ]
    },
    {
     "name": "stdout",
     "output_type": "stream",
     "text": [
      "{'loss': 3.0901, 'grad_norm': 13.279422760009766, 'learning_rate': 1.8183673469387756e-05, 'epoch': 9.08}\n"
     ]
    },
    {
     "name": "stderr",
     "output_type": "stream",
     "text": [
      "  9%|▉         | 900/9800 [17:18<2:14:17,  1.10it/s]"
     ]
    },
    {
     "name": "stdout",
     "output_type": "stream",
     "text": [
      "{'loss': 3.0563, 'grad_norm': 12.778709411621094, 'learning_rate': 1.816326530612245e-05, 'epoch': 9.18}\n"
     ]
    },
    {
     "name": "stderr",
     "output_type": "stream",
     "text": [
      "  9%|▉         | 910/9800 [17:27<2:11:31,  1.13it/s]"
     ]
    },
    {
     "name": "stdout",
     "output_type": "stream",
     "text": [
      "{'loss': 3.0988, 'grad_norm': 17.936357498168945, 'learning_rate': 1.8142857142857146e-05, 'epoch': 9.29}\n"
     ]
    },
    {
     "name": "stderr",
     "output_type": "stream",
     "text": [
      "  9%|▉         | 920/9800 [17:36<2:11:26,  1.13it/s]"
     ]
    },
    {
     "name": "stdout",
     "output_type": "stream",
     "text": [
      "{'loss': 3.0419, 'grad_norm': 16.306617736816406, 'learning_rate': 1.8122448979591837e-05, 'epoch': 9.39}\n"
     ]
    },
    {
     "name": "stderr",
     "output_type": "stream",
     "text": [
      "  9%|▉         | 930/9800 [17:45<2:11:04,  1.13it/s]"
     ]
    },
    {
     "name": "stdout",
     "output_type": "stream",
     "text": [
      "{'loss': 3.022, 'grad_norm': 14.549256324768066, 'learning_rate': 1.8102040816326532e-05, 'epoch': 9.49}\n"
     ]
    },
    {
     "name": "stderr",
     "output_type": "stream",
     "text": [
      " 10%|▉         | 940/9800 [17:54<2:10:30,  1.13it/s]"
     ]
    },
    {
     "name": "stdout",
     "output_type": "stream",
     "text": [
      "{'loss': 3.0823, 'grad_norm': 12.742327690124512, 'learning_rate': 1.8081632653061224e-05, 'epoch': 9.59}\n"
     ]
    },
    {
     "name": "stderr",
     "output_type": "stream",
     "text": [
      " 10%|▉         | 950/9800 [18:02<2:10:39,  1.13it/s]"
     ]
    },
    {
     "name": "stdout",
     "output_type": "stream",
     "text": [
      "{'loss': 3.0356, 'grad_norm': 14.074374198913574, 'learning_rate': 1.806122448979592e-05, 'epoch': 9.69}\n"
     ]
    },
    {
     "name": "stderr",
     "output_type": "stream",
     "text": [
      " 10%|▉         | 960/9800 [18:11<2:11:22,  1.12it/s]"
     ]
    },
    {
     "name": "stdout",
     "output_type": "stream",
     "text": [
      "{'loss': 3.0685, 'grad_norm': 17.87135887145996, 'learning_rate': 1.8040816326530614e-05, 'epoch': 9.8}\n"
     ]
    },
    {
     "name": "stderr",
     "output_type": "stream",
     "text": [
      " 10%|▉         | 970/9800 [18:20<2:11:03,  1.12it/s]"
     ]
    },
    {
     "name": "stdout",
     "output_type": "stream",
     "text": [
      "{'loss': 3.1414, 'grad_norm': 15.94182014465332, 'learning_rate': 1.802040816326531e-05, 'epoch': 9.9}\n"
     ]
    },
    {
     "name": "stderr",
     "output_type": "stream",
     "text": [
      " 10%|█         | 980/9800 [18:29<1:56:50,  1.26it/s]"
     ]
    },
    {
     "name": "stdout",
     "output_type": "stream",
     "text": [
      "{'loss': 3.1401, 'grad_norm': 18.09261131286621, 'learning_rate': 1.8e-05, 'epoch': 10.0}\n"
     ]
    },
    {
     "name": "stderr",
     "output_type": "stream",
     "text": [
      "\n",
      "  0%|          | 0/79 [00:00<?, ?it/s]\u001b[A\n",
      "  3%|▎         | 2/79 [00:00<00:12,  5.98it/s]\u001b[A\n",
      "  4%|▍         | 3/79 [00:00<00:18,  4.11it/s]\u001b[A\n",
      "  5%|▌         | 4/79 [00:01<00:20,  3.58it/s]\u001b[A\n",
      "  6%|▋         | 5/79 [00:01<00:22,  3.34it/s]\u001b[A\n",
      "  8%|▊         | 6/79 [00:01<00:22,  3.19it/s]\u001b[A\n",
      "  9%|▉         | 7/79 [00:02<00:23,  3.11it/s]\u001b[A\n",
      " 10%|█         | 8/79 [00:02<00:23,  3.06it/s]\u001b[A\n",
      " 11%|█▏        | 9/79 [00:02<00:23,  3.02it/s]\u001b[A\n",
      " 13%|█▎        | 10/79 [00:03<00:23,  2.98it/s]\u001b[A\n",
      " 14%|█▍        | 11/79 [00:03<00:22,  2.96it/s]\u001b[A\n",
      " 15%|█▌        | 12/79 [00:03<00:22,  2.96it/s]\u001b[A\n",
      " 16%|█▋        | 13/79 [00:04<00:22,  2.95it/s]\u001b[A\n",
      " 18%|█▊        | 14/79 [00:04<00:21,  2.96it/s]\u001b[A\n",
      " 19%|█▉        | 15/79 [00:04<00:21,  2.95it/s]\u001b[A\n",
      " 20%|██        | 16/79 [00:05<00:21,  2.93it/s]\u001b[A\n",
      " 22%|██▏       | 17/79 [00:05<00:21,  2.93it/s]\u001b[A\n",
      " 23%|██▎       | 18/79 [00:05<00:20,  2.93it/s]\u001b[A\n",
      " 24%|██▍       | 19/79 [00:06<00:20,  2.93it/s]\u001b[A\n",
      " 25%|██▌       | 20/79 [00:06<00:20,  2.93it/s]\u001b[A\n",
      " 27%|██▋       | 21/79 [00:06<00:19,  2.94it/s]\u001b[A\n",
      " 28%|██▊       | 22/79 [00:07<00:19,  2.93it/s]\u001b[A\n",
      " 29%|██▉       | 23/79 [00:07<00:19,  2.92it/s]\u001b[A\n",
      " 30%|███       | 24/79 [00:07<00:18,  2.93it/s]\u001b[A\n",
      " 32%|███▏      | 25/79 [00:08<00:18,  2.92it/s]\u001b[A\n",
      " 33%|███▎      | 26/79 [00:08<00:18,  2.91it/s]\u001b[A\n",
      " 34%|███▍      | 27/79 [00:08<00:17,  2.92it/s]\u001b[A\n",
      " 35%|███▌      | 28/79 [00:09<00:17,  2.92it/s]\u001b[A\n",
      " 37%|███▋      | 29/79 [00:09<00:17,  2.91it/s]\u001b[A\n",
      " 38%|███▊      | 30/79 [00:09<00:16,  2.91it/s]\u001b[A\n",
      " 39%|███▉      | 31/79 [00:10<00:16,  2.90it/s]\u001b[A\n",
      " 41%|████      | 32/79 [00:10<00:16,  2.91it/s]\u001b[A\n",
      " 42%|████▏     | 33/79 [00:10<00:15,  2.91it/s]\u001b[A\n",
      " 43%|████▎     | 34/79 [00:11<00:15,  2.91it/s]\u001b[A\n",
      " 44%|████▍     | 35/79 [00:11<00:15,  2.91it/s]\u001b[A\n",
      " 46%|████▌     | 36/79 [00:11<00:14,  2.92it/s]\u001b[A\n",
      " 47%|████▋     | 37/79 [00:12<00:14,  2.91it/s]\u001b[A\n",
      " 48%|████▊     | 38/79 [00:12<00:14,  2.92it/s]\u001b[A\n",
      " 49%|████▉     | 39/79 [00:13<00:13,  2.91it/s]\u001b[A\n",
      " 51%|█████     | 40/79 [00:13<00:13,  2.90it/s]\u001b[A\n",
      " 52%|█████▏    | 41/79 [00:13<00:13,  2.90it/s]\u001b[A\n",
      " 53%|█████▎    | 42/79 [00:14<00:12,  2.91it/s]\u001b[A\n",
      " 54%|█████▍    | 43/79 [00:14<00:12,  2.90it/s]\u001b[A\n",
      " 56%|█████▌    | 44/79 [00:14<00:12,  2.90it/s]\u001b[A\n",
      " 57%|█████▋    | 45/79 [00:15<00:11,  2.90it/s]\u001b[A\n",
      " 58%|█████▊    | 46/79 [00:15<00:11,  2.90it/s]\u001b[A\n",
      " 59%|█████▉    | 47/79 [00:15<00:11,  2.90it/s]\u001b[A\n",
      " 61%|██████    | 48/79 [00:16<00:10,  2.91it/s]\u001b[A\n",
      " 62%|██████▏   | 49/79 [00:16<00:10,  2.90it/s]\u001b[A\n",
      " 63%|██████▎   | 50/79 [00:16<00:09,  2.90it/s]\u001b[A\n",
      " 65%|██████▍   | 51/79 [00:17<00:09,  2.91it/s]\u001b[A\n",
      " 66%|██████▌   | 52/79 [00:17<00:09,  2.92it/s]\u001b[A\n",
      " 67%|██████▋   | 53/79 [00:17<00:08,  2.91it/s]\u001b[A\n",
      " 68%|██████▊   | 54/79 [00:18<00:08,  2.91it/s]\u001b[A\n",
      " 70%|██████▉   | 55/79 [00:18<00:08,  2.91it/s]\u001b[A\n",
      " 71%|███████   | 56/79 [00:18<00:07,  2.91it/s]\u001b[A\n",
      " 72%|███████▏  | 57/79 [00:19<00:07,  2.91it/s]\u001b[A\n",
      " 73%|███████▎  | 58/79 [00:19<00:07,  2.91it/s]\u001b[A\n",
      " 75%|███████▍  | 59/79 [00:19<00:06,  2.90it/s]\u001b[A\n",
      " 76%|███████▌  | 60/79 [00:20<00:06,  2.90it/s]\u001b[A\n",
      " 77%|███████▋  | 61/79 [00:20<00:06,  2.91it/s]\u001b[A\n",
      " 78%|███████▊  | 62/79 [00:20<00:05,  2.91it/s]\u001b[A\n",
      " 80%|███████▉  | 63/79 [00:21<00:05,  2.91it/s]\u001b[A\n",
      " 81%|████████  | 64/79 [00:21<00:05,  2.91it/s]\u001b[A\n",
      " 82%|████████▏ | 65/79 [00:21<00:04,  2.90it/s]\u001b[A\n",
      " 84%|████████▎ | 66/79 [00:22<00:04,  2.90it/s]\u001b[A\n",
      " 85%|████████▍ | 67/79 [00:22<00:04,  2.90it/s]\u001b[A\n",
      " 86%|████████▌ | 68/79 [00:22<00:03,  2.90it/s]\u001b[A\n",
      " 87%|████████▋ | 69/79 [00:23<00:03,  2.90it/s]\u001b[A\n",
      " 89%|████████▊ | 70/79 [00:23<00:03,  2.90it/s]\u001b[A\n",
      " 90%|████████▉ | 71/79 [00:24<00:02,  2.90it/s]\u001b[A\n",
      " 91%|█████████ | 72/79 [00:24<00:02,  2.90it/s]\u001b[A\n",
      " 92%|█████████▏| 73/79 [00:24<00:02,  2.90it/s]\u001b[A\n",
      " 94%|█████████▎| 74/79 [00:25<00:01,  2.90it/s]\u001b[A\n",
      " 95%|█████████▍| 75/79 [00:25<00:01,  2.91it/s]\u001b[A\n",
      " 96%|█████████▌| 76/79 [00:25<00:01,  2.91it/s]\u001b[A\n",
      " 97%|█████████▋| 77/79 [00:26<00:00,  2.90it/s]\u001b[A\n",
      "                                                    \n",
      " 10%|█         | 980/9800 [18:56<1:56:50,  1.26it/s]\n",
      "100%|██████████| 79/79 [00:26<00:00,  2.96it/s]\u001b[A\n",
      "                                               \u001b[A"
     ]
    },
    {
     "name": "stdout",
     "output_type": "stream",
     "text": [
      "{'eval_loss': 3.337165594100952, 'eval_accuracy': 0.2153, 'eval_runtime': 26.8753, 'eval_samples_per_second': 372.089, 'eval_steps_per_second': 2.94, 'epoch': 10.0}\n"
     ]
    },
    {
     "name": "stderr",
     "output_type": "stream",
     "text": [
      " 10%|█         | 990/9800 [19:06<3:00:00,  1.23s/it] "
     ]
    },
    {
     "name": "stdout",
     "output_type": "stream",
     "text": [
      "{'loss': 2.9836, 'grad_norm': 14.346009254455566, 'learning_rate': 1.7979591836734695e-05, 'epoch': 10.1}\n"
     ]
    },
    {
     "name": "stderr",
     "output_type": "stream",
     "text": [
      " 10%|█         | 1000/9800 [19:15<2:12:04,  1.11it/s]"
     ]
    },
    {
     "name": "stdout",
     "output_type": "stream",
     "text": [
      "{'loss': 2.9448, 'grad_norm': 16.042539596557617, 'learning_rate': 1.795918367346939e-05, 'epoch': 10.2}\n"
     ]
    },
    {
     "name": "stderr",
     "output_type": "stream",
     "text": [
      " 10%|█         | 1010/9800 [19:23<2:09:38,  1.13it/s]"
     ]
    },
    {
     "name": "stdout",
     "output_type": "stream",
     "text": [
      "{'loss': 3.0075, 'grad_norm': 14.315620422363281, 'learning_rate': 1.7938775510204082e-05, 'epoch': 10.31}\n"
     ]
    },
    {
     "name": "stderr",
     "output_type": "stream",
     "text": [
      " 10%|█         | 1020/9800 [19:32<2:09:47,  1.13it/s]"
     ]
    },
    {
     "name": "stdout",
     "output_type": "stream",
     "text": [
      "{'loss': 2.9901, 'grad_norm': 14.543495178222656, 'learning_rate': 1.7918367346938777e-05, 'epoch': 10.41}\n"
     ]
    },
    {
     "name": "stderr",
     "output_type": "stream",
     "text": [
      " 11%|█         | 1030/9800 [19:41<2:10:00,  1.12it/s]"
     ]
    },
    {
     "name": "stdout",
     "output_type": "stream",
     "text": [
      "{'loss': 2.9424, 'grad_norm': 14.232149124145508, 'learning_rate': 1.789795918367347e-05, 'epoch': 10.51}\n"
     ]
    },
    {
     "name": "stderr",
     "output_type": "stream",
     "text": [
      " 11%|█         | 1040/9800 [19:50<2:10:01,  1.12it/s]"
     ]
    },
    {
     "name": "stdout",
     "output_type": "stream",
     "text": [
      "{'loss': 2.9863, 'grad_norm': 14.715389251708984, 'learning_rate': 1.7877551020408164e-05, 'epoch': 10.61}\n"
     ]
    },
    {
     "name": "stderr",
     "output_type": "stream",
     "text": [
      " 11%|█         | 1050/9800 [19:59<2:09:13,  1.13it/s]"
     ]
    },
    {
     "name": "stdout",
     "output_type": "stream",
     "text": [
      "{'loss': 3.0372, 'grad_norm': 15.361346244812012, 'learning_rate': 1.785714285714286e-05, 'epoch': 10.71}\n"
     ]
    },
    {
     "name": "stderr",
     "output_type": "stream",
     "text": [
      " 11%|█         | 1060/9800 [20:08<2:08:51,  1.13it/s]"
     ]
    },
    {
     "name": "stdout",
     "output_type": "stream",
     "text": [
      "{'loss': 2.9896, 'grad_norm': 13.626683235168457, 'learning_rate': 1.7836734693877553e-05, 'epoch': 10.82}\n"
     ]
    },
    {
     "name": "stderr",
     "output_type": "stream",
     "text": [
      " 11%|█         | 1070/9800 [20:17<2:09:34,  1.12it/s]"
     ]
    },
    {
     "name": "stdout",
     "output_type": "stream",
     "text": [
      "{'loss': 2.9707, 'grad_norm': 15.413116455078125, 'learning_rate': 1.781632653061225e-05, 'epoch': 10.92}\n"
     ]
    },
    {
     "name": "stderr",
     "output_type": "stream",
     "text": [
      " 11%|█         | 1078/9800 [20:24<1:56:17,  1.25it/s]\n",
      "  0%|          | 0/79 [00:00<?, ?it/s]\u001b[A\n",
      "  3%|▎         | 2/79 [00:00<00:13,  5.90it/s]\u001b[A\n",
      "  4%|▍         | 3/79 [00:00<00:18,  4.05it/s]\u001b[A\n",
      "  5%|▌         | 4/79 [00:01<00:21,  3.56it/s]\u001b[A\n",
      "  6%|▋         | 5/79 [00:01<00:22,  3.31it/s]\u001b[A\n",
      "  8%|▊         | 6/79 [00:01<00:23,  3.14it/s]\u001b[A\n",
      "  9%|▉         | 7/79 [00:02<00:23,  3.07it/s]\u001b[A\n",
      " 10%|█         | 8/79 [00:02<00:23,  3.03it/s]\u001b[A\n",
      " 11%|█▏        | 9/79 [00:02<00:23,  2.98it/s]\u001b[A\n",
      " 13%|█▎        | 10/79 [00:03<00:23,  2.96it/s]\u001b[A\n",
      " 14%|█▍        | 11/79 [00:03<00:23,  2.95it/s]\u001b[A\n",
      " 15%|█▌        | 12/79 [00:03<00:22,  2.93it/s]\u001b[A\n",
      " 16%|█▋        | 13/79 [00:04<00:22,  2.92it/s]\u001b[A\n",
      " 18%|█▊        | 14/79 [00:04<00:22,  2.92it/s]\u001b[A\n",
      " 19%|█▉        | 15/79 [00:04<00:21,  2.91it/s]\u001b[A\n",
      " 20%|██        | 16/79 [00:05<00:21,  2.91it/s]\u001b[A\n",
      " 22%|██▏       | 17/79 [00:05<00:21,  2.91it/s]\u001b[A\n",
      " 23%|██▎       | 18/79 [00:05<00:20,  2.91it/s]\u001b[A\n",
      " 24%|██▍       | 19/79 [00:06<00:20,  2.91it/s]\u001b[A\n",
      " 25%|██▌       | 20/79 [00:06<00:20,  2.91it/s]\u001b[A\n",
      " 27%|██▋       | 21/79 [00:06<00:19,  2.91it/s]\u001b[A\n",
      " 28%|██▊       | 22/79 [00:07<00:19,  2.91it/s]\u001b[A\n",
      " 29%|██▉       | 23/79 [00:07<00:19,  2.90it/s]\u001b[A\n",
      " 30%|███       | 24/79 [00:07<00:18,  2.91it/s]\u001b[A\n",
      " 32%|███▏      | 25/79 [00:08<00:18,  2.90it/s]\u001b[A\n",
      " 33%|███▎      | 26/79 [00:08<00:18,  2.91it/s]\u001b[A\n",
      " 34%|███▍      | 27/79 [00:08<00:17,  2.91it/s]\u001b[A\n",
      " 35%|███▌      | 28/79 [00:09<00:17,  2.91it/s]\u001b[A\n",
      " 37%|███▋      | 29/79 [00:09<00:17,  2.92it/s]\u001b[A\n",
      " 38%|███▊      | 30/79 [00:09<00:16,  2.92it/s]\u001b[A\n",
      " 39%|███▉      | 31/79 [00:10<00:16,  2.91it/s]\u001b[A\n",
      " 41%|████      | 32/79 [00:10<00:16,  2.91it/s]\u001b[A\n",
      " 42%|████▏     | 33/79 [00:11<00:15,  2.91it/s]\u001b[A\n",
      " 43%|████▎     | 34/79 [00:11<00:15,  2.91it/s]\u001b[A\n",
      " 44%|████▍     | 35/79 [00:11<00:15,  2.91it/s]\u001b[A\n",
      " 46%|████▌     | 36/79 [00:12<00:14,  2.90it/s]\u001b[A\n",
      " 47%|████▋     | 37/79 [00:12<00:14,  2.91it/s]\u001b[A\n",
      " 48%|████▊     | 38/79 [00:12<00:14,  2.91it/s]\u001b[A\n",
      " 49%|████▉     | 39/79 [00:13<00:13,  2.91it/s]\u001b[A\n",
      " 51%|█████     | 40/79 [00:13<00:13,  2.91it/s]\u001b[A\n",
      " 52%|█████▏    | 41/79 [00:13<00:13,  2.90it/s]\u001b[A\n",
      " 53%|█████▎    | 42/79 [00:14<00:12,  2.91it/s]\u001b[A\n",
      " 54%|█████▍    | 43/79 [00:14<00:12,  2.91it/s]\u001b[A\n",
      " 56%|█████▌    | 44/79 [00:14<00:12,  2.90it/s]\u001b[A\n",
      " 57%|█████▋    | 45/79 [00:15<00:11,  2.91it/s]\u001b[A\n",
      " 58%|█████▊    | 46/79 [00:15<00:11,  2.91it/s]\u001b[A\n",
      " 59%|█████▉    | 47/79 [00:15<00:11,  2.90it/s]\u001b[A\n",
      " 61%|██████    | 48/79 [00:16<00:10,  2.91it/s]\u001b[A\n",
      " 62%|██████▏   | 49/79 [00:16<00:10,  2.91it/s]\u001b[A\n",
      " 63%|██████▎   | 50/79 [00:16<00:09,  2.91it/s]\u001b[A\n",
      " 65%|██████▍   | 51/79 [00:17<00:09,  2.91it/s]\u001b[A\n",
      " 66%|██████▌   | 52/79 [00:17<00:09,  2.91it/s]\u001b[A\n",
      " 67%|██████▋   | 53/79 [00:17<00:08,  2.91it/s]\u001b[A\n",
      " 68%|██████▊   | 54/79 [00:18<00:08,  2.90it/s]\u001b[A\n",
      " 70%|██████▉   | 55/79 [00:18<00:08,  2.91it/s]\u001b[A\n",
      " 71%|███████   | 56/79 [00:18<00:07,  2.90it/s]\u001b[A\n",
      " 72%|███████▏  | 57/79 [00:19<00:07,  2.91it/s]\u001b[A\n",
      " 73%|███████▎  | 58/79 [00:19<00:07,  2.91it/s]\u001b[A\n",
      " 75%|███████▍  | 59/79 [00:19<00:06,  2.91it/s]\u001b[A\n",
      " 76%|███████▌  | 60/79 [00:20<00:06,  2.90it/s]\u001b[A\n",
      " 77%|███████▋  | 61/79 [00:20<00:06,  2.90it/s]\u001b[A\n",
      " 78%|███████▊  | 62/79 [00:20<00:05,  2.90it/s]\u001b[A\n",
      " 80%|███████▉  | 63/79 [00:21<00:05,  2.90it/s]\u001b[A\n",
      " 81%|████████  | 64/79 [00:21<00:05,  2.91it/s]\u001b[A\n",
      " 82%|████████▏ | 65/79 [00:22<00:04,  2.91it/s]\u001b[A\n",
      " 84%|████████▎ | 66/79 [00:22<00:04,  2.90it/s]\u001b[A\n",
      " 85%|████████▍ | 67/79 [00:22<00:04,  2.91it/s]\u001b[A\n",
      " 86%|████████▌ | 68/79 [00:23<00:03,  2.91it/s]\u001b[A\n",
      " 87%|████████▋ | 69/79 [00:23<00:03,  2.90it/s]\u001b[A\n",
      " 89%|████████▊ | 70/79 [00:23<00:03,  2.91it/s]\u001b[A\n",
      " 90%|████████▉ | 71/79 [00:24<00:02,  2.90it/s]\u001b[A\n",
      " 91%|█████████ | 72/79 [00:24<00:02,  2.90it/s]\u001b[A\n",
      " 92%|█████████▏| 73/79 [00:24<00:02,  2.91it/s]\u001b[A\n",
      " 94%|█████████▎| 74/79 [00:25<00:01,  2.91it/s]\u001b[A\n",
      " 95%|█████████▍| 75/79 [00:25<00:01,  2.90it/s]\u001b[A\n",
      " 96%|█████████▌| 76/79 [00:25<00:01,  2.90it/s]\u001b[A\n",
      " 97%|█████████▋| 77/79 [00:26<00:00,  2.91it/s]\u001b[A\n",
      "                                                     \n",
      " 11%|█         | 1078/9800 [20:51<1:56:17,  1.25it/s]\n",
      "100%|██████████| 79/79 [00:26<00:00,  2.98it/s]\u001b[A\n",
      "                                               \u001b[A"
     ]
    },
    {
     "name": "stdout",
     "output_type": "stream",
     "text": [
      "{'eval_loss': 3.2845335006713867, 'eval_accuracy': 0.2242, 'eval_runtime': 26.9405, 'eval_samples_per_second': 371.189, 'eval_steps_per_second': 2.932, 'epoch': 11.0}\n"
     ]
    },
    {
     "name": "stderr",
     "output_type": "stream",
     "text": [
      " 11%|█         | 1080/9800 [20:53<16:19:29,  6.74s/it]"
     ]
    },
    {
     "name": "stdout",
     "output_type": "stream",
     "text": [
      "{'loss': 2.9638, 'grad_norm': 14.906319618225098, 'learning_rate': 1.779591836734694e-05, 'epoch': 11.02}\n"
     ]
    },
    {
     "name": "stderr",
     "output_type": "stream",
     "text": [
      " 11%|█         | 1090/9800 [21:02<2:32:50,  1.05s/it] "
     ]
    },
    {
     "name": "stdout",
     "output_type": "stream",
     "text": [
      "{'loss': 2.9097, 'grad_norm': 14.446052551269531, 'learning_rate': 1.7775510204081635e-05, 'epoch': 11.12}\n"
     ]
    },
    {
     "name": "stderr",
     "output_type": "stream",
     "text": [
      " 11%|█         | 1100/9800 [21:11<2:09:12,  1.12it/s]"
     ]
    },
    {
     "name": "stdout",
     "output_type": "stream",
     "text": [
      "{'loss': 2.848, 'grad_norm': 15.455144882202148, 'learning_rate': 1.7755102040816327e-05, 'epoch': 11.22}\n"
     ]
    },
    {
     "name": "stderr",
     "output_type": "stream",
     "text": [
      " 11%|█▏        | 1110/9800 [21:20<2:08:02,  1.13it/s]"
     ]
    },
    {
     "name": "stdout",
     "output_type": "stream",
     "text": [
      "{'loss': 2.8621, 'grad_norm': 17.85467529296875, 'learning_rate': 1.773469387755102e-05, 'epoch': 11.33}\n"
     ]
    },
    {
     "name": "stderr",
     "output_type": "stream",
     "text": [
      " 11%|█▏        | 1120/9800 [21:29<2:08:07,  1.13it/s]"
     ]
    },
    {
     "name": "stdout",
     "output_type": "stream",
     "text": [
      "{'loss': 2.8854, 'grad_norm': 17.34874153137207, 'learning_rate': 1.7714285714285717e-05, 'epoch': 11.43}\n"
     ]
    },
    {
     "name": "stderr",
     "output_type": "stream",
     "text": [
      " 12%|█▏        | 1130/9800 [21:38<2:08:38,  1.12it/s]"
     ]
    },
    {
     "name": "stdout",
     "output_type": "stream",
     "text": [
      "{'loss': 2.963, 'grad_norm': 18.74831199645996, 'learning_rate': 1.7693877551020408e-05, 'epoch': 11.53}\n"
     ]
    },
    {
     "name": "stderr",
     "output_type": "stream",
     "text": [
      " 12%|█▏        | 1140/9800 [21:47<2:08:29,  1.12it/s]"
     ]
    },
    {
     "name": "stdout",
     "output_type": "stream",
     "text": [
      "{'loss': 2.9105, 'grad_norm': 18.551179885864258, 'learning_rate': 1.7673469387755103e-05, 'epoch': 11.63}\n"
     ]
    },
    {
     "name": "stderr",
     "output_type": "stream",
     "text": [
      " 12%|█▏        | 1150/9800 [21:56<2:07:49,  1.13it/s]"
     ]
    },
    {
     "name": "stdout",
     "output_type": "stream",
     "text": [
      "{'loss': 2.8717, 'grad_norm': 18.253036499023438, 'learning_rate': 1.7653061224489798e-05, 'epoch': 11.73}\n"
     ]
    },
    {
     "name": "stderr",
     "output_type": "stream",
     "text": [
      " 12%|█▏        | 1160/9800 [22:04<2:07:43,  1.13it/s]"
     ]
    },
    {
     "name": "stdout",
     "output_type": "stream",
     "text": [
      "{'loss': 2.883, 'grad_norm': 16.136117935180664, 'learning_rate': 1.7632653061224493e-05, 'epoch': 11.84}\n"
     ]
    },
    {
     "name": "stderr",
     "output_type": "stream",
     "text": [
      " 12%|█▏        | 1170/9800 [22:13<2:07:26,  1.13it/s]"
     ]
    },
    {
     "name": "stdout",
     "output_type": "stream",
     "text": [
      "{'loss': 2.8912, 'grad_norm': 15.17396068572998, 'learning_rate': 1.7612244897959185e-05, 'epoch': 11.94}\n"
     ]
    },
    {
     "name": "stderr",
     "output_type": "stream",
     "text": [
      " 12%|█▏        | 1176/9800 [22:18<1:54:30,  1.26it/s]\n",
      "  0%|          | 0/79 [00:00<?, ?it/s]\u001b[A\n",
      "  3%|▎         | 2/79 [00:00<00:13,  5.87it/s]\u001b[A\n",
      "  4%|▍         | 3/79 [00:00<00:18,  4.03it/s]\u001b[A\n",
      "  5%|▌         | 4/79 [00:01<00:21,  3.55it/s]\u001b[A\n",
      "  6%|▋         | 5/79 [00:01<00:22,  3.30it/s]\u001b[A\n",
      "  8%|▊         | 6/79 [00:01<00:23,  3.13it/s]\u001b[A\n",
      "  9%|▉         | 7/79 [00:02<00:23,  3.06it/s]\u001b[A\n",
      " 10%|█         | 8/79 [00:02<00:23,  3.02it/s]\u001b[A\n",
      " 11%|█▏        | 9/79 [00:02<00:23,  2.97it/s]\u001b[A\n",
      " 13%|█▎        | 10/79 [00:03<00:23,  2.95it/s]\u001b[A\n",
      " 14%|█▍        | 11/79 [00:03<00:23,  2.94it/s]\u001b[A\n",
      " 15%|█▌        | 12/79 [00:03<00:22,  2.92it/s]\u001b[A\n",
      " 16%|█▋        | 13/79 [00:04<00:22,  2.91it/s]\u001b[A\n",
      " 18%|█▊        | 14/79 [00:04<00:22,  2.92it/s]\u001b[A\n",
      " 19%|█▉        | 15/79 [00:04<00:21,  2.91it/s]\u001b[A\n",
      " 20%|██        | 16/79 [00:05<00:21,  2.91it/s]\u001b[A\n",
      " 22%|██▏       | 17/79 [00:05<00:21,  2.91it/s]\u001b[A\n",
      " 23%|██▎       | 18/79 [00:05<00:20,  2.91it/s]\u001b[A\n",
      " 24%|██▍       | 19/79 [00:06<00:20,  2.90it/s]\u001b[A\n",
      " 25%|██▌       | 20/79 [00:06<00:20,  2.91it/s]\u001b[A\n",
      " 27%|██▋       | 21/79 [00:06<00:19,  2.91it/s]\u001b[A\n",
      " 28%|██▊       | 22/79 [00:07<00:19,  2.90it/s]\u001b[A\n",
      " 29%|██▉       | 23/79 [00:07<00:19,  2.90it/s]\u001b[A\n",
      " 30%|███       | 24/79 [00:07<00:18,  2.91it/s]\u001b[A\n",
      " 32%|███▏      | 25/79 [00:08<00:18,  2.91it/s]\u001b[A\n",
      " 33%|███▎      | 26/79 [00:08<00:18,  2.90it/s]\u001b[A\n",
      " 34%|███▍      | 27/79 [00:08<00:17,  2.91it/s]\u001b[A\n",
      " 35%|███▌      | 28/79 [00:09<00:17,  2.91it/s]\u001b[A\n",
      " 37%|███▋      | 29/79 [00:09<00:17,  2.91it/s]\u001b[A\n",
      " 38%|███▊      | 30/79 [00:09<00:16,  2.91it/s]\u001b[A\n",
      " 39%|███▉      | 31/79 [00:10<00:16,  2.91it/s]\u001b[A\n",
      " 41%|████      | 32/79 [00:10<00:16,  2.91it/s]\u001b[A\n",
      " 42%|████▏     | 33/79 [00:11<00:15,  2.91it/s]\u001b[A\n",
      " 43%|████▎     | 34/79 [00:11<00:15,  2.90it/s]\u001b[A\n",
      " 44%|████▍     | 35/79 [00:11<00:15,  2.90it/s]\u001b[A\n",
      " 46%|████▌     | 36/79 [00:12<00:14,  2.91it/s]\u001b[A\n",
      " 47%|████▋     | 37/79 [00:12<00:14,  2.91it/s]\u001b[A\n",
      " 48%|████▊     | 38/79 [00:12<00:14,  2.90it/s]\u001b[A\n",
      " 49%|████▉     | 39/79 [00:13<00:13,  2.91it/s]\u001b[A\n",
      " 51%|█████     | 40/79 [00:13<00:13,  2.90it/s]\u001b[A\n",
      " 52%|█████▏    | 41/79 [00:13<00:13,  2.90it/s]\u001b[A\n",
      " 53%|█████▎    | 42/79 [00:14<00:12,  2.90it/s]\u001b[A\n",
      " 54%|█████▍    | 43/79 [00:14<00:12,  2.91it/s]\u001b[A\n",
      " 56%|█████▌    | 44/79 [00:14<00:12,  2.91it/s]\u001b[A\n",
      " 57%|█████▋    | 45/79 [00:15<00:11,  2.92it/s]\u001b[A\n",
      " 58%|█████▊    | 46/79 [00:15<00:11,  2.91it/s]\u001b[A\n",
      " 59%|█████▉    | 47/79 [00:15<00:11,  2.90it/s]\u001b[A\n",
      " 61%|██████    | 48/79 [00:16<00:10,  2.91it/s]\u001b[A\n",
      " 62%|██████▏   | 49/79 [00:16<00:10,  2.91it/s]\u001b[A\n",
      " 63%|██████▎   | 50/79 [00:16<00:09,  2.91it/s]\u001b[A\n",
      " 65%|██████▍   | 51/79 [00:17<00:09,  2.91it/s]\u001b[A\n",
      " 66%|██████▌   | 52/79 [00:17<00:09,  2.91it/s]\u001b[A\n",
      " 67%|██████▋   | 53/79 [00:17<00:08,  2.92it/s]\u001b[A\n",
      " 68%|██████▊   | 54/79 [00:18<00:08,  2.90it/s]\u001b[A\n",
      " 70%|██████▉   | 55/79 [00:18<00:08,  2.91it/s]\u001b[A\n",
      " 71%|███████   | 56/79 [00:18<00:07,  2.91it/s]\u001b[A\n",
      " 72%|███████▏  | 57/79 [00:19<00:07,  2.90it/s]\u001b[A\n",
      " 73%|███████▎  | 58/79 [00:19<00:07,  2.91it/s]\u001b[A\n",
      " 75%|███████▍  | 59/79 [00:19<00:06,  2.92it/s]\u001b[A\n",
      " 76%|███████▌  | 60/79 [00:20<00:06,  2.91it/s]\u001b[A\n",
      " 77%|███████▋  | 61/79 [00:20<00:06,  2.91it/s]\u001b[A\n",
      " 78%|███████▊  | 62/79 [00:20<00:05,  2.91it/s]\u001b[A\n",
      " 80%|███████▉  | 63/79 [00:21<00:05,  2.91it/s]\u001b[A\n",
      " 81%|████████  | 64/79 [00:21<00:05,  2.91it/s]\u001b[A\n",
      " 82%|████████▏ | 65/79 [00:22<00:04,  2.91it/s]\u001b[A\n",
      " 84%|████████▎ | 66/79 [00:22<00:04,  2.91it/s]\u001b[A\n",
      " 85%|████████▍ | 67/79 [00:22<00:04,  2.91it/s]\u001b[A\n",
      " 86%|████████▌ | 68/79 [00:23<00:03,  2.91it/s]\u001b[A\n",
      " 87%|████████▋ | 69/79 [00:23<00:03,  2.91it/s]\u001b[A\n",
      " 89%|████████▊ | 70/79 [00:23<00:03,  2.92it/s]\u001b[A\n",
      " 90%|████████▉ | 71/79 [00:24<00:02,  2.91it/s]\u001b[A\n",
      " 91%|█████████ | 72/79 [00:24<00:02,  2.91it/s]\u001b[A\n",
      " 92%|█████████▏| 73/79 [00:24<00:02,  2.91it/s]\u001b[A\n",
      " 94%|█████████▎| 74/79 [00:25<00:01,  2.91it/s]\u001b[A\n",
      " 95%|█████████▍| 75/79 [00:25<00:01,  2.91it/s]\u001b[A\n",
      " 96%|█████████▌| 76/79 [00:25<00:01,  2.91it/s]\u001b[A\n",
      " 97%|█████████▋| 77/79 [00:26<00:00,  2.91it/s]\u001b[A\n",
      "                                                     \n",
      " 12%|█▏        | 1176/9800 [22:45<1:54:30,  1.26it/s]\n",
      "100%|██████████| 79/79 [00:26<00:00,  2.97it/s]\u001b[A\n",
      "                                               \u001b[A"
     ]
    },
    {
     "name": "stdout",
     "output_type": "stream",
     "text": [
      "{'eval_loss': 3.247385263442993, 'eval_accuracy': 0.2307, 'eval_runtime': 26.947, 'eval_samples_per_second': 371.099, 'eval_steps_per_second': 2.932, 'epoch': 12.0}\n"
     ]
    },
    {
     "name": "stderr",
     "output_type": "stream",
     "text": [
      " 12%|█▏        | 1180/9800 [22:50<8:59:55,  3.76s/it] "
     ]
    },
    {
     "name": "stdout",
     "output_type": "stream",
     "text": [
      "{'loss': 2.8721, 'grad_norm': 16.000267028808594, 'learning_rate': 1.759183673469388e-05, 'epoch': 12.04}\n"
     ]
    },
    {
     "name": "stderr",
     "output_type": "stream",
     "text": [
      " 12%|█▏        | 1190/9800 [22:59<2:19:18,  1.03it/s]"
     ]
    },
    {
     "name": "stdout",
     "output_type": "stream",
     "text": [
      "{'loss': 2.7951, 'grad_norm': 14.530484199523926, 'learning_rate': 1.757142857142857e-05, 'epoch': 12.14}\n"
     ]
    },
    {
     "name": "stderr",
     "output_type": "stream",
     "text": [
      " 12%|█▏        | 1200/9800 [23:08<2:08:03,  1.12it/s]"
     ]
    },
    {
     "name": "stdout",
     "output_type": "stream",
     "text": [
      "{'loss': 2.7708, 'grad_norm': 15.945396423339844, 'learning_rate': 1.7551020408163266e-05, 'epoch': 12.24}\n"
     ]
    },
    {
     "name": "stderr",
     "output_type": "stream",
     "text": [
      " 12%|█▏        | 1210/9800 [23:17<2:07:15,  1.13it/s]"
     ]
    },
    {
     "name": "stdout",
     "output_type": "stream",
     "text": [
      "{'loss': 2.8222, 'grad_norm': 16.158674240112305, 'learning_rate': 1.753061224489796e-05, 'epoch': 12.35}\n"
     ]
    },
    {
     "name": "stderr",
     "output_type": "stream",
     "text": [
      " 12%|█▏        | 1220/9800 [23:25<2:05:45,  1.14it/s]"
     ]
    },
    {
     "name": "stdout",
     "output_type": "stream",
     "text": [
      "{'loss': 2.7966, 'grad_norm': 19.38673973083496, 'learning_rate': 1.7510204081632653e-05, 'epoch': 12.45}\n"
     ]
    },
    {
     "name": "stderr",
     "output_type": "stream",
     "text": [
      " 13%|█▎        | 1230/9800 [23:34<2:05:57,  1.13it/s]"
     ]
    },
    {
     "name": "stdout",
     "output_type": "stream",
     "text": [
      "{'loss': 2.7575, 'grad_norm': 16.912006378173828, 'learning_rate': 1.748979591836735e-05, 'epoch': 12.55}\n"
     ]
    },
    {
     "name": "stderr",
     "output_type": "stream",
     "text": [
      " 13%|█▎        | 1240/9800 [23:43<2:06:21,  1.13it/s]"
     ]
    },
    {
     "name": "stdout",
     "output_type": "stream",
     "text": [
      "{'loss': 2.8037, 'grad_norm': 20.196868896484375, 'learning_rate': 1.7469387755102043e-05, 'epoch': 12.65}\n"
     ]
    },
    {
     "name": "stderr",
     "output_type": "stream",
     "text": [
      " 13%|█▎        | 1250/9800 [23:52<2:06:52,  1.12it/s]"
     ]
    },
    {
     "name": "stdout",
     "output_type": "stream",
     "text": [
      "{'loss': 2.7927, 'grad_norm': 15.719924926757812, 'learning_rate': 1.7448979591836738e-05, 'epoch': 12.76}\n"
     ]
    },
    {
     "name": "stderr",
     "output_type": "stream",
     "text": [
      " 13%|█▎        | 1260/9800 [24:01<2:06:44,  1.12it/s]"
     ]
    },
    {
     "name": "stdout",
     "output_type": "stream",
     "text": [
      "{'loss': 2.8365, 'grad_norm': 17.577472686767578, 'learning_rate': 1.742857142857143e-05, 'epoch': 12.86}\n"
     ]
    },
    {
     "name": "stderr",
     "output_type": "stream",
     "text": [
      " 13%|█▎        | 1270/9800 [24:10<2:05:55,  1.13it/s]"
     ]
    },
    {
     "name": "stdout",
     "output_type": "stream",
     "text": [
      "{'loss': 2.8447, 'grad_norm': 18.146747589111328, 'learning_rate': 1.7408163265306124e-05, 'epoch': 12.96}\n"
     ]
    },
    {
     "name": "stderr",
     "output_type": "stream",
     "text": [
      " 13%|█▎        | 1274/9800 [24:13<1:52:49,  1.26it/s]\n",
      "  0%|          | 0/79 [00:00<?, ?it/s]\u001b[A\n",
      "  3%|▎         | 2/79 [00:00<00:12,  5.98it/s]\u001b[A\n",
      "  4%|▍         | 3/79 [00:00<00:18,  4.14it/s]\u001b[A\n",
      "  5%|▌         | 4/79 [00:01<00:20,  3.59it/s]\u001b[A\n",
      "  6%|▋         | 5/79 [00:01<00:22,  3.34it/s]\u001b[A\n",
      "  8%|▊         | 6/79 [00:01<00:23,  3.17it/s]\u001b[A\n",
      "  9%|▉         | 7/79 [00:02<00:23,  3.09it/s]\u001b[A\n",
      " 10%|█         | 8/79 [00:02<00:23,  3.03it/s]\u001b[A\n",
      " 11%|█▏        | 9/79 [00:02<00:23,  2.99it/s]\u001b[A\n",
      " 13%|█▎        | 10/79 [00:03<00:23,  2.96it/s]\u001b[A\n",
      " 14%|█▍        | 11/79 [00:03<00:23,  2.94it/s]\u001b[A\n",
      " 15%|█▌        | 12/79 [00:03<00:22,  2.94it/s]\u001b[A\n",
      " 16%|█▋        | 13/79 [00:04<00:22,  2.93it/s]\u001b[A\n",
      " 18%|█▊        | 14/79 [00:04<00:22,  2.91it/s]\u001b[A\n",
      " 19%|█▉        | 15/79 [00:04<00:21,  2.92it/s]\u001b[A\n",
      " 20%|██        | 16/79 [00:05<00:21,  2.91it/s]\u001b[A\n",
      " 22%|██▏       | 17/79 [00:05<00:21,  2.91it/s]\u001b[A\n",
      " 23%|██▎       | 18/79 [00:05<00:20,  2.92it/s]\u001b[A\n",
      " 24%|██▍       | 19/79 [00:06<00:20,  2.91it/s]\u001b[A\n",
      " 25%|██▌       | 20/79 [00:06<00:20,  2.90it/s]\u001b[A\n",
      " 27%|██▋       | 21/79 [00:06<00:19,  2.91it/s]\u001b[A\n",
      " 28%|██▊       | 22/79 [00:07<00:19,  2.91it/s]\u001b[A\n",
      " 29%|██▉       | 23/79 [00:07<00:19,  2.91it/s]\u001b[A\n",
      " 30%|███       | 24/79 [00:07<00:18,  2.91it/s]\u001b[A\n",
      " 32%|███▏      | 25/79 [00:08<00:18,  2.91it/s]\u001b[A\n",
      " 33%|███▎      | 26/79 [00:08<00:18,  2.90it/s]\u001b[A\n",
      " 34%|███▍      | 27/79 [00:08<00:17,  2.91it/s]\u001b[A\n",
      " 35%|███▌      | 28/79 [00:09<00:17,  2.91it/s]\u001b[A\n",
      " 37%|███▋      | 29/79 [00:09<00:17,  2.90it/s]\u001b[A\n",
      " 38%|███▊      | 30/79 [00:09<00:16,  2.91it/s]\u001b[A\n",
      " 39%|███▉      | 31/79 [00:10<00:16,  2.90it/s]\u001b[A\n",
      " 41%|████      | 32/79 [00:10<00:16,  2.91it/s]\u001b[A\n",
      " 42%|████▏     | 33/79 [00:10<00:15,  2.90it/s]\u001b[A\n",
      " 43%|████▎     | 34/79 [00:11<00:15,  2.90it/s]\u001b[A\n",
      " 44%|████▍     | 35/79 [00:11<00:15,  2.90it/s]\u001b[A\n",
      " 46%|████▌     | 36/79 [00:12<00:14,  2.91it/s]\u001b[A\n",
      " 47%|████▋     | 37/79 [00:12<00:14,  2.90it/s]\u001b[A\n",
      " 48%|████▊     | 38/79 [00:12<00:14,  2.90it/s]\u001b[A\n",
      " 49%|████▉     | 39/79 [00:13<00:13,  2.90it/s]\u001b[A\n",
      " 51%|█████     | 40/79 [00:13<00:13,  2.90it/s]\u001b[A\n",
      " 52%|█████▏    | 41/79 [00:13<00:13,  2.90it/s]\u001b[A\n",
      " 53%|█████▎    | 42/79 [00:14<00:12,  2.91it/s]\u001b[A\n",
      " 54%|█████▍    | 43/79 [00:14<00:12,  2.91it/s]\u001b[A\n",
      " 56%|█████▌    | 44/79 [00:14<00:12,  2.91it/s]\u001b[A\n",
      " 57%|█████▋    | 45/79 [00:15<00:11,  2.91it/s]\u001b[A\n",
      " 58%|█████▊    | 46/79 [00:15<00:11,  2.91it/s]\u001b[A\n",
      " 59%|█████▉    | 47/79 [00:15<00:11,  2.90it/s]\u001b[A\n",
      " 61%|██████    | 48/79 [00:16<00:10,  2.90it/s]\u001b[A\n",
      " 62%|██████▏   | 49/79 [00:16<00:10,  2.90it/s]\u001b[A\n",
      " 63%|██████▎   | 50/79 [00:16<00:09,  2.90it/s]\u001b[A\n",
      " 65%|██████▍   | 51/79 [00:17<00:09,  2.90it/s]\u001b[A\n",
      " 66%|██████▌   | 52/79 [00:17<00:09,  2.90it/s]\u001b[A\n",
      " 67%|██████▋   | 53/79 [00:17<00:08,  2.90it/s]\u001b[A\n",
      " 68%|██████▊   | 54/79 [00:18<00:08,  2.90it/s]\u001b[A\n",
      " 70%|██████▉   | 55/79 [00:18<00:08,  2.90it/s]\u001b[A\n",
      " 71%|███████   | 56/79 [00:18<00:07,  2.90it/s]\u001b[A\n",
      " 72%|███████▏  | 57/79 [00:19<00:07,  2.90it/s]\u001b[A\n",
      " 73%|███████▎  | 58/79 [00:19<00:07,  2.90it/s]\u001b[A\n",
      " 75%|███████▍  | 59/79 [00:19<00:06,  2.91it/s]\u001b[A\n",
      " 76%|███████▌  | 60/79 [00:20<00:06,  2.90it/s]\u001b[A\n",
      " 77%|███████▋  | 61/79 [00:20<00:06,  2.91it/s]\u001b[A\n",
      " 78%|███████▊  | 62/79 [00:20<00:05,  2.91it/s]\u001b[A\n",
      " 80%|███████▉  | 63/79 [00:21<00:05,  2.90it/s]\u001b[A\n",
      " 81%|████████  | 64/79 [00:21<00:05,  2.90it/s]\u001b[A\n",
      " 82%|████████▏ | 65/79 [00:22<00:04,  2.91it/s]\u001b[A\n",
      " 84%|████████▎ | 66/79 [00:22<00:04,  2.90it/s]\u001b[A\n",
      " 85%|████████▍ | 67/79 [00:22<00:04,  2.90it/s]\u001b[A\n",
      " 86%|████████▌ | 68/79 [00:23<00:03,  2.91it/s]\u001b[A\n",
      " 87%|████████▋ | 69/79 [00:23<00:03,  2.91it/s]\u001b[A\n",
      " 89%|████████▊ | 70/79 [00:23<00:03,  2.90it/s]\u001b[A\n",
      " 90%|████████▉ | 71/79 [00:24<00:02,  2.91it/s]\u001b[A\n",
      " 91%|█████████ | 72/79 [00:24<00:02,  2.91it/s]\u001b[A\n",
      " 92%|█████████▏| 73/79 [00:24<00:02,  2.90it/s]\u001b[A\n",
      " 94%|█████████▎| 74/79 [00:25<00:01,  2.90it/s]\u001b[A\n",
      " 95%|█████████▍| 75/79 [00:25<00:01,  2.91it/s]\u001b[A\n",
      " 96%|█████████▌| 76/79 [00:25<00:01,  2.90it/s]\u001b[A\n",
      " 97%|█████████▋| 77/79 [00:26<00:00,  2.91it/s]\u001b[A\n",
      "                                                     \n",
      " 13%|█▎        | 1274/9800 [24:40<1:52:49,  1.26it/s]\n",
      "100%|██████████| 79/79 [00:26<00:00,  2.97it/s]\u001b[A\n",
      "                                               \u001b[A"
     ]
    },
    {
     "name": "stdout",
     "output_type": "stream",
     "text": [
      "{'eval_loss': 3.230450391769409, 'eval_accuracy': 0.2355, 'eval_runtime': 26.9434, 'eval_samples_per_second': 371.148, 'eval_steps_per_second': 2.932, 'epoch': 13.0}\n"
     ]
    },
    {
     "name": "stderr",
     "output_type": "stream",
     "text": [
      " 13%|█▎        | 1280/9800 [24:47<5:32:30,  2.34s/it] "
     ]
    },
    {
     "name": "stdout",
     "output_type": "stream",
     "text": [
      "{'loss': 2.6526, 'grad_norm': 14.236278533935547, 'learning_rate': 1.738775510204082e-05, 'epoch': 13.06}\n"
     ]
    },
    {
     "name": "stderr",
     "output_type": "stream",
     "text": [
      " 13%|█▎        | 1290/9800 [24:56<2:12:09,  1.07it/s]"
     ]
    },
    {
     "name": "stdout",
     "output_type": "stream",
     "text": [
      "{'loss': 2.6873, 'grad_norm': 16.64661979675293, 'learning_rate': 1.736734693877551e-05, 'epoch': 13.16}\n"
     ]
    },
    {
     "name": "stderr",
     "output_type": "stream",
     "text": [
      " 13%|█▎        | 1300/9800 [25:05<2:06:17,  1.12it/s]"
     ]
    },
    {
     "name": "stdout",
     "output_type": "stream",
     "text": [
      "{'loss': 2.6744, 'grad_norm': 20.41756248474121, 'learning_rate': 1.7346938775510206e-05, 'epoch': 13.27}\n"
     ]
    },
    {
     "name": "stderr",
     "output_type": "stream",
     "text": [
      " 13%|█▎        | 1310/9800 [25:14<2:05:54,  1.12it/s]"
     ]
    },
    {
     "name": "stdout",
     "output_type": "stream",
     "text": [
      "{'loss': 2.7162, 'grad_norm': 17.969865798950195, 'learning_rate': 1.7326530612244897e-05, 'epoch': 13.37}\n"
     ]
    },
    {
     "name": "stderr",
     "output_type": "stream",
     "text": [
      " 13%|█▎        | 1320/9800 [25:23<2:04:57,  1.13it/s]"
     ]
    },
    {
     "name": "stdout",
     "output_type": "stream",
     "text": [
      "{'loss': 2.763, 'grad_norm': 17.885427474975586, 'learning_rate': 1.7306122448979596e-05, 'epoch': 13.47}\n"
     ]
    },
    {
     "name": "stderr",
     "output_type": "stream",
     "text": [
      " 14%|█▎        | 1330/9800 [25:32<2:04:55,  1.13it/s]"
     ]
    },
    {
     "name": "stdout",
     "output_type": "stream",
     "text": [
      "{'loss': 2.6993, 'grad_norm': 15.829955101013184, 'learning_rate': 1.7285714285714287e-05, 'epoch': 13.57}\n"
     ]
    },
    {
     "name": "stderr",
     "output_type": "stream",
     "text": [
      " 14%|█▎        | 1340/9800 [25:41<2:05:30,  1.12it/s]"
     ]
    },
    {
     "name": "stdout",
     "output_type": "stream",
     "text": [
      "{'loss': 2.7515, 'grad_norm': 18.596458435058594, 'learning_rate': 1.7265306122448982e-05, 'epoch': 13.67}\n"
     ]
    },
    {
     "name": "stderr",
     "output_type": "stream",
     "text": [
      " 14%|█▍        | 1350/9800 [25:50<2:05:31,  1.12it/s]"
     ]
    },
    {
     "name": "stdout",
     "output_type": "stream",
     "text": [
      "{'loss': 2.7781, 'grad_norm': 19.962596893310547, 'learning_rate': 1.7244897959183674e-05, 'epoch': 13.78}\n"
     ]
    },
    {
     "name": "stderr",
     "output_type": "stream",
     "text": [
      " 14%|█▍        | 1360/9800 [25:59<2:04:58,  1.13it/s]"
     ]
    },
    {
     "name": "stdout",
     "output_type": "stream",
     "text": [
      "{'loss': 2.729, 'grad_norm': 18.15659523010254, 'learning_rate': 1.722448979591837e-05, 'epoch': 13.88}\n"
     ]
    },
    {
     "name": "stderr",
     "output_type": "stream",
     "text": [
      " 14%|█▍        | 1365/9800 [26:03<2:03:54,  1.13it/s]\n",
      " 27%|██▋       | 21/79 [00:06<00:19,  2.90it/s]\u001b[A\n",
      " 28%|██▊       | 22/79 [00:07<00:19,  2.91it/s]\u001b[A\n",
      " 29%|██▉       | 23/79 [00:07<00:19,  2.91it/s]\u001b[A\n",
      " 30%|███       | 24/79 [00:07<00:18,  2.91it/s]\u001b[A\n",
      " 32%|███▏      | 25/79 [00:08<00:18,  2.91it/s]\u001b[A\n",
      " 33%|███▎      | 26/79 [00:08<00:18,  2.90it/s]\u001b[A\n",
      " 34%|███▍      | 27/79 [00:08<00:17,  2.91it/s]\u001b[A\n",
      " 35%|███▌      | 28/79 [00:09<00:17,  2.91it/s]\u001b[A\n",
      " 37%|███▋      | 29/79 [00:09<00:17,  2.91it/s]\u001b[A\n",
      " 38%|███▊      | 30/79 [00:09<00:16,  2.90it/s]\u001b[A\n",
      " 39%|███▉      | 31/79 [00:10<00:16,  2.91it/s]\u001b[A\n",
      " 41%|████      | 32/79 [00:10<00:16,  2.90it/s]\u001b[A\n",
      " 42%|████▏     | 33/79 [00:11<00:15,  2.90it/s]\u001b[A\n",
      " 43%|████▎     | 34/79 [00:11<00:15,  2.91it/s]\u001b[A\n",
      " 44%|████▍     | 35/79 [00:11<00:15,  2.90it/s]\u001b[A\n",
      " 46%|████▌     | 36/79 [00:12<00:14,  2.90it/s]\u001b[A\n",
      " 47%|████▋     | 37/79 [00:12<00:14,  2.91it/s]\u001b[A\n",
      " 48%|████▊     | 38/79 [00:12<00:14,  2.90it/s]\u001b[A\n",
      " 49%|████▉     | 39/79 [00:13<00:13,  2.90it/s]\u001b[A\n",
      " 51%|█████     | 40/79 [00:13<00:13,  2.91it/s]\u001b[A\n",
      " 52%|█████▏    | 41/79 [00:13<00:13,  2.91it/s]\u001b[A\n",
      " 53%|█████▎    | 42/79 [00:14<00:12,  2.90it/s]\u001b[A\n",
      " 54%|█████▍    | 43/79 [00:14<00:12,  2.91it/s]\u001b[A\n",
      " 56%|█████▌    | 44/79 [00:14<00:12,  2.91it/s]\u001b[A\n",
      " 57%|█████▋    | 45/79 [00:15<00:11,  2.90it/s]\u001b[A\n",
      " 58%|█████▊    | 46/79 [00:15<00:11,  2.90it/s]\u001b[A\n",
      " 59%|█████▉    | 47/79 [00:15<00:10,  2.91it/s]\u001b[A\n",
      " 61%|██████    | 48/79 [00:16<00:10,  2.91it/s]\u001b[A\n",
      " 62%|██████▏   | 49/79 [00:16<00:10,  2.91it/s]\u001b[A\n",
      " 63%|██████▎   | 50/79 [00:16<00:09,  2.90it/s]\u001b[A\n",
      " 65%|██████▍   | 51/79 [00:17<00:09,  2.91it/s]\u001b[A\n",
      " 66%|██████▌   | 52/79 [00:17<00:09,  2.91it/s]\u001b[A\n",
      " 67%|██████▋   | 53/79 [00:17<00:08,  2.90it/s]\u001b[A\n",
      " 68%|██████▊   | 54/79 [00:18<00:08,  2.91it/s]\u001b[A\n",
      " 70%|██████▉   | 55/79 [00:18<00:08,  2.91it/s]\u001b[A\n",
      " 71%|███████   | 56/79 [00:18<00:07,  2.91it/s]\u001b[A\n",
      " 72%|███████▏  | 57/79 [00:19<00:07,  2.90it/s]\u001b[A\n",
      " 73%|███████▎  | 58/79 [00:19<00:07,  2.91it/s]\u001b[A\n",
      " 75%|███████▍  | 59/79 [00:19<00:06,  2.91it/s]\u001b[A\n",
      " 76%|███████▌  | 60/79 [00:20<00:06,  2.90it/s]\u001b[A\n",
      " 77%|███████▋  | 61/79 [00:20<00:06,  2.90it/s]\u001b[A\n",
      " 78%|███████▊  | 62/79 [00:20<00:05,  2.91it/s]\u001b[A\n",
      " 80%|███████▉  | 63/79 [00:21<00:05,  2.91it/s]\u001b[A\n",
      " 81%|████████  | 64/79 [00:21<00:05,  2.91it/s]\u001b[A\n",
      " 82%|████████▏ | 65/79 [00:22<00:04,  2.91it/s]\u001b[A\n",
      " 84%|████████▎ | 66/79 [00:22<00:04,  2.91it/s]\u001b[A\n",
      " 85%|████████▍ | 67/79 [00:22<00:04,  2.90it/s]\u001b[A\n",
      " 86%|████████▌ | 68/79 [00:23<00:03,  2.91it/s]\u001b[A\n",
      " 87%|████████▋ | 69/79 [00:23<00:03,  2.91it/s]\u001b[A\n",
      " 89%|████████▊ | 70/79 [00:23<00:03,  2.90it/s]\u001b[A\n",
      " 90%|████████▉ | 71/79 [00:24<00:02,  2.90it/s]\u001b[A\n",
      " 91%|█████████ | 72/79 [00:24<00:02,  2.90it/s]\u001b[A\n",
      " 92%|█████████▏| 73/79 [00:24<00:02,  2.91it/s]\u001b[A\n",
      " 94%|█████████▎| 74/79 [00:25<00:01,  2.90it/s]\u001b[A\n",
      " 95%|█████████▍| 75/79 [00:25<00:01,  2.90it/s]\u001b[A\n",
      " 96%|█████████▌| 76/79 [00:25<00:01,  2.90it/s]\u001b[A\n",
      " 97%|█████████▋| 77/79 [00:26<00:00,  2.91it/s]\u001b[A\n",
      "                                                     \n",
      " 17%|█▋        | 1666/9800 [32:20<1:48:04,  1.25it/s]\n",
      "100%|██████████| 79/79 [00:26<00:00,  2.97it/s]\u001b[A\n",
      "                                               \u001b[A"
     ]
    },
    {
     "name": "stdout",
     "output_type": "stream",
     "text": [
      "{'eval_loss': 3.114128589630127, 'eval_accuracy': 0.2558, 'eval_runtime': 26.961, 'eval_samples_per_second': 370.906, 'eval_steps_per_second': 2.93, 'epoch': 17.0}\n"
     ]
    },
    {
     "name": "stderr",
     "output_type": "stream",
     "text": [
      " 17%|█▋        | 1670/9800 [32:25<8:28:02,  3.75s/it] "
     ]
    },
    {
     "name": "stdout",
     "output_type": "stream",
     "text": [
      "{'loss': 2.3907, 'grad_norm': 21.75370216369629, 'learning_rate': 1.659183673469388e-05, 'epoch': 17.04}\n"
     ]
    },
    {
     "name": "stderr",
     "output_type": "stream",
     "text": [
      " 17%|█▋        | 1680/9800 [32:33<2:10:46,  1.03it/s]"
     ]
    },
    {
     "name": "stdout",
     "output_type": "stream",
     "text": [
      "{'loss': 2.3552, 'grad_norm': 23.211881637573242, 'learning_rate': 1.6571428571428574e-05, 'epoch': 17.14}\n"
     ]
    },
    {
     "name": "stderr",
     "output_type": "stream",
     "text": [
      " 17%|█▋        | 1690/9800 [32:42<2:00:26,  1.12it/s]"
     ]
    },
    {
     "name": "stdout",
     "output_type": "stream",
     "text": [
      "{'loss': 2.3494, 'grad_norm': 21.410472869873047, 'learning_rate': 1.655102040816327e-05, 'epoch': 17.24}\n"
     ]
    },
    {
     "name": "stderr",
     "output_type": "stream",
     "text": [
      " 17%|█▋        | 1700/9800 [32:51<2:00:08,  1.12it/s]"
     ]
    },
    {
     "name": "stdout",
     "output_type": "stream",
     "text": [
      "{'loss': 2.3999, 'grad_norm': 23.47931671142578, 'learning_rate': 1.653061224489796e-05, 'epoch': 17.35}\n"
     ]
    },
    {
     "name": "stderr",
     "output_type": "stream",
     "text": [
      " 17%|█▋        | 1710/9800 [33:00<1:59:25,  1.13it/s]"
     ]
    },
    {
     "name": "stdout",
     "output_type": "stream",
     "text": [
      "{'loss': 2.4013, 'grad_norm': 21.29595947265625, 'learning_rate': 1.6510204081632655e-05, 'epoch': 17.45}\n"
     ]
    },
    {
     "name": "stderr",
     "output_type": "stream",
     "text": [
      " 18%|█▊        | 1720/9800 [33:09<1:59:08,  1.13it/s]"
     ]
    },
    {
     "name": "stdout",
     "output_type": "stream",
     "text": [
      "{'loss': 2.4051, 'grad_norm': 21.284563064575195, 'learning_rate': 1.6489795918367347e-05, 'epoch': 17.55}\n"
     ]
    },
    {
     "name": "stderr",
     "output_type": "stream",
     "text": [
      " 18%|█▊        | 1730/9800 [33:18<1:59:16,  1.13it/s]"
     ]
    },
    {
     "name": "stdout",
     "output_type": "stream",
     "text": [
      "{'loss': 2.3598, 'grad_norm': 20.729286193847656, 'learning_rate': 1.6469387755102042e-05, 'epoch': 17.65}\n"
     ]
    },
    {
     "name": "stderr",
     "output_type": "stream",
     "text": [
      " 18%|█▊        | 1740/9800 [33:27<1:59:33,  1.12it/s]"
     ]
    },
    {
     "name": "stdout",
     "output_type": "stream",
     "text": [
      "{'loss': 2.4796, 'grad_norm': 19.83217430114746, 'learning_rate': 1.6448979591836737e-05, 'epoch': 17.76}\n"
     ]
    },
    {
     "name": "stderr",
     "output_type": "stream",
     "text": [
      " 18%|█▊        | 1750/9800 [33:36<1:59:10,  1.13it/s]"
     ]
    },
    {
     "name": "stdout",
     "output_type": "stream",
     "text": [
      "{'loss': 2.3457, 'grad_norm': 21.937047958374023, 'learning_rate': 1.642857142857143e-05, 'epoch': 17.86}\n"
     ]
    },
    {
     "name": "stderr",
     "output_type": "stream",
     "text": [
      " 18%|█▊        | 1760/9800 [33:45<1:58:38,  1.13it/s]"
     ]
    },
    {
     "name": "stdout",
     "output_type": "stream",
     "text": [
      "{'loss': 2.3916, 'grad_norm': 20.22199249267578, 'learning_rate': 1.6408163265306124e-05, 'epoch': 17.96}\n"
     ]
    },
    {
     "name": "stderr",
     "output_type": "stream",
     "text": [
      " 18%|█▊        | 1764/9800 [33:48<1:46:26,  1.26it/s]\n",
      "  0%|          | 0/79 [00:00<?, ?it/s]\u001b[A\n",
      "  3%|▎         | 2/79 [00:00<00:12,  5.96it/s]\u001b[A\n",
      "  4%|▍         | 3/79 [00:00<00:18,  4.09it/s]\u001b[A\n",
      "  5%|▌         | 4/79 [00:01<00:21,  3.56it/s]\u001b[A\n",
      "  6%|▋         | 5/79 [00:01<00:22,  3.32it/s]\u001b[A\n",
      "  8%|▊         | 6/79 [00:01<00:23,  3.17it/s]\u001b[A\n",
      "  9%|▉         | 7/79 [00:02<00:23,  3.08it/s]\u001b[A\n",
      " 10%|█         | 8/79 [00:02<00:23,  3.03it/s]\u001b[A\n",
      " 11%|█▏        | 9/79 [00:02<00:23,  2.99it/s]\u001b[A\n",
      " 13%|█▎        | 10/79 [00:03<00:23,  2.96it/s]\u001b[A\n",
      " 14%|█▍        | 11/79 [00:03<00:23,  2.94it/s]\u001b[A\n",
      " 15%|█▌        | 12/79 [00:03<00:22,  2.93it/s]\u001b[A\n",
      " 16%|█▋        | 13/79 [00:04<00:22,  2.92it/s]\u001b[A\n",
      " 18%|█▊        | 14/79 [00:04<00:22,  2.91it/s]\u001b[A\n",
      " 19%|█▉        | 15/79 [00:04<00:21,  2.92it/s]\u001b[A\n",
      " 20%|██        | 16/79 [00:05<00:21,  2.91it/s]\u001b[A\n",
      " 22%|██▏       | 17/79 [00:05<00:21,  2.91it/s]\u001b[A\n",
      " 23%|██▎       | 18/79 [00:05<00:20,  2.91it/s]\u001b[A\n",
      " 24%|██▍       | 19/79 [00:06<00:20,  2.91it/s]\u001b[A\n",
      " 25%|██▌       | 20/79 [00:06<00:20,  2.91it/s]\u001b[A\n",
      " 27%|██▋       | 21/79 [00:06<00:19,  2.90it/s]\u001b[A\n",
      " 28%|██▊       | 22/79 [00:07<00:19,  2.92it/s]\u001b[A\n",
      " 29%|██▉       | 23/79 [00:07<00:19,  2.91it/s]\u001b[A\n",
      " 30%|███       | 24/79 [00:07<00:18,  2.90it/s]\u001b[A\n",
      " 32%|███▏      | 25/79 [00:08<00:18,  2.91it/s]\u001b[A\n",
      " 33%|███▎      | 26/79 [00:08<00:18,  2.91it/s]\u001b[A\n",
      " 34%|███▍      | 27/79 [00:08<00:17,  2.91it/s]\u001b[A\n",
      " 35%|███▌      | 28/79 [00:09<00:17,  2.91it/s]\u001b[A\n",
      " 37%|███▋      | 29/79 [00:09<00:17,  2.91it/s]\u001b[A\n",
      " 38%|███▊      | 30/79 [00:09<00:16,  2.91it/s]\u001b[A\n",
      " 39%|███▉      | 31/79 [00:10<00:16,  2.91it/s]\u001b[A\n",
      " 41%|████      | 32/79 [00:10<00:16,  2.91it/s]\u001b[A\n",
      " 42%|████▏     | 33/79 [00:11<00:15,  2.91it/s]\u001b[A\n",
      " 43%|████▎     | 34/79 [00:11<00:15,  2.90it/s]\u001b[A\n",
      " 44%|████▍     | 35/79 [00:11<00:15,  2.90it/s]\u001b[A\n",
      " 46%|████▌     | 36/79 [00:12<00:14,  2.90it/s]\u001b[A\n",
      " 47%|████▋     | 37/79 [00:12<00:14,  2.90it/s]\u001b[A\n",
      " 48%|████▊     | 38/79 [00:12<00:14,  2.91it/s]\u001b[A\n",
      " 49%|████▉     | 39/79 [00:13<00:13,  2.91it/s]\u001b[A\n",
      " 51%|█████     | 40/79 [00:13<00:13,  2.91it/s]\u001b[A\n",
      " 52%|█████▏    | 41/79 [00:13<00:13,  2.91it/s]\u001b[A\n",
      " 53%|█████▎    | 42/79 [00:14<00:12,  2.91it/s]\u001b[A\n",
      " 54%|█████▍    | 43/79 [00:14<00:12,  2.91it/s]\u001b[A\n",
      " 56%|█████▌    | 44/79 [00:14<00:12,  2.91it/s]\u001b[A\n",
      " 57%|█████▋    | 45/79 [00:15<00:11,  2.90it/s]\u001b[A\n",
      " 58%|█████▊    | 46/79 [00:15<00:11,  2.91it/s]\u001b[A\n",
      " 59%|█████▉    | 47/79 [00:15<00:10,  2.91it/s]\u001b[A\n",
      " 61%|██████    | 48/79 [00:16<00:10,  2.90it/s]\u001b[A\n",
      " 62%|██████▏   | 49/79 [00:16<00:10,  2.90it/s]\u001b[A\n",
      " 63%|██████▎   | 50/79 [00:16<00:09,  2.91it/s]\u001b[A\n",
      " 65%|██████▍   | 51/79 [00:17<00:09,  2.91it/s]\u001b[A\n",
      " 66%|██████▌   | 52/79 [00:17<00:09,  2.91it/s]\u001b[A\n",
      " 67%|██████▋   | 53/79 [00:17<00:08,  2.91it/s]\u001b[A\n",
      " 68%|██████▊   | 54/79 [00:18<00:08,  2.90it/s]\u001b[A\n",
      " 70%|██████▉   | 55/79 [00:18<00:08,  2.90it/s]\u001b[A\n",
      " 71%|███████   | 56/79 [00:18<00:07,  2.91it/s]\u001b[A\n",
      " 72%|███████▏  | 57/79 [00:19<00:07,  2.91it/s]\u001b[A\n",
      " 73%|███████▎  | 58/79 [00:19<00:07,  2.91it/s]\u001b[A\n",
      " 75%|███████▍  | 59/79 [00:19<00:06,  2.90it/s]\u001b[A\n",
      " 76%|███████▌  | 60/79 [00:20<00:06,  2.91it/s]\u001b[A\n",
      " 77%|███████▋  | 61/79 [00:20<00:06,  2.91it/s]\u001b[A\n",
      " 78%|███████▊  | 62/79 [00:20<00:05,  2.91it/s]\u001b[A\n",
      " 80%|███████▉  | 63/79 [00:21<00:05,  2.90it/s]\u001b[A\n",
      " 81%|████████  | 64/79 [00:21<00:05,  2.91it/s]\u001b[A\n",
      " 82%|████████▏ | 65/79 [00:22<00:04,  2.91it/s]\u001b[A\n",
      " 84%|████████▎ | 66/79 [00:22<00:04,  2.91it/s]\u001b[A\n",
      " 85%|████████▍ | 67/79 [00:22<00:04,  2.91it/s]\u001b[A\n",
      " 86%|████████▌ | 68/79 [00:23<00:03,  2.92it/s]\u001b[A\n",
      " 87%|████████▋ | 69/79 [00:23<00:03,  2.91it/s]\u001b[A\n",
      " 89%|████████▊ | 70/79 [00:23<00:03,  2.90it/s]\u001b[A\n",
      " 90%|████████▉ | 71/79 [00:24<00:02,  2.91it/s]\u001b[A\n",
      " 91%|█████████ | 72/79 [00:24<00:02,  2.91it/s]\u001b[A\n",
      " 92%|█████████▏| 73/79 [00:24<00:02,  2.90it/s]\u001b[A\n",
      " 94%|█████████▎| 74/79 [00:25<00:01,  2.90it/s]\u001b[A\n",
      " 95%|█████████▍| 75/79 [00:25<00:01,  2.92it/s]\u001b[A\n",
      " 96%|█████████▌| 76/79 [00:25<00:01,  2.91it/s]\u001b[A\n",
      " 97%|█████████▋| 77/79 [00:26<00:00,  2.90it/s]\u001b[A\n",
      "                                                     \n",
      " 18%|█▊        | 1764/9800 [34:15<1:46:26,  1.26it/s]\n",
      "100%|██████████| 79/79 [00:26<00:00,  2.95it/s]\u001b[A\n",
      "                                               \u001b[A"
     ]
    },
    {
     "name": "stdout",
     "output_type": "stream",
     "text": [
      "{'eval_loss': 3.106117010116577, 'eval_accuracy': 0.2603, 'eval_runtime': 26.9318, 'eval_samples_per_second': 371.309, 'eval_steps_per_second': 2.933, 'epoch': 18.0}\n"
     ]
    },
    {
     "name": "stderr",
     "output_type": "stream",
     "text": [
      " 18%|█▊        | 1770/9800 [34:21<5:06:12,  2.29s/it] "
     ]
    },
    {
     "name": "stdout",
     "output_type": "stream",
     "text": [
      "{'loss': 2.329, 'grad_norm': 21.790987014770508, 'learning_rate': 1.638775510204082e-05, 'epoch': 18.06}\n"
     ]
    },
    {
     "name": "stderr",
     "output_type": "stream",
     "text": [
      " 18%|█▊        | 1780/9800 [34:30<2:03:47,  1.08it/s]"
     ]
    },
    {
     "name": "stdout",
     "output_type": "stream",
     "text": [
      "{'loss': 2.2745, 'grad_norm': 23.80613899230957, 'learning_rate': 1.6367346938775513e-05, 'epoch': 18.16}\n"
     ]
    },
    {
     "name": "stderr",
     "output_type": "stream",
     "text": [
      " 18%|█▊        | 1790/9800 [34:39<1:58:03,  1.13it/s]"
     ]
    },
    {
     "name": "stdout",
     "output_type": "stream",
     "text": [
      "{'loss': 2.3014, 'grad_norm': 21.91736602783203, 'learning_rate': 1.6346938775510205e-05, 'epoch': 18.27}\n"
     ]
    },
    {
     "name": "stderr",
     "output_type": "stream",
     "text": [
      " 18%|█▊        | 1800/9800 [34:48<1:58:05,  1.13it/s]"
     ]
    },
    {
     "name": "stdout",
     "output_type": "stream",
     "text": [
      "{'loss': 2.3109, 'grad_norm': 20.146406173706055, 'learning_rate': 1.63265306122449e-05, 'epoch': 18.37}\n"
     ]
    },
    {
     "name": "stderr",
     "output_type": "stream",
     "text": [
      " 18%|█▊        | 1810/9800 [34:56<1:58:33,  1.12it/s]"
     ]
    },
    {
     "name": "stdout",
     "output_type": "stream",
     "text": [
      "{'loss': 2.3405, 'grad_norm': 21.89821434020996, 'learning_rate': 1.630612244897959e-05, 'epoch': 18.47}\n"
     ]
    },
    {
     "name": "stderr",
     "output_type": "stream",
     "text": [
      " 19%|█▊        | 1820/9800 [35:05<1:58:31,  1.12it/s]"
     ]
    },
    {
     "name": "stdout",
     "output_type": "stream",
     "text": [
      "{'loss': 2.3329, 'grad_norm': 26.83378028869629, 'learning_rate': 1.6285714285714287e-05, 'epoch': 18.57}\n"
     ]
    },
    {
     "name": "stderr",
     "output_type": "stream",
     "text": [
      " 19%|█▊        | 1830/9800 [35:14<1:57:26,  1.13it/s]"
     ]
    },
    {
     "name": "stdout",
     "output_type": "stream",
     "text": [
      "{'loss': 2.3294, 'grad_norm': 22.905990600585938, 'learning_rate': 1.626530612244898e-05, 'epoch': 18.67}\n"
     ]
    },
    {
     "name": "stderr",
     "output_type": "stream",
     "text": [
      " 19%|█▉        | 1840/9800 [35:23<1:57:12,  1.13it/s]"
     ]
    },
    {
     "name": "stdout",
     "output_type": "stream",
     "text": [
      "{'loss': 2.2621, 'grad_norm': 24.046709060668945, 'learning_rate': 1.6244897959183673e-05, 'epoch': 18.78}\n"
     ]
    },
    {
     "name": "stderr",
     "output_type": "stream",
     "text": [
      " 19%|█▉        | 1850/9800 [35:32<1:57:26,  1.13it/s]"
     ]
    },
    {
     "name": "stdout",
     "output_type": "stream",
     "text": [
      "{'loss': 2.3121, 'grad_norm': 26.677640914916992, 'learning_rate': 1.6224489795918368e-05, 'epoch': 18.88}\n"
     ]
    },
    {
     "name": "stderr",
     "output_type": "stream",
     "text": [
      " 19%|█▉        | 1860/9800 [35:41<1:57:39,  1.12it/s]"
     ]
    },
    {
     "name": "stdout",
     "output_type": "stream",
     "text": [
      "{'loss': 2.2991, 'grad_norm': 23.12587547302246, 'learning_rate': 1.6204081632653063e-05, 'epoch': 18.98}\n"
     ]
    },
    {
     "name": "stderr",
     "output_type": "stream",
     "text": [
      " 19%|█▉        | 1862/9800 [35:42<1:45:56,  1.25it/s]\n",
      "  0%|          | 0/79 [00:00<?, ?it/s]\u001b[A\n",
      "  3%|▎         | 2/79 [00:00<00:13,  5.89it/s]\u001b[A\n",
      "  4%|▍         | 3/79 [00:00<00:18,  4.04it/s]\u001b[A\n",
      "  5%|▌         | 4/79 [00:01<00:21,  3.55it/s]\u001b[A\n",
      "  6%|▋         | 5/79 [00:01<00:22,  3.32it/s]\u001b[A\n",
      "  8%|▊         | 6/79 [00:01<00:23,  3.15it/s]\u001b[A\n",
      "  9%|▉         | 7/79 [00:02<00:23,  3.06it/s]\u001b[A\n",
      " 10%|█         | 8/79 [00:02<00:23,  3.03it/s]\u001b[A\n",
      " 11%|█▏        | 9/79 [00:02<00:23,  2.98it/s]\u001b[A\n",
      " 13%|█▎        | 10/79 [00:03<00:23,  2.95it/s]\u001b[A\n",
      " 14%|█▍        | 11/79 [00:03<00:23,  2.95it/s]\u001b[A\n",
      " 15%|█▌        | 12/79 [00:03<00:22,  2.93it/s]\u001b[A\n",
      " 16%|█▋        | 13/79 [00:04<00:22,  2.91it/s]\u001b[A\n",
      " 18%|█▊        | 14/79 [00:04<00:22,  2.91it/s]\u001b[A\n",
      " 19%|█▉        | 15/79 [00:04<00:21,  2.92it/s]\u001b[A\n",
      " 20%|██        | 16/79 [00:05<00:21,  2.91it/s]\u001b[A\n",
      " 22%|██▏       | 17/79 [00:05<00:21,  2.90it/s]\u001b[A\n",
      " 23%|██▎       | 18/79 [00:05<00:20,  2.91it/s]\u001b[A\n",
      " 24%|██▍       | 19/79 [00:06<00:20,  2.91it/s]\u001b[A\n",
      " 25%|██▌       | 20/79 [00:06<00:20,  2.91it/s]\u001b[A\n",
      " 27%|██▋       | 21/79 [00:06<00:19,  2.90it/s]\u001b[A\n",
      " 28%|██▊       | 22/79 [00:07<00:19,  2.91it/s]\u001b[A\n",
      " 29%|██▉       | 23/79 [00:07<00:19,  2.91it/s]\u001b[A\n",
      " 30%|███       | 24/79 [00:07<00:18,  2.91it/s]\u001b[A\n",
      " 32%|███▏      | 25/79 [00:08<00:18,  2.90it/s]\u001b[A\n",
      " 33%|███▎      | 26/79 [00:08<00:18,  2.91it/s]\u001b[A\n",
      " 34%|███▍      | 27/79 [00:08<00:17,  2.91it/s]\u001b[A\n",
      " 35%|███▌      | 28/79 [00:09<00:17,  2.91it/s]\u001b[A\n",
      " 37%|███▋      | 29/79 [00:09<00:17,  2.90it/s]\u001b[A\n",
      " 38%|███▊      | 30/79 [00:09<00:16,  2.91it/s]\u001b[A\n",
      " 39%|███▉      | 31/79 [00:10<00:16,  2.91it/s]\u001b[A\n",
      " 41%|████      | 32/79 [00:10<00:16,  2.90it/s]\u001b[A\n",
      " 42%|████▏     | 33/79 [00:11<00:15,  2.91it/s]\u001b[A\n",
      " 43%|████▎     | 34/79 [00:11<00:15,  2.91it/s]\u001b[A\n",
      " 44%|████▍     | 35/79 [00:11<00:15,  2.90it/s]\u001b[A\n",
      " 46%|████▌     | 36/79 [00:12<00:14,  2.90it/s]\u001b[A\n",
      " 47%|████▋     | 37/79 [00:12<00:14,  2.91it/s]\u001b[A\n",
      " 48%|████▊     | 38/79 [00:12<00:14,  2.90it/s]\u001b[A\n",
      " 49%|████▉     | 39/79 [00:13<00:13,  2.90it/s]\u001b[A\n",
      " 51%|█████     | 40/79 [00:13<00:13,  2.91it/s]\u001b[A\n",
      " 52%|█████▏    | 41/79 [00:13<00:13,  2.90it/s]\u001b[A\n",
      " 53%|█████▎    | 42/79 [00:14<00:12,  2.91it/s]\u001b[A\n",
      " 54%|█████▍    | 43/79 [00:14<00:12,  2.88it/s]\u001b[A\n",
      " 56%|█████▌    | 44/79 [00:14<00:12,  2.89it/s]\u001b[A\n",
      " 57%|█████▋    | 45/79 [00:15<00:11,  2.88it/s]\u001b[A\n",
      " 58%|█████▊    | 46/79 [00:15<00:11,  2.89it/s]\u001b[A\n",
      " 59%|█████▉    | 47/79 [00:15<00:11,  2.90it/s]\u001b[A\n",
      " 61%|██████    | 48/79 [00:16<00:10,  2.89it/s]\u001b[A\n",
      " 62%|██████▏   | 49/79 [00:16<00:10,  2.90it/s]\u001b[A\n",
      " 63%|██████▎   | 50/79 [00:16<00:09,  2.90it/s]\u001b[A\n",
      " 65%|██████▍   | 51/79 [00:17<00:09,  2.90it/s]\u001b[A\n",
      " 66%|██████▌   | 52/79 [00:17<00:09,  2.90it/s]\u001b[A\n",
      " 67%|██████▋   | 53/79 [00:17<00:08,  2.90it/s]\u001b[A\n",
      " 68%|██████▊   | 54/79 [00:18<00:08,  2.90it/s]\u001b[A\n",
      " 70%|██████▉   | 55/79 [00:18<00:08,  2.91it/s]\u001b[A\n",
      " 71%|███████   | 56/79 [00:18<00:07,  2.90it/s]\u001b[A\n",
      " 72%|███████▏  | 57/79 [00:19<00:07,  2.90it/s]\u001b[A\n",
      " 73%|███████▎  | 58/79 [00:19<00:07,  2.91it/s]\u001b[A\n",
      " 75%|███████▍  | 59/79 [00:19<00:06,  2.91it/s]\u001b[A\n",
      " 76%|███████▌  | 60/79 [00:20<00:06,  2.90it/s]\u001b[A\n",
      " 77%|███████▋  | 61/79 [00:20<00:06,  2.91it/s]\u001b[A\n",
      " 78%|███████▊  | 62/79 [00:21<00:05,  2.91it/s]\u001b[A\n",
      " 80%|███████▉  | 63/79 [00:21<00:05,  2.90it/s]\u001b[A\n",
      " 81%|████████  | 64/79 [00:21<00:05,  2.90it/s]\u001b[A\n",
      " 82%|████████▏ | 65/79 [00:22<00:04,  2.91it/s]\u001b[A\n",
      " 84%|████████▎ | 66/79 [00:22<00:04,  2.90it/s]\u001b[A\n",
      " 85%|████████▍ | 67/79 [00:22<00:04,  2.90it/s]\u001b[A\n",
      " 86%|████████▌ | 68/79 [00:23<00:03,  2.91it/s]\u001b[A\n",
      " 87%|████████▋ | 69/79 [00:23<00:03,  2.91it/s]\u001b[A\n",
      " 89%|████████▊ | 70/79 [00:23<00:03,  2.91it/s]\u001b[A\n",
      " 90%|████████▉ | 71/79 [00:24<00:02,  2.91it/s]\u001b[A\n",
      " 91%|█████████ | 72/79 [00:24<00:02,  2.91it/s]\u001b[A\n",
      " 92%|█████████▏| 73/79 [00:24<00:02,  2.90it/s]\u001b[A\n",
      " 94%|█████████▎| 74/79 [00:25<00:01,  2.91it/s]\u001b[A\n",
      " 95%|█████████▍| 75/79 [00:25<00:01,  2.91it/s]\u001b[A\n",
      " 96%|█████████▌| 76/79 [00:25<00:01,  2.90it/s]\u001b[A\n",
      " 97%|█████████▋| 77/79 [00:26<00:00,  2.91it/s]\u001b[A\n",
      "                                                     \n",
      " 19%|█▉        | 1862/9800 [36:09<1:45:56,  1.25it/s]\n",
      "100%|██████████| 79/79 [00:26<00:00,  2.98it/s]\u001b[A\n",
      "                                               \u001b[A"
     ]
    },
    {
     "name": "stdout",
     "output_type": "stream",
     "text": [
      "{'eval_loss': 3.0807371139526367, 'eval_accuracy': 0.2645, 'eval_runtime': 26.9672, 'eval_samples_per_second': 370.821, 'eval_steps_per_second': 2.929, 'epoch': 19.0}\n"
     ]
    },
    {
     "name": "stderr",
     "output_type": "stream",
     "text": [
      " 19%|█▉        | 1870/9800 [36:18<3:28:34,  1.58s/it] "
     ]
    },
    {
     "name": "stdout",
     "output_type": "stream",
     "text": [
      "{'loss': 2.2711, 'grad_norm': 22.862876892089844, 'learning_rate': 1.6183673469387758e-05, 'epoch': 19.08}\n"
     ]
    },
    {
     "name": "stderr",
     "output_type": "stream",
     "text": [
      " 19%|█▉        | 1880/9800 [36:26<2:00:06,  1.10it/s]"
     ]
    },
    {
     "name": "stdout",
     "output_type": "stream",
     "text": [
      "{'loss': 2.2739, 'grad_norm': 23.40133285522461, 'learning_rate': 1.616326530612245e-05, 'epoch': 19.18}\n"
     ]
    },
    {
     "name": "stderr",
     "output_type": "stream",
     "text": [
      " 19%|█▉        | 1890/9800 [36:35<1:56:33,  1.13it/s]"
     ]
    },
    {
     "name": "stdout",
     "output_type": "stream",
     "text": [
      "{'loss': 2.1738, 'grad_norm': 23.2292423248291, 'learning_rate': 1.6142857142857145e-05, 'epoch': 19.29}\n"
     ]
    },
    {
     "name": "stderr",
     "output_type": "stream",
     "text": [
      " 19%|█▉        | 1900/9800 [36:44<1:56:24,  1.13it/s]"
     ]
    },
    {
     "name": "stdout",
     "output_type": "stream",
     "text": [
      "{'loss': 2.1538, 'grad_norm': 21.989301681518555, 'learning_rate': 1.612244897959184e-05, 'epoch': 19.39}\n"
     ]
    },
    {
     "name": "stderr",
     "output_type": "stream",
     "text": [
      " 19%|█▉        | 1910/9800 [36:53<1:56:49,  1.13it/s]"
     ]
    },
    {
     "name": "stdout",
     "output_type": "stream",
     "text": [
      "{'loss': 2.2185, 'grad_norm': 22.0824031829834, 'learning_rate': 1.610204081632653e-05, 'epoch': 19.49}\n"
     ]
    },
    {
     "name": "stderr",
     "output_type": "stream",
     "text": [
      " 20%|█▉        | 1920/9800 [37:02<1:56:58,  1.12it/s]"
     ]
    },
    {
     "name": "stdout",
     "output_type": "stream",
     "text": [
      "{'loss': 2.2601, 'grad_norm': 24.967350006103516, 'learning_rate': 1.6081632653061226e-05, 'epoch': 19.59}\n"
     ]
    },
    {
     "name": "stderr",
     "output_type": "stream",
     "text": [
      " 20%|█▉        | 1930/9800 [37:11<1:56:42,  1.12it/s]"
     ]
    },
    {
     "name": "stdout",
     "output_type": "stream",
     "text": [
      "{'loss': 2.2457, 'grad_norm': 20.551061630249023, 'learning_rate': 1.6061224489795918e-05, 'epoch': 19.69}\n"
     ]
    },
    {
     "name": "stderr",
     "output_type": "stream",
     "text": [
      " 20%|█▉        | 1940/9800 [37:20<1:55:44,  1.13it/s]"
     ]
    },
    {
     "name": "stdout",
     "output_type": "stream",
     "text": [
      "{'loss': 2.2373, 'grad_norm': 22.866588592529297, 'learning_rate': 1.6040816326530613e-05, 'epoch': 19.8}\n"
     ]
    },
    {
     "name": "stderr",
     "output_type": "stream",
     "text": [
      " 20%|█▉        | 1950/9800 [37:29<1:55:54,  1.13it/s]"
     ]
    },
    {
     "name": "stdout",
     "output_type": "stream",
     "text": [
      "{'loss': 2.225, 'grad_norm': 23.104660034179688, 'learning_rate': 1.6020408163265308e-05, 'epoch': 19.9}\n"
     ]
    },
    {
     "name": "stderr",
     "output_type": "stream",
     "text": [
      " 20%|██        | 1960/9800 [37:37<1:44:23,  1.25it/s]"
     ]
    },
    {
     "name": "stdout",
     "output_type": "stream",
     "text": [
      "{'loss': 2.2711, 'grad_norm': 28.905189514160156, 'learning_rate': 1.6000000000000003e-05, 'epoch': 20.0}\n"
     ]
    },
    {
     "name": "stderr",
     "output_type": "stream",
     "text": [
      "\n",
      "  0%|          | 0/79 [00:00<?, ?it/s]\u001b[A\n",
      "  3%|▎         | 2/79 [00:00<00:13,  5.90it/s]\u001b[A\n",
      "  4%|▍         | 3/79 [00:00<00:18,  4.04it/s]\u001b[A\n",
      "  5%|▌         | 4/79 [00:01<00:21,  3.55it/s]\u001b[A\n",
      "  6%|▋         | 5/79 [00:01<00:22,  3.31it/s]\u001b[A\n",
      "  8%|▊         | 6/79 [00:01<00:23,  3.16it/s]\u001b[A\n",
      "  9%|▉         | 7/79 [00:02<00:23,  3.06it/s]\u001b[A\n",
      " 10%|█         | 8/79 [00:02<00:23,  3.03it/s]\u001b[A\n",
      " 11%|█▏        | 9/79 [00:02<00:23,  2.99it/s]\u001b[A\n",
      " 13%|█▎        | 10/79 [00:03<00:23,  2.95it/s]\u001b[A\n",
      " 14%|█▍        | 11/79 [00:03<00:23,  2.95it/s]\u001b[A\n",
      " 15%|█▌        | 12/79 [00:03<00:22,  2.93it/s]\u001b[A\n",
      " 16%|█▋        | 13/79 [00:04<00:22,  2.92it/s]\u001b[A\n",
      " 18%|█▊        | 14/79 [00:04<00:22,  2.92it/s]\u001b[A\n",
      " 19%|█▉        | 15/79 [00:04<00:21,  2.92it/s]\u001b[A\n",
      " 20%|██        | 16/79 [00:05<00:21,  2.91it/s]\u001b[A\n",
      " 22%|██▏       | 17/79 [00:05<00:21,  2.91it/s]\u001b[A\n",
      " 23%|██▎       | 18/79 [00:05<00:20,  2.91it/s]\u001b[A\n",
      " 24%|██▍       | 19/79 [00:06<00:20,  2.91it/s]\u001b[A\n",
      " 25%|██▌       | 20/79 [00:06<00:20,  2.91it/s]\u001b[A\n",
      " 27%|██▋       | 21/79 [00:06<00:19,  2.90it/s]\u001b[A\n",
      " 28%|██▊       | 22/79 [00:07<00:19,  2.90it/s]\u001b[A\n",
      " 29%|██▉       | 23/79 [00:07<00:19,  2.91it/s]\u001b[A\n",
      " 30%|███       | 24/79 [00:07<00:18,  2.91it/s]\u001b[A\n",
      " 32%|███▏      | 25/79 [00:08<00:18,  2.90it/s]\u001b[A\n",
      " 33%|███▎      | 26/79 [00:08<00:18,  2.91it/s]\u001b[A\n",
      " 34%|███▍      | 27/79 [00:08<00:17,  2.91it/s]\u001b[A\n",
      " 35%|███▌      | 28/79 [00:09<00:17,  2.91it/s]\u001b[A\n",
      " 37%|███▋      | 29/79 [00:09<00:17,  2.90it/s]\u001b[A\n",
      " 38%|███▊      | 30/79 [00:09<00:16,  2.91it/s]\u001b[A\n",
      " 39%|███▉      | 31/79 [00:10<00:16,  2.90it/s]\u001b[A\n",
      " 41%|████      | 32/79 [00:10<00:16,  2.90it/s]\u001b[A\n",
      " 42%|████▏     | 33/79 [00:11<00:15,  2.91it/s]\u001b[A\n",
      " 43%|████▎     | 34/79 [00:11<00:15,  2.91it/s]\u001b[A\n",
      " 44%|████▍     | 35/79 [00:11<00:15,  2.90it/s]\u001b[A\n",
      " 46%|████▌     | 36/79 [00:12<00:14,  2.91it/s]\u001b[A\n",
      " 47%|████▋     | 37/79 [00:12<00:14,  2.91it/s]\u001b[A\n",
      " 48%|████▊     | 38/79 [00:12<00:14,  2.91it/s]\u001b[A\n",
      " 49%|████▉     | 39/79 [00:13<00:13,  2.90it/s]\u001b[A\n",
      " 51%|█████     | 40/79 [00:13<00:13,  2.91it/s]\u001b[A\n",
      " 52%|█████▏    | 41/79 [00:13<00:13,  2.91it/s]\u001b[A\n",
      " 53%|█████▎    | 42/79 [00:14<00:12,  2.90it/s]\u001b[A\n",
      " 54%|█████▍    | 43/79 [00:14<00:12,  2.90it/s]\u001b[A\n",
      " 56%|█████▌    | 44/79 [00:14<00:12,  2.90it/s]\u001b[A\n",
      " 57%|█████▋    | 45/79 [00:15<00:11,  2.90it/s]\u001b[A\n",
      " 58%|█████▊    | 46/79 [00:15<00:11,  2.90it/s]\u001b[A\n",
      " 59%|█████▉    | 47/79 [00:15<00:10,  2.91it/s]\u001b[A\n",
      " 61%|██████    | 48/79 [00:16<00:10,  2.91it/s]\u001b[A\n",
      " 62%|██████▏   | 49/79 [00:16<00:10,  2.90it/s]\u001b[A\n",
      " 63%|██████▎   | 50/79 [00:16<00:09,  2.91it/s]\u001b[A\n",
      " 65%|██████▍   | 51/79 [00:17<00:09,  2.90it/s]\u001b[A\n",
      " 66%|██████▌   | 52/79 [00:17<00:09,  2.90it/s]\u001b[A\n",
      " 67%|██████▋   | 53/79 [00:17<00:08,  2.90it/s]\u001b[A\n",
      " 68%|██████▊   | 54/79 [00:18<00:08,  2.90it/s]\u001b[A\n",
      " 70%|██████▉   | 55/79 [00:18<00:08,  2.91it/s]\u001b[A\n",
      " 71%|███████   | 56/79 [00:18<00:07,  2.90it/s]\u001b[A\n",
      " 72%|███████▏  | 57/79 [00:19<00:07,  2.90it/s]\u001b[A\n",
      " 73%|███████▎  | 58/79 [00:19<00:07,  2.90it/s]\u001b[A\n",
      " 75%|███████▍  | 59/79 [00:19<00:06,  2.91it/s]\u001b[A\n",
      " 76%|███████▌  | 60/79 [00:20<00:06,  2.91it/s]\u001b[A\n",
      " 77%|███████▋  | 61/79 [00:20<00:06,  2.91it/s]\u001b[A\n",
      " 78%|███████▊  | 62/79 [00:20<00:05,  2.91it/s]\u001b[A\n",
      " 80%|███████▉  | 63/79 [00:21<00:05,  2.91it/s]\u001b[A\n",
      " 81%|████████  | 64/79 [00:21<00:05,  2.90it/s]\u001b[A\n",
      " 82%|████████▏ | 65/79 [00:22<00:04,  2.90it/s]\u001b[A\n",
      " 84%|████████▎ | 66/79 [00:22<00:04,  2.91it/s]\u001b[A\n",
      " 85%|████████▍ | 67/79 [00:22<00:04,  2.90it/s]\u001b[A\n",
      " 86%|████████▌ | 68/79 [00:23<00:03,  2.90it/s]\u001b[A\n",
      " 87%|████████▋ | 69/79 [00:23<00:03,  2.91it/s]\u001b[A\n",
      " 89%|████████▊ | 70/79 [00:23<00:03,  2.92it/s]\u001b[A\n",
      " 90%|████████▉ | 71/79 [00:24<00:02,  2.90it/s]\u001b[A\n",
      " 91%|█████████ | 72/79 [00:24<00:02,  2.90it/s]\u001b[A\n",
      " 92%|█████████▏| 73/79 [00:24<00:02,  2.91it/s]\u001b[A\n",
      " 94%|█████████▎| 74/79 [00:25<00:01,  2.90it/s]\u001b[A\n",
      " 95%|█████████▍| 75/79 [00:25<00:01,  2.91it/s]\u001b[A\n",
      " 96%|█████████▌| 76/79 [00:25<00:01,  2.90it/s]\u001b[A\n",
      " 97%|█████████▋| 77/79 [00:26<00:00,  2.91it/s]\u001b[A\n",
      "                                                     \n",
      " 20%|██        | 1960/9800 [38:04<1:44:23,  1.25it/s]\n",
      "100%|██████████| 79/79 [00:26<00:00,  2.97it/s]\u001b[A\n",
      "                                               \u001b[A"
     ]
    },
    {
     "name": "stdout",
     "output_type": "stream",
     "text": [
      "{'eval_loss': 3.080996036529541, 'eval_accuracy': 0.2636, 'eval_runtime': 26.9475, 'eval_samples_per_second': 371.092, 'eval_steps_per_second': 2.932, 'epoch': 20.0}\n"
     ]
    },
    {
     "name": "stderr",
     "output_type": "stream",
     "text": [
      " 20%|██        | 1970/9800 [38:14<2:39:01,  1.22s/it] "
     ]
    },
    {
     "name": "stdout",
     "output_type": "stream",
     "text": [
      "{'loss': 2.1216, 'grad_norm': 22.5098876953125, 'learning_rate': 1.5979591836734694e-05, 'epoch': 20.1}\n"
     ]
    },
    {
     "name": "stderr",
     "output_type": "stream",
     "text": [
      " 20%|██        | 1980/9800 [38:23<1:56:47,  1.12it/s]"
     ]
    },
    {
     "name": "stdout",
     "output_type": "stream",
     "text": [
      "{'loss': 2.189, 'grad_norm': 27.698410034179688, 'learning_rate': 1.595918367346939e-05, 'epoch': 20.2}\n"
     ]
    },
    {
     "name": "stderr",
     "output_type": "stream",
     "text": [
      " 20%|██        | 1990/9800 [38:32<1:55:29,  1.13it/s]"
     ]
    },
    {
     "name": "stdout",
     "output_type": "stream",
     "text": [
      "{'loss': 2.1511, 'grad_norm': 23.852548599243164, 'learning_rate': 1.5938775510204084e-05, 'epoch': 20.31}\n"
     ]
    },
    {
     "name": "stderr",
     "output_type": "stream",
     "text": [
      " 20%|██        | 2000/9800 [38:41<2:01:03,  1.07it/s]"
     ]
    },
    {
     "name": "stdout",
     "output_type": "stream",
     "text": [
      "{'loss': 2.1948, 'grad_norm': 24.668373107910156, 'learning_rate': 1.5918367346938776e-05, 'epoch': 20.41}\n"
     ]
    },
    {
     "name": "stderr",
     "output_type": "stream",
     "text": [
      " 21%|██        | 2010/9800 [38:50<1:55:48,  1.12it/s]"
     ]
    },
    {
     "name": "stdout",
     "output_type": "stream",
     "text": [
      "{'loss': 2.0892, 'grad_norm': 23.937164306640625, 'learning_rate': 1.589795918367347e-05, 'epoch': 20.51}\n"
     ]
    },
    {
     "name": "stderr",
     "output_type": "stream",
     "text": [
      " 21%|██        | 2020/9800 [38:59<1:55:00,  1.13it/s]"
     ]
    },
    {
     "name": "stdout",
     "output_type": "stream",
     "text": [
      "{'loss': 2.1536, 'grad_norm': 21.100255966186523, 'learning_rate': 1.5877551020408162e-05, 'epoch': 20.61}\n"
     ]
    },
    {
     "name": "stderr",
     "output_type": "stream",
     "text": [
      " 21%|██        | 2030/9800 [39:07<1:54:38,  1.13it/s]"
     ]
    },
    {
     "name": "stdout",
     "output_type": "stream",
     "text": [
      "{'loss': 2.1582, 'grad_norm': 29.472501754760742, 'learning_rate': 1.5857142857142857e-05, 'epoch': 20.71}\n"
     ]
    },
    {
     "name": "stderr",
     "output_type": "stream",
     "text": [
      " 21%|██        | 2040/9800 [39:16<1:54:43,  1.13it/s]"
     ]
    },
    {
     "name": "stdout",
     "output_type": "stream",
     "text": [
      "{'loss': 2.1811, 'grad_norm': 26.508901596069336, 'learning_rate': 1.5836734693877552e-05, 'epoch': 20.82}\n"
     ]
    },
    {
     "name": "stderr",
     "output_type": "stream",
     "text": [
      " 21%|██        | 2050/9800 [39:25<1:54:49,  1.12it/s]"
     ]
    },
    {
     "name": "stdout",
     "output_type": "stream",
     "text": [
      "{'loss': 2.1854, 'grad_norm': 25.762401580810547, 'learning_rate': 1.5816326530612247e-05, 'epoch': 20.92}\n"
     ]
    },
    {
     "name": "stderr",
     "output_type": "stream",
     "text": [
      " 21%|██        | 2058/9800 [39:32<1:43:09,  1.25it/s]\n",
      "  0%|          | 0/79 [00:00<?, ?it/s]\u001b[A\n",
      "  3%|▎         | 2/79 [00:00<00:13,  5.89it/s]\u001b[A\n",
      "  4%|▍         | 3/79 [00:00<00:18,  4.06it/s]\u001b[A\n",
      "  5%|▌         | 4/79 [00:01<00:21,  3.55it/s]\u001b[A\n",
      "  6%|▋         | 5/79 [00:01<00:22,  3.30it/s]\u001b[A\n",
      "  8%|▊         | 6/79 [00:01<00:23,  3.16it/s]\u001b[A\n",
      "  9%|▉         | 7/79 [00:02<00:23,  3.06it/s]\u001b[A\n",
      " 10%|█         | 8/79 [00:02<00:23,  3.01it/s]\u001b[A\n",
      " 11%|█▏        | 9/79 [00:02<00:23,  2.98it/s]\u001b[A\n",
      " 13%|█▎        | 10/79 [00:03<00:23,  2.94it/s]\u001b[A\n",
      " 14%|█▍        | 11/79 [00:03<00:23,  2.94it/s]\u001b[A\n",
      " 15%|█▌        | 12/79 [00:03<00:22,  2.94it/s]\u001b[A\n",
      " 16%|█▋        | 13/79 [00:04<00:22,  2.93it/s]\u001b[A\n",
      " 18%|█▊        | 14/79 [00:04<00:22,  2.91it/s]\u001b[A\n",
      " 19%|█▉        | 15/79 [00:04<00:21,  2.92it/s]\u001b[A\n",
      " 20%|██        | 16/79 [00:05<00:21,  2.91it/s]\u001b[A\n",
      " 22%|██▏       | 17/79 [00:05<00:21,  2.91it/s]\u001b[A\n",
      " 23%|██▎       | 18/79 [00:05<00:20,  2.91it/s]\u001b[A\n",
      " 24%|██▍       | 19/79 [00:06<00:20,  2.92it/s]\u001b[A\n",
      " 25%|██▌       | 20/79 [00:06<00:20,  2.91it/s]\u001b[A\n",
      " 27%|██▋       | 21/79 [00:06<00:19,  2.91it/s]\u001b[A\n",
      " 28%|██▊       | 22/79 [00:07<00:19,  2.91it/s]\u001b[A\n",
      " 29%|██▉       | 23/79 [00:07<00:19,  2.90it/s]\u001b[A\n",
      " 30%|███       | 24/79 [00:07<00:18,  2.91it/s]\u001b[A\n",
      " 32%|███▏      | 25/79 [00:08<00:18,  2.91it/s]\u001b[A\n",
      " 33%|███▎      | 26/79 [00:08<00:18,  2.91it/s]\u001b[A\n",
      " 34%|███▍      | 27/79 [00:08<00:17,  2.91it/s]\u001b[A\n",
      " 35%|███▌      | 28/79 [00:09<00:17,  2.91it/s]\u001b[A\n",
      " 37%|███▋      | 29/79 [00:09<00:17,  2.91it/s]\u001b[A\n",
      " 38%|███▊      | 30/79 [00:09<00:16,  2.91it/s]\u001b[A\n",
      " 39%|███▉      | 31/79 [00:10<00:16,  2.91it/s]\u001b[A\n",
      " 41%|████      | 32/79 [00:10<00:16,  2.91it/s]\u001b[A\n",
      " 42%|████▏     | 33/79 [00:11<00:15,  2.91it/s]\u001b[A\n",
      " 43%|████▎     | 34/79 [00:11<00:15,  2.91it/s]\u001b[A\n",
      " 44%|████▍     | 35/79 [00:11<00:15,  2.91it/s]\u001b[A\n",
      " 46%|████▌     | 36/79 [00:12<00:14,  2.91it/s]\u001b[A\n",
      " 47%|████▋     | 37/79 [00:12<00:14,  2.91it/s]\u001b[A\n",
      " 48%|████▊     | 38/79 [00:12<00:14,  2.91it/s]\u001b[A\n",
      " 49%|████▉     | 39/79 [00:13<00:13,  2.91it/s]\u001b[A\n",
      " 51%|█████     | 40/79 [00:13<00:13,  2.92it/s]\u001b[A\n",
      " 52%|█████▏    | 41/79 [00:13<00:13,  2.91it/s]\u001b[A\n",
      " 53%|█████▎    | 42/79 [00:14<00:12,  2.90it/s]\u001b[A\n",
      " 54%|█████▍    | 43/79 [00:14<00:12,  2.91it/s]\u001b[A\n",
      " 56%|█████▌    | 44/79 [00:14<00:12,  2.91it/s]\u001b[A\n",
      " 57%|█████▋    | 45/79 [00:15<00:11,  2.91it/s]\u001b[A\n",
      " 58%|█████▊    | 46/79 [00:15<00:11,  2.92it/s]\u001b[A\n",
      " 59%|█████▉    | 47/79 [00:15<00:10,  2.92it/s]\u001b[A\n",
      " 61%|██████    | 48/79 [00:16<00:10,  2.93it/s]\u001b[A\n",
      " 62%|██████▏   | 49/79 [00:16<00:10,  2.93it/s]\u001b[A\n",
      " 63%|██████▎   | 50/79 [00:16<00:09,  2.94it/s]\u001b[A\n",
      " 65%|██████▍   | 51/79 [00:17<00:09,  2.93it/s]\u001b[A\n",
      " 66%|██████▌   | 52/79 [00:17<00:09,  2.92it/s]\u001b[A\n",
      " 67%|██████▋   | 53/79 [00:17<00:08,  2.92it/s]\u001b[A\n",
      " 68%|██████▊   | 54/79 [00:18<00:08,  2.91it/s]\u001b[A\n",
      " 70%|██████▉   | 55/79 [00:18<00:08,  2.91it/s]\u001b[A\n",
      " 71%|███████   | 56/79 [00:18<00:07,  2.92it/s]\u001b[A\n",
      " 72%|███████▏  | 57/79 [00:19<00:07,  2.92it/s]\u001b[A\n",
      " 73%|███████▎  | 58/79 [00:19<00:07,  2.91it/s]\u001b[A\n",
      " 75%|███████▍  | 59/79 [00:19<00:06,  2.91it/s]\u001b[A\n",
      " 76%|███████▌  | 60/79 [00:20<00:06,  2.91it/s]\u001b[A\n",
      " 77%|███████▋  | 61/79 [00:20<00:06,  2.91it/s]\u001b[A\n",
      " 78%|███████▊  | 62/79 [00:20<00:05,  2.91it/s]\u001b[A\n",
      " 80%|███████▉  | 63/79 [00:21<00:05,  2.91it/s]\u001b[A\n",
      " 81%|████████  | 64/79 [00:21<00:05,  2.91it/s]\u001b[A\n",
      " 82%|████████▏ | 65/79 [00:21<00:04,  2.91it/s]\u001b[A\n",
      " 84%|████████▎ | 66/79 [00:22<00:04,  2.90it/s]\u001b[A\n",
      " 85%|████████▍ | 67/79 [00:22<00:04,  2.91it/s]\u001b[A\n",
      " 86%|████████▌ | 68/79 [00:23<00:03,  2.91it/s]\u001b[A\n",
      " 87%|████████▋ | 69/79 [00:23<00:03,  2.90it/s]\u001b[A\n",
      " 89%|████████▊ | 70/79 [00:23<00:03,  2.90it/s]\u001b[A\n",
      " 90%|████████▉ | 71/79 [00:24<00:02,  2.91it/s]\u001b[A\n",
      " 91%|█████████ | 72/79 [00:24<00:02,  2.90it/s]\u001b[A\n",
      " 92%|█████████▏| 73/79 [00:24<00:02,  2.90it/s]\u001b[A\n",
      " 94%|█████████▎| 74/79 [00:25<00:01,  2.91it/s]\u001b[A\n",
      " 95%|█████████▍| 75/79 [00:25<00:01,  2.91it/s]\u001b[A\n",
      " 96%|█████████▌| 76/79 [00:25<00:01,  2.90it/s]\u001b[A\n",
      " 97%|█████████▋| 77/79 [00:26<00:00,  2.91it/s]\u001b[A\n",
      "                                                     \n",
      " 21%|██        | 2058/9800 [39:59<1:43:09,  1.25it/s]\n",
      "100%|██████████| 79/79 [00:26<00:00,  2.99it/s]\u001b[A\n",
      "                                               \u001b[A"
     ]
    },
    {
     "name": "stdout",
     "output_type": "stream",
     "text": [
      "{'eval_loss': 3.067105531692505, 'eval_accuracy': 0.2646, 'eval_runtime': 26.9028, 'eval_samples_per_second': 371.709, 'eval_steps_per_second': 2.936, 'epoch': 21.0}\n"
     ]
    },
    {
     "name": "stderr",
     "output_type": "stream",
     "text": [
      " 21%|██        | 2060/9800 [40:02<14:27:37,  6.73s/it]"
     ]
    },
    {
     "name": "stdout",
     "output_type": "stream",
     "text": [
      "{'loss': 2.0859, 'grad_norm': 23.580411911010742, 'learning_rate': 1.5795918367346942e-05, 'epoch': 21.02}\n"
     ]
    },
    {
     "name": "stderr",
     "output_type": "stream",
     "text": [
      " 21%|██        | 2070/9800 [40:11<2:15:06,  1.05s/it] "
     ]
    },
    {
     "name": "stdout",
     "output_type": "stream",
     "text": [
      "{'loss': 2.0587, 'grad_norm': 25.676898956298828, 'learning_rate': 1.5775510204081634e-05, 'epoch': 21.12}\n"
     ]
    },
    {
     "name": "stderr",
     "output_type": "stream",
     "text": [
      " 21%|██        | 2080/9800 [40:19<1:54:49,  1.12it/s]"
     ]
    },
    {
     "name": "stdout",
     "output_type": "stream",
     "text": [
      "{'loss': 2.0916, 'grad_norm': 28.192062377929688, 'learning_rate': 1.575510204081633e-05, 'epoch': 21.22}\n"
     ]
    },
    {
     "name": "stderr",
     "output_type": "stream",
     "text": [
      " 21%|██▏       | 2090/9800 [40:28<1:54:08,  1.13it/s]"
     ]
    },
    {
     "name": "stdout",
     "output_type": "stream",
     "text": [
      "{'loss': 2.1128, 'grad_norm': 26.35967254638672, 'learning_rate': 1.573469387755102e-05, 'epoch': 21.33}\n"
     ]
    },
    {
     "name": "stderr",
     "output_type": "stream",
     "text": [
      " 21%|██▏       | 2100/9800 [40:37<1:54:17,  1.12it/s]"
     ]
    },
    {
     "name": "stdout",
     "output_type": "stream",
     "text": [
      "{'loss': 2.0012, 'grad_norm': 25.627565383911133, 'learning_rate': 1.5714285714285715e-05, 'epoch': 21.43}\n"
     ]
    },
    {
     "name": "stderr",
     "output_type": "stream",
     "text": [
      " 22%|██▏       | 2110/9800 [40:46<1:53:12,  1.13it/s]"
     ]
    },
    {
     "name": "stdout",
     "output_type": "stream",
     "text": [
      "{'loss': 2.0698, 'grad_norm': 23.990781784057617, 'learning_rate': 1.569387755102041e-05, 'epoch': 21.53}\n"
     ]
    },
    {
     "name": "stderr",
     "output_type": "stream",
     "text": [
      " 22%|██▏       | 2120/9800 [40:55<1:52:47,  1.13it/s]"
     ]
    },
    {
     "name": "stdout",
     "output_type": "stream",
     "text": [
      "{'loss': 2.0874, 'grad_norm': 23.98094940185547, 'learning_rate': 1.5673469387755102e-05, 'epoch': 21.63}\n"
     ]
    },
    {
     "name": "stderr",
     "output_type": "stream",
     "text": [
      " 22%|██▏       | 2130/9800 [41:04<1:52:55,  1.13it/s]"
     ]
    },
    {
     "name": "stdout",
     "output_type": "stream",
     "text": [
      "{'loss': 2.0743, 'grad_norm': 24.076091766357422, 'learning_rate': 1.5653061224489797e-05, 'epoch': 21.73}\n"
     ]
    },
    {
     "name": "stderr",
     "output_type": "stream",
     "text": [
      " 22%|██▏       | 2140/9800 [41:13<1:53:28,  1.13it/s]"
     ]
    },
    {
     "name": "stdout",
     "output_type": "stream",
     "text": [
      "{'loss': 2.0937, 'grad_norm': 26.513025283813477, 'learning_rate': 1.5632653061224492e-05, 'epoch': 21.84}\n"
     ]
    },
    {
     "name": "stderr",
     "output_type": "stream",
     "text": [
      " 22%|██▏       | 2150/9800 [41:22<1:53:45,  1.12it/s]"
     ]
    },
    {
     "name": "stdout",
     "output_type": "stream",
     "text": [
      "{'loss': 2.0807, 'grad_norm': 25.42589569091797, 'learning_rate': 1.5612244897959187e-05, 'epoch': 21.94}\n"
     ]
    },
    {
     "name": "stderr",
     "output_type": "stream",
     "text": [
      " 22%|██▏       | 2156/9800 [41:27<1:41:56,  1.25it/s]\n",
      "  0%|          | 0/79 [00:00<?, ?it/s]\u001b[A\n",
      "  3%|▎         | 2/79 [00:00<00:13,  5.87it/s]\u001b[A\n",
      "  4%|▍         | 3/79 [00:00<00:18,  4.05it/s]\u001b[A\n",
      "  5%|▌         | 4/79 [00:01<00:21,  3.55it/s]\u001b[A\n",
      "  6%|▋         | 5/79 [00:01<00:22,  3.30it/s]\u001b[A\n",
      "  8%|▊         | 6/79 [00:01<00:23,  3.14it/s]\u001b[A\n",
      "  9%|▉         | 7/79 [00:02<00:23,  3.07it/s]\u001b[A\n",
      " 10%|█         | 8/79 [00:02<00:23,  3.02it/s]\u001b[A\n",
      " 11%|█▏        | 9/79 [00:02<00:23,  2.97it/s]\u001b[A\n",
      " 13%|█▎        | 10/79 [00:03<00:23,  2.95it/s]\u001b[A\n",
      " 14%|█▍        | 11/79 [00:03<00:23,  2.94it/s]\u001b[A\n",
      " 15%|█▌        | 12/79 [00:03<00:22,  2.92it/s]\u001b[A\n",
      " 16%|█▋        | 13/79 [00:04<00:22,  2.92it/s]\u001b[A\n",
      " 18%|█▊        | 14/79 [00:04<00:22,  2.92it/s]\u001b[A\n",
      " 19%|█▉        | 15/79 [00:04<00:21,  2.91it/s]\u001b[A\n",
      " 20%|██        | 16/79 [00:05<00:21,  2.90it/s]\u001b[A\n",
      " 22%|██▏       | 17/79 [00:05<00:21,  2.91it/s]\u001b[A\n",
      " 23%|██▎       | 18/79 [00:05<00:20,  2.91it/s]\u001b[A\n",
      " 24%|██▍       | 19/79 [00:06<00:20,  2.91it/s]\u001b[A\n",
      " 25%|██▌       | 20/79 [00:06<00:20,  2.91it/s]\u001b[A\n",
      " 27%|██▋       | 21/79 [00:06<00:19,  2.91it/s]\u001b[A\n",
      " 28%|██▊       | 22/79 [00:07<00:19,  2.91it/s]\u001b[A\n",
      " 29%|██▉       | 23/79 [00:07<00:19,  2.91it/s]\u001b[A\n",
      " 30%|███       | 24/79 [00:07<00:18,  2.90it/s]\u001b[A\n",
      " 32%|███▏      | 25/79 [00:08<00:18,  2.90it/s]\u001b[A\n",
      " 33%|███▎      | 26/79 [00:08<00:18,  2.91it/s]\u001b[A\n",
      " 34%|███▍      | 27/79 [00:08<00:17,  2.91it/s]\u001b[A\n",
      " 35%|███▌      | 28/79 [00:09<00:17,  2.91it/s]\u001b[A\n",
      " 37%|███▋      | 29/79 [00:09<00:17,  2.91it/s]\u001b[A\n",
      " 38%|███▊      | 30/79 [00:09<00:16,  2.91it/s]\u001b[A\n",
      " 39%|███▉      | 31/79 [00:10<00:16,  2.91it/s]\u001b[A\n",
      " 41%|████      | 32/79 [00:10<00:16,  2.90it/s]\u001b[A\n",
      " 42%|████▏     | 33/79 [00:11<00:15,  2.91it/s]\u001b[A\n",
      " 43%|████▎     | 34/79 [00:11<00:15,  2.92it/s]\u001b[A\n",
      " 44%|████▍     | 35/79 [00:11<00:15,  2.91it/s]\u001b[A\n",
      " 46%|████▌     | 36/79 [00:12<00:14,  2.90it/s]\u001b[A\n",
      " 47%|████▋     | 37/79 [00:12<00:14,  2.91it/s]\u001b[A\n",
      " 48%|████▊     | 38/79 [00:12<00:14,  2.91it/s]\u001b[A\n",
      " 49%|████▉     | 39/79 [00:13<00:13,  2.91it/s]\u001b[A\n",
      " 51%|█████     | 40/79 [00:13<00:13,  2.91it/s]\u001b[A\n",
      " 52%|█████▏    | 41/79 [00:13<00:13,  2.92it/s]\u001b[A\n",
      " 53%|█████▎    | 42/79 [00:14<00:12,  2.91it/s]\u001b[A\n",
      " 54%|█████▍    | 43/79 [00:14<00:12,  2.91it/s]\u001b[A\n",
      " 56%|█████▌    | 44/79 [00:14<00:12,  2.91it/s]\u001b[A\n",
      " 57%|█████▋    | 45/79 [00:15<00:11,  2.91it/s]\u001b[A\n",
      " 58%|█████▊    | 46/79 [00:15<00:11,  2.91it/s]\u001b[A\n",
      " 59%|█████▉    | 47/79 [00:15<00:10,  2.91it/s]\u001b[A\n",
      " 61%|██████    | 48/79 [00:16<00:10,  2.92it/s]\u001b[A\n",
      " 62%|██████▏   | 49/79 [00:16<00:10,  2.93it/s]\u001b[A\n",
      " 63%|██████▎   | 50/79 [00:16<00:09,  2.94it/s]\u001b[A\n",
      " 65%|██████▍   | 51/79 [00:17<00:09,  2.94it/s]\u001b[A\n",
      " 66%|██████▌   | 52/79 [00:17<00:09,  2.93it/s]\u001b[A\n",
      " 67%|██████▋   | 53/79 [00:17<00:08,  2.93it/s]\u001b[A\n",
      " 68%|██████▊   | 54/79 [00:18<00:08,  2.92it/s]\u001b[A\n",
      " 70%|██████▉   | 55/79 [00:18<00:08,  2.92it/s]\u001b[A\n",
      " 71%|███████   | 56/79 [00:18<00:07,  2.92it/s]\u001b[A\n",
      " 72%|███████▏  | 57/79 [00:19<00:07,  2.93it/s]\u001b[A\n",
      " 73%|███████▎  | 58/79 [00:19<00:07,  2.93it/s]\u001b[A\n",
      " 75%|███████▍  | 59/79 [00:19<00:06,  2.94it/s]\u001b[A\n",
      " 76%|███████▌  | 60/79 [00:20<00:06,  2.93it/s]\u001b[A\n",
      " 77%|███████▋  | 61/79 [00:20<00:06,  2.91it/s]\u001b[A\n",
      " 78%|███████▊  | 62/79 [00:20<00:05,  2.92it/s]\u001b[A\n",
      " 80%|███████▉  | 63/79 [00:21<00:05,  2.91it/s]\u001b[A\n",
      " 81%|████████  | 64/79 [00:21<00:05,  2.91it/s]\u001b[A\n",
      " 82%|████████▏ | 65/79 [00:21<00:04,  2.91it/s]\u001b[A\n",
      " 84%|████████▎ | 66/79 [00:22<00:04,  2.91it/s]\u001b[A\n",
      " 85%|████████▍ | 67/79 [00:22<00:04,  2.91it/s]\u001b[A\n",
      " 86%|████████▌ | 68/79 [00:23<00:03,  2.91it/s]\u001b[A\n",
      " 87%|████████▋ | 69/79 [00:23<00:03,  2.91it/s]\u001b[A\n",
      " 89%|████████▊ | 70/79 [00:23<00:03,  2.90it/s]\u001b[A\n",
      " 90%|████████▉ | 71/79 [00:24<00:02,  2.90it/s]\u001b[A\n",
      " 91%|█████████ | 72/79 [00:24<00:02,  2.91it/s]\u001b[A\n",
      " 92%|█████████▏| 73/79 [00:24<00:02,  2.91it/s]\u001b[A\n",
      " 94%|█████████▎| 74/79 [00:25<00:01,  2.91it/s]\u001b[A\n",
      " 95%|█████████▍| 75/79 [00:25<00:01,  2.91it/s]\u001b[A\n",
      " 96%|█████████▌| 76/79 [00:25<00:01,  2.91it/s]\u001b[A\n",
      " 97%|█████████▋| 77/79 [00:26<00:00,  2.91it/s]\u001b[A\n",
      "                                                     \n",
      " 22%|██▏       | 2156/9800 [41:54<1:41:56,  1.25it/s]\n",
      "100%|██████████| 79/79 [00:26<00:00,  2.97it/s]\u001b[A\n",
      "                                               \u001b[A"
     ]
    },
    {
     "name": "stdout",
     "output_type": "stream",
     "text": [
      "{'eval_loss': 3.067214012145996, 'eval_accuracy': 0.2728, 'eval_runtime': 26.9062, 'eval_samples_per_second': 371.661, 'eval_steps_per_second': 2.936, 'epoch': 22.0}\n"
     ]
    },
    {
     "name": "stderr",
     "output_type": "stream",
     "text": [
      " 22%|██▏       | 2160/9800 [41:58<7:56:21,  3.74s/it] "
     ]
    },
    {
     "name": "stdout",
     "output_type": "stream",
     "text": [
      "{'loss': 2.0608, 'grad_norm': 24.73100471496582, 'learning_rate': 1.559183673469388e-05, 'epoch': 22.04}\n"
     ]
    },
    {
     "name": "stderr",
     "output_type": "stream",
     "text": [
      " 22%|██▏       | 2170/9800 [42:07<2:03:04,  1.03it/s]"
     ]
    },
    {
     "name": "stdout",
     "output_type": "stream",
     "text": [
      "{'loss': 1.9397, 'grad_norm': 27.934886932373047, 'learning_rate': 1.5571428571428573e-05, 'epoch': 22.14}\n"
     ]
    },
    {
     "name": "stderr",
     "output_type": "stream",
     "text": [
      " 22%|██▏       | 2180/9800 [42:16<1:53:08,  1.12it/s]"
     ]
    },
    {
     "name": "stdout",
     "output_type": "stream",
     "text": [
      "{'loss': 1.9691, 'grad_norm': 30.149417877197266, 'learning_rate': 1.5551020408163265e-05, 'epoch': 22.24}\n"
     ]
    },
    {
     "name": "stderr",
     "output_type": "stream",
     "text": [
      " 22%|██▏       | 2190/9800 [42:25<1:52:53,  1.12it/s]"
     ]
    },
    {
     "name": "stdout",
     "output_type": "stream",
     "text": [
      "{'loss': 1.9559, 'grad_norm': 26.71772003173828, 'learning_rate': 1.553061224489796e-05, 'epoch': 22.35}\n"
     ]
    },
    {
     "name": "stderr",
     "output_type": "stream",
     "text": [
      " 22%|██▏       | 2200/9800 [42:34<1:51:38,  1.13it/s]"
     ]
    },
    {
     "name": "stdout",
     "output_type": "stream",
     "text": [
      "{'loss': 2.001, 'grad_norm': 27.53269386291504, 'learning_rate': 1.5510204081632655e-05, 'epoch': 22.45}\n"
     ]
    },
    {
     "name": "stderr",
     "output_type": "stream",
     "text": [
      " 23%|██▎       | 2210/9800 [42:42<1:51:54,  1.13it/s]"
     ]
    },
    {
     "name": "stdout",
     "output_type": "stream",
     "text": [
      "{'loss': 2.0256, 'grad_norm': 26.366010665893555, 'learning_rate': 1.5489795918367346e-05, 'epoch': 22.55}\n"
     ]
    },
    {
     "name": "stderr",
     "output_type": "stream",
     "text": [
      " 23%|██▎       | 2220/9800 [42:51<1:52:20,  1.12it/s]"
     ]
    },
    {
     "name": "stdout",
     "output_type": "stream",
     "text": [
      "{'loss': 1.9648, 'grad_norm': 24.54458236694336, 'learning_rate': 1.546938775510204e-05, 'epoch': 22.65}\n"
     ]
    },
    {
     "name": "stderr",
     "output_type": "stream",
     "text": [
      " 23%|██▎       | 2230/9800 [43:00<1:51:50,  1.13it/s]"
     ]
    },
    {
     "name": "stdout",
     "output_type": "stream",
     "text": [
      "{'loss': 2.0025, 'grad_norm': 23.864604949951172, 'learning_rate': 1.5448979591836736e-05, 'epoch': 22.76}\n"
     ]
    },
    {
     "name": "stderr",
     "output_type": "stream",
     "text": [
      " 23%|██▎       | 2240/9800 [43:09<1:52:04,  1.12it/s]"
     ]
    },
    {
     "name": "stdout",
     "output_type": "stream",
     "text": [
      "{'loss': 2.0127, 'grad_norm': 26.005849838256836, 'learning_rate': 1.542857142857143e-05, 'epoch': 22.86}\n"
     ]
    },
    {
     "name": "stderr",
     "output_type": "stream",
     "text": [
      " 23%|██▎       | 2250/9800 [43:18<1:51:51,  1.13it/s]"
     ]
    },
    {
     "name": "stdout",
     "output_type": "stream",
     "text": [
      "{'loss': 2.0367, 'grad_norm': 25.954954147338867, 'learning_rate': 1.5408163265306123e-05, 'epoch': 22.96}\n"
     ]
    },
    {
     "name": "stderr",
     "output_type": "stream",
     "text": [
      " 23%|██▎       | 2254/9800 [43:21<1:39:57,  1.26it/s]\n",
      "  0%|          | 0/79 [00:00<?, ?it/s]\u001b[A\n",
      "  3%|▎         | 2/79 [00:00<00:12,  5.98it/s]\u001b[A\n",
      "  4%|▍         | 3/79 [00:00<00:18,  4.10it/s]\u001b[A\n",
      "  5%|▌         | 4/79 [00:01<00:21,  3.57it/s]\u001b[A\n",
      "  6%|▋         | 5/79 [00:01<00:22,  3.32it/s]\u001b[A\n",
      "  8%|▊         | 6/79 [00:01<00:23,  3.16it/s]\u001b[A\n",
      "  9%|▉         | 7/79 [00:02<00:23,  3.08it/s]\u001b[A\n",
      " 10%|█         | 8/79 [00:02<00:23,  3.03it/s]\u001b[A\n",
      " 11%|█▏        | 9/79 [00:02<00:23,  3.00it/s]\u001b[A\n",
      " 13%|█▎        | 10/79 [00:03<00:23,  2.98it/s]\u001b[A\n",
      " 14%|█▍        | 11/79 [00:03<00:22,  2.96it/s]\u001b[A\n",
      " 15%|█▌        | 12/79 [00:03<00:22,  2.96it/s]\u001b[A\n",
      " 16%|█▋        | 13/79 [00:04<00:22,  2.95it/s]\u001b[A\n",
      " 18%|█▊        | 14/79 [00:04<00:22,  2.93it/s]\u001b[A\n",
      " 19%|█▉        | 15/79 [00:04<00:21,  2.93it/s]\u001b[A\n",
      " 20%|██        | 16/79 [00:05<00:21,  2.93it/s]\u001b[A\n",
      " 22%|██▏       | 17/79 [00:05<00:21,  2.92it/s]\u001b[A\n",
      " 23%|██▎       | 18/79 [00:05<00:20,  2.92it/s]\u001b[A\n",
      " 24%|██▍       | 19/79 [00:06<00:20,  2.92it/s]\u001b[A\n",
      " 25%|██▌       | 20/79 [00:06<00:20,  2.91it/s]\u001b[A\n",
      " 27%|██▋       | 21/79 [00:06<00:19,  2.92it/s]\u001b[A\n",
      " 28%|██▊       | 22/79 [00:07<00:19,  2.93it/s]\u001b[A\n",
      " 29%|██▉       | 23/79 [00:07<00:19,  2.93it/s]\u001b[A\n",
      " 30%|███       | 24/79 [00:07<00:18,  2.93it/s]\u001b[A\n",
      " 32%|███▏      | 25/79 [00:08<00:18,  2.92it/s]\u001b[A\n",
      " 33%|███▎      | 26/79 [00:08<00:18,  2.92it/s]\u001b[A\n",
      " 34%|███▍      | 27/79 [00:08<00:17,  2.92it/s]\u001b[A\n",
      " 35%|███▌      | 28/79 [00:09<00:17,  2.91it/s]\u001b[A\n",
      " 37%|███▋      | 29/79 [00:09<00:17,  2.91it/s]\u001b[A\n",
      " 38%|███▊      | 30/79 [00:09<00:16,  2.91it/s]\u001b[A\n",
      " 39%|███▉      | 31/79 [00:10<00:16,  2.91it/s]\u001b[A\n",
      " 41%|████      | 32/79 [00:10<00:16,  2.91it/s]\u001b[A\n",
      " 42%|████▏     | 33/79 [00:10<00:15,  2.92it/s]\u001b[A\n",
      " 43%|████▎     | 34/79 [00:11<00:15,  2.91it/s]\u001b[A\n",
      " 44%|████▍     | 35/79 [00:11<00:15,  2.91it/s]\u001b[A\n",
      " 46%|████▌     | 36/79 [00:11<00:14,  2.92it/s]\u001b[A\n",
      " 47%|████▋     | 37/79 [00:12<00:14,  2.93it/s]\u001b[A\n",
      " 48%|████▊     | 38/79 [00:12<00:13,  2.93it/s]\u001b[A\n",
      " 49%|████▉     | 39/79 [00:13<00:13,  2.91it/s]\u001b[A\n",
      " 51%|█████     | 40/79 [00:13<00:13,  2.91it/s]\u001b[A\n",
      " 52%|█████▏    | 41/79 [00:13<00:13,  2.92it/s]\u001b[A\n",
      " 53%|█████▎    | 42/79 [00:14<00:12,  2.91it/s]\u001b[A\n",
      " 54%|█████▍    | 43/79 [00:14<00:12,  2.90it/s]\u001b[A\n",
      " 56%|█████▌    | 44/79 [00:14<00:12,  2.91it/s]\u001b[A\n",
      " 57%|█████▋    | 45/79 [00:15<00:11,  2.91it/s]\u001b[A\n",
      " 58%|█████▊    | 46/79 [00:15<00:11,  2.90it/s]\u001b[A\n",
      " 59%|█████▉    | 47/79 [00:15<00:11,  2.91it/s]\u001b[A\n",
      " 61%|██████    | 48/79 [00:16<00:10,  2.91it/s]\u001b[A\n",
      " 62%|██████▏   | 49/79 [00:16<00:10,  2.91it/s]\u001b[A\n",
      " 63%|██████▎   | 50/79 [00:16<00:09,  2.91it/s]\u001b[A\n",
      " 65%|██████▍   | 51/79 [00:17<00:09,  2.90it/s]\u001b[A\n",
      " 66%|██████▌   | 52/79 [00:17<00:09,  2.90it/s]\u001b[A\n",
      " 67%|██████▋   | 53/79 [00:17<00:08,  2.90it/s]\u001b[A\n",
      " 68%|██████▊   | 54/79 [00:18<00:08,  2.90it/s]\u001b[A\n",
      " 70%|██████▉   | 55/79 [00:18<00:08,  2.90it/s]\u001b[A\n",
      " 71%|███████   | 56/79 [00:18<00:07,  2.91it/s]\u001b[A\n",
      " 72%|███████▏  | 57/79 [00:19<00:07,  2.90it/s]\u001b[A\n",
      " 73%|███████▎  | 58/79 [00:19<00:07,  2.91it/s]\u001b[A\n",
      " 75%|███████▍  | 59/79 [00:19<00:06,  2.90it/s]\u001b[A\n",
      " 76%|███████▌  | 60/79 [00:20<00:06,  2.91it/s]\u001b[A\n",
      " 77%|███████▋  | 61/79 [00:20<00:06,  2.91it/s]\u001b[A\n",
      " 78%|███████▊  | 62/79 [00:20<00:05,  2.89it/s]\u001b[A\n",
      " 80%|███████▉  | 63/79 [00:21<00:05,  2.91it/s]\u001b[A\n",
      " 81%|████████  | 64/79 [00:21<00:05,  2.91it/s]\u001b[A\n",
      " 82%|████████▏ | 65/79 [00:21<00:04,  2.91it/s]\u001b[A\n",
      " 84%|████████▎ | 66/79 [00:22<00:04,  2.89it/s]\u001b[A\n",
      " 85%|████████▍ | 67/79 [00:22<00:04,  2.91it/s]\u001b[A\n",
      " 86%|████████▌ | 68/79 [00:23<00:03,  2.90it/s]\u001b[A\n",
      " 87%|████████▋ | 69/79 [00:23<00:03,  2.89it/s]\u001b[A\n",
      " 89%|████████▊ | 70/79 [00:23<00:03,  2.91it/s]\u001b[A\n",
      " 90%|████████▉ | 71/79 [00:24<00:02,  2.91it/s]\u001b[A\n",
      " 91%|█████████ | 72/79 [00:24<00:02,  2.91it/s]\u001b[A\n",
      " 92%|█████████▏| 73/79 [00:24<00:02,  2.90it/s]\u001b[A\n",
      " 94%|█████████▎| 74/79 [00:25<00:01,  2.91it/s]\u001b[A\n",
      " 95%|█████████▍| 75/79 [00:25<00:01,  2.90it/s]\u001b[A\n",
      " 96%|█████████▌| 76/79 [00:25<00:01,  2.90it/s]\u001b[A\n",
      " 97%|█████████▋| 77/79 [00:26<00:00,  2.91it/s]\u001b[A\n",
      "                                                     \n",
      " 23%|██▎       | 2254/9800 [43:48<1:39:57,  1.26it/s]\n",
      "100%|██████████| 79/79 [00:26<00:00,  2.97it/s]\u001b[A\n",
      "                                               \u001b[A"
     ]
    },
    {
     "name": "stdout",
     "output_type": "stream",
     "text": [
      "{'eval_loss': 3.045067071914673, 'eval_accuracy': 0.2693, 'eval_runtime': 26.8888, 'eval_samples_per_second': 371.902, 'eval_steps_per_second': 2.938, 'epoch': 23.0}\n"
     ]
    },
    {
     "name": "stderr",
     "output_type": "stream",
     "text": [
      " 23%|██▎       | 2260/9800 [43:55<4:46:58,  2.28s/it] "
     ]
    },
    {
     "name": "stdout",
     "output_type": "stream",
     "text": [
      "{'loss': 1.9651, 'grad_norm': 26.90758514404297, 'learning_rate': 1.5387755102040818e-05, 'epoch': 23.06}\n"
     ]
    },
    {
     "name": "stderr",
     "output_type": "stream",
     "text": [
      " 23%|██▎       | 2270/9800 [44:03<1:56:21,  1.08it/s]"
     ]
    },
    {
     "name": "stdout",
     "output_type": "stream",
     "text": [
      "{'loss': 1.874, 'grad_norm': 25.118209838867188, 'learning_rate': 1.5367346938775513e-05, 'epoch': 23.16}\n"
     ]
    },
    {
     "name": "stderr",
     "output_type": "stream",
     "text": [
      " 23%|██▎       | 2280/9800 [44:12<1:51:45,  1.12it/s]"
     ]
    },
    {
     "name": "stdout",
     "output_type": "stream",
     "text": [
      "{'loss': 1.8695, 'grad_norm': 31.71854591369629, 'learning_rate': 1.5346938775510204e-05, 'epoch': 23.27}\n"
     ]
    },
    {
     "name": "stderr",
     "output_type": "stream",
     "text": [
      " 23%|██▎       | 2290/9800 [44:21<1:51:23,  1.12it/s]"
     ]
    },
    {
     "name": "stdout",
     "output_type": "stream",
     "text": [
      "{'loss': 1.9384, 'grad_norm': 29.03145980834961, 'learning_rate': 1.53265306122449e-05, 'epoch': 23.37}\n"
     ]
    },
    {
     "name": "stderr",
     "output_type": "stream",
     "text": [
      " 23%|██▎       | 2300/9800 [44:30<1:50:10,  1.13it/s]"
     ]
    },
    {
     "name": "stdout",
     "output_type": "stream",
     "text": [
      "{'loss': 1.9417, 'grad_norm': 25.88193130493164, 'learning_rate': 1.530612244897959e-05, 'epoch': 23.47}\n"
     ]
    },
    {
     "name": "stderr",
     "output_type": "stream",
     "text": [
      " 24%|██▎       | 2310/9800 [44:39<1:50:23,  1.13it/s]"
     ]
    },
    {
     "name": "stdout",
     "output_type": "stream",
     "text": [
      "{'loss': 1.9186, 'grad_norm': 23.493207931518555, 'learning_rate': 1.5285714285714286e-05, 'epoch': 23.57}\n"
     ]
    },
    {
     "name": "stderr",
     "output_type": "stream",
     "text": [
      " 24%|██▎       | 2320/9800 [44:48<1:50:38,  1.13it/s]"
     ]
    },
    {
     "name": "stdout",
     "output_type": "stream",
     "text": [
      "{'loss': 1.9367, 'grad_norm': 28.246807098388672, 'learning_rate': 1.526530612244898e-05, 'epoch': 23.67}\n"
     ]
    },
    {
     "name": "stderr",
     "output_type": "stream",
     "text": [
      " 24%|██▍       | 2330/9800 [44:57<1:50:42,  1.12it/s]"
     ]
    },
    {
     "name": "stdout",
     "output_type": "stream",
     "text": [
      "{'loss': 1.9281, 'grad_norm': 33.258209228515625, 'learning_rate': 1.5244897959183676e-05, 'epoch': 23.78}\n"
     ]
    },
    {
     "name": "stderr",
     "output_type": "stream",
     "text": [
      " 24%|██▍       | 2340/9800 [45:06<1:50:39,  1.12it/s]"
     ]
    },
    {
     "name": "stdout",
     "output_type": "stream",
     "text": [
      "{'loss': 2.0005, 'grad_norm': 30.410694122314453, 'learning_rate': 1.522448979591837e-05, 'epoch': 23.88}\n"
     ]
    },
    {
     "name": "stderr",
     "output_type": "stream",
     "text": [
      " 24%|██▍       | 2350/9800 [45:14<1:50:34,  1.12it/s]"
     ]
    },
    {
     "name": "stdout",
     "output_type": "stream",
     "text": [
      "{'loss': 1.9303, 'grad_norm': 32.272804260253906, 'learning_rate': 1.5204081632653063e-05, 'epoch': 23.98}\n"
     ]
    },
    {
     "name": "stderr",
     "output_type": "stream",
     "text": [
      " 24%|██▍       | 2352/9800 [45:16<1:39:14,  1.25it/s]\n",
      "  0%|          | 0/79 [00:00<?, ?it/s]\u001b[A\n",
      "  3%|▎         | 2/79 [00:00<00:12,  5.93it/s]\u001b[A\n",
      "  4%|▍         | 3/79 [00:00<00:18,  4.06it/s]\u001b[A\n",
      "  5%|▌         | 4/79 [00:01<00:21,  3.56it/s]\u001b[A\n",
      "  6%|▋         | 5/79 [00:01<00:22,  3.31it/s]\u001b[A\n",
      "  8%|▊         | 6/79 [00:01<00:23,  3.15it/s]\u001b[A\n",
      "  9%|▉         | 7/79 [00:02<00:23,  3.07it/s]\u001b[A\n",
      " 10%|█         | 8/79 [00:02<00:23,  3.03it/s]\u001b[A\n",
      " 11%|█▏        | 9/79 [00:02<00:23,  2.99it/s]\u001b[A\n",
      " 13%|█▎        | 10/79 [00:03<00:23,  2.96it/s]\u001b[A\n",
      " 14%|█▍        | 11/79 [00:03<00:23,  2.95it/s]\u001b[A\n",
      " 15%|█▌        | 12/79 [00:03<00:22,  2.93it/s]\u001b[A\n",
      " 16%|█▋        | 13/79 [00:04<00:22,  2.93it/s]\u001b[A\n",
      " 18%|█▊        | 14/79 [00:04<00:22,  2.93it/s]\u001b[A\n",
      " 19%|█▉        | 15/79 [00:04<00:21,  2.92it/s]\u001b[A\n",
      " 20%|██        | 16/79 [00:05<00:21,  2.92it/s]\u001b[A\n",
      " 22%|██▏       | 17/79 [00:05<00:21,  2.91it/s]\u001b[A\n",
      " 23%|██▎       | 18/79 [00:05<00:20,  2.92it/s]\u001b[A\n",
      " 24%|██▍       | 19/79 [00:06<00:20,  2.93it/s]\u001b[A\n",
      " 25%|██▌       | 20/79 [00:06<00:20,  2.93it/s]\u001b[A\n",
      " 27%|██▋       | 21/79 [00:06<00:19,  2.94it/s]\u001b[A\n",
      " 28%|██▊       | 22/79 [00:07<00:19,  2.92it/s]\u001b[A\n",
      " 29%|██▉       | 23/79 [00:07<00:19,  2.92it/s]\u001b[A\n",
      " 30%|███       | 24/79 [00:07<00:18,  2.92it/s]\u001b[A\n",
      " 32%|███▏      | 25/79 [00:08<00:18,  2.92it/s]\u001b[A\n",
      " 33%|███▎      | 26/79 [00:08<00:18,  2.92it/s]\u001b[A\n",
      " 34%|███▍      | 27/79 [00:08<00:17,  2.92it/s]\u001b[A\n",
      " 35%|███▌      | 28/79 [00:09<00:17,  2.91it/s]\u001b[A\n",
      " 37%|███▋      | 29/79 [00:09<00:17,  2.91it/s]\u001b[A\n",
      " 38%|███▊      | 30/79 [00:09<00:16,  2.91it/s]\u001b[A\n",
      " 39%|███▉      | 31/79 [00:10<00:16,  2.91it/s]\u001b[A\n",
      " 41%|████      | 32/79 [00:10<00:16,  2.91it/s]\u001b[A\n",
      " 42%|████▏     | 33/79 [00:10<00:15,  2.90it/s]\u001b[A\n",
      " 43%|████▎     | 34/79 [00:11<00:15,  2.91it/s]\u001b[A\n",
      " 44%|████▍     | 35/79 [00:11<00:15,  2.91it/s]\u001b[A\n",
      " 46%|████▌     | 36/79 [00:12<00:14,  2.91it/s]\u001b[A\n",
      " 47%|████▋     | 37/79 [00:12<00:14,  2.91it/s]\u001b[A\n",
      " 48%|████▊     | 38/79 [00:12<00:14,  2.90it/s]\u001b[A\n",
      " 49%|████▉     | 39/79 [00:13<00:13,  2.90it/s]\u001b[A\n",
      " 51%|█████     | 40/79 [00:13<00:13,  2.91it/s]\u001b[A\n",
      " 52%|█████▏    | 41/79 [00:13<00:13,  2.91it/s]\u001b[A\n",
      " 53%|█████▎    | 42/79 [00:14<00:12,  2.91it/s]\u001b[A\n",
      " 54%|█████▍    | 43/79 [00:14<00:12,  2.91it/s]\u001b[A\n",
      " 56%|█████▌    | 44/79 [00:14<00:12,  2.91it/s]\u001b[A\n",
      " 57%|█████▋    | 45/79 [00:15<00:11,  2.91it/s]\u001b[A\n",
      " 58%|█████▊    | 46/79 [00:15<00:11,  2.91it/s]\u001b[A\n",
      " 59%|█████▉    | 47/79 [00:15<00:11,  2.91it/s]\u001b[A\n",
      " 61%|██████    | 48/79 [00:16<00:10,  2.91it/s]\u001b[A\n",
      " 62%|██████▏   | 49/79 [00:16<00:10,  2.91it/s]\u001b[A\n",
      " 63%|██████▎   | 50/79 [00:16<00:09,  2.91it/s]\u001b[A\n",
      " 65%|██████▍   | 51/79 [00:17<00:09,  2.91it/s]\u001b[A\n",
      " 66%|██████▌   | 52/79 [00:17<00:09,  2.91it/s]\u001b[A\n",
      " 67%|██████▋   | 53/79 [00:17<00:08,  2.91it/s]\u001b[A\n",
      " 68%|██████▊   | 54/79 [00:18<00:08,  2.91it/s]\u001b[A\n",
      " 70%|██████▉   | 55/79 [00:18<00:08,  2.90it/s]\u001b[A\n",
      " 71%|███████   | 56/79 [00:18<00:07,  2.90it/s]\u001b[A\n",
      " 72%|███████▏  | 57/79 [00:19<00:07,  2.90it/s]\u001b[A\n",
      " 73%|███████▎  | 58/79 [00:19<00:07,  2.91it/s]\u001b[A\n",
      " 75%|███████▍  | 59/79 [00:19<00:06,  2.90it/s]\u001b[A\n",
      " 76%|███████▌  | 60/79 [00:20<00:06,  2.90it/s]\u001b[A\n",
      " 77%|███████▋  | 61/79 [00:20<00:06,  2.91it/s]\u001b[A\n",
      " 78%|███████▊  | 62/79 [00:20<00:05,  2.91it/s]\u001b[A\n",
      " 80%|███████▉  | 63/79 [00:21<00:05,  2.90it/s]\u001b[A\n",
      " 81%|████████  | 64/79 [00:21<00:05,  2.91it/s]\u001b[A\n",
      " 82%|████████▏ | 65/79 [00:21<00:04,  2.90it/s]\u001b[A\n",
      " 84%|████████▎ | 66/79 [00:22<00:04,  2.91it/s]\u001b[A\n",
      " 85%|████████▍ | 67/79 [00:22<00:04,  2.90it/s]\u001b[A\n",
      " 86%|████████▌ | 68/79 [00:23<00:03,  2.90it/s]\u001b[A\n",
      " 87%|████████▋ | 69/79 [00:23<00:03,  2.91it/s]\u001b[A\n",
      " 89%|████████▊ | 70/79 [00:23<00:03,  2.90it/s]\u001b[A\n",
      " 90%|████████▉ | 71/79 [00:24<00:02,  2.90it/s]\u001b[A\n",
      " 91%|█████████ | 72/79 [00:24<00:02,  2.92it/s]\u001b[A\n",
      " 92%|█████████▏| 73/79 [00:24<00:02,  2.91it/s]\u001b[A\n",
      " 94%|█████████▎| 74/79 [00:25<00:01,  2.91it/s]\u001b[A\n",
      " 95%|█████████▍| 75/79 [00:25<00:01,  2.91it/s]\u001b[A\n",
      " 96%|█████████▌| 76/79 [00:25<00:01,  2.91it/s]\u001b[A\n",
      " 97%|█████████▋| 77/79 [00:26<00:00,  2.90it/s]\u001b[A\n",
      "                                                     \n",
      " 24%|██▍       | 2352/9800 [45:43<1:39:14,  1.25it/s]\n",
      "100%|██████████| 79/79 [00:26<00:00,  2.96it/s]\u001b[A\n",
      "                                               \u001b[A"
     ]
    },
    {
     "name": "stdout",
     "output_type": "stream",
     "text": [
      "{'eval_loss': 3.0314059257507324, 'eval_accuracy': 0.2758, 'eval_runtime': 26.9184, 'eval_samples_per_second': 371.493, 'eval_steps_per_second': 2.935, 'epoch': 24.0}\n"
     ]
    },
    {
     "name": "stderr",
     "output_type": "stream",
     "text": [
      " 24%|██▍       | 2360/9800 [45:51<3:15:03,  1.57s/it] "
     ]
    },
    {
     "name": "stdout",
     "output_type": "stream",
     "text": [
      "{'loss': 1.7965, 'grad_norm': 25.947038650512695, 'learning_rate': 1.5183673469387756e-05, 'epoch': 24.08}\n"
     ]
    },
    {
     "name": "stderr",
     "output_type": "stream",
     "text": [
      " 24%|██▍       | 2370/9800 [46:00<1:52:25,  1.10it/s]"
     ]
    },
    {
     "name": "stdout",
     "output_type": "stream",
     "text": [
      "{'loss': 1.7753, 'grad_norm': 23.704248428344727, 'learning_rate': 1.516326530612245e-05, 'epoch': 24.18}\n"
     ]
    },
    {
     "name": "stderr",
     "output_type": "stream",
     "text": [
      " 24%|██▍       | 2380/9800 [46:09<1:50:14,  1.12it/s]"
     ]
    },
    {
     "name": "stdout",
     "output_type": "stream",
     "text": [
      "{'loss': 1.8151, 'grad_norm': 27.84352684020996, 'learning_rate': 1.5142857142857144e-05, 'epoch': 24.29}\n"
     ]
    },
    {
     "name": "stderr",
     "output_type": "stream",
     "text": [
      " 24%|██▍       | 2390/9800 [46:18<1:50:03,  1.12it/s]"
     ]
    },
    {
     "name": "stdout",
     "output_type": "stream",
     "text": [
      "{'loss': 1.842, 'grad_norm': 25.73577117919922, 'learning_rate': 1.5122448979591837e-05, 'epoch': 24.39}\n"
     ]
    },
    {
     "name": "stderr",
     "output_type": "stream",
     "text": [
      " 24%|██▍       | 2400/9800 [46:27<1:48:53,  1.13it/s]"
     ]
    },
    {
     "name": "stdout",
     "output_type": "stream",
     "text": [
      "{'loss': 1.899, 'grad_norm': 27.410436630249023, 'learning_rate': 1.510204081632653e-05, 'epoch': 24.49}\n"
     ]
    },
    {
     "name": "stderr",
     "output_type": "stream",
     "text": [
      " 25%|██▍       | 2410/9800 [46:35<1:48:49,  1.13it/s]"
     ]
    },
    {
     "name": "stdout",
     "output_type": "stream",
     "text": [
      "{'loss': 1.8888, 'grad_norm': 30.551925659179688, 'learning_rate': 1.5081632653061227e-05, 'epoch': 24.59}\n"
     ]
    },
    {
     "name": "stderr",
     "output_type": "stream",
     "text": [
      " 25%|██▍       | 2420/9800 [46:44<1:49:03,  1.13it/s]"
     ]
    },
    {
     "name": "stdout",
     "output_type": "stream",
     "text": [
      "{'loss': 1.8625, 'grad_norm': 29.39828109741211, 'learning_rate': 1.506122448979592e-05, 'epoch': 24.69}\n"
     ]
    },
    {
     "name": "stderr",
     "output_type": "stream",
     "text": [
      " 25%|██▍       | 2430/9800 [46:53<1:49:15,  1.12it/s]"
     ]
    },
    {
     "name": "stdout",
     "output_type": "stream",
     "text": [
      "{'loss': 1.8697, 'grad_norm': 27.934303283691406, 'learning_rate': 1.5040816326530614e-05, 'epoch': 24.8}\n"
     ]
    },
    {
     "name": "stderr",
     "output_type": "stream",
     "text": [
      " 25%|██▍       | 2440/9800 [47:02<1:49:18,  1.12it/s]"
     ]
    },
    {
     "name": "stdout",
     "output_type": "stream",
     "text": [
      "{'loss': 1.8937, 'grad_norm': 31.572683334350586, 'learning_rate': 1.5020408163265307e-05, 'epoch': 24.9}\n"
     ]
    },
    {
     "name": "stderr",
     "output_type": "stream",
     "text": [
      " 25%|██▌       | 2450/9800 [47:11<1:38:00,  1.25it/s]"
     ]
    },
    {
     "name": "stdout",
     "output_type": "stream",
     "text": [
      "{'loss': 1.832, 'grad_norm': 32.03311538696289, 'learning_rate': 1.5000000000000002e-05, 'epoch': 25.0}\n"
     ]
    },
    {
     "name": "stderr",
     "output_type": "stream",
     "text": [
      "\n",
      "  0%|          | 0/79 [00:00<?, ?it/s]\u001b[A\n",
      "  3%|▎         | 2/79 [00:00<00:13,  5.90it/s]\u001b[A\n",
      "  4%|▍         | 3/79 [00:00<00:18,  4.05it/s]\u001b[A\n",
      "  5%|▌         | 4/79 [00:01<00:21,  3.57it/s]\u001b[A\n",
      "  6%|▋         | 5/79 [00:01<00:22,  3.32it/s]\u001b[A\n",
      "  8%|▊         | 6/79 [00:01<00:23,  3.14it/s]\u001b[A\n",
      "  9%|▉         | 7/79 [00:02<00:23,  3.07it/s]\u001b[A\n",
      " 10%|█         | 8/79 [00:02<00:23,  3.02it/s]\u001b[A\n",
      " 11%|█▏        | 9/79 [00:02<00:23,  2.98it/s]\u001b[A\n",
      " 13%|█▎        | 10/79 [00:03<00:23,  2.96it/s]\u001b[A\n",
      " 14%|█▍        | 11/79 [00:03<00:23,  2.95it/s]\u001b[A\n",
      " 15%|█▌        | 12/79 [00:03<00:22,  2.93it/s]\u001b[A\n",
      " 16%|█▋        | 13/79 [00:04<00:22,  2.92it/s]\u001b[A\n",
      " 18%|█▊        | 14/79 [00:04<00:22,  2.92it/s]\u001b[A\n",
      " 19%|█▉        | 15/79 [00:04<00:21,  2.92it/s]\u001b[A\n",
      " 20%|██        | 16/79 [00:05<00:21,  2.91it/s]\u001b[A\n",
      " 22%|██▏       | 17/79 [00:05<00:21,  2.91it/s]\u001b[A\n",
      " 23%|██▎       | 18/79 [00:05<00:20,  2.91it/s]\u001b[A\n",
      " 24%|██▍       | 19/79 [00:06<00:20,  2.91it/s]\u001b[A\n",
      " 25%|██▌       | 20/79 [00:06<00:20,  2.90it/s]\u001b[A\n",
      " 27%|██▋       | 21/79 [00:06<00:19,  2.91it/s]\u001b[A\n",
      " 28%|██▊       | 22/79 [00:07<00:19,  2.91it/s]\u001b[A\n",
      " 29%|██▉       | 23/79 [00:07<00:19,  2.90it/s]\u001b[A\n",
      " 30%|███       | 24/79 [00:07<00:18,  2.91it/s]\u001b[A\n",
      " 32%|███▏      | 25/79 [00:08<00:18,  2.90it/s]\u001b[A\n",
      " 33%|███▎      | 26/79 [00:08<00:18,  2.91it/s]\u001b[A\n",
      " 34%|███▍      | 27/79 [00:08<00:17,  2.91it/s]\u001b[A\n",
      " 35%|███▌      | 28/79 [00:09<00:17,  2.91it/s]\u001b[A\n",
      " 37%|███▋      | 29/79 [00:09<00:17,  2.91it/s]\u001b[A\n",
      " 38%|███▊      | 30/79 [00:09<00:16,  2.91it/s]\u001b[A\n",
      " 39%|███▉      | 31/79 [00:10<00:16,  2.91it/s]\u001b[A\n",
      " 41%|████      | 32/79 [00:10<00:16,  2.90it/s]\u001b[A\n",
      " 42%|████▏     | 33/79 [00:11<00:15,  2.91it/s]\u001b[A\n",
      " 43%|████▎     | 34/79 [00:11<00:15,  2.92it/s]\u001b[A\n",
      " 44%|████▍     | 35/79 [00:11<00:15,  2.90it/s]\u001b[A\n",
      " 46%|████▌     | 36/79 [00:12<00:14,  2.91it/s]\u001b[A\n",
      " 47%|████▋     | 37/79 [00:12<00:14,  2.91it/s]\u001b[A\n",
      " 48%|████▊     | 38/79 [00:12<00:14,  2.91it/s]\u001b[A\n",
      " 49%|████▉     | 39/79 [00:13<00:13,  2.90it/s]\u001b[A\n",
      " 51%|█████     | 40/79 [00:13<00:13,  2.91it/s]\u001b[A\n",
      " 52%|█████▏    | 41/79 [00:13<00:13,  2.91it/s]\u001b[A\n",
      " 53%|█████▎    | 42/79 [00:14<00:12,  2.90it/s]\u001b[A\n",
      " 54%|█████▍    | 43/79 [00:14<00:12,  2.90it/s]\u001b[A\n",
      " 56%|█████▌    | 44/79 [00:14<00:12,  2.89it/s]\u001b[A\n",
      " 57%|█████▋    | 45/79 [00:15<00:11,  2.90it/s]\u001b[A\n",
      " 58%|█████▊    | 46/79 [00:15<00:11,  2.91it/s]\u001b[A\n",
      " 59%|█████▉    | 47/79 [00:15<00:10,  2.92it/s]\u001b[A\n",
      " 61%|██████    | 48/79 [00:16<00:10,  2.91it/s]\u001b[A\n",
      " 62%|██████▏   | 49/79 [00:16<00:10,  2.91it/s]\u001b[A\n",
      " 63%|██████▎   | 50/79 [00:16<00:09,  2.91it/s]\u001b[A\n",
      " 65%|██████▍   | 51/79 [00:17<00:09,  2.91it/s]\u001b[A\n",
      " 66%|██████▌   | 52/79 [00:17<00:09,  2.91it/s]\u001b[A\n",
      " 67%|██████▋   | 53/79 [00:17<00:08,  2.92it/s]\u001b[A\n",
      " 68%|██████▊   | 54/79 [00:18<00:08,  2.91it/s]\u001b[A\n",
      " 70%|██████▉   | 55/79 [00:18<00:08,  2.90it/s]\u001b[A\n",
      " 71%|███████   | 56/79 [00:18<00:07,  2.90it/s]\u001b[A\n",
      " 72%|███████▏  | 57/79 [00:19<00:07,  2.91it/s]\u001b[A\n",
      " 73%|███████▎  | 58/79 [00:19<00:07,  2.91it/s]\u001b[A\n",
      " 75%|███████▍  | 59/79 [00:19<00:06,  2.91it/s]\u001b[A\n",
      " 76%|███████▌  | 60/79 [00:20<00:06,  2.90it/s]\u001b[A\n",
      " 77%|███████▋  | 61/79 [00:20<00:06,  2.91it/s]\u001b[A\n",
      " 78%|███████▊  | 62/79 [00:20<00:05,  2.92it/s]\u001b[A\n",
      " 80%|███████▉  | 63/79 [00:21<00:05,  2.91it/s]\u001b[A\n",
      " 81%|████████  | 64/79 [00:21<00:05,  2.91it/s]\u001b[A\n",
      " 82%|████████▏ | 65/79 [00:22<00:04,  2.91it/s]\u001b[A\n",
      " 84%|████████▎ | 66/79 [00:22<00:04,  2.91it/s]\u001b[A\n",
      " 85%|████████▍ | 67/79 [00:22<00:04,  2.90it/s]\u001b[A\n",
      " 86%|████████▌ | 68/79 [00:23<00:03,  2.91it/s]\u001b[A\n",
      " 87%|████████▋ | 69/79 [00:23<00:03,  2.91it/s]\u001b[A\n",
      " 89%|████████▊ | 70/79 [00:23<00:03,  2.90it/s]\u001b[A\n",
      " 90%|████████▉ | 71/79 [00:24<00:02,  2.91it/s]\u001b[A\n",
      " 91%|█████████ | 72/79 [00:24<00:02,  2.91it/s]\u001b[A\n",
      " 92%|█████████▏| 73/79 [00:24<00:02,  2.91it/s]\u001b[A\n",
      " 94%|█████████▎| 74/79 [00:25<00:01,  2.91it/s]\u001b[A\n",
      " 95%|█████████▍| 75/79 [00:25<00:01,  2.90it/s]\u001b[A\n",
      " 96%|█████████▌| 76/79 [00:25<00:01,  2.90it/s]\u001b[A\n",
      " 97%|█████████▋| 77/79 [00:26<00:00,  2.91it/s]\u001b[A\n",
      "                                                     \n",
      " 25%|██▌       | 2450/9800 [47:38<1:38:00,  1.25it/s]\n",
      "100%|██████████| 79/79 [00:26<00:00,  2.97it/s]\u001b[A\n",
      "                                               \u001b[A"
     ]
    },
    {
     "name": "stdout",
     "output_type": "stream",
     "text": [
      "{'eval_loss': 3.0223472118377686, 'eval_accuracy': 0.2753, 'eval_runtime': 26.9405, 'eval_samples_per_second': 371.188, 'eval_steps_per_second': 2.932, 'epoch': 25.0}\n"
     ]
    },
    {
     "name": "stderr",
     "output_type": "stream",
     "text": [
      " 25%|██▌       | 2460/9800 [47:48<2:29:31,  1.22s/it] "
     ]
    },
    {
     "name": "stdout",
     "output_type": "stream",
     "text": [
      "{'loss': 1.7683, 'grad_norm': 25.005422592163086, 'learning_rate': 1.4979591836734695e-05, 'epoch': 25.1}\n"
     ]
    },
    {
     "name": "stderr",
     "output_type": "stream",
     "text": [
      " 25%|██▌       | 2470/9800 [47:57<1:49:47,  1.11it/s]"
     ]
    },
    {
     "name": "stdout",
     "output_type": "stream",
     "text": [
      "{'loss': 1.7237, 'grad_norm': 27.13242530822754, 'learning_rate': 1.4959183673469389e-05, 'epoch': 25.2}\n"
     ]
    },
    {
     "name": "stderr",
     "output_type": "stream",
     "text": [
      " 25%|██▌       | 2480/9800 [48:05<1:48:29,  1.12it/s]"
     ]
    },
    {
     "name": "stdout",
     "output_type": "stream",
     "text": [
      "{'loss': 1.7368, 'grad_norm': 25.795391082763672, 'learning_rate': 1.4938775510204082e-05, 'epoch': 25.31}\n"
     ]
    },
    {
     "name": "stderr",
     "output_type": "stream",
     "text": [
      " 25%|██▌       | 2490/9800 [48:14<1:48:41,  1.12it/s]"
     ]
    },
    {
     "name": "stdout",
     "output_type": "stream",
     "text": [
      "{'loss': 1.8002, 'grad_norm': 28.695932388305664, 'learning_rate': 1.4918367346938775e-05, 'epoch': 25.41}\n"
     ]
    },
    {
     "name": "stderr",
     "output_type": "stream",
     "text": [
      " 26%|██▌       | 2500/9800 [48:23<1:48:11,  1.12it/s]"
     ]
    },
    {
     "name": "stdout",
     "output_type": "stream",
     "text": [
      "{'loss': 1.7773, 'grad_norm': 28.402570724487305, 'learning_rate': 1.4897959183673472e-05, 'epoch': 25.51}\n"
     ]
    },
    {
     "name": "stderr",
     "output_type": "stream",
     "text": [
      " 26%|██▌       | 2510/9800 [48:32<1:47:11,  1.13it/s]"
     ]
    },
    {
     "name": "stdout",
     "output_type": "stream",
     "text": [
      "{'loss': 1.7311, 'grad_norm': 23.944316864013672, 'learning_rate': 1.4877551020408165e-05, 'epoch': 25.61}\n"
     ]
    },
    {
     "name": "stderr",
     "output_type": "stream",
     "text": [
      " 26%|██▌       | 2520/9800 [48:41<1:47:36,  1.13it/s]"
     ]
    },
    {
     "name": "stdout",
     "output_type": "stream",
     "text": [
      "{'loss': 1.7936, 'grad_norm': 29.62267303466797, 'learning_rate': 1.4857142857142858e-05, 'epoch': 25.71}\n"
     ]
    },
    {
     "name": "stderr",
     "output_type": "stream",
     "text": [
      " 26%|██▌       | 2530/9800 [48:50<1:47:51,  1.12it/s]"
     ]
    },
    {
     "name": "stdout",
     "output_type": "stream",
     "text": [
      "{'loss': 1.8631, 'grad_norm': 32.485633850097656, 'learning_rate': 1.4836734693877552e-05, 'epoch': 25.82}\n"
     ]
    },
    {
     "name": "stderr",
     "output_type": "stream",
     "text": [
      " 26%|██▌       | 2540/9800 [48:59<1:47:48,  1.12it/s]"
     ]
    },
    {
     "name": "stdout",
     "output_type": "stream",
     "text": [
      "{'loss': 1.7438, 'grad_norm': 34.01542282104492, 'learning_rate': 1.4816326530612247e-05, 'epoch': 25.92}\n"
     ]
    },
    {
     "name": "stderr",
     "output_type": "stream",
     "text": [
      " 26%|██▌       | 2548/9800 [49:06<1:36:24,  1.25it/s]\n",
      "  0%|          | 0/79 [00:00<?, ?it/s]\u001b[A\n",
      "  3%|▎         | 2/79 [00:00<00:12,  5.95it/s]\u001b[A\n",
      "  4%|▍         | 3/79 [00:00<00:18,  4.08it/s]\u001b[A\n",
      "  5%|▌         | 4/79 [00:01<00:21,  3.56it/s]\u001b[A\n",
      "  6%|▋         | 5/79 [00:01<00:22,  3.30it/s]\u001b[A\n",
      "  8%|▊         | 6/79 [00:01<00:23,  3.15it/s]\u001b[A\n",
      "  9%|▉         | 7/79 [00:02<00:23,  3.07it/s]\u001b[A\n",
      " 10%|█         | 8/79 [00:02<00:23,  3.03it/s]\u001b[A\n",
      " 11%|█▏        | 9/79 [00:02<00:23,  2.98it/s]\u001b[A\n",
      " 13%|█▎        | 10/79 [00:03<00:23,  2.96it/s]\u001b[A\n",
      " 14%|█▍        | 11/79 [00:03<00:23,  2.95it/s]\u001b[A\n",
      " 15%|█▌        | 12/79 [00:03<00:22,  2.94it/s]\u001b[A\n",
      " 16%|█▋        | 13/79 [00:04<00:22,  2.92it/s]\u001b[A\n",
      " 18%|█▊        | 14/79 [00:04<00:22,  2.92it/s]\u001b[A\n",
      " 19%|█▉        | 15/79 [00:04<00:21,  2.94it/s]\u001b[A\n",
      " 20%|██        | 16/79 [00:05<00:21,  2.94it/s]\u001b[A\n",
      " 22%|██▏       | 17/79 [00:05<00:21,  2.94it/s]\u001b[A\n",
      " 23%|██▎       | 18/79 [00:05<00:20,  2.93it/s]\u001b[A\n",
      " 24%|██▍       | 19/79 [00:06<00:20,  2.92it/s]\u001b[A\n",
      " 25%|██▌       | 20/79 [00:06<00:20,  2.93it/s]\u001b[A\n",
      " 27%|██▋       | 21/79 [00:06<00:19,  2.93it/s]\u001b[A\n",
      " 28%|██▊       | 22/79 [00:07<00:19,  2.92it/s]\u001b[A\n",
      " 29%|██▉       | 23/79 [00:07<00:19,  2.91it/s]\u001b[A\n",
      " 30%|███       | 24/79 [00:07<00:18,  2.90it/s]\u001b[A\n",
      " 32%|███▏      | 25/79 [00:08<00:18,  2.90it/s]\u001b[A\n",
      " 33%|███▎      | 26/79 [00:08<00:18,  2.90it/s]\u001b[A\n",
      " 34%|███▍      | 27/79 [00:08<00:17,  2.90it/s]\u001b[A\n",
      " 35%|███▌      | 28/79 [00:09<00:17,  2.90it/s]\u001b[A\n",
      " 37%|███▋      | 29/79 [00:09<00:17,  2.90it/s]\u001b[A\n",
      " 38%|███▊      | 30/79 [00:09<00:16,  2.90it/s]\u001b[A\n",
      " 39%|███▉      | 31/79 [00:10<00:16,  2.90it/s]\u001b[A\n",
      " 41%|████      | 32/79 [00:10<00:16,  2.90it/s]\u001b[A\n",
      " 42%|████▏     | 33/79 [00:11<00:15,  2.90it/s]\u001b[A\n",
      " 43%|████▎     | 34/79 [00:11<00:15,  2.90it/s]\u001b[A\n",
      " 44%|████▍     | 35/79 [00:11<00:15,  2.90it/s]\u001b[A\n",
      " 46%|████▌     | 36/79 [00:12<00:14,  2.90it/s]\u001b[A\n",
      " 47%|████▋     | 37/79 [00:12<00:14,  2.90it/s]\u001b[A\n",
      " 48%|████▊     | 38/79 [00:12<00:14,  2.90it/s]\u001b[A\n",
      " 49%|████▉     | 39/79 [00:13<00:13,  2.90it/s]\u001b[A\n",
      " 51%|█████     | 40/79 [00:13<00:13,  2.91it/s]\u001b[A\n",
      " 52%|█████▏    | 41/79 [00:13<00:13,  2.90it/s]\u001b[A\n",
      " 53%|█████▎    | 42/79 [00:14<00:12,  2.91it/s]\u001b[A\n",
      " 54%|█████▍    | 43/79 [00:14<00:12,  2.91it/s]\u001b[A\n",
      " 56%|█████▌    | 44/79 [00:14<00:12,  2.90it/s]\u001b[A\n",
      " 57%|█████▋    | 45/79 [00:15<00:11,  2.90it/s]\u001b[A\n",
      " 58%|█████▊    | 46/79 [00:15<00:11,  2.90it/s]\u001b[A\n",
      " 59%|█████▉    | 47/79 [00:15<00:11,  2.91it/s]\u001b[A\n",
      " 61%|██████    | 48/79 [00:16<00:10,  2.90it/s]\u001b[A\n",
      " 62%|██████▏   | 49/79 [00:16<00:10,  2.91it/s]\u001b[A\n",
      " 63%|██████▎   | 50/79 [00:16<00:09,  2.91it/s]\u001b[A\n",
      " 65%|██████▍   | 51/79 [00:17<00:09,  2.91it/s]\u001b[A\n",
      " 66%|██████▌   | 52/79 [00:17<00:09,  2.91it/s]\u001b[A\n",
      " 67%|██████▋   | 53/79 [00:17<00:08,  2.91it/s]\u001b[A\n",
      " 68%|██████▊   | 54/79 [00:18<00:08,  2.91it/s]\u001b[A\n",
      " 70%|██████▉   | 55/79 [00:18<00:08,  2.91it/s]\u001b[A\n",
      " 71%|███████   | 56/79 [00:18<00:07,  2.91it/s]\u001b[A\n",
      " 72%|███████▏  | 57/79 [00:19<00:07,  2.91it/s]\u001b[A\n",
      " 73%|███████▎  | 58/79 [00:19<00:07,  2.90it/s]\u001b[A\n",
      " 75%|███████▍  | 59/79 [00:19<00:06,  2.91it/s]\u001b[A\n",
      " 76%|███████▌  | 60/79 [00:20<00:06,  2.91it/s]\u001b[A\n",
      " 77%|███████▋  | 61/79 [00:20<00:06,  2.91it/s]\u001b[A\n",
      " 78%|███████▊  | 62/79 [00:20<00:05,  2.90it/s]\u001b[A\n",
      " 80%|███████▉  | 63/79 [00:21<00:05,  2.91it/s]\u001b[A\n",
      " 81%|████████  | 64/79 [00:21<00:05,  2.91it/s]\u001b[A\n",
      " 82%|████████▏ | 65/79 [00:22<00:04,  2.90it/s]\u001b[A\n",
      " 84%|████████▎ | 66/79 [00:22<00:04,  2.91it/s]\u001b[A\n",
      " 85%|████████▍ | 67/79 [00:22<00:04,  2.90it/s]\u001b[A\n",
      " 86%|████████▌ | 68/79 [00:23<00:03,  2.90it/s]\u001b[A\n",
      " 87%|████████▋ | 69/79 [00:23<00:03,  2.90it/s]\u001b[A\n",
      " 89%|████████▊ | 70/79 [00:23<00:03,  2.91it/s]\u001b[A\n",
      " 90%|████████▉ | 71/79 [00:24<00:02,  2.91it/s]\u001b[A\n",
      " 91%|█████████ | 72/79 [00:24<00:02,  2.90it/s]\u001b[A\n",
      " 92%|█████████▏| 73/79 [00:24<00:02,  2.91it/s]\u001b[A\n",
      " 94%|█████████▎| 74/79 [00:25<00:01,  2.90it/s]\u001b[A\n",
      " 95%|█████████▍| 75/79 [00:25<00:01,  2.90it/s]\u001b[A\n",
      " 96%|█████████▌| 76/79 [00:25<00:01,  2.91it/s]\u001b[A\n",
      " 97%|█████████▋| 77/79 [00:26<00:00,  2.90it/s]\u001b[A\n",
      "                                                     \n",
      " 26%|██▌       | 2548/9800 [49:33<1:36:24,  1.25it/s]\n",
      "100%|██████████| 79/79 [00:26<00:00,  2.96it/s]\u001b[A\n",
      "                                               \u001b[A"
     ]
    },
    {
     "name": "stdout",
     "output_type": "stream",
     "text": [
      "{'eval_loss': 3.0341989994049072, 'eval_accuracy': 0.2754, 'eval_runtime': 26.9471, 'eval_samples_per_second': 371.098, 'eval_steps_per_second': 2.932, 'epoch': 26.0}\n"
     ]
    },
    {
     "name": "stderr",
     "output_type": "stream",
     "text": [
      " 26%|██▌       | 2550/9800 [49:35<13:34:29,  6.74s/it]"
     ]
    },
    {
     "name": "stdout",
     "output_type": "stream",
     "text": [
      "{'loss': 1.7896, 'grad_norm': 31.040674209594727, 'learning_rate': 1.479591836734694e-05, 'epoch': 26.02}\n"
     ]
    },
    {
     "name": "stderr",
     "output_type": "stream",
     "text": [
      " 26%|██▌       | 2560/9800 [49:44<2:07:01,  1.05s/it] "
     ]
    },
    {
     "name": "stdout",
     "output_type": "stream",
     "text": [
      "{'loss': 1.6055, 'grad_norm': 29.948604583740234, 'learning_rate': 1.4775510204081633e-05, 'epoch': 26.12}\n"
     ]
    },
    {
     "name": "stderr",
     "output_type": "stream",
     "text": [
      " 26%|██▌       | 2570/9800 [49:53<1:47:49,  1.12it/s]"
     ]
    },
    {
     "name": "stdout",
     "output_type": "stream",
     "text": [
      "{'loss': 1.707, 'grad_norm': 31.03546905517578, 'learning_rate': 1.4755102040816326e-05, 'epoch': 26.22}\n"
     ]
    },
    {
     "name": "stderr",
     "output_type": "stream",
     "text": [
      " 26%|██▋       | 2580/9800 [50:02<1:47:10,  1.12it/s]"
     ]
    },
    {
     "name": "stdout",
     "output_type": "stream",
     "text": [
      "{'loss': 1.6856, 'grad_norm': 27.89655113220215, 'learning_rate': 1.4734693877551021e-05, 'epoch': 26.33}\n"
     ]
    },
    {
     "name": "stderr",
     "output_type": "stream",
     "text": [
      " 26%|██▋       | 2590/9800 [50:11<1:46:25,  1.13it/s]"
     ]
    },
    {
     "name": "stdout",
     "output_type": "stream",
     "text": [
      "{'loss': 1.7325, 'grad_norm': 31.124914169311523, 'learning_rate': 1.4714285714285716e-05, 'epoch': 26.43}\n"
     ]
    },
    {
     "name": "stderr",
     "output_type": "stream",
     "text": [
      " 27%|██▋       | 2600/9800 [50:20<1:46:36,  1.13it/s]"
     ]
    },
    {
     "name": "stdout",
     "output_type": "stream",
     "text": [
      "{'loss': 1.6769, 'grad_norm': 29.437170028686523, 'learning_rate': 1.469387755102041e-05, 'epoch': 26.53}\n"
     ]
    },
    {
     "name": "stderr",
     "output_type": "stream",
     "text": [
      " 27%|██▋       | 2610/9800 [50:29<1:46:28,  1.13it/s]"
     ]
    },
    {
     "name": "stdout",
     "output_type": "stream",
     "text": [
      "{'loss': 1.6571, 'grad_norm': 32.12528610229492, 'learning_rate': 1.4673469387755103e-05, 'epoch': 26.63}\n"
     ]
    },
    {
     "name": "stderr",
     "output_type": "stream",
     "text": [
      " 27%|██▋       | 2620/9800 [50:38<1:46:40,  1.12it/s]"
     ]
    },
    {
     "name": "stdout",
     "output_type": "stream",
     "text": [
      "{'loss': 1.743, 'grad_norm': 29.25284194946289, 'learning_rate': 1.4653061224489798e-05, 'epoch': 26.73}\n"
     ]
    },
    {
     "name": "stderr",
     "output_type": "stream",
     "text": [
      " 27%|██▋       | 2630/9800 [50:47<1:46:25,  1.12it/s]"
     ]
    },
    {
     "name": "stdout",
     "output_type": "stream",
     "text": [
      "{'loss': 1.7142, 'grad_norm': 33.929359436035156, 'learning_rate': 1.4632653061224491e-05, 'epoch': 26.84}\n"
     ]
    },
    {
     "name": "stderr",
     "output_type": "stream",
     "text": [
      " 27%|██▋       | 2640/9800 [50:55<1:45:19,  1.13it/s]"
     ]
    },
    {
     "name": "stdout",
     "output_type": "stream",
     "text": [
      "{'loss': 1.7207, 'grad_norm': 31.986478805541992, 'learning_rate': 1.4612244897959185e-05, 'epoch': 26.94}\n"
     ]
    },
    {
     "name": "stderr",
     "output_type": "stream",
     "text": [
      " 27%|██▋       | 2646/9800 [51:00<1:34:34,  1.26it/s]\n",
      "  0%|          | 0/79 [00:00<?, ?it/s]\u001b[A\n",
      "  3%|▎         | 2/79 [00:00<00:13,  5.90it/s]\u001b[A\n",
      "  4%|▍         | 3/79 [00:00<00:18,  4.07it/s]\u001b[A\n",
      "  5%|▌         | 4/79 [00:01<00:20,  3.57it/s]\u001b[A\n",
      "  6%|▋         | 5/79 [00:01<00:22,  3.32it/s]\u001b[A\n",
      "  8%|▊         | 6/79 [00:01<00:23,  3.16it/s]\u001b[A\n",
      "  9%|▉         | 7/79 [00:02<00:23,  3.07it/s]\u001b[A\n",
      " 10%|█         | 8/79 [00:02<00:23,  3.03it/s]\u001b[A\n",
      " 11%|█▏        | 9/79 [00:02<00:23,  2.98it/s]\u001b[A\n",
      " 13%|█▎        | 10/79 [00:03<00:23,  2.95it/s]\u001b[A\n",
      " 14%|█▍        | 11/79 [00:03<00:23,  2.95it/s]\u001b[A\n",
      " 15%|█▌        | 12/79 [00:03<00:22,  2.94it/s]\u001b[A\n",
      " 16%|█▋        | 13/79 [00:04<00:22,  2.92it/s]\u001b[A\n",
      " 18%|█▊        | 14/79 [00:04<00:22,  2.92it/s]\u001b[A\n",
      " 19%|█▉        | 15/79 [00:04<00:21,  2.92it/s]\u001b[A\n",
      " 20%|██        | 16/79 [00:05<00:21,  2.91it/s]\u001b[A\n",
      " 22%|██▏       | 17/79 [00:05<00:21,  2.91it/s]\u001b[A\n",
      " 23%|██▎       | 18/79 [00:05<00:20,  2.91it/s]\u001b[A\n",
      " 24%|██▍       | 19/79 [00:06<00:20,  2.91it/s]\u001b[A\n",
      " 25%|██▌       | 20/79 [00:06<00:20,  2.90it/s]\u001b[A\n",
      " 27%|██▋       | 21/79 [00:06<00:19,  2.91it/s]\u001b[A\n",
      " 28%|██▊       | 22/79 [00:07<00:19,  2.91it/s]\u001b[A\n",
      " 29%|██▉       | 23/79 [00:07<00:19,  2.90it/s]\u001b[A\n",
      " 30%|███       | 24/79 [00:07<00:18,  2.91it/s]\u001b[A\n",
      " 32%|███▏      | 25/79 [00:08<00:18,  2.91it/s]\u001b[A\n",
      " 33%|███▎      | 26/79 [00:08<00:18,  2.91it/s]\u001b[A\n",
      " 34%|███▍      | 27/79 [00:08<00:17,  2.91it/s]\u001b[A\n",
      " 35%|███▌      | 28/79 [00:09<00:17,  2.91it/s]\u001b[A\n",
      " 37%|███▋      | 29/79 [00:09<00:17,  2.91it/s]\u001b[A\n",
      " 38%|███▊      | 30/79 [00:09<00:16,  2.91it/s]\u001b[A\n",
      " 39%|███▉      | 31/79 [00:10<00:16,  2.91it/s]\u001b[A\n",
      " 41%|████      | 32/79 [00:10<00:16,  2.91it/s]\u001b[A\n",
      " 42%|████▏     | 33/79 [00:10<00:15,  2.91it/s]\u001b[A\n",
      " 43%|████▎     | 34/79 [00:11<00:15,  2.91it/s]\u001b[A\n",
      " 44%|████▍     | 35/79 [00:11<00:15,  2.91it/s]\u001b[A\n",
      " 46%|████▌     | 36/79 [00:12<00:14,  2.92it/s]\u001b[A\n",
      " 47%|████▋     | 37/79 [00:12<00:14,  2.91it/s]\u001b[A\n",
      " 48%|████▊     | 38/79 [00:12<00:14,  2.90it/s]\u001b[A\n",
      " 49%|████▉     | 39/79 [00:13<00:13,  2.91it/s]\u001b[A\n",
      " 51%|█████     | 40/79 [00:13<00:13,  2.91it/s]\u001b[A\n",
      " 52%|█████▏    | 41/79 [00:13<00:13,  2.91it/s]\u001b[A\n",
      " 53%|█████▎    | 42/79 [00:14<00:12,  2.90it/s]\u001b[A\n",
      " 54%|█████▍    | 43/79 [00:14<00:12,  2.90it/s]\u001b[A\n",
      " 56%|█████▌    | 44/79 [00:14<00:12,  2.91it/s]\u001b[A\n",
      " 57%|█████▋    | 45/79 [00:15<00:11,  2.90it/s]\u001b[A\n",
      " 58%|█████▊    | 46/79 [00:15<00:11,  2.91it/s]\u001b[A\n",
      " 59%|█████▉    | 47/79 [00:15<00:10,  2.91it/s]\u001b[A\n",
      " 61%|██████    | 48/79 [00:16<00:10,  2.90it/s]\u001b[A\n",
      " 62%|██████▏   | 49/79 [00:16<00:10,  2.91it/s]\u001b[A\n",
      " 63%|██████▎   | 50/79 [00:16<00:09,  2.91it/s]\u001b[A\n",
      " 65%|██████▍   | 51/79 [00:17<00:09,  2.91it/s]\u001b[A\n",
      " 66%|██████▌   | 52/79 [00:17<00:09,  2.91it/s]\u001b[A\n",
      " 67%|██████▋   | 53/79 [00:17<00:08,  2.91it/s]\u001b[A\n",
      " 68%|██████▊   | 54/79 [00:18<00:08,  2.91it/s]\u001b[A\n",
      " 70%|██████▉   | 55/79 [00:18<00:08,  2.90it/s]\u001b[A\n",
      " 71%|███████   | 56/79 [00:18<00:07,  2.91it/s]\u001b[A\n",
      " 72%|███████▏  | 57/79 [00:19<00:07,  2.90it/s]\u001b[A\n",
      " 73%|███████▎  | 58/79 [00:19<00:07,  2.90it/s]\u001b[A\n",
      " 75%|███████▍  | 59/79 [00:19<00:06,  2.91it/s]\u001b[A\n",
      " 76%|███████▌  | 60/79 [00:20<00:06,  2.91it/s]\u001b[A\n",
      " 77%|███████▋  | 61/79 [00:20<00:06,  2.90it/s]\u001b[A\n",
      " 78%|███████▊  | 62/79 [00:20<00:05,  2.91it/s]\u001b[A\n",
      " 80%|███████▉  | 63/79 [00:21<00:05,  2.90it/s]\u001b[A\n",
      " 81%|████████  | 64/79 [00:21<00:05,  2.90it/s]\u001b[A\n",
      " 82%|████████▏ | 65/79 [00:22<00:04,  2.90it/s]\u001b[A\n",
      " 84%|████████▎ | 66/79 [00:22<00:04,  2.91it/s]\u001b[A\n",
      " 85%|████████▍ | 67/79 [00:22<00:04,  2.91it/s]\u001b[A\n",
      " 86%|████████▌ | 68/79 [00:23<00:03,  2.90it/s]\u001b[A\n",
      " 87%|████████▋ | 69/79 [00:23<00:03,  2.91it/s]\u001b[A\n",
      " 89%|████████▊ | 70/79 [00:23<00:03,  2.90it/s]\u001b[A\n",
      " 90%|████████▉ | 71/79 [00:24<00:02,  2.89it/s]\u001b[A\n",
      " 91%|█████████ | 72/79 [00:24<00:02,  2.90it/s]\u001b[A\n",
      " 92%|█████████▏| 73/79 [00:24<00:02,  2.90it/s]\u001b[A\n",
      " 94%|█████████▎| 74/79 [00:25<00:01,  2.90it/s]\u001b[A\n",
      " 95%|█████████▍| 75/79 [00:25<00:01,  2.91it/s]\u001b[A\n",
      " 96%|█████████▌| 76/79 [00:25<00:01,  2.90it/s]\u001b[A\n",
      " 97%|█████████▋| 77/79 [00:26<00:00,  2.90it/s]\u001b[A\n",
      "                                                     \n",
      " 27%|██▋       | 2646/9800 [51:27<1:34:34,  1.26it/s]\n",
      "100%|██████████| 79/79 [00:26<00:00,  2.96it/s]\u001b[A\n",
      "                                               \u001b[A"
     ]
    },
    {
     "name": "stdout",
     "output_type": "stream",
     "text": [
      "{'eval_loss': 3.0311856269836426, 'eval_accuracy': 0.2754, 'eval_runtime': 26.9352, 'eval_samples_per_second': 371.262, 'eval_steps_per_second': 2.933, 'epoch': 27.0}\n"
     ]
    },
    {
     "name": "stderr",
     "output_type": "stream",
     "text": [
      " 27%|██▋       | 2650/9800 [51:32<7:25:35,  3.74s/it] "
     ]
    },
    {
     "name": "stdout",
     "output_type": "stream",
     "text": [
      "{'loss': 1.713, 'grad_norm': 28.574369430541992, 'learning_rate': 1.4591836734693878e-05, 'epoch': 27.04}\n"
     ]
    },
    {
     "name": "stderr",
     "output_type": "stream",
     "text": [
      " 27%|██▋       | 2660/9800 [51:41<1:55:33,  1.03it/s]"
     ]
    },
    {
     "name": "stdout",
     "output_type": "stream",
     "text": [
      "{'loss': 1.6118, 'grad_norm': 28.892227172851562, 'learning_rate': 1.4571428571428573e-05, 'epoch': 27.14}\n"
     ]
    },
    {
     "name": "stderr",
     "output_type": "stream",
     "text": [
      " 27%|██▋       | 2670/9800 [51:50<1:45:17,  1.13it/s]"
     ]
    },
    {
     "name": "stdout",
     "output_type": "stream",
     "text": [
      "{'loss': 1.587, 'grad_norm': 26.08770751953125, 'learning_rate': 1.4551020408163266e-05, 'epoch': 27.24}\n"
     ]
    },
    {
     "name": "stderr",
     "output_type": "stream",
     "text": [
      " 27%|██▋       | 2680/9800 [51:58<1:44:36,  1.13it/s]"
     ]
    },
    {
     "name": "stdout",
     "output_type": "stream",
     "text": [
      "{'loss': 1.6208, 'grad_norm': 31.40615463256836, 'learning_rate': 1.4530612244897961e-05, 'epoch': 27.35}\n"
     ]
    },
    {
     "name": "stderr",
     "output_type": "stream",
     "text": [
      " 27%|██▋       | 2690/9800 [52:07<1:44:58,  1.13it/s]"
     ]
    },
    {
     "name": "stdout",
     "output_type": "stream",
     "text": [
      "{'loss': 1.6271, 'grad_norm': 29.333688735961914, 'learning_rate': 1.4510204081632654e-05, 'epoch': 27.45}\n"
     ]
    },
    {
     "name": "stderr",
     "output_type": "stream",
     "text": [
      " 28%|██▊       | 2700/9800 [52:16<1:45:07,  1.13it/s]"
     ]
    },
    {
     "name": "stdout",
     "output_type": "stream",
     "text": [
      "{'loss': 1.5583, 'grad_norm': 27.525405883789062, 'learning_rate': 1.448979591836735e-05, 'epoch': 27.55}\n"
     ]
    },
    {
     "name": "stderr",
     "output_type": "stream",
     "text": [
      " 28%|██▊       | 2710/9800 [52:25<1:45:11,  1.12it/s]"
     ]
    },
    {
     "name": "stdout",
     "output_type": "stream",
     "text": [
      "{'loss': 1.6506, 'grad_norm': 29.505409240722656, 'learning_rate': 1.4469387755102043e-05, 'epoch': 27.65}\n"
     ]
    },
    {
     "name": "stderr",
     "output_type": "stream",
     "text": [
      " 28%|██▊       | 2720/9800 [52:34<1:44:53,  1.12it/s]"
     ]
    },
    {
     "name": "stdout",
     "output_type": "stream",
     "text": [
      "{'loss': 1.6519, 'grad_norm': 30.33728790283203, 'learning_rate': 1.4448979591836736e-05, 'epoch': 27.76}\n"
     ]
    },
    {
     "name": "stderr",
     "output_type": "stream",
     "text": [
      " 28%|██▊       | 2730/9800 [52:43<1:44:48,  1.12it/s]"
     ]
    },
    {
     "name": "stdout",
     "output_type": "stream",
     "text": [
      "{'loss': 1.671, 'grad_norm': 32.10697937011719, 'learning_rate': 1.4428571428571429e-05, 'epoch': 27.86}\n"
     ]
    },
    {
     "name": "stderr",
     "output_type": "stream",
     "text": [
      " 28%|██▊       | 2740/9800 [52:52<1:43:36,  1.14it/s]"
     ]
    },
    {
     "name": "stdout",
     "output_type": "stream",
     "text": [
      "{'loss': 1.6529, 'grad_norm': 31.853944778442383, 'learning_rate': 1.4408163265306122e-05, 'epoch': 27.96}\n"
     ]
    },
    {
     "name": "stderr",
     "output_type": "stream",
     "text": [
      " 28%|██▊       | 2744/9800 [52:55<1:33:16,  1.26it/s]\n",
      "  0%|          | 0/79 [00:00<?, ?it/s]\u001b[A\n",
      "  3%|▎         | 2/79 [00:00<00:12,  5.94it/s]\u001b[A\n",
      "  4%|▍         | 3/79 [00:00<00:18,  4.14it/s]\u001b[A\n",
      "  5%|▌         | 4/79 [00:01<00:20,  3.60it/s]\u001b[A\n",
      "  6%|▋         | 5/79 [00:01<00:22,  3.33it/s]\u001b[A\n",
      "  8%|▊         | 6/79 [00:01<00:23,  3.17it/s]\u001b[A\n",
      "  9%|▉         | 7/79 [00:02<00:23,  3.08it/s]\u001b[A\n",
      " 10%|█         | 8/79 [00:02<00:23,  3.03it/s]\u001b[A\n",
      " 11%|█▏        | 9/79 [00:02<00:23,  2.99it/s]\u001b[A\n",
      " 13%|█▎        | 10/79 [00:03<00:23,  2.96it/s]\u001b[A\n",
      " 14%|█▍        | 11/79 [00:03<00:23,  2.95it/s]\u001b[A\n",
      " 15%|█▌        | 12/79 [00:03<00:22,  2.93it/s]\u001b[A\n",
      " 16%|█▋        | 13/79 [00:04<00:22,  2.92it/s]\u001b[A\n",
      " 18%|█▊        | 14/79 [00:04<00:22,  2.92it/s]\u001b[A\n",
      " 19%|█▉        | 15/79 [00:04<00:21,  2.91it/s]\u001b[A\n",
      " 20%|██        | 16/79 [00:05<00:21,  2.91it/s]\u001b[A\n",
      " 22%|██▏       | 17/79 [00:05<00:21,  2.91it/s]\u001b[A\n",
      " 23%|██▎       | 18/79 [00:05<00:20,  2.91it/s]\u001b[A\n",
      " 24%|██▍       | 19/79 [00:06<00:20,  2.91it/s]\u001b[A\n",
      " 25%|██▌       | 20/79 [00:06<00:20,  2.91it/s]\u001b[A\n",
      " 27%|██▋       | 21/79 [00:06<00:19,  2.91it/s]\u001b[A\n",
      " 28%|██▊       | 22/79 [00:07<00:19,  2.91it/s]\u001b[A\n",
      " 29%|██▉       | 23/79 [00:07<00:19,  2.91it/s]\u001b[A\n",
      " 30%|███       | 24/79 [00:07<00:18,  2.91it/s]\u001b[A\n",
      " 32%|███▏      | 25/79 [00:08<00:18,  2.91it/s]\u001b[A\n",
      " 33%|███▎      | 26/79 [00:08<00:18,  2.90it/s]\u001b[A\n",
      " 34%|███▍      | 27/79 [00:08<00:17,  2.91it/s]\u001b[A\n",
      " 35%|███▌      | 28/79 [00:09<00:17,  2.91it/s]\u001b[A\n",
      " 37%|███▋      | 29/79 [00:09<00:17,  2.90it/s]\u001b[A\n",
      " 38%|███▊      | 30/79 [00:09<00:16,  2.91it/s]\u001b[A\n",
      " 39%|███▉      | 31/79 [00:10<00:16,  2.91it/s]\u001b[A\n",
      " 41%|████      | 32/79 [00:10<00:16,  2.91it/s]\u001b[A\n",
      " 42%|████▏     | 33/79 [00:10<00:15,  2.91it/s]\u001b[A\n",
      " 43%|████▎     | 34/79 [00:11<00:15,  2.91it/s]\u001b[A\n",
      " 44%|████▍     | 35/79 [00:11<00:15,  2.90it/s]\u001b[A\n",
      " 46%|████▌     | 36/79 [00:12<00:14,  2.91it/s]\u001b[A\n",
      " 47%|████▋     | 37/79 [00:12<00:14,  2.91it/s]\u001b[A\n",
      " 48%|████▊     | 38/79 [00:12<00:14,  2.90it/s]\u001b[A\n",
      " 49%|████▉     | 39/79 [00:13<00:13,  2.91it/s]\u001b[A\n",
      " 51%|█████     | 40/79 [00:13<00:13,  2.91it/s]\u001b[A\n",
      " 52%|█████▏    | 41/79 [00:13<00:13,  2.91it/s]\u001b[A\n",
      " 53%|█████▎    | 42/79 [00:14<00:12,  2.90it/s]\u001b[A\n",
      " 54%|█████▍    | 43/79 [00:14<00:12,  2.91it/s]\u001b[A\n",
      " 56%|█████▌    | 44/79 [00:14<00:12,  2.90it/s]\u001b[A\n",
      " 57%|█████▋    | 45/79 [00:15<00:11,  2.90it/s]\u001b[A\n",
      " 58%|█████▊    | 46/79 [00:15<00:11,  2.91it/s]\u001b[A\n",
      " 59%|█████▉    | 47/79 [00:15<00:11,  2.91it/s]\u001b[A\n",
      " 61%|██████    | 48/79 [00:16<00:10,  2.90it/s]\u001b[A\n",
      " 62%|██████▏   | 49/79 [00:16<00:10,  2.91it/s]\u001b[A\n",
      " 63%|██████▎   | 50/79 [00:16<00:09,  2.91it/s]\u001b[A\n",
      " 65%|██████▍   | 51/79 [00:17<00:09,  2.90it/s]\u001b[A\n",
      " 66%|██████▌   | 52/79 [00:17<00:09,  2.91it/s]\u001b[A\n",
      " 67%|██████▋   | 53/79 [00:17<00:08,  2.91it/s]\u001b[A\n",
      " 68%|██████▊   | 54/79 [00:18<00:08,  2.91it/s]\u001b[A\n",
      " 70%|██████▉   | 55/79 [00:18<00:08,  2.91it/s]\u001b[A\n",
      " 71%|███████   | 56/79 [00:18<00:07,  2.91it/s]\u001b[A\n",
      " 72%|███████▏  | 57/79 [00:19<00:07,  2.90it/s]\u001b[A\n",
      " 73%|███████▎  | 58/79 [00:19<00:07,  2.91it/s]\u001b[A\n",
      " 75%|███████▍  | 59/79 [00:19<00:06,  2.91it/s]\u001b[A\n",
      " 76%|███████▌  | 60/79 [00:20<00:06,  2.90it/s]\u001b[A\n",
      " 77%|███████▋  | 61/79 [00:20<00:06,  2.90it/s]\u001b[A\n",
      " 78%|███████▊  | 62/79 [00:20<00:05,  2.91it/s]\u001b[A\n",
      " 80%|███████▉  | 63/79 [00:21<00:05,  2.90it/s]\u001b[A\n",
      " 81%|████████  | 64/79 [00:21<00:05,  2.91it/s]\u001b[A\n",
      " 82%|████████▏ | 65/79 [00:22<00:04,  2.91it/s]\u001b[A\n",
      " 84%|████████▎ | 66/79 [00:22<00:04,  2.91it/s]\u001b[A\n",
      " 85%|████████▍ | 67/79 [00:22<00:04,  2.91it/s]\u001b[A\n",
      " 86%|████████▌ | 68/79 [00:23<00:03,  2.91it/s]\u001b[A\n",
      " 87%|████████▋ | 69/79 [00:23<00:03,  2.91it/s]\u001b[A\n",
      " 89%|████████▊ | 70/79 [00:23<00:03,  2.91it/s]\u001b[A\n",
      " 90%|████████▉ | 71/79 [00:24<00:02,  2.91it/s]\u001b[A\n",
      " 91%|█████████ | 72/79 [00:24<00:02,  2.91it/s]\u001b[A\n",
      " 92%|█████████▏| 73/79 [00:24<00:02,  2.91it/s]\u001b[A\n",
      " 94%|█████████▎| 74/79 [00:25<00:01,  2.90it/s]\u001b[A\n",
      " 95%|█████████▍| 75/79 [00:25<00:01,  2.91it/s]\u001b[A\n",
      " 96%|█████████▌| 76/79 [00:25<00:01,  2.91it/s]\u001b[A\n",
      " 97%|█████████▋| 77/79 [00:26<00:00,  2.90it/s]\u001b[A\n",
      "                                                     \n",
      " 28%|██▊       | 2744/9800 [53:22<1:33:16,  1.26it/s]\n",
      "100%|██████████| 79/79 [00:26<00:00,  2.96it/s]\u001b[A\n",
      "                                               \u001b[A"
     ]
    },
    {
     "name": "stdout",
     "output_type": "stream",
     "text": [
      "{'eval_loss': 3.024752378463745, 'eval_accuracy': 0.2792, 'eval_runtime': 26.9277, 'eval_samples_per_second': 371.364, 'eval_steps_per_second': 2.934, 'epoch': 28.0}\n"
     ]
    },
    {
     "name": "stderr",
     "output_type": "stream",
     "text": [
      " 28%|██▊       | 2750/9800 [53:28<4:29:18,  2.29s/it] "
     ]
    },
    {
     "name": "stdout",
     "output_type": "stream",
     "text": [
      "{'loss': 1.5002, 'grad_norm': 27.916231155395508, 'learning_rate': 1.4387755102040817e-05, 'epoch': 28.06}\n"
     ]
    },
    {
     "name": "stderr",
     "output_type": "stream",
     "text": [
      " 28%|██▊       | 2760/9800 [53:37<1:49:11,  1.07it/s]"
     ]
    },
    {
     "name": "stdout",
     "output_type": "stream",
     "text": [
      "{'loss': 1.4689, 'grad_norm': 27.591318130493164, 'learning_rate': 1.436734693877551e-05, 'epoch': 28.16}\n"
     ]
    },
    {
     "name": "stderr",
     "output_type": "stream",
     "text": [
      " 28%|██▊       | 2770/9800 [53:46<1:43:39,  1.13it/s]"
     ]
    },
    {
     "name": "stdout",
     "output_type": "stream",
     "text": [
      "{'loss': 1.5037, 'grad_norm': 28.57792091369629, 'learning_rate': 1.4346938775510206e-05, 'epoch': 28.27}\n"
     ]
    },
    {
     "name": "stderr",
     "output_type": "stream",
     "text": [
      " 28%|██▊       | 2780/9800 [53:55<1:43:40,  1.13it/s]"
     ]
    },
    {
     "name": "stdout",
     "output_type": "stream",
     "text": [
      "{'loss': 1.5275, 'grad_norm': 28.91090202331543, 'learning_rate': 1.43265306122449e-05, 'epoch': 28.37}\n"
     ]
    },
    {
     "name": "stderr",
     "output_type": "stream",
     "text": [
      " 28%|██▊       | 2790/9800 [54:04<1:43:37,  1.13it/s]"
     ]
    },
    {
     "name": "stdout",
     "output_type": "stream",
     "text": [
      "{'loss': 1.5404, 'grad_norm': 31.074974060058594, 'learning_rate': 1.4306122448979594e-05, 'epoch': 28.47}\n"
     ]
    },
    {
     "name": "stderr",
     "output_type": "stream",
     "text": [
      " 29%|██▊       | 2800/9800 [54:13<1:43:36,  1.13it/s]"
     ]
    },
    {
     "name": "stdout",
     "output_type": "stream",
     "text": [
      "{'loss': 1.5841, 'grad_norm': 27.57683563232422, 'learning_rate': 1.4285714285714287e-05, 'epoch': 28.57}\n"
     ]
    },
    {
     "name": "stderr",
     "output_type": "stream",
     "text": [
      " 29%|██▊       | 2810/9800 [54:22<1:43:52,  1.12it/s]"
     ]
    },
    {
     "name": "stdout",
     "output_type": "stream",
     "text": [
      "{'loss': 1.62, 'grad_norm': 29.14042091369629, 'learning_rate': 1.426530612244898e-05, 'epoch': 28.67}\n"
     ]
    },
    {
     "name": "stderr",
     "output_type": "stream",
     "text": [
      " 29%|██▉       | 2820/9800 [54:31<1:43:35,  1.12it/s]"
     ]
    },
    {
     "name": "stdout",
     "output_type": "stream",
     "text": [
      "{'loss': 1.5793, 'grad_norm': 31.431055068969727, 'learning_rate': 1.4244897959183674e-05, 'epoch': 28.78}\n"
     ]
    },
    {
     "name": "stderr",
     "output_type": "stream",
     "text": [
      " 29%|██▉       | 2830/9800 [54:39<1:42:57,  1.13it/s]"
     ]
    },
    {
     "name": "stdout",
     "output_type": "stream",
     "text": [
      "{'loss': 1.6034, 'grad_norm': 31.899761199951172, 'learning_rate': 1.4224489795918369e-05, 'epoch': 28.88}\n"
     ]
    },
    {
     "name": "stderr",
     "output_type": "stream",
     "text": [
      " 29%|██▉       | 2840/9800 [54:48<1:42:20,  1.13it/s]"
     ]
    },
    {
     "name": "stdout",
     "output_type": "stream",
     "text": [
      "{'loss': 1.6011, 'grad_norm': 28.99756622314453, 'learning_rate': 1.4204081632653062e-05, 'epoch': 28.98}\n"
     ]
    },
    {
     "name": "stderr",
     "output_type": "stream",
     "text": [
      " 29%|██▉       | 2842/9800 [54:50<1:32:04,  1.26it/s]\n",
      "  0%|          | 0/79 [00:00<?, ?it/s]\u001b[A\n",
      "  3%|▎         | 2/79 [00:00<00:12,  5.95it/s]\u001b[A\n",
      "  4%|▍         | 3/79 [00:00<00:18,  4.10it/s]\u001b[A\n",
      "  5%|▌         | 4/79 [00:01<00:21,  3.56it/s]\u001b[A\n",
      "  6%|▋         | 5/79 [00:01<00:22,  3.31it/s]\u001b[A\n",
      "  8%|▊         | 6/79 [00:01<00:23,  3.15it/s]\u001b[A\n",
      "  9%|▉         | 7/79 [00:02<00:23,  3.07it/s]\u001b[A\n",
      " 10%|█         | 8/79 [00:02<00:23,  3.01it/s]\u001b[A\n",
      " 11%|█▏        | 9/79 [00:02<00:23,  2.98it/s]\u001b[A\n",
      " 13%|█▎        | 10/79 [00:03<00:23,  2.96it/s]\u001b[A\n",
      " 14%|█▍        | 11/79 [00:03<00:23,  2.93it/s]\u001b[A\n",
      " 15%|█▌        | 12/79 [00:03<00:22,  2.93it/s]\u001b[A\n",
      " 16%|█▋        | 13/79 [00:04<00:22,  2.92it/s]\u001b[A\n",
      " 18%|█▊        | 14/79 [00:04<00:22,  2.92it/s]\u001b[A\n",
      " 19%|█▉        | 15/79 [00:04<00:21,  2.92it/s]\u001b[A\n",
      " 20%|██        | 16/79 [00:05<00:21,  2.92it/s]\u001b[A\n",
      " 22%|██▏       | 17/79 [00:05<00:21,  2.91it/s]\u001b[A\n",
      " 23%|██▎       | 18/79 [00:05<00:20,  2.91it/s]\u001b[A\n",
      " 24%|██▍       | 19/79 [00:06<00:20,  2.91it/s]\u001b[A\n",
      " 25%|██▌       | 20/79 [00:06<00:20,  2.90it/s]\u001b[A\n",
      " 27%|██▋       | 21/79 [00:06<00:19,  2.91it/s]\u001b[A\n",
      " 28%|██▊       | 22/79 [00:07<00:19,  2.90it/s]\u001b[A\n",
      " 29%|██▉       | 23/79 [00:07<00:19,  2.90it/s]\u001b[A\n",
      " 30%|███       | 24/79 [00:07<00:18,  2.90it/s]\u001b[A\n",
      " 32%|███▏      | 25/79 [00:08<00:18,  2.90it/s]\u001b[A\n",
      " 33%|███▎      | 26/79 [00:08<00:18,  2.91it/s]\u001b[A\n",
      " 34%|███▍      | 27/79 [00:08<00:17,  2.91it/s]\u001b[A\n",
      " 35%|███▌      | 28/79 [00:09<00:17,  2.90it/s]\u001b[A\n",
      " 37%|███▋      | 29/79 [00:09<00:17,  2.91it/s]\u001b[A\n",
      " 38%|███▊      | 30/79 [00:09<00:16,  2.90it/s]\u001b[A\n",
      " 39%|███▉      | 31/79 [00:10<00:16,  2.90it/s]\u001b[A\n",
      " 41%|████      | 32/79 [00:10<00:16,  2.91it/s]\u001b[A\n",
      " 42%|████▏     | 33/79 [00:11<00:15,  2.90it/s]\u001b[A\n",
      " 43%|████▎     | 34/79 [00:11<00:15,  2.90it/s]\u001b[A\n",
      " 44%|████▍     | 35/79 [00:11<00:15,  2.91it/s]\u001b[A\n",
      " 46%|████▌     | 36/79 [00:12<00:14,  2.91it/s]\u001b[A\n",
      " 47%|████▋     | 37/79 [00:12<00:14,  2.90it/s]\u001b[A\n",
      " 48%|████▊     | 38/79 [00:12<00:14,  2.90it/s]\u001b[A\n",
      " 49%|████▉     | 39/79 [00:13<00:13,  2.91it/s]\u001b[A\n",
      " 51%|█████     | 40/79 [00:13<00:13,  2.91it/s]\u001b[A\n",
      " 52%|█████▏    | 41/79 [00:13<00:13,  2.90it/s]\u001b[A\n",
      " 53%|█████▎    | 42/79 [00:14<00:12,  2.91it/s]\u001b[A\n",
      " 54%|█████▍    | 43/79 [00:14<00:12,  2.91it/s]\u001b[A\n",
      " 56%|█████▌    | 44/79 [00:14<00:12,  2.91it/s]\u001b[A\n",
      " 57%|█████▋    | 45/79 [00:15<00:11,  2.91it/s]\u001b[A\n",
      " 58%|█████▊    | 46/79 [00:15<00:11,  2.91it/s]\u001b[A\n",
      " 59%|█████▉    | 47/79 [00:15<00:10,  2.91it/s]\u001b[A\n",
      " 61%|██████    | 48/79 [00:16<00:10,  2.91it/s]\u001b[A\n",
      " 62%|██████▏   | 49/79 [00:16<00:10,  2.90it/s]\u001b[A\n",
      " 63%|██████▎   | 50/79 [00:16<00:09,  2.91it/s]\u001b[A\n",
      " 65%|██████▍   | 51/79 [00:17<00:09,  2.91it/s]\u001b[A\n",
      " 66%|██████▌   | 52/79 [00:17<00:09,  2.91it/s]\u001b[A\n",
      " 67%|██████▋   | 53/79 [00:17<00:08,  2.90it/s]\u001b[A\n",
      " 68%|██████▊   | 54/79 [00:18<00:08,  2.91it/s]\u001b[A\n",
      " 70%|██████▉   | 55/79 [00:18<00:08,  2.91it/s]\u001b[A\n",
      " 71%|███████   | 56/79 [00:18<00:07,  2.90it/s]\u001b[A\n",
      " 72%|███████▏  | 57/79 [00:19<00:07,  2.91it/s]\u001b[A\n",
      " 73%|███████▎  | 58/79 [00:19<00:07,  2.91it/s]\u001b[A\n",
      " 75%|███████▍  | 59/79 [00:19<00:06,  2.91it/s]\u001b[A\n",
      " 76%|███████▌  | 60/79 [00:20<00:06,  2.90it/s]\u001b[A\n",
      " 77%|███████▋  | 61/79 [00:20<00:06,  2.91it/s]\u001b[A\n",
      " 78%|███████▊  | 62/79 [00:20<00:05,  2.91it/s]\u001b[A\n",
      " 80%|███████▉  | 63/79 [00:21<00:05,  2.91it/s]\u001b[A\n",
      " 81%|████████  | 64/79 [00:21<00:05,  2.91it/s]\u001b[A\n",
      " 82%|████████▏ | 65/79 [00:22<00:04,  2.92it/s]\u001b[A\n",
      " 84%|████████▎ | 66/79 [00:22<00:04,  2.91it/s]\u001b[A\n",
      " 85%|████████▍ | 67/79 [00:22<00:04,  2.91it/s]\u001b[A\n",
      " 86%|████████▌ | 68/79 [00:23<00:03,  2.91it/s]\u001b[A\n",
      " 87%|████████▋ | 69/79 [00:23<00:03,  2.91it/s]\u001b[A\n",
      " 89%|████████▊ | 70/79 [00:23<00:03,  2.90it/s]\u001b[A\n",
      " 90%|████████▉ | 71/79 [00:24<00:02,  2.91it/s]\u001b[A\n",
      " 91%|█████████ | 72/79 [00:24<00:02,  2.91it/s]\u001b[A\n",
      " 92%|█████████▏| 73/79 [00:24<00:02,  2.91it/s]\u001b[A\n",
      " 94%|█████████▎| 74/79 [00:25<00:01,  2.90it/s]\u001b[A\n",
      " 95%|█████████▍| 75/79 [00:25<00:01,  2.91it/s]\u001b[A\n",
      " 96%|█████████▌| 76/79 [00:25<00:01,  2.90it/s]\u001b[A\n",
      " 97%|█████████▋| 77/79 [00:26<00:00,  2.90it/s]\u001b[A\n",
      "                                                     \n",
      " 29%|██▉       | 2842/9800 [55:17<1:32:04,  1.26it/s]\n",
      "100%|██████████| 79/79 [00:26<00:00,  2.95it/s]\u001b[A\n",
      "                                               \u001b[A"
     ]
    },
    {
     "name": "stdout",
     "output_type": "stream",
     "text": [
      "{'eval_loss': 3.0152907371520996, 'eval_accuracy': 0.2805, 'eval_runtime': 26.9471, 'eval_samples_per_second': 371.098, 'eval_steps_per_second': 2.932, 'epoch': 29.0}\n"
     ]
    },
    {
     "name": "stderr",
     "output_type": "stream",
     "text": [
      " 29%|██▉       | 2850/9800 [55:25<3:02:40,  1.58s/it] "
     ]
    },
    {
     "name": "stdout",
     "output_type": "stream",
     "text": [
      "{'loss': 1.4612, 'grad_norm': 30.17903709411621, 'learning_rate': 1.4183673469387755e-05, 'epoch': 29.08}\n"
     ]
    },
    {
     "name": "stderr",
     "output_type": "stream",
     "text": [
      " 29%|██▉       | 2860/9800 [55:34<1:45:11,  1.10it/s]"
     ]
    },
    {
     "name": "stdout",
     "output_type": "stream",
     "text": [
      "{'loss': 1.4446, 'grad_norm': 25.9735107421875, 'learning_rate': 1.4163265306122452e-05, 'epoch': 29.18}\n"
     ]
    },
    {
     "name": "stderr",
     "output_type": "stream",
     "text": [
      " 29%|██▉       | 2870/9800 [55:43<1:42:55,  1.12it/s]"
     ]
    },
    {
     "name": "stdout",
     "output_type": "stream",
     "text": [
      "{'loss': 1.484, 'grad_norm': 30.375837326049805, 'learning_rate': 1.4142857142857145e-05, 'epoch': 29.29}\n"
     ]
    },
    {
     "name": "stderr",
     "output_type": "stream",
     "text": [
      " 29%|██▉       | 2880/9800 [55:52<1:41:57,  1.13it/s]"
     ]
    },
    {
     "name": "stdout",
     "output_type": "stream",
     "text": [
      "{'loss': 1.47, 'grad_norm': 27.02143669128418, 'learning_rate': 1.4122448979591838e-05, 'epoch': 29.39}\n"
     ]
    },
    {
     "name": "stderr",
     "output_type": "stream",
     "text": [
      " 29%|██▉       | 2890/9800 [56:00<1:41:50,  1.13it/s]"
     ]
    },
    {
     "name": "stdout",
     "output_type": "stream",
     "text": [
      "{'loss': 1.4699, 'grad_norm': 31.104557037353516, 'learning_rate': 1.4102040816326532e-05, 'epoch': 29.49}\n"
     ]
    },
    {
     "name": "stderr",
     "output_type": "stream",
     "text": [
      " 30%|██▉       | 2900/9800 [56:09<1:41:59,  1.13it/s]"
     ]
    },
    {
     "name": "stdout",
     "output_type": "stream",
     "text": [
      "{'loss': 1.496, 'grad_norm': 26.9409122467041, 'learning_rate': 1.4081632653061225e-05, 'epoch': 29.59}\n"
     ]
    },
    {
     "name": "stderr",
     "output_type": "stream",
     "text": [
      " 30%|██▉       | 2910/9800 [56:18<1:42:05,  1.12it/s]"
     ]
    },
    {
     "name": "stdout",
     "output_type": "stream",
     "text": [
      "{'loss': 1.5038, 'grad_norm': 34.15926742553711, 'learning_rate': 1.406122448979592e-05, 'epoch': 29.69}\n"
     ]
    },
    {
     "name": "stderr",
     "output_type": "stream",
     "text": [
      " 30%|██▉       | 2920/9800 [56:27<1:42:07,  1.12it/s]"
     ]
    },
    {
     "name": "stdout",
     "output_type": "stream",
     "text": [
      "{'loss': 1.5079, 'grad_norm': 31.16442108154297, 'learning_rate': 1.4040816326530613e-05, 'epoch': 29.8}\n"
     ]
    },
    {
     "name": "stderr",
     "output_type": "stream",
     "text": [
      " 30%|██▉       | 2930/9800 [56:36<1:41:48,  1.12it/s]"
     ]
    },
    {
     "name": "stdout",
     "output_type": "stream",
     "text": [
      "{'loss': 1.4485, 'grad_norm': 30.12321662902832, 'learning_rate': 1.4020408163265307e-05, 'epoch': 29.9}\n"
     ]
    },
    {
     "name": "stderr",
     "output_type": "stream",
     "text": [
      " 30%|███       | 2940/9800 [56:44<1:30:40,  1.26it/s]"
     ]
    },
    {
     "name": "stdout",
     "output_type": "stream",
     "text": [
      "{'loss': 1.5248, 'grad_norm': 40.33580780029297, 'learning_rate': 1.4e-05, 'epoch': 30.0}\n"
     ]
    },
    {
     "name": "stderr",
     "output_type": "stream",
     "text": [
      "\n",
      "  0%|          | 0/79 [00:00<?, ?it/s]\u001b[A\n",
      "  3%|▎         | 2/79 [00:00<00:12,  5.95it/s]\u001b[A\n",
      "  4%|▍         | 3/79 [00:00<00:18,  4.09it/s]\u001b[A\n",
      "  5%|▌         | 4/79 [00:01<00:20,  3.57it/s]\u001b[A\n",
      "  6%|▋         | 5/79 [00:01<00:22,  3.33it/s]\u001b[A\n",
      "  8%|▊         | 6/79 [00:01<00:23,  3.17it/s]\u001b[A\n",
      "  9%|▉         | 7/79 [00:02<00:23,  3.08it/s]\u001b[A\n",
      " 10%|█         | 8/79 [00:02<00:23,  3.02it/s]\u001b[A\n",
      " 11%|█▏        | 9/79 [00:02<00:23,  2.98it/s]\u001b[A\n",
      " 13%|█▎        | 10/79 [00:03<00:23,  2.96it/s]\u001b[A\n",
      " 14%|█▍        | 11/79 [00:03<00:23,  2.95it/s]\u001b[A\n",
      " 15%|█▌        | 12/79 [00:03<00:22,  2.93it/s]\u001b[A\n",
      " 16%|█▋        | 13/79 [00:04<00:22,  2.92it/s]\u001b[A\n",
      " 18%|█▊        | 14/79 [00:04<00:22,  2.92it/s]\u001b[A\n",
      " 19%|█▉        | 15/79 [00:04<00:21,  2.91it/s]\u001b[A\n",
      " 20%|██        | 16/79 [00:05<00:21,  2.91it/s]\u001b[A\n",
      " 22%|██▏       | 17/79 [00:05<00:21,  2.91it/s]\u001b[A\n",
      " 23%|██▎       | 18/79 [00:05<00:20,  2.91it/s]\u001b[A\n",
      " 24%|██▍       | 19/79 [00:06<00:20,  2.90it/s]\u001b[A\n",
      " 25%|██▌       | 20/79 [00:06<00:20,  2.91it/s]\u001b[A\n",
      " 27%|██▋       | 21/79 [00:06<00:19,  2.91it/s]\u001b[A\n",
      " 28%|██▊       | 22/79 [00:07<00:19,  2.91it/s]\u001b[A\n",
      " 29%|██▉       | 23/79 [00:07<00:19,  2.91it/s]\u001b[A\n",
      " 30%|███       | 24/79 [00:07<00:18,  2.91it/s]\u001b[A\n",
      " 32%|███▏      | 25/79 [00:08<00:18,  2.91it/s]\u001b[A\n",
      " 33%|███▎      | 26/79 [00:08<00:18,  2.91it/s]\u001b[A\n",
      " 34%|███▍      | 27/79 [00:08<00:17,  2.91it/s]\u001b[A\n",
      " 35%|███▌      | 28/79 [00:09<00:17,  2.90it/s]\u001b[A\n",
      " 37%|███▋      | 29/79 [00:09<00:17,  2.91it/s]\u001b[A\n",
      " 38%|███▊      | 30/79 [00:09<00:16,  2.91it/s]\u001b[A\n",
      " 39%|███▉      | 31/79 [00:10<00:16,  2.91it/s]\u001b[A\n",
      " 41%|████      | 32/79 [00:10<00:16,  2.91it/s]\u001b[A\n",
      " 42%|████▏     | 33/79 [00:11<00:15,  2.91it/s]\u001b[A\n",
      " 43%|████▎     | 34/79 [00:11<00:15,  2.91it/s]\u001b[A\n",
      " 44%|████▍     | 35/79 [00:11<00:15,  2.91it/s]\u001b[A\n",
      " 46%|████▌     | 36/79 [00:12<00:14,  2.91it/s]\u001b[A\n",
      " 47%|████▋     | 37/79 [00:12<00:14,  2.91it/s]\u001b[A\n",
      " 48%|████▊     | 38/79 [00:12<00:14,  2.91it/s]\u001b[A\n",
      " 49%|████▉     | 39/79 [00:13<00:13,  2.91it/s]\u001b[A\n",
      " 51%|█████     | 40/79 [00:13<00:13,  2.90it/s]\u001b[A\n",
      " 52%|█████▏    | 41/79 [00:13<00:13,  2.90it/s]\u001b[A\n",
      " 53%|█████▎    | 42/79 [00:14<00:12,  2.90it/s]\u001b[A\n",
      " 54%|█████▍    | 43/79 [00:14<00:12,  2.90it/s]\u001b[A\n",
      " 56%|█████▌    | 44/79 [00:14<00:12,  2.91it/s]\u001b[A\n",
      " 57%|█████▋    | 45/79 [00:15<00:11,  2.91it/s]\u001b[A\n",
      " 58%|█████▊    | 46/79 [00:15<00:11,  2.91it/s]\u001b[A\n",
      " 59%|█████▉    | 47/79 [00:15<00:11,  2.91it/s]\u001b[A\n",
      " 61%|██████    | 48/79 [00:16<00:10,  2.91it/s]\u001b[A\n",
      " 62%|██████▏   | 49/79 [00:16<00:10,  2.91it/s]\u001b[A\n",
      " 63%|██████▎   | 50/79 [00:16<00:09,  2.91it/s]\u001b[A\n",
      " 65%|██████▍   | 51/79 [00:17<00:09,  2.91it/s]\u001b[A\n",
      " 66%|██████▌   | 52/79 [00:17<00:09,  2.90it/s]\u001b[A\n",
      " 67%|██████▋   | 53/79 [00:17<00:08,  2.91it/s]\u001b[A\n",
      " 68%|██████▊   | 54/79 [00:18<00:08,  2.91it/s]\u001b[A\n",
      " 70%|██████▉   | 55/79 [00:18<00:08,  2.91it/s]\u001b[A\n",
      " 71%|███████   | 56/79 [00:18<00:07,  2.90it/s]\u001b[A\n",
      " 72%|███████▏  | 57/79 [00:19<00:07,  2.90it/s]\u001b[A\n",
      " 73%|███████▎  | 58/79 [00:19<00:07,  2.90it/s]\u001b[A\n",
      " 75%|███████▍  | 59/79 [00:19<00:06,  2.90it/s]\u001b[A\n",
      " 76%|███████▌  | 60/79 [00:20<00:06,  2.90it/s]\u001b[A\n",
      " 77%|███████▋  | 61/79 [00:20<00:06,  2.90it/s]\u001b[A\n",
      " 78%|███████▊  | 62/79 [00:20<00:05,  2.91it/s]\u001b[A\n",
      " 80%|███████▉  | 63/79 [00:21<00:05,  2.90it/s]\u001b[A\n",
      " 81%|████████  | 64/79 [00:21<00:05,  2.90it/s]\u001b[A\n",
      " 82%|████████▏ | 65/79 [00:22<00:04,  2.91it/s]\u001b[A\n",
      " 84%|████████▎ | 66/79 [00:22<00:04,  2.90it/s]\u001b[A\n",
      " 85%|████████▍ | 67/79 [00:22<00:04,  2.90it/s]\u001b[A\n",
      " 86%|████████▌ | 68/79 [00:23<00:03,  2.91it/s]\u001b[A\n",
      " 87%|████████▋ | 69/79 [00:23<00:03,  2.90it/s]\u001b[A\n",
      " 89%|████████▊ | 70/79 [00:23<00:03,  2.90it/s]\u001b[A\n",
      " 90%|████████▉ | 71/79 [00:24<00:02,  2.91it/s]\u001b[A\n",
      " 91%|█████████ | 72/79 [00:24<00:02,  2.90it/s]\u001b[A\n",
      " 92%|█████████▏| 73/79 [00:24<00:02,  2.90it/s]\u001b[A\n",
      " 94%|█████████▎| 74/79 [00:25<00:01,  2.91it/s]\u001b[A\n",
      " 95%|█████████▍| 75/79 [00:25<00:01,  2.91it/s]\u001b[A\n",
      " 96%|█████████▌| 76/79 [00:25<00:01,  2.90it/s]\u001b[A\n",
      " 97%|█████████▋| 77/79 [00:26<00:00,  2.90it/s]\u001b[A\n",
      "                                                     \n",
      " 30%|███       | 2940/9800 [57:11<1:30:40,  1.26it/s]\n",
      "100%|██████████| 79/79 [00:26<00:00,  2.97it/s]\u001b[A\n",
      "                                               \u001b[A"
     ]
    },
    {
     "name": "stdout",
     "output_type": "stream",
     "text": [
      "{'eval_loss': 3.0205180644989014, 'eval_accuracy': 0.2846, 'eval_runtime': 26.9391, 'eval_samples_per_second': 371.207, 'eval_steps_per_second': 2.933, 'epoch': 30.0}\n"
     ]
    },
    {
     "name": "stderr",
     "output_type": "stream",
     "text": [
      " 30%|███       | 2950/9800 [57:21<2:19:46,  1.22s/it] "
     ]
    },
    {
     "name": "stdout",
     "output_type": "stream",
     "text": [
      "{'loss': 1.4006, 'grad_norm': 31.7934513092041, 'learning_rate': 1.3979591836734696e-05, 'epoch': 30.1}\n"
     ]
    },
    {
     "name": "stderr",
     "output_type": "stream",
     "text": [
      " 30%|███       | 2960/9800 [57:30<1:42:35,  1.11it/s]"
     ]
    },
    {
     "name": "stdout",
     "output_type": "stream",
     "text": [
      "{'loss': 1.3773, 'grad_norm': 29.388500213623047, 'learning_rate': 1.395918367346939e-05, 'epoch': 30.2}\n"
     ]
    },
    {
     "name": "stderr",
     "output_type": "stream",
     "text": [
      " 30%|███       | 2970/9800 [57:39<1:41:24,  1.12it/s]"
     ]
    },
    {
     "name": "stdout",
     "output_type": "stream",
     "text": [
      "{'loss': 1.3596, 'grad_norm': 27.877336502075195, 'learning_rate': 1.3938775510204083e-05, 'epoch': 30.31}\n"
     ]
    },
    {
     "name": "stderr",
     "output_type": "stream",
     "text": [
      " 30%|███       | 2980/9800 [57:48<1:40:43,  1.13it/s]"
     ]
    },
    {
     "name": "stdout",
     "output_type": "stream",
     "text": [
      "{'loss': 1.3545, 'grad_norm': 32.6457405090332, 'learning_rate': 1.3918367346938776e-05, 'epoch': 30.41}\n"
     ]
    },
    {
     "name": "stderr",
     "output_type": "stream",
     "text": [
      " 31%|███       | 2990/9800 [57:57<1:40:10,  1.13it/s]"
     ]
    },
    {
     "name": "stdout",
     "output_type": "stream",
     "text": [
      "{'loss': 1.4257, 'grad_norm': 31.260190963745117, 'learning_rate': 1.3897959183673471e-05, 'epoch': 30.51}\n"
     ]
    },
    {
     "name": "stderr",
     "output_type": "stream",
     "text": [
      " 31%|███       | 3000/9800 [58:06<1:40:23,  1.13it/s]"
     ]
    },
    {
     "name": "stdout",
     "output_type": "stream",
     "text": [
      "{'loss': 1.416, 'grad_norm': 32.121524810791016, 'learning_rate': 1.3877551020408165e-05, 'epoch': 30.61}\n"
     ]
    },
    {
     "name": "stderr",
     "output_type": "stream",
     "text": [
      " 31%|███       | 3010/9800 [58:15<1:40:18,  1.13it/s]"
     ]
    },
    {
     "name": "stdout",
     "output_type": "stream",
     "text": [
      "{'loss': 1.4249, 'grad_norm': 33.403560638427734, 'learning_rate': 1.3857142857142858e-05, 'epoch': 30.71}\n"
     ]
    },
    {
     "name": "stderr",
     "output_type": "stream",
     "text": [
      " 31%|███       | 3020/9800 [58:23<1:40:19,  1.13it/s]"
     ]
    },
    {
     "name": "stdout",
     "output_type": "stream",
     "text": [
      "{'loss': 1.4503, 'grad_norm': 29.910249710083008, 'learning_rate': 1.3836734693877551e-05, 'epoch': 30.82}\n"
     ]
    },
    {
     "name": "stderr",
     "output_type": "stream",
     "text": [
      " 31%|███       | 3030/9800 [58:32<1:40:27,  1.12it/s]"
     ]
    },
    {
     "name": "stdout",
     "output_type": "stream",
     "text": [
      "{'loss': 1.4336, 'grad_norm': 31.089263916015625, 'learning_rate': 1.3816326530612244e-05, 'epoch': 30.92}\n"
     ]
    },
    {
     "name": "stderr",
     "output_type": "stream",
     "text": [
      " 31%|███       | 3038/9800 [58:39<1:30:15,  1.25it/s]\n",
      "  0%|          | 0/79 [00:00<?, ?it/s]\u001b[A\n",
      "  3%|▎         | 2/79 [00:00<00:13,  5.86it/s]\u001b[A\n",
      "  4%|▍         | 3/79 [00:00<00:18,  4.03it/s]\u001b[A\n",
      "  5%|▌         | 4/79 [00:01<00:21,  3.54it/s]\u001b[A\n",
      "  6%|▋         | 5/79 [00:01<00:22,  3.32it/s]\u001b[A\n",
      "  8%|▊         | 6/79 [00:01<00:23,  3.16it/s]\u001b[A\n",
      "  9%|▉         | 7/79 [00:02<00:23,  3.07it/s]\u001b[A\n",
      " 10%|█         | 8/79 [00:02<00:23,  3.03it/s]\u001b[A\n",
      " 11%|█▏        | 9/79 [00:02<00:23,  2.99it/s]\u001b[A\n",
      " 13%|█▎        | 10/79 [00:03<00:23,  2.96it/s]\u001b[A\n",
      " 14%|█▍        | 11/79 [00:03<00:23,  2.95it/s]\u001b[A\n",
      " 15%|█▌        | 12/79 [00:03<00:22,  2.94it/s]\u001b[A\n",
      " 16%|█▋        | 13/79 [00:04<00:22,  2.93it/s]\u001b[A\n",
      " 18%|█▊        | 14/79 [00:04<00:22,  2.92it/s]\u001b[A\n",
      " 19%|█▉        | 15/79 [00:04<00:21,  2.92it/s]\u001b[A\n",
      " 20%|██        | 16/79 [00:05<00:21,  2.92it/s]\u001b[A\n",
      " 22%|██▏       | 17/79 [00:05<00:21,  2.92it/s]\u001b[A\n",
      " 23%|██▎       | 18/79 [00:05<00:20,  2.92it/s]\u001b[A\n",
      " 24%|██▍       | 19/79 [00:06<00:20,  2.92it/s]\u001b[A\n",
      " 25%|██▌       | 20/79 [00:06<00:20,  2.91it/s]\u001b[A\n",
      " 27%|██▋       | 21/79 [00:06<00:19,  2.91it/s]\u001b[A\n",
      " 28%|██▊       | 22/79 [00:07<00:19,  2.92it/s]\u001b[A\n",
      " 29%|██▉       | 23/79 [00:07<00:19,  2.92it/s]\u001b[A\n",
      " 30%|███       | 24/79 [00:07<00:18,  2.93it/s]\u001b[A\n",
      " 32%|███▏      | 25/79 [00:08<00:18,  2.94it/s]\u001b[A\n",
      " 33%|███▎      | 26/79 [00:08<00:18,  2.94it/s]\u001b[A\n",
      " 34%|███▍      | 27/79 [00:08<00:17,  2.94it/s]\u001b[A\n",
      " 35%|███▌      | 28/79 [00:09<00:17,  2.92it/s]\u001b[A\n",
      " 37%|███▋      | 29/79 [00:09<00:17,  2.92it/s]\u001b[A\n",
      " 38%|███▊      | 30/79 [00:09<00:16,  2.92it/s]\u001b[A\n",
      " 39%|███▉      | 31/79 [00:10<00:16,  2.91it/s]\u001b[A\n",
      " 41%|████      | 32/79 [00:10<00:16,  2.92it/s]\u001b[A\n",
      " 42%|████▏     | 33/79 [00:10<00:15,  2.92it/s]\u001b[A\n",
      " 43%|████▎     | 34/79 [00:11<00:15,  2.91it/s]\u001b[A\n",
      " 44%|████▍     | 35/79 [00:11<00:15,  2.91it/s]\u001b[A\n",
      " 46%|████▌     | 36/79 [00:12<00:14,  2.91it/s]\u001b[A\n",
      " 47%|████▋     | 37/79 [00:12<00:14,  2.91it/s]\u001b[A\n",
      " 48%|████▊     | 38/79 [00:12<00:14,  2.91it/s]\u001b[A\n",
      " 49%|████▉     | 39/79 [00:13<00:13,  2.91it/s]\u001b[A\n",
      " 51%|█████     | 40/79 [00:13<00:13,  2.91it/s]\u001b[A\n",
      " 52%|█████▏    | 41/79 [00:13<00:13,  2.91it/s]\u001b[A\n",
      " 53%|█████▎    | 42/79 [00:14<00:12,  2.91it/s]\u001b[A\n",
      " 54%|█████▍    | 43/79 [00:14<00:12,  2.91it/s]\u001b[A\n",
      " 56%|█████▌    | 44/79 [00:14<00:12,  2.91it/s]\u001b[A\n",
      " 57%|█████▋    | 45/79 [00:15<00:11,  2.91it/s]\u001b[A\n",
      " 58%|█████▊    | 46/79 [00:15<00:11,  2.91it/s]\u001b[A\n",
      " 59%|█████▉    | 47/79 [00:15<00:10,  2.91it/s]\u001b[A\n",
      " 61%|██████    | 48/79 [00:16<00:10,  2.91it/s]\u001b[A\n",
      " 62%|██████▏   | 49/79 [00:16<00:10,  2.91it/s]\u001b[A\n",
      " 63%|██████▎   | 50/79 [00:16<00:09,  2.91it/s]\u001b[A\n",
      " 65%|██████▍   | 51/79 [00:17<00:09,  2.90it/s]\u001b[A\n",
      " 66%|██████▌   | 52/79 [00:17<00:09,  2.91it/s]\u001b[A\n",
      " 67%|██████▋   | 53/79 [00:17<00:08,  2.91it/s]\u001b[A\n",
      " 68%|██████▊   | 54/79 [00:18<00:08,  2.91it/s]\u001b[A\n",
      " 70%|██████▉   | 55/79 [00:18<00:08,  2.91it/s]\u001b[A\n",
      " 71%|███████   | 56/79 [00:18<00:07,  2.91it/s]\u001b[A\n",
      " 72%|███████▏  | 57/79 [00:19<00:07,  2.90it/s]\u001b[A\n",
      " 73%|███████▎  | 58/79 [00:19<00:07,  2.91it/s]\u001b[A\n",
      " 75%|███████▍  | 59/79 [00:19<00:06,  2.91it/s]\u001b[A\n",
      " 76%|███████▌  | 60/79 [00:20<00:06,  2.93it/s]\u001b[A\n",
      " 77%|███████▋  | 61/79 [00:20<00:06,  2.93it/s]\u001b[A\n",
      " 78%|███████▊  | 62/79 [00:20<00:05,  2.93it/s]\u001b[A\n",
      " 80%|███████▉  | 63/79 [00:21<00:05,  2.92it/s]\u001b[A\n",
      " 81%|████████  | 64/79 [00:21<00:05,  2.92it/s]\u001b[A\n",
      " 82%|████████▏ | 65/79 [00:21<00:04,  2.92it/s]\u001b[A\n",
      " 84%|████████▎ | 66/79 [00:22<00:04,  2.91it/s]\u001b[A\n",
      " 85%|████████▍ | 67/79 [00:22<00:04,  2.91it/s]\u001b[A\n",
      " 86%|████████▌ | 68/79 [00:22<00:03,  2.91it/s]\u001b[A\n",
      " 87%|████████▋ | 69/79 [00:23<00:03,  2.91it/s]\u001b[A\n",
      " 89%|████████▊ | 70/79 [00:23<00:03,  2.91it/s]\u001b[A\n",
      " 90%|████████▉ | 71/79 [00:24<00:02,  2.91it/s]\u001b[A\n",
      " 91%|█████████ | 72/79 [00:24<00:02,  2.91it/s]\u001b[A\n",
      " 92%|█████████▏| 73/79 [00:24<00:02,  2.91it/s]\u001b[A\n",
      " 94%|█████████▎| 74/79 [00:25<00:01,  2.91it/s]\u001b[A\n",
      " 95%|█████████▍| 75/79 [00:25<00:01,  2.91it/s]\u001b[A\n",
      " 96%|█████████▌| 76/79 [00:25<00:01,  2.91it/s]\u001b[A\n",
      " 97%|█████████▋| 77/79 [00:26<00:00,  2.91it/s]\u001b[A\n",
      "                                                     \n",
      " 31%|███       | 3038/9800 [59:06<1:30:15,  1.25it/s]\n",
      "100%|██████████| 79/79 [00:26<00:00,  2.97it/s]\u001b[A\n",
      "                                               \u001b[A"
     ]
    },
    {
     "name": "stdout",
     "output_type": "stream",
     "text": [
      "{'eval_loss': 3.0123207569122314, 'eval_accuracy': 0.2827, 'eval_runtime': 26.8745, 'eval_samples_per_second': 372.099, 'eval_steps_per_second': 2.94, 'epoch': 31.0}\n"
     ]
    },
    {
     "name": "stderr",
     "output_type": "stream",
     "text": [
      " 31%|███       | 3040/9800 [59:09<12:36:37,  6.72s/it]"
     ]
    },
    {
     "name": "stdout",
     "output_type": "stream",
     "text": [
      "{'loss': 1.4018, 'grad_norm': 28.484397888183594, 'learning_rate': 1.3795918367346941e-05, 'epoch': 31.02}\n"
     ]
    },
    {
     "name": "stderr",
     "output_type": "stream",
     "text": [
      " 31%|███       | 3050/9800 [59:18<1:58:04,  1.05s/it] "
     ]
    },
    {
     "name": "stdout",
     "output_type": "stream",
     "text": [
      "{'loss': 1.3395, 'grad_norm': 32.83027267456055, 'learning_rate': 1.3775510204081634e-05, 'epoch': 31.12}\n"
     ]
    },
    {
     "name": "stderr",
     "output_type": "stream",
     "text": [
      " 31%|███       | 3060/9800 [59:27<1:40:09,  1.12it/s]"
     ]
    },
    {
     "name": "stdout",
     "output_type": "stream",
     "text": [
      "{'loss': 1.3, 'grad_norm': 30.186481475830078, 'learning_rate': 1.3755102040816328e-05, 'epoch': 31.22}\n"
     ]
    },
    {
     "name": "stderr",
     "output_type": "stream",
     "text": [
      " 31%|███▏      | 3070/9800 [59:36<1:39:55,  1.12it/s]"
     ]
    },
    {
     "name": "stdout",
     "output_type": "stream",
     "text": [
      "{'loss': 1.3213, 'grad_norm': 29.905330657958984, 'learning_rate': 1.3734693877551023e-05, 'epoch': 31.33}\n"
     ]
    },
    {
     "name": "stderr",
     "output_type": "stream",
     "text": [
      " 31%|███▏      | 3080/9800 [59:44<1:39:44,  1.12it/s]"
     ]
    },
    {
     "name": "stdout",
     "output_type": "stream",
     "text": [
      "{'loss': 1.4008, 'grad_norm': 31.668563842773438, 'learning_rate': 1.3714285714285716e-05, 'epoch': 31.43}\n"
     ]
    },
    {
     "name": "stderr",
     "output_type": "stream",
     "text": [
      " 32%|███▏      | 3090/9800 [59:53<1:39:03,  1.13it/s]"
     ]
    },
    {
     "name": "stdout",
     "output_type": "stream",
     "text": [
      "{'loss': 1.3282, 'grad_norm': 28.811586380004883, 'learning_rate': 1.3693877551020409e-05, 'epoch': 31.53}\n"
     ]
    },
    {
     "name": "stderr",
     "output_type": "stream",
     "text": [
      " 32%|███▏      | 3100/9800 [1:00:02<1:38:37,  1.13it/s]"
     ]
    },
    {
     "name": "stdout",
     "output_type": "stream",
     "text": [
      "{'loss': 1.3365, 'grad_norm': 28.095876693725586, 'learning_rate': 1.3673469387755102e-05, 'epoch': 31.63}\n"
     ]
    },
    {
     "name": "stderr",
     "output_type": "stream",
     "text": [
      " 32%|███▏      | 3110/9800 [1:00:11<1:38:59,  1.13it/s]"
     ]
    },
    {
     "name": "stdout",
     "output_type": "stream",
     "text": [
      "{'loss': 1.3177, 'grad_norm': 29.13031578063965, 'learning_rate': 1.3653061224489796e-05, 'epoch': 31.73}\n"
     ]
    },
    {
     "name": "stderr",
     "output_type": "stream",
     "text": [
      " 32%|███▏      | 3120/9800 [1:00:20<1:39:04,  1.12it/s]"
     ]
    },
    {
     "name": "stdout",
     "output_type": "stream",
     "text": [
      "{'loss': 1.3313, 'grad_norm': 33.92343521118164, 'learning_rate': 1.363265306122449e-05, 'epoch': 31.84}\n"
     ]
    },
    {
     "name": "stderr",
     "output_type": "stream",
     "text": [
      " 32%|███▏      | 3130/9800 [1:00:29<1:38:57,  1.12it/s]"
     ]
    },
    {
     "name": "stdout",
     "output_type": "stream",
     "text": [
      "{'loss': 1.3751, 'grad_norm': 26.911205291748047, 'learning_rate': 1.3612244897959184e-05, 'epoch': 31.94}\n"
     ]
    },
    {
     "name": "stderr",
     "output_type": "stream",
     "text": [
      " 32%|███▏      | 3136/9800 [1:00:34<1:28:57,  1.25it/s]\n",
      "  0%|          | 0/79 [00:00<?, ?it/s]\u001b[A\n",
      "  3%|▎         | 2/79 [00:00<00:13,  5.92it/s]\u001b[A\n",
      "  4%|▍         | 3/79 [00:00<00:18,  4.02it/s]\u001b[A\n",
      "  5%|▌         | 4/79 [00:01<00:21,  3.52it/s]\u001b[A\n",
      "  6%|▋         | 5/79 [00:01<00:22,  3.28it/s]\u001b[A\n",
      "  8%|▊         | 6/79 [00:01<00:23,  3.14it/s]\u001b[A\n",
      "  9%|▉         | 7/79 [00:02<00:23,  3.05it/s]\u001b[A\n",
      " 10%|█         | 8/79 [00:02<00:23,  2.99it/s]\u001b[A\n",
      " 11%|█▏        | 9/79 [00:02<00:23,  2.96it/s]\u001b[A\n",
      " 13%|█▎        | 10/79 [00:03<00:23,  2.94it/s]\u001b[A\n",
      " 14%|█▍        | 11/79 [00:03<00:23,  2.92it/s]\u001b[A\n",
      " 15%|█▌        | 12/79 [00:03<00:22,  2.91it/s]\u001b[A\n",
      " 16%|█▋        | 13/79 [00:04<00:22,  2.92it/s]\u001b[A\n",
      " 18%|█▊        | 14/79 [00:04<00:22,  2.91it/s]\u001b[A\n",
      " 19%|█▉        | 15/79 [00:04<00:22,  2.91it/s]\u001b[A\n",
      " 20%|██        | 16/79 [00:05<00:21,  2.91it/s]\u001b[A\n",
      " 22%|██▏       | 17/79 [00:05<00:21,  2.91it/s]\u001b[A\n",
      " 23%|██▎       | 18/79 [00:05<00:21,  2.90it/s]\u001b[A\n",
      " 24%|██▍       | 19/79 [00:06<00:20,  2.90it/s]\u001b[A\n",
      " 25%|██▌       | 20/79 [00:06<00:20,  2.91it/s]\u001b[A\n",
      " 27%|██▋       | 21/79 [00:06<00:19,  2.91it/s]\u001b[A\n",
      " 28%|██▊       | 22/79 [00:07<00:19,  2.90it/s]\u001b[A\n",
      " 29%|██▉       | 23/79 [00:07<00:19,  2.90it/s]\u001b[A\n",
      " 30%|███       | 24/79 [00:07<00:18,  2.92it/s]\u001b[A\n",
      " 32%|███▏      | 25/79 [00:08<00:18,  2.91it/s]\u001b[A\n",
      " 33%|███▎      | 26/79 [00:08<00:18,  2.91it/s]\u001b[A\n",
      " 34%|███▍      | 27/79 [00:08<00:17,  2.91it/s]\u001b[A\n",
      " 35%|███▌      | 28/79 [00:09<00:17,  2.91it/s]\u001b[A\n",
      " 37%|███▋      | 29/79 [00:09<00:17,  2.90it/s]\u001b[A\n",
      " 38%|███▊      | 30/79 [00:10<00:16,  2.91it/s]\u001b[A\n",
      " 39%|███▉      | 31/79 [00:10<00:16,  2.91it/s]\u001b[A\n",
      " 41%|████      | 32/79 [00:10<00:16,  2.91it/s]\u001b[A\n",
      " 42%|████▏     | 33/79 [00:11<00:15,  2.91it/s]\u001b[A\n",
      " 43%|████▎     | 34/79 [00:11<00:15,  2.91it/s]\u001b[A\n",
      " 44%|████▍     | 35/79 [00:11<00:15,  2.91it/s]\u001b[A\n",
      " 46%|████▌     | 36/79 [00:12<00:14,  2.91it/s]\u001b[A\n",
      " 47%|████▋     | 37/79 [00:12<00:14,  2.91it/s]\u001b[A\n",
      " 48%|████▊     | 38/79 [00:12<00:14,  2.91it/s]\u001b[A\n",
      " 49%|████▉     | 39/79 [00:13<00:13,  2.91it/s]\u001b[A\n",
      " 51%|█████     | 40/79 [00:13<00:13,  2.91it/s]\u001b[A\n",
      " 52%|█████▏    | 41/79 [00:13<00:13,  2.91it/s]\u001b[A\n",
      " 53%|█████▎    | 42/79 [00:14<00:12,  2.91it/s]\u001b[A\n",
      " 54%|█████▍    | 43/79 [00:14<00:12,  2.91it/s]\u001b[A\n",
      " 56%|█████▌    | 44/79 [00:14<00:12,  2.91it/s]\u001b[A\n",
      " 57%|█████▋    | 45/79 [00:15<00:11,  2.91it/s]\u001b[A\n",
      " 58%|█████▊    | 46/79 [00:15<00:11,  2.91it/s]\u001b[A\n",
      " 59%|█████▉    | 47/79 [00:15<00:10,  2.91it/s]\u001b[A\n",
      " 61%|██████    | 48/79 [00:16<00:10,  2.91it/s]\u001b[A\n",
      " 62%|██████▏   | 49/79 [00:16<00:10,  2.91it/s]\u001b[A\n",
      " 63%|██████▎   | 50/79 [00:16<00:09,  2.91it/s]\u001b[A\n",
      " 65%|██████▍   | 51/79 [00:17<00:09,  2.91it/s]\u001b[A\n",
      " 66%|██████▌   | 52/79 [00:17<00:09,  2.91it/s]\u001b[A\n",
      " 67%|██████▋   | 53/79 [00:17<00:08,  2.91it/s]\u001b[A\n",
      " 68%|██████▊   | 54/79 [00:18<00:08,  2.91it/s]\u001b[A\n",
      " 70%|██████▉   | 55/79 [00:18<00:08,  2.91it/s]\u001b[A\n",
      " 71%|███████   | 56/79 [00:18<00:07,  2.91it/s]\u001b[A\n",
      " 72%|███████▏  | 57/79 [00:19<00:07,  2.91it/s]\u001b[A\n",
      " 73%|███████▎  | 58/79 [00:19<00:07,  2.90it/s]\u001b[A\n",
      " 75%|███████▍  | 59/79 [00:19<00:06,  2.91it/s]\u001b[A\n",
      " 76%|███████▌  | 60/79 [00:20<00:06,  2.91it/s]\u001b[A\n",
      " 77%|███████▋  | 61/79 [00:20<00:06,  2.91it/s]\u001b[A\n",
      " 78%|███████▊  | 62/79 [00:21<00:05,  2.91it/s]\u001b[A\n",
      " 80%|███████▉  | 63/79 [00:21<00:05,  2.91it/s]\u001b[A\n",
      " 81%|████████  | 64/79 [00:21<00:05,  2.91it/s]\u001b[A\n",
      " 82%|████████▏ | 65/79 [00:22<00:04,  2.91it/s]\u001b[A\n",
      " 84%|████████▎ | 66/79 [00:22<00:04,  2.91it/s]\u001b[A\n",
      " 85%|████████▍ | 67/79 [00:22<00:04,  2.91it/s]\u001b[A\n",
      " 86%|████████▌ | 68/79 [00:23<00:03,  2.91it/s]\u001b[A\n",
      " 87%|████████▋ | 69/79 [00:23<00:03,  2.91it/s]\u001b[A\n",
      " 89%|████████▊ | 70/79 [00:23<00:03,  2.91it/s]\u001b[A\n",
      " 90%|████████▉ | 71/79 [00:24<00:02,  2.91it/s]\u001b[A\n",
      " 91%|█████████ | 72/79 [00:24<00:02,  2.91it/s]\u001b[A\n",
      " 92%|█████████▏| 73/79 [00:24<00:02,  2.91it/s]\u001b[A\n",
      " 94%|█████████▎| 74/79 [00:25<00:01,  2.91it/s]\u001b[A\n",
      " 95%|█████████▍| 75/79 [00:25<00:01,  2.91it/s]\u001b[A\n",
      " 96%|█████████▌| 76/79 [00:25<00:01,  2.91it/s]\u001b[A\n",
      " 97%|█████████▋| 77/79 [00:26<00:00,  2.92it/s]\u001b[A\n",
      "                                                       \n",
      " 32%|███▏      | 3136/9800 [1:01:01<1:28:57,  1.25it/s]\n",
      "100%|██████████| 79/79 [00:26<00:00,  2.98it/s]\u001b[A\n",
      "                                               \u001b[A"
     ]
    },
    {
     "name": "stdout",
     "output_type": "stream",
     "text": [
      "{'eval_loss': 3.0143582820892334, 'eval_accuracy': 0.2814, 'eval_runtime': 26.9483, 'eval_samples_per_second': 371.081, 'eval_steps_per_second': 2.932, 'epoch': 32.0}\n"
     ]
    },
    {
     "name": "stderr",
     "output_type": "stream",
     "text": [
      " 32%|███▏      | 3140/9800 [1:01:05<6:56:24,  3.75s/it] "
     ]
    },
    {
     "name": "stdout",
     "output_type": "stream",
     "text": [
      "{'loss': 1.2908, 'grad_norm': 29.954681396484375, 'learning_rate': 1.3591836734693879e-05, 'epoch': 32.04}\n"
     ]
    },
    {
     "name": "stderr",
     "output_type": "stream",
     "text": [
      " 32%|███▏      | 3150/9800 [1:01:14<1:47:04,  1.04it/s]"
     ]
    },
    {
     "name": "stdout",
     "output_type": "stream",
     "text": [
      "{'loss': 1.2033, 'grad_norm': 29.488643646240234, 'learning_rate': 1.3571428571428574e-05, 'epoch': 32.14}\n"
     ]
    },
    {
     "name": "stderr",
     "output_type": "stream",
     "text": [
      " 32%|███▏      | 3160/9800 [1:01:23<1:38:28,  1.12it/s]"
     ]
    },
    {
     "name": "stdout",
     "output_type": "stream",
     "text": [
      "{'loss': 1.2563, 'grad_norm': 30.728801727294922, 'learning_rate': 1.3551020408163267e-05, 'epoch': 32.24}\n"
     ]
    },
    {
     "name": "stderr",
     "output_type": "stream",
     "text": [
      " 32%|███▏      | 3170/9800 [1:01:32<1:38:08,  1.13it/s]"
     ]
    },
    {
     "name": "stdout",
     "output_type": "stream",
     "text": [
      "{'loss': 1.2512, 'grad_norm': 33.2325439453125, 'learning_rate': 1.353061224489796e-05, 'epoch': 32.35}\n"
     ]
    },
    {
     "name": "stderr",
     "output_type": "stream",
     "text": [
      " 32%|███▏      | 3180/9800 [1:01:41<1:38:22,  1.12it/s]"
     ]
    },
    {
     "name": "stdout",
     "output_type": "stream",
     "text": [
      "{'loss': 1.2571, 'grad_norm': 34.68776321411133, 'learning_rate': 1.3510204081632654e-05, 'epoch': 32.45}\n"
     ]
    },
    {
     "name": "stderr",
     "output_type": "stream",
     "text": [
      " 33%|███▎      | 3190/9800 [1:01:50<1:38:08,  1.12it/s]"
     ]
    },
    {
     "name": "stdout",
     "output_type": "stream",
     "text": [
      "{'loss': 1.2933, 'grad_norm': 29.472869873046875, 'learning_rate': 1.3489795918367347e-05, 'epoch': 32.55}\n"
     ]
    },
    {
     "name": "stderr",
     "output_type": "stream",
     "text": [
      " 33%|███▎      | 3200/9800 [1:01:59<1:37:15,  1.13it/s]"
     ]
    },
    {
     "name": "stdout",
     "output_type": "stream",
     "text": [
      "{'loss': 1.3022, 'grad_norm': 38.85358428955078, 'learning_rate': 1.3469387755102042e-05, 'epoch': 32.65}\n"
     ]
    },
    {
     "name": "stderr",
     "output_type": "stream",
     "text": [
      " 33%|███▎      | 3210/9800 [1:02:08<1:37:11,  1.13it/s]"
     ]
    },
    {
     "name": "stdout",
     "output_type": "stream",
     "text": [
      "{'loss': 1.2715, 'grad_norm': 29.58255958557129, 'learning_rate': 1.3448979591836735e-05, 'epoch': 32.76}\n"
     ]
    },
    {
     "name": "stderr",
     "output_type": "stream",
     "text": [
      " 33%|███▎      | 3220/9800 [1:02:16<1:37:11,  1.13it/s]"
     ]
    },
    {
     "name": "stdout",
     "output_type": "stream",
     "text": [
      "{'loss': 1.2916, 'grad_norm': 30.70069694519043, 'learning_rate': 1.3428571428571429e-05, 'epoch': 32.86}\n"
     ]
    },
    {
     "name": "stderr",
     "output_type": "stream",
     "text": [
      " 33%|███▎      | 3230/9800 [1:02:25<1:37:03,  1.13it/s]"
     ]
    },
    {
     "name": "stdout",
     "output_type": "stream",
     "text": [
      "{'loss': 1.3104, 'grad_norm': 31.451526641845703, 'learning_rate': 1.3408163265306125e-05, 'epoch': 32.96}\n"
     ]
    },
    {
     "name": "stderr",
     "output_type": "stream",
     "text": [
      " 33%|███▎      | 3234/9800 [1:02:29<1:27:19,  1.25it/s]\n",
      "  0%|          | 0/79 [00:00<?, ?it/s]\u001b[A\n",
      "  3%|▎         | 2/79 [00:00<00:13,  5.91it/s]\u001b[A\n",
      "  4%|▍         | 3/79 [00:00<00:18,  4.05it/s]\u001b[A\n",
      "  5%|▌         | 4/79 [00:01<00:21,  3.56it/s]\u001b[A\n",
      "  6%|▋         | 5/79 [00:01<00:22,  3.31it/s]\u001b[A\n",
      "  8%|▊         | 6/79 [00:01<00:23,  3.14it/s]\u001b[A\n",
      "  9%|▉         | 7/79 [00:02<00:23,  3.06it/s]\u001b[A\n",
      " 10%|█         | 8/79 [00:02<00:23,  3.03it/s]\u001b[A\n",
      " 11%|█▏        | 9/79 [00:02<00:23,  2.98it/s]\u001b[A\n",
      " 13%|█▎        | 10/79 [00:03<00:23,  2.95it/s]\u001b[A\n",
      " 14%|█▍        | 11/79 [00:03<00:23,  2.95it/s]\u001b[A\n",
      " 15%|█▌        | 12/79 [00:03<00:22,  2.93it/s]\u001b[A\n",
      " 16%|█▋        | 13/79 [00:04<00:22,  2.92it/s]\u001b[A\n",
      " 18%|█▊        | 14/79 [00:04<00:22,  2.92it/s]\u001b[A\n",
      " 19%|█▉        | 15/79 [00:04<00:21,  2.91it/s]\u001b[A\n",
      " 20%|██        | 16/79 [00:05<00:21,  2.91it/s]\u001b[A\n",
      " 22%|██▏       | 17/79 [00:05<00:21,  2.91it/s]\u001b[A\n",
      " 23%|██▎       | 18/79 [00:05<00:20,  2.91it/s]\u001b[A\n",
      " 24%|██▍       | 19/79 [00:06<00:20,  2.91it/s]\u001b[A\n",
      " 25%|██▌       | 20/79 [00:06<00:20,  2.90it/s]\u001b[A\n",
      " 27%|██▋       | 21/79 [00:06<00:19,  2.91it/s]\u001b[A\n",
      " 28%|██▊       | 22/79 [00:07<00:19,  2.91it/s]\u001b[A\n",
      " 29%|██▉       | 23/79 [00:07<00:19,  2.91it/s]\u001b[A\n",
      " 30%|███       | 24/79 [00:07<00:18,  2.90it/s]\u001b[A\n",
      " 32%|███▏      | 25/79 [00:08<00:18,  2.89it/s]\u001b[A\n",
      " 33%|███▎      | 26/79 [00:08<00:18,  2.90it/s]\u001b[A\n",
      " 34%|███▍      | 27/79 [00:08<00:17,  2.90it/s]\u001b[A\n",
      " 35%|███▌      | 28/79 [00:09<00:17,  2.90it/s]\u001b[A\n",
      " 37%|███▋      | 29/79 [00:09<00:17,  2.91it/s]\u001b[A\n",
      " 38%|███▊      | 30/79 [00:09<00:16,  2.90it/s]\u001b[A\n",
      " 39%|███▉      | 31/79 [00:10<00:16,  2.90it/s]\u001b[A\n",
      " 41%|████      | 32/79 [00:10<00:16,  2.91it/s]\u001b[A\n",
      " 42%|████▏     | 33/79 [00:11<00:15,  2.90it/s]\u001b[A\n",
      " 43%|████▎     | 34/79 [00:11<00:15,  2.90it/s]\u001b[A\n",
      " 44%|████▍     | 35/79 [00:11<00:15,  2.90it/s]\u001b[A\n",
      " 46%|████▌     | 36/79 [00:12<00:14,  2.90it/s]\u001b[A\n",
      " 47%|████▋     | 37/79 [00:12<00:14,  2.87it/s]\u001b[A\n",
      " 48%|████▊     | 38/79 [00:12<00:14,  2.87it/s]\u001b[A\n",
      " 49%|████▉     | 39/79 [00:13<00:13,  2.88it/s]\u001b[A"
     ]
    },
    {
     "ename": "KeyboardInterrupt",
     "evalue": "",
     "output_type": "error",
     "traceback": [
      "\u001b[0;31m---------------------------------------------------------------------------\u001b[0m",
      "\u001b[0;31mKeyboardInterrupt\u001b[0m                         Traceback (most recent call last)",
      "\u001b[0;32m/tmp/ipykernel_2364/883871373.py\u001b[0m in \u001b[0;36m<cell line: 1>\u001b[0;34m()\u001b[0m\n\u001b[0;32m----> 1\u001b[0;31m \u001b[0mtrain_results\u001b[0m \u001b[0;34m=\u001b[0m \u001b[0mtrainer\u001b[0m\u001b[0;34m.\u001b[0m\u001b[0mtrain\u001b[0m\u001b[0;34m(\u001b[0m\u001b[0;34m)\u001b[0m\u001b[0;34m\u001b[0m\u001b[0;34m\u001b[0m\u001b[0m\n\u001b[0m\u001b[1;32m      2\u001b[0m \u001b[0mtrainer\u001b[0m\u001b[0;34m.\u001b[0m\u001b[0msave_model\u001b[0m\u001b[0;34m(\u001b[0m\u001b[0;34m)\u001b[0m\u001b[0;34m\u001b[0m\u001b[0;34m\u001b[0m\u001b[0m\n\u001b[1;32m      3\u001b[0m \u001b[0mtrainer\u001b[0m\u001b[0;34m.\u001b[0m\u001b[0mlog_metrics\u001b[0m\u001b[0;34m(\u001b[0m\u001b[0;34m\"train\"\u001b[0m\u001b[0;34m,\u001b[0m \u001b[0mtrain_results\u001b[0m\u001b[0;34m.\u001b[0m\u001b[0mmetrics\u001b[0m\u001b[0;34m)\u001b[0m\u001b[0;34m\u001b[0m\u001b[0;34m\u001b[0m\u001b[0m\n\u001b[1;32m      4\u001b[0m \u001b[0mtrainer\u001b[0m\u001b[0;34m.\u001b[0m\u001b[0msave_metrics\u001b[0m\u001b[0;34m(\u001b[0m\u001b[0;34m\"train\"\u001b[0m\u001b[0;34m,\u001b[0m \u001b[0mtrain_results\u001b[0m\u001b[0;34m.\u001b[0m\u001b[0mmetrics\u001b[0m\u001b[0;34m)\u001b[0m\u001b[0;34m\u001b[0m\u001b[0;34m\u001b[0m\u001b[0m\n\u001b[1;32m      5\u001b[0m \u001b[0mtrainer\u001b[0m\u001b[0;34m.\u001b[0m\u001b[0msave_state\u001b[0m\u001b[0;34m(\u001b[0m\u001b[0;34m)\u001b[0m\u001b[0;34m\u001b[0m\u001b[0;34m\u001b[0m\u001b[0m\n",
      "\u001b[0;32m~/.local/lib/python3.10/site-packages/transformers/trainer.py\u001b[0m in \u001b[0;36mtrain\u001b[0;34m(self, resume_from_checkpoint, trial, ignore_keys_for_eval, **kwargs)\u001b[0m\n\u001b[1;32m   1910\u001b[0m                 \u001b[0mhf_hub_utils\u001b[0m\u001b[0;34m.\u001b[0m\u001b[0menable_progress_bars\u001b[0m\u001b[0;34m(\u001b[0m\u001b[0;34m)\u001b[0m\u001b[0;34m\u001b[0m\u001b[0;34m\u001b[0m\u001b[0m\n\u001b[1;32m   1911\u001b[0m         \u001b[0;32melse\u001b[0m\u001b[0;34m:\u001b[0m\u001b[0;34m\u001b[0m\u001b[0;34m\u001b[0m\u001b[0m\n\u001b[0;32m-> 1912\u001b[0;31m             return inner_training_loop(\n\u001b[0m\u001b[1;32m   1913\u001b[0m                 \u001b[0margs\u001b[0m\u001b[0;34m=\u001b[0m\u001b[0margs\u001b[0m\u001b[0;34m,\u001b[0m\u001b[0;34m\u001b[0m\u001b[0;34m\u001b[0m\u001b[0m\n\u001b[1;32m   1914\u001b[0m                 \u001b[0mresume_from_checkpoint\u001b[0m\u001b[0;34m=\u001b[0m\u001b[0mresume_from_checkpoint\u001b[0m\u001b[0;34m,\u001b[0m\u001b[0;34m\u001b[0m\u001b[0;34m\u001b[0m\u001b[0m\n",
      "\u001b[0;32m~/.local/lib/python3.10/site-packages/transformers/trainer.py\u001b[0m in \u001b[0;36m_inner_training_loop\u001b[0;34m(self, batch_size, args, resume_from_checkpoint, trial, ignore_keys_for_eval)\u001b[0m\n\u001b[1;32m   2343\u001b[0m \u001b[0;34m\u001b[0m\u001b[0m\n\u001b[1;32m   2344\u001b[0m             \u001b[0mself\u001b[0m\u001b[0;34m.\u001b[0m\u001b[0mcontrol\u001b[0m \u001b[0;34m=\u001b[0m \u001b[0mself\u001b[0m\u001b[0;34m.\u001b[0m\u001b[0mcallback_handler\u001b[0m\u001b[0;34m.\u001b[0m\u001b[0mon_epoch_end\u001b[0m\u001b[0;34m(\u001b[0m\u001b[0margs\u001b[0m\u001b[0;34m,\u001b[0m \u001b[0mself\u001b[0m\u001b[0;34m.\u001b[0m\u001b[0mstate\u001b[0m\u001b[0;34m,\u001b[0m \u001b[0mself\u001b[0m\u001b[0;34m.\u001b[0m\u001b[0mcontrol\u001b[0m\u001b[0;34m)\u001b[0m\u001b[0;34m\u001b[0m\u001b[0;34m\u001b[0m\u001b[0m\n\u001b[0;32m-> 2345\u001b[0;31m             \u001b[0mself\u001b[0m\u001b[0;34m.\u001b[0m\u001b[0m_maybe_log_save_evaluate\u001b[0m\u001b[0;34m(\u001b[0m\u001b[0mtr_loss\u001b[0m\u001b[0;34m,\u001b[0m \u001b[0mgrad_norm\u001b[0m\u001b[0;34m,\u001b[0m \u001b[0mmodel\u001b[0m\u001b[0;34m,\u001b[0m \u001b[0mtrial\u001b[0m\u001b[0;34m,\u001b[0m \u001b[0mepoch\u001b[0m\u001b[0;34m,\u001b[0m \u001b[0mignore_keys_for_eval\u001b[0m\u001b[0;34m)\u001b[0m\u001b[0;34m\u001b[0m\u001b[0;34m\u001b[0m\u001b[0m\n\u001b[0m\u001b[1;32m   2346\u001b[0m \u001b[0;34m\u001b[0m\u001b[0m\n\u001b[1;32m   2347\u001b[0m             \u001b[0;32mif\u001b[0m \u001b[0mDebugOption\u001b[0m\u001b[0;34m.\u001b[0m\u001b[0mTPU_METRICS_DEBUG\u001b[0m \u001b[0;32min\u001b[0m \u001b[0mself\u001b[0m\u001b[0;34m.\u001b[0m\u001b[0margs\u001b[0m\u001b[0;34m.\u001b[0m\u001b[0mdebug\u001b[0m\u001b[0;34m:\u001b[0m\u001b[0;34m\u001b[0m\u001b[0;34m\u001b[0m\u001b[0m\n",
      "\u001b[0;32m~/.local/lib/python3.10/site-packages/transformers/trainer.py\u001b[0m in \u001b[0;36m_maybe_log_save_evaluate\u001b[0;34m(self, tr_loss, grad_norm, model, trial, epoch, ignore_keys_for_eval)\u001b[0m\n\u001b[1;32m   2765\u001b[0m         \u001b[0mmetrics\u001b[0m \u001b[0;34m=\u001b[0m \u001b[0;32mNone\u001b[0m\u001b[0;34m\u001b[0m\u001b[0;34m\u001b[0m\u001b[0m\n\u001b[1;32m   2766\u001b[0m         \u001b[0;32mif\u001b[0m \u001b[0mself\u001b[0m\u001b[0;34m.\u001b[0m\u001b[0mcontrol\u001b[0m\u001b[0;34m.\u001b[0m\u001b[0mshould_evaluate\u001b[0m\u001b[0;34m:\u001b[0m\u001b[0;34m\u001b[0m\u001b[0;34m\u001b[0m\u001b[0m\n\u001b[0;32m-> 2767\u001b[0;31m             \u001b[0mmetrics\u001b[0m \u001b[0;34m=\u001b[0m \u001b[0mself\u001b[0m\u001b[0;34m.\u001b[0m\u001b[0m_evaluate\u001b[0m\u001b[0;34m(\u001b[0m\u001b[0mtrial\u001b[0m\u001b[0;34m,\u001b[0m \u001b[0mignore_keys_for_eval\u001b[0m\u001b[0;34m)\u001b[0m\u001b[0;34m\u001b[0m\u001b[0;34m\u001b[0m\u001b[0m\n\u001b[0m\u001b[1;32m   2768\u001b[0m \u001b[0;34m\u001b[0m\u001b[0m\n\u001b[1;32m   2769\u001b[0m         \u001b[0;32mif\u001b[0m \u001b[0mself\u001b[0m\u001b[0;34m.\u001b[0m\u001b[0mcontrol\u001b[0m\u001b[0;34m.\u001b[0m\u001b[0mshould_save\u001b[0m\u001b[0;34m:\u001b[0m\u001b[0;34m\u001b[0m\u001b[0;34m\u001b[0m\u001b[0m\n",
      "\u001b[0;32m~/.local/lib/python3.10/site-packages/transformers/trainer.py\u001b[0m in \u001b[0;36m_evaluate\u001b[0;34m(self, trial, ignore_keys_for_eval, skip_scheduler)\u001b[0m\n\u001b[1;32m   2728\u001b[0m \u001b[0;34m\u001b[0m\u001b[0m\n\u001b[1;32m   2729\u001b[0m     \u001b[0;32mdef\u001b[0m \u001b[0m_evaluate\u001b[0m\u001b[0;34m(\u001b[0m\u001b[0mself\u001b[0m\u001b[0;34m,\u001b[0m \u001b[0mtrial\u001b[0m\u001b[0;34m,\u001b[0m \u001b[0mignore_keys_for_eval\u001b[0m\u001b[0;34m,\u001b[0m \u001b[0mskip_scheduler\u001b[0m\u001b[0;34m=\u001b[0m\u001b[0;32mFalse\u001b[0m\u001b[0;34m)\u001b[0m\u001b[0;34m:\u001b[0m\u001b[0;34m\u001b[0m\u001b[0;34m\u001b[0m\u001b[0m\n\u001b[0;32m-> 2730\u001b[0;31m         \u001b[0mmetrics\u001b[0m \u001b[0;34m=\u001b[0m \u001b[0mself\u001b[0m\u001b[0;34m.\u001b[0m\u001b[0mevaluate\u001b[0m\u001b[0;34m(\u001b[0m\u001b[0mignore_keys\u001b[0m\u001b[0;34m=\u001b[0m\u001b[0mignore_keys_for_eval\u001b[0m\u001b[0;34m)\u001b[0m\u001b[0;34m\u001b[0m\u001b[0;34m\u001b[0m\u001b[0m\n\u001b[0m\u001b[1;32m   2731\u001b[0m         \u001b[0mself\u001b[0m\u001b[0;34m.\u001b[0m\u001b[0m_report_to_hp_search\u001b[0m\u001b[0;34m(\u001b[0m\u001b[0mtrial\u001b[0m\u001b[0;34m,\u001b[0m \u001b[0mself\u001b[0m\u001b[0;34m.\u001b[0m\u001b[0mstate\u001b[0m\u001b[0;34m.\u001b[0m\u001b[0mglobal_step\u001b[0m\u001b[0;34m,\u001b[0m \u001b[0mmetrics\u001b[0m\u001b[0;34m)\u001b[0m\u001b[0;34m\u001b[0m\u001b[0;34m\u001b[0m\u001b[0m\n\u001b[1;32m   2732\u001b[0m \u001b[0;34m\u001b[0m\u001b[0m\n",
      "\u001b[0;32m~/.local/lib/python3.10/site-packages/transformers/trainer.py\u001b[0m in \u001b[0;36mevaluate\u001b[0;34m(self, eval_dataset, ignore_keys, metric_key_prefix)\u001b[0m\n\u001b[1;32m   3607\u001b[0m \u001b[0;34m\u001b[0m\u001b[0m\n\u001b[1;32m   3608\u001b[0m         \u001b[0meval_loop\u001b[0m \u001b[0;34m=\u001b[0m \u001b[0mself\u001b[0m\u001b[0;34m.\u001b[0m\u001b[0mprediction_loop\u001b[0m \u001b[0;32mif\u001b[0m \u001b[0mself\u001b[0m\u001b[0;34m.\u001b[0m\u001b[0margs\u001b[0m\u001b[0;34m.\u001b[0m\u001b[0muse_legacy_prediction_loop\u001b[0m \u001b[0;32melse\u001b[0m \u001b[0mself\u001b[0m\u001b[0;34m.\u001b[0m\u001b[0mevaluation_loop\u001b[0m\u001b[0;34m\u001b[0m\u001b[0;34m\u001b[0m\u001b[0m\n\u001b[0;32m-> 3609\u001b[0;31m         output = eval_loop(\n\u001b[0m\u001b[1;32m   3610\u001b[0m             \u001b[0meval_dataloader\u001b[0m\u001b[0;34m,\u001b[0m\u001b[0;34m\u001b[0m\u001b[0;34m\u001b[0m\u001b[0m\n\u001b[1;32m   3611\u001b[0m             \u001b[0mdescription\u001b[0m\u001b[0;34m=\u001b[0m\u001b[0;34m\"Evaluation\"\u001b[0m\u001b[0;34m,\u001b[0m\u001b[0;34m\u001b[0m\u001b[0;34m\u001b[0m\u001b[0m\n",
      "\u001b[0;32m~/.local/lib/python3.10/site-packages/transformers/trainer.py\u001b[0m in \u001b[0;36mevaluation_loop\u001b[0;34m(self, dataloader, description, prediction_loss_only, ignore_keys, metric_key_prefix)\u001b[0m\n\u001b[1;32m   3782\u001b[0m \u001b[0;34m\u001b[0m\u001b[0m\n\u001b[1;32m   3783\u001b[0m         \u001b[0;31m# Main evaluation loop\u001b[0m\u001b[0;34m\u001b[0m\u001b[0;34m\u001b[0m\u001b[0m\n\u001b[0;32m-> 3784\u001b[0;31m         \u001b[0;32mfor\u001b[0m \u001b[0mstep\u001b[0m\u001b[0;34m,\u001b[0m \u001b[0minputs\u001b[0m \u001b[0;32min\u001b[0m \u001b[0menumerate\u001b[0m\u001b[0;34m(\u001b[0m\u001b[0mdataloader\u001b[0m\u001b[0;34m)\u001b[0m\u001b[0;34m:\u001b[0m\u001b[0;34m\u001b[0m\u001b[0;34m\u001b[0m\u001b[0m\n\u001b[0m\u001b[1;32m   3785\u001b[0m             \u001b[0;31m# Update the observed num examples\u001b[0m\u001b[0;34m\u001b[0m\u001b[0;34m\u001b[0m\u001b[0m\n\u001b[1;32m   3786\u001b[0m             \u001b[0mobserved_batch_size\u001b[0m \u001b[0;34m=\u001b[0m \u001b[0mfind_batch_size\u001b[0m\u001b[0;34m(\u001b[0m\u001b[0minputs\u001b[0m\u001b[0;34m)\u001b[0m\u001b[0;34m\u001b[0m\u001b[0;34m\u001b[0m\u001b[0m\n",
      "\u001b[0;32m~/.local/lib/python3.10/site-packages/accelerate/data_loader.py\u001b[0m in \u001b[0;36m__iter__\u001b[0;34m(self)\u001b[0m\n\u001b[1;32m    460\u001b[0m                 \u001b[0;32mif\u001b[0m \u001b[0mself\u001b[0m\u001b[0;34m.\u001b[0m\u001b[0mdevice\u001b[0m \u001b[0;32mis\u001b[0m \u001b[0;32mnot\u001b[0m \u001b[0;32mNone\u001b[0m\u001b[0;34m:\u001b[0m\u001b[0;34m\u001b[0m\u001b[0;34m\u001b[0m\u001b[0m\n\u001b[1;32m    461\u001b[0m                     \u001b[0mcurrent_batch\u001b[0m \u001b[0;34m=\u001b[0m \u001b[0msend_to_device\u001b[0m\u001b[0;34m(\u001b[0m\u001b[0mcurrent_batch\u001b[0m\u001b[0;34m,\u001b[0m \u001b[0mself\u001b[0m\u001b[0;34m.\u001b[0m\u001b[0mdevice\u001b[0m\u001b[0;34m)\u001b[0m\u001b[0;34m\u001b[0m\u001b[0;34m\u001b[0m\u001b[0m\n\u001b[0;32m--> 462\u001b[0;31m                 \u001b[0mnext_batch\u001b[0m \u001b[0;34m=\u001b[0m \u001b[0mnext\u001b[0m\u001b[0;34m(\u001b[0m\u001b[0mdataloader_iter\u001b[0m\u001b[0;34m)\u001b[0m\u001b[0;34m\u001b[0m\u001b[0;34m\u001b[0m\u001b[0m\n\u001b[0m\u001b[1;32m    463\u001b[0m                 \u001b[0;32mif\u001b[0m \u001b[0mbatch_index\u001b[0m \u001b[0;34m>=\u001b[0m \u001b[0mself\u001b[0m\u001b[0;34m.\u001b[0m\u001b[0mskip_batches\u001b[0m\u001b[0;34m:\u001b[0m\u001b[0;34m\u001b[0m\u001b[0;34m\u001b[0m\u001b[0m\n\u001b[1;32m    464\u001b[0m                     \u001b[0;32myield\u001b[0m \u001b[0mcurrent_batch\u001b[0m\u001b[0;34m\u001b[0m\u001b[0;34m\u001b[0m\u001b[0m\n",
      "\u001b[0;32m/usr/local/lib/python3.10/dist-packages/torch/utils/data/dataloader.py\u001b[0m in \u001b[0;36m__next__\u001b[0;34m(self)\u001b[0m\n\u001b[1;32m    631\u001b[0m                 \u001b[0;31m# TODO(https://github.com/pytorch/pytorch/issues/76750)\u001b[0m\u001b[0;34m\u001b[0m\u001b[0;34m\u001b[0m\u001b[0m\n\u001b[1;32m    632\u001b[0m                 \u001b[0mself\u001b[0m\u001b[0;34m.\u001b[0m\u001b[0m_reset\u001b[0m\u001b[0;34m(\u001b[0m\u001b[0;34m)\u001b[0m  \u001b[0;31m# type: ignore[call-arg]\u001b[0m\u001b[0;34m\u001b[0m\u001b[0;34m\u001b[0m\u001b[0m\n\u001b[0;32m--> 633\u001b[0;31m             \u001b[0mdata\u001b[0m \u001b[0;34m=\u001b[0m \u001b[0mself\u001b[0m\u001b[0;34m.\u001b[0m\u001b[0m_next_data\u001b[0m\u001b[0;34m(\u001b[0m\u001b[0;34m)\u001b[0m\u001b[0;34m\u001b[0m\u001b[0;34m\u001b[0m\u001b[0m\n\u001b[0m\u001b[1;32m    634\u001b[0m             \u001b[0mself\u001b[0m\u001b[0;34m.\u001b[0m\u001b[0m_num_yielded\u001b[0m \u001b[0;34m+=\u001b[0m \u001b[0;36m1\u001b[0m\u001b[0;34m\u001b[0m\u001b[0;34m\u001b[0m\u001b[0m\n\u001b[1;32m    635\u001b[0m             \u001b[0;32mif\u001b[0m \u001b[0mself\u001b[0m\u001b[0;34m.\u001b[0m\u001b[0m_dataset_kind\u001b[0m \u001b[0;34m==\u001b[0m \u001b[0m_DatasetKind\u001b[0m\u001b[0;34m.\u001b[0m\u001b[0mIterable\u001b[0m \u001b[0;32mand\u001b[0m\u001b[0;31m \u001b[0m\u001b[0;31m\\\u001b[0m\u001b[0;34m\u001b[0m\u001b[0;34m\u001b[0m\u001b[0m\n",
      "\u001b[0;32m/usr/local/lib/python3.10/dist-packages/torch/utils/data/dataloader.py\u001b[0m in \u001b[0;36m_next_data\u001b[0;34m(self)\u001b[0m\n\u001b[1;32m    675\u001b[0m     \u001b[0;32mdef\u001b[0m \u001b[0m_next_data\u001b[0m\u001b[0;34m(\u001b[0m\u001b[0mself\u001b[0m\u001b[0;34m)\u001b[0m\u001b[0;34m:\u001b[0m\u001b[0;34m\u001b[0m\u001b[0;34m\u001b[0m\u001b[0m\n\u001b[1;32m    676\u001b[0m         \u001b[0mindex\u001b[0m \u001b[0;34m=\u001b[0m \u001b[0mself\u001b[0m\u001b[0;34m.\u001b[0m\u001b[0m_next_index\u001b[0m\u001b[0;34m(\u001b[0m\u001b[0;34m)\u001b[0m  \u001b[0;31m# may raise StopIteration\u001b[0m\u001b[0;34m\u001b[0m\u001b[0;34m\u001b[0m\u001b[0m\n\u001b[0;32m--> 677\u001b[0;31m         \u001b[0mdata\u001b[0m \u001b[0;34m=\u001b[0m \u001b[0mself\u001b[0m\u001b[0;34m.\u001b[0m\u001b[0m_dataset_fetcher\u001b[0m\u001b[0;34m.\u001b[0m\u001b[0mfetch\u001b[0m\u001b[0;34m(\u001b[0m\u001b[0mindex\u001b[0m\u001b[0;34m)\u001b[0m  \u001b[0;31m# may raise StopIteration\u001b[0m\u001b[0;34m\u001b[0m\u001b[0;34m\u001b[0m\u001b[0m\n\u001b[0m\u001b[1;32m    678\u001b[0m         \u001b[0;32mif\u001b[0m \u001b[0mself\u001b[0m\u001b[0;34m.\u001b[0m\u001b[0m_pin_memory\u001b[0m\u001b[0;34m:\u001b[0m\u001b[0;34m\u001b[0m\u001b[0;34m\u001b[0m\u001b[0m\n\u001b[1;32m    679\u001b[0m             \u001b[0mdata\u001b[0m \u001b[0;34m=\u001b[0m \u001b[0m_utils\u001b[0m\u001b[0;34m.\u001b[0m\u001b[0mpin_memory\u001b[0m\u001b[0;34m.\u001b[0m\u001b[0mpin_memory\u001b[0m\u001b[0;34m(\u001b[0m\u001b[0mdata\u001b[0m\u001b[0;34m,\u001b[0m \u001b[0mself\u001b[0m\u001b[0;34m.\u001b[0m\u001b[0m_pin_memory_device\u001b[0m\u001b[0;34m)\u001b[0m\u001b[0;34m\u001b[0m\u001b[0;34m\u001b[0m\u001b[0m\n",
      "\u001b[0;32m/usr/local/lib/python3.10/dist-packages/torch/utils/data/_utils/fetch.py\u001b[0m in \u001b[0;36mfetch\u001b[0;34m(self, possibly_batched_index)\u001b[0m\n\u001b[1;32m     47\u001b[0m         \u001b[0;32mif\u001b[0m \u001b[0mself\u001b[0m\u001b[0;34m.\u001b[0m\u001b[0mauto_collation\u001b[0m\u001b[0;34m:\u001b[0m\u001b[0;34m\u001b[0m\u001b[0;34m\u001b[0m\u001b[0m\n\u001b[1;32m     48\u001b[0m             \u001b[0;32mif\u001b[0m \u001b[0mhasattr\u001b[0m\u001b[0;34m(\u001b[0m\u001b[0mself\u001b[0m\u001b[0;34m.\u001b[0m\u001b[0mdataset\u001b[0m\u001b[0;34m,\u001b[0m \u001b[0;34m\"__getitems__\"\u001b[0m\u001b[0;34m)\u001b[0m \u001b[0;32mand\u001b[0m \u001b[0mself\u001b[0m\u001b[0;34m.\u001b[0m\u001b[0mdataset\u001b[0m\u001b[0;34m.\u001b[0m\u001b[0m__getitems__\u001b[0m\u001b[0;34m:\u001b[0m\u001b[0;34m\u001b[0m\u001b[0;34m\u001b[0m\u001b[0m\n\u001b[0;32m---> 49\u001b[0;31m                 \u001b[0mdata\u001b[0m \u001b[0;34m=\u001b[0m \u001b[0mself\u001b[0m\u001b[0;34m.\u001b[0m\u001b[0mdataset\u001b[0m\u001b[0;34m.\u001b[0m\u001b[0m__getitems__\u001b[0m\u001b[0;34m(\u001b[0m\u001b[0mpossibly_batched_index\u001b[0m\u001b[0;34m)\u001b[0m\u001b[0;34m\u001b[0m\u001b[0;34m\u001b[0m\u001b[0m\n\u001b[0m\u001b[1;32m     50\u001b[0m             \u001b[0;32melse\u001b[0m\u001b[0;34m:\u001b[0m\u001b[0;34m\u001b[0m\u001b[0;34m\u001b[0m\u001b[0m\n\u001b[1;32m     51\u001b[0m                 \u001b[0mdata\u001b[0m \u001b[0;34m=\u001b[0m \u001b[0;34m[\u001b[0m\u001b[0mself\u001b[0m\u001b[0;34m.\u001b[0m\u001b[0mdataset\u001b[0m\u001b[0;34m[\u001b[0m\u001b[0midx\u001b[0m\u001b[0;34m]\u001b[0m \u001b[0;32mfor\u001b[0m \u001b[0midx\u001b[0m \u001b[0;32min\u001b[0m \u001b[0mpossibly_batched_index\u001b[0m\u001b[0;34m]\u001b[0m\u001b[0;34m\u001b[0m\u001b[0;34m\u001b[0m\u001b[0m\n",
      "\u001b[0;32m~/.local/lib/python3.10/site-packages/datasets/arrow_dataset.py\u001b[0m in \u001b[0;36m__getitems__\u001b[0;34m(self, keys)\u001b[0m\n\u001b[1;32m   2812\u001b[0m     \u001b[0;32mdef\u001b[0m \u001b[0m__getitems__\u001b[0m\u001b[0;34m(\u001b[0m\u001b[0mself\u001b[0m\u001b[0;34m,\u001b[0m \u001b[0mkeys\u001b[0m\u001b[0;34m:\u001b[0m \u001b[0mList\u001b[0m\u001b[0;34m)\u001b[0m \u001b[0;34m->\u001b[0m \u001b[0mList\u001b[0m\u001b[0;34m:\u001b[0m\u001b[0;34m\u001b[0m\u001b[0;34m\u001b[0m\u001b[0m\n\u001b[1;32m   2813\u001b[0m         \u001b[0;34m\"\"\"Can be used to get a batch using a list of integers indices.\"\"\"\u001b[0m\u001b[0;34m\u001b[0m\u001b[0;34m\u001b[0m\u001b[0m\n\u001b[0;32m-> 2814\u001b[0;31m         \u001b[0mbatch\u001b[0m \u001b[0;34m=\u001b[0m \u001b[0mself\u001b[0m\u001b[0;34m.\u001b[0m\u001b[0m__getitem__\u001b[0m\u001b[0;34m(\u001b[0m\u001b[0mkeys\u001b[0m\u001b[0;34m)\u001b[0m\u001b[0;34m\u001b[0m\u001b[0;34m\u001b[0m\u001b[0m\n\u001b[0m\u001b[1;32m   2815\u001b[0m         \u001b[0mn_examples\u001b[0m \u001b[0;34m=\u001b[0m \u001b[0mlen\u001b[0m\u001b[0;34m(\u001b[0m\u001b[0mbatch\u001b[0m\u001b[0;34m[\u001b[0m\u001b[0mnext\u001b[0m\u001b[0;34m(\u001b[0m\u001b[0miter\u001b[0m\u001b[0;34m(\u001b[0m\u001b[0mbatch\u001b[0m\u001b[0;34m)\u001b[0m\u001b[0;34m)\u001b[0m\u001b[0;34m]\u001b[0m\u001b[0;34m)\u001b[0m\u001b[0;34m\u001b[0m\u001b[0;34m\u001b[0m\u001b[0m\n\u001b[1;32m   2816\u001b[0m         \u001b[0;32mreturn\u001b[0m \u001b[0;34m[\u001b[0m\u001b[0;34m{\u001b[0m\u001b[0mcol\u001b[0m\u001b[0;34m:\u001b[0m \u001b[0marray\u001b[0m\u001b[0;34m[\u001b[0m\u001b[0mi\u001b[0m\u001b[0;34m]\u001b[0m \u001b[0;32mfor\u001b[0m \u001b[0mcol\u001b[0m\u001b[0;34m,\u001b[0m \u001b[0marray\u001b[0m \u001b[0;32min\u001b[0m \u001b[0mbatch\u001b[0m\u001b[0;34m.\u001b[0m\u001b[0mitems\u001b[0m\u001b[0;34m(\u001b[0m\u001b[0;34m)\u001b[0m\u001b[0;34m}\u001b[0m \u001b[0;32mfor\u001b[0m \u001b[0mi\u001b[0m \u001b[0;32min\u001b[0m \u001b[0mrange\u001b[0m\u001b[0;34m(\u001b[0m\u001b[0mn_examples\u001b[0m\u001b[0;34m)\u001b[0m\u001b[0;34m]\u001b[0m\u001b[0;34m\u001b[0m\u001b[0;34m\u001b[0m\u001b[0m\n",
      "\u001b[0;32m~/.local/lib/python3.10/site-packages/datasets/arrow_dataset.py\u001b[0m in \u001b[0;36m__getitem__\u001b[0;34m(self, key)\u001b[0m\n\u001b[1;32m   2808\u001b[0m     \u001b[0;32mdef\u001b[0m \u001b[0m__getitem__\u001b[0m\u001b[0;34m(\u001b[0m\u001b[0mself\u001b[0m\u001b[0;34m,\u001b[0m \u001b[0mkey\u001b[0m\u001b[0;34m)\u001b[0m\u001b[0;34m:\u001b[0m  \u001b[0;31m# noqa: F811\u001b[0m\u001b[0;34m\u001b[0m\u001b[0;34m\u001b[0m\u001b[0m\n\u001b[1;32m   2809\u001b[0m         \u001b[0;34m\"\"\"Can be used to index columns (by string names) or rows (by integer index or iterable of indices or bools).\"\"\"\u001b[0m\u001b[0;34m\u001b[0m\u001b[0;34m\u001b[0m\u001b[0m\n\u001b[0;32m-> 2810\u001b[0;31m         \u001b[0;32mreturn\u001b[0m \u001b[0mself\u001b[0m\u001b[0;34m.\u001b[0m\u001b[0m_getitem\u001b[0m\u001b[0;34m(\u001b[0m\u001b[0mkey\u001b[0m\u001b[0;34m)\u001b[0m\u001b[0;34m\u001b[0m\u001b[0;34m\u001b[0m\u001b[0m\n\u001b[0m\u001b[1;32m   2811\u001b[0m \u001b[0;34m\u001b[0m\u001b[0m\n\u001b[1;32m   2812\u001b[0m     \u001b[0;32mdef\u001b[0m \u001b[0m__getitems__\u001b[0m\u001b[0;34m(\u001b[0m\u001b[0mself\u001b[0m\u001b[0;34m,\u001b[0m \u001b[0mkeys\u001b[0m\u001b[0;34m:\u001b[0m \u001b[0mList\u001b[0m\u001b[0;34m)\u001b[0m \u001b[0;34m->\u001b[0m \u001b[0mList\u001b[0m\u001b[0;34m:\u001b[0m\u001b[0;34m\u001b[0m\u001b[0;34m\u001b[0m\u001b[0m\n",
      "\u001b[0;32m~/.local/lib/python3.10/site-packages/datasets/arrow_dataset.py\u001b[0m in \u001b[0;36m_getitem\u001b[0;34m(self, key, **kwargs)\u001b[0m\n\u001b[1;32m   2793\u001b[0m         \u001b[0mformatter\u001b[0m \u001b[0;34m=\u001b[0m \u001b[0mget_formatter\u001b[0m\u001b[0;34m(\u001b[0m\u001b[0mformat_type\u001b[0m\u001b[0;34m,\u001b[0m \u001b[0mfeatures\u001b[0m\u001b[0;34m=\u001b[0m\u001b[0mself\u001b[0m\u001b[0;34m.\u001b[0m\u001b[0m_info\u001b[0m\u001b[0;34m.\u001b[0m\u001b[0mfeatures\u001b[0m\u001b[0;34m,\u001b[0m \u001b[0;34m**\u001b[0m\u001b[0mformat_kwargs\u001b[0m\u001b[0;34m)\u001b[0m\u001b[0;34m\u001b[0m\u001b[0;34m\u001b[0m\u001b[0m\n\u001b[1;32m   2794\u001b[0m         \u001b[0mpa_subtable\u001b[0m \u001b[0;34m=\u001b[0m \u001b[0mquery_table\u001b[0m\u001b[0;34m(\u001b[0m\u001b[0mself\u001b[0m\u001b[0;34m.\u001b[0m\u001b[0m_data\u001b[0m\u001b[0;34m,\u001b[0m \u001b[0mkey\u001b[0m\u001b[0;34m,\u001b[0m \u001b[0mindices\u001b[0m\u001b[0;34m=\u001b[0m\u001b[0mself\u001b[0m\u001b[0;34m.\u001b[0m\u001b[0m_indices\u001b[0m\u001b[0;34m)\u001b[0m\u001b[0;34m\u001b[0m\u001b[0;34m\u001b[0m\u001b[0m\n\u001b[0;32m-> 2795\u001b[0;31m         formatted_output = format_table(\n\u001b[0m\u001b[1;32m   2796\u001b[0m             \u001b[0mpa_subtable\u001b[0m\u001b[0;34m,\u001b[0m \u001b[0mkey\u001b[0m\u001b[0;34m,\u001b[0m \u001b[0mformatter\u001b[0m\u001b[0;34m=\u001b[0m\u001b[0mformatter\u001b[0m\u001b[0;34m,\u001b[0m \u001b[0mformat_columns\u001b[0m\u001b[0;34m=\u001b[0m\u001b[0mformat_columns\u001b[0m\u001b[0;34m,\u001b[0m \u001b[0moutput_all_columns\u001b[0m\u001b[0;34m=\u001b[0m\u001b[0moutput_all_columns\u001b[0m\u001b[0;34m\u001b[0m\u001b[0;34m\u001b[0m\u001b[0m\n\u001b[1;32m   2797\u001b[0m         )\n",
      "\u001b[0;32m~/.local/lib/python3.10/site-packages/datasets/formatting/formatting.py\u001b[0m in \u001b[0;36mformat_table\u001b[0;34m(table, key, formatter, format_columns, output_all_columns)\u001b[0m\n\u001b[1;32m    627\u001b[0m     \u001b[0mpython_formatter\u001b[0m \u001b[0;34m=\u001b[0m \u001b[0mPythonFormatter\u001b[0m\u001b[0;34m(\u001b[0m\u001b[0mfeatures\u001b[0m\u001b[0;34m=\u001b[0m\u001b[0mformatter\u001b[0m\u001b[0;34m.\u001b[0m\u001b[0mfeatures\u001b[0m\u001b[0;34m)\u001b[0m\u001b[0;34m\u001b[0m\u001b[0;34m\u001b[0m\u001b[0m\n\u001b[1;32m    628\u001b[0m     \u001b[0;32mif\u001b[0m \u001b[0mformat_columns\u001b[0m \u001b[0;32mis\u001b[0m \u001b[0;32mNone\u001b[0m\u001b[0;34m:\u001b[0m\u001b[0;34m\u001b[0m\u001b[0;34m\u001b[0m\u001b[0m\n\u001b[0;32m--> 629\u001b[0;31m         \u001b[0;32mreturn\u001b[0m \u001b[0mformatter\u001b[0m\u001b[0;34m(\u001b[0m\u001b[0mpa_table\u001b[0m\u001b[0;34m,\u001b[0m \u001b[0mquery_type\u001b[0m\u001b[0;34m=\u001b[0m\u001b[0mquery_type\u001b[0m\u001b[0;34m)\u001b[0m\u001b[0;34m\u001b[0m\u001b[0;34m\u001b[0m\u001b[0m\n\u001b[0m\u001b[1;32m    630\u001b[0m     \u001b[0;32melif\u001b[0m \u001b[0mquery_type\u001b[0m \u001b[0;34m==\u001b[0m \u001b[0;34m\"column\"\u001b[0m\u001b[0;34m:\u001b[0m\u001b[0;34m\u001b[0m\u001b[0;34m\u001b[0m\u001b[0m\n\u001b[1;32m    631\u001b[0m         \u001b[0;32mif\u001b[0m \u001b[0mkey\u001b[0m \u001b[0;32min\u001b[0m \u001b[0mformat_columns\u001b[0m\u001b[0;34m:\u001b[0m\u001b[0;34m\u001b[0m\u001b[0;34m\u001b[0m\u001b[0m\n",
      "\u001b[0;32m~/.local/lib/python3.10/site-packages/datasets/formatting/formatting.py\u001b[0m in \u001b[0;36m__call__\u001b[0;34m(self, pa_table, query_type)\u001b[0m\n\u001b[1;32m    398\u001b[0m             \u001b[0;32mreturn\u001b[0m \u001b[0mself\u001b[0m\u001b[0;34m.\u001b[0m\u001b[0mformat_column\u001b[0m\u001b[0;34m(\u001b[0m\u001b[0mpa_table\u001b[0m\u001b[0;34m)\u001b[0m\u001b[0;34m\u001b[0m\u001b[0;34m\u001b[0m\u001b[0m\n\u001b[1;32m    399\u001b[0m         \u001b[0;32melif\u001b[0m \u001b[0mquery_type\u001b[0m \u001b[0;34m==\u001b[0m \u001b[0;34m\"batch\"\u001b[0m\u001b[0;34m:\u001b[0m\u001b[0;34m\u001b[0m\u001b[0;34m\u001b[0m\u001b[0m\n\u001b[0;32m--> 400\u001b[0;31m             \u001b[0;32mreturn\u001b[0m \u001b[0mself\u001b[0m\u001b[0;34m.\u001b[0m\u001b[0mformat_batch\u001b[0m\u001b[0;34m(\u001b[0m\u001b[0mpa_table\u001b[0m\u001b[0;34m)\u001b[0m\u001b[0;34m\u001b[0m\u001b[0;34m\u001b[0m\u001b[0m\n\u001b[0m\u001b[1;32m    401\u001b[0m \u001b[0;34m\u001b[0m\u001b[0m\n\u001b[1;32m    402\u001b[0m     \u001b[0;32mdef\u001b[0m \u001b[0mformat_row\u001b[0m\u001b[0;34m(\u001b[0m\u001b[0mself\u001b[0m\u001b[0;34m,\u001b[0m \u001b[0mpa_table\u001b[0m\u001b[0;34m:\u001b[0m \u001b[0mpa\u001b[0m\u001b[0;34m.\u001b[0m\u001b[0mTable\u001b[0m\u001b[0;34m)\u001b[0m \u001b[0;34m->\u001b[0m \u001b[0mRowFormat\u001b[0m\u001b[0;34m:\u001b[0m\u001b[0;34m\u001b[0m\u001b[0;34m\u001b[0m\u001b[0m\n",
      "\u001b[0;32m~/.local/lib/python3.10/site-packages/datasets/formatting/formatting.py\u001b[0m in \u001b[0;36mformat_batch\u001b[0;34m(self, pa_table)\u001b[0m\n\u001b[1;32m    512\u001b[0m     \u001b[0;32mdef\u001b[0m \u001b[0mformat_batch\u001b[0m\u001b[0;34m(\u001b[0m\u001b[0mself\u001b[0m\u001b[0;34m,\u001b[0m \u001b[0mpa_table\u001b[0m\u001b[0;34m:\u001b[0m \u001b[0mpa\u001b[0m\u001b[0;34m.\u001b[0m\u001b[0mTable\u001b[0m\u001b[0;34m)\u001b[0m \u001b[0;34m->\u001b[0m \u001b[0mdict\u001b[0m\u001b[0;34m:\u001b[0m\u001b[0;34m\u001b[0m\u001b[0;34m\u001b[0m\u001b[0m\n\u001b[1;32m    513\u001b[0m         \u001b[0mbatch\u001b[0m \u001b[0;34m=\u001b[0m \u001b[0mself\u001b[0m\u001b[0;34m.\u001b[0m\u001b[0mpython_arrow_extractor\u001b[0m\u001b[0;34m(\u001b[0m\u001b[0;34m)\u001b[0m\u001b[0;34m.\u001b[0m\u001b[0mextract_batch\u001b[0m\u001b[0;34m(\u001b[0m\u001b[0mpa_table\u001b[0m\u001b[0;34m)\u001b[0m\u001b[0;34m\u001b[0m\u001b[0;34m\u001b[0m\u001b[0m\n\u001b[0;32m--> 514\u001b[0;31m         \u001b[0mbatch\u001b[0m \u001b[0;34m=\u001b[0m \u001b[0mself\u001b[0m\u001b[0;34m.\u001b[0m\u001b[0mpython_features_decoder\u001b[0m\u001b[0;34m.\u001b[0m\u001b[0mdecode_batch\u001b[0m\u001b[0;34m(\u001b[0m\u001b[0mbatch\u001b[0m\u001b[0;34m)\u001b[0m\u001b[0;34m\u001b[0m\u001b[0;34m\u001b[0m\u001b[0m\n\u001b[0m\u001b[1;32m    515\u001b[0m         \u001b[0;32mreturn\u001b[0m \u001b[0mself\u001b[0m\u001b[0;34m.\u001b[0m\u001b[0mtransform\u001b[0m\u001b[0;34m(\u001b[0m\u001b[0mbatch\u001b[0m\u001b[0;34m)\u001b[0m\u001b[0;34m\u001b[0m\u001b[0;34m\u001b[0m\u001b[0m\n\u001b[1;32m    516\u001b[0m \u001b[0;34m\u001b[0m\u001b[0m\n",
      "\u001b[0;32m~/.local/lib/python3.10/site-packages/datasets/formatting/formatting.py\u001b[0m in \u001b[0;36mdecode_batch\u001b[0;34m(self, batch)\u001b[0m\n\u001b[1;32m    219\u001b[0m \u001b[0;34m\u001b[0m\u001b[0m\n\u001b[1;32m    220\u001b[0m     \u001b[0;32mdef\u001b[0m \u001b[0mdecode_batch\u001b[0m\u001b[0;34m(\u001b[0m\u001b[0mself\u001b[0m\u001b[0;34m,\u001b[0m \u001b[0mbatch\u001b[0m\u001b[0;34m:\u001b[0m \u001b[0mdict\u001b[0m\u001b[0;34m)\u001b[0m \u001b[0;34m->\u001b[0m \u001b[0mdict\u001b[0m\u001b[0;34m:\u001b[0m\u001b[0;34m\u001b[0m\u001b[0;34m\u001b[0m\u001b[0m\n\u001b[0;32m--> 221\u001b[0;31m         \u001b[0;32mreturn\u001b[0m \u001b[0mself\u001b[0m\u001b[0;34m.\u001b[0m\u001b[0mfeatures\u001b[0m\u001b[0;34m.\u001b[0m\u001b[0mdecode_batch\u001b[0m\u001b[0;34m(\u001b[0m\u001b[0mbatch\u001b[0m\u001b[0;34m)\u001b[0m \u001b[0;32mif\u001b[0m \u001b[0mself\u001b[0m\u001b[0;34m.\u001b[0m\u001b[0mfeatures\u001b[0m \u001b[0;32melse\u001b[0m \u001b[0mbatch\u001b[0m\u001b[0;34m\u001b[0m\u001b[0;34m\u001b[0m\u001b[0m\n\u001b[0m\u001b[1;32m    222\u001b[0m \u001b[0;34m\u001b[0m\u001b[0m\n\u001b[1;32m    223\u001b[0m \u001b[0;34m\u001b[0m\u001b[0m\n",
      "\u001b[0;32m~/.local/lib/python3.10/site-packages/datasets/features/features.py\u001b[0m in \u001b[0;36mdecode_batch\u001b[0;34m(self, batch, token_per_repo_id)\u001b[0m\n\u001b[1;32m   1981\u001b[0m         \u001b[0;32mfor\u001b[0m \u001b[0mcolumn_name\u001b[0m\u001b[0;34m,\u001b[0m \u001b[0mcolumn\u001b[0m \u001b[0;32min\u001b[0m \u001b[0mbatch\u001b[0m\u001b[0;34m.\u001b[0m\u001b[0mitems\u001b[0m\u001b[0;34m(\u001b[0m\u001b[0;34m)\u001b[0m\u001b[0;34m:\u001b[0m\u001b[0;34m\u001b[0m\u001b[0;34m\u001b[0m\u001b[0m\n\u001b[1;32m   1982\u001b[0m             decoded_batch[column_name] = (\n\u001b[0;32m-> 1983\u001b[0;31m                 [\n\u001b[0m\u001b[1;32m   1984\u001b[0m                     \u001b[0mdecode_nested_example\u001b[0m\u001b[0;34m(\u001b[0m\u001b[0mself\u001b[0m\u001b[0;34m[\u001b[0m\u001b[0mcolumn_name\u001b[0m\u001b[0;34m]\u001b[0m\u001b[0;34m,\u001b[0m \u001b[0mvalue\u001b[0m\u001b[0;34m,\u001b[0m \u001b[0mtoken_per_repo_id\u001b[0m\u001b[0;34m=\u001b[0m\u001b[0mtoken_per_repo_id\u001b[0m\u001b[0;34m)\u001b[0m\u001b[0;34m\u001b[0m\u001b[0;34m\u001b[0m\u001b[0m\n\u001b[1;32m   1985\u001b[0m                     \u001b[0;32mif\u001b[0m \u001b[0mvalue\u001b[0m \u001b[0;32mis\u001b[0m \u001b[0;32mnot\u001b[0m \u001b[0;32mNone\u001b[0m\u001b[0;34m\u001b[0m\u001b[0;34m\u001b[0m\u001b[0m\n",
      "\u001b[0;32m~/.local/lib/python3.10/site-packages/datasets/features/features.py\u001b[0m in \u001b[0;36m<listcomp>\u001b[0;34m(.0)\u001b[0m\n\u001b[1;32m   1982\u001b[0m             decoded_batch[column_name] = (\n\u001b[1;32m   1983\u001b[0m                 [\n\u001b[0;32m-> 1984\u001b[0;31m                     \u001b[0mdecode_nested_example\u001b[0m\u001b[0;34m(\u001b[0m\u001b[0mself\u001b[0m\u001b[0;34m[\u001b[0m\u001b[0mcolumn_name\u001b[0m\u001b[0;34m]\u001b[0m\u001b[0;34m,\u001b[0m \u001b[0mvalue\u001b[0m\u001b[0;34m,\u001b[0m \u001b[0mtoken_per_repo_id\u001b[0m\u001b[0;34m=\u001b[0m\u001b[0mtoken_per_repo_id\u001b[0m\u001b[0;34m)\u001b[0m\u001b[0;34m\u001b[0m\u001b[0;34m\u001b[0m\u001b[0m\n\u001b[0m\u001b[1;32m   1985\u001b[0m                     \u001b[0;32mif\u001b[0m \u001b[0mvalue\u001b[0m \u001b[0;32mis\u001b[0m \u001b[0;32mnot\u001b[0m \u001b[0;32mNone\u001b[0m\u001b[0;34m\u001b[0m\u001b[0;34m\u001b[0m\u001b[0m\n\u001b[1;32m   1986\u001b[0m                     \u001b[0;32melse\u001b[0m \u001b[0;32mNone\u001b[0m\u001b[0;34m\u001b[0m\u001b[0;34m\u001b[0m\u001b[0m\n",
      "\u001b[0;32m~/.local/lib/python3.10/site-packages/datasets/features/features.py\u001b[0m in \u001b[0;36mdecode_nested_example\u001b[0;34m(schema, obj, token_per_repo_id)\u001b[0m\n\u001b[1;32m   1339\u001b[0m         \u001b[0;31m# we pass the token to read and decode files from private repositories in streaming mode\u001b[0m\u001b[0;34m\u001b[0m\u001b[0;34m\u001b[0m\u001b[0m\n\u001b[1;32m   1340\u001b[0m         \u001b[0;32mif\u001b[0m \u001b[0mobj\u001b[0m \u001b[0;32mis\u001b[0m \u001b[0;32mnot\u001b[0m \u001b[0;32mNone\u001b[0m \u001b[0;32mand\u001b[0m \u001b[0mschema\u001b[0m\u001b[0;34m.\u001b[0m\u001b[0mdecode\u001b[0m\u001b[0;34m:\u001b[0m\u001b[0;34m\u001b[0m\u001b[0;34m\u001b[0m\u001b[0m\n\u001b[0;32m-> 1341\u001b[0;31m             \u001b[0;32mreturn\u001b[0m \u001b[0mschema\u001b[0m\u001b[0;34m.\u001b[0m\u001b[0mdecode_example\u001b[0m\u001b[0;34m(\u001b[0m\u001b[0mobj\u001b[0m\u001b[0;34m,\u001b[0m \u001b[0mtoken_per_repo_id\u001b[0m\u001b[0;34m=\u001b[0m\u001b[0mtoken_per_repo_id\u001b[0m\u001b[0;34m)\u001b[0m\u001b[0;34m\u001b[0m\u001b[0;34m\u001b[0m\u001b[0m\n\u001b[0m\u001b[1;32m   1342\u001b[0m     \u001b[0;32mreturn\u001b[0m \u001b[0mobj\u001b[0m\u001b[0;34m\u001b[0m\u001b[0;34m\u001b[0m\u001b[0m\n\u001b[1;32m   1343\u001b[0m \u001b[0;34m\u001b[0m\u001b[0m\n",
      "\u001b[0;32m~/.local/lib/python3.10/site-packages/datasets/features/image.py\u001b[0m in \u001b[0;36mdecode_example\u001b[0;34m(self, value, token_per_repo_id)\u001b[0m\n\u001b[1;32m    183\u001b[0m         \u001b[0;32melse\u001b[0m\u001b[0;34m:\u001b[0m\u001b[0;34m\u001b[0m\u001b[0;34m\u001b[0m\u001b[0m\n\u001b[1;32m    184\u001b[0m             \u001b[0mimage\u001b[0m \u001b[0;34m=\u001b[0m \u001b[0mPIL\u001b[0m\u001b[0;34m.\u001b[0m\u001b[0mImage\u001b[0m\u001b[0;34m.\u001b[0m\u001b[0mopen\u001b[0m\u001b[0;34m(\u001b[0m\u001b[0mBytesIO\u001b[0m\u001b[0;34m(\u001b[0m\u001b[0mbytes_\u001b[0m\u001b[0;34m)\u001b[0m\u001b[0;34m)\u001b[0m\u001b[0;34m\u001b[0m\u001b[0;34m\u001b[0m\u001b[0m\n\u001b[0;32m--> 185\u001b[0;31m         \u001b[0mimage\u001b[0m\u001b[0;34m.\u001b[0m\u001b[0mload\u001b[0m\u001b[0;34m(\u001b[0m\u001b[0;34m)\u001b[0m  \u001b[0;31m# to avoid \"Too many open files\" errors\u001b[0m\u001b[0;34m\u001b[0m\u001b[0;34m\u001b[0m\u001b[0m\n\u001b[0m\u001b[1;32m    186\u001b[0m         \u001b[0;32mreturn\u001b[0m \u001b[0mimage\u001b[0m\u001b[0;34m\u001b[0m\u001b[0;34m\u001b[0m\u001b[0m\n\u001b[1;32m    187\u001b[0m \u001b[0;34m\u001b[0m\u001b[0m\n",
      "\u001b[0;32m/usr/local/lib/python3.10/dist-packages/PIL/ImageFile.py\u001b[0m in \u001b[0;36mload\u001b[0;34m(self)\u001b[0m\n\u001b[1;32m    267\u001b[0m \u001b[0;34m\u001b[0m\u001b[0m\n\u001b[1;32m    268\u001b[0m                             \u001b[0mb\u001b[0m \u001b[0;34m=\u001b[0m \u001b[0mb\u001b[0m \u001b[0;34m+\u001b[0m \u001b[0ms\u001b[0m\u001b[0;34m\u001b[0m\u001b[0;34m\u001b[0m\u001b[0m\n\u001b[0;32m--> 269\u001b[0;31m                             \u001b[0mn\u001b[0m\u001b[0;34m,\u001b[0m \u001b[0merr_code\u001b[0m \u001b[0;34m=\u001b[0m \u001b[0mdecoder\u001b[0m\u001b[0;34m.\u001b[0m\u001b[0mdecode\u001b[0m\u001b[0;34m(\u001b[0m\u001b[0mb\u001b[0m\u001b[0;34m)\u001b[0m\u001b[0;34m\u001b[0m\u001b[0;34m\u001b[0m\u001b[0m\n\u001b[0m\u001b[1;32m    270\u001b[0m                             \u001b[0;32mif\u001b[0m \u001b[0mn\u001b[0m \u001b[0;34m<\u001b[0m \u001b[0;36m0\u001b[0m\u001b[0;34m:\u001b[0m\u001b[0;34m\u001b[0m\u001b[0;34m\u001b[0m\u001b[0m\n\u001b[1;32m    271\u001b[0m                                 \u001b[0;32mbreak\u001b[0m\u001b[0;34m\u001b[0m\u001b[0;34m\u001b[0m\u001b[0m\n",
      "\u001b[0;31mKeyboardInterrupt\u001b[0m: "
     ]
    }
   ],
   "source": [
    "train_results = trainer.train()\n",
    "trainer.save_model()\n",
    "trainer.log_metrics(\"train\", train_results.metrics)\n",
    "trainer.save_metrics(\"train\", train_results.metrics)\n",
    "trainer.save_state()"
   ]
  },
  {
   "cell_type": "code",
   "execution_count": null,
   "metadata": {},
   "outputs": [],
   "source": []
  }
 ],
 "metadata": {
  "kernelspec": {
   "display_name": "DataSphere Kernel",
   "language": "python",
   "name": "python3"
  },
  "language_info": {
   "codemirror_mode": {
    "name": "ipython",
    "version": 3
   },
   "file_extension": ".py",
   "mimetype": "text/x-python",
   "name": "python",
   "nbconvert_exporter": "python",
   "pygments_lexer": "ipython3",
   "version": "3.10.12"
  },
  "widgets": {
   "application/vnd.jupyter.widget-state+json": {
    "state": {},
    "version_major": 2,
    "version_minor": 0
   }
  }
 },
 "nbformat": 4,
 "nbformat_minor": 4
}
